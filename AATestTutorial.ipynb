{
 "cells": [
  {
   "cell_type": "markdown",
   "id": "35b63454542e9139",
   "metadata": {
    "collapsed": false
   },
   "source": [
    "# AA test tutorial \n",
    "AA test is important part of randomized controlled experiment, for example AB test. \n",
    "\n",
    "The objectives of the AA test are to verify the assumption of uniformity of samples as a result of the applied partitioning method, to select the best partition from the available ones, and to verify the applicability of statistical criteria for checking uniformity. \n",
    "\n",
    "For example, there is a hypothesis about the absence of dependence of features on each other. If this hypothesis is not followed, the AA test will fail."
   ]
  },
  {
   "cell_type": "markdown",
   "id": "d55e33194a3247f0",
   "metadata": {
    "collapsed": false
   },
   "source": [
    "<ul>\n",
    "  <li><a href=\"#creation-of-a-new-test-dataset-with-synthetic-data\">Creation of a new test dataset with synthetic data.\n",
    "  <li><a href=\"#one-split-of-aa-test\">One split of AA test.\n",
    "  <li><a href=\"#aa-test\">AA test.\n",
    "  <li><a href=\"#aa-test-with-stratification\">AA test with stratification.\n",
    "</ul>"
   ]
  },
  {
   "cell_type": "code",
   "execution_count": 1,
   "id": "f890151fc64fd3fa",
   "metadata": {
    "ExecuteTime": {
     "end_time": "2024-08-20T11:44:05.771366800Z",
     "start_time": "2024-08-20T11:44:02.712944600Z"
    },
    "collapsed": false
   },
   "outputs": [
    {
     "name": "stderr",
     "output_type": "stream",
     "text": [
      "/home/codespace/.python/current/lib/python3.10/site-packages/tqdm/auto.py:21: TqdmWarning: IProgress not found. Please update jupyter and ipywidgets. See https://ipywidgets.readthedocs.io/en/stable/user_install.html\n",
      "  from .autonotebook import tqdm as notebook_tqdm\n"
     ]
    }
   ],
   "source": [
    "from hypex.dataset import Dataset, InfoRole, TreatmentRole, TargetRole, StratificationRole\n",
    "from hypex import AATest"
   ]
  },
  {
   "cell_type": "markdown",
   "id": "bd8ae5c13f2b538e",
   "metadata": {
    "collapsed": false
   },
   "source": [
    "## Creation of a new test dataset with synthetic data. \n",
    "\n",
    "In order to be able to work with our data in HypEx, first we need to convert it into `dataset`. It is important to mark the data fields by assigning the appropriate `roles`:\n",
    "- FeatureRole: a role for columns that contain features or predictor variables. Our split will be based on them. Applied by default if the role is not specified for the column.\n",
    "- TreatmentRole: a role for columns that show the treatment or intervention.\n",
    "- TargetRole: a role for columns that show the target or outcome variable.\n",
    "- InfoRole: a role for columns that contain information about the data, such as user IDs. "
   ]
  },
  {
   "cell_type": "code",
   "execution_count": 2,
   "id": "70e663c02efb6980",
   "metadata": {
    "ExecuteTime": {
     "end_time": "2024-08-20T11:44:05.861617500Z",
     "start_time": "2024-08-20T11:44:05.755341500Z"
    },
    "collapsed": false
   },
   "outputs": [
    {
     "data": {
      "text/plain": [
       "      user_id  signup_month  treat  pre_spends  post_spends   age gender  \\\n",
       "0           0             0      0       488.0   414.444444   NaN      M   \n",
       "1           1             8      1       512.5   462.222222  26.0    NaN   \n",
       "2           2             7      1       483.0   479.444444  25.0      M   \n",
       "3           3             0      0       501.5   424.333333  39.0      M   \n",
       "4           4             1      1       543.0   514.555556  18.0      F   \n",
       "...       ...           ...    ...         ...          ...   ...    ...   \n",
       "9995     9995            10      1       538.5   450.444444  42.0      M   \n",
       "9996     9996             0      0       500.5   430.888889  26.0      F   \n",
       "9997     9997             3      1       473.0   534.111111  22.0      F   \n",
       "9998     9998             2      1       495.0   523.222222  67.0      F   \n",
       "9999     9999             7      1       508.0   475.888889  38.0      F   \n",
       "\n",
       "        industry  \n",
       "0     E-commerce  \n",
       "1     E-commerce  \n",
       "2      Logistics  \n",
       "3     E-commerce  \n",
       "4     E-commerce  \n",
       "...          ...  \n",
       "9995   Logistics  \n",
       "9996   Logistics  \n",
       "9997  E-commerce  \n",
       "9998  E-commerce  \n",
       "9999  E-commerce  \n",
       "\n",
       "[10000 rows x 8 columns]"
      ]
     },
     "execution_count": 2,
     "metadata": {},
     "output_type": "execute_result"
    }
   ],
   "source": [
    "data = Dataset(\n",
    "    roles={\n",
    "        \"user_id\": InfoRole(int),\n",
    "        \"treat\": TreatmentRole(int),\n",
    "        \"pre_spends\": TargetRole(),\n",
    "        \"post_spends\": TargetRole(),\n",
    "        \"gender\": StratificationRole(str)\n",
    "    }, data=\"data.csv\",\n",
    ")\n",
    "data"
   ]
  },
  {
   "cell_type": "markdown",
   "id": "fb03d99c85e1216d",
   "metadata": {
    "collapsed": false
   },
   "source": [
    "## AA test\n",
    "Then we run the experiment on our prepared dataset, wrapped into ExperimentData. In this case we select one of the pre-assembled pipeline, AA_TEST.\n",
    "We can set the number of iterations for simple execution. In this case the random states are the numbers of each iteration."
   ]
  },
  {
   "cell_type": "code",
   "execution_count": 3,
   "id": "initial_id",
   "metadata": {
    "ExecuteTime": {
     "end_time": "2024-08-20T11:44:17.050608200Z",
     "start_time": "2024-08-20T11:44:05.861617500Z"
    },
    "collapsed": true
   },
   "outputs": [
    {
     "name": "stderr",
     "output_type": "stream",
     "text": [
      "/workspaces/HypEx/hypex/dataset/backends/pandas_backend.py:505: FutureWarning: Downcasting behavior in `replace` is deprecated and will be removed in a future version. To retain the old behavior, explicitly call `result.infer_objects(copy=False)`. To opt-in to the future behavior, set `pd.set_option('future.no_silent_downcasting', True)`\n",
      "  return self.data.replace(to_replace=to_replace, value=value, regex=regex)\n",
      "/workspaces/HypEx/hypex/dataset/backends/pandas_backend.py:505: FutureWarning: The behavior of Series.replace (and DataFrame.replace) with CategoricalDtype is deprecated. In a future version, replace will only be used for cases that preserve the categories. To change the categories, use ser.cat.rename_categories instead.\n",
      "  return self.data.replace(to_replace=to_replace, value=value, regex=regex)\n",
      "/workspaces/HypEx/hypex/dataset/backends/pandas_backend.py:505: FutureWarning: Downcasting behavior in `replace` is deprecated and will be removed in a future version. To retain the old behavior, explicitly call `result.infer_objects(copy=False)`. To opt-in to the future behavior, set `pd.set_option('future.no_silent_downcasting', True)`\n",
      "  return self.data.replace(to_replace=to_replace, value=value, regex=regex)\n",
      "/workspaces/HypEx/hypex/dataset/backends/pandas_backend.py:505: FutureWarning: The behavior of Series.replace (and DataFrame.replace) with CategoricalDtype is deprecated. In a future version, replace will only be used for cases that preserve the categories. To change the categories, use ser.cat.rename_categories instead.\n",
      "  return self.data.replace(to_replace=to_replace, value=value, regex=regex)\n",
      "/workspaces/HypEx/hypex/dataset/backends/pandas_backend.py:505: FutureWarning: The behavior of Series.replace (and DataFrame.replace) with CategoricalDtype is deprecated. In a future version, replace will only be used for cases that preserve the categories. To change the categories, use ser.cat.rename_categories instead.\n",
      "  return self.data.replace(to_replace=to_replace, value=value, regex=regex)\n",
      "/workspaces/HypEx/hypex/dataset/backends/pandas_backend.py:505: FutureWarning: The behavior of Series.replace (and DataFrame.replace) with CategoricalDtype is deprecated. In a future version, replace will only be used for cases that preserve the categories. To change the categories, use ser.cat.rename_categories instead.\n",
      "  return self.data.replace(to_replace=to_replace, value=value, regex=regex)\n"
     ]
    }
   ],
   "source": [
    "aa = AATest(n_iterations=10)\n",
    "res = aa.execute(data)"
   ]
  },
  {
   "cell_type": "code",
   "execution_count": 4,
   "id": "41e9963a",
   "metadata": {
    "ExecuteTime": {
     "end_time": "2024-08-20T11:44:17.125413200Z",
     "start_time": "2024-08-20T11:44:17.054524500Z"
    }
   },
   "outputs": [
    {
     "data": {
      "text/plain": [
       "  TTest aa test KSTest aa test TTest best split KSTest best split  result  \\\n",
       "0        NOT OK         NOT OK               OK                OK  NOT OK   \n",
       "1        NOT OK         NOT OK               OK                OK  NOT OK   \n",
       "\n",
       "       feature    group  \n",
       "0  post_spends  control  \n",
       "1   pre_spends  control  "
      ]
     },
     "execution_count": 4,
     "metadata": {},
     "output_type": "execute_result"
    }
   ],
   "source": [
    "res.resume"
   ]
  },
  {
   "cell_type": "code",
   "execution_count": 4,
   "id": "50ae28a8",
   "metadata": {
    "ExecuteTime": {
     "end_time": "2024-08-20T11:44:17.192762400Z",
     "start_time": "2024-08-20T11:44:17.086893Z"
    }
   },
   "outputs": [
    {
     "ename": "KeyboardInterrupt",
     "evalue": "",
     "output_type": "error",
     "traceback": [
      "\u001b[0;31m---------------------------------------------------------------------------\u001b[0m",
      "\u001b[0;31mKeyboardInterrupt\u001b[0m                         Traceback (most recent call last)",
      "File \u001b[0;32m~/.local/lib/python3.10/site-packages/IPython/core/async_helpers.py:129\u001b[0m, in \u001b[0;36m_pseudo_sync_runner\u001b[0;34m(coro)\u001b[0m\n\u001b[1;32m    121\u001b[0m \u001b[38;5;250m\u001b[39m\u001b[38;5;124;03m\"\"\"\u001b[39;00m\n\u001b[1;32m    122\u001b[0m \u001b[38;5;124;03mA runner that does not really allow async execution, and just advance the coroutine.\u001b[39;00m\n\u001b[1;32m    123\u001b[0m \n\u001b[0;32m   (...)\u001b[0m\n\u001b[1;32m    126\u001b[0m \u001b[38;5;124;03mCredit to Nathaniel Smith\u001b[39;00m\n\u001b[1;32m    127\u001b[0m \u001b[38;5;124;03m\"\"\"\u001b[39;00m\n\u001b[1;32m    128\u001b[0m \u001b[38;5;28;01mtry\u001b[39;00m:\n\u001b[0;32m--> 129\u001b[0m     \u001b[43mcoro\u001b[49m\u001b[38;5;241;43m.\u001b[39;49m\u001b[43msend\u001b[49m\u001b[43m(\u001b[49m\u001b[38;5;28;43;01mNone\u001b[39;49;00m\u001b[43m)\u001b[49m\n\u001b[1;32m    130\u001b[0m \u001b[38;5;28;01mexcept\u001b[39;00m \u001b[38;5;167;01mStopIteration\u001b[39;00m \u001b[38;5;28;01mas\u001b[39;00m exc:\n\u001b[1;32m    131\u001b[0m     \u001b[38;5;28;01mreturn\u001b[39;00m exc\u001b[38;5;241m.\u001b[39mvalue\n",
      "File \u001b[0;32m~/.local/lib/python3.10/site-packages/IPython/core/interactiveshell.py:3284\u001b[0m, in \u001b[0;36mInteractiveShell.run_cell_async\u001b[0;34m(self, raw_cell, store_history, silent, shell_futures, transformed_cell, preprocessing_exc_tuple, cell_id)\u001b[0m\n\u001b[1;32m   3282\u001b[0m \u001b[38;5;28;01mif\u001b[39;00m store_history:\n\u001b[1;32m   3283\u001b[0m     \u001b[38;5;28;01massert\u001b[39;00m \u001b[38;5;28mself\u001b[39m\u001b[38;5;241m.\u001b[39mhistory_manager \u001b[38;5;129;01mis\u001b[39;00m \u001b[38;5;129;01mnot\u001b[39;00m \u001b[38;5;28;01mNone\u001b[39;00m\n\u001b[0;32m-> 3284\u001b[0m     \u001b[38;5;28;43mself\u001b[39;49m\u001b[38;5;241;43m.\u001b[39;49m\u001b[43mhistory_manager\u001b[49m\u001b[38;5;241;43m.\u001b[39;49m\u001b[43mstore_inputs\u001b[49m\u001b[43m(\u001b[49m\u001b[38;5;28;43mself\u001b[39;49m\u001b[38;5;241;43m.\u001b[39;49m\u001b[43mexecution_count\u001b[49m\u001b[43m,\u001b[49m\u001b[43m \u001b[49m\u001b[43mcell\u001b[49m\u001b[43m,\u001b[49m\u001b[43m \u001b[49m\u001b[43mraw_cell\u001b[49m\u001b[43m)\u001b[49m\n\u001b[1;32m   3285\u001b[0m \u001b[38;5;28;01mif\u001b[39;00m \u001b[38;5;129;01mnot\u001b[39;00m silent:\n\u001b[1;32m   3286\u001b[0m     \u001b[38;5;28mself\u001b[39m\u001b[38;5;241m.\u001b[39mlogger\u001b[38;5;241m.\u001b[39mlog(cell, raw_cell)\n",
      "File \u001b[0;32m~/.local/lib/python3.10/site-packages/IPython/core/history.py:792\u001b[0m, in \u001b[0;36mHistoryManager.store_inputs\u001b[0;34m(self, line_num, source, source_raw)\u001b[0m\n\u001b[1;32m    789\u001b[0m \u001b[38;5;28mself\u001b[39m\u001b[38;5;241m.\u001b[39minput_hist_parsed\u001b[38;5;241m.\u001b[39mappend(source)\n\u001b[1;32m    790\u001b[0m \u001b[38;5;28mself\u001b[39m\u001b[38;5;241m.\u001b[39minput_hist_raw\u001b[38;5;241m.\u001b[39mappend(source_raw)\n\u001b[0;32m--> 792\u001b[0m \u001b[38;5;28;01mwith\u001b[39;00m \u001b[38;5;28mself\u001b[39m\u001b[38;5;241m.\u001b[39mdb_input_cache_lock:\n\u001b[1;32m    793\u001b[0m     \u001b[38;5;28mself\u001b[39m\u001b[38;5;241m.\u001b[39mdb_input_cache\u001b[38;5;241m.\u001b[39mappend((line_num, source, source_raw))\n\u001b[1;32m    794\u001b[0m     \u001b[38;5;66;03m# Trigger to flush cache and write to DB.\u001b[39;00m\n",
      "\u001b[0;31mKeyboardInterrupt\u001b[0m: "
     ]
    }
   ],
   "source": [
    "res.aa_score"
   ]
  },
  {
   "cell_type": "code",
   "execution_count": null,
   "id": "cc42c534",
   "metadata": {
    "ExecuteTime": {
     "end_time": "2024-08-20T11:44:17.216388800Z",
     "start_time": "2024-08-20T11:44:17.117118Z"
    }
   },
   "outputs": [
    {
     "data": {
      "text/plain": [
       "      user_id  signup_month  treat  pre_spends  post_spends   age gender  \\\n",
       "0           0             0      0       488.0   414.444444   NaN      M   \n",
       "1           1             8      1       512.5   462.222222  26.0    NaN   \n",
       "2           2             7      1       483.0   479.444444  25.0      M   \n",
       "3           3             0      0       501.5   424.333333  39.0      M   \n",
       "4           4             1      1       543.0   514.555556  18.0      F   \n",
       "...       ...           ...    ...         ...          ...   ...    ...   \n",
       "9995     9995            10      1       538.5   450.444444  42.0      M   \n",
       "9996     9996             0      0       500.5   430.888889  26.0      F   \n",
       "9997     9997             3      1       473.0   534.111111  22.0      F   \n",
       "9998     9998             2      1       495.0   523.222222  67.0      F   \n",
       "9999     9999             7      1       508.0   475.888889  38.0      F   \n",
       "\n",
       "        industry    split  \n",
       "0     E-commerce  control  \n",
       "1     E-commerce     test  \n",
       "2      Logistics     test  \n",
       "3     E-commerce  control  \n",
       "4     E-commerce  control  \n",
       "...          ...      ...  \n",
       "9995   Logistics  control  \n",
       "9996   Logistics  control  \n",
       "9997  E-commerce     test  \n",
       "9998  E-commerce     test  \n",
       "9999  E-commerce  control  \n",
       "\n",
       "[10000 rows x 9 columns]"
      ]
     },
     "execution_count": 9,
     "metadata": {},
     "output_type": "execute_result"
    }
   ],
   "source": [
    "res.best_split"
   ]
  },
  {
   "cell_type": "code",
   "execution_count": null,
   "id": "18351884",
   "metadata": {
    "ExecuteTime": {
     "end_time": "2024-08-20T11:44:17.284427500Z",
     "start_time": "2024-08-20T11:44:17.167025500Z"
    }
   },
   "outputs": [
    {
     "data": {
      "text/plain": [
       "       feature    group TTest pass  TTest p-value KSTest pass  KSTest p-value\n",
       "0   pre_spends  control         OK       0.645746          OK        0.932542\n",
       "1  post_spends  control         OK       0.357727          OK        0.577046"
      ]
     },
     "execution_count": 10,
     "metadata": {},
     "output_type": "execute_result"
    }
   ],
   "source": [
    "res.best_split_statistic"
   ]
  },
  {
   "cell_type": "code",
   "execution_count": null,
   "id": "0da18405",
   "metadata": {
    "ExecuteTime": {
     "end_time": "2024-08-20T11:44:17.326874700Z",
     "start_time": "2024-08-20T11:44:17.202333100Z"
    }
   },
   "outputs": [
    {
     "data": {
      "text/plain": [
       "        splitter_id  pre_spends GroupDifference control mean control  \\\n",
       "0  AASplitter┴rs 0┴                                         487.3801   \n",
       "1  AASplitter┴rs 1┴                                         487.3333   \n",
       "2  AASplitter┴rs 2┴                                         487.0445   \n",
       "3  AASplitter┴rs 3┴                                         486.6742   \n",
       "4  AASplitter┴rs 4┴                                         487.1970   \n",
       "5  AASplitter┴rs 5┴                                         486.8953   \n",
       "6  AASplitter┴rs 6┴                                         487.3100   \n",
       "7  AASplitter┴rs 7┴                                         487.1805   \n",
       "8  AASplitter┴rs 8┴                                         487.3882   \n",
       "9  AASplitter┴rs 9┴                                         487.0735   \n",
       "\n",
       "   pre_spends GroupDifference test mean control  \\\n",
       "0                                      486.8074   \n",
       "1                                      486.8542   \n",
       "2                                      487.1430   \n",
       "3                                      487.5133   \n",
       "4                                      486.9905   \n",
       "5                                      487.2922   \n",
       "6                                      486.8775   \n",
       "7                                      487.0070   \n",
       "8                                      486.7993   \n",
       "9                                      487.1140   \n",
       "\n",
       "   pre_spends GroupDifference difference control  \\\n",
       "0                                        -0.5727   \n",
       "1                                        -0.4791   \n",
       "2                                         0.0985   \n",
       "3                                         0.8391   \n",
       "4                                        -0.2065   \n",
       "5                                         0.3969   \n",
       "6                                        -0.4325   \n",
       "7                                        -0.1735   \n",
       "8                                        -0.5889   \n",
       "9                                         0.0405   \n",
       "\n",
       "   pre_spends GroupDifference difference % control  \\\n",
       "0                                        -0.117506   \n",
       "1                                        -0.098311   \n",
       "2                                         0.020224   \n",
       "3                                         0.172415   \n",
       "4                                        -0.042385   \n",
       "5                                         0.081516   \n",
       "6                                        -0.088753   \n",
       "7                                        -0.035613   \n",
       "8                                        -0.120828   \n",
       "9                                         0.008315   \n",
       "\n",
       "   post_spends GroupDifference control mean control  \\\n",
       "0                                        452.604911   \n",
       "1                                        452.177711   \n",
       "2                                        452.824200   \n",
       "3                                        451.250333   \n",
       "4                                        452.412622   \n",
       "5                                        452.642222   \n",
       "6                                        452.701422   \n",
       "7                                        451.802133   \n",
       "8                                        452.404267   \n",
       "9                                        452.001600   \n",
       "\n",
       "   post_spends GroupDifference test mean control  \\\n",
       "0                                     451.724200   \n",
       "1                                     452.151400   \n",
       "2                                     451.504911   \n",
       "3                                     453.078778   \n",
       "4                                     451.916489   \n",
       "5                                     451.686889   \n",
       "6                                     451.627689   \n",
       "7                                     452.526978   \n",
       "8                                     451.924844   \n",
       "9                                     452.327511   \n",
       "\n",
       "   post_spends GroupDifference difference control  \\\n",
       "0                                       -0.880711   \n",
       "1                                       -0.026311   \n",
       "2                                       -1.319289   \n",
       "3                                        1.828444   \n",
       "4                                       -0.496133   \n",
       "5                                       -0.955333   \n",
       "6                                       -1.073733   \n",
       "7                                        0.724844   \n",
       "8                                       -0.479422   \n",
       "9                                        0.325911   \n",
       "\n",
       "   post_spends GroupDifference difference % control  \\\n",
       "0                                         -0.194587   \n",
       "1                                         -0.005819   \n",
       "2                                         -0.291347   \n",
       "3                                          0.405195   \n",
       "4                                         -0.109664   \n",
       "5                                         -0.211057   \n",
       "6                                         -0.237184   \n",
       "7                                          0.160434   \n",
       "8                                         -0.105972   \n",
       "9                                          0.072104   \n",
       "\n",
       "   treat GroupSizes control size control  ...  \\\n",
       "0                                 5000.0  ...   \n",
       "1                                    NaN  ...   \n",
       "2                                    NaN  ...   \n",
       "3                                    NaN  ...   \n",
       "4                                    NaN  ...   \n",
       "5                                    NaN  ...   \n",
       "6                                    NaN  ...   \n",
       "7                                    NaN  ...   \n",
       "8                                    NaN  ...   \n",
       "9                                    NaN  ...   \n",
       "\n",
       "   post_spends KSTest pass control  mean TTest p-value  mean TTest pass  \\\n",
       "0                            False            0.196474              0.0   \n",
       "1                            False            0.588834              0.0   \n",
       "2                            False            0.444120              0.0   \n",
       "3                            False            0.023258              1.0   \n",
       "4                            False            0.556661              0.0   \n",
       "5                            False            0.259216              0.0   \n",
       "6                            False            0.212447              0.0   \n",
       "7                            False            0.501737              0.0   \n",
       "8                            False            0.330834              0.0   \n",
       "9                            False            0.796888              0.0   \n",
       "\n",
       "   mean KSTest p-value  mean KSTest pass  mean test score  \\\n",
       "0             0.252129               0.5         0.233577   \n",
       "1             0.490752               0.0         0.523446   \n",
       "2             0.452796               0.0         0.449904   \n",
       "3             0.130645               0.0         0.094849   \n",
       "4             0.362782               0.0         0.427409   \n",
       "5             0.399740               0.0         0.352899   \n",
       "6             0.349031               0.0         0.303503   \n",
       "7             0.754794               0.0         0.670441   \n",
       "8             0.392027               0.5         0.371629   \n",
       "9             0.528860               0.0         0.618203   \n",
       "\n",
       "   post_spends GroupSizes control size control  \\\n",
       "0                                          NaN   \n",
       "1                                       5000.0   \n",
       "2                                       5000.0   \n",
       "3                                       5000.0   \n",
       "4                                       5000.0   \n",
       "5                                       5000.0   \n",
       "6                                       5000.0   \n",
       "7                                       5000.0   \n",
       "8                                       5000.0   \n",
       "9                                       5000.0   \n",
       "\n",
       "   post_spends GroupSizes test size control  \\\n",
       "0                                       NaN   \n",
       "1                                    5000.0   \n",
       "2                                    5000.0   \n",
       "3                                    5000.0   \n",
       "4                                    5000.0   \n",
       "5                                    5000.0   \n",
       "6                                    5000.0   \n",
       "7                                    5000.0   \n",
       "8                                    5000.0   \n",
       "9                                    5000.0   \n",
       "\n",
       "   post_spends GroupSizes control size % control  \\\n",
       "0                                            NaN   \n",
       "1                                           50.0   \n",
       "2                                           50.0   \n",
       "3                                           50.0   \n",
       "4                                           50.0   \n",
       "5                                           50.0   \n",
       "6                                           50.0   \n",
       "7                                           50.0   \n",
       "8                                           50.0   \n",
       "9                                           50.0   \n",
       "\n",
       "   post_spends GroupSizes test size % control  \n",
       "0                                         NaN  \n",
       "1                                        50.0  \n",
       "2                                        50.0  \n",
       "3                                        50.0  \n",
       "4                                        50.0  \n",
       "5                                        50.0  \n",
       "6                                        50.0  \n",
       "7                                        50.0  \n",
       "8                                        50.0  \n",
       "9                                        50.0  \n",
       "\n",
       "[10 rows x 30 columns]"
      ]
     },
     "execution_count": 11,
     "metadata": {},
     "output_type": "execute_result"
    }
   ],
   "source": [
    "res.experiments"
   ]
  },
  {
   "cell_type": "markdown",
   "id": "76c81d6d6570d58f",
   "metadata": {
    "collapsed": false
   },
   "source": [
    "# AA Test with random states\n",
    "\n",
    "We can also adjust some of the preset parameters of the experiment by assigning them to the respective params of the experiment. I.e. here we set the range of the random states we want to run our AA test for. "
   ]
  },
  {
   "cell_type": "code",
   "execution_count": null,
   "id": "a6038ed8",
   "metadata": {
    "ExecuteTime": {
     "end_time": "2024-08-20T11:44:21.557518500Z",
     "start_time": "2024-08-20T11:44:17.262100100Z"
    }
   },
   "outputs": [
    {
     "name": "stderr",
     "output_type": "stream",
     "text": [
      "/workspaces/HypEx/hypex/dataset/backends/pandas_backend.py:505: FutureWarning: Downcasting behavior in `replace` is deprecated and will be removed in a future version. To retain the old behavior, explicitly call `result.infer_objects(copy=False)`. To opt-in to the future behavior, set `pd.set_option('future.no_silent_downcasting', True)`\n",
      "  return self.data.replace(to_replace=to_replace, value=value, regex=regex)\n",
      "/workspaces/HypEx/hypex/dataset/backends/pandas_backend.py:505: FutureWarning: The behavior of Series.replace (and DataFrame.replace) with CategoricalDtype is deprecated. In a future version, replace will only be used for cases that preserve the categories. To change the categories, use ser.cat.rename_categories instead.\n",
      "  return self.data.replace(to_replace=to_replace, value=value, regex=regex)\n",
      "/workspaces/HypEx/hypex/dataset/backends/pandas_backend.py:505: FutureWarning: Downcasting behavior in `replace` is deprecated and will be removed in a future version. To retain the old behavior, explicitly call `result.infer_objects(copy=False)`. To opt-in to the future behavior, set `pd.set_option('future.no_silent_downcasting', True)`\n",
      "  return self.data.replace(to_replace=to_replace, value=value, regex=regex)\n",
      "/workspaces/HypEx/hypex/dataset/backends/pandas_backend.py:505: FutureWarning: The behavior of Series.replace (and DataFrame.replace) with CategoricalDtype is deprecated. In a future version, replace will only be used for cases that preserve the categories. To change the categories, use ser.cat.rename_categories instead.\n",
      "  return self.data.replace(to_replace=to_replace, value=value, regex=regex)\n",
      "/workspaces/HypEx/hypex/dataset/backends/pandas_backend.py:505: FutureWarning: The behavior of Series.replace (and DataFrame.replace) with CategoricalDtype is deprecated. In a future version, replace will only be used for cases that preserve the categories. To change the categories, use ser.cat.rename_categories instead.\n",
      "  return self.data.replace(to_replace=to_replace, value=value, regex=regex)\n",
      "/workspaces/HypEx/hypex/dataset/backends/pandas_backend.py:505: FutureWarning: The behavior of Series.replace (and DataFrame.replace) with CategoricalDtype is deprecated. In a future version, replace will only be used for cases that preserve the categories. To change the categories, use ser.cat.rename_categories instead.\n",
      "  return self.data.replace(to_replace=to_replace, value=value, regex=regex)\n"
     ]
    }
   ],
   "source": [
    "aa = AATest(random_states=[56, 72, 2, 43])\n",
    "res = aa.execute(data)"
   ]
  },
  {
   "cell_type": "code",
   "execution_count": 13,
   "id": "6bebccfe9b91ae2e",
   "metadata": {
    "ExecuteTime": {
     "end_time": "2024-08-20T11:44:21.630943500Z",
     "start_time": "2024-08-20T11:44:21.565346100Z"
    },
    "collapsed": false
   },
   "outputs": [
    {
     "data": {
      "text/plain": [
       "  TTest aa test KSTest aa test TTest best split KSTest best split  result  \\\n",
       "0        NOT OK         NOT OK               OK                OK  NOT OK   \n",
       "1        NOT OK         NOT OK               OK                OK  NOT OK   \n",
       "\n",
       "       feature    group  \n",
       "0  post_spends  control  \n",
       "1   pre_spends  control  "
      ]
     },
     "execution_count": 13,
     "metadata": {},
     "output_type": "execute_result"
    }
   ],
   "source": [
    "res.resume"
   ]
  },
  {
   "cell_type": "code",
   "execution_count": 14,
   "id": "2a6d8f9df6978913",
   "metadata": {
    "ExecuteTime": {
     "end_time": "2024-08-20T11:44:21.697899100Z",
     "start_time": "2024-08-20T11:44:21.594933600Z"
    },
    "collapsed": false
   },
   "outputs": [
    {
     "data": {
      "text/plain": [
       "                             pass     score\n",
       "pre_spends TTest control    False  0.652500\n",
       "post_spends TTest control   False  0.645896\n",
       "pre_spends KSTest control   False  0.605599\n",
       "post_spends KSTest control  False  0.533713"
      ]
     },
     "execution_count": 14,
     "metadata": {},
     "output_type": "execute_result"
    }
   ],
   "source": [
    "res.aa_score"
   ]
  },
  {
   "cell_type": "code",
   "execution_count": 15,
   "id": "e318afc40736069d",
   "metadata": {
    "ExecuteTime": {
     "end_time": "2024-08-20T11:44:21.718683Z",
     "start_time": "2024-08-20T11:44:21.623934300Z"
    },
    "collapsed": false
   },
   "outputs": [
    {
     "data": {
      "text/plain": [
       "      user_id  signup_month  treat  pre_spends  post_spends   age gender  \\\n",
       "0           0             0      0       488.0   414.444444   NaN      M   \n",
       "1           1             8      1       512.5   462.222222  26.0    NaN   \n",
       "2           2             7      1       483.0   479.444444  25.0      M   \n",
       "3           3             0      0       501.5   424.333333  39.0      M   \n",
       "4           4             1      1       543.0   514.555556  18.0      F   \n",
       "...       ...           ...    ...         ...          ...   ...    ...   \n",
       "9995     9995            10      1       538.5   450.444444  42.0      M   \n",
       "9996     9996             0      0       500.5   430.888889  26.0      F   \n",
       "9997     9997             3      1       473.0   534.111111  22.0      F   \n",
       "9998     9998             2      1       495.0   523.222222  67.0      F   \n",
       "9999     9999             7      1       508.0   475.888889  38.0      F   \n",
       "\n",
       "        industry    split  \n",
       "0     E-commerce  control  \n",
       "1     E-commerce     test  \n",
       "2      Logistics  control  \n",
       "3     E-commerce     test  \n",
       "4     E-commerce  control  \n",
       "...          ...      ...  \n",
       "9995   Logistics     test  \n",
       "9996   Logistics  control  \n",
       "9997  E-commerce     test  \n",
       "9998  E-commerce     test  \n",
       "9999  E-commerce  control  \n",
       "\n",
       "[10000 rows x 9 columns]"
      ]
     },
     "execution_count": 15,
     "metadata": {},
     "output_type": "execute_result"
    }
   ],
   "source": [
    "res.best_split"
   ]
  },
  {
   "cell_type": "code",
   "execution_count": 16,
   "id": "bd1a332ab687cef",
   "metadata": {
    "ExecuteTime": {
     "end_time": "2024-08-20T11:44:21.792826800Z",
     "start_time": "2024-08-20T11:44:21.654144500Z"
    },
    "collapsed": false
   },
   "outputs": [
    {
     "data": {
      "text/plain": [
       "       feature    group TTest pass  TTest p-value KSTest pass  KSTest p-value\n",
       "0   pre_spends  control         OK       0.519864          OK        0.694583\n",
       "1  post_spends  control         OK       0.998020          OK        0.677788"
      ]
     },
     "execution_count": 16,
     "metadata": {},
     "output_type": "execute_result"
    }
   ],
   "source": [
    "res.best_split_statistic"
   ]
  },
  {
   "cell_type": "code",
   "execution_count": 17,
   "id": "96b29db891fa2462",
   "metadata": {
    "ExecuteTime": {
     "end_time": "2024-08-20T11:44:21.830179300Z",
     "start_time": "2024-08-20T11:44:21.686786500Z"
    },
    "collapsed": false
   },
   "outputs": [
    {
     "data": {
      "text/plain": [
       "         splitter_id  pre_spends GroupDifference control mean control  \\\n",
       "0  AASplitter┴rs 56┴                                         486.7993   \n",
       "1  AASplitter┴rs 72┴                                         486.9723   \n",
       "2   AASplitter┴rs 2┴                                         487.0445   \n",
       "3  AASplitter┴rs 43┴                                         487.3606   \n",
       "\n",
       "   pre_spends GroupDifference test mean control  \\\n",
       "0                                      487.3882   \n",
       "1                                      487.2152   \n",
       "2                                      487.1430   \n",
       "3                                      486.8269   \n",
       "\n",
       "   pre_spends GroupDifference difference control  \\\n",
       "0                                         0.5889   \n",
       "1                                         0.2429   \n",
       "2                                         0.0985   \n",
       "3                                        -0.5337   \n",
       "\n",
       "   pre_spends GroupDifference difference % control  \\\n",
       "0                                         0.120974   \n",
       "1                                         0.049880   \n",
       "2                                         0.020224   \n",
       "3                                        -0.109508   \n",
       "\n",
       "   post_spends GroupDifference control mean control  \\\n",
       "0                                        452.483711   \n",
       "1                                        452.163578   \n",
       "2                                        452.824200   \n",
       "3                                        451.528111   \n",
       "\n",
       "   post_spends GroupDifference test mean control  \\\n",
       "0                                     451.845400   \n",
       "1                                     452.165533   \n",
       "2                                     451.504911   \n",
       "3                                     452.801000   \n",
       "\n",
       "   post_spends GroupDifference difference control  \\\n",
       "0                                       -0.638311   \n",
       "1                                        0.001956   \n",
       "2                                       -1.319289   \n",
       "3                                        1.272889   \n",
       "\n",
       "   post_spends GroupDifference difference % control  \\\n",
       "0                                         -0.141068   \n",
       "1                                          0.000432   \n",
       "2                                         -0.291347   \n",
       "3                                          0.281907   \n",
       "\n",
       "   post_spends GroupSizes control size control  ...  \\\n",
       "0                                         5000  ...   \n",
       "1                                         5000  ...   \n",
       "2                                         5000  ...   \n",
       "3                                         5000  ...   \n",
       "\n",
       "   post_spends TTest pass control  pre_spends KSTest p-value control  \\\n",
       "0                           False                           0.002465   \n",
       "1                           False                           0.694583   \n",
       "2                           False                           0.727866   \n",
       "3                           False                           0.352691   \n",
       "\n",
       "   pre_spends KSTest pass control  post_spends KSTest p-value control  \\\n",
       "0                            True                            0.744274   \n",
       "1                           False                            0.677788   \n",
       "2                           False                            0.177727   \n",
       "3                           False                            0.465358   \n",
       "\n",
       "   post_spends KSTest pass control  mean TTest p-value  mean TTest pass  \\\n",
       "0                            False            0.268336              0.0   \n",
       "1                            False            0.758942              0.0   \n",
       "2                            False            0.444120              0.0   \n",
       "3                            False            0.131809              0.0   \n",
       "\n",
       "   mean KSTest p-value  mean KSTest pass  mean test score  \n",
       "0             0.373370               0.5         0.338359  \n",
       "1             0.686186               0.0         0.710438  \n",
       "2             0.452796               0.0         0.449904  \n",
       "3             0.409024               0.0         0.316619  \n",
       "\n",
       "[4 rows x 26 columns]"
      ]
     },
     "execution_count": 17,
     "metadata": {},
     "output_type": "execute_result"
    }
   ],
   "source": [
    "res.experiments"
   ]
  },
  {
   "cell_type": "markdown",
   "id": "1b37db00a1a4a49f",
   "metadata": {
    "collapsed": false
   },
   "source": [
    "# AA Test with stratification\n",
    "\n",
    "Depending on your requirements it is possible to stratify the data. You can set `stratification=True` and `StratificationRole` in `Dataset` to run it with stratification.  "
   ]
  },
  {
   "cell_type": "code",
   "execution_count": 18,
   "id": "da9ab2f374ce1273",
   "metadata": {
    "ExecuteTime": {
     "end_time": "2024-08-20T11:44:25.460900100Z",
     "start_time": "2024-08-20T11:44:21.735820Z"
    },
    "collapsed": false
   },
   "outputs": [
    {
     "name": "stderr",
     "output_type": "stream",
     "text": [
      "/workspaces/HypEx/hypex/dataset/backends/pandas_backend.py:505: FutureWarning: Downcasting behavior in `replace` is deprecated and will be removed in a future version. To retain the old behavior, explicitly call `result.infer_objects(copy=False)`. To opt-in to the future behavior, set `pd.set_option('future.no_silent_downcasting', True)`\n",
      "  return self.data.replace(to_replace=to_replace, value=value, regex=regex)\n",
      "/workspaces/HypEx/hypex/dataset/backends/pandas_backend.py:505: FutureWarning: The behavior of Series.replace (and DataFrame.replace) with CategoricalDtype is deprecated. In a future version, replace will only be used for cases that preserve the categories. To change the categories, use ser.cat.rename_categories instead.\n",
      "  return self.data.replace(to_replace=to_replace, value=value, regex=regex)\n",
      "/workspaces/HypEx/hypex/dataset/backends/pandas_backend.py:505: FutureWarning: Downcasting behavior in `replace` is deprecated and will be removed in a future version. To retain the old behavior, explicitly call `result.infer_objects(copy=False)`. To opt-in to the future behavior, set `pd.set_option('future.no_silent_downcasting', True)`\n",
      "  return self.data.replace(to_replace=to_replace, value=value, regex=regex)\n",
      "/workspaces/HypEx/hypex/dataset/backends/pandas_backend.py:505: FutureWarning: The behavior of Series.replace (and DataFrame.replace) with CategoricalDtype is deprecated. In a future version, replace will only be used for cases that preserve the categories. To change the categories, use ser.cat.rename_categories instead.\n",
      "  return self.data.replace(to_replace=to_replace, value=value, regex=regex)\n",
      "/workspaces/HypEx/hypex/dataset/backends/pandas_backend.py:505: FutureWarning: The behavior of Series.replace (and DataFrame.replace) with CategoricalDtype is deprecated. In a future version, replace will only be used for cases that preserve the categories. To change the categories, use ser.cat.rename_categories instead.\n",
      "  return self.data.replace(to_replace=to_replace, value=value, regex=regex)\n",
      "/workspaces/HypEx/hypex/dataset/backends/pandas_backend.py:505: FutureWarning: The behavior of Series.replace (and DataFrame.replace) with CategoricalDtype is deprecated. In a future version, replace will only be used for cases that preserve the categories. To change the categories, use ser.cat.rename_categories instead.\n",
      "  return self.data.replace(to_replace=to_replace, value=value, regex=regex)\n"
     ]
    }
   ],
   "source": [
    "aa = AATest(random_states=[56, 72, 2, 43], stratification=True)\n",
    "res = aa.execute(data)"
   ]
  },
  {
   "cell_type": "code",
   "execution_count": 19,
   "id": "fb5bc9076cb36af9",
   "metadata": {
    "ExecuteTime": {
     "end_time": "2024-08-20T11:44:25.520460200Z",
     "start_time": "2024-08-20T11:44:25.465073800Z"
    },
    "collapsed": false
   },
   "outputs": [
    {
     "data": {
      "text/plain": [
       "  TTest aa test KSTest aa test TTest best split KSTest best split  result  \\\n",
       "0        NOT OK         NOT OK               OK                OK  NOT OK   \n",
       "1        NOT OK         NOT OK               OK                OK  NOT OK   \n",
       "\n",
       "       feature    group  \n",
       "0  post_spends  control  \n",
       "1   pre_spends  control  "
      ]
     },
     "execution_count": 19,
     "metadata": {},
     "output_type": "execute_result"
    }
   ],
   "source": [
    "res.resume"
   ]
  },
  {
   "cell_type": "code",
   "execution_count": 20,
   "id": "5eca1aebeb06da2",
   "metadata": {
    "ExecuteTime": {
     "end_time": "2024-08-20T11:44:25.576921Z",
     "start_time": "2024-08-20T11:44:25.495207900Z"
    },
    "collapsed": false
   },
   "outputs": [
    {
     "data": {
      "text/plain": [
       "                             pass     score\n",
       "pre_spends TTest control    False  0.388191\n",
       "post_spends TTest control   False  0.774438\n",
       "pre_spends KSTest control   False  0.728226\n",
       "post_spends KSTest control  False  0.660354"
      ]
     },
     "execution_count": 20,
     "metadata": {},
     "output_type": "execute_result"
    }
   ],
   "source": [
    "res.aa_score"
   ]
  },
  {
   "cell_type": "code",
   "execution_count": 21,
   "id": "4e5730bdf7983f7d",
   "metadata": {
    "ExecuteTime": {
     "end_time": "2024-08-20T11:44:25.653418800Z",
     "start_time": "2024-08-20T11:44:25.523458Z"
    },
    "collapsed": false
   },
   "outputs": [
    {
     "data": {
      "text/plain": [
       "      user_id  signup_month  treat  pre_spends  post_spends   age gender  \\\n",
       "0           0             0      0       488.0   414.444444   NaN      M   \n",
       "1           1             8      1       512.5   462.222222  26.0    NaN   \n",
       "2           2             7      1       483.0   479.444444  25.0      M   \n",
       "3           3             0      0       501.5   424.333333  39.0      M   \n",
       "4           4             1      1       543.0   514.555556  18.0      F   \n",
       "...       ...           ...    ...         ...          ...   ...    ...   \n",
       "9995     9995            10      1       538.5   450.444444  42.0      M   \n",
       "9996     9996             0      0       500.5   430.888889  26.0      F   \n",
       "9997     9997             3      1       473.0   534.111111  22.0      F   \n",
       "9998     9998             2      1       495.0   523.222222  67.0      F   \n",
       "9999     9999             7      1       508.0   475.888889  38.0      F   \n",
       "\n",
       "        industry    split  \n",
       "0     E-commerce  control  \n",
       "1     E-commerce     test  \n",
       "2      Logistics     test  \n",
       "3     E-commerce     test  \n",
       "4     E-commerce  control  \n",
       "...          ...      ...  \n",
       "9995   Logistics      NaN  \n",
       "9996   Logistics      NaN  \n",
       "9997  E-commerce      NaN  \n",
       "9998  E-commerce      NaN  \n",
       "9999  E-commerce      NaN  \n",
       "\n",
       "[10000 rows x 9 columns]"
      ]
     },
     "execution_count": 21,
     "metadata": {},
     "output_type": "execute_result"
    }
   ],
   "source": [
    "res.best_split"
   ]
  },
  {
   "cell_type": "code",
   "execution_count": 22,
   "id": "7cdeba119b04476e",
   "metadata": {
    "ExecuteTime": {
     "end_time": "2024-08-20T11:44:25.683845800Z",
     "start_time": "2024-08-20T11:44:25.556511400Z"
    },
    "collapsed": false
   },
   "outputs": [
    {
     "data": {
      "text/plain": [
       "       feature    group TTest pass  TTest p-value KSTest pass  KSTest p-value\n",
       "0   pre_spends  control         OK       0.384576          OK        0.129368\n",
       "1  post_spends  control         OK       0.801273          OK        0.952433"
      ]
     },
     "execution_count": 22,
     "metadata": {},
     "output_type": "execute_result"
    }
   ],
   "source": [
    "res.best_split_statistic"
   ]
  },
  {
   "cell_type": "code",
   "execution_count": 23,
   "id": "6a63a08bceb2f40a",
   "metadata": {
    "ExecuteTime": {
     "end_time": "2024-08-20T11:44:25.711656300Z",
     "start_time": "2024-08-20T11:44:25.586550900Z"
    },
    "collapsed": false
   },
   "outputs": [
    {
     "data": {
      "text/plain": [
       "                           splitter_id  \\\n",
       "0  AASplitterWithStratification┴rs 56┴   \n",
       "1  AASplitterWithStratification┴rs 72┴   \n",
       "2   AASplitterWithStratification┴rs 2┴   \n",
       "3  AASplitterWithStratification┴rs 43┴   \n",
       "\n",
       "   pre_spends GroupDifference control mean control  \\\n",
       "0                                       487.110444   \n",
       "1                                       486.922667   \n",
       "2                                       487.264000   \n",
       "3                                       487.075889   \n",
       "\n",
       "   pre_spends GroupDifference test mean control  \\\n",
       "0                                    487.082000   \n",
       "1                                    487.269778   \n",
       "2                                    486.928444   \n",
       "3                                    487.116556   \n",
       "\n",
       "   pre_spends GroupDifference difference control  \\\n",
       "0                                      -0.028444   \n",
       "1                                       0.347111   \n",
       "2                                      -0.335556   \n",
       "3                                       0.040667   \n",
       "\n",
       "   pre_spends GroupDifference difference % control  \\\n",
       "0                                        -0.005839   \n",
       "1                                         0.071287   \n",
       "2                                        -0.068865   \n",
       "3                                         0.008349   \n",
       "\n",
       "   post_spends GroupDifference control mean control  \\\n",
       "0                                        452.648938   \n",
       "1                                        452.245679   \n",
       "2                                        451.372173   \n",
       "3                                        451.141432   \n",
       "\n",
       "   post_spends GroupDifference test mean control  \\\n",
       "0                                     451.633506   \n",
       "1                                     452.036765   \n",
       "2                                     452.910272   \n",
       "3                                     453.141012   \n",
       "\n",
       "   post_spends GroupDifference difference control  \\\n",
       "0                                       -1.015432   \n",
       "1                                       -0.208914   \n",
       "2                                        1.538099   \n",
       "3                                        1.999580   \n",
       "\n",
       "   post_spends GroupDifference difference % control  \\\n",
       "0                                         -0.224331   \n",
       "1                                         -0.046195   \n",
       "2                                          0.340761   \n",
       "3                                          0.443227   \n",
       "\n",
       "   post_spends GroupSizes control size control  ...  \\\n",
       "0                                         4500  ...   \n",
       "1                                         4500  ...   \n",
       "2                                         4500  ...   \n",
       "3                                         4500  ...   \n",
       "\n",
       "   post_spends TTest pass control  pre_spends KSTest p-value control  \\\n",
       "0                           False                           0.612183   \n",
       "1                           False                           0.129368   \n",
       "2                           False                           0.085963   \n",
       "3                            True                           0.459584   \n",
       "\n",
       "   pre_spends KSTest pass control  post_spends KSTest p-value control  \\\n",
       "0                           False                            0.491962   \n",
       "1                           False                            0.952433   \n",
       "2                           False                            0.008355   \n",
       "3                           False                            0.105834   \n",
       "\n",
       "   post_spends KSTest pass control  mean TTest p-value  mean TTest pass  \\\n",
       "0                            False            0.582179              0.0   \n",
       "1                            False            0.592924              0.0   \n",
       "2                             True            0.232221              0.0   \n",
       "3                            False            0.467419              0.5   \n",
       "\n",
       "   mean KSTest p-value  mean KSTest pass  mean test score  \n",
       "0             0.552072               0.0         0.562108  \n",
       "1             0.540900               0.0         0.558241  \n",
       "2             0.047159               0.5         0.108846  \n",
       "3             0.282709               0.0         0.344279  \n",
       "\n",
       "[4 rows x 26 columns]"
      ]
     },
     "execution_count": 23,
     "metadata": {},
     "output_type": "execute_result"
    }
   ],
   "source": [
    "res.experiments"
   ]
  },
  {
   "cell_type": "code",
   "execution_count": 24,
   "id": "587db7d839eb75b6",
   "metadata": {
    "ExecuteTime": {
     "end_time": "2024-08-20T11:44:43.951622100Z",
     "start_time": "2024-08-20T11:44:25.646322300Z"
    },
    "collapsed": false
   },
   "outputs": [
    {
     "name": "stderr",
     "output_type": "stream",
     "text": [
      "/workspaces/HypEx/hypex/dataset/backends/pandas_backend.py:505: FutureWarning: Downcasting behavior in `replace` is deprecated and will be removed in a future version. To retain the old behavior, explicitly call `result.infer_objects(copy=False)`. To opt-in to the future behavior, set `pd.set_option('future.no_silent_downcasting', True)`\n",
      "  return self.data.replace(to_replace=to_replace, value=value, regex=regex)\n",
      "/workspaces/HypEx/hypex/dataset/backends/pandas_backend.py:505: FutureWarning: The behavior of Series.replace (and DataFrame.replace) with CategoricalDtype is deprecated. In a future version, replace will only be used for cases that preserve the categories. To change the categories, use ser.cat.rename_categories instead.\n",
      "  return self.data.replace(to_replace=to_replace, value=value, regex=regex)\n",
      "/workspaces/HypEx/hypex/dataset/backends/pandas_backend.py:505: FutureWarning: Downcasting behavior in `replace` is deprecated and will be removed in a future version. To retain the old behavior, explicitly call `result.infer_objects(copy=False)`. To opt-in to the future behavior, set `pd.set_option('future.no_silent_downcasting', True)`\n",
      "  return self.data.replace(to_replace=to_replace, value=value, regex=regex)\n",
      "/workspaces/HypEx/hypex/dataset/backends/pandas_backend.py:505: FutureWarning: The behavior of Series.replace (and DataFrame.replace) with CategoricalDtype is deprecated. In a future version, replace will only be used for cases that preserve the categories. To change the categories, use ser.cat.rename_categories instead.\n",
      "  return self.data.replace(to_replace=to_replace, value=value, regex=regex)\n",
      "/workspaces/HypEx/hypex/dataset/backends/pandas_backend.py:505: FutureWarning: The behavior of Series.replace (and DataFrame.replace) with CategoricalDtype is deprecated. In a future version, replace will only be used for cases that preserve the categories. To change the categories, use ser.cat.rename_categories instead.\n",
      "  return self.data.replace(to_replace=to_replace, value=value, regex=regex)\n",
      "/workspaces/HypEx/hypex/dataset/backends/pandas_backend.py:505: FutureWarning: The behavior of Series.replace (and DataFrame.replace) with CategoricalDtype is deprecated. In a future version, replace will only be used for cases that preserve the categories. To change the categories, use ser.cat.rename_categories instead.\n",
      "  return self.data.replace(to_replace=to_replace, value=value, regex=regex)\n"
     ]
    }
   ],
   "source": [
    "aa = AATest(n_iterations=20)\n",
    "res = aa.execute(data)"
   ]
  },
  {
   "cell_type": "code",
   "execution_count": 25,
   "id": "5e98d5a423b1f2c2",
   "metadata": {
    "ExecuteTime": {
     "end_time": "2024-08-20T11:44:43.980014500Z",
     "start_time": "2024-08-20T11:44:43.960519200Z"
    },
    "collapsed": false
   },
   "outputs": [
    {
     "data": {
      "text/plain": [
       "  TTest aa test KSTest aa test TTest best split KSTest best split  result  \\\n",
       "0        NOT OK         NOT OK               OK                OK  NOT OK   \n",
       "1        NOT OK         NOT OK               OK                OK  NOT OK   \n",
       "\n",
       "       feature    group  \n",
       "0  post_spends  control  \n",
       "1   pre_spends  control  "
      ]
     },
     "execution_count": 25,
     "metadata": {},
     "output_type": "execute_result"
    }
   ],
   "source": [
    "res.resume"
   ]
  },
  {
   "cell_type": "code",
   "execution_count": 26,
   "id": "5f5033c2dd051821",
   "metadata": {
    "ExecuteTime": {
     "end_time": "2024-08-20T11:44:44.026519800Z",
     "start_time": "2024-08-20T11:44:43.969999100Z"
    },
    "collapsed": false
   },
   "outputs": [
    {
     "data": {
      "text/plain": [
       "                             pass     score\n",
       "pre_spends TTest control    False  0.637037\n",
       "post_spends TTest control   False  0.633799\n",
       "pre_spends KSTest control   False  0.604478\n",
       "post_spends KSTest control  False  0.537745"
      ]
     },
     "execution_count": 26,
     "metadata": {},
     "output_type": "execute_result"
    }
   ],
   "source": [
    "res.aa_score"
   ]
  },
  {
   "cell_type": "code",
   "execution_count": 27,
   "id": "eb2a74c7207c24b",
   "metadata": {
    "ExecuteTime": {
     "end_time": "2024-08-20T11:44:44.101686800Z",
     "start_time": "2024-08-20T11:44:43.999228900Z"
    },
    "collapsed": false
   },
   "outputs": [
    {
     "data": {
      "text/plain": [
       "      user_id  signup_month  treat  pre_spends  post_spends   age gender  \\\n",
       "0           0             0      0       488.0   414.444444   NaN      M   \n",
       "1           1             8      1       512.5   462.222222  26.0    NaN   \n",
       "2           2             7      1       483.0   479.444444  25.0      M   \n",
       "3           3             0      0       501.5   424.333333  39.0      M   \n",
       "4           4             1      1       543.0   514.555556  18.0      F   \n",
       "...       ...           ...    ...         ...          ...   ...    ...   \n",
       "9995     9995            10      1       538.5   450.444444  42.0      M   \n",
       "9996     9996             0      0       500.5   430.888889  26.0      F   \n",
       "9997     9997             3      1       473.0   534.111111  22.0      F   \n",
       "9998     9998             2      1       495.0   523.222222  67.0      F   \n",
       "9999     9999             7      1       508.0   475.888889  38.0      F   \n",
       "\n",
       "        industry    split  \n",
       "0     E-commerce     test  \n",
       "1     E-commerce     test  \n",
       "2      Logistics  control  \n",
       "3     E-commerce     test  \n",
       "4     E-commerce  control  \n",
       "...          ...      ...  \n",
       "9995   Logistics     test  \n",
       "9996   Logistics  control  \n",
       "9997  E-commerce     test  \n",
       "9998  E-commerce     test  \n",
       "9999  E-commerce  control  \n",
       "\n",
       "[10000 rows x 9 columns]"
      ]
     },
     "execution_count": 27,
     "metadata": {},
     "output_type": "execute_result"
    }
   ],
   "source": [
    "res.best_split"
   ]
  },
  {
   "cell_type": "code",
   "execution_count": 28,
   "id": "77ca46a0bfa0e70",
   "metadata": {
    "ExecuteTime": {
     "end_time": "2024-08-20T11:44:44.196980200Z",
     "start_time": "2024-08-20T11:44:44.049097900Z"
    },
    "collapsed": false
   },
   "outputs": [
    {
     "data": {
      "text/plain": [
       "       feature    group TTest pass  TTest p-value KSTest pass  KSTest p-value\n",
       "0   pre_spends  control         OK       0.914549          OK        0.577046\n",
       "1  post_spends  control         OK       0.679226          OK        0.480675"
      ]
     },
     "execution_count": 28,
     "metadata": {},
     "output_type": "execute_result"
    }
   ],
   "source": [
    "res.best_split_statistic"
   ]
  },
  {
   "cell_type": "code",
   "execution_count": 29,
   "id": "d8a64e1bcdcdc071",
   "metadata": {
    "ExecuteTime": {
     "end_time": "2024-08-20T11:44:44.223401300Z",
     "start_time": "2024-08-20T11:44:44.079931300Z"
    },
    "collapsed": false
   },
   "outputs": [
    {
     "data": {
      "text/plain": [
       "          splitter_id  pre_spends GroupDifference control mean control  \\\n",
       "0    AASplitter┴rs 0┴                                         487.3801   \n",
       "1    AASplitter┴rs 1┴                                         487.3333   \n",
       "2    AASplitter┴rs 2┴                                         487.0445   \n",
       "3    AASplitter┴rs 3┴                                         486.6742   \n",
       "4    AASplitter┴rs 4┴                                         487.1970   \n",
       "5    AASplitter┴rs 5┴                                         486.8953   \n",
       "6    AASplitter┴rs 6┴                                         487.3100   \n",
       "7    AASplitter┴rs 7┴                                         487.1805   \n",
       "8    AASplitter┴rs 8┴                                         487.3882   \n",
       "9    AASplitter┴rs 9┴                                         487.0735   \n",
       "10  AASplitter┴rs 10┴                                         487.1884   \n",
       "11  AASplitter┴rs 11┴                                         487.2131   \n",
       "12  AASplitter┴rs 12┴                                         487.1250   \n",
       "13  AASplitter┴rs 13┴                                         487.0322   \n",
       "14  AASplitter┴rs 14┴                                         486.7762   \n",
       "15  AASplitter┴rs 15┴                                         486.9192   \n",
       "16  AASplitter┴rs 16┴                                         487.2737   \n",
       "17  AASplitter┴rs 17┴                                         487.2173   \n",
       "18  AASplitter┴rs 18┴                                         486.8449   \n",
       "19  AASplitter┴rs 19┴                                         487.4576   \n",
       "\n",
       "    pre_spends GroupDifference test mean control  \\\n",
       "0                                       486.8074   \n",
       "1                                       486.8542   \n",
       "2                                       487.1430   \n",
       "3                                       487.5133   \n",
       "4                                       486.9905   \n",
       "5                                       487.2922   \n",
       "6                                       486.8775   \n",
       "7                                       487.0070   \n",
       "8                                       486.7993   \n",
       "9                                       487.1140   \n",
       "10                                      486.9991   \n",
       "11                                      486.9744   \n",
       "12                                      487.0625   \n",
       "13                                      487.1553   \n",
       "14                                      487.4113   \n",
       "15                                      487.2683   \n",
       "16                                      486.9138   \n",
       "17                                      486.9702   \n",
       "18                                      487.3426   \n",
       "19                                      486.7299   \n",
       "\n",
       "    pre_spends GroupDifference difference control  \\\n",
       "0                                         -0.5727   \n",
       "1                                         -0.4791   \n",
       "2                                          0.0985   \n",
       "3                                          0.8391   \n",
       "4                                         -0.2065   \n",
       "5                                          0.3969   \n",
       "6                                         -0.4325   \n",
       "7                                         -0.1735   \n",
       "8                                         -0.5889   \n",
       "9                                          0.0405   \n",
       "10                                        -0.1893   \n",
       "11                                        -0.2387   \n",
       "12                                        -0.0625   \n",
       "13                                         0.1231   \n",
       "14                                         0.6351   \n",
       "15                                         0.3491   \n",
       "16                                        -0.3599   \n",
       "17                                        -0.2471   \n",
       "18                                         0.4977   \n",
       "19                                        -0.7277   \n",
       "\n",
       "    pre_spends GroupDifference difference % control  \\\n",
       "0                                         -0.117506   \n",
       "1                                         -0.098311   \n",
       "2                                          0.020224   \n",
       "3                                          0.172415   \n",
       "4                                         -0.042385   \n",
       "5                                          0.081516   \n",
       "6                                         -0.088753   \n",
       "7                                         -0.035613   \n",
       "8                                         -0.120828   \n",
       "9                                          0.008315   \n",
       "10                                        -0.038856   \n",
       "11                                        -0.048993   \n",
       "12                                        -0.012830   \n",
       "13                                         0.025276   \n",
       "14                                         0.130471   \n",
       "15                                         0.071696   \n",
       "16                                        -0.073860   \n",
       "17                                        -0.050717   \n",
       "18                                         0.102230   \n",
       "19                                        -0.149285   \n",
       "\n",
       "    post_spends GroupDifference control mean control  \\\n",
       "0                                         452.604911   \n",
       "1                                         452.177711   \n",
       "2                                         452.824200   \n",
       "3                                         451.250333   \n",
       "4                                         452.412622   \n",
       "5                                         452.642222   \n",
       "6                                         452.701422   \n",
       "7                                         451.802133   \n",
       "8                                         452.404267   \n",
       "9                                         452.001600   \n",
       "10                                        451.817822   \n",
       "11                                        451.854600   \n",
       "12                                        451.890333   \n",
       "13                                        452.562289   \n",
       "14                                        451.563622   \n",
       "15                                        451.855289   \n",
       "16                                        451.545689   \n",
       "17                                        452.077800   \n",
       "18                                        452.303022   \n",
       "19                                        451.973600   \n",
       "\n",
       "    post_spends GroupDifference test mean control  \\\n",
       "0                                      451.724200   \n",
       "1                                      452.151400   \n",
       "2                                      451.504911   \n",
       "3                                      453.078778   \n",
       "4                                      451.916489   \n",
       "5                                      451.686889   \n",
       "6                                      451.627689   \n",
       "7                                      452.526978   \n",
       "8                                      451.924844   \n",
       "9                                      452.327511   \n",
       "10                                     452.511289   \n",
       "11                                     452.474511   \n",
       "12                                     452.438778   \n",
       "13                                     451.766822   \n",
       "14                                     452.765489   \n",
       "15                                     452.473822   \n",
       "16                                     452.783422   \n",
       "17                                     452.251311   \n",
       "18                                     452.026089   \n",
       "19                                     452.355511   \n",
       "\n",
       "    post_spends GroupDifference difference control  \\\n",
       "0                                        -0.880711   \n",
       "1                                        -0.026311   \n",
       "2                                        -1.319289   \n",
       "3                                         1.828444   \n",
       "4                                        -0.496133   \n",
       "5                                        -0.955333   \n",
       "6                                        -1.073733   \n",
       "7                                         0.724844   \n",
       "8                                        -0.479422   \n",
       "9                                         0.325911   \n",
       "10                                        0.693467   \n",
       "11                                        0.619911   \n",
       "12                                        0.548444   \n",
       "13                                       -0.795467   \n",
       "14                                        1.201867   \n",
       "15                                        0.618533   \n",
       "16                                        1.237733   \n",
       "17                                        0.173511   \n",
       "18                                       -0.276933   \n",
       "19                                        0.381911   \n",
       "\n",
       "    post_spends GroupDifference difference % control  \\\n",
       "0                                          -0.194587   \n",
       "1                                          -0.005819   \n",
       "2                                          -0.291347   \n",
       "3                                           0.405195   \n",
       "4                                          -0.109664   \n",
       "5                                          -0.211057   \n",
       "6                                          -0.237184   \n",
       "7                                           0.160434   \n",
       "8                                          -0.105972   \n",
       "9                                           0.072104   \n",
       "10                                          0.153484   \n",
       "11                                          0.137193   \n",
       "12                                          0.121367   \n",
       "13                                         -0.175770   \n",
       "14                                          0.266157   \n",
       "15                                          0.136887   \n",
       "16                                          0.274110   \n",
       "17                                          0.038381   \n",
       "18                                         -0.061227   \n",
       "19                                          0.084499   \n",
       "\n",
       "    post_spends GroupSizes control size control  ...  \\\n",
       "0                                          5000  ...   \n",
       "1                                          5000  ...   \n",
       "2                                          5000  ...   \n",
       "3                                          5000  ...   \n",
       "4                                          5000  ...   \n",
       "5                                          5000  ...   \n",
       "6                                          5000  ...   \n",
       "7                                          5000  ...   \n",
       "8                                          5000  ...   \n",
       "9                                          5000  ...   \n",
       "10                                         5000  ...   \n",
       "11                                         5000  ...   \n",
       "12                                         5000  ...   \n",
       "13                                         5000  ...   \n",
       "14                                         5000  ...   \n",
       "15                                         5000  ...   \n",
       "16                                         5000  ...   \n",
       "17                                         5000  ...   \n",
       "18                                         5000  ...   \n",
       "19                                         5000  ...   \n",
       "\n",
       "    post_spends TTest pass control  pre_spends KSTest p-value control  \\\n",
       "0                            False                           0.023582   \n",
       "1                            False                           0.420964   \n",
       "2                            False                           0.727866   \n",
       "3                             True                           0.177727   \n",
       "4                            False                           0.660939   \n",
       "5                            False                           0.392763   \n",
       "6                            False                           0.170057   \n",
       "7                            False                           0.932542   \n",
       "8                            False                           0.023582   \n",
       "9                            False                           0.577046   \n",
       "10                           False                           0.776418   \n",
       "11                           False                           0.148610   \n",
       "12                           False                           0.776418   \n",
       "13                           False                           0.711289   \n",
       "14                           False                           0.123456   \n",
       "15                           False                           0.807376   \n",
       "16                           False                           0.711289   \n",
       "17                           False                           0.315388   \n",
       "18                           False                           0.315388   \n",
       "19                           False                           0.117744   \n",
       "\n",
       "    pre_spends KSTest pass control  post_spends KSTest p-value control  \\\n",
       "0                             True                            0.480675   \n",
       "1                            False                            0.560541   \n",
       "2                            False                            0.177727   \n",
       "3                            False                            0.083564   \n",
       "4                            False                            0.064626   \n",
       "5                            False                            0.406718   \n",
       "6                            False                            0.528005   \n",
       "7                            False                            0.577046   \n",
       "8                             True                            0.760472   \n",
       "9                            False                            0.480675   \n",
       "10                           False                            0.711289   \n",
       "11                           False                            0.957217   \n",
       "12                           False                            0.392763   \n",
       "13                           False                            0.185666   \n",
       "14                           False                            0.496232   \n",
       "15                           False                            0.836797   \n",
       "16                           False                            0.339945   \n",
       "17                           False                            0.822301   \n",
       "18                           False                            0.450293   \n",
       "19                           False                            0.932542   \n",
       "\n",
       "    post_spends KSTest pass control  mean TTest p-value  mean TTest pass  \\\n",
       "0                             False            0.196474              0.0   \n",
       "1                             False            0.588834              0.0   \n",
       "2                             False            0.444120              0.0   \n",
       "3                             False            0.023258              1.0   \n",
       "4                             False            0.556661              0.0   \n",
       "5                             False            0.259216              0.0   \n",
       "6                             False            0.212447              0.0   \n",
       "7                             False            0.501737              0.0   \n",
       "8                             False            0.330834              0.0   \n",
       "9                             False            0.796888              0.0   \n",
       "10                            False            0.497454              0.0   \n",
       "11                            False            0.479324              0.0   \n",
       "12                            False            0.677493              0.0   \n",
       "13                            False            0.528568              0.0   \n",
       "14                            False            0.109836              0.0   \n",
       "15                            False            0.393782              0.0   \n",
       "16                            False            0.228300              0.0   \n",
       "17                            False            0.669213              0.0   \n",
       "18                            False            0.456291              0.0   \n",
       "19                            False            0.340906              0.0   \n",
       "\n",
       "    mean KSTest p-value  mean KSTest pass  mean test score  \n",
       "0              0.252129               0.5         0.233577  \n",
       "1              0.490752               0.0         0.523446  \n",
       "2              0.452796               0.0         0.449904  \n",
       "3              0.130645               0.0         0.094849  \n",
       "4              0.362782               0.0         0.427409  \n",
       "5              0.399740               0.0         0.352899  \n",
       "6              0.349031               0.0         0.303503  \n",
       "7              0.754794               0.0         0.670441  \n",
       "8              0.392027               0.5         0.371629  \n",
       "9              0.528860               0.0         0.618203  \n",
       "10             0.743853               0.0         0.661720  \n",
       "11             0.552914               0.0         0.528384  \n",
       "12             0.584590               0.0         0.615558  \n",
       "13             0.448478               0.0         0.475174  \n",
       "14             0.309844               0.0         0.243175  \n",
       "15             0.822087               0.0         0.679318  \n",
       "16             0.525617               0.0         0.426511  \n",
       "17             0.568844               0.0         0.602300  \n",
       "18             0.382840               0.0         0.407324  \n",
       "19             0.525143               0.0         0.463731  \n",
       "\n",
       "[20 rows x 26 columns]"
      ]
     },
     "execution_count": 29,
     "metadata": {},
     "output_type": "execute_result"
    }
   ],
   "source": [
    "res.experiments"
   ]
  },
  {
   "cell_type": "code",
   "execution_count": 3,
   "id": "b92cc8a1c4cff6d7",
   "metadata": {
    "ExecuteTime": {
     "end_time": "2024-08-20T11:44:53.267398400Z",
     "start_time": "2024-08-20T11:44:44.126132500Z"
    },
    "collapsed": false
   },
   "outputs": [],
   "source": [
    "aa = AATest(n_iterations=10, sample_size=0.3)\n",
    "res = aa.execute(data)"
   ]
  },
  {
   "cell_type": "code",
   "execution_count": 31,
   "id": "6bc70b4602a73728",
   "metadata": {
    "ExecuteTime": {
     "end_time": "2024-08-20T11:44:53.348684300Z",
     "start_time": "2024-08-20T11:44:53.280015Z"
    },
    "collapsed": false
   },
   "outputs": [
    {
     "data": {
      "text/plain": [
       "  TTest aa test KSTest aa test TTest best split KSTest best split  result  \\\n",
       "0        NOT OK         NOT OK               OK                OK  NOT OK   \n",
       "1        NOT OK         NOT OK               OK                OK  NOT OK   \n",
       "\n",
       "       feature    group  \n",
       "0  post_spends  control  \n",
       "1   pre_spends  control  "
      ]
     },
     "execution_count": 31,
     "metadata": {},
     "output_type": "execute_result"
    }
   ],
   "source": [
    "res.resume"
   ]
  },
  {
   "cell_type": "code",
   "execution_count": 32,
   "id": "6abb8f31d2e1ff8b",
   "metadata": {
    "ExecuteTime": {
     "end_time": "2024-08-20T11:44:53.404219700Z",
     "start_time": "2024-08-20T11:44:53.300049600Z"
    },
    "collapsed": false
   },
   "outputs": [
    {
     "data": {
      "text/plain": [
       "                             pass     score\n",
       "pre_spends TTest control    False  0.579749\n",
       "post_spends TTest control   False  0.596920\n",
       "pre_spends KSTest control   False  0.502231\n",
       "post_spends KSTest control  False  0.662001"
      ]
     },
     "execution_count": 32,
     "metadata": {},
     "output_type": "execute_result"
    }
   ],
   "source": [
    "res.aa_score"
   ]
  },
  {
   "cell_type": "code",
   "execution_count": 33,
   "id": "da256bacda715562",
   "metadata": {
    "ExecuteTime": {
     "end_time": "2024-08-20T11:44:53.467241900Z",
     "start_time": "2024-08-20T11:44:53.334699100Z"
    },
    "collapsed": false
   },
   "outputs": [
    {
     "data": {
      "text/plain": [
       "      user_id  signup_month  treat  pre_spends  post_spends   age gender  \\\n",
       "0           0             0      0       488.0   414.444444   NaN      M   \n",
       "1           1             8      1       512.5   462.222222  26.0    NaN   \n",
       "2           2             7      1       483.0   479.444444  25.0      M   \n",
       "3           3             0      0       501.5   424.333333  39.0      M   \n",
       "4           4             1      1       543.0   514.555556  18.0      F   \n",
       "...       ...           ...    ...         ...          ...   ...    ...   \n",
       "9995     9995            10      1       538.5   450.444444  42.0      M   \n",
       "9996     9996             0      0       500.5   430.888889  26.0      F   \n",
       "9997     9997             3      1       473.0   534.111111  22.0      F   \n",
       "9998     9998             2      1       495.0   523.222222  67.0      F   \n",
       "9999     9999             7      1       508.0   475.888889  38.0      F   \n",
       "\n",
       "        industry    split  \n",
       "0     E-commerce     test  \n",
       "1     E-commerce  control  \n",
       "2      Logistics  control  \n",
       "3     E-commerce  control  \n",
       "4     E-commerce  control  \n",
       "...          ...      ...  \n",
       "9995   Logistics     test  \n",
       "9996   Logistics  control  \n",
       "9997  E-commerce  control  \n",
       "9998  E-commerce     test  \n",
       "9999  E-commerce     test  \n",
       "\n",
       "[10000 rows x 9 columns]"
      ]
     },
     "execution_count": 33,
     "metadata": {},
     "output_type": "execute_result"
    }
   ],
   "source": [
    "res.best_split"
   ]
  },
  {
   "cell_type": "code",
   "execution_count": 34,
   "id": "ab766f462ae739f9",
   "metadata": {
    "ExecuteTime": {
     "end_time": "2024-08-20T11:44:53.542710Z",
     "start_time": "2024-08-20T11:44:53.365464800Z"
    },
    "collapsed": false
   },
   "outputs": [
    {
     "data": {
      "text/plain": [
       "       feature    group TTest pass  TTest p-value KSTest pass  KSTest p-value\n",
       "0   pre_spends  control         OK       0.951336          OK        0.989526\n",
       "1  post_spends  control         OK       0.998897          OK        0.435548"
      ]
     },
     "execution_count": 34,
     "metadata": {},
     "output_type": "execute_result"
    }
   ],
   "source": [
    "res.best_split_statistic"
   ]
  },
  {
   "cell_type": "code",
   "execution_count": 35,
   "id": "72df57c94a3d4f6d",
   "metadata": {
    "ExecuteTime": {
     "end_time": "2024-08-20T11:44:53.570446200Z",
     "start_time": "2024-08-20T11:44:53.396734600Z"
    },
    "collapsed": false
   },
   "outputs": [
    {
     "data": {
      "text/plain": [
       "        splitter_id  pre_spends GroupDifference control mean control  \\\n",
       "0  AASplitter┴rs 0┴                                       487.161882   \n",
       "1  AASplitter┴rs 1┴                                       487.196118   \n",
       "2  AASplitter┴rs 2┴                                       486.974353   \n",
       "3  AASplitter┴rs 3┴                                       487.079294   \n",
       "4  AASplitter┴rs 4┴                                       487.098588   \n",
       "5  AASplitter┴rs 5┴                                       487.077176   \n",
       "6  AASplitter┴rs 6┴                                       487.217882   \n",
       "7  AASplitter┴rs 7┴                                       487.224176   \n",
       "8  AASplitter┴rs 8┴                                       487.102882   \n",
       "9  AASplitter┴rs 9┴                                       487.191588   \n",
       "\n",
       "   pre_spends GroupDifference test mean control  \\\n",
       "0                                    486.707667   \n",
       "1                                    486.513667   \n",
       "2                                    487.770333   \n",
       "3                                    487.175667   \n",
       "4                                    487.066333   \n",
       "5                                    487.187667   \n",
       "6                                    486.390333   \n",
       "7                                    486.354667   \n",
       "8                                    487.042000   \n",
       "9                                    486.539333   \n",
       "\n",
       "   pre_spends GroupDifference difference control  \\\n",
       "0                                      -0.454216   \n",
       "1                                      -0.682451   \n",
       "2                                       0.795980   \n",
       "3                                       0.096373   \n",
       "4                                      -0.032255   \n",
       "5                                       0.110490   \n",
       "6                                      -0.827549   \n",
       "7                                      -0.869510   \n",
       "8                                      -0.060882   \n",
       "9                                      -0.652255   \n",
       "\n",
       "   pre_spends GroupDifference difference % control  \\\n",
       "0                                        -0.093237   \n",
       "1                                        -0.140077   \n",
       "2                                         0.163454   \n",
       "3                                         0.019786   \n",
       "4                                        -0.006622   \n",
       "5                                         0.022684   \n",
       "6                                        -0.169852   \n",
       "7                                        -0.178462   \n",
       "8                                        -0.012499   \n",
       "9                                        -0.133881   \n",
       "\n",
       "   post_spends GroupDifference control mean control  \\\n",
       "0                                        452.127778   \n",
       "1                                        452.346967   \n",
       "2                                        452.136797   \n",
       "3                                        451.983922   \n",
       "4                                        452.164327   \n",
       "5                                        452.579869   \n",
       "6                                        452.316484   \n",
       "7                                        451.953085   \n",
       "8                                        452.058954   \n",
       "9                                        451.952131   \n",
       "\n",
       "   post_spends GroupDifference test mean control  \\\n",
       "0                                     452.372963   \n",
       "1                                     451.130889   \n",
       "2                                     452.321852   \n",
       "3                                     453.188148   \n",
       "4                                     452.165852   \n",
       "5                                     449.811111   \n",
       "6                                     451.303630   \n",
       "7                                     453.362889   \n",
       "8                                     452.762963   \n",
       "9                                     453.368296   \n",
       "\n",
       "   post_spends GroupDifference difference control  \\\n",
       "0                                        0.245185   \n",
       "1                                       -1.216078   \n",
       "2                                        0.185054   \n",
       "3                                        1.204227   \n",
       "4                                        0.001525   \n",
       "5                                       -2.768758   \n",
       "6                                       -1.012854   \n",
       "7                                        1.409804   \n",
       "8                                        0.704009   \n",
       "9                                        1.416166   \n",
       "\n",
       "   post_spends GroupDifference difference % control  \\\n",
       "0                                          0.054229   \n",
       "1                                         -0.268838   \n",
       "2                                          0.040929   \n",
       "3                                          0.266431   \n",
       "4                                          0.000337   \n",
       "5                                         -0.611772   \n",
       "6                                         -0.223926   \n",
       "7                                          0.311936   \n",
       "8                                          0.155734   \n",
       "9                                          0.313344   \n",
       "\n",
       "   post_spends GroupSizes control size control  ...  \\\n",
       "0                                         8500  ...   \n",
       "1                                         8500  ...   \n",
       "2                                         8500  ...   \n",
       "3                                         8500  ...   \n",
       "4                                         8500  ...   \n",
       "5                                         8500  ...   \n",
       "6                                         8500  ...   \n",
       "7                                         8500  ...   \n",
       "8                                         8500  ...   \n",
       "9                                         8500  ...   \n",
       "\n",
       "   post_spends TTest pass control  pre_spends KSTest p-value control  \\\n",
       "0                           False                           0.105393   \n",
       "1                           False                           0.415281   \n",
       "2                           False                           0.156179   \n",
       "3                           False                           0.973579   \n",
       "4                           False                           0.989526   \n",
       "5                            True                           0.936874   \n",
       "6                           False                           0.397518   \n",
       "7                           False                           0.315882   \n",
       "8                           False                           0.751905   \n",
       "9                           False                           0.435548   \n",
       "\n",
       "   pre_spends KSTest pass control  post_spends KSTest p-value control  \\\n",
       "0                           False                            0.960105   \n",
       "1                           False                            0.146561   \n",
       "2                           False                            0.939361   \n",
       "3                           False                            0.170485   \n",
       "4                           False                            0.435548   \n",
       "5                           False                            0.013688   \n",
       "6                           False                            0.585789   \n",
       "7                           False                            0.173681   \n",
       "8                           False                            0.193861   \n",
       "9                           False                            0.260911   \n",
       "\n",
       "   post_spends KSTest pass control  mean TTest p-value  mean TTest pass  \\\n",
       "0                            False            0.607146              0.0   \n",
       "1                            False            0.233545              0.0   \n",
       "2                            False            0.499433              0.0   \n",
       "3                            False            0.565251              0.0   \n",
       "4                            False            0.975117              0.0   \n",
       "5                             True            0.423253              0.5   \n",
       "6                            False            0.238057              0.0   \n",
       "7                            False            0.150670              0.0   \n",
       "8                            False            0.715910              0.0   \n",
       "9                            False            0.208273              0.0   \n",
       "\n",
       "   mean KSTest p-value  mean KSTest pass  mean test score  \n",
       "0             0.532749               0.0         0.557548  \n",
       "1             0.280921               0.0         0.265129  \n",
       "2             0.547770               0.0         0.531658  \n",
       "3             0.572032               0.0         0.569772  \n",
       "4             0.712537               0.0         0.800064  \n",
       "5             0.475281               0.5         0.457938  \n",
       "6             0.491653               0.0         0.407121  \n",
       "7             0.244782               0.0         0.213411  \n",
       "8             0.472883               0.0         0.553892  \n",
       "9             0.348230               0.0         0.301578  \n",
       "\n",
       "[10 rows x 26 columns]"
      ]
     },
     "execution_count": 35,
     "metadata": {},
     "output_type": "execute_result"
    }
   ],
   "source": [
    "res.experiments"
   ]
  }
 ],
 "metadata": {
  "kernelspec": {
   "display_name": "Python 3",
   "language": "python",
   "name": "python3"
  },
  "language_info": {
   "codemirror_mode": {
    "name": "ipython",
    "version": 3
   },
   "file_extension": ".py",
   "mimetype": "text/x-python",
   "name": "python",
   "nbconvert_exporter": "python",
   "pygments_lexer": "ipython3",
   "version": "3.10.13"
  }
 },
 "nbformat": 4,
 "nbformat_minor": 5
}
