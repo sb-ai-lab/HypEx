{
 "cells": [
  {
   "cell_type": "code",
   "execution_count": 1,
   "metadata": {
    "ExecuteTime": {
     "end_time": "2024-06-04T15:48:58.209705200Z",
     "start_time": "2024-06-04T15:48:55.872937600Z"
    },
    "metadata": {}
   },
   "outputs": [
    {
     "name": "stderr",
     "output_type": "stream",
     "text": [
      "c:\\Python312\\Lib\\site-packages\\tqdm\\auto.py:21: TqdmWarning: IProgress not found. Please update jupyter and ipywidgets. See https://ipywidgets.readthedocs.io/en/stable/user_install.html\n",
      "  from .autonotebook import tqdm as notebook_tqdm\n"
     ]
    }
   ],
   "source": [
    "from hypex.dataset import Dataset, ExperimentData, InfoRole, TreatmentRole, TargetRole, StratificationRole\n",
    "from hypex.experiments.aa import ONE_AA_TEST, ONE_AA_TEST_WITH_STRATIFICATION\n",
    "from hypex.reporters import OneAADictReporter"
   ]
  },
  {
   "cell_type": "code",
   "execution_count": 2,
   "metadata": {
    "ExecuteTime": {
     "end_time": "2024-06-04T15:48:58.307419Z",
     "start_time": "2024-06-04T15:48:58.211719200Z"
    },
    "metadata": {}
   },
   "outputs": [],
   "source": [
    "data = Dataset(\n",
    "    roles={\n",
    "        \"user_id\": InfoRole(int),\n",
    "        \"treat\": TreatmentRole(int),\n",
    "        \"pre_spends\": TargetRole(),\n",
    "        \"post_spends\": TargetRole(),\n",
    "        \"gender\": StratificationRole(str)\n",
    "    }, data=\"data.csv\",\n",
    ")"
   ]
  },
  {
   "cell_type": "code",
   "execution_count": 3,
   "metadata": {
    "ExecuteTime": {
     "end_time": "2024-06-04T15:48:58.960999200Z",
     "start_time": "2024-06-04T15:48:58.344927200Z"
    },
    "metadata": {}
   },
   "outputs": [
    {
     "name": "stderr",
     "output_type": "stream",
     "text": [
      "c:\\Projects\\HypEx\\hypex\\dataset\\backends\\pandas_backend.py:196: FutureWarning: Setting an item of incompatible dtype is deprecated and will raise in a future error of pandas. Value '[0. 0.]' has dtype incompatible with bool, please explicitly cast to a compatible dtype first.\n",
      "  self.data.loc[:, column_name] = self.data[column_name].astype(type_name)\n",
      "c:\\Projects\\HypEx\\hypex\\dataset\\backends\\pandas_backend.py:196: FutureWarning: Setting an item of incompatible dtype is deprecated and will raise in a future error of pandas. Value '[0. 0.]' has dtype incompatible with bool, please explicitly cast to a compatible dtype first.\n",
      "  self.data.loc[:, column_name] = self.data[column_name].astype(type_name)\n"
     ]
    },
    {
     "data": {
      "text/plain": [
       "{'splitter_id': 'AASplitter┴┴',\n",
       " 'pre_spends GroupDifference control mean 0': 487.1711,\n",
       " 'pre_spends GroupDifference test mean 0': 487.0164,\n",
       " 'pre_spends GroupDifference difference 0': -0.15470000000004802,\n",
       " 'pre_spends GroupDifference difference % 0': -0.03175475720954557,\n",
       " 'post_spends GroupDifference control mean 0': 452.4607555555555,\n",
       " 'post_spends GroupDifference test mean 0': 451.8683555555556,\n",
       " 'post_spends GroupDifference difference 0': -0.592399999999941,\n",
       " 'post_spends GroupDifference difference % 0': -0.13092848224428577,\n",
       " 'GroupSizes control size 0': 5000,\n",
       " 'GroupSizes test size 0': 5000,\n",
       " 'GroupSizes control size % 0': 50.0,\n",
       " 'GroupSizes test size % 0': 50.0,\n",
       " 'pre_spends TTest p-value 0': 0.6819018762480246,\n",
       " 'pre_spends TTest pass 0': 'OK',\n",
       " 'post_spends TTest p-value 0': 0.4522613376625497,\n",
       " 'post_spends TTest pass 0': 'OK',\n",
       " 'pre_spends KSTest p-value 0': 0.21115228503506395,\n",
       " 'pre_spends KSTest pass 0': 'OK',\n",
       " 'post_spends KSTest p-value 0': 0.43549127415019256,\n",
       " 'post_spends KSTest pass 0': 'OK',\n",
       " 'mean TTest p-value': 0.5670816069552871,\n",
       " 'mean TTest pass': 'OK',\n",
       " 'mean KSTest p-value': 0.32332177959262826,\n",
       " 'mean KSTest pass': 'OK',\n",
       " 'mean test score': 0.40457505538018124}"
      ]
     },
     "execution_count": 3,
     "metadata": {},
     "output_type": "execute_result"
    }
   ],
   "source": [
    "test = ONE_AA_TEST\n",
    "ed = ExperimentData(data)\n",
    "result = test.execute(ed)\n",
    "OneAADictReporter().report(result)"
   ]
  },
  {
   "cell_type": "code",
   "execution_count": 4,
   "metadata": {
    "ExecuteTime": {
     "end_time": "2024-06-04T15:48:58.983891Z",
     "start_time": "2024-06-04T15:48:58.972547200Z"
    },
    "collapsed": false
   },
   "outputs": [
    {
     "name": "stderr",
     "output_type": "stream",
     "text": [
      "c:\\Projects\\HypEx\\hypex\\dataset\\backends\\pandas_backend.py:196: FutureWarning: Setting an item of incompatible dtype is deprecated and will raise in a future error of pandas. Value '[0. 0.]' has dtype incompatible with bool, please explicitly cast to a compatible dtype first.\n",
      "  self.data.loc[:, column_name] = self.data[column_name].astype(type_name)\n",
      "c:\\Projects\\HypEx\\hypex\\dataset\\backends\\pandas_backend.py:196: FutureWarning: Setting an item of incompatible dtype is deprecated and will raise in a future error of pandas. Value '[0. 0.]' has dtype incompatible with bool, please explicitly cast to a compatible dtype first.\n",
      "  self.data.loc[:, column_name] = self.data[column_name].astype(type_name)\n",
      "c:\\Projects\\HypEx\\hypex\\dataset\\backends\\pandas_backend.py:196: FutureWarning: Setting an item of incompatible dtype is deprecated and will raise in a future error of pandas. Value '[0.]' has dtype incompatible with bool, please explicitly cast to a compatible dtype first.\n",
      "  self.data.loc[:, column_name] = self.data[column_name].astype(type_name)\n"
     ]
    },
    {
     "data": {
      "text/plain": [
       "{'splitter_id': 'AASplitterWithStratification┴┴',\n",
       " 'pre_spends GroupDifference control mean 0': 487.09299457326097,\n",
       " 'pre_spends GroupDifference test mean 0': 487.09608489889575,\n",
       " 'pre_spends GroupDifference difference 0': 0.00309032563478695,\n",
       " 'pre_spends GroupDifference difference % 0': 0.0006344426360493927,\n",
       " 'post_spends GroupDifference control mean 0': 452.30559666721484,\n",
       " 'post_spends GroupDifference test mean 0': 452.08569561961224,\n",
       " 'post_spends GroupDifference difference 0': -0.21990104760260465,\n",
       " 'post_spends GroupDifference difference % 0': -0.04861780380851499,\n",
       " 'GroupSizes control size 0': 2027,\n",
       " 'GroupSizes test size 0': 6973,\n",
       " 'GroupSizes control size % 0': 22.522222222222222,\n",
       " 'GroupSizes test size % 0': 77.47777777777777,\n",
       " 'pre_spends TTest p-value 0': 0.9948383554685372,\n",
       " 'pre_spends TTest pass 0': 'OK',\n",
       " 'post_spends TTest p-value 0': 0.8248246128147073,\n",
       " 'post_spends TTest pass 0': 'OK',\n",
       " 'pre_spends KSTest p-value 0': 0.8239585186039063,\n",
       " 'pre_spends KSTest pass 0': 'OK',\n",
       " 'post_spends KSTest p-value 0': 0.978585942747917,\n",
       " 'post_spends KSTest pass 0': 'OK',\n",
       " 'gender Chi2Test p-value 0': 0.27412212233613176,\n",
       " 'gender Chi2Test pass 0': 'OK',\n",
       " 'mean TTest p-value': 0.9098314841416222,\n",
       " 'mean TTest pass': 'OK',\n",
       " 'mean KSTest p-value': 0.9012722306759117,\n",
       " 'mean KSTest pass': 'OK',\n",
       " 'mean Chi2Test p-value': 0.27412212233613176,\n",
       " 'mean Chi2Test pass': 'OK',\n",
       " 'mean test score': 0.6521240380331419}"
      ]
     },
     "execution_count": 4,
     "metadata": {},
     "output_type": "execute_result"
    }
   ],
   "source": [
    "test = ONE_AA_TEST_WITH_STRATIFICATION\n",
    "data = data.dropna(subset=[\"gender\"])\n",
    "ed = ExperimentData(data)\n",
    "result = test.execute(ed)\n",
    "OneAADictReporter().report(result)"
   ]
  },
  {
   "cell_type": "code",
   "execution_count": null,
   "metadata": {},
   "outputs": [],
   "source": []
  }
 ],
 "metadata": {
  "kernelspec": {
   "display_name": "Python 3",
   "language": "python",
   "name": "python3"
  },
  "language_info": {
   "codemirror_mode": {
    "name": "ipython",
    "version": 3
   },
   "file_extension": ".py",
   "mimetype": "text/x-python",
   "name": "python",
   "nbconvert_exporter": "python",
   "pygments_lexer": "ipython3",
   "version": "3.12.3"
  }
 },
 "nbformat": 4,
 "nbformat_minor": 2
}
