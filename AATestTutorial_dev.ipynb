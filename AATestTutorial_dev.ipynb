{
 "cells": [
  {
   "cell_type": "code",
   "execution_count": 1,
   "id": "42c0426f-801a-4fd8-8d43-f6f6c8393d40",
   "metadata": {},
   "outputs": [],
   "source": [
    "%load_ext autoreload\n",
    "%autoreload 2"
   ]
  },
  {
   "cell_type": "code",
   "execution_count": 2,
   "id": "f890151fc64fd3fa",
   "metadata": {
    "ExecuteTime": {
     "end_time": "2024-08-23T13:24:05.855328800Z",
     "start_time": "2024-08-23T13:24:01.564814900Z"
    },
    "collapsed": false,
    "jupyter": {
     "outputs_hidden": false
    },
    "pycharm": {
     "is_executing": true,
     "name": "#%%\n"
    }
   },
   "outputs": [],
   "source": [
    "import hypex.utils.tutorial_data_creation as datasets\n",
    "\n",
    "from hypex import AATest\n",
    "from hypex.dataset import (\n",
    "    Dataset,\n",
    "    InfoRole,\n",
    "    StratificationRole,\n",
    "    TargetRole,\n",
    "    TreatmentRole,\n",
    ")"
   ]
  },
  {
   "cell_type": "code",
   "execution_count": 3,
   "id": "70e663c02efb6980",
   "metadata": {
    "ExecuteTime": {
     "end_time": "2024-08-23T13:24:06.047937400Z",
     "start_time": "2024-08-23T13:24:05.856410300Z"
    },
    "collapsed": false,
    "jupyter": {
     "outputs_hidden": false
    },
    "pycharm": {
     "name": "#%%\n"
    }
   },
   "outputs": [
    {
     "data": {
      "text/html": [
       "<div>\n",
       "<style scoped>\n",
       "    .dataframe tbody tr th:only-of-type {\n",
       "        vertical-align: middle;\n",
       "    }\n",
       "\n",
       "    .dataframe tbody tr th {\n",
       "        vertical-align: top;\n",
       "    }\n",
       "\n",
       "    .dataframe thead th {\n",
       "        text-align: right;\n",
       "    }\n",
       "</style>\n",
       "<table border=\"1\" class=\"dataframe\">\n",
       "  <thead>\n",
       "    <tr style=\"text-align: right;\">\n",
       "      <th></th>\n",
       "      <th>age</th>\n",
       "      <th>disease_degree</th>\n",
       "      <th>experimental_treatment</th>\n",
       "      <th>residual_lifetime</th>\n",
       "    </tr>\n",
       "  </thead>\n",
       "  <tbody>\n",
       "    <tr>\n",
       "      <th>0</th>\n",
       "      <td>36</td>\n",
       "      <td>1</td>\n",
       "      <td>0</td>\n",
       "      <td>14.914236</td>\n",
       "    </tr>\n",
       "    <tr>\n",
       "      <th>1</th>\n",
       "      <td>29</td>\n",
       "      <td>2</td>\n",
       "      <td>0</td>\n",
       "      <td>3.842153</td>\n",
       "    </tr>\n",
       "    <tr>\n",
       "      <th>2</th>\n",
       "      <td>38</td>\n",
       "      <td>2</td>\n",
       "      <td>0</td>\n",
       "      <td>6.268429</td>\n",
       "    </tr>\n",
       "    <tr>\n",
       "      <th>3</th>\n",
       "      <td>38</td>\n",
       "      <td>3</td>\n",
       "      <td>1</td>\n",
       "      <td>4.952927</td>\n",
       "    </tr>\n",
       "    <tr>\n",
       "      <th>4</th>\n",
       "      <td>19</td>\n",
       "      <td>3</td>\n",
       "      <td>0</td>\n",
       "      <td>21.030592</td>\n",
       "    </tr>\n",
       "    <tr>\n",
       "      <th>...</th>\n",
       "      <td>...</td>\n",
       "      <td>...</td>\n",
       "      <td>...</td>\n",
       "      <td>...</td>\n",
       "    </tr>\n",
       "    <tr>\n",
       "      <th>999995</th>\n",
       "      <td>31</td>\n",
       "      <td>3</td>\n",
       "      <td>1</td>\n",
       "      <td>31.903414</td>\n",
       "    </tr>\n",
       "    <tr>\n",
       "      <th>999996</th>\n",
       "      <td>35</td>\n",
       "      <td>1</td>\n",
       "      <td>0</td>\n",
       "      <td>5.109816</td>\n",
       "    </tr>\n",
       "    <tr>\n",
       "      <th>999997</th>\n",
       "      <td>48</td>\n",
       "      <td>1</td>\n",
       "      <td>0</td>\n",
       "      <td>5.116373</td>\n",
       "    </tr>\n",
       "    <tr>\n",
       "      <th>999998</th>\n",
       "      <td>35</td>\n",
       "      <td>5</td>\n",
       "      <td>1</td>\n",
       "      <td>3.027088</td>\n",
       "    </tr>\n",
       "    <tr>\n",
       "      <th>999999</th>\n",
       "      <td>43</td>\n",
       "      <td>3</td>\n",
       "      <td>0</td>\n",
       "      <td>14.627118</td>\n",
       "    </tr>\n",
       "  </tbody>\n",
       "</table>\n",
       "<p>1000000 rows × 4 columns</p>\n",
       "</div>"
      ],
      "text/plain": [
       "        age  disease_degree  experimental_treatment  residual_lifetime\n",
       "0        36               1                       0          14.914236\n",
       "1        29               2                       0           3.842153\n",
       "2        38               2                       0           6.268429\n",
       "3        38               3                       1           4.952927\n",
       "4        19               3                       0          21.030592\n",
       "...     ...             ...                     ...                ...\n",
       "999995   31               3                       1          31.903414\n",
       "999996   35               1                       0           5.109816\n",
       "999997   48               1                       0           5.116373\n",
       "999998   35               5                       1           3.027088\n",
       "999999   43               3                       0          14.627118\n",
       "\n",
       "[1000000 rows x 4 columns]"
      ]
     },
     "execution_count": 3,
     "metadata": {},
     "output_type": "execute_result"
    }
   ],
   "source": [
    "df = datasets.gen_special_medicine_df(data_size=1_000_000)\n",
    "\n",
    "data = Dataset(\n",
    "    roles={\n",
    "        \"experimental_treatment\": TargetRole(),\n",
    "        \"age\": TargetRole(),\n",
    "        \"residual_lifetime\": TargetRole(),\n",
    "        # \"desease_degree\": StratificationRole(),\n",
    "    }, data=df,\n",
    ")\n",
    "data"
   ]
  },
  {
   "cell_type": "code",
   "execution_count": 4,
   "id": "5a24bc19-d344-42d2-9387-37b0ae6a8d2a",
   "metadata": {},
   "outputs": [],
   "source": [
    "import warnings\n",
    "warnings.filterwarnings(\"ignore\")"
   ]
  },
  {
   "cell_type": "code",
   "execution_count": 5,
   "id": "4dc314c6-b986-4feb-a0e6-abeb022a5979",
   "metadata": {
    "scrolled": true
   },
   "outputs": [
    {
     "name": "stdout",
     "output_type": "stream",
     "text": [
      "CPU times: total: 24.3 s\n",
      "Wall time: 24.3 s\n"
     ]
    }
   ],
   "source": [
    "%%time\n",
    "\n",
    "aa = AATest(n_iterations=10)\n",
    "res = aa.execute(data)"
   ]
  },
  {
   "cell_type": "code",
   "execution_count": 6,
   "id": "b297e35f-6ad8-4f07-9541-9c01ac144ed3",
   "metadata": {},
   "outputs": [
    {
     "ename": "SyntaxError",
     "evalue": "invalid syntax (1933637684.py, line 1)",
     "output_type": "error",
     "traceback": [
      "\u001B[1;36m  Cell \u001B[1;32mIn[6], line 1\u001B[1;36m\u001B[0m\n\u001B[1;33m    .\u001B[0m\n\u001B[1;37m    ^\u001B[0m\n\u001B[1;31mSyntaxError\u001B[0m\u001B[1;31m:\u001B[0m invalid syntax\n"
     ]
    }
   ],
   "source": [
    "."
   ]
  },
  {
   "cell_type": "code",
   "execution_count": null,
   "id": "b73dd9cc-eeba-409f-bcd4-6ee696b36abd",
   "metadata": {},
   "outputs": [],
   "source": [
    "%%time\n",
    "\n",
    "aa = AATest(n_iterations=100)\n",
    "res = aa.execute(data)"
   ]
  },
  {
   "cell_type": "code",
   "execution_count": null,
   "id": "fb364e5a-f889-4d5a-b9ff-ebb3a8d1aa69",
   "metadata": {},
   "outputs": [],
   "source": [
    "res.aa_score"
   ]
  },
  {
   "cell_type": "code",
   "execution_count": null,
   "id": "0e14b66f-aa09-4ecc-8d8e-0c8aa067733d",
   "metadata": {},
   "outputs": [],
   "source": [
    "res.experiments"
   ]
  },
  {
   "cell_type": "markdown",
   "id": "ebb936ad-c3fa-447d-8723-c70ffd2c4919",
   "metadata": {
    "jp-MarkdownHeadingCollapsed": true
   },
   "source": [
    "# кастомный Ttest"
   ]
  },
  {
   "cell_type": "code",
   "execution_count": null,
   "id": "10429278-0fec-4c32-b649-fb99cba1299a",
   "metadata": {},
   "outputs": [],
   "source": [
    "from hypex.splitters import AASplitter\n",
    "from hypex.dataset import ExperimentData"
   ]
  },
  {
   "cell_type": "code",
   "execution_count": null,
   "id": "ef4f4771-814f-408e-9193-bcce12f3802f",
   "metadata": {},
   "outputs": [],
   "source": [
    "_hash_string = 'AASplitter┴rs 0┴'\n",
    "_splitter = AASplitter()\n",
    "_splitter.init_from_hash(params_hash=_hash_string)"
   ]
  },
  {
   "cell_type": "code",
   "execution_count": null,
   "id": "3c1c0954-36b4-44ec-aed6-0df4788f3455",
   "metadata": {},
   "outputs": [],
   "source": [
    "_res = (\n",
    "    _splitter\n",
    "    .execute(ExperimentData(data))\n",
    "    .additional_fields\n",
    "    .data\n",
    "    .iloc[:, 0]\n",
    "    .map({'control':0, 'test':1})\n",
    "    .to_numpy()\n",
    ")"
   ]
  },
  {
   "cell_type": "code",
   "execution_count": null,
   "id": "f78b4a89-9709-433b-8296-182b06c376e6",
   "metadata": {
    "scrolled": true
   },
   "outputs": [],
   "source": [
    "_res"
   ]
  },
  {
   "cell_type": "code",
   "execution_count": null,
   "id": "443ba7fc-967d-48e2-b46b-c3103f67dd78",
   "metadata": {},
   "outputs": [],
   "source": [
    "data.data.loc[\n",
    "    data\n",
    "    .data\n",
    "    .sample(frac=1, random_state=0)\n",
    "    .index\n",
    "    [:int(data.data.size * 0.5)]\n",
    "]"
   ]
  },
  {
   "cell_type": "code",
   "execution_count": null,
   "id": "405086a6-a933-407c-9e33-fb2aa581bb7c",
   "metadata": {},
   "outputs": [],
   "source": [
    "data.data.shape[0]"
   ]
  },
  {
   "cell_type": "code",
   "execution_count": null,
   "id": "e0e494bc-0688-443e-88e2-c00c8809dba8",
   "metadata": {},
   "outputs": [],
   "source": [
    "control_indexes = (\n",
    "    data\n",
    "    .data\n",
    "    .sample(frac=1, random_state=0)\n",
    "    .index\n",
    "    [:int(data.data.shape[0] * 0.5)]\n",
    "    .to_list()\n",
    ")\n",
    "\n",
    "control_indexes"
   ]
  },
  {
   "cell_type": "code",
   "execution_count": null,
   "id": "ba7d05c2-de09-4600-a174-3be4afd309d1",
   "metadata": {},
   "outputs": [],
   "source": [
    "import numpy as np\n",
    "import pandas as pd"
   ]
  },
  {
   "cell_type": "code",
   "execution_count": null,
   "id": "f41b76b4-0aee-4bb0-ad25-4439fc4a5a6c",
   "metadata": {},
   "outputs": [],
   "source": [
    "split_series = pd.Series(np.ones(data.data.shape[0], dtype='int'))\n",
    "split_series[control_indexes] -= 1\n",
    "split_series = split_series.map({0:'control', 1:'test'})\n",
    "split_series"
   ]
  },
  {
   "cell_type": "code",
   "execution_count": null,
   "id": "c27a00ee-d03a-423b-ad16-0fe93a2cb1ed",
   "metadata": {},
   "outputs": [],
   "source": []
  },
  {
   "cell_type": "code",
   "execution_count": null,
   "id": "89b71a04-87ae-4efd-8abb-f51b8a294e52",
   "metadata": {},
   "outputs": [],
   "source": []
  }
 ],
 "metadata": {
  "kernelspec": {
   "display_name": "Python 3 (ipykernel)",
   "language": "python",
   "name": "python3"
  },
  "language_info": {
   "codemirror_mode": {
    "name": "ipython",
    "version": 3
   },
   "file_extension": ".py",
   "mimetype": "text/x-python",
   "name": "python",
   "nbconvert_exporter": "python",
   "pygments_lexer": "ipython3",
   "version": "3.9.19"
  }
 },
 "nbformat": 4,
 "nbformat_minor": 5
}