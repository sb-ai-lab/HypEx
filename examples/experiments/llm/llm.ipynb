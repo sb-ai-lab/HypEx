{
 "cells": [
  {
   "cell_type": "code",
   "execution_count": null,
   "metadata": {},
   "outputs": [],
   "source": [
    "from typing import List\n",
    "import pickle\n",
    "from tqdm.auto import tqdm\n",
    "from utils import CausalShell, Translator, T5Shell, SaigaShell\n",
    "\n",
    "import pandas as pd"
   ]
  },
  {
   "cell_type": "code",
   "execution_count": null,
   "metadata": {},
   "outputs": [],
   "source": [
    "def get_q_len(qs):\n",
    "    tqs = []\n",
    "    for v in qs.values():\n",
    "        if len(v) > 2:\n",
    "            tqs += v\n",
    "    tqs = list(set(tqs))\n",
    "    return len(tqs)\n",
    "\n",
    "def a_rate(model, q, a):\n",
    "    return model.generate(f'''Я задал вопрос: \"{q}\"\n",
    "\n",
    "Мне ответили:\n",
    "\"{a}\"\n",
    "\n",
    "Оцени ответ по шкале от 1 до 5. В ответе дай оценку в формате x/5 и короткое обоснование.\n",
    "''')\n",
    "\n",
    "def a_rates(model, data):\n",
    "    data[\"full rate\"] = [a_rate(arm, row[\"Q\"], row[\"generated_text\"]) for i, row in tqdm(data.iterrows(), total=len(data))]\n",
    "    return data"
   ]
  },
  {
   "cell_type": "markdown",
   "metadata": {
    "jp-MarkdownHeadingCollapsed": true
   },
   "source": [
    "# Q gen"
   ]
  },
  {
   "cell_type": "code",
   "execution_count": null,
   "metadata": {
    "scrolled": true
   },
   "outputs": [],
   "source": [
    "qgm = CausalShell(\"microsoft/Phi-3-mini-4k-instruct\")\n",
    "# translator = T5Shell()"
   ]
  },
  {
   "cell_type": "code",
   "execution_count": null,
   "metadata": {},
   "outputs": [],
   "source": [
    "def q_gen(n=30, to_rus=False):\n",
    "    qs = []\n",
    "    n_batch = n // 30 + 1 * ((n % 30) != 0)\n",
    "    for _ in tqdm(range(n_batch)):\n",
    "        gqs = qgm.generate(\"Подготовь 30 различных интересных вопросов для квиза на общие темы не личного характера\")\n",
    "        # if to_rus:\n",
    "        #     gqs = translator.translate(gqs, \"ru\")[0]\n",
    "        qs += gqs.split(\"\\n\")\n",
    "    return qs\n",
    "\n",
    "def context_q_gen(contexts: List[str]):\n",
    "    result = {}\n",
    "    for c in tqdm(contexts):\n",
    "        gqs = qgm.generate(f\"Придумай 20 вопросов по теме {c} без ответов\")\n",
    "        result[c] = [q for q in gqs.split('\\n') if \"?\" in q]\n",
    "    return result\n",
    "        "
   ]
  },
  {
   "cell_type": "code",
   "execution_count": null,
   "metadata": {},
   "outputs": [],
   "source": [
    "raa = context_q_gen([\n",
    "    \"алгоритмы\",\n",
    "    \"структуры данных\",\n",
    "    \"обработка исключений\",\n",
    "    \"обработка ошибок\",\n",
    "    \"файловая система\",\n",
    "    \"операционная система\",\n",
    "    \"работа с файлами\",\n",
    "    \"типы файлов\",\n",
    "    \"кодирование файлов\",\n",
    "    \"базы данных\",\n",
    "    \"SQL\",\n",
    "    \"не реляционные базы данных\",\n",
    "    \"распределенные базы данных\",\n",
    "    \"большие данные\",\n",
    "    \"ИИ\",\n",
    "    \"интернет вещей\",\n",
    "    \"машинное обучение\",\n",
    "    \"обучение без учителя\",\n",
    "    \"проклятье размерностей\",\n",
    "    \"статистика\",\n",
    "    \"линейная алгебра\",\n",
    "    \"математический анализ\",\n",
    "    \"обучение с подкреплением\",\n",
    "    \"не реляционные базы данных\",\n",
    "    \"СУБД\",\n",
    "    \"антифрод системы\",\n",
    "    \"рекомендательные системы\",\n",
    "    \"тестирование кода\",\n",
    "    \"отладка кода\",\n",
    "    \"компьютерная графика\",\n",
    "    \"геймдизайн\",\n",
    "    \"разработка мобильных приложений\",\n",
    "    \"разработка игр\"\n",
    "])\n",
    "raa"
   ]
  },
  {
   "cell_type": "code",
   "execution_count": null,
   "metadata": {},
   "outputs": [],
   "source": [
    "ra = context_q_gen([\n",
    "    \"большие данные\"\n",
    "])\n",
    "ra"
   ]
  },
  {
   "cell_type": "code",
   "execution_count": null,
   "metadata": {},
   "outputs": [],
   "source": [
    "r.update(ra)\n",
    "r"
   ]
  },
  {
   "cell_type": "code",
   "execution_count": null,
   "metadata": {},
   "outputs": [],
   "source": [
    "for k, v in r.items():\n",
    "    r[k] = list(set(v + raa[k]))"
   ]
  },
  {
   "cell_type": "code",
   "execution_count": null,
   "metadata": {},
   "outputs": [],
   "source": [
    "with open(\"qs.pickle\", \"wb\") as f:\n",
    "    pickle.dump(r, f)"
   ]
  },
  {
   "cell_type": "markdown",
   "metadata": {
    "jp-MarkdownHeadingCollapsed": true
   },
   "source": [
    "# LLM tests"
   ]
  },
  {
   "cell_type": "code",
   "execution_count": null,
   "metadata": {},
   "outputs": [],
   "source": [
    "def split_qs():\n",
    "    with open(\"qs.pickle\", \"rb\") as f:\n",
    "        qs = pickle.load(f)\n",
    "    \n",
    "    new_qs = {\"R1\": {}, \"R2\": {}}\n",
    "    for k, v in qs.items():\n",
    "        edge = len(v)//2\n",
    "        if edge > 2:\n",
    "            new_qs[\"R1\"][k] = v[:edge]\n",
    "            new_qs[\"R2\"][k] = v[edge:]\n",
    "    return new_qs\n",
    "\n",
    "def get_answers(qs, model):\n",
    "    model_name = model.model.metadata[\"general.name\"]\n",
    "    answers = []\n",
    "    pbar = tqdm(total=get_q_len(qs))\n",
    "\n",
    "    c_num = len(qs)\n",
    "    for c_count, (k, v) in enumerate(qs.items(), start=1):\n",
    "        pbar.desc = f\"{k} {c_count}/{c_num}\"\n",
    "        for q in v:\n",
    "            tr={\"Q\": q, \"category\": k, \"model\": model_name}\n",
    "            tr.update(model.generate(f\"Ответь на вопрос: {q}\"))\n",
    "            answers.append(tr)\n",
    "            pbar.update()\n",
    "        pd.DataFrame(answers).to_csv(f\"answers_{model_name}.csv\", index=False)\n",
    "    return answers"
   ]
  },
  {
   "cell_type": "code",
   "execution_count": null,
   "metadata": {},
   "outputs": [],
   "source": [
    "qs = split_qs()\n",
    "print(get_q_len(qs[\"R1\"]))\n",
    "print(get_q_len(qs[\"R2\"]))"
   ]
  },
  {
   "cell_type": "code",
   "execution_count": null,
   "metadata": {
    "scrolled": true
   },
   "outputs": [],
   "source": [
    "qm16 = SaigaShell(r\"C:\\Users\\dmatr\\Downloads\\model-f16.gguf\")"
   ]
  },
  {
   "cell_type": "code",
   "execution_count": null,
   "metadata": {},
   "outputs": [],
   "source": [
    "r = get_answers(qs[\"R1\"], qm16)"
   ]
  },
  {
   "cell_type": "code",
   "execution_count": null,
   "metadata": {},
   "outputs": [],
   "source": [
    "qm8 = SaigaShell(r\"C:\\Users\\dmatr\\Downloads\\model-q8_0.gguf\")"
   ]
  },
  {
   "cell_type": "code",
   "execution_count": null,
   "metadata": {},
   "outputs": [],
   "source": [
    "r = get_answers(qs[\"R2\"], qm8)"
   ]
  },
  {
   "cell_type": "markdown",
   "metadata": {
    "jp-MarkdownHeadingCollapsed": true
   },
   "source": [
    "# A rate"
   ]
  },
  {
   "cell_type": "code",
   "execution_count": null,
   "metadata": {},
   "outputs": [],
   "source": [
    "arm = CausalShell(\"microsoft/Phi-3-mini-4k-instruct\")"
   ]
  },
  {
   "cell_type": "code",
   "execution_count": null,
   "metadata": {},
   "outputs": [],
   "source": [
    "answers1 = pd.read_csv(\"R1_answers_saiga_llama3_8b.csv\")\n",
    "answers1 = a_rates(arm, answers1)\n",
    "answers1.to_csv(\"R1_rate.csv\", index=False)"
   ]
  },
  {
   "cell_type": "code",
   "execution_count": null,
   "metadata": {},
   "outputs": [],
   "source": [
    "answers2 = pd.read_csv(\"R2_answers_saiga_llama3_8b.csv\")\n",
    "answers2 = a_rates(arm, answers2)\n",
    "answers2.to_csv(\"R2_rate.csv\", index=False, header=False, mode=\"a\")"
   ]
  },
  {
   "cell_type": "code",
   "execution_count": null,
   "metadata": {},
   "outputs": [],
   "source": [
    "answers1[\"model\"] = \"saiga_f16\"\n",
    "answers2[\"model\"] = \"saiga_q8\"\n",
    "answers = pd.concat([answers1, answers2], axis=0, ignore_index=True)\n",
    "answers[\"rate\"] = answers[\"full rate\"].apply(lambda x: x[x.find('/5') - 1])"
   ]
  },
  {
   "cell_type": "code",
   "execution_count": null,
   "metadata": {},
   "outputs": [],
   "source": [
    "answers.to_excel(\"answers.xlsx\", index=False)"
   ]
  },
  {
   "cell_type": "markdown",
   "metadata": {},
   "source": [
    "# AB test"
   ]
  },
  {
   "cell_type": "code",
   "execution_count": null,
   "metadata": {},
   "outputs": [],
   "source": [
    "# !pip install hypex==1.0.0a0"
   ]
  },
  {
   "cell_type": "code",
   "execution_count": 7,
   "metadata": {},
   "outputs": [],
   "source": [
    "from hypex.dataset import Dataset, InfoRole, TreatmentRole, TargetRole\n",
    "from hypex.experiments.ab import ABTest"
   ]
  },
  {
   "cell_type": "code",
   "execution_count": 8,
   "metadata": {},
   "outputs": [
    {
     "data": {
      "text/plain": [
       "                                                     Q          category  \\\n",
       "0    ### Answer:1. Какая разница между пулом процес...  структуры данных   \n",
       "1    8. Как реализовать кольцо стек, используя связ...  структуры данных   \n",
       "2    6. Как создать и отсортировать массив с исполь...  структуры данных   \n",
       "3    4. Какие фаクс данных используются для хранения...  структуры данных   \n",
       "4    9. Что такое прототипное наследование в JavaSc...  структуры данных   \n",
       "..                                                 ...               ...   \n",
       "832  14. Как настроить физическую симуляцию, чтобы ...    разработка игр   \n",
       "833  15. Как использовать Unity's Terrain для созда...    разработка игр   \n",
       "834     11. Как создать собственный коллактор в Unity?    разработка игр   \n",
       "835      **18. How do game engines handle animation?**    разработка игр   \n",
       "836  **3. What are the main components of a game en...    разработка игр   \n",
       "\n",
       "         model  n_tokens        time  \\\n",
       "0    saiga_f16       578  252.267314   \n",
       "1    saiga_f16       653  290.052834   \n",
       "2    saiga_f16       295  110.653766   \n",
       "3    saiga_f16       382  151.681926   \n",
       "4    saiga_f16       577  261.102657   \n",
       "..         ...       ...         ...   \n",
       "832   saiga_q8       741  161.514255   \n",
       "833   saiga_q8       801  179.689723   \n",
       "834   saiga_q8       699  154.652252   \n",
       "835   saiga_q8       526  112.751127   \n",
       "836   saiga_q8       547  118.294547   \n",
       "\n",
       "                                        generated_text  \\\n",
       "0    Разница между пулом процессов (pool of process...   \n",
       "1    Кольцо (или циклический) стек — это структура ...   \n",
       "2    В JavaScript для создания массива можно исполь...   \n",
       "3    В операционных системах используются различные...   \n",
       "4    Прототипное наследование — это механизм, котор...   \n",
       "..                                                 ...   \n",
       "832  Для того чтобы настроить физическую симуляцию ...   \n",
       "833  Для использования Unity's Terrain в создании с...   \n",
       "834  Для создания собственного коллектора (коллекци...   \n",
       "835  18. Как игровые движки обрабатывают анимацию?\\...   \n",
       "836  Основные компоненты игрового движка включают в...   \n",
       "\n",
       "                                             full rate  rate     speed  \n",
       "0    \\nОценка: 5/5 - Ответа полностью корректно и д...     5  2.291220  \n",
       "1    \\nОценка: 5/5. Ответ хорошо разбит на части и ...     5  2.251314  \n",
       "2    \\nОценка: 4/5. Ответ дал корректную информацию...     4  2.665973  \n",
       "3    \\nОценка: 2/5. Хотя ответ дает общее представл...     2  2.518428  \n",
       "4    \\n**Оценка:** 4.5/5. Объяснение оценки: ответ ...     5  2.209859  \n",
       "..                                                 ...   ...       ...  \n",
       "832  \\nОценка: 5/5\\n\\nОбоснование: Ответ хорошо охв...     5  4.587830  \n",
       "833  \\nОценка: 3/5\\nОбоснование: ответы перечисляют...     3  4.457684  \n",
       "834  \\n\\n\\nОценка: 4/5. Ваш ответ хорошо дал подроб...     4  4.519818  \n",
       "835  \\n**Оценка:** 4/5\\n\\nОценка в 4/5 основана на ...     4  4.665142  \n",
       "836  Если ответа не соответствуют вопросу или не по...     1  4.624051  \n",
       "\n",
       "[837 rows x 9 columns]"
      ]
     },
     "execution_count": 8,
     "metadata": {},
     "output_type": "execute_result"
    }
   ],
   "source": [
    "# answers = pd.read_excel(\"answers.xlsx\")\n",
    "answers = Dataset(\n",
    "    roles={\n",
    "        \"model\": TreatmentRole(),\n",
    "        \"n_tokens\": TargetRole(),\n",
    "        \"time\": TargetRole(), \n",
    "        \"category\": TargetRole(str),\n",
    "        \"rate\": TargetRole(), \n",
    "        \"speed\": TargetRole(),\n",
    "    }, data=\"answers.xlsx\",\n",
    ")\n",
    "# answers[\"model\"] = answers[\"model\"].replace(\"saiga_f16\", 0).replace(\"saiga_q8\", 1)\n",
    "answers"
   ]
  },
  {
   "cell_type": "code",
   "execution_count": 9,
   "metadata": {},
   "outputs": [
    {
     "name": "stderr",
     "output_type": "stream",
     "text": [
      "c:\\Projects\\HypEx\\hypex\\dataset\\backends\\pandas_backend.py:305: FutureWarning: The default of observed=False is deprecated and will be changed to True in a future version of pandas. Pass observed=False to retain current behavior or observed=True to adopt the future default and silence this warning.\n",
      "  groups = self.data.groupby(by, **kwargs)\n",
      "c:\\Projects\\HypEx\\hypex\\dataset\\backends\\pandas_backend.py:305: FutureWarning: The default of observed=False is deprecated and will be changed to True in a future version of pandas. Pass observed=False to retain current behavior or observed=True to adopt the future default and silence this warning.\n",
      "  groups = self.data.groupby(by, **kwargs)\n",
      "c:\\Projects\\HypEx\\hypex\\dataset\\backends\\pandas_backend.py:486: FutureWarning: The behavior of Series.replace (and DataFrame.replace) with CategoricalDtype is deprecated. In a future version, replace will only be used for cases that preserve the categories. To change the categories, use ser.cat.rename_categories instead.\n",
      "  return self.data.replace(to_replace=to_replace, value=value, regex=regex)\n",
      "c:\\Projects\\HypEx\\hypex\\dataset\\backends\\pandas_backend.py:486: FutureWarning: The behavior of Series.replace (and DataFrame.replace) with CategoricalDtype is deprecated. In a future version, replace will only be used for cases that preserve the categories. To change the categories, use ser.cat.rename_categories instead.\n",
      "  return self.data.replace(to_replace=to_replace, value=value, regex=regex)\n"
     ]
    }
   ],
   "source": [
    "result = ABTest().execute(answers)"
   ]
  },
  {
   "cell_type": "code",
   "execution_count": 12,
   "metadata": {},
   "outputs": [
    {
     "data": {
      "text/html": [
       "<div>\n",
       "<style scoped>\n",
       "    .dataframe tbody tr th:only-of-type {\n",
       "        vertical-align: middle;\n",
       "    }\n",
       "\n",
       "    .dataframe tbody tr th {\n",
       "        vertical-align: top;\n",
       "    }\n",
       "\n",
       "    .dataframe thead th {\n",
       "        text-align: right;\n",
       "    }\n",
       "</style>\n",
       "<table border=\"1\" class=\"dataframe\">\n",
       "  <thead>\n",
       "    <tr style=\"text-align: right;\">\n",
       "      <th></th>\n",
       "      <th>feature</th>\n",
       "      <th>group</th>\n",
       "      <th>TTest pass</th>\n",
       "      <th>TTest p-value</th>\n",
       "      <th>control mean</th>\n",
       "      <th>test mean</th>\n",
       "      <th>difference</th>\n",
       "      <th>difference %</th>\n",
       "    </tr>\n",
       "  </thead>\n",
       "  <tbody>\n",
       "    <tr>\n",
       "      <th>0</th>\n",
       "      <td>n_tokens</td>\n",
       "      <td>saiga_q8</td>\n",
       "      <td>NOT OK</td>\n",
       "      <td>3.195728e-01</td>\n",
       "      <td>466.690998</td>\n",
       "      <td>479.774648</td>\n",
       "      <td>13.083650</td>\n",
       "      <td>2.803493</td>\n",
       "    </tr>\n",
       "    <tr>\n",
       "      <th>1</th>\n",
       "      <td>time</td>\n",
       "      <td>saiga_q8</td>\n",
       "      <td>OK</td>\n",
       "      <td>2.089633e-66</td>\n",
       "      <td>188.198086</td>\n",
       "      <td>98.663469</td>\n",
       "      <td>-89.534618</td>\n",
       "      <td>-47.574670</td>\n",
       "    </tr>\n",
       "    <tr>\n",
       "      <th>2</th>\n",
       "      <td>rate</td>\n",
       "      <td>saiga_q8</td>\n",
       "      <td>NOT OK</td>\n",
       "      <td>8.973242e-01</td>\n",
       "      <td>3.914842</td>\n",
       "      <td>3.922535</td>\n",
       "      <td>0.007693</td>\n",
       "      <td>0.196518</td>\n",
       "    </tr>\n",
       "    <tr>\n",
       "      <th>3</th>\n",
       "      <td>speed</td>\n",
       "      <td>saiga_q8</td>\n",
       "      <td>OK</td>\n",
       "      <td>4.335499e-122</td>\n",
       "      <td>2.670469</td>\n",
       "      <td>5.338672</td>\n",
       "      <td>2.668203</td>\n",
       "      <td>99.915145</td>\n",
       "    </tr>\n",
       "  </tbody>\n",
       "</table>\n",
       "</div>"
      ],
      "text/plain": [
       "    feature     group TTest pass  TTest p-value  control mean   test mean  \\\n",
       "0  n_tokens  saiga_q8     NOT OK   3.195728e-01    466.690998  479.774648   \n",
       "1      time  saiga_q8         OK   2.089633e-66    188.198086   98.663469   \n",
       "2      rate  saiga_q8     NOT OK   8.973242e-01      3.914842    3.922535   \n",
       "3     speed  saiga_q8         OK  4.335499e-122      2.670469    5.338672   \n",
       "\n",
       "   difference  difference %  \n",
       "0   13.083650      2.803493  \n",
       "1  -89.534618    -47.574670  \n",
       "2    0.007693      0.196518  \n",
       "3    2.668203     99.915145  "
      ]
     },
     "execution_count": 12,
     "metadata": {},
     "output_type": "execute_result"
    }
   ],
   "source": [
    "result.resume.data"
   ]
  },
  {
   "cell_type": "code",
   "execution_count": 11,
   "metadata": {},
   "outputs": [
    {
     "data": {
      "text/plain": [
       "          control size  test size  control size %  test size %     group\n",
       "saiga_q8           411        426       49.103943    50.896057  saiga_q8"
      ]
     },
     "execution_count": 11,
     "metadata": {},
     "output_type": "execute_result"
    }
   ],
   "source": [
    "result.sizes "
   ]
  },
  {
   "cell_type": "code",
   "execution_count": null,
   "metadata": {},
   "outputs": [],
   "source": []
  }
 ],
 "metadata": {
  "kernelspec": {
   "display_name": "Python 3 (ipykernel)",
   "language": "python",
   "name": "python3"
  },
  "language_info": {
   "codemirror_mode": {
    "name": "ipython",
    "version": 3
   },
   "file_extension": ".py",
   "mimetype": "text/x-python",
   "name": "python",
   "nbconvert_exporter": "python",
   "pygments_lexer": "ipython3",
   "version": "3.11.9"
  }
 },
 "nbformat": 4,
 "nbformat_minor": 4
}
