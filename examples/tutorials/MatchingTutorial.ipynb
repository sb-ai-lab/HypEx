{
 "cells": [
  {
   "cell_type": "markdown",
   "id": "54278f8bd9a4bb39",
   "metadata": {
    "collapsed": false
   },
   "source": [
    "# Matching pipline"
   ]
  },
  {
   "cell_type": "markdown",
   "id": "de103cc6",
   "metadata": {},
   "source": [
    "The comparison method is used in statistical analysis to eliminate distortions caused by differences in the basic characteristics of the studied groups. Simply put, matching helps to make sure that the results of the experiment are really caused by the studied effect, and not by external factors.\n",
    "\n",
    "Matching is most often performed in cases where the use of a standard AB test is impossible."
   ]
  },
  {
   "cell_type": "code",
   "id": "initial_id",
   "metadata": {
    "collapsed": true,
    "ExecuteTime": {
     "end_time": "2024-08-12T12:56:18.133929100Z",
     "start_time": "2024-08-12T12:56:16.672999Z"
    }
   },
   "source": [
    "import copy\n",
    "\n",
    "from hypex.dataset import Dataset, InfoRole, TreatmentRole, TargetRole \n",
    "from hypex.experiments.matching import Matching"
   ],
   "outputs": [
    {
     "name": "stderr",
     "output_type": "stream",
     "text": [
      "C:\\Users\\User\\AppData\\Local\\Programs\\Python\\Python310\\lib\\site-packages\\tqdm\\auto.py:21: TqdmWarning: IProgress not found. Please update jupyter and ipywidgets. See https://ipywidgets.readthedocs.io/en/stable/user_install.html\n",
      "  from .autonotebook import tqdm as notebook_tqdm\n"
     ]
    }
   ],
   "execution_count": 1
  },
  {
   "cell_type": "markdown",
   "id": "7e41355993e9e59f",
   "metadata": {
    "collapsed": false
   },
   "source": [
    "## Data preparation \n",
    "\n",
    "It is important to mark the data fields by assigning the appropriate roles:\n",
    "\n",
    "* FeatureRole: a role for columns that contain features or predictor variables. Our split will be based on them. Applied by default if the role is not specified for the column.\n",
    "* TreatmentRole: a role for columns that show the treatment or intervention.\n",
    "* TargetRole: a role for columns that show the target or outcome variable.\n",
    "* InfoRole: a role for columns that contain information about the data, such as user IDs."
   ]
  },
  {
   "cell_type": "code",
   "id": "8abf891fc6804315",
   "metadata": {
    "collapsed": false,
    "ExecuteTime": {
     "end_time": "2024-08-12T12:56:18.212798400Z",
     "start_time": "2024-08-12T12:56:18.134932200Z"
    }
   },
   "source": [
    "data = Dataset(\n",
    "    roles={\n",
    "        \"user_id\": InfoRole(int),\n",
    "        \"treat\": TreatmentRole(int), \n",
    "        \"post_spends\": TargetRole(float)\n",
    "    }, data=\"data.csv\",\n",
    ")\n",
    "data"
   ],
   "outputs": [
    {
     "data": {
      "text/plain": "      user_id  signup_month  treat  pre_spends  post_spends   age gender  \\\n0           0             0      0       488.0   414.444444   NaN      M   \n1           1             8      1       512.5   462.222222  26.0    NaN   \n2           2             7      1       483.0   479.444444  25.0      M   \n3           3             0      0       501.5   424.333333  39.0      M   \n4           4             1      1       543.0   514.555556  18.0      F   \n...       ...           ...    ...         ...          ...   ...    ...   \n9995     9995            10      1       538.5   450.444444  42.0      M   \n9996     9996             0      0       500.5   430.888889  26.0      F   \n9997     9997             3      1       473.0   534.111111  22.0      F   \n9998     9998             2      1       495.0   523.222222  67.0      F   \n9999     9999             7      1       508.0   475.888889  38.0      F   \n\n        industry  \n0     E-commerce  \n1     E-commerce  \n2      Logistics  \n3     E-commerce  \n4     E-commerce  \n...          ...  \n9995   Logistics  \n9996   Logistics  \n9997  E-commerce  \n9998  E-commerce  \n9999  E-commerce  \n\n[10000 rows x 8 columns]"
     },
     "execution_count": 2,
     "metadata": {},
     "output_type": "execute_result"
    }
   ],
   "execution_count": 2
  },
  {
   "cell_type": "code",
   "id": "4ae8c654db6f5f85",
   "metadata": {
    "collapsed": false,
    "ExecuteTime": {
     "end_time": "2024-08-12T12:56:18.297189400Z",
     "start_time": "2024-08-12T12:56:18.218794900Z"
    }
   },
   "source": [
    "data.roles"
   ],
   "outputs": [
    {
     "data": {
      "text/plain": "{'user_id': Info(<class 'int'>),\n 'treat': Treatment(<class 'int'>),\n 'post_spends': Target(<class 'float'>),\n 'signup_month': Feature(<class 'int'>),\n 'pre_spends': Feature(<class 'float'>),\n 'age': Feature(<class 'float'>),\n 'gender': Feature(<class 'str'>),\n 'industry': Feature(<class 'str'>)}"
     },
     "execution_count": 3,
     "metadata": {},
     "output_type": "execute_result"
    }
   ],
   "execution_count": 3
  },
  {
   "cell_type": "markdown",
   "id": "8848fdfc6e8c0f45",
   "metadata": {
    "collapsed": false
   },
   "source": [
    "## Simple Matching  \n",
    "Now matching has 4 steps: \n",
    "1. Dummy Encoder \n",
    "2. Process Mahalanobis distance \n",
    "3. Two sides pairs searching by faiss \n",
    "4. Metrics (ATT, ATC, ATE) estimation depends on your data "
   ]
  },
  {
   "cell_type": "code",
   "outputs": [
    {
     "name": "stderr",
     "output_type": "stream",
     "text": [
      "C:\\Users\\User\\PycharmProjects\\HypEx\\hypex\\dataset\\backends\\pandas_backend.py:385: FutureWarning: DataFrame.fillna with 'method' is deprecated and will raise in a future version. Use obj.ffill() or obj.bfill() instead.\n",
      "  return self.data.fillna(values, method=method, **kwargs)\n"
     ]
    }
   ],
   "source": [
    "data = data.fillna(method=\"bfill\")"
   ],
   "metadata": {
    "collapsed": false,
    "ExecuteTime": {
     "end_time": "2024-08-12T12:56:18.323356500Z",
     "start_time": "2024-08-12T12:56:18.247554400Z"
    }
   },
   "id": "20e64ee990f83d47",
   "execution_count": 4
  },
  {
   "cell_type": "code",
   "id": "bc7e472bbb7c2a5d",
   "metadata": {
    "collapsed": false,
    "ExecuteTime": {
     "end_time": "2024-08-12T12:57:24.737555600Z",
     "start_time": "2024-08-12T12:57:22.798131100Z"
    }
   },
   "source": [
    "c_data = copy.deepcopy(data)\n",
    "test = Matching()\n",
    "result = test.execute(c_data)"
   ],
   "outputs": [],
   "execution_count": 17
  },
  {
   "cell_type": "markdown",
   "source": [
    "**ATT** shows the difference in treated group.   \n",
    "**ATC** shows the difference in untreated group.   \n",
    "**ATE** shows the weighted average difference between ATT and ATC.  "
   ],
   "metadata": {
    "collapsed": false
   },
   "id": "d8a47b848e13e745"
  },
  {
   "cell_type": "code",
   "outputs": [
    {
     "data": {
      "text/plain": "         ATT        ATC        ATE\n0  64.343019  96.354156  80.553459"
     },
     "execution_count": 18,
     "metadata": {},
     "output_type": "execute_result"
    }
   ],
   "source": [
    "result.resume"
   ],
   "metadata": {
    "collapsed": false,
    "ExecuteTime": {
     "end_time": "2024-08-12T12:57:29.212895500Z",
     "start_time": "2024-08-12T12:57:29.153899500Z"
    }
   },
   "id": "24cb598e7fbd81fd",
   "execution_count": 18
  },
  {
   "cell_type": "code",
   "outputs": [
    {
     "data": {
      "text/plain": "      FaissNearestNeighbors┴┴\n0                        9433\n1                        5438\n2                        5165\n3                        1735\n4                         539\n...                       ...\n9995                     5893\n9996                     7731\n9997                     7066\n9998                     1885\n9999                     5748\n\n[10000 rows x 1 columns]"
     },
     "execution_count": 20,
     "metadata": {},
     "output_type": "execute_result"
    }
   ],
   "source": [
    "result.indexes"
   ],
   "metadata": {
    "collapsed": false,
    "ExecuteTime": {
     "end_time": "2024-08-12T12:57:42.661074500Z",
     "start_time": "2024-08-12T12:57:42.631345600Z"
    }
   },
   "id": "f01b67ab0e1b369d",
   "execution_count": 20
  },
  {
   "cell_type": "code",
   "id": "d98c94a8b8a763e9",
   "metadata": {
    "collapsed": false,
    "ExecuteTime": {
     "end_time": "2024-08-12T12:57:46.889620200Z",
     "start_time": "2024-08-12T12:57:46.864676Z"
    }
   },
   "source": [
    "result.full_data"
   ],
   "outputs": [
    {
     "data": {
      "text/plain": "      user_id  signup_month  treat  pre_spends  post_spends   age gender  \\\n0           0             0      0       488.0   414.444444  26.0      M   \n1           1             8      1       512.5   462.222222  26.0      M   \n2           2             7      1       483.0   479.444444  25.0      M   \n3           3             0      0       501.5   424.333333  39.0      M   \n4           4             1      1       543.0   514.555556  18.0      F   \n...       ...           ...    ...         ...          ...   ...    ...   \n9995     9995            10      1       538.5   450.444444  42.0      M   \n9996     9996             0      0       500.5   430.888889  26.0      F   \n9997     9997             3      1       473.0   534.111111  22.0      F   \n9998     9998             2      1       495.0   523.222222  67.0      F   \n9999     9999             7      1       508.0   475.888889  38.0      F   \n\n        industry  user_id_matched  signup_month_matched  treat_matched  \\\n0     E-commerce             9433                     1              1   \n1     E-commerce             5438                     0              0   \n2      Logistics             5165                     0              0   \n3     E-commerce             1735                     1              1   \n4     E-commerce              539                     0              0   \n...          ...              ...                   ...            ...   \n9995   Logistics             5893                     0              0   \n9996   Logistics             7731                     1              1   \n9997  E-commerce             7066                     0              0   \n9998  E-commerce             1885                     0              0   \n9999  E-commerce             5748                     0              0   \n\n      pre_spends_matched  post_spends_matched  age_matched gender_matched  \\\n0                  488.5           518.444444         37.0              F   \n1                  529.0           417.111111         23.0              F   \n2                  498.5           412.222222         25.0              F   \n3                  504.0           516.333333         33.0              M   \n4                  531.0           414.000000         20.0              F   \n...                  ...                  ...          ...            ...   \n9995               535.0           414.555556         40.0              M   \n9996               500.0           515.888889         25.0              M   \n9997               480.0           423.222222         22.0              F   \n9998               499.0           423.000000         67.0              F   \n9999               522.0           424.444444         36.0              M   \n\n     industry_matched  \n0           Logistics  \n1          E-commerce  \n2           Logistics  \n3           Logistics  \n4          E-commerce  \n...               ...  \n9995       E-commerce  \n9996        Logistics  \n9997        Logistics  \n9998        Logistics  \n9999       E-commerce  \n\n[10000 rows x 16 columns]"
     },
     "execution_count": 21,
     "metadata": {},
     "output_type": "execute_result"
    }
   ],
   "execution_count": 21
  },
  {
   "cell_type": "markdown",
   "id": "3ad7a444",
   "metadata": {},
   "source": [
    "We can change **metric** and do estimation again."
   ]
  },
  {
   "cell_type": "code",
   "id": "e22f6e1d",
   "metadata": {
    "ExecuteTime": {
     "end_time": "2024-08-12T12:59:02.521138500Z",
     "start_time": "2024-08-12T12:59:00.831402Z"
    }
   },
   "source": [
    "c_data = copy.deepcopy(data)\n",
    "test = Matching(metric=\"atc\")\n",
    "result = test.execute(c_data)"
   ],
   "outputs": [],
   "execution_count": 22
  },
  {
   "cell_type": "code",
   "id": "60424009",
   "metadata": {
    "ExecuteTime": {
     "end_time": "2024-08-12T12:59:02.548035300Z",
     "start_time": "2024-08-12T12:59:02.526211700Z"
    }
   },
   "source": "result.resume",
   "outputs": [
    {
     "data": {
      "text/plain": "         ATC\n0  96.354156"
     },
     "execution_count": 23,
     "metadata": {},
     "output_type": "execute_result"
    }
   ],
   "execution_count": 23
  },
  {
   "cell_type": "code",
   "outputs": [
    {
     "data": {
      "text/plain": "      FaissNearestNeighbors┴┴\n0                        9433\n1                        5438\n2                        5165\n3                        1735\n4                         539\n...                       ...\n9995                     5893\n9996                     7731\n9997                     7066\n9998                     1885\n9999                     5748\n\n[10000 rows x 1 columns]"
     },
     "execution_count": 24,
     "metadata": {},
     "output_type": "execute_result"
    }
   ],
   "source": [
    "result.indexes"
   ],
   "metadata": {
    "collapsed": false,
    "ExecuteTime": {
     "end_time": "2024-08-12T12:59:02.580414600Z",
     "start_time": "2024-08-12T12:59:02.540586700Z"
    }
   },
   "id": "25b5f585b9cb0776",
   "execution_count": 24
  },
  {
   "cell_type": "code",
   "id": "3d9045c0",
   "metadata": {
    "ExecuteTime": {
     "end_time": "2024-08-12T12:59:02.849189600Z",
     "start_time": "2024-08-12T12:59:02.814848500Z"
    }
   },
   "source": "result.full_data",
   "outputs": [
    {
     "data": {
      "text/plain": "      user_id  signup_month  treat  pre_spends  post_spends   age gender  \\\n0           0             0      0       488.0   414.444444  26.0      M   \n1           1             8      1       512.5   462.222222  26.0      M   \n2           2             7      1       483.0   479.444444  25.0      M   \n3           3             0      0       501.5   424.333333  39.0      M   \n4           4             1      1       543.0   514.555556  18.0      F   \n...       ...           ...    ...         ...          ...   ...    ...   \n9995     9995            10      1       538.5   450.444444  42.0      M   \n9996     9996             0      0       500.5   430.888889  26.0      F   \n9997     9997             3      1       473.0   534.111111  22.0      F   \n9998     9998             2      1       495.0   523.222222  67.0      F   \n9999     9999             7      1       508.0   475.888889  38.0      F   \n\n        industry  user_id_matched  signup_month_matched  treat_matched  \\\n0     E-commerce             9433                     1              1   \n1     E-commerce             5438                     0              0   \n2      Logistics             5165                     0              0   \n3     E-commerce             1735                     1              1   \n4     E-commerce              539                     0              0   \n...          ...              ...                   ...            ...   \n9995   Logistics             5893                     0              0   \n9996   Logistics             7731                     1              1   \n9997  E-commerce             7066                     0              0   \n9998  E-commerce             1885                     0              0   \n9999  E-commerce             5748                     0              0   \n\n      pre_spends_matched  post_spends_matched  age_matched gender_matched  \\\n0                  488.5           518.444444         37.0              F   \n1                  529.0           417.111111         23.0              F   \n2                  498.5           412.222222         25.0              F   \n3                  504.0           516.333333         33.0              M   \n4                  531.0           414.000000         20.0              F   \n...                  ...                  ...          ...            ...   \n9995               535.0           414.555556         40.0              M   \n9996               500.0           515.888889         25.0              M   \n9997               480.0           423.222222         22.0              F   \n9998               499.0           423.000000         67.0              F   \n9999               522.0           424.444444         36.0              M   \n\n     industry_matched  \n0           Logistics  \n1          E-commerce  \n2           Logistics  \n3           Logistics  \n4          E-commerce  \n...               ...  \n9995       E-commerce  \n9996        Logistics  \n9997        Logistics  \n9998        Logistics  \n9999       E-commerce  \n\n[10000 rows x 16 columns]"
     },
     "execution_count": 25,
     "metadata": {},
     "output_type": "execute_result"
    }
   ],
   "execution_count": 25
  },
  {
   "cell_type": "markdown",
   "id": "96a52742",
   "metadata": {},
   "source": [
    "Also it is possible to search pairs only in **test group**. This way we have metric \"auto\" and **ATT** will be estimated. "
   ]
  },
  {
   "cell_type": "code",
   "id": "b67abd5d",
   "metadata": {
    "ExecuteTime": {
     "end_time": "2024-08-12T12:59:20.036996Z",
     "start_time": "2024-08-12T12:59:19.350796700Z"
    }
   },
   "source": [
    "c_data = copy.deepcopy(data)\n",
    "test = Matching(two_sides=False)\n",
    "result = test.execute(c_data)"
   ],
   "outputs": [],
   "execution_count": 26
  },
  {
   "cell_type": "code",
   "id": "cc54c8f3",
   "metadata": {
    "ExecuteTime": {
     "end_time": "2024-08-12T12:59:20.059031600Z",
     "start_time": "2024-08-12T12:59:20.041083600Z"
    }
   },
   "source": "result.resume",
   "outputs": [
    {
     "data": {
      "text/plain": "         ATT\n0  64.343019"
     },
     "execution_count": 27,
     "metadata": {},
     "output_type": "execute_result"
    }
   ],
   "execution_count": 27
  },
  {
   "cell_type": "code",
   "outputs": [
    {
     "data": {
      "text/plain": "      FaissNearestNeighbors┴┴\n0                          -1\n1                        5438\n2                        5165\n3                          -1\n4                         539\n...                       ...\n9995                     5893\n9996                       -1\n9997                     7066\n9998                     1885\n9999                     5748\n\n[10000 rows x 1 columns]"
     },
     "execution_count": 28,
     "metadata": {},
     "output_type": "execute_result"
    }
   ],
   "source": [
    "result.indexes"
   ],
   "metadata": {
    "collapsed": false,
    "ExecuteTime": {
     "end_time": "2024-08-12T12:59:22.490767800Z",
     "start_time": "2024-08-12T12:59:22.473161200Z"
    }
   },
   "id": "501ffee15042d3ea",
   "execution_count": 28
  },
  {
   "cell_type": "code",
   "id": "e061a49b",
   "metadata": {
    "ExecuteTime": {
     "end_time": "2024-08-12T12:59:23.560404500Z",
     "start_time": "2024-08-12T12:59:23.529652400Z"
    }
   },
   "source": "result.full_data",
   "outputs": [
    {
     "data": {
      "text/plain": "      user_id  signup_month  treat  pre_spends  post_spends   age gender  \\\n0           0             0      0       488.0   414.444444  26.0      M   \n1           1             8      1       512.5   462.222222  26.0      M   \n2           2             7      1       483.0   479.444444  25.0      M   \n3           3             0      0       501.5   424.333333  39.0      M   \n4           4             1      1       543.0   514.555556  18.0      F   \n...       ...           ...    ...         ...          ...   ...    ...   \n9995     9995            10      1       538.5   450.444444  42.0      M   \n9996     9996             0      0       500.5   430.888889  26.0      F   \n9997     9997             3      1       473.0   534.111111  22.0      F   \n9998     9998             2      1       495.0   523.222222  67.0      F   \n9999     9999             7      1       508.0   475.888889  38.0      F   \n\n        industry  user_id_matched  signup_month_matched  treat_matched  \\\n0     E-commerce              NaN                   NaN            NaN   \n1     E-commerce           5438.0                   0.0            0.0   \n2      Logistics           5165.0                   0.0            0.0   \n3     E-commerce              NaN                   NaN            NaN   \n4     E-commerce            539.0                   0.0            0.0   \n...          ...              ...                   ...            ...   \n9995   Logistics           5893.0                   0.0            0.0   \n9996   Logistics              NaN                   NaN            NaN   \n9997  E-commerce           7066.0                   0.0            0.0   \n9998  E-commerce           1885.0                   0.0            0.0   \n9999  E-commerce           5748.0                   0.0            0.0   \n\n      pre_spends_matched  post_spends_matched  age_matched gender_matched  \\\n0                    NaN                  NaN          NaN            NaN   \n1                  529.0           417.111111         23.0              F   \n2                  498.5           412.222222         25.0              F   \n3                    NaN                  NaN          NaN            NaN   \n4                  531.0           414.000000         20.0              F   \n...                  ...                  ...          ...            ...   \n9995               535.0           414.555556         40.0              M   \n9996                 NaN                  NaN          NaN            NaN   \n9997               480.0           423.222222         22.0              F   \n9998               499.0           423.000000         67.0              F   \n9999               522.0           424.444444         36.0              M   \n\n     industry_matched  \n0                 NaN  \n1          E-commerce  \n2           Logistics  \n3                 NaN  \n4          E-commerce  \n...               ...  \n9995       E-commerce  \n9996              NaN  \n9997        Logistics  \n9998        Logistics  \n9999       E-commerce  \n\n[10000 rows x 16 columns]"
     },
     "execution_count": 29,
     "metadata": {},
     "output_type": "execute_result"
    }
   ],
   "execution_count": 29
  },
  {
   "cell_type": "markdown",
   "id": "a60205ca",
   "metadata": {},
   "source": [
    "Finally, we may search pairs in L2 distance. "
   ]
  },
  {
   "cell_type": "code",
   "id": "5ac83bea",
   "metadata": {
    "ExecuteTime": {
     "end_time": "2024-08-12T12:59:31.353538700Z",
     "start_time": "2024-08-12T12:59:29.507135900Z"
    }
   },
   "source": [
    "c_data = copy.deepcopy(data)\n",
    "test = Matching(distance=\"l2\", two_sides=False)\n",
    "result = test.execute(c_data)"
   ],
   "outputs": [],
   "execution_count": 30
  },
  {
   "cell_type": "code",
   "id": "4bf5a651",
   "metadata": {
    "ExecuteTime": {
     "end_time": "2024-08-12T12:59:31.448048200Z",
     "start_time": "2024-08-12T12:59:31.356533700Z"
    }
   },
   "source": [
    "result.resume"
   ],
   "outputs": [
    {
     "data": {
      "text/plain": "         ATT\n0  64.182315"
     },
     "execution_count": 31,
     "metadata": {},
     "output_type": "execute_result"
    }
   ],
   "execution_count": 31
  },
  {
   "cell_type": "code",
   "outputs": [
    {
     "data": {
      "text/plain": "      FaissNearestNeighbors┴┴\n0                          -1\n1                        2490\n2                        5493\n3                          -1\n4                         321\n...                       ...\n9995                     5893\n9996                       -1\n9997                     8670\n9998                      507\n9999                     7155\n\n[10000 rows x 1 columns]"
     },
     "execution_count": 32,
     "metadata": {},
     "output_type": "execute_result"
    }
   ],
   "source": [
    "result.indexes"
   ],
   "metadata": {
    "collapsed": false,
    "ExecuteTime": {
     "end_time": "2024-08-12T12:59:35.863997600Z",
     "start_time": "2024-08-12T12:59:35.778811700Z"
    }
   },
   "id": "c2b000183546bd56",
   "execution_count": 32
  },
  {
   "cell_type": "code",
   "id": "06a90f00",
   "metadata": {
    "ExecuteTime": {
     "end_time": "2024-08-12T12:59:37.287530600Z",
     "start_time": "2024-08-12T12:59:37.070049200Z"
    }
   },
   "source": [
    "result.full_data"
   ],
   "outputs": [
    {
     "data": {
      "text/plain": "      user_id  signup_month  treat  pre_spends  post_spends   age gender  \\\n0           0             0      0       488.0   414.444444  26.0      M   \n1           1             8      1       512.5   462.222222  26.0      M   \n2           2             7      1       483.0   479.444444  25.0      M   \n3           3             0      0       501.5   424.333333  39.0      M   \n4           4             1      1       543.0   514.555556  18.0      F   \n...       ...           ...    ...         ...          ...   ...    ...   \n9995     9995            10      1       538.5   450.444444  42.0      M   \n9996     9996             0      0       500.5   430.888889  26.0      F   \n9997     9997             3      1       473.0   534.111111  22.0      F   \n9998     9998             2      1       495.0   523.222222  67.0      F   \n9999     9999             7      1       508.0   475.888889  38.0      F   \n\n        industry  user_id_matched  signup_month_matched  treat_matched  \\\n0     E-commerce              NaN                   NaN            NaN   \n1     E-commerce           2490.0                   0.0            0.0   \n2      Logistics           5493.0                   0.0            0.0   \n3     E-commerce              NaN                   NaN            NaN   \n4     E-commerce            321.0                   0.0            0.0   \n...          ...              ...                   ...            ...   \n9995   Logistics           5893.0                   0.0            0.0   \n9996   Logistics              NaN                   NaN            NaN   \n9997  E-commerce           8670.0                   0.0            0.0   \n9998  E-commerce            507.0                   0.0            0.0   \n9999  E-commerce           7155.0                   0.0            0.0   \n\n      pre_spends_matched  post_spends_matched  age_matched gender_matched  \\\n0                    NaN                  NaN          NaN            NaN   \n1                  511.5           417.444444         27.0              F   \n2                  483.0           408.000000         25.0              M   \n3                    NaN                  NaN          NaN            NaN   \n4                  538.0           421.444444         29.0              M   \n...                  ...                  ...          ...            ...   \n9995               535.0           414.555556         40.0              M   \n9996                 NaN                  NaN          NaN            NaN   \n9997               473.0           415.777778         22.0              F   \n9998               495.0           429.777778         67.0              F   \n9999               509.5           415.000000         38.0              M   \n\n     industry_matched  \n0                 NaN  \n1          E-commerce  \n2          E-commerce  \n3                 NaN  \n4          E-commerce  \n...               ...  \n9995       E-commerce  \n9996              NaN  \n9997        Logistics  \n9998        Logistics  \n9999       E-commerce  \n\n[10000 rows x 16 columns]"
     },
     "execution_count": 33,
     "metadata": {},
     "output_type": "execute_result"
    }
   ],
   "execution_count": 33
  }
 ],
 "metadata": {
  "kernelspec": {
   "display_name": "Python 3",
   "language": "python",
   "name": "python3"
  },
  "language_info": {
   "codemirror_mode": {
    "name": "ipython",
    "version": 3
   },
   "file_extension": ".py",
   "mimetype": "text/x-python",
   "name": "python",
   "nbconvert_exporter": "python",
   "pygments_lexer": "ipython3",
   "version": "3.10.13"
  }
 },
 "nbformat": 4,
 "nbformat_minor": 5
}
