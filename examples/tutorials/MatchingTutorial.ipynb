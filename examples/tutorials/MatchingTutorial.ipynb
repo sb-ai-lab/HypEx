{
 "cells": [
  {
   "cell_type": "markdown",
   "id": "54278f8bd9a4bb39",
   "metadata": {
    "collapsed": false
   },
   "source": [
    "# Matching pipline"
   ]
  },
  {
   "cell_type": "markdown",
   "id": "de103cc6",
   "metadata": {},
   "source": [
    "The comparison method is used in statistical analysis to eliminate distortions caused by differences in the basic characteristics of the studied groups. Simply put, matching helps to make sure that the results of the experiment are really caused by the studied effect, and not by external factors.\n",
    "\n",
    "Matching is most often performed in cases where the use of a standard AB test is impossible."
   ]
  },
  {
   "cell_type": "code",
   "id": "initial_id",
   "metadata": {
    "collapsed": true,
    "ExecuteTime": {
     "end_time": "2024-07-25T15:21:11.227114Z",
     "start_time": "2024-07-25T15:21:10.284591Z"
    }
   },
   "source": [
    "import copy\n",
    "\n",
    "from hypex.dataset import Dataset, InfoRole, TreatmentRole, TargetRole \n",
    "from hypex.experiments.matching import Matching"
   ],
   "outputs": [],
   "execution_count": 1
  },
  {
   "cell_type": "markdown",
   "id": "7e41355993e9e59f",
   "metadata": {
    "collapsed": false
   },
   "source": [
    "## Data preparation \n",
    "\n",
    "It is important to mark the data fields by assigning the appropriate roles:\n",
    "\n",
    "* FeatureRole: a role for columns that contain features or predictor variables. Our split will be based on them. Applied by default if the role is not specified for the column.\n",
    "* TreatmentRole: a role for columns that show the treatment or intervention.\n",
    "* TargetRole: a role for columns that show the target or outcome variable.\n",
    "* InfoRole: a role for columns that contain information about the data, such as user IDs."
   ]
  },
  {
   "cell_type": "code",
   "id": "8abf891fc6804315",
   "metadata": {
    "collapsed": false,
    "ExecuteTime": {
     "end_time": "2024-07-25T15:21:11.267344Z",
     "start_time": "2024-07-25T15:21:11.230554Z"
    }
   },
   "source": [
    "data = Dataset(\n",
    "    roles={\n",
    "        \"user_id\": InfoRole(int),\n",
    "        \"treat\": TreatmentRole(int), \n",
    "        \"post_spends\": TargetRole(float)\n",
    "    }, data=\"data.csv\",\n",
    ")\n",
    "data"
   ],
   "outputs": [
    {
     "data": {
      "text/plain": [
       "      user_id  signup_month  treat  pre_spends  post_spends   age gender  \\\n",
       "0           0             0      0       488.0   414.444444   NaN      M   \n",
       "1           1             8      1       512.5   462.222222  26.0    NaN   \n",
       "2           2             7      1       483.0   479.444444  25.0      M   \n",
       "3           3             0      0       501.5   424.333333  39.0      M   \n",
       "4           4             1      1       543.0   514.555556  18.0      F   \n",
       "...       ...           ...    ...         ...          ...   ...    ...   \n",
       "9995     9995            10      1       538.5   450.444444  42.0      M   \n",
       "9996     9996             0      0       500.5   430.888889  26.0      F   \n",
       "9997     9997             3      1       473.0   534.111111  22.0      F   \n",
       "9998     9998             2      1       495.0   523.222222  67.0      F   \n",
       "9999     9999             7      1       508.0   475.888889  38.0      F   \n",
       "\n",
       "        industry  \n",
       "0     E-commerce  \n",
       "1     E-commerce  \n",
       "2      Logistics  \n",
       "3     E-commerce  \n",
       "4     E-commerce  \n",
       "...          ...  \n",
       "9995   Logistics  \n",
       "9996   Logistics  \n",
       "9997  E-commerce  \n",
       "9998  E-commerce  \n",
       "9999  E-commerce  \n",
       "\n",
       "[10000 rows x 8 columns]"
      ]
     },
     "execution_count": 2,
     "metadata": {},
     "output_type": "execute_result"
    }
   ],
   "execution_count": 2
  },
  {
   "cell_type": "code",
   "id": "4ae8c654db6f5f85",
   "metadata": {
    "collapsed": false,
    "ExecuteTime": {
     "end_time": "2024-07-25T15:21:11.278629Z",
     "start_time": "2024-07-25T15:21:11.270332Z"
    }
   },
   "source": [
    "data.roles"
   ],
   "outputs": [
    {
     "data": {
      "text/plain": [
       "{'user_id': Info(<class 'int'>),\n",
       " 'treat': Treatment(<class 'int'>),\n",
       " 'post_spends': Target(<class 'float'>),\n",
       " 'signup_month': Feature(<class 'int'>),\n",
       " 'pre_spends': Feature(<class 'float'>),\n",
       " 'age': Feature(<class 'float'>),\n",
       " 'gender': Feature(<class 'str'>),\n",
       " 'industry': Feature(<class 'str'>)}"
      ]
     },
     "execution_count": 3,
     "metadata": {},
     "output_type": "execute_result"
    }
   ],
   "execution_count": 3
  },
  {
   "cell_type": "markdown",
   "id": "8848fdfc6e8c0f45",
   "metadata": {
    "collapsed": false
   },
   "source": [
    "## Simple Matching  \n",
    "Now matching has 4 steps: \n",
    "1. Dummy Encoder \n",
    "2. Process Mahalanobis distance \n",
    "3. Two sides pairs searching by faiss \n",
    "4. Metrics (ATT, ATC, ATE) estimation depends on your data "
   ]
  },
  {
   "cell_type": "code",
   "id": "bc7e472bbb7c2a5d",
   "metadata": {
    "collapsed": false,
    "ExecuteTime": {
     "end_time": "2024-07-25T15:21:11.675504Z",
     "start_time": "2024-07-25T15:21:11.281280Z"
    }
   },
   "source": [
    "c_data = copy.deepcopy(data)\n",
    "test = Matching()\n",
    "result = test.execute(c_data)"
   ],
   "outputs": [],
   "execution_count": 4
  },
  {
   "cell_type": "code",
   "id": "d98c94a8b8a763e9",
   "metadata": {
    "collapsed": false,
    "ExecuteTime": {
     "end_time": "2024-07-25T15:21:11.693026Z",
     "start_time": "2024-07-25T15:21:11.679033Z"
    }
   },
   "source": [
    "result.full_data"
   ],
   "outputs": [
    {
     "data": {
      "text/plain": [
       "      user_id  signup_month  treat  pre_spends  post_spends   age gender  \\\n",
       "0           0             0      0       488.0   414.444444   NaN      M   \n",
       "1           0             0      0       488.0   414.444444   NaN      M   \n",
       "2           0             0      0       488.0   414.444444   NaN      M   \n",
       "3           0             0      0       488.0   414.444444   NaN      M   \n",
       "4           0             0      0       488.0   414.444444   NaN      M   \n",
       "...       ...           ...    ...         ...          ...   ...    ...   \n",
       "9995     5053            10      1       497.5   440.888889  65.0      F   \n",
       "9996     5053            10      1       497.5   440.888889  65.0      F   \n",
       "9997     5053            10      1       497.5   440.888889  65.0      F   \n",
       "9998     5062             0      0       463.0   425.777778  29.0      M   \n",
       "9999     5062             0      0       463.0   425.777778  29.0      M   \n",
       "\n",
       "      industry  user_id_matched  signup_month_matched  treat_matched  \\\n",
       "0         True                0                     0              0   \n",
       "1         True                0                     0              0   \n",
       "2         True                0                     0              0   \n",
       "3         True                0                     0              0   \n",
       "4         True                0                     0              0   \n",
       "...        ...              ...                   ...            ...   \n",
       "9995      True             5053                    10              1   \n",
       "9996      True             5053                    10              1   \n",
       "9997      True             5053                    10              1   \n",
       "9998      True             5062                     0              0   \n",
       "9999      True             5062                     0              0   \n",
       "\n",
       "      pre_spends_matched  post_spends_matched  age_matched gender_matched  \\\n",
       "0                    0.0             0.000000          0.0          False   \n",
       "1                    0.0             0.000000          0.0              0   \n",
       "2                    0.0             0.000000          0.0          False   \n",
       "3                    0.0             0.000000          0.0          False   \n",
       "4                    0.0             0.000000          0.0              0   \n",
       "...                  ...                  ...          ...            ...   \n",
       "9995               497.5           440.888889         65.0           True   \n",
       "9996               497.5           440.888889         65.0           True   \n",
       "9997               497.5           440.888889         65.0           True   \n",
       "9998               463.0           425.777778         29.0           True   \n",
       "9999               463.0           425.777778         29.0           True   \n",
       "\n",
       "      industry_matched  \n",
       "0                False  \n",
       "1                False  \n",
       "2                False  \n",
       "3                False  \n",
       "4                False  \n",
       "...                ...  \n",
       "9995              True  \n",
       "9996              True  \n",
       "9997              True  \n",
       "9998              True  \n",
       "9999              True  \n",
       "\n",
       "[10000 rows x 16 columns]"
      ]
     },
     "execution_count": 5,
     "metadata": {},
     "output_type": "execute_result"
    }
   ],
   "execution_count": 5
  },
  {
   "cell_type": "markdown",
   "id": "f149fb84",
   "metadata": {},
   "source": [
    "**ATT** shows the difference in treated group.   \n",
    "**ATC** shows the difference in untreated group.   \n",
    "**ATE** shows the weighted average difference between ATT and ATC.   "
   ]
  },
  {
   "cell_type": "code",
   "id": "8bc40d37",
   "metadata": {
    "ExecuteTime": {
     "end_time": "2024-07-25T15:21:11.758934Z",
     "start_time": "2024-07-25T15:21:11.695989Z"
    }
   },
   "source": [
    "result.resume"
   ],
   "outputs": [
    {
     "data": {
      "text/plain": [
       "{'ATT': 209.90982351881865,\n",
       " 'ATC': 268.1156310338775,\n",
       " 'ATE': 239.38524444444445}"
      ]
     },
     "execution_count": 6,
     "metadata": {},
     "output_type": "execute_result"
    }
   ],
   "execution_count": 6
  },
  {
   "cell_type": "markdown",
   "id": "3ad7a444",
   "metadata": {},
   "source": [
    "We can change **metric** and do estimation again."
   ]
  },
  {
   "cell_type": "code",
   "id": "e22f6e1d",
   "metadata": {
    "ExecuteTime": {
     "end_time": "2024-07-25T15:21:12.144836Z",
     "start_time": "2024-07-25T15:21:11.761275Z"
    }
   },
   "source": [
    "c_data = copy.deepcopy(data)\n",
    "test = Matching(metric=\"atc\")\n",
    "result = test.execute(c_data)"
   ],
   "outputs": [],
   "execution_count": 7
  },
  {
   "cell_type": "code",
   "id": "60424009",
   "metadata": {
    "ExecuteTime": {
     "end_time": "2024-07-25T15:21:12.153875Z",
     "start_time": "2024-07-25T15:21:12.147306Z"
    }
   },
   "source": "result.resume",
   "outputs": [
    {
     "data": {
      "text/plain": [
       "{'ATC': 257.18683078813416}"
      ]
     },
     "execution_count": 8,
     "metadata": {},
     "output_type": "execute_result"
    }
   ],
   "execution_count": 8
  },
  {
   "cell_type": "code",
   "id": "3d9045c0",
   "metadata": {
    "ExecuteTime": {
     "end_time": "2024-07-25T15:21:12.194868Z",
     "start_time": "2024-07-25T15:21:12.157356Z"
    }
   },
   "source": "result.full_data",
   "outputs": [
    {
     "data": {
      "text/plain": [
       "      user_id  signup_month  treat  pre_spends  post_spends   age gender  \\\n",
       "0           0             0      0       488.0   414.444444   NaN      M   \n",
       "1           0             0      0       488.0   414.444444   NaN      M   \n",
       "2           0             0      0       488.0   414.444444   NaN      M   \n",
       "3           0             0      0       488.0   414.444444   NaN      M   \n",
       "4           0             0      0       488.0   414.444444   NaN      M   \n",
       "...       ...           ...    ...         ...          ...   ...    ...   \n",
       "9995     8592            10      1       506.5   429.888889  52.0      M   \n",
       "9996     9040             7      1       489.0   485.777778   NaN      F   \n",
       "9997     9790             1      1       521.5   519.888889   NaN      F   \n",
       "9998     9910             5      1       480.5   499.222222   NaN      F   \n",
       "9999     9950             2      1       520.5   522.777778   NaN      M   \n",
       "\n",
       "      industry  user_id_matched  signup_month_matched  treat_matched  \\\n",
       "0         True                0                     0              0   \n",
       "1         True                0                     0              0   \n",
       "2         True                0                     0              0   \n",
       "3         True                0                     0              0   \n",
       "4         True                0                     0              0   \n",
       "...        ...              ...                   ...            ...   \n",
       "9995      True             8592                    10              1   \n",
       "9996      True             9040                     7              1   \n",
       "9997      True             9790                     1              1   \n",
       "9998      True             9910                     5              1   \n",
       "9999      True             9950                     2              1   \n",
       "\n",
       "      pre_spends_matched  post_spends_matched  age_matched gender_matched  \\\n",
       "0                  488.0           414.444444          NaN              M   \n",
       "1                  488.0           414.444444          NaN              M   \n",
       "2                    0.0             0.000000          0.0              0   \n",
       "3                  488.0           414.444444          NaN              M   \n",
       "4                  488.0           414.444444          NaN              M   \n",
       "...                  ...                  ...          ...            ...   \n",
       "9995               506.5           429.888889         52.0              M   \n",
       "9996               489.0           485.777778          NaN              F   \n",
       "9997               521.5           519.888889          NaN              F   \n",
       "9998               480.5           499.222222          NaN              F   \n",
       "9999               520.5           522.777778          NaN              M   \n",
       "\n",
       "      industry_matched  \n",
       "0                 True  \n",
       "1                 True  \n",
       "2                False  \n",
       "3                 True  \n",
       "4                 True  \n",
       "...                ...  \n",
       "9995              True  \n",
       "9996              True  \n",
       "9997              True  \n",
       "9998              True  \n",
       "9999              True  \n",
       "\n",
       "[10000 rows x 16 columns]"
      ]
     },
     "execution_count": 9,
     "metadata": {},
     "output_type": "execute_result"
    }
   ],
   "execution_count": 9
  },
  {
   "cell_type": "markdown",
   "id": "96a52742",
   "metadata": {},
   "source": [
    "Also it is possible to search pairs only in **test group**. This way we have metric \"auto\" and **ATT** will be estimated. "
   ]
  },
  {
   "cell_type": "code",
   "id": "b67abd5d",
   "metadata": {
    "ExecuteTime": {
     "end_time": "2024-07-25T15:21:12.512517Z",
     "start_time": "2024-07-25T15:21:12.196785Z"
    }
   },
   "source": [
    "c_data = copy.deepcopy(data)\n",
    "test = Matching(two_sides=False)\n",
    "result = test.execute(c_data)"
   ],
   "outputs": [],
   "execution_count": 10
  },
  {
   "cell_type": "code",
   "id": "cc54c8f3",
   "metadata": {
    "ExecuteTime": {
     "end_time": "2024-07-25T15:21:12.523194Z",
     "start_time": "2024-07-25T15:21:12.515827Z"
    }
   },
   "source": "result.resume",
   "outputs": [
    {
     "data": {
      "text/plain": [
       "{'ATT': 209.90982351881865}"
      ]
     },
     "execution_count": 11,
     "metadata": {},
     "output_type": "execute_result"
    }
   ],
   "execution_count": 11
  },
  {
   "cell_type": "code",
   "id": "e061a49b",
   "metadata": {
    "ExecuteTime": {
     "end_time": "2024-07-25T15:21:12.554675Z",
     "start_time": "2024-07-25T15:21:12.526291Z"
    }
   },
   "source": "result.full_data",
   "outputs": [
    {
     "data": {
      "text/plain": [
       "      user_id  signup_month  treat  pre_spends  post_spends   age gender  \\\n",
       "0           0             0      0       488.0   414.444444   NaN      M   \n",
       "1           0             0      0       488.0   414.444444   NaN      M   \n",
       "2           0             0      0       488.0   414.444444   NaN      M   \n",
       "3           0             0      0       488.0   414.444444   NaN      M   \n",
       "4           0             0      0       488.0   414.444444   NaN      M   \n",
       "...       ...           ...    ...         ...          ...   ...    ...   \n",
       "9995     4931             0      0       480.5   426.777778  48.0    NaN   \n",
       "9996     4931             0      0       480.5   426.777778  48.0    NaN   \n",
       "9997     4931             0      0       480.5   426.777778  48.0    NaN   \n",
       "9998     4931             0      0       480.5   426.777778  48.0    NaN   \n",
       "9999     4931             0      0       480.5   426.777778  48.0    NaN   \n",
       "\n",
       "      industry  user_id_matched  signup_month_matched  treat_matched  \\\n",
       "0         True                0                     0              0   \n",
       "1         True                0                     0              0   \n",
       "2         True                0                     0              0   \n",
       "3         True                0                     0              0   \n",
       "4         True                0                     0              0   \n",
       "...        ...              ...                   ...            ...   \n",
       "9995      True             4931                     0              0   \n",
       "9996      True             4931                     0              0   \n",
       "9997      True             4931                     0              0   \n",
       "9998      True             4931                     0              0   \n",
       "9999      True             4931                     0              0   \n",
       "\n",
       "      pre_spends_matched  post_spends_matched  age_matched gender_matched  \\\n",
       "0                    0.0             0.000000          0.0              0   \n",
       "1                    0.0             0.000000          0.0              0   \n",
       "2                    0.0             0.000000          0.0              0   \n",
       "3                    0.0             0.000000          0.0              0   \n",
       "4                    0.0             0.000000          0.0              0   \n",
       "...                  ...                  ...          ...            ...   \n",
       "9995               480.5           426.777778         48.0            NaN   \n",
       "9996               480.5           426.777778         48.0            NaN   \n",
       "9997               480.5           426.777778         48.0            NaN   \n",
       "9998               480.5           426.777778         48.0            NaN   \n",
       "9999               480.5           426.777778         48.0            NaN   \n",
       "\n",
       "      industry_matched  \n",
       "0                False  \n",
       "1                False  \n",
       "2                False  \n",
       "3                False  \n",
       "4                False  \n",
       "...                ...  \n",
       "9995              True  \n",
       "9996              True  \n",
       "9997              True  \n",
       "9998              True  \n",
       "9999              True  \n",
       "\n",
       "[10000 rows x 16 columns]"
      ]
     },
     "execution_count": 12,
     "metadata": {},
     "output_type": "execute_result"
    }
   ],
   "execution_count": 12
  },
  {
   "cell_type": "markdown",
   "id": "a60205ca",
   "metadata": {},
   "source": [
    "Finally, we may search pairs in L2 distance. "
   ]
  },
  {
   "cell_type": "code",
   "id": "5ac83bea",
   "metadata": {
    "ExecuteTime": {
     "end_time": "2024-07-25T15:21:12.810621Z",
     "start_time": "2024-07-25T15:21:12.557431Z"
    }
   },
   "source": [
    "c_data = copy.deepcopy(data)\n",
    "test = Matching(distance=\"l2\", two_sides=False)\n",
    "result = test.execute(c_data)"
   ],
   "outputs": [],
   "execution_count": 13
  },
  {
   "cell_type": "code",
   "id": "4bf5a651",
   "metadata": {
    "ExecuteTime": {
     "end_time": "2024-07-25T15:21:12.821351Z",
     "start_time": "2024-07-25T15:21:12.814659Z"
    }
   },
   "source": [
    "result.resume"
   ],
   "outputs": [
    {
     "data": {
      "text/plain": [
       "{'ATT': 187.37531514496666}"
      ]
     },
     "execution_count": 14,
     "metadata": {},
     "output_type": "execute_result"
    }
   ],
   "execution_count": 14
  },
  {
   "cell_type": "code",
   "id": "06a90f00",
   "metadata": {
    "ExecuteTime": {
     "end_time": "2024-07-25T15:21:12.838476Z",
     "start_time": "2024-07-25T15:21:12.824580Z"
    }
   },
   "source": [
    "result.full_data"
   ],
   "outputs": [
    {
     "data": {
      "text/plain": [
       "      user_id  signup_month  treat  pre_spends  post_spends   age gender  \\\n",
       "0           0             0      0       488.0   414.444444   NaN      M   \n",
       "1           0             0      0       488.0   414.444444   NaN      M   \n",
       "2           0             0      0       488.0   414.444444   NaN      M   \n",
       "3           0             0      0       488.0   414.444444   NaN      M   \n",
       "4           0             0      0       488.0   414.444444   NaN      M   \n",
       "...       ...           ...    ...         ...          ...   ...    ...   \n",
       "9995     4931             0      0       480.5   426.777778  48.0    NaN   \n",
       "9996     4931             0      0       480.5   426.777778  48.0    NaN   \n",
       "9997     4932             0      0       489.0   417.111111  60.0      F   \n",
       "9998     4934             1      1       562.0   538.333333  64.0      M   \n",
       "9999     4934             1      1       562.0   538.333333  64.0      M   \n",
       "\n",
       "      industry  user_id_matched  signup_month_matched  treat_matched  \\\n",
       "0         True                0                     0              0   \n",
       "1         True                0                     0              0   \n",
       "2         True                0                     0              0   \n",
       "3         True                0                     0              0   \n",
       "4         True                0                     0              0   \n",
       "...        ...              ...                   ...            ...   \n",
       "9995      True             4931                     0              0   \n",
       "9996      True             4931                     0              0   \n",
       "9997      True             4932                     0              0   \n",
       "9998      True             4934                     1              1   \n",
       "9999      True             4934                     1              1   \n",
       "\n",
       "      pre_spends_matched  post_spends_matched  age_matched gender_matched  \\\n",
       "0                    0.0             0.000000          0.0              0   \n",
       "1                    0.0             0.000000          0.0              0   \n",
       "2                    0.0             0.000000          0.0              0   \n",
       "3                    0.0             0.000000          0.0              0   \n",
       "4                    0.0             0.000000          0.0              0   \n",
       "...                  ...                  ...          ...            ...   \n",
       "9995               480.5           426.777778         48.0            NaN   \n",
       "9996               480.5           426.777778         48.0            NaN   \n",
       "9997               489.0           417.111111         60.0              F   \n",
       "9998               562.0           538.333333         64.0              M   \n",
       "9999               562.0           538.333333         64.0              M   \n",
       "\n",
       "      industry_matched  \n",
       "0                False  \n",
       "1                False  \n",
       "2                False  \n",
       "3                False  \n",
       "4                False  \n",
       "...                ...  \n",
       "9995              True  \n",
       "9996              True  \n",
       "9997              True  \n",
       "9998              True  \n",
       "9999              True  \n",
       "\n",
       "[10000 rows x 16 columns]"
      ]
     },
     "execution_count": 15,
     "metadata": {},
     "output_type": "execute_result"
    }
   ],
   "execution_count": 15
  }
 ],
 "metadata": {
  "kernelspec": {
   "display_name": "Python 3",
   "language": "python",
   "name": "python3"
  },
  "language_info": {
   "codemirror_mode": {
    "name": "ipython",
    "version": 3
   },
   "file_extension": ".py",
   "mimetype": "text/x-python",
   "name": "python",
   "nbconvert_exporter": "python",
   "pygments_lexer": "ipython3",
   "version": "3.10.13"
  }
 },
 "nbformat": 4,
 "nbformat_minor": 5
}
