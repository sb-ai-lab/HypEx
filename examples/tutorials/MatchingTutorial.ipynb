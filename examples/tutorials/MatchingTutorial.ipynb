{
 "cells": [
  {
   "cell_type": "markdown",
   "id": "54278f8bd9a4bb39",
   "metadata": {
    "collapsed": false
   },
   "source": [
    "# Matching pipline"
   ]
  },
  {
   "cell_type": "markdown",
   "id": "de103cc6",
   "metadata": {},
   "source": [
    "The comparison method is used in statistical analysis to eliminate distortions caused by differences in the basic characteristics of the studied groups. Simply put, matching helps to make sure that the results of the experiment are really caused by the studied effect, and not by external factors.\n",
    "\n",
    "Matching is most often performed in cases where the use of a standard AB test is impossible."
   ]
  },
  {
   "cell_type": "code",
   "id": "initial_id",
   "metadata": {
    "collapsed": true,
    "ExecuteTime": {
     "end_time": "2024-08-15T06:55:48.631865Z",
     "start_time": "2024-08-15T06:55:47.581678Z"
    }
   },
   "source": [
    "import copy\n",
    "\n",
    "from hypex.dataset import Dataset, InfoRole, TreatmentRole, TargetRole \n",
    "from hypex.experiments.matching import Matching"
   ],
   "outputs": [],
   "execution_count": 1
  },
  {
   "cell_type": "markdown",
   "id": "7e41355993e9e59f",
   "metadata": {
    "collapsed": false
   },
   "source": [
    "## Data preparation \n",
    "\n",
    "It is important to mark the data fields by assigning the appropriate roles:\n",
    "\n",
    "* FeatureRole: a role for columns that contain features or predictor variables. Our split will be based on them. Applied by default if the role is not specified for the column.\n",
    "* TreatmentRole: a role for columns that show the treatment or intervention.\n",
    "* TargetRole: a role for columns that show the target or outcome variable.\n",
    "* InfoRole: a role for columns that contain information about the data, such as user IDs."
   ]
  },
  {
   "cell_type": "code",
   "id": "8abf891fc6804315",
   "metadata": {
    "collapsed": false,
    "ExecuteTime": {
     "end_time": "2024-08-15T06:55:48.691870Z",
     "start_time": "2024-08-15T06:55:48.636488Z"
    }
   },
   "source": [
    "data = Dataset(\n",
    "    roles={\n",
    "        \"user_id\": InfoRole(int),\n",
    "        \"treat\": TreatmentRole(int), \n",
    "        \"post_spends\": TargetRole(float)\n",
    "    }, data=\"data.csv\",\n",
    ")\n",
    "data"
   ],
   "outputs": [
    {
     "data": {
      "text/plain": [
       "      user_id  signup_month  treat  pre_spends  post_spends   age gender  \\\n",
       "0           0             0      0       488.0   414.444444   NaN      M   \n",
       "1           1             8      1       512.5   462.222222  26.0    NaN   \n",
       "2           2             7      1       483.0   479.444444  25.0      M   \n",
       "3           3             0      0       501.5   424.333333  39.0      M   \n",
       "4           4             1      1       543.0   514.555556  18.0      F   \n",
       "...       ...           ...    ...         ...          ...   ...    ...   \n",
       "9995     9995            10      1       538.5   450.444444  42.0      M   \n",
       "9996     9996             0      0       500.5   430.888889  26.0      F   \n",
       "9997     9997             3      1       473.0   534.111111  22.0      F   \n",
       "9998     9998             2      1       495.0   523.222222  67.0      F   \n",
       "9999     9999             7      1       508.0   475.888889  38.0      F   \n",
       "\n",
       "        industry  \n",
       "0     E-commerce  \n",
       "1     E-commerce  \n",
       "2      Logistics  \n",
       "3     E-commerce  \n",
       "4     E-commerce  \n",
       "...          ...  \n",
       "9995   Logistics  \n",
       "9996   Logistics  \n",
       "9997  E-commerce  \n",
       "9998  E-commerce  \n",
       "9999  E-commerce  \n",
       "\n",
       "[10000 rows x 8 columns]"
      ]
     },
     "execution_count": 2,
     "metadata": {},
     "output_type": "execute_result"
    }
   ],
   "execution_count": 2
  },
  {
   "cell_type": "code",
   "id": "4ae8c654db6f5f85",
   "metadata": {
    "collapsed": false,
    "ExecuteTime": {
     "end_time": "2024-08-15T06:55:48.751923Z",
     "start_time": "2024-08-15T06:55:48.694958Z"
    }
   },
   "source": [
    "data.roles"
   ],
   "outputs": [
    {
     "data": {
      "text/plain": [
       "{'user_id': Info(<class 'int'>),\n",
       " 'treat': Treatment(<class 'int'>),\n",
       " 'post_spends': Target(<class 'float'>),\n",
       " 'signup_month': Feature(<class 'int'>),\n",
       " 'pre_spends': Feature(<class 'float'>),\n",
       " 'age': Feature(<class 'float'>),\n",
       " 'gender': Feature(<class 'str'>),\n",
       " 'industry': Feature(<class 'str'>)}"
      ]
     },
     "execution_count": 3,
     "metadata": {},
     "output_type": "execute_result"
    }
   ],
   "execution_count": 3
  },
  {
   "cell_type": "markdown",
   "id": "8848fdfc6e8c0f45",
   "metadata": {
    "collapsed": false
   },
   "source": [
    "## Simple Matching  \n",
    "Now matching has 4 steps: \n",
    "1. Dummy Encoder \n",
    "2. Process Mahalanobis distance \n",
    "3. Two sides pairs searching by faiss \n",
    "4. Metrics (ATT, ATC, ATE) estimation depends on your data "
   ]
  },
  {
   "cell_type": "code",
   "source": [
    "data = data.fillna(method=\"bfill\")"
   ],
   "metadata": {
    "collapsed": false,
    "ExecuteTime": {
     "end_time": "2024-08-15T06:55:48.811847Z",
     "start_time": "2024-08-15T06:55:48.755749Z"
    }
   },
   "id": "20e64ee990f83d47",
   "outputs": [
    {
     "name": "stderr",
     "output_type": "stream",
     "text": [
      "/home/tony_katkov/job/HypEx/hypex/dataset/backends/pandas_backend.py:385: FutureWarning: DataFrame.fillna with 'method' is deprecated and will raise in a future version. Use obj.ffill() or obj.bfill() instead.\n",
      "  return self.data.fillna(values, method=method, **kwargs)\n"
     ]
    }
   ],
   "execution_count": 4
  },
  {
   "cell_type": "code",
   "id": "bc7e472bbb7c2a5d",
   "metadata": {
    "collapsed": false,
    "ExecuteTime": {
     "end_time": "2024-08-15T06:55:49.411964Z",
     "start_time": "2024-08-15T06:55:48.815404Z"
    }
   },
   "source": [
    "c_data = copy.deepcopy(data)\n",
    "test = Matching()\n",
    "result = test.execute(c_data)"
   ],
   "outputs": [
    {
     "ename": "IndexError",
     "evalue": "list index out of range",
     "output_type": "error",
     "traceback": [
      "\u001B[0;31m---------------------------------------------------------------------------\u001B[0m",
      "\u001B[0;31mIndexError\u001B[0m                                Traceback (most recent call last)",
      "Cell \u001B[0;32mIn[5], line 3\u001B[0m\n\u001B[1;32m      1\u001B[0m c_data \u001B[38;5;241m=\u001B[39m copy\u001B[38;5;241m.\u001B[39mdeepcopy(data)\n\u001B[1;32m      2\u001B[0m test \u001B[38;5;241m=\u001B[39m Matching()\n\u001B[0;32m----> 3\u001B[0m result \u001B[38;5;241m=\u001B[39m \u001B[43mtest\u001B[49m\u001B[38;5;241;43m.\u001B[39;49m\u001B[43mexecute\u001B[49m\u001B[43m(\u001B[49m\u001B[43mc_data\u001B[49m\u001B[43m)\u001B[49m\n",
      "File \u001B[0;32m~/job/HypEx/hypex/ui/base.py:62\u001B[0m, in \u001B[0;36mExperimentShell.execute\u001B[0;34m(self, data)\u001B[0m\n\u001B[1;32m     60\u001B[0m \u001B[38;5;28;01mif\u001B[39;00m \u001B[38;5;28misinstance\u001B[39m(data, Dataset):\n\u001B[1;32m     61\u001B[0m     data \u001B[38;5;241m=\u001B[39m ExperimentData(data)\n\u001B[0;32m---> 62\u001B[0m result_experiment_data \u001B[38;5;241m=\u001B[39m \u001B[38;5;28;43mself\u001B[39;49m\u001B[38;5;241;43m.\u001B[39;49m\u001B[43m_experiment\u001B[49m\u001B[38;5;241;43m.\u001B[39;49m\u001B[43mexecute\u001B[49m\u001B[43m(\u001B[49m\u001B[43mdata\u001B[49m\u001B[43m)\u001B[49m\n\u001B[1;32m     63\u001B[0m \u001B[38;5;28mself\u001B[39m\u001B[38;5;241m.\u001B[39m_out\u001B[38;5;241m.\u001B[39mextract(result_experiment_data)\n\u001B[1;32m     64\u001B[0m \u001B[38;5;28;01mreturn\u001B[39;00m \u001B[38;5;28mself\u001B[39m\u001B[38;5;241m.\u001B[39m_out\n",
      "File \u001B[0;32m~/job/HypEx/hypex/experiments/base.py:69\u001B[0m, in \u001B[0;36mExperiment.execute\u001B[0;34m(self, data)\u001B[0m\n\u001B[1;32m     67\u001B[0m \u001B[38;5;28;01mfor\u001B[39;00m executor \u001B[38;5;129;01min\u001B[39;00m \u001B[38;5;28mself\u001B[39m\u001B[38;5;241m.\u001B[39mexecutors:\n\u001B[1;32m     68\u001B[0m     executor\u001B[38;5;241m.\u001B[39mkey \u001B[38;5;241m=\u001B[39m \u001B[38;5;28mself\u001B[39m\u001B[38;5;241m.\u001B[39mkey\n\u001B[0;32m---> 69\u001B[0m     experiment_data \u001B[38;5;241m=\u001B[39m \u001B[43mexecutor\u001B[49m\u001B[38;5;241;43m.\u001B[39;49m\u001B[43mexecute\u001B[49m\u001B[43m(\u001B[49m\u001B[43mexperiment_data\u001B[49m\u001B[43m)\u001B[49m\n\u001B[1;32m     70\u001B[0m \u001B[38;5;28;01mreturn\u001B[39;00m experiment_data\n",
      "File \u001B[0;32m~/job/HypEx/hypex/operators/operators.py:268\u001B[0m, in \u001B[0;36mBias.execute\u001B[0;34m(self, data)\u001B[0m\n\u001B[1;32m    266\u001B[0m t_data \u001B[38;5;241m=\u001B[39m deepcopy(data\u001B[38;5;241m.\u001B[39mds)\n\u001B[1;32m    267\u001B[0m \u001B[38;5;28;01mif\u001B[39;00m \u001B[38;5;28mlen\u001B[39m(target_fields) \u001B[38;5;241m<\u001B[39m \u001B[38;5;241m2\u001B[39m:\n\u001B[0;32m--> 268\u001B[0m     matched_data \u001B[38;5;241m=\u001B[39m \u001B[38;5;28;43mself\u001B[39;49m\u001B[38;5;241;43m.\u001B[39;49m\u001B[43m_prepare_data\u001B[49m\u001B[43m(\u001B[49m\u001B[43mdata\u001B[49m\u001B[43m,\u001B[49m\u001B[43m \u001B[49m\u001B[43mt_data\u001B[49m\u001B[43m)\u001B[49m\n\u001B[1;32m    269\u001B[0m     target_fields \u001B[38;5;241m+\u001B[39m\u001B[38;5;241m=\u001B[39m [matched_data\u001B[38;5;241m.\u001B[39msearch_columns(TargetRole())[\u001B[38;5;241m0\u001B[39m]]\n\u001B[1;32m    270\u001B[0m     t_data \u001B[38;5;241m=\u001B[39m t_data\u001B[38;5;241m.\u001B[39mappend(matched_data\u001B[38;5;241m.\u001B[39mreindex(t_data\u001B[38;5;241m.\u001B[39mindex), axis\u001B[38;5;241m=\u001B[39m\u001B[38;5;241m1\u001B[39m)\n",
      "File \u001B[0;32m~/job/HypEx/hypex/operators/operators.py:253\u001B[0m, in \u001B[0;36mBias._prepare_data\u001B[0;34m(self, data, t_data)\u001B[0m\n\u001B[1;32m    252\u001B[0m \u001B[38;5;28;01mdef\u001B[39;00m \u001B[38;5;21m_prepare_data\u001B[39m(\u001B[38;5;28mself\u001B[39m, data: ExperimentData, t_data: Dataset) \u001B[38;5;241m-\u001B[39m\u001B[38;5;241m>\u001B[39m Dataset:\n\u001B[0;32m--> 253\u001B[0m     indexes \u001B[38;5;241m=\u001B[39m data\u001B[38;5;241m.\u001B[39madditional_fields[\u001B[38;5;28;43mself\u001B[39;49m\u001B[38;5;241;43m.\u001B[39;49m\u001B[43m_field_searching\u001B[49m\u001B[43m(\u001B[49m\u001B[43mdata\u001B[49m\u001B[43m,\u001B[49m\u001B[43m \u001B[49m\u001B[43mMatchingRole\u001B[49m\u001B[43m(\u001B[49m\u001B[43m)\u001B[49m\u001B[43m)\u001B[49m\u001B[43m[\u001B[49m\u001B[38;5;241;43m0\u001B[39;49m\u001B[43m]\u001B[49m]\n\u001B[1;32m    254\u001B[0m     indexes\u001B[38;5;241m.\u001B[39mindex \u001B[38;5;241m=\u001B[39m t_data\u001B[38;5;241m.\u001B[39mindex\n\u001B[1;32m    255\u001B[0m     filtered_field \u001B[38;5;241m=\u001B[39m indexes\u001B[38;5;241m.\u001B[39mdrop(\n\u001B[1;32m    256\u001B[0m         indexes[indexes[indexes\u001B[38;5;241m.\u001B[39mcolumns[\u001B[38;5;241m0\u001B[39m]] \u001B[38;5;241m==\u001B[39m \u001B[38;5;241m-\u001B[39m\u001B[38;5;241m1\u001B[39m], axis\u001B[38;5;241m=\u001B[39m\u001B[38;5;241m0\u001B[39m\n\u001B[1;32m    257\u001B[0m     )\n",
      "\u001B[0;31mIndexError\u001B[0m: list index out of range"
     ]
    }
   ],
   "execution_count": 5
  },
  {
   "cell_type": "markdown",
   "source": [
    "**ATT** shows the difference in treated group.   \n",
    "**ATC** shows the difference in untreated group.   \n",
    "**ATE** shows the weighted average difference between ATT and ATC.  "
   ],
   "metadata": {
    "collapsed": false
   },
   "id": "d8a47b848e13e745"
  },
  {
   "cell_type": "code",
   "source": [
    "result.resume"
   ],
   "metadata": {
    "collapsed": false,
    "ExecuteTime": {
     "end_time": "2024-08-15T06:55:49.416720Z",
     "start_time": "2024-08-15T06:55:49.416317Z"
    }
   },
   "id": "24cb598e7fbd81fd",
   "outputs": [],
   "execution_count": null
  },
  {
   "cell_type": "code",
   "source": [
    "result.indexes"
   ],
   "metadata": {
    "collapsed": false
   },
   "id": "f01b67ab0e1b369d",
   "outputs": [],
   "execution_count": null
  },
  {
   "cell_type": "code",
   "id": "d98c94a8b8a763e9",
   "metadata": {
    "collapsed": false
   },
   "source": [
    "result.full_data"
   ],
   "outputs": [],
   "execution_count": null
  },
  {
   "cell_type": "markdown",
   "id": "3ad7a444",
   "metadata": {},
   "source": [
    "We can change **metric** and do estimation again."
   ]
  },
  {
   "cell_type": "code",
   "id": "e22f6e1d",
   "metadata": {},
   "source": [
    "c_data = copy.deepcopy(data)\n",
    "test = Matching(metric=\"atc\")\n",
    "result = test.execute(c_data)"
   ],
   "outputs": [],
   "execution_count": null
  },
  {
   "cell_type": "code",
   "id": "60424009",
   "metadata": {},
   "source": "result.resume",
   "outputs": [],
   "execution_count": null
  },
  {
   "cell_type": "code",
   "source": [
    "result.indexes"
   ],
   "metadata": {
    "collapsed": false
   },
   "id": "25b5f585b9cb0776",
   "outputs": [],
   "execution_count": null
  },
  {
   "cell_type": "code",
   "id": "3d9045c0",
   "metadata": {},
   "source": "result.full_data",
   "outputs": [],
   "execution_count": null
  },
  {
   "cell_type": "markdown",
   "id": "96a52742",
   "metadata": {},
   "source": [
    "Also it is possible to search pairs only in **test group**. This way we have metric \"auto\" and **ATT** will be estimated. "
   ]
  },
  {
   "cell_type": "code",
   "id": "b67abd5d",
   "metadata": {},
   "source": [
    "c_data = copy.deepcopy(data)\n",
    "test = Matching(two_sides=False)\n",
    "result = test.execute(c_data)"
   ],
   "outputs": [],
   "execution_count": null
  },
  {
   "cell_type": "code",
   "id": "cc54c8f3",
   "metadata": {},
   "source": "result.resume",
   "outputs": [],
   "execution_count": null
  },
  {
   "cell_type": "code",
   "source": [
    "result.indexes"
   ],
   "metadata": {
    "collapsed": false
   },
   "id": "501ffee15042d3ea",
   "outputs": [],
   "execution_count": null
  },
  {
   "cell_type": "code",
   "id": "e061a49b",
   "metadata": {},
   "source": "result.full_data",
   "outputs": [],
   "execution_count": null
  },
  {
   "cell_type": "markdown",
   "id": "a60205ca",
   "metadata": {},
   "source": [
    "Finally, we may search pairs in L2 distance. "
   ]
  },
  {
   "cell_type": "code",
   "id": "5ac83bea",
   "metadata": {},
   "source": [
    "c_data = copy.deepcopy(data)\n",
    "test = Matching(distance=\"l2\", two_sides=False)\n",
    "result = test.execute(c_data)"
   ],
   "outputs": [],
   "execution_count": null
  },
  {
   "cell_type": "code",
   "id": "4bf5a651",
   "metadata": {},
   "source": [
    "result.resume"
   ],
   "outputs": [],
   "execution_count": null
  },
  {
   "cell_type": "code",
   "source": [
    "result.indexes"
   ],
   "metadata": {
    "collapsed": false
   },
   "id": "c2b000183546bd56",
   "outputs": [],
   "execution_count": null
  },
  {
   "cell_type": "code",
   "id": "06a90f00",
   "metadata": {},
   "source": [
    "result.full_data"
   ],
   "outputs": [],
   "execution_count": null
  }
 ],
 "metadata": {
  "kernelspec": {
   "display_name": "Python 3",
   "language": "python",
   "name": "python3"
  },
  "language_info": {
   "codemirror_mode": {
    "name": "ipython",
    "version": 3
   },
   "file_extension": ".py",
   "mimetype": "text/x-python",
   "name": "python",
   "nbconvert_exporter": "python",
   "pygments_lexer": "ipython3",
   "version": "3.10.13"
  }
 },
 "nbformat": 4,
 "nbformat_minor": 5
}
