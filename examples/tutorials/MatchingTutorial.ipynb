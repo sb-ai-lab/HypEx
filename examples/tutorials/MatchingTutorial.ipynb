{
 "cells": [
  {
   "cell_type": "markdown",
   "id": "54278f8bd9a4bb39",
   "metadata": {
    "collapsed": false
   },
   "source": [
    "# Matching pipline"
   ]
  },
  {
   "cell_type": "markdown",
   "id": "de103cc6",
   "metadata": {},
   "source": [
    "The comparison method is used in statistical analysis to eliminate distortions caused by differences in the basic characteristics of the studied groups. Simply put, matching helps to make sure that the results of the experiment are really caused by the studied effect, and not by external factors.\n",
    "\n",
    "Matching is most often performed in cases where the use of a standard AB test is impossible."
   ]
  },
  {
   "cell_type": "code",
   "execution_count": 1,
   "id": "initial_id",
   "metadata": {
    "collapsed": true,
    "ExecuteTime": {
     "end_time": "2024-09-02T12:56:25.567283300Z",
     "start_time": "2024-09-02T12:56:23.786746200Z"
    }
   },
   "outputs": [
    {
     "name": "stderr",
     "output_type": "stream",
     "text": [
      "C:\\Users\\User\\AppData\\Local\\Programs\\Python\\Python310\\lib\\site-packages\\tqdm\\auto.py:21: TqdmWarning: IProgress not found. Please update jupyter and ipywidgets. See https://ipywidgets.readthedocs.io/en/stable/user_install.html\n",
      "  from .autonotebook import tqdm as notebook_tqdm\n"
     ]
    }
   ],
   "source": [
    "from hypex.dataset import Dataset, InfoRole, TreatmentRole, TargetRole, FeatureRole, GroupingRole\n",
    "from hypex.experiments.matching import Matching"
   ]
  },
  {
   "cell_type": "markdown",
   "id": "7e41355993e9e59f",
   "metadata": {
    "collapsed": false
   },
   "source": [
    "## Data preparation \n",
    "\n",
    "It is important to mark the data fields by assigning the appropriate roles:\n",
    "\n",
    "* FeatureRole: a role for columns that contain features or predictor variables. Our split will be based on them. Applied by default if the role is not specified for the column.\n",
    "* TreatmentRole: a role for columns that show the treatment or intervention.\n",
    "* TargetRole: a role for columns that show the target or outcome variable.\n",
    "* InfoRole: a role for columns that contain information about the data, such as user IDs."
   ]
  },
  {
   "cell_type": "code",
   "execution_count": 2,
   "id": "8abf891fc6804315",
   "metadata": {
    "collapsed": false,
    "ExecuteTime": {
     "end_time": "2024-09-02T12:56:25.653271Z",
     "start_time": "2024-09-02T12:56:25.570790600Z"
    }
   },
   "outputs": [
    {
     "data": {
      "text/plain": "      user_id  signup_month  treat  pre_spends  post_spends   age gender  \\\n0           0             0      0       488.0   414.444444   NaN      M   \n1           1             8      1       512.5   462.222222  26.0    NaN   \n2           2             7      1       483.0   479.444444  25.0      M   \n3           3             0      0       501.5   424.333333  39.0      M   \n4           4             1      1       543.0   514.555556  18.0      F   \n...       ...           ...    ...         ...          ...   ...    ...   \n9995     9995            10      1       538.5   450.444444  42.0      M   \n9996     9996             0      0       500.5   430.888889  26.0      F   \n9997     9997             3      1       473.0   534.111111  22.0      F   \n9998     9998             2      1       495.0   523.222222  67.0      F   \n9999     9999             7      1       508.0   475.888889  38.0      F   \n\n        industry  \n0     E-commerce  \n1     E-commerce  \n2      Logistics  \n3     E-commerce  \n4     E-commerce  \n...          ...  \n9995   Logistics  \n9996   Logistics  \n9997  E-commerce  \n9998  E-commerce  \n9999  E-commerce  \n\n[10000 rows x 8 columns]"
     },
     "execution_count": 2,
     "metadata": {},
     "output_type": "execute_result"
    }
   ],
   "source": [
    "data = Dataset(\n",
    "    roles={\n",
    "        \"user_id\": InfoRole(int),\n",
    "        \"treat\": TreatmentRole(int), \n",
    "        \"post_spends\": TargetRole(float), \n",
    "        \"industry\": GroupingRole()\n",
    "    },\n",
    "    data=\"data.csv\",\n",
    "    default_role=FeatureRole(),\n",
    ")\n",
    "data"
   ]
  },
  {
   "cell_type": "code",
   "execution_count": 3,
   "id": "4ae8c654db6f5f85",
   "metadata": {
    "collapsed": false,
    "ExecuteTime": {
     "end_time": "2024-09-02T12:56:25.742874200Z",
     "start_time": "2024-09-02T12:56:25.653346500Z"
    }
   },
   "outputs": [
    {
     "data": {
      "text/plain": "{'user_id': Info(<class 'int'>),\n 'treat': Treatment(<class 'int'>),\n 'post_spends': Target(<class 'float'>),\n 'industry': Grouping(<class 'str'>),\n 'signup_month': Feature(<class 'int'>),\n 'pre_spends': Feature(<class 'float'>),\n 'age': Feature(<class 'float'>),\n 'gender': Feature(<class 'str'>)}"
     },
     "execution_count": 3,
     "metadata": {},
     "output_type": "execute_result"
    }
   ],
   "source": [
    "data.roles"
   ]
  },
  {
   "cell_type": "markdown",
   "id": "8848fdfc6e8c0f45",
   "metadata": {
    "collapsed": false
   },
   "source": [
    "## Simple Matching  \n",
    "Now matching has 4 steps: \n",
    "1. Dummy Encoder \n",
    "2. Process Mahalanobis distance \n",
    "3. Two sides pairs searching by faiss \n",
    "4. Metrics (ATT, ATC, ATE) estimation depends on your data "
   ]
  },
  {
   "cell_type": "code",
   "execution_count": 4,
   "id": "20e64ee990f83d47",
   "metadata": {
    "collapsed": false,
    "ExecuteTime": {
     "end_time": "2024-09-02T12:56:25.747318400Z",
     "start_time": "2024-09-02T12:56:25.682815200Z"
    }
   },
   "outputs": [
    {
     "name": "stderr",
     "output_type": "stream",
     "text": [
      "C:\\Users\\User\\PycharmProjects\\HypEx\\hypex\\dataset\\backends\\pandas_backend.py:385: FutureWarning: DataFrame.fillna with 'method' is deprecated and will raise in a future version. Use obj.ffill() or obj.bfill() instead.\n",
      "  return self.data.fillna(value=values, method=method, **kwargs)\n"
     ]
    }
   ],
   "source": [
    "data = data.fillna(method=\"bfill\")"
   ]
  },
  {
   "cell_type": "code",
   "execution_count": 5,
   "id": "bc7e472bbb7c2a5d",
   "metadata": {
    "collapsed": false,
    "ExecuteTime": {
     "end_time": "2024-09-02T12:56:26.656916800Z",
     "start_time": "2024-09-02T12:56:25.741795300Z"
    }
   },
   "outputs": [],
   "source": [
    "test = Matching()\n",
    "result = test.execute(data)"
   ]
  },
  {
   "cell_type": "markdown",
   "id": "d8a47b848e13e745",
   "metadata": {
    "collapsed": false
   },
   "source": [
    "**ATT** shows the difference in treated group.   \n",
    "**ATC** shows the difference in untreated group.   \n",
    "**ATE** shows the weighted average difference between ATT and ATC.  "
   ]
  },
  {
   "cell_type": "code",
   "execution_count": 6,
   "id": "24cb598e7fbd81fd",
   "metadata": {
    "collapsed": false,
    "ExecuteTime": {
     "end_time": "2024-09-02T12:56:26.682743700Z",
     "start_time": "2024-09-02T12:56:26.659968400Z"
    }
   },
   "outputs": [
    {
     "data": {
      "text/plain": "     Effect Size  Standard Error  P-value   CI Lower   CI Upper\nATC    96.492623        1.571281      0.0  93.412912  99.572333\nATE    80.144075        1.441167      0.0  77.319387  82.968763\nATT    63.371579        2.446955      0.0  58.575547  68.167610"
     },
     "execution_count": 6,
     "metadata": {},
     "output_type": "execute_result"
    }
   ],
   "source": [
    "result.resume"
   ]
  },
  {
   "cell_type": "code",
   "execution_count": 7,
   "id": "f01b67ab0e1b369d",
   "metadata": {
    "collapsed": false,
    "ExecuteTime": {
     "end_time": "2024-09-02T12:56:26.738214300Z",
     "start_time": "2024-09-02T12:56:26.676094500Z"
    }
   },
   "outputs": [
    {
     "data": {
      "text/plain": "      FaissNearestNeighbors┴┴\n0                        9433\n1                        5438\n2                        5165\n3                        1735\n4                         539\n...                       ...\n9995                     5893\n9996                     7731\n9997                     7066\n9998                     1885\n9999                     5748\n\n[10000 rows x 1 columns]"
     },
     "execution_count": 7,
     "metadata": {},
     "output_type": "execute_result"
    }
   ],
   "source": [
    "result.indexes"
   ]
  },
  {
   "cell_type": "code",
   "execution_count": 8,
   "id": "d98c94a8b8a763e9",
   "metadata": {
    "collapsed": false,
    "ExecuteTime": {
     "end_time": "2024-09-02T12:56:26.740355400Z",
     "start_time": "2024-09-02T12:56:26.689899600Z"
    }
   },
   "outputs": [
    {
     "data": {
      "text/plain": "      user_id  signup_month  treat  pre_spends  post_spends   age gender  \\\n0           0             0      0       488.0   414.444444  26.0      M   \n1           1             8      1       512.5   462.222222  26.0      M   \n2           2             7      1       483.0   479.444444  25.0      M   \n3           3             0      0       501.5   424.333333  39.0      M   \n4           4             1      1       543.0   514.555556  18.0      F   \n...       ...           ...    ...         ...          ...   ...    ...   \n9995     9995            10      1       538.5   450.444444  42.0      M   \n9996     9996             0      0       500.5   430.888889  26.0      F   \n9997     9997             3      1       473.0   534.111111  22.0      F   \n9998     9998             2      1       495.0   523.222222  67.0      F   \n9999     9999             7      1       508.0   475.888889  38.0      F   \n\n        industry  user_id_matched  signup_month_matched  treat_matched  \\\n0     E-commerce             9433                     1              1   \n1     E-commerce             5438                     0              0   \n2      Logistics             5165                     0              0   \n3     E-commerce             1735                     1              1   \n4     E-commerce              539                     0              0   \n...          ...              ...                   ...            ...   \n9995   Logistics             5893                     0              0   \n9996   Logistics             7731                     1              1   \n9997  E-commerce             7066                     0              0   \n9998  E-commerce             1885                     0              0   \n9999  E-commerce             5748                     0              0   \n\n      pre_spends_matched  post_spends_matched  age_matched gender_matched  \\\n0                  488.5           518.444444         37.0              F   \n1                  529.0           417.111111         23.0              F   \n2                  498.5           412.222222         25.0              F   \n3                  504.0           516.333333         33.0              M   \n4                  531.0           414.000000         20.0              F   \n...                  ...                  ...          ...            ...   \n9995               535.0           414.555556         40.0              M   \n9996               500.0           515.888889         25.0              M   \n9997               480.0           423.222222         22.0              F   \n9998               499.0           423.000000         67.0              F   \n9999               522.0           424.444444         36.0              M   \n\n     industry_matched  \n0           Logistics  \n1          E-commerce  \n2           Logistics  \n3           Logistics  \n4          E-commerce  \n...               ...  \n9995       E-commerce  \n9996        Logistics  \n9997        Logistics  \n9998        Logistics  \n9999       E-commerce  \n\n[10000 rows x 16 columns]"
     },
     "execution_count": 8,
     "metadata": {},
     "output_type": "execute_result"
    }
   ],
   "source": [
    "result.full_data"
   ]
  },
  {
   "cell_type": "markdown",
   "id": "3ad7a444",
   "metadata": {},
   "source": [
    "We can change **metric** and do estimation again. In this case matching will be estimated only in one direction "
   ]
  },
  {
   "cell_type": "code",
   "execution_count": 9,
   "id": "e22f6e1d",
   "metadata": {
    "ExecuteTime": {
     "end_time": "2024-09-02T12:56:27.441083400Z",
     "start_time": "2024-09-02T12:56:26.723376700Z"
    }
   },
   "outputs": [],
   "source": [
    "test = Matching(metric=\"atc\")\n",
    "result = test.execute(data)"
   ]
  },
  {
   "cell_type": "code",
   "execution_count": 10,
   "id": "60424009",
   "metadata": {
    "ExecuteTime": {
     "end_time": "2024-09-02T12:56:27.490725700Z",
     "start_time": "2024-09-02T12:56:27.447997500Z"
    }
   },
   "outputs": [
    {
     "data": {
      "text/plain": "     Effect Size  Standard Error  P-value   CI Lower  CI Upper\nATC    96.492623        0.135886      0.0  96.226285  96.75896"
     },
     "execution_count": 10,
     "metadata": {},
     "output_type": "execute_result"
    }
   ],
   "source": [
    "result.resume"
   ]
  },
  {
   "cell_type": "code",
   "execution_count": 11,
   "id": "25b5f585b9cb0776",
   "metadata": {
    "collapsed": false,
    "ExecuteTime": {
     "end_time": "2024-09-02T12:56:27.546045300Z",
     "start_time": "2024-09-02T12:56:27.475493800Z"
    }
   },
   "outputs": [
    {
     "data": {
      "text/plain": "      FaissNearestNeighbors┴┴\n0                        9433\n1                          -1\n2                          -1\n3                        1735\n4                          -1\n...                       ...\n9995                       -1\n9996                     7731\n9997                       -1\n9998                       -1\n9999                       -1\n\n[10000 rows x 1 columns]"
     },
     "execution_count": 11,
     "metadata": {},
     "output_type": "execute_result"
    }
   ],
   "source": [
    "result.indexes"
   ]
  },
  {
   "cell_type": "code",
   "execution_count": 12,
   "id": "3d9045c0",
   "metadata": {
    "ExecuteTime": {
     "end_time": "2024-09-02T12:56:27.566429100Z",
     "start_time": "2024-09-02T12:56:27.505811500Z"
    }
   },
   "outputs": [
    {
     "data": {
      "text/plain": "      user_id  signup_month  treat  pre_spends  post_spends   age gender  \\\n0           0             0      0       488.0   414.444444  26.0      M   \n1           1             8      1       512.5   462.222222  26.0      M   \n2           2             7      1       483.0   479.444444  25.0      M   \n3           3             0      0       501.5   424.333333  39.0      M   \n4           4             1      1       543.0   514.555556  18.0      F   \n...       ...           ...    ...         ...          ...   ...    ...   \n9995     9995            10      1       538.5   450.444444  42.0      M   \n9996     9996             0      0       500.5   430.888889  26.0      F   \n9997     9997             3      1       473.0   534.111111  22.0      F   \n9998     9998             2      1       495.0   523.222222  67.0      F   \n9999     9999             7      1       508.0   475.888889  38.0      F   \n\n        industry  user_id_matched  signup_month_matched  treat_matched  \\\n0     E-commerce           9433.0                   1.0            1.0   \n1     E-commerce              NaN                   NaN            NaN   \n2      Logistics              NaN                   NaN            NaN   \n3     E-commerce           1735.0                   1.0            1.0   \n4     E-commerce              NaN                   NaN            NaN   \n...          ...              ...                   ...            ...   \n9995   Logistics              NaN                   NaN            NaN   \n9996   Logistics           7731.0                   1.0            1.0   \n9997  E-commerce              NaN                   NaN            NaN   \n9998  E-commerce              NaN                   NaN            NaN   \n9999  E-commerce              NaN                   NaN            NaN   \n\n      pre_spends_matched  post_spends_matched  age_matched gender_matched  \\\n0                  488.5           518.444444         37.0              F   \n1                    NaN                  NaN          NaN            NaN   \n2                    NaN                  NaN          NaN            NaN   \n3                  504.0           516.333333         33.0              M   \n4                    NaN                  NaN          NaN            NaN   \n...                  ...                  ...          ...            ...   \n9995                 NaN                  NaN          NaN            NaN   \n9996               500.0           515.888889         25.0              M   \n9997                 NaN                  NaN          NaN            NaN   \n9998                 NaN                  NaN          NaN            NaN   \n9999                 NaN                  NaN          NaN            NaN   \n\n     industry_matched  \n0           Logistics  \n1                 NaN  \n2                 NaN  \n3           Logistics  \n4                 NaN  \n...               ...  \n9995              NaN  \n9996        Logistics  \n9997              NaN  \n9998              NaN  \n9999              NaN  \n\n[10000 rows x 16 columns]"
     },
     "execution_count": 12,
     "metadata": {},
     "output_type": "execute_result"
    }
   ],
   "source": [
    "result.full_data"
   ]
  },
  {
   "cell_type": "markdown",
   "id": "a60205ca",
   "metadata": {},
   "source": [
    "Finally, we may search pairs in L2 distance. "
   ]
  },
  {
   "cell_type": "code",
   "execution_count": 13,
   "id": "5ac83bea",
   "metadata": {
    "ExecuteTime": {
     "end_time": "2024-09-02T12:56:28.189434Z",
     "start_time": "2024-09-02T12:56:27.554777Z"
    }
   },
   "outputs": [],
   "source": [
    "test = Matching(distance=\"l2\", metric=\"att\")\n",
    "result = test.execute(data)"
   ]
  },
  {
   "cell_type": "code",
   "execution_count": 14,
   "id": "4bf5a651",
   "metadata": {
    "ExecuteTime": {
     "end_time": "2024-09-02T12:56:28.217321900Z",
     "start_time": "2024-09-02T12:56:28.191701300Z"
    }
   },
   "outputs": [
    {
     "data": {
      "text/plain": "     Effect Size  Standard Error  P-value  CI Lower   CI Upper\nATT    63.367372        0.462557      0.0  62.46076  64.273983"
     },
     "execution_count": 14,
     "metadata": {},
     "output_type": "execute_result"
    }
   ],
   "source": [
    "result.resume"
   ]
  },
  {
   "cell_type": "code",
   "execution_count": 15,
   "id": "c2b000183546bd56",
   "metadata": {
    "collapsed": false,
    "ExecuteTime": {
     "end_time": "2024-09-02T12:56:28.239817400Z",
     "start_time": "2024-09-02T12:56:28.208281500Z"
    }
   },
   "outputs": [
    {
     "data": {
      "text/plain": "      FaissNearestNeighbors┴┴\n0                          -1\n1                        2490\n2                        5493\n3                          -1\n4                         321\n...                       ...\n9995                     5893\n9996                       -1\n9997                     8670\n9998                      507\n9999                     7155\n\n[10000 rows x 1 columns]"
     },
     "execution_count": 15,
     "metadata": {},
     "output_type": "execute_result"
    }
   ],
   "source": [
    "result.indexes"
   ]
  },
  {
   "cell_type": "code",
   "execution_count": 16,
   "id": "06a90f00",
   "metadata": {
    "ExecuteTime": {
     "end_time": "2024-09-02T12:56:28.308818700Z",
     "start_time": "2024-09-02T12:56:28.232967200Z"
    }
   },
   "outputs": [
    {
     "data": {
      "text/plain": "      user_id  signup_month  treat  pre_spends  post_spends   age gender  \\\n0           0             0      0       488.0   414.444444  26.0      M   \n1           1             8      1       512.5   462.222222  26.0      M   \n2           2             7      1       483.0   479.444444  25.0      M   \n3           3             0      0       501.5   424.333333  39.0      M   \n4           4             1      1       543.0   514.555556  18.0      F   \n...       ...           ...    ...         ...          ...   ...    ...   \n9995     9995            10      1       538.5   450.444444  42.0      M   \n9996     9996             0      0       500.5   430.888889  26.0      F   \n9997     9997             3      1       473.0   534.111111  22.0      F   \n9998     9998             2      1       495.0   523.222222  67.0      F   \n9999     9999             7      1       508.0   475.888889  38.0      F   \n\n        industry  user_id_matched  signup_month_matched  treat_matched  \\\n0     E-commerce              NaN                   NaN            NaN   \n1     E-commerce           2490.0                   0.0            0.0   \n2      Logistics           5493.0                   0.0            0.0   \n3     E-commerce              NaN                   NaN            NaN   \n4     E-commerce            321.0                   0.0            0.0   \n...          ...              ...                   ...            ...   \n9995   Logistics           5893.0                   0.0            0.0   \n9996   Logistics              NaN                   NaN            NaN   \n9997  E-commerce           8670.0                   0.0            0.0   \n9998  E-commerce            507.0                   0.0            0.0   \n9999  E-commerce           7155.0                   0.0            0.0   \n\n      pre_spends_matched  post_spends_matched  age_matched gender_matched  \\\n0                    NaN                  NaN          NaN            NaN   \n1                  511.5           417.444444         27.0              F   \n2                  483.0           408.000000         25.0              M   \n3                    NaN                  NaN          NaN            NaN   \n4                  538.0           421.444444         29.0              M   \n...                  ...                  ...          ...            ...   \n9995               535.0           414.555556         40.0              M   \n9996                 NaN                  NaN          NaN            NaN   \n9997               473.0           415.777778         22.0              F   \n9998               495.0           429.777778         67.0              F   \n9999               509.5           415.000000         38.0              M   \n\n     industry_matched  \n0                 NaN  \n1          E-commerce  \n2          E-commerce  \n3                 NaN  \n4          E-commerce  \n...               ...  \n9995       E-commerce  \n9996              NaN  \n9997        Logistics  \n9998        Logistics  \n9999       E-commerce  \n\n[10000 rows x 16 columns]"
     },
     "execution_count": 16,
     "metadata": {},
     "output_type": "execute_result"
    }
   ],
   "source": [
    "result.full_data"
   ]
  },
  {
   "cell_type": "code",
   "outputs": [
    {
     "name": "stderr",
     "output_type": "stream",
     "text": [
      "C:\\Users\\User\\PycharmProjects\\HypEx\\hypex\\dataset\\backends\\pandas_backend.py:305: FutureWarning: The default of observed=False is deprecated and will be changed to True in a future version of pandas. Pass observed=False to retain current behavior or observed=True to adopt the future default and silence this warning.\n",
      "  groups = self.data.groupby(by, **kwargs)\n",
      "100%|██████████| 2/2 [00:01<00:00,  1.47it/s]\n"
     ]
    },
    {
     "ename": "IndexError",
     "evalue": "list index out of range",
     "output_type": "error",
     "traceback": [
      "\u001B[1;31m---------------------------------------------------------------------------\u001B[0m",
      "\u001B[1;31mIndexError\u001B[0m                                Traceback (most recent call last)",
      "Cell \u001B[1;32mIn[17], line 2\u001B[0m\n\u001B[0;32m      1\u001B[0m test \u001B[38;5;241m=\u001B[39m Matching(group_match\u001B[38;5;241m=\u001B[39m\u001B[38;5;28;01mTrue\u001B[39;00m)\n\u001B[1;32m----> 2\u001B[0m result \u001B[38;5;241m=\u001B[39m \u001B[43mtest\u001B[49m\u001B[38;5;241;43m.\u001B[39;49m\u001B[43mexecute\u001B[49m\u001B[43m(\u001B[49m\u001B[43mdata\u001B[49m\u001B[43m)\u001B[49m\n",
      "File \u001B[1;32m~\\PycharmProjects\\HypEx\\hypex\\ui\\base.py:63\u001B[0m, in \u001B[0;36mExperimentShell.execute\u001B[1;34m(self, data)\u001B[0m\n\u001B[0;32m     61\u001B[0m     data \u001B[38;5;241m=\u001B[39m ExperimentData(data)\n\u001B[0;32m     62\u001B[0m result_experiment_data \u001B[38;5;241m=\u001B[39m \u001B[38;5;28mself\u001B[39m\u001B[38;5;241m.\u001B[39m_experiment\u001B[38;5;241m.\u001B[39mexecute(data)\n\u001B[1;32m---> 63\u001B[0m \u001B[38;5;28;43mself\u001B[39;49m\u001B[38;5;241;43m.\u001B[39;49m\u001B[43m_out\u001B[49m\u001B[38;5;241;43m.\u001B[39;49m\u001B[43mextract\u001B[49m\u001B[43m(\u001B[49m\u001B[43mresult_experiment_data\u001B[49m\u001B[43m)\u001B[49m\n\u001B[0;32m     64\u001B[0m \u001B[38;5;28;01mreturn\u001B[39;00m \u001B[38;5;28mself\u001B[39m\u001B[38;5;241m.\u001B[39m_out\n",
      "File \u001B[1;32m~\\PycharmProjects\\HypEx\\hypex\\ui\\matching.py:36\u001B[0m, in \u001B[0;36mMatchingOutput.extract\u001B[1;34m(self, experiment_data)\u001B[0m\n\u001B[0;32m     34\u001B[0m \u001B[38;5;28;01mdef\u001B[39;00m \u001B[38;5;21mextract\u001B[39m(\u001B[38;5;28mself\u001B[39m, experiment_data: ExperimentData):\n\u001B[0;32m     35\u001B[0m     \u001B[38;5;28msuper\u001B[39m()\u001B[38;5;241m.\u001B[39mextract(experiment_data)\n\u001B[1;32m---> 36\u001B[0m     \u001B[38;5;28;43mself\u001B[39;49m\u001B[38;5;241;43m.\u001B[39;49m\u001B[43m_extract_full_data\u001B[49m\u001B[43m(\u001B[49m\u001B[43mexperiment_data\u001B[49m\u001B[43m)\u001B[49m\n",
      "File \u001B[1;32m~\\PycharmProjects\\HypEx\\hypex\\ui\\matching.py:17\u001B[0m, in \u001B[0;36mMatchingOutput._extract_full_data\u001B[1;34m(self, experiment_data)\u001B[0m\n\u001B[0;32m     15\u001B[0m \u001B[38;5;28;01mdef\u001B[39;00m \u001B[38;5;21m_extract_full_data\u001B[39m(\u001B[38;5;28mself\u001B[39m, experiment_data: ExperimentData):\n\u001B[0;32m     16\u001B[0m     indexes \u001B[38;5;241m=\u001B[39m experiment_data\u001B[38;5;241m.\u001B[39madditional_fields[\n\u001B[1;32m---> 17\u001B[0m         \u001B[43mexperiment_data\u001B[49m\u001B[38;5;241;43m.\u001B[39;49m\u001B[43madditional_fields\u001B[49m\u001B[38;5;241;43m.\u001B[39;49m\u001B[43msearch_columns\u001B[49m\u001B[43m(\u001B[49m\u001B[43mAdditionalMatchingRole\u001B[49m\u001B[43m(\u001B[49m\u001B[43m)\u001B[49m\u001B[43m)\u001B[49m\u001B[43m[\u001B[49m\n\u001B[0;32m     18\u001B[0m \u001B[43m            \u001B[49m\u001B[38;5;241;43m0\u001B[39;49m\n\u001B[0;32m     19\u001B[0m \u001B[43m        \u001B[49m\u001B[43m]\u001B[49m\n\u001B[0;32m     20\u001B[0m     ]\n\u001B[0;32m     21\u001B[0m     indexes\u001B[38;5;241m.\u001B[39mindex \u001B[38;5;241m=\u001B[39m experiment_data\u001B[38;5;241m.\u001B[39mds\u001B[38;5;241m.\u001B[39mindex\n\u001B[0;32m     22\u001B[0m     filtered_field \u001B[38;5;241m=\u001B[39m indexes\u001B[38;5;241m.\u001B[39mdrop(\n\u001B[0;32m     23\u001B[0m         indexes[indexes[indexes\u001B[38;5;241m.\u001B[39mcolumns[\u001B[38;5;241m0\u001B[39m]] \u001B[38;5;241m==\u001B[39m \u001B[38;5;241m-\u001B[39m\u001B[38;5;241m1\u001B[39m], axis\u001B[38;5;241m=\u001B[39m\u001B[38;5;241m0\u001B[39m\n\u001B[0;32m     24\u001B[0m     )\n",
      "\u001B[1;31mIndexError\u001B[0m: list index out of range"
     ]
    }
   ],
   "source": [
    "test = Matching(group_match=True)\n",
    "result = test.execute(data)"
   ],
   "metadata": {
    "collapsed": false,
    "ExecuteTime": {
     "end_time": "2024-09-02T12:56:29.933359100Z",
     "start_time": "2024-09-02T12:56:28.262930400Z"
    }
   },
   "id": "fbf5699b2aa10ca5",
   "execution_count": 17
  },
  {
   "cell_type": "code",
   "outputs": [],
   "source": [
    "result.resume"
   ],
   "metadata": {
    "collapsed": false,
    "ExecuteTime": {
     "start_time": "2024-09-02T12:56:29.932352100Z"
    }
   },
   "id": "1700dbd783495643"
  },
  {
   "cell_type": "code",
   "outputs": [],
   "source": [
    "result.indexes"
   ],
   "metadata": {
    "collapsed": false,
    "ExecuteTime": {
     "end_time": "2024-09-02T12:56:29.937312100Z",
     "start_time": "2024-09-02T12:56:29.936161400Z"
    }
   },
   "id": "6353581c5d08a1f7"
  },
  {
   "cell_type": "code",
   "outputs": [],
   "source": [
    "result.full_data"
   ],
   "metadata": {
    "collapsed": false,
    "ExecuteTime": {
     "end_time": "2024-09-02T12:56:29.946166100Z",
     "start_time": "2024-09-02T12:56:29.937312100Z"
    }
   },
   "id": "d7455acbd60123e5"
  }
 ],
 "metadata": {
  "kernelspec": {
   "display_name": "Python 3",
   "language": "python",
   "name": "python3"
  },
  "language_info": {
   "codemirror_mode": {
    "name": "ipython",
    "version": 3
   },
   "file_extension": ".py",
   "mimetype": "text/x-python",
   "name": "python",
   "nbconvert_exporter": "python",
   "pygments_lexer": "ipython3",
   "version": "3.10.13"
  }
 },
 "nbformat": 4,
 "nbformat_minor": 5
}
