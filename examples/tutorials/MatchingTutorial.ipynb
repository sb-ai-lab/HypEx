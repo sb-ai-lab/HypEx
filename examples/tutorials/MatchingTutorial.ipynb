{
 "cells": [
  {
   "cell_type": "markdown",
   "id": "54278f8bd9a4bb39",
   "metadata": {
    "collapsed": false
   },
   "source": [
    "# Matching pipline"
   ]
  },
  {
   "cell_type": "markdown",
   "id": "de103cc6",
   "metadata": {},
   "source": [
    "The comparison method is used in statistical analysis to eliminate distortions caused by differences in the basic characteristics of the studied groups. Simply put, matching helps to make sure that the results of the experiment are really caused by the studied effect, and not by external factors.\n",
    "\n",
    "Matching is most often performed in cases where the use of a standard AB test is impossible."
   ]
  },
  {
   "cell_type": "code",
   "id": "initial_id",
   "metadata": {
    "collapsed": true,
    "ExecuteTime": {
     "end_time": "2024-08-15T14:10:04.778126Z",
     "start_time": "2024-08-15T14:10:04.773363Z"
    }
   },
   "source": [
    "import copy\n",
    "\n",
    "from hypex.dataset import Dataset, InfoRole, TreatmentRole, TargetRole, DefaultRole, FeatureRole\n",
    "from hypex.experiments.matching import Matching"
   ],
   "outputs": [],
   "execution_count": 21
  },
  {
   "cell_type": "markdown",
   "id": "7e41355993e9e59f",
   "metadata": {
    "collapsed": false
   },
   "source": [
    "## Data preparation \n",
    "\n",
    "It is important to mark the data fields by assigning the appropriate roles:\n",
    "\n",
    "* FeatureRole: a role for columns that contain features or predictor variables. Our split will be based on them. Applied by default if the role is not specified for the column.\n",
    "* TreatmentRole: a role for columns that show the treatment or intervention.\n",
    "* TargetRole: a role for columns that show the target or outcome variable.\n",
    "* InfoRole: a role for columns that contain information about the data, such as user IDs."
   ]
  },
  {
   "cell_type": "code",
   "id": "8abf891fc6804315",
   "metadata": {
    "collapsed": false,
    "ExecuteTime": {
     "end_time": "2024-08-15T14:10:04.886303Z",
     "start_time": "2024-08-15T14:10:04.846549Z"
    }
   },
   "source": [
    "data = Dataset(\n",
    "    roles={\n",
    "        \"user_id\": InfoRole(int),\n",
    "        \"treat\": TreatmentRole(int), \n",
    "        \"post_spends\": TargetRole(float)\n",
    "    }, data=\"data.csv\",\n",
    ")\n",
    "data.replace_roles({DefaultRole(): FeatureRole()}, auto_roles_types=True)\n",
    "data"
   ],
   "outputs": [
    {
     "data": {
      "text/plain": [
       "      user_id  signup_month  treat  pre_spends  post_spends   age gender  \\\n",
       "0           0             0      0       488.0   414.444444   NaN      M   \n",
       "1           1             8      1       512.5   462.222222  26.0    NaN   \n",
       "2           2             7      1       483.0   479.444444  25.0      M   \n",
       "3           3             0      0       501.5   424.333333  39.0      M   \n",
       "4           4             1      1       543.0   514.555556  18.0      F   \n",
       "...       ...           ...    ...         ...          ...   ...    ...   \n",
       "9995     9995            10      1       538.5   450.444444  42.0      M   \n",
       "9996     9996             0      0       500.5   430.888889  26.0      F   \n",
       "9997     9997             3      1       473.0   534.111111  22.0      F   \n",
       "9998     9998             2      1       495.0   523.222222  67.0      F   \n",
       "9999     9999             7      1       508.0   475.888889  38.0      F   \n",
       "\n",
       "        industry  \n",
       "0     E-commerce  \n",
       "1     E-commerce  \n",
       "2      Logistics  \n",
       "3     E-commerce  \n",
       "4     E-commerce  \n",
       "...          ...  \n",
       "9995   Logistics  \n",
       "9996   Logistics  \n",
       "9997  E-commerce  \n",
       "9998  E-commerce  \n",
       "9999  E-commerce  \n",
       "\n",
       "[10000 rows x 8 columns]"
      ]
     },
     "execution_count": 22,
     "metadata": {},
     "output_type": "execute_result"
    }
   ],
   "execution_count": 22
  },
  {
   "cell_type": "code",
   "id": "4ae8c654db6f5f85",
   "metadata": {
    "collapsed": false,
    "ExecuteTime": {
     "end_time": "2024-08-15T14:10:04.895815Z",
     "start_time": "2024-08-15T14:10:04.889491Z"
    }
   },
   "source": [
    "data.roles"
   ],
   "outputs": [
    {
     "data": {
      "text/plain": [
       "{'user_id': Info(<class 'int'>),\n",
       " 'treat': Treatment(<class 'int'>),\n",
       " 'post_spends': Target(<class 'float'>),\n",
       " 'signup_month': Feature(<class 'int'>),\n",
       " 'pre_spends': Feature(<class 'float'>),\n",
       " 'age': Feature(<class 'float'>),\n",
       " 'gender': Feature(<class 'str'>),\n",
       " 'industry': Feature(<class 'str'>)}"
      ]
     },
     "execution_count": 23,
     "metadata": {},
     "output_type": "execute_result"
    }
   ],
   "execution_count": 23
  },
  {
   "cell_type": "markdown",
   "id": "8848fdfc6e8c0f45",
   "metadata": {
    "collapsed": false
   },
   "source": [
    "## Simple Matching  \n",
    "Now matching has 4 steps: \n",
    "1. Dummy Encoder \n",
    "2. Process Mahalanobis distance \n",
    "3. Two sides pairs searching by faiss \n",
    "4. Metrics (ATT, ATC, ATE) estimation depends on your data "
   ]
  },
  {
   "cell_type": "code",
   "source": [
    "data = data.fillna(method=\"bfill\")"
   ],
   "metadata": {
    "collapsed": false,
    "ExecuteTime": {
     "end_time": "2024-08-15T14:10:04.922501Z",
     "start_time": "2024-08-15T14:10:04.897854Z"
    }
   },
   "id": "20e64ee990f83d47",
   "outputs": [
    {
     "name": "stderr",
     "output_type": "stream",
     "text": [
      "/home/tony_katkov/job/HypEx/hypex/dataset/backends/pandas_backend.py:385: FutureWarning: DataFrame.fillna with 'method' is deprecated and will raise in a future version. Use obj.ffill() or obj.bfill() instead.\n",
      "  return self.data.fillna(value=values, method=method, **kwargs)\n"
     ]
    }
   ],
   "execution_count": 24
  },
  {
   "cell_type": "code",
   "id": "bc7e472bbb7c2a5d",
   "metadata": {
    "collapsed": false,
    "ExecuteTime": {
     "end_time": "2024-08-15T14:10:05.587592Z",
     "start_time": "2024-08-15T14:10:04.926063Z"
    }
   },
   "source": [
    "test = Matching()\n",
    "result = test.execute(data)"
   ],
   "outputs": [],
   "execution_count": 25
  },
  {
   "cell_type": "markdown",
   "source": [
    "**ATT** shows the difference in treated group.   \n",
    "**ATC** shows the difference in untreated group.   \n",
    "**ATE** shows the weighted average difference between ATT and ATC.  "
   ],
   "metadata": {
    "collapsed": false
   },
   "id": "d8a47b848e13e745"
  },
  {
   "cell_type": "code",
   "source": [
    "result.resume"
   ],
   "metadata": {
    "collapsed": false,
    "ExecuteTime": {
     "end_time": "2024-08-15T14:10:05.596097Z",
     "start_time": "2024-08-15T14:10:05.589548Z"
    }
   },
   "id": "24cb598e7fbd81fd",
   "outputs": [
    {
     "data": {
      "text/plain": [
       "         ATT        ATC        ATE\n",
       "0  64.343019  96.393761  80.573515"
      ]
     },
     "execution_count": 26,
     "metadata": {},
     "output_type": "execute_result"
    }
   ],
   "execution_count": 26
  },
  {
   "cell_type": "code",
   "source": [
    "result.indexes"
   ],
   "metadata": {
    "collapsed": false,
    "ExecuteTime": {
     "end_time": "2024-08-15T14:10:05.650866Z",
     "start_time": "2024-08-15T14:10:05.597779Z"
    }
   },
   "id": "f01b67ab0e1b369d",
   "outputs": [
    {
     "data": {
      "text/plain": [
       "      FaissNearestNeighbors┴┴\n",
       "0                        9433\n",
       "1                        5438\n",
       "2                        5165\n",
       "3                        1735\n",
       "4                         539\n",
       "...                       ...\n",
       "9995                     5893\n",
       "9996                     7731\n",
       "9997                     7066\n",
       "9998                     1885\n",
       "9999                     5748\n",
       "\n",
       "[10000 rows x 1 columns]"
      ]
     },
     "execution_count": 27,
     "metadata": {},
     "output_type": "execute_result"
    }
   ],
   "execution_count": 27
  },
  {
   "cell_type": "code",
   "id": "d98c94a8b8a763e9",
   "metadata": {
    "collapsed": false,
    "ExecuteTime": {
     "end_time": "2024-08-15T14:10:05.673816Z",
     "start_time": "2024-08-15T14:10:05.652960Z"
    }
   },
   "source": [
    "result.full_data"
   ],
   "outputs": [
    {
     "data": {
      "text/plain": [
       "      user_id  signup_month  treat  pre_spends  post_spends   age gender  \\\n",
       "0           0             0      0       488.0   414.444444  26.0      M   \n",
       "1           1             8      1       512.5   462.222222  26.0      M   \n",
       "2           2             7      1       483.0   479.444444  25.0      M   \n",
       "3           3             0      0       501.5   424.333333  39.0      M   \n",
       "4           4             1      1       543.0   514.555556  18.0      F   \n",
       "...       ...           ...    ...         ...          ...   ...    ...   \n",
       "9995     9995            10      1       538.5   450.444444  42.0      M   \n",
       "9996     9996             0      0       500.5   430.888889  26.0      F   \n",
       "9997     9997             3      1       473.0   534.111111  22.0      F   \n",
       "9998     9998             2      1       495.0   523.222222  67.0      F   \n",
       "9999     9999             7      1       508.0   475.888889  38.0      F   \n",
       "\n",
       "        industry  user_id_matched  signup_month_matched  treat_matched  \\\n",
       "0     E-commerce             9433                     1              1   \n",
       "1     E-commerce             5438                     0              0   \n",
       "2      Logistics             5165                     0              0   \n",
       "3     E-commerce             1735                     1              1   \n",
       "4     E-commerce              539                     0              0   \n",
       "...          ...              ...                   ...            ...   \n",
       "9995   Logistics             5893                     0              0   \n",
       "9996   Logistics             7731                     1              1   \n",
       "9997  E-commerce             7066                     0              0   \n",
       "9998  E-commerce             1885                     0              0   \n",
       "9999  E-commerce             5748                     0              0   \n",
       "\n",
       "      pre_spends_matched  post_spends_matched  age_matched gender_matched  \\\n",
       "0                  488.5           518.444444         37.0              F   \n",
       "1                  529.0           417.111111         23.0              F   \n",
       "2                  498.5           412.222222         25.0              F   \n",
       "3                  504.0           516.333333         33.0              M   \n",
       "4                  531.0           414.000000         20.0              F   \n",
       "...                  ...                  ...          ...            ...   \n",
       "9995               535.0           414.555556         40.0              M   \n",
       "9996               500.0           515.888889         25.0              M   \n",
       "9997               480.0           423.222222         22.0              F   \n",
       "9998               499.0           423.000000         67.0              F   \n",
       "9999               522.0           424.444444         36.0              M   \n",
       "\n",
       "     industry_matched  \n",
       "0           Logistics  \n",
       "1          E-commerce  \n",
       "2           Logistics  \n",
       "3           Logistics  \n",
       "4          E-commerce  \n",
       "...               ...  \n",
       "9995       E-commerce  \n",
       "9996        Logistics  \n",
       "9997        Logistics  \n",
       "9998        Logistics  \n",
       "9999       E-commerce  \n",
       "\n",
       "[10000 rows x 16 columns]"
      ]
     },
     "execution_count": 28,
     "metadata": {},
     "output_type": "execute_result"
    }
   ],
   "execution_count": 28
  },
  {
   "cell_type": "markdown",
   "id": "3ad7a444",
   "metadata": {},
   "source": [
    "We can change **metric** and do estimation again."
   ]
  },
  {
   "cell_type": "code",
   "id": "e22f6e1d",
   "metadata": {
    "ExecuteTime": {
     "end_time": "2024-08-15T14:10:06.191678Z",
     "start_time": "2024-08-15T14:10:05.675917Z"
    }
   },
   "source": [
    "test = Matching(metric=\"atc\")\n",
    "result = test.execute(data)"
   ],
   "outputs": [],
   "execution_count": 29
  },
  {
   "cell_type": "code",
   "id": "60424009",
   "metadata": {
    "ExecuteTime": {
     "end_time": "2024-08-15T14:10:06.201997Z",
     "start_time": "2024-08-15T14:10:06.194594Z"
    }
   },
   "source": "result.resume",
   "outputs": [
    {
     "data": {
      "text/plain": [
       "         ATC\n",
       "0  96.393761"
      ]
     },
     "execution_count": 30,
     "metadata": {},
     "output_type": "execute_result"
    }
   ],
   "execution_count": 30
  },
  {
   "cell_type": "code",
   "source": [
    "result.indexes"
   ],
   "metadata": {
    "collapsed": false,
    "ExecuteTime": {
     "end_time": "2024-08-15T14:10:06.262406Z",
     "start_time": "2024-08-15T14:10:06.204118Z"
    }
   },
   "id": "25b5f585b9cb0776",
   "outputs": [
    {
     "data": {
      "text/plain": [
       "      FaissNearestNeighbors┴┴\n",
       "0                        9433\n",
       "1                        5438\n",
       "2                        5165\n",
       "3                        1735\n",
       "4                         539\n",
       "...                       ...\n",
       "9995                     5893\n",
       "9996                     7731\n",
       "9997                     7066\n",
       "9998                     1885\n",
       "9999                     5748\n",
       "\n",
       "[10000 rows x 1 columns]"
      ]
     },
     "execution_count": 31,
     "metadata": {},
     "output_type": "execute_result"
    }
   ],
   "execution_count": 31
  },
  {
   "cell_type": "code",
   "id": "3d9045c0",
   "metadata": {
    "ExecuteTime": {
     "end_time": "2024-08-15T14:10:06.291047Z",
     "start_time": "2024-08-15T14:10:06.265569Z"
    }
   },
   "source": "result.full_data",
   "outputs": [
    {
     "data": {
      "text/plain": [
       "      user_id  signup_month  treat  pre_spends  post_spends   age gender  \\\n",
       "0           0             0      0       488.0   414.444444  26.0      M   \n",
       "1           1             8      1       512.5   462.222222  26.0      M   \n",
       "2           2             7      1       483.0   479.444444  25.0      M   \n",
       "3           3             0      0       501.5   424.333333  39.0      M   \n",
       "4           4             1      1       543.0   514.555556  18.0      F   \n",
       "...       ...           ...    ...         ...          ...   ...    ...   \n",
       "9995     9995            10      1       538.5   450.444444  42.0      M   \n",
       "9996     9996             0      0       500.5   430.888889  26.0      F   \n",
       "9997     9997             3      1       473.0   534.111111  22.0      F   \n",
       "9998     9998             2      1       495.0   523.222222  67.0      F   \n",
       "9999     9999             7      1       508.0   475.888889  38.0      F   \n",
       "\n",
       "        industry  user_id_matched  signup_month_matched  treat_matched  \\\n",
       "0     E-commerce             9433                     1              1   \n",
       "1     E-commerce             5438                     0              0   \n",
       "2      Logistics             5165                     0              0   \n",
       "3     E-commerce             1735                     1              1   \n",
       "4     E-commerce              539                     0              0   \n",
       "...          ...              ...                   ...            ...   \n",
       "9995   Logistics             5893                     0              0   \n",
       "9996   Logistics             7731                     1              1   \n",
       "9997  E-commerce             7066                     0              0   \n",
       "9998  E-commerce             1885                     0              0   \n",
       "9999  E-commerce             5748                     0              0   \n",
       "\n",
       "      pre_spends_matched  post_spends_matched  age_matched gender_matched  \\\n",
       "0                  488.5           518.444444         37.0              F   \n",
       "1                  529.0           417.111111         23.0              F   \n",
       "2                  498.5           412.222222         25.0              F   \n",
       "3                  504.0           516.333333         33.0              M   \n",
       "4                  531.0           414.000000         20.0              F   \n",
       "...                  ...                  ...          ...            ...   \n",
       "9995               535.0           414.555556         40.0              M   \n",
       "9996               500.0           515.888889         25.0              M   \n",
       "9997               480.0           423.222222         22.0              F   \n",
       "9998               499.0           423.000000         67.0              F   \n",
       "9999               522.0           424.444444         36.0              M   \n",
       "\n",
       "     industry_matched  \n",
       "0           Logistics  \n",
       "1          E-commerce  \n",
       "2           Logistics  \n",
       "3           Logistics  \n",
       "4          E-commerce  \n",
       "...               ...  \n",
       "9995       E-commerce  \n",
       "9996        Logistics  \n",
       "9997        Logistics  \n",
       "9998        Logistics  \n",
       "9999       E-commerce  \n",
       "\n",
       "[10000 rows x 16 columns]"
      ]
     },
     "execution_count": 32,
     "metadata": {},
     "output_type": "execute_result"
    }
   ],
   "execution_count": 32
  },
  {
   "cell_type": "markdown",
   "id": "96a52742",
   "metadata": {},
   "source": [
    "Also it is possible to search pairs only in **test group**. This way we have metric \"auto\" and **ATT** will be estimated. "
   ]
  },
  {
   "cell_type": "code",
   "id": "b67abd5d",
   "metadata": {
    "ExecuteTime": {
     "end_time": "2024-08-15T14:10:06.773038Z",
     "start_time": "2024-08-15T14:10:06.293626Z"
    }
   },
   "source": [
    "test = Matching(two_sides=False)\n",
    "result = test.execute(data)"
   ],
   "outputs": [],
   "execution_count": 33
  },
  {
   "cell_type": "code",
   "id": "cc54c8f3",
   "metadata": {
    "ExecuteTime": {
     "end_time": "2024-08-15T14:10:06.781888Z",
     "start_time": "2024-08-15T14:10:06.775288Z"
    }
   },
   "source": "result.resume",
   "outputs": [
    {
     "data": {
      "text/plain": [
       "         ATT\n",
       "0  64.343019"
      ]
     },
     "execution_count": 34,
     "metadata": {},
     "output_type": "execute_result"
    }
   ],
   "execution_count": 34
  },
  {
   "cell_type": "code",
   "source": [
    "result.indexes"
   ],
   "metadata": {
    "collapsed": false,
    "ExecuteTime": {
     "end_time": "2024-08-15T14:10:06.841184Z",
     "start_time": "2024-08-15T14:10:06.784001Z"
    }
   },
   "id": "501ffee15042d3ea",
   "outputs": [
    {
     "data": {
      "text/plain": [
       "      FaissNearestNeighbors┴┴\n",
       "0                          -1\n",
       "1                        5438\n",
       "2                        5165\n",
       "3                          -1\n",
       "4                         539\n",
       "...                       ...\n",
       "9995                     5893\n",
       "9996                       -1\n",
       "9997                     7066\n",
       "9998                     1885\n",
       "9999                     5748\n",
       "\n",
       "[10000 rows x 1 columns]"
      ]
     },
     "execution_count": 35,
     "metadata": {},
     "output_type": "execute_result"
    }
   ],
   "execution_count": 35
  },
  {
   "cell_type": "code",
   "id": "e061a49b",
   "metadata": {
    "ExecuteTime": {
     "end_time": "2024-08-15T14:10:06.867247Z",
     "start_time": "2024-08-15T14:10:06.842806Z"
    }
   },
   "source": "result.full_data",
   "outputs": [
    {
     "data": {
      "text/plain": [
       "      user_id  signup_month  treat  pre_spends  post_spends   age gender  \\\n",
       "0           0             0      0       488.0   414.444444  26.0      M   \n",
       "1           1             8      1       512.5   462.222222  26.0      M   \n",
       "2           2             7      1       483.0   479.444444  25.0      M   \n",
       "3           3             0      0       501.5   424.333333  39.0      M   \n",
       "4           4             1      1       543.0   514.555556  18.0      F   \n",
       "...       ...           ...    ...         ...          ...   ...    ...   \n",
       "9995     9995            10      1       538.5   450.444444  42.0      M   \n",
       "9996     9996             0      0       500.5   430.888889  26.0      F   \n",
       "9997     9997             3      1       473.0   534.111111  22.0      F   \n",
       "9998     9998             2      1       495.0   523.222222  67.0      F   \n",
       "9999     9999             7      1       508.0   475.888889  38.0      F   \n",
       "\n",
       "        industry  user_id_matched  signup_month_matched  treat_matched  \\\n",
       "0     E-commerce              NaN                   NaN            NaN   \n",
       "1     E-commerce           5438.0                   0.0            0.0   \n",
       "2      Logistics           5165.0                   0.0            0.0   \n",
       "3     E-commerce              NaN                   NaN            NaN   \n",
       "4     E-commerce            539.0                   0.0            0.0   \n",
       "...          ...              ...                   ...            ...   \n",
       "9995   Logistics           5893.0                   0.0            0.0   \n",
       "9996   Logistics              NaN                   NaN            NaN   \n",
       "9997  E-commerce           7066.0                   0.0            0.0   \n",
       "9998  E-commerce           1885.0                   0.0            0.0   \n",
       "9999  E-commerce           5748.0                   0.0            0.0   \n",
       "\n",
       "      pre_spends_matched  post_spends_matched  age_matched gender_matched  \\\n",
       "0                    NaN                  NaN          NaN            NaN   \n",
       "1                  529.0           417.111111         23.0              F   \n",
       "2                  498.5           412.222222         25.0              F   \n",
       "3                    NaN                  NaN          NaN            NaN   \n",
       "4                  531.0           414.000000         20.0              F   \n",
       "...                  ...                  ...          ...            ...   \n",
       "9995               535.0           414.555556         40.0              M   \n",
       "9996                 NaN                  NaN          NaN            NaN   \n",
       "9997               480.0           423.222222         22.0              F   \n",
       "9998               499.0           423.000000         67.0              F   \n",
       "9999               522.0           424.444444         36.0              M   \n",
       "\n",
       "     industry_matched  \n",
       "0                 NaN  \n",
       "1          E-commerce  \n",
       "2           Logistics  \n",
       "3                 NaN  \n",
       "4          E-commerce  \n",
       "...               ...  \n",
       "9995       E-commerce  \n",
       "9996              NaN  \n",
       "9997        Logistics  \n",
       "9998        Logistics  \n",
       "9999       E-commerce  \n",
       "\n",
       "[10000 rows x 16 columns]"
      ]
     },
     "execution_count": 36,
     "metadata": {},
     "output_type": "execute_result"
    }
   ],
   "execution_count": 36
  },
  {
   "cell_type": "markdown",
   "id": "a60205ca",
   "metadata": {},
   "source": [
    "Finally, we may search pairs in L2 distance. "
   ]
  },
  {
   "cell_type": "code",
   "id": "5ac83bea",
   "metadata": {
    "ExecuteTime": {
     "end_time": "2024-08-15T14:10:07.274045Z",
     "start_time": "2024-08-15T14:10:06.869557Z"
    }
   },
   "source": [
    "test = Matching(distance=\"l2\", two_sides=False)\n",
    "result = test.execute(data)"
   ],
   "outputs": [],
   "execution_count": 37
  },
  {
   "cell_type": "code",
   "id": "4bf5a651",
   "metadata": {
    "ExecuteTime": {
     "end_time": "2024-08-15T14:10:07.282848Z",
     "start_time": "2024-08-15T14:10:07.275678Z"
    }
   },
   "source": [
    "result.resume"
   ],
   "outputs": [
    {
     "data": {
      "text/plain": [
       "         ATT\n",
       "0  64.182315"
      ]
     },
     "execution_count": 38,
     "metadata": {},
     "output_type": "execute_result"
    }
   ],
   "execution_count": 38
  },
  {
   "cell_type": "code",
   "source": [
    "result.indexes"
   ],
   "metadata": {
    "collapsed": false,
    "ExecuteTime": {
     "end_time": "2024-08-15T14:10:07.338172Z",
     "start_time": "2024-08-15T14:10:07.284909Z"
    }
   },
   "id": "c2b000183546bd56",
   "outputs": [
    {
     "data": {
      "text/plain": [
       "      FaissNearestNeighbors┴┴\n",
       "0                          -1\n",
       "1                        2490\n",
       "2                        5493\n",
       "3                          -1\n",
       "4                         321\n",
       "...                       ...\n",
       "9995                     5893\n",
       "9996                       -1\n",
       "9997                     8670\n",
       "9998                      507\n",
       "9999                     7155\n",
       "\n",
       "[10000 rows x 1 columns]"
      ]
     },
     "execution_count": 39,
     "metadata": {},
     "output_type": "execute_result"
    }
   ],
   "execution_count": 39
  },
  {
   "cell_type": "code",
   "id": "06a90f00",
   "metadata": {
    "ExecuteTime": {
     "end_time": "2024-08-15T14:10:07.362435Z",
     "start_time": "2024-08-15T14:10:07.340231Z"
    }
   },
   "source": [
    "result.full_data"
   ],
   "outputs": [
    {
     "data": {
      "text/plain": [
       "      user_id  signup_month  treat  pre_spends  post_spends   age gender  \\\n",
       "0           0             0      0       488.0   414.444444  26.0      M   \n",
       "1           1             8      1       512.5   462.222222  26.0      M   \n",
       "2           2             7      1       483.0   479.444444  25.0      M   \n",
       "3           3             0      0       501.5   424.333333  39.0      M   \n",
       "4           4             1      1       543.0   514.555556  18.0      F   \n",
       "...       ...           ...    ...         ...          ...   ...    ...   \n",
       "9995     9995            10      1       538.5   450.444444  42.0      M   \n",
       "9996     9996             0      0       500.5   430.888889  26.0      F   \n",
       "9997     9997             3      1       473.0   534.111111  22.0      F   \n",
       "9998     9998             2      1       495.0   523.222222  67.0      F   \n",
       "9999     9999             7      1       508.0   475.888889  38.0      F   \n",
       "\n",
       "        industry  user_id_matched  signup_month_matched  treat_matched  \\\n",
       "0     E-commerce              NaN                   NaN            NaN   \n",
       "1     E-commerce           2490.0                   0.0            0.0   \n",
       "2      Logistics           5493.0                   0.0            0.0   \n",
       "3     E-commerce              NaN                   NaN            NaN   \n",
       "4     E-commerce            321.0                   0.0            0.0   \n",
       "...          ...              ...                   ...            ...   \n",
       "9995   Logistics           5893.0                   0.0            0.0   \n",
       "9996   Logistics              NaN                   NaN            NaN   \n",
       "9997  E-commerce           8670.0                   0.0            0.0   \n",
       "9998  E-commerce            507.0                   0.0            0.0   \n",
       "9999  E-commerce           7155.0                   0.0            0.0   \n",
       "\n",
       "      pre_spends_matched  post_spends_matched  age_matched gender_matched  \\\n",
       "0                    NaN                  NaN          NaN            NaN   \n",
       "1                  511.5           417.444444         27.0              F   \n",
       "2                  483.0           408.000000         25.0              M   \n",
       "3                    NaN                  NaN          NaN            NaN   \n",
       "4                  538.0           421.444444         29.0              M   \n",
       "...                  ...                  ...          ...            ...   \n",
       "9995               535.0           414.555556         40.0              M   \n",
       "9996                 NaN                  NaN          NaN            NaN   \n",
       "9997               473.0           415.777778         22.0              F   \n",
       "9998               495.0           429.777778         67.0              F   \n",
       "9999               509.5           415.000000         38.0              M   \n",
       "\n",
       "     industry_matched  \n",
       "0                 NaN  \n",
       "1          E-commerce  \n",
       "2          E-commerce  \n",
       "3                 NaN  \n",
       "4          E-commerce  \n",
       "...               ...  \n",
       "9995       E-commerce  \n",
       "9996              NaN  \n",
       "9997        Logistics  \n",
       "9998        Logistics  \n",
       "9999       E-commerce  \n",
       "\n",
       "[10000 rows x 16 columns]"
      ]
     },
     "execution_count": 40,
     "metadata": {},
     "output_type": "execute_result"
    }
   ],
   "execution_count": 40
  }
 ],
 "metadata": {
  "kernelspec": {
   "display_name": "Python 3",
   "language": "python",
   "name": "python3"
  },
  "language_info": {
   "codemirror_mode": {
    "name": "ipython",
    "version": 3
   },
   "file_extension": ".py",
   "mimetype": "text/x-python",
   "name": "python",
   "nbconvert_exporter": "python",
   "pygments_lexer": "ipython3",
   "version": "3.10.13"
  }
 },
 "nbformat": 4,
 "nbformat_minor": 5
}
