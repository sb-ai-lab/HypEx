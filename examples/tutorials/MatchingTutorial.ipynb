{
 "cells": [
  {
   "cell_type": "markdown",
   "id": "54278f8bd9a4bb39",
   "metadata": {
    "collapsed": false
   },
   "source": [
    "# Matching pipline"
   ]
  },
  {
   "cell_type": "markdown",
   "id": "de103cc6",
   "metadata": {},
   "source": [
    "The comparison method is used in statistical analysis to eliminate distortions caused by differences in the basic characteristics of the studied groups. Simply put, matching helps to make sure that the results of the experiment are really caused by the studied effect, and not by external factors.\n",
    "\n",
    "Matching is most often performed in cases where the use of a standard AB test is impossible."
   ]
  },
  {
   "cell_type": "code",
   "id": "initial_id",
   "metadata": {
    "collapsed": true,
    "ExecuteTime": {
     "end_time": "2024-08-13T14:54:13.837625Z",
     "start_time": "2024-08-13T14:54:13.020427Z"
    }
   },
   "source": [
    "import copy\n",
    "\n",
    "from hypex.dataset import Dataset, InfoRole, TreatmentRole, TargetRole \n",
    "from hypex.experiments.matching import Matching"
   ],
   "outputs": [],
   "execution_count": 1
  },
  {
   "cell_type": "markdown",
   "id": "7e41355993e9e59f",
   "metadata": {
    "collapsed": false
   },
   "source": [
    "## Data preparation \n",
    "\n",
    "It is important to mark the data fields by assigning the appropriate roles:\n",
    "\n",
    "* FeatureRole: a role for columns that contain features or predictor variables. Our split will be based on them. Applied by default if the role is not specified for the column.\n",
    "* TreatmentRole: a role for columns that show the treatment or intervention.\n",
    "* TargetRole: a role for columns that show the target or outcome variable.\n",
    "* InfoRole: a role for columns that contain information about the data, such as user IDs."
   ]
  },
  {
   "cell_type": "code",
   "id": "8abf891fc6804315",
   "metadata": {
    "collapsed": false,
    "ExecuteTime": {
     "end_time": "2024-08-13T14:54:13.878332Z",
     "start_time": "2024-08-13T14:54:13.840207Z"
    }
   },
   "source": [
    "data = Dataset(\n",
    "    roles={\n",
    "        \"user_id\": InfoRole(int),\n",
    "        \"treat\": TreatmentRole(int), \n",
    "        \"post_spends\": TargetRole(float)\n",
    "    }, data=\"data.csv\",\n",
    ")\n",
    "data"
   ],
   "outputs": [
    {
     "data": {
      "text/plain": [
       "      user_id  signup_month  treat  pre_spends  post_spends   age gender  \\\n",
       "0           0             0      0       488.0   414.444444   NaN      M   \n",
       "1           1             8      1       512.5   462.222222  26.0    NaN   \n",
       "2           2             7      1       483.0   479.444444  25.0      M   \n",
       "3           3             0      0       501.5   424.333333  39.0      M   \n",
       "4           4             1      1       543.0   514.555556  18.0      F   \n",
       "...       ...           ...    ...         ...          ...   ...    ...   \n",
       "9995     9995            10      1       538.5   450.444444  42.0      M   \n",
       "9996     9996             0      0       500.5   430.888889  26.0      F   \n",
       "9997     9997             3      1       473.0   534.111111  22.0      F   \n",
       "9998     9998             2      1       495.0   523.222222  67.0      F   \n",
       "9999     9999             7      1       508.0   475.888889  38.0      F   \n",
       "\n",
       "        industry  \n",
       "0     E-commerce  \n",
       "1     E-commerce  \n",
       "2      Logistics  \n",
       "3     E-commerce  \n",
       "4     E-commerce  \n",
       "...          ...  \n",
       "9995   Logistics  \n",
       "9996   Logistics  \n",
       "9997  E-commerce  \n",
       "9998  E-commerce  \n",
       "9999  E-commerce  \n",
       "\n",
       "[10000 rows x 8 columns]"
      ]
     },
     "execution_count": 2,
     "metadata": {},
     "output_type": "execute_result"
    }
   ],
   "execution_count": 2
  },
  {
   "cell_type": "code",
   "id": "4ae8c654db6f5f85",
   "metadata": {
    "collapsed": false,
    "ExecuteTime": {
     "end_time": "2024-08-13T14:54:13.895235Z",
     "start_time": "2024-08-13T14:54:13.881532Z"
    }
   },
   "source": [
    "data.roles"
   ],
   "outputs": [
    {
     "data": {
      "text/plain": [
       "{'user_id': Info(<class 'int'>),\n",
       " 'treat': Treatment(<class 'int'>),\n",
       " 'post_spends': Target(<class 'float'>),\n",
       " 'signup_month': Feature(<class 'int'>),\n",
       " 'pre_spends': Feature(<class 'float'>),\n",
       " 'age': Feature(<class 'float'>),\n",
       " 'gender': Feature(<class 'str'>),\n",
       " 'industry': Feature(<class 'str'>)}"
      ]
     },
     "execution_count": 3,
     "metadata": {},
     "output_type": "execute_result"
    }
   ],
   "execution_count": 3
  },
  {
   "cell_type": "markdown",
   "id": "8848fdfc6e8c0f45",
   "metadata": {
    "collapsed": false
   },
   "source": [
    "## Simple Matching  \n",
    "Now matching has 4 steps: \n",
    "1. Dummy Encoder \n",
    "2. Process Mahalanobis distance \n",
    "3. Two sides pairs searching by faiss \n",
    "4. Metrics (ATT, ATC, ATE) estimation depends on your data "
   ]
  },
  {
   "cell_type": "code",
   "id": "bc7e472bbb7c2a5d",
   "metadata": {
    "collapsed": false,
    "ExecuteTime": {
     "end_time": "2024-08-13T14:54:14.376713Z",
     "start_time": "2024-08-13T14:54:13.898450Z"
    }
   },
   "source": [
    "c_data = copy.deepcopy(data)\n",
    "test = Matching()\n",
    "result = test.execute(c_data)"
   ],
   "outputs": [],
   "execution_count": 4
  },
  {
   "cell_type": "code",
   "id": "d98c94a8b8a763e9",
   "metadata": {
    "collapsed": false,
    "ExecuteTime": {
     "end_time": "2024-08-13T14:54:14.395231Z",
     "start_time": "2024-08-13T14:54:14.379870Z"
    }
   },
   "source": [
    "result.full_data"
   ],
   "outputs": [
    {
     "data": {
      "text/plain": [
       "      user_id  signup_month  treat  pre_spends  post_spends   age gender  \\\n",
       "0           0             0      0       488.0   414.444444   NaN      M   \n",
       "1           0             0      0       488.0   414.444444   NaN      M   \n",
       "2           0             0      0       488.0   414.444444   NaN      M   \n",
       "3           0             0      0       488.0   414.444444   NaN      M   \n",
       "4           0             0      0       488.0   414.444444   NaN      M   \n",
       "...       ...           ...    ...         ...          ...   ...    ...   \n",
       "9995     5053            10      1       497.5   440.888889  65.0      F   \n",
       "9996     5053            10      1       497.5   440.888889  65.0      F   \n",
       "9997     5053            10      1       497.5   440.888889  65.0      F   \n",
       "9998     5062             0      0       463.0   425.777778  29.0      M   \n",
       "9999     5062             0      0       463.0   425.777778  29.0      M   \n",
       "\n",
       "      industry  user_id_matched  signup_month_matched  treat_matched  \\\n",
       "0         True                0                     0              0   \n",
       "1         True                0                     0              0   \n",
       "2         True                0                     0              0   \n",
       "3         True                0                     0              0   \n",
       "4         True                0                     0              0   \n",
       "...        ...              ...                   ...            ...   \n",
       "9995      True             5053                    10              1   \n",
       "9996      True             5053                    10              1   \n",
       "9997      True             5053                    10              1   \n",
       "9998      True             5062                     0              0   \n",
       "9999      True             5062                     0              0   \n",
       "\n",
       "      pre_spends_matched  post_spends_matched  age_matched gender_matched  \\\n",
       "0                    0.0             0.000000          0.0              0   \n",
       "1                  488.0           414.444444          NaN              M   \n",
       "2                    0.0             0.000000          0.0              0   \n",
       "3                    0.0             0.000000          0.0              0   \n",
       "4                  488.0           414.444444          NaN              M   \n",
       "...                  ...                  ...          ...            ...   \n",
       "9995               497.5           440.888889         65.0              F   \n",
       "9996               497.5           440.888889         65.0              F   \n",
       "9997               497.5           440.888889         65.0              F   \n",
       "9998               463.0           425.777778         29.0              M   \n",
       "9999               463.0           425.777778         29.0              M   \n",
       "\n",
       "      industry_matched  \n",
       "0                False  \n",
       "1                 True  \n",
       "2                False  \n",
       "3                False  \n",
       "4                 True  \n",
       "...                ...  \n",
       "9995              True  \n",
       "9996              True  \n",
       "9997              True  \n",
       "9998              True  \n",
       "9999              True  \n",
       "\n",
       "[10000 rows x 16 columns]"
      ]
     },
     "execution_count": 5,
     "metadata": {},
     "output_type": "execute_result"
    }
   ],
   "execution_count": 5
  },
  {
   "cell_type": "markdown",
   "id": "f149fb84",
   "metadata": {},
   "source": [
    "**ATT** shows the difference in treated group.   \n",
    "**ATC** shows the difference in untreated group.   \n",
    "**ATE** shows the weighted average difference between ATT and ATC.   "
   ]
  },
  {
   "cell_type": "code",
   "id": "8bc40d37",
   "metadata": {
    "ExecuteTime": {
     "end_time": "2024-08-13T14:54:14.423424Z",
     "start_time": "2024-08-13T14:54:14.397897Z"
    }
   },
   "source": [
    "result.resume"
   ],
   "outputs": [
    {
     "data": {
      "text/plain": [
       "{'ATT': 199.1624797406807, 'ATC': 262.41089608565915, 'ATE': 231.1914777777778}"
      ]
     },
     "execution_count": 6,
     "metadata": {},
     "output_type": "execute_result"
    }
   ],
   "execution_count": 6
  },
  {
   "cell_type": "markdown",
   "id": "3ad7a444",
   "metadata": {},
   "source": [
    "We can change **metric** and do estimation again."
   ]
  },
  {
   "cell_type": "code",
   "id": "e22f6e1d",
   "metadata": {
    "ExecuteTime": {
     "end_time": "2024-08-13T14:54:15.572700Z",
     "start_time": "2024-08-13T14:54:14.425385Z"
    }
   },
   "source": [
    "c_data = copy.deepcopy(data)\n",
    "test = Matching(metric=\"atc\")\n",
    "result = test.execute(c_data)"
   ],
   "outputs": [
    {
     "ename": "IndexError",
     "evalue": "positional indexers are out-of-bounds",
     "output_type": "error",
     "traceback": [
      "\u001B[0;31m---------------------------------------------------------------------------\u001B[0m",
      "\u001B[0;31mIndexError\u001B[0m                                Traceback (most recent call last)",
      "File \u001B[0;32m~/.local/lib/python3.10/site-packages/pandas/core/indexing.py:1676\u001B[0m, in \u001B[0;36m_iLocIndexer._get_list_axis\u001B[0;34m(self, key, axis)\u001B[0m\n\u001B[1;32m   1675\u001B[0m \u001B[38;5;28;01mtry\u001B[39;00m:\n\u001B[0;32m-> 1676\u001B[0m     \u001B[38;5;28;01mreturn\u001B[39;00m \u001B[38;5;28;43mself\u001B[39;49m\u001B[38;5;241;43m.\u001B[39;49m\u001B[43mobj\u001B[49m\u001B[38;5;241;43m.\u001B[39;49m\u001B[43m_take_with_is_copy\u001B[49m\u001B[43m(\u001B[49m\u001B[43mkey\u001B[49m\u001B[43m,\u001B[49m\u001B[43m \u001B[49m\u001B[43maxis\u001B[49m\u001B[38;5;241;43m=\u001B[39;49m\u001B[43maxis\u001B[49m\u001B[43m)\u001B[49m\n\u001B[1;32m   1677\u001B[0m \u001B[38;5;28;01mexcept\u001B[39;00m \u001B[38;5;167;01mIndexError\u001B[39;00m \u001B[38;5;28;01mas\u001B[39;00m err:\n\u001B[1;32m   1678\u001B[0m     \u001B[38;5;66;03m# re-raise with different error message, e.g. test_getitem_ndarray_3d\u001B[39;00m\n",
      "File \u001B[0;32m~/.local/lib/python3.10/site-packages/pandas/core/generic.py:4088\u001B[0m, in \u001B[0;36mNDFrame._take_with_is_copy\u001B[0;34m(self, indices, axis)\u001B[0m\n\u001B[1;32m   4079\u001B[0m \u001B[38;5;250m\u001B[39m\u001B[38;5;124;03m\"\"\"\u001B[39;00m\n\u001B[1;32m   4080\u001B[0m \u001B[38;5;124;03mInternal version of the `take` method that sets the `_is_copy`\u001B[39;00m\n\u001B[1;32m   4081\u001B[0m \u001B[38;5;124;03mattribute to keep track of the parent dataframe (using in indexing\u001B[39;00m\n\u001B[0;32m   (...)\u001B[0m\n\u001B[1;32m   4086\u001B[0m \u001B[38;5;124;03mSee the docstring of `take` for full explanation of the parameters.\u001B[39;00m\n\u001B[1;32m   4087\u001B[0m \u001B[38;5;124;03m\"\"\"\u001B[39;00m\n\u001B[0;32m-> 4088\u001B[0m result \u001B[38;5;241m=\u001B[39m \u001B[38;5;28;43mself\u001B[39;49m\u001B[38;5;241;43m.\u001B[39;49m\u001B[43mtake\u001B[49m\u001B[43m(\u001B[49m\u001B[43mindices\u001B[49m\u001B[38;5;241;43m=\u001B[39;49m\u001B[43mindices\u001B[49m\u001B[43m,\u001B[49m\u001B[43m \u001B[49m\u001B[43maxis\u001B[49m\u001B[38;5;241;43m=\u001B[39;49m\u001B[43maxis\u001B[49m\u001B[43m)\u001B[49m\n\u001B[1;32m   4089\u001B[0m \u001B[38;5;66;03m# Maybe set copy if we didn't actually change the index.\u001B[39;00m\n",
      "File \u001B[0;32m~/.local/lib/python3.10/site-packages/pandas/core/generic.py:4068\u001B[0m, in \u001B[0;36mNDFrame.take\u001B[0;34m(self, indices, axis, **kwargs)\u001B[0m\n\u001B[1;32m   4064\u001B[0m     indices \u001B[38;5;241m=\u001B[39m np\u001B[38;5;241m.\u001B[39marange(\n\u001B[1;32m   4065\u001B[0m         indices\u001B[38;5;241m.\u001B[39mstart, indices\u001B[38;5;241m.\u001B[39mstop, indices\u001B[38;5;241m.\u001B[39mstep, dtype\u001B[38;5;241m=\u001B[39mnp\u001B[38;5;241m.\u001B[39mintp\n\u001B[1;32m   4066\u001B[0m     )\n\u001B[0;32m-> 4068\u001B[0m new_data \u001B[38;5;241m=\u001B[39m \u001B[38;5;28;43mself\u001B[39;49m\u001B[38;5;241;43m.\u001B[39;49m\u001B[43m_mgr\u001B[49m\u001B[38;5;241;43m.\u001B[39;49m\u001B[43mtake\u001B[49m\u001B[43m(\u001B[49m\n\u001B[1;32m   4069\u001B[0m \u001B[43m    \u001B[49m\u001B[43mindices\u001B[49m\u001B[43m,\u001B[49m\n\u001B[1;32m   4070\u001B[0m \u001B[43m    \u001B[49m\u001B[43maxis\u001B[49m\u001B[38;5;241;43m=\u001B[39;49m\u001B[38;5;28;43mself\u001B[39;49m\u001B[38;5;241;43m.\u001B[39;49m\u001B[43m_get_block_manager_axis\u001B[49m\u001B[43m(\u001B[49m\u001B[43maxis\u001B[49m\u001B[43m)\u001B[49m\u001B[43m,\u001B[49m\n\u001B[1;32m   4071\u001B[0m \u001B[43m    \u001B[49m\u001B[43mverify\u001B[49m\u001B[38;5;241;43m=\u001B[39;49m\u001B[38;5;28;43;01mTrue\u001B[39;49;00m\u001B[43m,\u001B[49m\n\u001B[1;32m   4072\u001B[0m \u001B[43m\u001B[49m\u001B[43m)\u001B[49m\n\u001B[1;32m   4073\u001B[0m \u001B[38;5;28;01mreturn\u001B[39;00m \u001B[38;5;28mself\u001B[39m\u001B[38;5;241m.\u001B[39m_constructor_from_mgr(new_data, axes\u001B[38;5;241m=\u001B[39mnew_data\u001B[38;5;241m.\u001B[39maxes)\u001B[38;5;241m.\u001B[39m__finalize__(\n\u001B[1;32m   4074\u001B[0m     \u001B[38;5;28mself\u001B[39m, method\u001B[38;5;241m=\u001B[39m\u001B[38;5;124m\"\u001B[39m\u001B[38;5;124mtake\u001B[39m\u001B[38;5;124m\"\u001B[39m\n\u001B[1;32m   4075\u001B[0m )\n",
      "File \u001B[0;32m~/.local/lib/python3.10/site-packages/pandas/core/internals/managers.py:874\u001B[0m, in \u001B[0;36mBaseBlockManager.take\u001B[0;34m(self, indexer, axis, verify)\u001B[0m\n\u001B[1;32m    873\u001B[0m n \u001B[38;5;241m=\u001B[39m \u001B[38;5;28mself\u001B[39m\u001B[38;5;241m.\u001B[39mshape[axis]\n\u001B[0;32m--> 874\u001B[0m indexer \u001B[38;5;241m=\u001B[39m \u001B[43mmaybe_convert_indices\u001B[49m\u001B[43m(\u001B[49m\u001B[43mindexer\u001B[49m\u001B[43m,\u001B[49m\u001B[43m \u001B[49m\u001B[43mn\u001B[49m\u001B[43m,\u001B[49m\u001B[43m \u001B[49m\u001B[43mverify\u001B[49m\u001B[38;5;241;43m=\u001B[39;49m\u001B[43mverify\u001B[49m\u001B[43m)\u001B[49m\n\u001B[1;32m    876\u001B[0m new_labels \u001B[38;5;241m=\u001B[39m \u001B[38;5;28mself\u001B[39m\u001B[38;5;241m.\u001B[39maxes[axis]\u001B[38;5;241m.\u001B[39mtake(indexer)\n",
      "File \u001B[0;32m~/.local/lib/python3.10/site-packages/pandas/core/indexers/utils.py:282\u001B[0m, in \u001B[0;36mmaybe_convert_indices\u001B[0;34m(indices, n, verify)\u001B[0m\n\u001B[1;32m    281\u001B[0m     \u001B[38;5;28;01mif\u001B[39;00m mask\u001B[38;5;241m.\u001B[39many():\n\u001B[0;32m--> 282\u001B[0m         \u001B[38;5;28;01mraise\u001B[39;00m \u001B[38;5;167;01mIndexError\u001B[39;00m(\u001B[38;5;124m\"\u001B[39m\u001B[38;5;124mindices are out-of-bounds\u001B[39m\u001B[38;5;124m\"\u001B[39m)\n\u001B[1;32m    283\u001B[0m \u001B[38;5;28;01mreturn\u001B[39;00m indices\n",
      "\u001B[0;31mIndexError\u001B[0m: indices are out-of-bounds",
      "\nThe above exception was the direct cause of the following exception:\n",
      "\u001B[0;31mIndexError\u001B[0m                                Traceback (most recent call last)",
      "Cell \u001B[0;32mIn[7], line 3\u001B[0m\n\u001B[1;32m      1\u001B[0m c_data \u001B[38;5;241m=\u001B[39m copy\u001B[38;5;241m.\u001B[39mdeepcopy(data)\n\u001B[1;32m      2\u001B[0m test \u001B[38;5;241m=\u001B[39m Matching(metric\u001B[38;5;241m=\u001B[39m\u001B[38;5;124m\"\u001B[39m\u001B[38;5;124matc\u001B[39m\u001B[38;5;124m\"\u001B[39m)\n\u001B[0;32m----> 3\u001B[0m result \u001B[38;5;241m=\u001B[39m \u001B[43mtest\u001B[49m\u001B[38;5;241;43m.\u001B[39;49m\u001B[43mexecute\u001B[49m\u001B[43m(\u001B[49m\u001B[43mc_data\u001B[49m\u001B[43m)\u001B[49m\n",
      "File \u001B[0;32m~/job/HypEx/hypex/ui/base.py:62\u001B[0m, in \u001B[0;36mExperimentShell.execute\u001B[0;34m(self, data)\u001B[0m\n\u001B[1;32m     60\u001B[0m \u001B[38;5;28;01mif\u001B[39;00m \u001B[38;5;28misinstance\u001B[39m(data, Dataset):\n\u001B[1;32m     61\u001B[0m     data \u001B[38;5;241m=\u001B[39m ExperimentData(data)\n\u001B[0;32m---> 62\u001B[0m result_experiment_data \u001B[38;5;241m=\u001B[39m \u001B[38;5;28;43mself\u001B[39;49m\u001B[38;5;241;43m.\u001B[39;49m\u001B[43m_experiment\u001B[49m\u001B[38;5;241;43m.\u001B[39;49m\u001B[43mexecute\u001B[49m\u001B[43m(\u001B[49m\u001B[43mdata\u001B[49m\u001B[43m)\u001B[49m\n\u001B[1;32m     63\u001B[0m \u001B[38;5;28mself\u001B[39m\u001B[38;5;241m.\u001B[39m_out\u001B[38;5;241m.\u001B[39mextract(result_experiment_data)\n\u001B[1;32m     64\u001B[0m \u001B[38;5;28;01mreturn\u001B[39;00m \u001B[38;5;28mself\u001B[39m\u001B[38;5;241m.\u001B[39m_out\n",
      "File \u001B[0;32m~/job/HypEx/hypex/experiments/base.py:69\u001B[0m, in \u001B[0;36mExperiment.execute\u001B[0;34m(self, data)\u001B[0m\n\u001B[1;32m     67\u001B[0m \u001B[38;5;28;01mfor\u001B[39;00m executor \u001B[38;5;129;01min\u001B[39;00m \u001B[38;5;28mself\u001B[39m\u001B[38;5;241m.\u001B[39mexecutors:\n\u001B[1;32m     68\u001B[0m     executor\u001B[38;5;241m.\u001B[39mkey \u001B[38;5;241m=\u001B[39m \u001B[38;5;28mself\u001B[39m\u001B[38;5;241m.\u001B[39mkey\n\u001B[0;32m---> 69\u001B[0m     experiment_data \u001B[38;5;241m=\u001B[39m \u001B[43mexecutor\u001B[49m\u001B[38;5;241;43m.\u001B[39;49m\u001B[43mexecute\u001B[49m\u001B[43m(\u001B[49m\u001B[43mexperiment_data\u001B[49m\u001B[43m)\u001B[49m\n\u001B[1;32m     70\u001B[0m \u001B[38;5;28;01mreturn\u001B[39;00m experiment_data\n",
      "File \u001B[0;32m~/job/HypEx/hypex/ml/faiss.py:97\u001B[0m, in \u001B[0;36mFaissNearestNeighbors.execute\u001B[0;34m(self, data)\u001B[0m\n\u001B[1;32m     93\u001B[0m t_index_field \u001B[38;5;241m=\u001B[39m index_field[index_field\u001B[38;5;241m.\u001B[39mcolumns[i]]\n\u001B[1;32m     94\u001B[0m filtered_field \u001B[38;5;241m=\u001B[39m t_index_field\u001B[38;5;241m.\u001B[39mdrop(\n\u001B[1;32m     95\u001B[0m     t_index_field[t_index_field[t_index_field\u001B[38;5;241m.\u001B[39mcolumns[\u001B[38;5;241m0\u001B[39m]] \u001B[38;5;241m==\u001B[39m \u001B[38;5;241m-\u001B[39m\u001B[38;5;241m1\u001B[39m], axis\u001B[38;5;241m=\u001B[39m\u001B[38;5;241m0\u001B[39m\n\u001B[1;32m     96\u001B[0m )\n\u001B[0;32m---> 97\u001B[0m new_target \u001B[38;5;241m=\u001B[39m \u001B[43mdata\u001B[49m\u001B[38;5;241;43m.\u001B[39;49m\u001B[43mds\u001B[49m\u001B[38;5;241;43m.\u001B[39;49m\u001B[43miloc\u001B[49m\u001B[43m[\u001B[49m\n\u001B[1;32m     98\u001B[0m \u001B[43m    \u001B[49m\u001B[38;5;28;43mlist\u001B[39;49m\u001B[43m(\u001B[49m\u001B[38;5;28;43mmap\u001B[39;49m\u001B[43m(\u001B[49m\u001B[38;5;28;43;01mlambda\u001B[39;49;00m\u001B[43m \u001B[49m\u001B[43mx\u001B[49m\u001B[43m:\u001B[49m\u001B[43m \u001B[49m\u001B[43mx\u001B[49m\u001B[43m[\u001B[49m\u001B[38;5;241;43m0\u001B[39;49m\u001B[43m]\u001B[49m\u001B[43m,\u001B[49m\u001B[43m \u001B[49m\u001B[43mfiltered_field\u001B[49m\u001B[38;5;241;43m.\u001B[39;49m\u001B[43mget_values\u001B[49m\u001B[43m(\u001B[49m\u001B[43m)\u001B[49m\u001B[43m)\u001B[49m\u001B[43m)\u001B[49m\n\u001B[1;32m     99\u001B[0m \u001B[43m\u001B[49m\u001B[43m]\u001B[49m\n\u001B[1;32m    100\u001B[0m new_target\u001B[38;5;241m.\u001B[39mindex \u001B[38;5;241m=\u001B[39m filtered_field\u001B[38;5;241m.\u001B[39mindex\n\u001B[1;32m    101\u001B[0m group \u001B[38;5;241m=\u001B[39m (\n\u001B[1;32m    102\u001B[0m     grouping_data[\u001B[38;5;241m0\u001B[39m][\u001B[38;5;241m1\u001B[39m]\n\u001B[1;32m    103\u001B[0m     \u001B[38;5;28;01mif\u001B[39;00m compare_result\u001B[38;5;241m.\u001B[39mcolumns[i] \u001B[38;5;241m==\u001B[39m \u001B[38;5;124m\"\u001B[39m\u001B[38;5;124mtest\u001B[39m\u001B[38;5;124m\"\u001B[39m\n\u001B[1;32m    104\u001B[0m     \u001B[38;5;28;01melse\u001B[39;00m grouping_data[\u001B[38;5;241m1\u001B[39m][\u001B[38;5;241m1\u001B[39m]\n\u001B[1;32m    105\u001B[0m )\n",
      "File \u001B[0;32m~/job/HypEx/hypex/dataset/dataset.py:62\u001B[0m, in \u001B[0;36mDataset.ILocker.__getitem__\u001B[0;34m(self, item)\u001B[0m\n\u001B[1;32m     61\u001B[0m \u001B[38;5;28;01mdef\u001B[39;00m \u001B[38;5;21m__getitem__\u001B[39m(\u001B[38;5;28mself\u001B[39m, item) \u001B[38;5;241m-\u001B[39m\u001B[38;5;241m>\u001B[39m \u001B[38;5;124m\"\u001B[39m\u001B[38;5;124mDataset\u001B[39m\u001B[38;5;124m\"\u001B[39m:\n\u001B[0;32m---> 62\u001B[0m     t_data \u001B[38;5;241m=\u001B[39m \u001B[38;5;28;43mself\u001B[39;49m\u001B[38;5;241;43m.\u001B[39;49m\u001B[43mbackend\u001B[49m\u001B[38;5;241;43m.\u001B[39;49m\u001B[43miloc\u001B[49m\u001B[43m(\u001B[49m\u001B[43mitem\u001B[49m\u001B[43m)\u001B[49m\n\u001B[1;32m     63\u001B[0m     \u001B[38;5;28;01mreturn\u001B[39;00m Dataset(\n\u001B[1;32m     64\u001B[0m         data\u001B[38;5;241m=\u001B[39mt_data,\n\u001B[1;32m     65\u001B[0m         roles\u001B[38;5;241m=\u001B[39m{k: v \u001B[38;5;28;01mfor\u001B[39;00m k, v \u001B[38;5;129;01min\u001B[39;00m \u001B[38;5;28mself\u001B[39m\u001B[38;5;241m.\u001B[39mroles\u001B[38;5;241m.\u001B[39mitems() \u001B[38;5;28;01mif\u001B[39;00m k \u001B[38;5;129;01min\u001B[39;00m t_data\u001B[38;5;241m.\u001B[39mcolumns},\n\u001B[1;32m     66\u001B[0m     )\n",
      "File \u001B[0;32m~/job/HypEx/hypex/dataset/backends/pandas_backend.py:252\u001B[0m, in \u001B[0;36mPandasNavigation.iloc\u001B[0;34m(self, items)\u001B[0m\n\u001B[1;32m    251\u001B[0m \u001B[38;5;28;01mdef\u001B[39;00m \u001B[38;5;21miloc\u001B[39m(\u001B[38;5;28mself\u001B[39m, items: Iterable) \u001B[38;5;241m-\u001B[39m\u001B[38;5;241m>\u001B[39m Iterable:\n\u001B[0;32m--> 252\u001B[0m     data \u001B[38;5;241m=\u001B[39m \u001B[38;5;28;43mself\u001B[39;49m\u001B[38;5;241;43m.\u001B[39;49m\u001B[43mdata\u001B[49m\u001B[38;5;241;43m.\u001B[39;49m\u001B[43miloc\u001B[49m\u001B[43m[\u001B[49m\u001B[43mitems\u001B[49m\u001B[43m]\u001B[49m\n\u001B[1;32m    253\u001B[0m     \u001B[38;5;28;01mif\u001B[39;00m \u001B[38;5;129;01mnot\u001B[39;00m \u001B[38;5;28misinstance\u001B[39m(data, Iterable) \u001B[38;5;129;01mor\u001B[39;00m \u001B[38;5;28misinstance\u001B[39m(data, \u001B[38;5;28mstr\u001B[39m):\n\u001B[1;32m    254\u001B[0m         data \u001B[38;5;241m=\u001B[39m [data]\n",
      "File \u001B[0;32m~/.local/lib/python3.10/site-packages/pandas/core/indexing.py:1153\u001B[0m, in \u001B[0;36m_LocationIndexer.__getitem__\u001B[0;34m(self, key)\u001B[0m\n\u001B[1;32m   1150\u001B[0m axis \u001B[38;5;241m=\u001B[39m \u001B[38;5;28mself\u001B[39m\u001B[38;5;241m.\u001B[39maxis \u001B[38;5;129;01mor\u001B[39;00m \u001B[38;5;241m0\u001B[39m\n\u001B[1;32m   1152\u001B[0m maybe_callable \u001B[38;5;241m=\u001B[39m com\u001B[38;5;241m.\u001B[39mapply_if_callable(key, \u001B[38;5;28mself\u001B[39m\u001B[38;5;241m.\u001B[39mobj)\n\u001B[0;32m-> 1153\u001B[0m \u001B[38;5;28;01mreturn\u001B[39;00m \u001B[38;5;28;43mself\u001B[39;49m\u001B[38;5;241;43m.\u001B[39;49m\u001B[43m_getitem_axis\u001B[49m\u001B[43m(\u001B[49m\u001B[43mmaybe_callable\u001B[49m\u001B[43m,\u001B[49m\u001B[43m \u001B[49m\u001B[43maxis\u001B[49m\u001B[38;5;241;43m=\u001B[39;49m\u001B[43maxis\u001B[49m\u001B[43m)\u001B[49m\n",
      "File \u001B[0;32m~/.local/lib/python3.10/site-packages/pandas/core/indexing.py:1705\u001B[0m, in \u001B[0;36m_iLocIndexer._getitem_axis\u001B[0;34m(self, key, axis)\u001B[0m\n\u001B[1;32m   1703\u001B[0m \u001B[38;5;66;03m# a list of integers\u001B[39;00m\n\u001B[1;32m   1704\u001B[0m \u001B[38;5;28;01melif\u001B[39;00m is_list_like_indexer(key):\n\u001B[0;32m-> 1705\u001B[0m     \u001B[38;5;28;01mreturn\u001B[39;00m \u001B[38;5;28;43mself\u001B[39;49m\u001B[38;5;241;43m.\u001B[39;49m\u001B[43m_get_list_axis\u001B[49m\u001B[43m(\u001B[49m\u001B[43mkey\u001B[49m\u001B[43m,\u001B[49m\u001B[43m \u001B[49m\u001B[43maxis\u001B[49m\u001B[38;5;241;43m=\u001B[39;49m\u001B[43maxis\u001B[49m\u001B[43m)\u001B[49m\n\u001B[1;32m   1707\u001B[0m \u001B[38;5;66;03m# a single integer\u001B[39;00m\n\u001B[1;32m   1708\u001B[0m \u001B[38;5;28;01melse\u001B[39;00m:\n\u001B[1;32m   1709\u001B[0m     key \u001B[38;5;241m=\u001B[39m item_from_zerodim(key)\n",
      "File \u001B[0;32m~/.local/lib/python3.10/site-packages/pandas/core/indexing.py:1679\u001B[0m, in \u001B[0;36m_iLocIndexer._get_list_axis\u001B[0;34m(self, key, axis)\u001B[0m\n\u001B[1;32m   1676\u001B[0m     \u001B[38;5;28;01mreturn\u001B[39;00m \u001B[38;5;28mself\u001B[39m\u001B[38;5;241m.\u001B[39mobj\u001B[38;5;241m.\u001B[39m_take_with_is_copy(key, axis\u001B[38;5;241m=\u001B[39maxis)\n\u001B[1;32m   1677\u001B[0m \u001B[38;5;28;01mexcept\u001B[39;00m \u001B[38;5;167;01mIndexError\u001B[39;00m \u001B[38;5;28;01mas\u001B[39;00m err:\n\u001B[1;32m   1678\u001B[0m     \u001B[38;5;66;03m# re-raise with different error message, e.g. test_getitem_ndarray_3d\u001B[39;00m\n\u001B[0;32m-> 1679\u001B[0m     \u001B[38;5;28;01mraise\u001B[39;00m \u001B[38;5;167;01mIndexError\u001B[39;00m(\u001B[38;5;124m\"\u001B[39m\u001B[38;5;124mpositional indexers are out-of-bounds\u001B[39m\u001B[38;5;124m\"\u001B[39m) \u001B[38;5;28;01mfrom\u001B[39;00m \u001B[38;5;21;01merr\u001B[39;00m\n",
      "\u001B[0;31mIndexError\u001B[0m: positional indexers are out-of-bounds"
     ]
    }
   ],
   "execution_count": 7
  },
  {
   "cell_type": "code",
   "id": "60424009",
   "metadata": {
    "ExecuteTime": {
     "end_time": "2024-08-13T14:54:15.575169Z",
     "start_time": "2024-08-13T14:54:15.574947Z"
    }
   },
   "source": "result.resume",
   "outputs": [],
   "execution_count": null
  },
  {
   "cell_type": "code",
   "id": "3d9045c0",
   "metadata": {
    "ExecuteTime": {
     "end_time": "2024-08-13T14:54:15.577117Z",
     "start_time": "2024-08-13T14:54:15.576913Z"
    }
   },
   "source": "result.full_data",
   "outputs": [],
   "execution_count": null
  },
  {
   "cell_type": "markdown",
   "id": "96a52742",
   "metadata": {},
   "source": [
    "Also it is possible to search pairs only in **test group**. This way we have metric \"auto\" and **ATT** will be estimated. "
   ]
  },
  {
   "cell_type": "code",
   "id": "b67abd5d",
   "metadata": {
    "ExecuteTime": {
     "end_time": "2024-08-13T14:54:15.579424Z",
     "start_time": "2024-08-13T14:54:15.579154Z"
    }
   },
   "source": [
    "c_data = copy.deepcopy(data)\n",
    "test = Matching(two_sides=False)\n",
    "result = test.execute(c_data)"
   ],
   "outputs": [],
   "execution_count": null
  },
  {
   "cell_type": "code",
   "id": "cc54c8f3",
   "metadata": {},
   "source": "result.resume",
   "outputs": [],
   "execution_count": null
  },
  {
   "cell_type": "code",
   "id": "e061a49b",
   "metadata": {},
   "source": "result.full_data",
   "outputs": [],
   "execution_count": null
  },
  {
   "cell_type": "markdown",
   "id": "a60205ca",
   "metadata": {},
   "source": [
    "Finally, we may search pairs in L2 distance. "
   ]
  },
  {
   "cell_type": "code",
   "id": "5ac83bea",
   "metadata": {},
   "source": [
    "c_data = copy.deepcopy(data)\n",
    "test = Matching(distance=\"l2\", two_sides=False)\n",
    "result = test.execute(c_data)"
   ],
   "outputs": [],
   "execution_count": null
  },
  {
   "cell_type": "code",
   "id": "4bf5a651",
   "metadata": {},
   "source": [
    "result.resume"
   ],
   "outputs": [],
   "execution_count": null
  },
  {
   "cell_type": "code",
   "id": "06a90f00",
   "metadata": {},
   "source": [
    "result.full_data"
   ],
   "outputs": [],
   "execution_count": null
  }
 ],
 "metadata": {
  "kernelspec": {
   "display_name": "Python 3",
   "language": "python",
   "name": "python3"
  },
  "language_info": {
   "codemirror_mode": {
    "name": "ipython",
    "version": 3
   },
   "file_extension": ".py",
   "mimetype": "text/x-python",
   "name": "python",
   "nbconvert_exporter": "python",
   "pygments_lexer": "ipython3",
   "version": "3.10.13"
  }
 },
 "nbformat": 4,
 "nbformat_minor": 5
}
