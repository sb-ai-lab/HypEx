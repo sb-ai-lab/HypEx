{
 "cells": [
  {
   "cell_type": "markdown",
   "id": "54278f8bd9a4bb39",
   "metadata": {
    "collapsed": false
   },
   "source": [
    "# Matching pipline"
   ]
  },
  {
   "cell_type": "markdown",
   "id": "de103cc6",
   "metadata": {},
   "source": [
    "The comparison method is used in statistical analysis to eliminate distortions caused by differences in the basic characteristics of the studied groups. Simply put, matching helps to make sure that the results of the experiment are really caused by the studied effect, and not by external factors.\n",
    "\n",
    "Matching is most often performed in cases where the use of a standard AB test is impossible."
   ]
  },
  {
   "cell_type": "code",
   "execution_count": 1,
   "id": "initial_id",
   "metadata": {
    "collapsed": true,
    "ExecuteTime": {
     "end_time": "2024-09-03T14:47:20.121220500Z",
     "start_time": "2024-09-03T14:47:18.776281300Z"
    }
   },
   "outputs": [
    {
     "name": "stderr",
     "output_type": "stream",
     "text": [
      "C:\\Users\\User\\AppData\\Local\\Programs\\Python\\Python310\\lib\\site-packages\\tqdm\\auto.py:21: TqdmWarning: IProgress not found. Please update jupyter and ipywidgets. See https://ipywidgets.readthedocs.io/en/stable/user_install.html\n",
      "  from .autonotebook import tqdm as notebook_tqdm\n"
     ]
    }
   ],
   "source": [
    "from hypex.dataset import Dataset, InfoRole, TreatmentRole, TargetRole, FeatureRole, GroupingRole\n",
    "from hypex.experiments.matching import Matching"
   ]
  },
  {
   "cell_type": "markdown",
   "id": "7e41355993e9e59f",
   "metadata": {
    "collapsed": false
   },
   "source": [
    "## Data preparation \n",
    "\n",
    "It is important to mark the data fields by assigning the appropriate roles:\n",
    "\n",
    "* FeatureRole: a role for columns that contain features or predictor variables. Our split will be based on them. Applied by default if the role is not specified for the column.\n",
    "* TreatmentRole: a role for columns that show the treatment or intervention.\n",
    "* TargetRole: a role for columns that show the target or outcome variable.\n",
    "* InfoRole: a role for columns that contain information about the data, such as user IDs."
   ]
  },
  {
   "cell_type": "code",
   "execution_count": 2,
   "id": "8abf891fc6804315",
   "metadata": {
    "collapsed": false,
    "ExecuteTime": {
     "end_time": "2024-09-03T14:47:20.193818Z",
     "start_time": "2024-09-03T14:47:20.124581200Z"
    }
   },
   "outputs": [
    {
     "data": {
      "text/plain": "      user_id  signup_month  treat  pre_spends  post_spends   age gender  \\\n0           0             0      0       488.0   414.444444   NaN      M   \n1           1             8      1       512.5   462.222222  26.0    NaN   \n2           2             7      1       483.0   479.444444  25.0      M   \n3           3             0      0       501.5   424.333333  39.0      M   \n4           4             1      1       543.0   514.555556  18.0      F   \n...       ...           ...    ...         ...          ...   ...    ...   \n9995     9995            10      1       538.5   450.444444  42.0      M   \n9996     9996             0      0       500.5   430.888889  26.0      F   \n9997     9997             3      1       473.0   534.111111  22.0      F   \n9998     9998             2      1       495.0   523.222222  67.0      F   \n9999     9999             7      1       508.0   475.888889  38.0      F   \n\n        industry  \n0     E-commerce  \n1     E-commerce  \n2      Logistics  \n3     E-commerce  \n4     E-commerce  \n...          ...  \n9995   Logistics  \n9996   Logistics  \n9997  E-commerce  \n9998  E-commerce  \n9999  E-commerce  \n\n[10000 rows x 8 columns]"
     },
     "execution_count": 2,
     "metadata": {},
     "output_type": "execute_result"
    }
   ],
   "source": [
    "data = Dataset(\n",
    "    roles={\n",
    "        \"user_id\": InfoRole(int),\n",
    "        \"treat\": TreatmentRole(int), \n",
    "        \"post_spends\": TargetRole(float), \n",
    "        \"industry\": GroupingRole()\n",
    "    },\n",
    "    data=\"data.csv\",\n",
    "    default_role=FeatureRole(),\n",
    ")\n",
    "data"
   ]
  },
  {
   "cell_type": "code",
   "execution_count": 3,
   "id": "4ae8c654db6f5f85",
   "metadata": {
    "collapsed": false,
    "ExecuteTime": {
     "end_time": "2024-09-03T14:47:20.245317600Z",
     "start_time": "2024-09-03T14:47:20.190001Z"
    }
   },
   "outputs": [
    {
     "data": {
      "text/plain": "{'user_id': Info(<class 'int'>),\n 'treat': Treatment(<class 'int'>),\n 'post_spends': Target(<class 'float'>),\n 'industry': Grouping(<class 'str'>),\n 'signup_month': Feature(<class 'int'>),\n 'pre_spends': Feature(<class 'float'>),\n 'age': Feature(<class 'float'>),\n 'gender': Feature(<class 'str'>)}"
     },
     "execution_count": 3,
     "metadata": {},
     "output_type": "execute_result"
    }
   ],
   "source": [
    "data.roles"
   ]
  },
  {
   "cell_type": "markdown",
   "id": "8848fdfc6e8c0f45",
   "metadata": {
    "collapsed": false
   },
   "source": [
    "## Simple Matching  \n",
    "Now matching has 4 steps: \n",
    "1. Dummy Encoder \n",
    "2. Process Mahalanobis distance \n",
    "3. Two sides pairs searching by faiss \n",
    "4. Metrics (ATT, ATC, ATE) estimation depends on your data "
   ]
  },
  {
   "cell_type": "code",
   "execution_count": 4,
   "id": "20e64ee990f83d47",
   "metadata": {
    "collapsed": false,
    "ExecuteTime": {
     "end_time": "2024-09-03T14:47:20.270367700Z",
     "start_time": "2024-09-03T14:47:20.220180500Z"
    }
   },
   "outputs": [
    {
     "name": "stderr",
     "output_type": "stream",
     "text": [
      "C:\\Users\\User\\PycharmProjects\\HypEx\\hypex\\dataset\\backends\\pandas_backend.py:385: FutureWarning: DataFrame.fillna with 'method' is deprecated and will raise in a future version. Use obj.ffill() or obj.bfill() instead.\n",
      "  return self.data.fillna(value=values, method=method, **kwargs)\n"
     ]
    }
   ],
   "source": [
    "data = data.fillna(method=\"bfill\")"
   ]
  },
  {
   "cell_type": "code",
   "execution_count": 5,
   "id": "bc7e472bbb7c2a5d",
   "metadata": {
    "collapsed": false,
    "ExecuteTime": {
     "end_time": "2024-09-03T14:47:21.097647Z",
     "start_time": "2024-09-03T14:47:20.269362100Z"
    }
   },
   "outputs": [],
   "source": [
    "test = Matching()\n",
    "result = test.execute(data)"
   ]
  },
  {
   "cell_type": "markdown",
   "id": "d8a47b848e13e745",
   "metadata": {
    "collapsed": false
   },
   "source": [
    "**ATT** shows the difference in treated group.   \n",
    "**ATC** shows the difference in untreated group.   \n",
    "**ATE** shows the weighted average difference between ATT and ATC.  "
   ]
  },
  {
   "cell_type": "code",
   "execution_count": 6,
   "id": "24cb598e7fbd81fd",
   "metadata": {
    "collapsed": false,
    "ExecuteTime": {
     "end_time": "2024-09-03T14:47:21.113695100Z",
     "start_time": "2024-09-03T14:47:21.098896200Z"
    }
   },
   "outputs": [
    {
     "data": {
      "text/plain": "      CI Lower   CI Upper  Effect Size  P-value  Standard Error\nATC  93.412912  99.572333    96.492623      0.0        1.571281\nATE  77.319387  82.968763    80.144075      0.0        1.441167\nATT  58.575547  68.167610    63.371579      0.0        2.446955"
     },
     "execution_count": 6,
     "metadata": {},
     "output_type": "execute_result"
    }
   ],
   "source": [
    "result.resume"
   ]
  },
  {
   "cell_type": "code",
   "execution_count": 7,
   "id": "f01b67ab0e1b369d",
   "metadata": {
    "collapsed": false,
    "ExecuteTime": {
     "end_time": "2024-09-03T14:47:21.174308100Z",
     "start_time": "2024-09-03T14:47:21.114785200Z"
    }
   },
   "outputs": [
    {
     "data": {
      "text/plain": "      indexes\n0        9433\n1        5438\n2        5165\n3        1735\n4         539\n...       ...\n9995     5893\n9996     7731\n9997     7066\n9998     1885\n9999     5748\n\n[10000 rows x 1 columns]"
     },
     "execution_count": 7,
     "metadata": {},
     "output_type": "execute_result"
    }
   ],
   "source": [
    "result.indexes"
   ]
  },
  {
   "cell_type": "code",
   "execution_count": 8,
   "id": "d98c94a8b8a763e9",
   "metadata": {
    "collapsed": false,
    "ExecuteTime": {
     "end_time": "2024-09-03T14:47:21.206248900Z",
     "start_time": "2024-09-03T14:47:21.139264800Z"
    }
   },
   "outputs": [
    {
     "data": {
      "text/plain": "      user_id  signup_month  treat  pre_spends  post_spends   age gender  \\\n0           0             0      0       488.0   414.444444  26.0      M   \n1           1             8      1       512.5   462.222222  26.0      M   \n2           2             7      1       483.0   479.444444  25.0      M   \n3           3             0      0       501.5   424.333333  39.0      M   \n4           4             1      1       543.0   514.555556  18.0      F   \n...       ...           ...    ...         ...          ...   ...    ...   \n9995     9995            10      1       538.5   450.444444  42.0      M   \n9996     9996             0      0       500.5   430.888889  26.0      F   \n9997     9997             3      1       473.0   534.111111  22.0      F   \n9998     9998             2      1       495.0   523.222222  67.0      F   \n9999     9999             7      1       508.0   475.888889  38.0      F   \n\n        industry  user_id_matched  signup_month_matched  treat_matched  \\\n0     E-commerce             9433                     1              1   \n1     E-commerce             5438                     0              0   \n2      Logistics             5165                     0              0   \n3     E-commerce             1735                     1              1   \n4     E-commerce              539                     0              0   \n...          ...              ...                   ...            ...   \n9995   Logistics             5893                     0              0   \n9996   Logistics             7731                     1              1   \n9997  E-commerce             7066                     0              0   \n9998  E-commerce             1885                     0              0   \n9999  E-commerce             5748                     0              0   \n\n      pre_spends_matched  post_spends_matched  age_matched gender_matched  \\\n0                  488.5           518.444444         37.0              F   \n1                  529.0           417.111111         23.0              F   \n2                  498.5           412.222222         25.0              F   \n3                  504.0           516.333333         33.0              M   \n4                  531.0           414.000000         20.0              F   \n...                  ...                  ...          ...            ...   \n9995               535.0           414.555556         40.0              M   \n9996               500.0           515.888889         25.0              M   \n9997               480.0           423.222222         22.0              F   \n9998               499.0           423.000000         67.0              F   \n9999               522.0           424.444444         36.0              M   \n\n     industry_matched  \n0           Logistics  \n1          E-commerce  \n2           Logistics  \n3           Logistics  \n4          E-commerce  \n...               ...  \n9995       E-commerce  \n9996        Logistics  \n9997        Logistics  \n9998        Logistics  \n9999       E-commerce  \n\n[10000 rows x 16 columns]"
     },
     "execution_count": 8,
     "metadata": {},
     "output_type": "execute_result"
    }
   ],
   "source": [
    "result.full_data"
   ]
  },
  {
   "cell_type": "markdown",
   "id": "3ad7a444",
   "metadata": {},
   "source": [
    "We can change **metric** and do estimation again. In this case matching will be estimated only in one direction "
   ]
  },
  {
   "cell_type": "code",
   "execution_count": 9,
   "id": "e22f6e1d",
   "metadata": {
    "ExecuteTime": {
     "end_time": "2024-09-03T14:47:21.790995700Z",
     "start_time": "2024-09-03T14:47:21.171087800Z"
    }
   },
   "outputs": [],
   "source": [
    "test = Matching(metric=\"atc\")\n",
    "result = test.execute(data)"
   ]
  },
  {
   "cell_type": "code",
   "execution_count": 10,
   "id": "60424009",
   "metadata": {
    "ExecuteTime": {
     "end_time": "2024-09-03T14:47:21.806040900Z",
     "start_time": "2024-09-03T14:47:21.792127Z"
    }
   },
   "outputs": [
    {
     "data": {
      "text/plain": "      CI Lower  CI Upper  Effect Size  P-value  Standard Error\nATC  96.226285  96.75896    96.492623      0.0        0.135886"
     },
     "execution_count": 10,
     "metadata": {},
     "output_type": "execute_result"
    }
   ],
   "source": [
    "result.resume"
   ]
  },
  {
   "cell_type": "code",
   "execution_count": 11,
   "id": "25b5f585b9cb0776",
   "metadata": {
    "collapsed": false,
    "ExecuteTime": {
     "end_time": "2024-09-03T14:47:21.857727100Z",
     "start_time": "2024-09-03T14:47:21.807158900Z"
    }
   },
   "outputs": [
    {
     "data": {
      "text/plain": "      indexes\n0        9433\n1          -1\n2          -1\n3        1735\n4          -1\n...       ...\n9995       -1\n9996     7731\n9997       -1\n9998       -1\n9999       -1\n\n[10000 rows x 1 columns]"
     },
     "execution_count": 11,
     "metadata": {},
     "output_type": "execute_result"
    }
   ],
   "source": [
    "result.indexes"
   ]
  },
  {
   "cell_type": "code",
   "execution_count": 12,
   "id": "3d9045c0",
   "metadata": {
    "ExecuteTime": {
     "end_time": "2024-09-03T14:47:21.888539Z",
     "start_time": "2024-09-03T14:47:21.823187300Z"
    }
   },
   "outputs": [
    {
     "data": {
      "text/plain": "      user_id  signup_month  treat  pre_spends  post_spends   age gender  \\\n0           0             0      0       488.0   414.444444  26.0      M   \n1           1             8      1       512.5   462.222222  26.0      M   \n2           2             7      1       483.0   479.444444  25.0      M   \n3           3             0      0       501.5   424.333333  39.0      M   \n4           4             1      1       543.0   514.555556  18.0      F   \n...       ...           ...    ...         ...          ...   ...    ...   \n9995     9995            10      1       538.5   450.444444  42.0      M   \n9996     9996             0      0       500.5   430.888889  26.0      F   \n9997     9997             3      1       473.0   534.111111  22.0      F   \n9998     9998             2      1       495.0   523.222222  67.0      F   \n9999     9999             7      1       508.0   475.888889  38.0      F   \n\n        industry  user_id_matched  signup_month_matched  treat_matched  \\\n0     E-commerce           9433.0                   1.0            1.0   \n1     E-commerce              NaN                   NaN            NaN   \n2      Logistics              NaN                   NaN            NaN   \n3     E-commerce           1735.0                   1.0            1.0   \n4     E-commerce              NaN                   NaN            NaN   \n...          ...              ...                   ...            ...   \n9995   Logistics              NaN                   NaN            NaN   \n9996   Logistics           7731.0                   1.0            1.0   \n9997  E-commerce              NaN                   NaN            NaN   \n9998  E-commerce              NaN                   NaN            NaN   \n9999  E-commerce              NaN                   NaN            NaN   \n\n      pre_spends_matched  post_spends_matched  age_matched gender_matched  \\\n0                  488.5           518.444444         37.0              F   \n1                    NaN                  NaN          NaN            NaN   \n2                    NaN                  NaN          NaN            NaN   \n3                  504.0           516.333333         33.0              M   \n4                    NaN                  NaN          NaN            NaN   \n...                  ...                  ...          ...            ...   \n9995                 NaN                  NaN          NaN            NaN   \n9996               500.0           515.888889         25.0              M   \n9997                 NaN                  NaN          NaN            NaN   \n9998                 NaN                  NaN          NaN            NaN   \n9999                 NaN                  NaN          NaN            NaN   \n\n     industry_matched  \n0           Logistics  \n1                 NaN  \n2                 NaN  \n3           Logistics  \n4                 NaN  \n...               ...  \n9995              NaN  \n9996        Logistics  \n9997              NaN  \n9998              NaN  \n9999              NaN  \n\n[10000 rows x 16 columns]"
     },
     "execution_count": 12,
     "metadata": {},
     "output_type": "execute_result"
    }
   ],
   "source": [
    "result.full_data"
   ]
  },
  {
   "cell_type": "markdown",
   "id": "a60205ca",
   "metadata": {},
   "source": [
    "Finally, we may search pairs in L2 distance. "
   ]
  },
  {
   "cell_type": "code",
   "execution_count": 13,
   "id": "5ac83bea",
   "metadata": {
    "ExecuteTime": {
     "end_time": "2024-09-03T14:47:22.412449200Z",
     "start_time": "2024-09-03T14:47:21.854502400Z"
    }
   },
   "outputs": [],
   "source": [
    "test = Matching(distance=\"l2\", metric=\"att\")\n",
    "result = test.execute(data)"
   ]
  },
  {
   "cell_type": "code",
   "execution_count": 14,
   "id": "4bf5a651",
   "metadata": {
    "ExecuteTime": {
     "end_time": "2024-09-03T14:47:22.430041800Z",
     "start_time": "2024-09-03T14:47:22.416749400Z"
    }
   },
   "outputs": [
    {
     "data": {
      "text/plain": "     CI Lower   CI Upper  Effect Size  P-value  Standard Error\nATT  62.46076  64.273983    63.367372      0.0        0.462557"
     },
     "execution_count": 14,
     "metadata": {},
     "output_type": "execute_result"
    }
   ],
   "source": [
    "result.resume"
   ]
  },
  {
   "cell_type": "code",
   "execution_count": 15,
   "id": "c2b000183546bd56",
   "metadata": {
    "collapsed": false,
    "ExecuteTime": {
     "end_time": "2024-09-03T14:47:22.461507800Z",
     "start_time": "2024-09-03T14:47:22.430041800Z"
    }
   },
   "outputs": [
    {
     "data": {
      "text/plain": "      indexes\n0          -1\n1        2490\n2        5493\n3          -1\n4         321\n...       ...\n9995     5893\n9996       -1\n9997     8670\n9998      507\n9999     7155\n\n[10000 rows x 1 columns]"
     },
     "execution_count": 15,
     "metadata": {},
     "output_type": "execute_result"
    }
   ],
   "source": [
    "result.indexes"
   ]
  },
  {
   "cell_type": "code",
   "execution_count": 16,
   "id": "06a90f00",
   "metadata": {
    "ExecuteTime": {
     "end_time": "2024-09-03T14:47:22.515382600Z",
     "start_time": "2024-09-03T14:47:22.454631700Z"
    }
   },
   "outputs": [
    {
     "data": {
      "text/plain": "      user_id  signup_month  treat  pre_spends  post_spends   age gender  \\\n0           0             0      0       488.0   414.444444  26.0      M   \n1           1             8      1       512.5   462.222222  26.0      M   \n2           2             7      1       483.0   479.444444  25.0      M   \n3           3             0      0       501.5   424.333333  39.0      M   \n4           4             1      1       543.0   514.555556  18.0      F   \n...       ...           ...    ...         ...          ...   ...    ...   \n9995     9995            10      1       538.5   450.444444  42.0      M   \n9996     9996             0      0       500.5   430.888889  26.0      F   \n9997     9997             3      1       473.0   534.111111  22.0      F   \n9998     9998             2      1       495.0   523.222222  67.0      F   \n9999     9999             7      1       508.0   475.888889  38.0      F   \n\n        industry  user_id_matched  signup_month_matched  treat_matched  \\\n0     E-commerce              NaN                   NaN            NaN   \n1     E-commerce           2490.0                   0.0            0.0   \n2      Logistics           5493.0                   0.0            0.0   \n3     E-commerce              NaN                   NaN            NaN   \n4     E-commerce            321.0                   0.0            0.0   \n...          ...              ...                   ...            ...   \n9995   Logistics           5893.0                   0.0            0.0   \n9996   Logistics              NaN                   NaN            NaN   \n9997  E-commerce           8670.0                   0.0            0.0   \n9998  E-commerce            507.0                   0.0            0.0   \n9999  E-commerce           7155.0                   0.0            0.0   \n\n      pre_spends_matched  post_spends_matched  age_matched gender_matched  \\\n0                    NaN                  NaN          NaN            NaN   \n1                  511.5           417.444444         27.0              F   \n2                  483.0           408.000000         25.0              M   \n3                    NaN                  NaN          NaN            NaN   \n4                  538.0           421.444444         29.0              M   \n...                  ...                  ...          ...            ...   \n9995               535.0           414.555556         40.0              M   \n9996                 NaN                  NaN          NaN            NaN   \n9997               473.0           415.777778         22.0              F   \n9998               495.0           429.777778         67.0              F   \n9999               509.5           415.000000         38.0              M   \n\n     industry_matched  \n0                 NaN  \n1          E-commerce  \n2          E-commerce  \n3                 NaN  \n4          E-commerce  \n...               ...  \n9995       E-commerce  \n9996              NaN  \n9997        Logistics  \n9998        Logistics  \n9999       E-commerce  \n\n[10000 rows x 16 columns]"
     },
     "execution_count": 16,
     "metadata": {},
     "output_type": "execute_result"
    }
   ],
   "source": [
    "result.full_data"
   ]
  },
  {
   "cell_type": "code",
   "outputs": [
    {
     "name": "stderr",
     "output_type": "stream",
     "text": [
      "C:\\Users\\User\\PycharmProjects\\HypEx\\hypex\\dataset\\backends\\pandas_backend.py:305: FutureWarning: The default of observed=False is deprecated and will be changed to True in a future version of pandas. Pass observed=False to retain current behavior or observed=True to adopt the future default and silence this warning.\n",
      "  groups = self.data.groupby(by, **kwargs)\n",
      "100%|██████████| 2/2 [00:01<00:00,  1.82it/s]\n"
     ]
    }
   ],
   "source": [
    "test = Matching(group_match=True)\n",
    "result = test.execute(data)"
   ],
   "metadata": {
    "collapsed": false,
    "ExecuteTime": {
     "end_time": "2024-09-03T14:47:23.869134800Z",
     "start_time": "2024-09-03T14:47:22.485317700Z"
    }
   },
   "id": "fbf5699b2aa10ca5",
   "execution_count": 17
  },
  {
   "cell_type": "code",
   "outputs": [
    {
     "data": {
      "text/plain": "     E-commerce CI Lower  E-commerce CI Upper  E-commerce Effect Size  \\\nATC            98.815121           105.567979              102.191550   \nATE            81.227356            85.244009               83.235682   \nATT            61.390855            66.570894               63.980875   \n\n     E-commerce P-value  E-commerce Standard Error  Logistics CI Lower  \\\nATC                 0.0                   1.722668           92.626791   \nATE                 0.0                   1.024656           77.135410   \nATT                 0.0                   1.321439           58.272601   \n\n     Logistics CI Upper  Logistics Effect Size  Logistics P-value  \\\nATC          100.959770              96.793280                0.0   \nATE           83.523810              80.329610                0.0   \nATT           68.269456              63.271029                0.0   \n\n     Logistics Standard Error  \nATC                  2.125760  \nATE                  1.629694  \nATT                  2.550218  "
     },
     "execution_count": 18,
     "metadata": {},
     "output_type": "execute_result"
    }
   ],
   "source": [
    "result.resume"
   ],
   "metadata": {
    "collapsed": false,
    "ExecuteTime": {
     "end_time": "2024-09-03T14:47:23.912987400Z",
     "start_time": "2024-09-03T14:47:23.871820500Z"
    }
   },
   "id": "1700dbd783495643",
   "execution_count": 18
  },
  {
   "cell_type": "code",
   "outputs": [
    {
     "data": {
      "text/plain": "      indexes\n0        5490\n1        1897\n2        3222\n3        3987\n4         539\n...       ...\n9995     5517\n9996     7731\n9997     4237\n9998     1908\n9999     1756\n\n[10000 rows x 1 columns]"
     },
     "execution_count": 19,
     "metadata": {},
     "output_type": "execute_result"
    }
   ],
   "source": [
    "result.indexes"
   ],
   "metadata": {
    "collapsed": false,
    "ExecuteTime": {
     "end_time": "2024-09-03T14:47:23.915921300Z",
     "start_time": "2024-09-03T14:47:23.889404900Z"
    }
   },
   "id": "6353581c5d08a1f7",
   "execution_count": 19
  },
  {
   "cell_type": "code",
   "outputs": [
    {
     "data": {
      "text/plain": "      user_id  signup_month  treat  pre_spends  post_spends   age gender  \\\n0           0             0      0       488.0   414.444444  26.0      M   \n1           1             8      1       512.5   462.222222  26.0      M   \n2           2             7      1       483.0   479.444444  25.0      M   \n3           3             0      0       501.5   424.333333  39.0      M   \n4           4             1      1       543.0   514.555556  18.0      F   \n...       ...           ...    ...         ...          ...   ...    ...   \n9995     9995            10      1       538.5   450.444444  42.0      M   \n9996     9996             0      0       500.5   430.888889  26.0      F   \n9997     9997             3      1       473.0   534.111111  22.0      F   \n9998     9998             2      1       495.0   523.222222  67.0      F   \n9999     9999             7      1       508.0   475.888889  38.0      F   \n\n        industry  user_id_matched  signup_month_matched  treat_matched  \\\n0     E-commerce             5490                     2              1   \n1     E-commerce             1897                     0              0   \n2      Logistics             3222                     0              0   \n3     E-commerce             3987                     1              1   \n4     E-commerce              539                     0              0   \n...          ...              ...                   ...            ...   \n9995   Logistics             5517                     0              0   \n9996   Logistics             7731                     1              1   \n9997  E-commerce             4237                     0              0   \n9998  E-commerce             1908                     0              0   \n9999  E-commerce             1756                     0              0   \n\n      pre_spends_matched  post_spends_matched  age_matched gender_matched  \\\n0                  483.0           516.222222         25.0              F   \n1                  525.5           422.000000         28.0              M   \n2                  500.5           418.111111         25.0              F   \n3                  507.5           522.000000         34.0              M   \n4                  531.0           414.000000         20.0              F   \n...                  ...                  ...          ...            ...   \n9995               529.5           427.555556         44.0              M   \n9996               500.0           515.888889         25.0              M   \n9997               479.5           430.333333         23.0              F   \n9998               498.5           421.777778         68.0              M   \n9999               521.0           423.111111         40.0              M   \n\n     industry_matched  \n0          E-commerce  \n1          E-commerce  \n2           Logistics  \n3          E-commerce  \n4          E-commerce  \n...               ...  \n9995        Logistics  \n9996        Logistics  \n9997       E-commerce  \n9998       E-commerce  \n9999       E-commerce  \n\n[10000 rows x 16 columns]"
     },
     "execution_count": 20,
     "metadata": {},
     "output_type": "execute_result"
    }
   ],
   "source": [
    "result.full_data"
   ],
   "metadata": {
    "collapsed": false,
    "ExecuteTime": {
     "end_time": "2024-09-03T14:47:23.952797400Z",
     "start_time": "2024-09-03T14:47:23.905346600Z"
    }
   },
   "id": "d7455acbd60123e5",
   "execution_count": 20
  }
 ],
 "metadata": {
  "kernelspec": {
   "display_name": "Python 3",
   "language": "python",
   "name": "python3"
  },
  "language_info": {
   "codemirror_mode": {
    "name": "ipython",
    "version": 3
   },
   "file_extension": ".py",
   "mimetype": "text/x-python",
   "name": "python",
   "nbconvert_exporter": "python",
   "pygments_lexer": "ipython3",
   "version": "3.10.13"
  }
 },
 "nbformat": 4,
 "nbformat_minor": 5
}
