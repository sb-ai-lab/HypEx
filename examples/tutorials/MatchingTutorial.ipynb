{
 "cells": [
  {
   "cell_type": "markdown",
   "id": "f1de2ec1",
   "metadata": {},
   "source": [
    "# Matching Tutorial"
   ]
  },
  {
   "cell_type": "markdown",
   "id": "412f29ed",
   "metadata": {},
   "source": [
    "The comparison method is used in statistical analysis to eliminate distortions caused by differences in the basic characteristics of the studied groups. Simply put, matching helps to make sure that the results of the experiment are really caused by the studied effect, and not by external factors. \n",
    "\n",
    "Matching is most often performed in cases where the use of a standard AB test is impossible."
   ]
  },
  {
   "cell_type": "code",
   "execution_count": 1,
   "id": "initial_id",
   "metadata": {
    "ExecuteTime": {
     "end_time": "2024-07-05T07:53:41.405304500Z",
     "start_time": "2024-07-05T07:53:38.955468500Z"
    },
    "collapsed": true
   },
   "outputs": [
    {
     "name": "stderr",
     "output_type": "stream",
     "text": [
      "C:\\Users\\User\\AppData\\Local\\Programs\\Python\\Python310\\lib\\site-packages\\tqdm\\auto.py:21: TqdmWarning: IProgress not found. Please update jupyter and ipywidgets. See https://ipywidgets.readthedocs.io/en/stable/user_install.html\n",
      "  from .autonotebook import tqdm as notebook_tqdm\n"
     ]
    }
   ],
   "source": [
    "from hypex.dataset import Dataset, ExperimentData, InfoRole, TreatmentRole, TargetRole \n",
    "from hypex.experiments.twin_search import MATCHING"
   ]
  },
  {
   "cell_type": "markdown",
   "id": "1c2ae410",
   "metadata": {},
   "source": [
    "## Creation of a new test dataset with synthetic data. \n",
    "\n",
    "It is important to mark the data fields by assigning the appropriate roles:\n",
    "- FeatureRole: a role for columns that contain features or predictor variables. Our split will be based on them. Applied by default if the role is not specified for the column.\n",
    "- TreatmentRole: a role for columns that show the treatment or intervention.\n",
    "- TargetRole: a role for columns that show the target or outcome variable.\n",
    "- InfoRole: a role for columns that contain information about the data, such as user IDs. "
   ]
  },
  {
   "cell_type": "code",
   "execution_count": 2,
   "id": "8abf891fc6804315",
   "metadata": {
    "ExecuteTime": {
     "end_time": "2024-07-05T07:53:41.514868700Z",
     "start_time": "2024-07-05T07:53:41.412319600Z"
    },
    "collapsed": false
   },
   "outputs": [
    {
     "data": {
      "text/plain": [
       "      user_id  signup_month  treat  pre_spends  post_spends   age gender  \\\n",
       "0           0             0      0       488.0   414.444444   NaN      M   \n",
       "1           1             8      1       512.5   462.222222  26.0    NaN   \n",
       "2           2             7      1       483.0   479.444444  25.0      M   \n",
       "3           3             0      0       501.5   424.333333  39.0      M   \n",
       "4           4             1      1       543.0   514.555556  18.0      F   \n",
       "...       ...           ...    ...         ...          ...   ...    ...   \n",
       "9995     9995            10      1       538.5   450.444444  42.0      M   \n",
       "9996     9996             0      0       500.5   430.888889  26.0      F   \n",
       "9997     9997             3      1       473.0   534.111111  22.0      F   \n",
       "9998     9998             2      1       495.0   523.222222  67.0      F   \n",
       "9999     9999             7      1       508.0   475.888889  38.0      F   \n",
       "\n",
       "        industry  \n",
       "0     E-commerce  \n",
       "1     E-commerce  \n",
       "2      Logistics  \n",
       "3     E-commerce  \n",
       "4     E-commerce  \n",
       "...          ...  \n",
       "9995   Logistics  \n",
       "9996   Logistics  \n",
       "9997  E-commerce  \n",
       "9998  E-commerce  \n",
       "9999  E-commerce  \n",
       "\n",
       "[10000 rows x 8 columns]"
      ]
     },
     "execution_count": 2,
     "metadata": {},
     "output_type": "execute_result"
    }
   ],
   "source": [
    "data = Dataset(\n",
    "    roles={\n",
    "        \"user_id\": InfoRole(int),\n",
    "        \"treat\": TreatmentRole(int), \n",
    "        \"post_spends\": TargetRole(float)\n",
    "    }, data=\"data.csv\",\n",
    ")\n",
    "data"
   ]
  },
  {
   "cell_type": "code",
   "execution_count": 3,
   "id": "4ae8c654db6f5f85",
   "metadata": {
    "ExecuteTime": {
     "end_time": "2024-07-05T07:53:41.557721200Z",
     "start_time": "2024-07-05T07:53:41.519946200Z"
    },
    "collapsed": false
   },
   "outputs": [
    {
     "data": {
      "text/plain": [
       "{'user_id': Info(<class 'int'>),\n",
       " 'treat': Treatment(<class 'int'>),\n",
       " 'post_spends': Target(<class 'float'>),\n",
       " 'signup_month': Feature(<class 'int'>),\n",
       " 'pre_spends': Feature(<class 'float'>),\n",
       " 'age': Feature(<class 'float'>),\n",
       " 'gender': Feature(<class 'str'>),\n",
       " 'industry': Feature(<class 'str'>)}"
      ]
     },
     "execution_count": 3,
     "metadata": {},
     "output_type": "execute_result"
    }
   ],
   "source": [
    "data.roles"
   ]
  },
  {
   "cell_type": "markdown",
   "id": "1d261d30",
   "metadata": {},
   "source": [
    "## Simple matching\n",
    "Before execution, we wrap prepared dataset into ExperimentData to be able to run experiments on it. \n",
    "Then we execute pipeline, in this case we select one of the pre-assembled pipeline, in our case MATCHING. Also, pipline may be created depends on your needs with custom executors."
   ]
  },
  {
   "cell_type": "code",
   "execution_count": 5,
   "id": "bc7e472bbb7c2a5d",
   "metadata": {
    "ExecuteTime": {
     "end_time": "2024-07-05T07:53:42.746176900Z",
     "start_time": "2024-07-05T07:53:41.663220500Z"
    },
    "collapsed": false
   },
   "outputs": [],
   "source": [
    "test = MATCHING\n",
    "result = test.execute(ExperimentData(data))"
   ]
  },
  {
   "cell_type": "markdown",
   "id": "57d80eb1",
   "metadata": {},
   "source": [
    "## Matching results \n",
    "\n",
    "ATT shows the difference in treated group.      \n",
    "ATC shows the difference in untreated group.      \n",
    "ATE shows the weighted average difference between ATT and ATC.      "
   ]
  },
  {
   "cell_type": "code",
   "execution_count": 6,
   "id": "d98c94a8b8a763e9",
   "metadata": {
    "ExecuteTime": {
     "end_time": "2024-07-05T07:53:42.814330600Z",
     "start_time": "2024-07-05T07:53:42.754191700Z"
    },
    "collapsed": false
   },
   "outputs": [
    {
     "data": {
      "text/plain": [
       "{\"MatchingMetrics┴┴['post_spends', 'FaissNearestNeighbors||post_spends_matched']\": {'ATT': 275.68659110904105,\n",
       "  'ATC': 309.32492819349966,\n",
       "  'ATE': 291.19931400844945},\n",
       " \"SMD┴┴['post_spends', 'FaissNearestNeighbors||post_spends_matched']\": {0: 76.00524756368492,\n",
       "  1: 23.666228822777718}}"
      ]
     },
     "execution_count": 6,
     "metadata": {},
     "output_type": "execute_result"
    }
   ],
   "source": [
    "result.variables"
   ]
  },
  {
   "cell_type": "markdown",
   "id": "be9dbf60",
   "metadata": {},
   "source": [
    "You may find Mahalanobis distances in `result.groups` and matched treatment column in `result.additional_fields`"
   ]
  },
  {
   "cell_type": "code",
   "execution_count": 7,
   "id": "209df4313b764ca5",
   "metadata": {
    "ExecuteTime": {
     "end_time": "2024-07-05T07:53:42.861050100Z",
     "start_time": "2024-07-05T07:53:42.784850500Z"
    },
    "collapsed": false
   },
   "outputs": [
    {
     "data": {
      "text/plain": [
       "{\"MahalanobisDistance┴┴['signup_month', 'pre_spends', 'age']\": {'control':         0          1         2\n",
       "  0     NaN        NaN       NaN\n",
       "  3     0.0  36.929974  3.254733\n",
       "  12    0.0  34.757623  3.442269\n",
       "  13    0.0  37.445447  4.191827\n",
       "  14    0.0  36.598598  5.111848\n",
       "  ...   ...        ...       ...\n",
       "  9988  0.0  36.929974  2.467274\n",
       "  9990  NaN        NaN       NaN\n",
       "  9991  0.0  35.530832  3.523547\n",
       "  9992  0.0  36.193584  2.529632\n",
       "  9996  0.0  36.856335  2.323176\n",
       "  \n",
       "  [4294 rows x 3 columns],\n",
       "  'test':              0          1         2\n",
       "  1     4.293461  37.909827  2.303881\n",
       "  2     3.756778  35.716248  2.208865\n",
       "  5     3.220095  35.952757  3.576048\n",
       "  8     2.146730  34.363881  5.139179\n",
       "  9     2.146730  34.695257  4.284285\n",
       "  ...        ...        ...       ...\n",
       "  9981  3.220095  36.983703  4.090079\n",
       "  9993  2.683413  34.127372  5.060565\n",
       "  9997  1.610048  34.894946  2.000059\n",
       "  9998  1.073365  36.493776  5.245584\n",
       "  9999  3.756778  37.557224  3.162571\n",
       "  \n",
       "  [3675 rows x 3 columns]}}"
      ]
     },
     "execution_count": 7,
     "metadata": {},
     "output_type": "execute_result"
    }
   ],
   "source": [
    "result.groups"
   ]
  }
 ],
 "metadata": {
  "kernelspec": {
   "display_name": "Python 3",
   "language": "python",
   "name": "python3"
  },
  "language_info": {
   "codemirror_mode": {
    "name": "ipython",
    "version": 2
   },
   "file_extension": ".py",
   "mimetype": "text/x-python",
   "name": "python",
   "nbconvert_exporter": "python",
   "pygments_lexer": "ipython2",
   "version": "2.7.6"
  }
 },
 "nbformat": 4,
 "nbformat_minor": 5
}
