{
 "cells": [
  {
   "cell_type": "markdown",
   "id": "64e2de80",
   "metadata": {},
   "source": [
    "# AA test    \n",
    "\n",
    "_An A/A test is a variation of an A/B test, the peculiarity of which is that the original is compared with itself, as opposed to an A/B test, which compares samples before and after exposure._"
   ]
  },
  {
   "cell_type": "markdown",
   "id": "9f52ff79",
   "metadata": {},
   "source": [
    "## 0. Import Libraries"
   ]
  },
  {
   "cell_type": "code",
   "id": "6c2c62f0",
   "metadata": {},
   "source": [
    "import numpy as np\n",
    "import pandas as pd\n",
    "\n",
    "from hypex import AATest\n",
    "from hypex.utils.tutorial_data_creation import create_test_data\n",
    "\n",
    "pd.options.display.float_format = '{:,.2f}'.format\n",
    "\n",
    "np.random.seed(42)  # needed to create example data"
   ],
   "outputs": [],
   "execution_count": null
  },
  {
   "cell_type": "code",
   "id": "dfdea8117d160056",
   "metadata": {
    "collapsed": false
   },
   "source": [
    "def show_result(result):\n",
    "    for k, v in result.items():\n",
    "        print(k)\n",
    "        display(v)\n",
    "        print()"
   ],
   "outputs": [],
   "execution_count": null
  },
  {
   "cell_type": "markdown",
   "id": "2dca3eaa",
   "metadata": {},
   "source": [
    "## 1. Create or upload your dataset\n",
    "In this case we will create random dataset with known effect size  \n",
    "If you have your own dataset, go to the part 2 "
   ]
  },
  {
   "cell_type": "code",
   "id": "7b655d2d",
   "metadata": {},
   "source": [
    "data = create_test_data(rs=52, na_step=10, nan_cols=['age', 'gender'])\n",
    "data"
   ],
   "outputs": [],
   "execution_count": null
  },
  {
   "cell_type": "markdown",
   "id": "a0402e83",
   "metadata": {},
   "source": [
    "## 2. AATest "
   ]
  },
  {
   "cell_type": "markdown",
   "id": "b3733f84",
   "metadata": {},
   "source": [
    "### 2.0 Initialize parameters\n",
    "`info_col` used to define informative attributes that should NOT be part of testing, such as user_id and signup_month <br>"
   ]
  },
  {
   "cell_type": "code",
   "id": "bc8e4ac0",
   "metadata": {},
   "source": [
    "info_cols = ['user_id', 'signup_month']\n",
    "target = ['post_spends', 'pre_spends']"
   ],
   "outputs": [],
   "execution_count": null
  },
  {
   "cell_type": "markdown",
   "id": "75c196ea",
   "metadata": {},
   "source": [
    "### 2.1 Simple AA-test\n",
    "This is the easiest way to initialize and calculate metrics on a AA-test (default - on 2000 iterations)<br>Use it when you are clear about each attribute or if you don't have any additional task conditions (like grouping)    \n",
    "\n",
    "You can also add some extra arguments to the process(): \n",
    "* plot_set - types of plot, that you want to show (\"hist\", \"cumulative\", \"percentile\")\n",
    "* figsize - size of figure for plots \n",
    "* alpha - value to change the transparency of the histogram plot \n",
    "* bins - generic bin parameter that can be the name of a reference rule, the number of bins, or the breaks of the bins \n",
    "* title_size - size of title for plots"
   ]
  },
  {
   "cell_type": "code",
   "id": "701d20c0",
   "metadata": {},
   "source": [
    "experiment = AATest(info_cols=info_cols, target_fields=target)"
   ],
   "outputs": [],
   "execution_count": null
  },
  {
   "cell_type": "code",
   "id": "a3d70bf6",
   "metadata": {
    "scrolled": true
   },
   "source": "results = experiment.process(data, iterations=2000)",
   "outputs": [],
   "execution_count": null
  },
  {
   "metadata": {},
   "cell_type": "code",
   "source": "show_result(results)",
   "id": "1665bf93f36d4cff",
   "outputs": [],
   "execution_count": null
  },
  {
   "cell_type": "code",
   "id": "2adb8cdd",
   "metadata": {},
   "source": [
    "results.keys()"
   ],
   "outputs": [],
   "execution_count": null
  },
  {
   "cell_type": "markdown",
   "id": "d9f415c2",
   "metadata": {},
   "source": [
    "`results` is a dictionary with dataframes as values.<br>\n",
    "* 'split' - result of separation, column 'group' contains values 'test' and 'control'  \n",
    "* 'resume' - summary of all results   \n",
    "* 'aa_score' - score of T-test and Kolmogorov-Smirnov test \n",
    "* 'experiments' - is a table of results of experiments, which includes \n",
    "    - means of all targets in a and b samples, \n",
    "    - p_values of Student t-test and test Kolmogorova-Smirnova, \n",
    "    - and results of tests (did data on the random_state passes the uniform test)\n",
    "* 'best_experiment_stat' - like previous point but only for the best experiment \n",
    "* 'split_stat' - metrics and statistics tests for result of split\n",
    "\n"
   ]
  },
  {
   "cell_type": "code",
   "id": "ea319b3762723578",
   "metadata": {
    "collapsed": false
   },
   "source": [
    "results['aa_score']"
   ],
   "outputs": [],
   "execution_count": null
  },
  {
   "cell_type": "code",
   "id": "9743659416932461",
   "metadata": {
    "collapsed": false
   },
   "source": [
    "results['resume']"
   ],
   "outputs": [],
   "execution_count": null
  },
  {
   "cell_type": "markdown",
   "id": "c277b0b9",
   "metadata": {},
   "source": [
    "### 2.2 Single experiment\n",
    "To get stable results lets fix `random_state`"
   ]
  },
  {
   "cell_type": "code",
   "id": "01265e9e",
   "metadata": {},
   "source": [
    "random_state = 11"
   ],
   "outputs": [],
   "execution_count": null
  },
  {
   "cell_type": "markdown",
   "id": "c4a1cd70",
   "metadata": {},
   "source": [
    "To perform single experiment you can use `sampling_metrics()`"
   ]
  },
  {
   "cell_type": "code",
   "id": "6f1a8cf6",
   "metadata": {},
   "source": [
    "experiment = AATest(info_cols=info_cols, target_fields=target)\n",
    "metrics, dict_of_datas = experiment.sampling_metrics(data=data, random_state=random_state).values()"
   ],
   "outputs": [],
   "execution_count": null
  },
  {
   "cell_type": "markdown",
   "id": "4971e2e8",
   "metadata": {},
   "source": [
    "The results contains the same info as in multisampling, but on one experiment"
   ]
  },
  {
   "cell_type": "code",
   "id": "bad5e42e",
   "metadata": {
    "scrolled": true
   },
   "source": [
    "metrics"
   ],
   "outputs": [],
   "execution_count": null
  },
  {
   "cell_type": "code",
   "id": "a9c3c513",
   "metadata": {},
   "source": [
    "dict_of_datas[random_state]"
   ],
   "outputs": [],
   "execution_count": null
  },
  {
   "cell_type": "code",
   "id": "bc1297497a9c63f7",
   "metadata": {
    "collapsed": false
   },
   "source": [
    "results = experiment.experiment_result_transform(pd.Series(metrics))"
   ],
   "outputs": [],
   "execution_count": null
  },
  {
   "cell_type": "code",
   "id": "8b70cf64c1d013a9",
   "metadata": {
    "collapsed": false
   },
   "source": [
    "results.keys()"
   ],
   "outputs": [],
   "execution_count": null
  },
  {
   "cell_type": "code",
   "id": "82a3bf8a9bdca25",
   "metadata": {
    "collapsed": false
   },
   "source": [
    "results['best_experiment_stat']"
   ],
   "outputs": [],
   "execution_count": null
  },
  {
   "cell_type": "code",
   "id": "d168c3717090854a",
   "metadata": {
    "collapsed": false
   },
   "source": [
    "results['best_split_stat']"
   ],
   "outputs": [],
   "execution_count": null
  },
  {
   "cell_type": "markdown",
   "id": "5017639b",
   "metadata": {},
   "source": [
    "### 2.3 AA-test with grouping"
   ]
  },
  {
   "cell_type": "markdown",
   "id": "e3a32245",
   "metadata": {},
   "source": [
    "To perform experiment that separates samples by groups `group_col` can be used"
   ]
  },
  {
   "cell_type": "code",
   "id": "2fba205a",
   "metadata": {},
   "source": [
    "info_cols = ['user_id', 'signup_month']\n",
    "target = ['post_spends', 'pre_spends']\n",
    "\n",
    "group_cols = 'industry'"
   ],
   "outputs": [],
   "execution_count": null
  },
  {
   "cell_type": "code",
   "id": "b5896bf8",
   "metadata": {},
   "source": [
    "experiment = AATest(info_cols=info_cols, target_fields=target, group_cols=group_cols)"
   ],
   "outputs": [],
   "execution_count": null
  },
  {
   "cell_type": "code",
   "id": "6155253f",
   "metadata": {
    "jupyter": {
     "is_executing": true
    }
   },
   "source": [
    "results = experiment.process(data=data, iterations=2000)"
   ],
   "outputs": [],
   "execution_count": null
  },
  {
   "cell_type": "markdown",
   "id": "45f18b03",
   "metadata": {},
   "source": [
    "The result is in the same format as without groups\n",
    "\n",
    "In this regime groups equally divided on each sample (test and control):"
   ]
  },
  {
   "cell_type": "code",
   "id": "451022e7ea12f453",
   "metadata": {
    "collapsed": false,
    "jupyter": {
     "is_executing": true
    }
   },
   "source": [
    "results['split']['industry'].value_counts(normalize=True) * 100"
   ],
   "outputs": [],
   "execution_count": null
  },
  {
   "cell_type": "code",
   "id": "520ed05c",
   "metadata": {
    "jupyter": {
     "is_executing": true
    }
   },
   "source": [
    "results['split'].groupby(['industry', 'group'])[['user_id']].count()"
   ],
   "outputs": [],
   "execution_count": null
  },
  {
   "cell_type": "code",
   "id": "726f57af0084ff72",
   "metadata": {
    "collapsed": false,
    "jupyter": {
     "is_executing": true
    }
   },
   "source": [
    "show_result(results)"
   ],
   "outputs": [],
   "execution_count": null
  },
  {
   "cell_type": "markdown",
   "id": "ef48eafa-6c17-4d40-a647-6d00d6b52a39",
   "metadata": {},
   "source": [
    "### 2.4 AA with optimize group \n",
    "\n",
    "_If you have many columns for grouping and don't know which colun or columns will make best result, you can use parametr `optimize_group=True`.\n",
    "AA-Test will choose optimal number and names of group columns._"
   ]
  },
  {
   "cell_type": "markdown",
   "id": "803a2ebca97c85d3",
   "metadata": {
    "collapsed": false
   },
   "source": [
    "You can use `columns_labeling` to automatically name columns as target and group."
   ]
  },
  {
   "cell_type": "code",
   "id": "77227253-2569-4a54-9d11-77c53e6a69eb",
   "metadata": {
    "jupyter": {
     "is_executing": true
    }
   },
   "source": [
    "experiment.columns_labeling(data)"
   ],
   "outputs": [],
   "execution_count": null
  },
  {
   "cell_type": "code",
   "id": "b6c733e6-8518-48bf-b24d-2c392a788889",
   "metadata": {
    "jupyter": {
     "is_executing": true
    }
   },
   "source": [
    "results = experiment.process(data=data, optimize_groups=True, iterations=2000)"
   ],
   "outputs": [],
   "execution_count": null
  },
  {
   "cell_type": "code",
   "id": "e6c4eb05-0acd-4148-a1df-04e232ef290d",
   "metadata": {
    "jupyter": {
     "is_executing": true
    }
   },
   "source": [
    "experiment.group_cols"
   ],
   "outputs": [],
   "execution_count": null
  },
  {
   "cell_type": "code",
   "id": "86f940251f22929a",
   "metadata": {
    "collapsed": false,
    "jupyter": {
     "is_executing": true
    }
   },
   "source": [
    "show_result(results)"
   ],
   "outputs": [],
   "execution_count": null
  },
  {
   "cell_type": "markdown",
   "id": "6adf0fc69f8fb0a5",
   "metadata": {
    "collapsed": false
   },
   "source": [
    "### 2.5 AA test with quantization \n",
    "\n",
    "_If you want make one column as parameter for quantization, you may use `quant_field`._"
   ]
  },
  {
   "cell_type": "code",
   "id": "477b674bba35639d",
   "metadata": {
    "collapsed": false,
    "jupyter": {
     "is_executing": true
    }
   },
   "source": [
    "info_cols = ['user_id', 'signup_month']\n",
    "target = ['post_spends', 'pre_spends']\n",
    "\n",
    "group_cols = 'industry'\n",
    "quant_field = 'gender'"
   ],
   "outputs": [],
   "execution_count": null
  },
  {
   "cell_type": "code",
   "id": "8d2de96c1680ec35",
   "metadata": {
    "collapsed": false,
    "jupyter": {
     "is_executing": true
    }
   },
   "source": [
    "experiment = AATest(info_cols=info_cols, target_fields=target, group_cols=group_cols, quant_field=quant_field)"
   ],
   "outputs": [],
   "execution_count": null
  },
  {
   "cell_type": "code",
   "id": "319e1e677e4d3b1",
   "metadata": {
    "collapsed": false,
    "jupyter": {
     "is_executing": true
    }
   },
   "source": [
    "result = experiment.process(data=data, iterations=2000)"
   ],
   "outputs": [],
   "execution_count": null
  },
  {
   "cell_type": "code",
   "id": "6ffeaefb9285e2a1",
   "metadata": {
    "collapsed": false,
    "jupyter": {
     "is_executing": true
    }
   },
   "source": [
    "result['split'].groupby(['gender', 'industry', 'group'])['user_id'].count()\n"
   ],
   "outputs": [],
   "execution_count": null
  },
  {
   "cell_type": "code",
   "id": "6411dc57079f1316",
   "metadata": {
    "collapsed": false,
    "jupyter": {
     "is_executing": true
    }
   },
   "source": [
    "show_result(result)"
   ],
   "outputs": [],
   "execution_count": null
  },
  {
   "cell_type": "markdown",
   "id": "cffcad06fd42968",
   "metadata": {
    "collapsed": false
   },
   "source": [
    "### 2.6 Unbalanced AA test\n",
    "\n",
    "_If you want to perform AA test with unbalanced groups, you can use parametr `test_size` to define sizes of test group and control group_"
   ]
  },
  {
   "cell_type": "code",
   "id": "ec010ddeab79c96a",
   "metadata": {
    "collapsed": false,
    "jupyter": {
     "is_executing": true
    }
   },
   "source": [
    "info_cols = ['user_id', 'signup_month']\n",
    "target = ['post_spends', 'pre_spends']\n",
    "\n",
    "group_cols = 'industry'"
   ],
   "outputs": [],
   "execution_count": null
  },
  {
   "cell_type": "code",
   "id": "91943d71e588c78",
   "metadata": {
    "collapsed": false,
    "jupyter": {
     "is_executing": true
    }
   },
   "source": [
    "experiment = AATest(info_cols=info_cols, target_fields=target, group_cols=group_cols)"
   ],
   "outputs": [],
   "execution_count": null
  },
  {
   "cell_type": "code",
   "id": "8e177ae5712350f4",
   "metadata": {
    "collapsed": false,
    "jupyter": {
     "is_executing": true
    }
   },
   "source": [
    "result = experiment.process(data=data, test_size=0.3, iterations=2000)"
   ],
   "outputs": [],
   "execution_count": null
  },
  {
   "cell_type": "code",
   "id": "166b6a3a05f173c4",
   "metadata": {
    "collapsed": false,
    "jupyter": {
     "is_executing": true
    }
   },
   "source": [
    "result['split']['group'].value_counts(normalize=True)"
   ],
   "outputs": [],
   "execution_count": null
  },
  {
   "cell_type": "code",
   "id": "52f1f22bd39ecfa1",
   "metadata": {
    "collapsed": false,
    "jupyter": {
     "is_executing": true
    }
   },
   "source": [
    "show_result(result)"
   ],
   "outputs": [],
   "execution_count": null
  },
  {
   "cell_type": "markdown",
   "id": "906d845f",
   "metadata": {},
   "source": [
    "## MDE    \n",
    "this is the boundary value of the effect, for which it makes sense to introduce some changes. "
   ]
  },
  {
   "cell_type": "code",
   "id": "33cf7c57",
   "metadata": {
    "jupyter": {
     "is_executing": true
    }
   },
   "source": [
    "info_cols = ['user_id', 'signup_month']\n",
    "target = ['post_spends', 'pre_spends']\n",
    "\n",
    "group_cols = 'industry'\n",
    "mde_target = 'post_spends'"
   ],
   "outputs": [],
   "execution_count": null
  },
  {
   "cell_type": "code",
   "id": "24bc3a9e",
   "metadata": {
    "jupyter": {
     "is_executing": true
    }
   },
   "source": [
    "experiment = AATest(info_cols=info_cols, target_fields=target, group_cols=group_cols)"
   ],
   "outputs": [],
   "execution_count": null
  },
  {
   "cell_type": "markdown",
   "id": "820a55cd",
   "metadata": {},
   "source": [
    "Single experiment of data splitting for MDE calculation. \n",
    "\n",
    "_P.s. [None] is the number of random state. You can change it like sampling_metrics(data, random_state=42) and get result with [42] instead of [None]_ "
   ]
  },
  {
   "cell_type": "code",
   "id": "14352eba",
   "metadata": {
    "jupyter": {
     "is_executing": true
    }
   },
   "source": [
    "splitted_data = experiment.sampling_metrics(data)['data_from_experiment'][None]\n",
    "splitted_data"
   ],
   "outputs": [],
   "execution_count": null
  },
  {
   "cell_type": "code",
   "id": "e6b66b61",
   "metadata": {
    "jupyter": {
     "is_executing": true
    }
   },
   "source": [
    "splitted_data[mde_target].hist()"
   ],
   "outputs": [],
   "execution_count": null
  },
  {
   "cell_type": "markdown",
   "id": "b71fd1b4b45f9fd5",
   "metadata": {},
   "source": [
    "You can evaluate minimum detectable effect for your data. This will be the smallest true effect obtained from the changes, which the statistical criterion will be able to detect with confidence "
   ]
  },
  {
   "cell_type": "code",
   "id": "4f6fc4aa",
   "metadata": {
    "jupyter": {
     "is_executing": true
    }
   },
   "source": [
    "mde = experiment.calc_mde(data=splitted_data, group_field=\"group\", target_field=mde_target)\n",
    "mde"
   ],
   "outputs": [],
   "execution_count": null
  },
  {
   "cell_type": "markdown",
   "id": "5306416f71359a5a",
   "metadata": {},
   "source": [
    "You can also calculate the amount of data you need to have in order to determine the minimum effect of the test."
   ]
  },
  {
   "cell_type": "code",
   "id": "2b541941",
   "metadata": {
    "jupyter": {
     "is_executing": true
    }
   },
   "source": [
    "experiment.calc_sample_size(data=splitted_data, target_field=mde_target, mde=5)"
   ],
   "outputs": [],
   "execution_count": null
  },
  {
   "cell_type": "markdown",
   "id": "1a794b76b1b997d9",
   "metadata": {
    "collapsed": false
   },
   "source": [
    "## Chi2 Test"
   ]
  },
  {
   "cell_type": "code",
   "id": "20a71bf1bc0501f2",
   "metadata": {
    "collapsed": false,
    "jupyter": {
     "is_executing": true
    }
   },
   "source": [
    "target = ['post_spends', 'pre_spends'] \n",
    "treated_field = 'treat'"
   ],
   "outputs": [],
   "execution_count": null
  },
  {
   "cell_type": "code",
   "id": "2e0c0b4550bed569",
   "metadata": {
    "collapsed": false,
    "jupyter": {
     "is_executing": true
    }
   },
   "source": [
    "experiment = AATest(target_fields=target)"
   ],
   "outputs": [],
   "execution_count": null
  },
  {
   "cell_type": "code",
   "id": "c7d27ccbc0f9fbd0",
   "metadata": {
    "collapsed": false,
    "jupyter": {
     "is_executing": true
    }
   },
   "source": [
    "experiment.calc_chi2(data, treated_field)"
   ],
   "outputs": [],
   "execution_count": null
  }
 ],
 "metadata": {
  "kernelspec": {
   "display_name": "Python 3 (ipykernel)",
   "language": "python",
   "name": "python3"
  },
  "language_info": {
   "codemirror_mode": {
    "name": "ipython",
    "version": 3
   },
   "file_extension": ".py",
   "mimetype": "text/x-python",
   "name": "python",
   "nbconvert_exporter": "python",
   "pygments_lexer": "ipython3",
   "version": "3.10.13"
  }
 },
 "nbformat": 4,
 "nbformat_minor": 5
}
