{
 "cells": [
  {
   "cell_type": "markdown",
   "id": "64e2de80",
   "metadata": {},
   "source": [
    "# Tutorial 2: How to perform AA and AB tests\n",
    "*AB-test is shown below*"
   ]
  },
  {
   "cell_type": "markdown",
   "id": "9f52ff79",
   "metadata": {},
   "source": [
    "## 0. Import Libraries"
   ]
  },
  {
   "cell_type": "code",
   "execution_count": 61,
   "id": "6c2c62f0",
   "metadata": {
    "ExecuteTime": {
     "end_time": "2023-11-23T06:53:58.619048500Z",
     "start_time": "2023-11-23T06:53:58.532045700Z"
    }
   },
   "outputs": [],
   "source": [
    "import pandas as pd\n",
    "import numpy as np\n",
    "from hypex.ab_test.ab_tester import AATest, ABTest\n",
    "from hypex.dataset.dataset import Dataset\n",
    "\n",
    "pd.options.display.float_format = '{:,.2f}'.format"
   ]
  },
  {
   "cell_type": "markdown",
   "id": "2dca3eaa",
   "metadata": {},
   "source": [
    "## 1. Create or upload your dataset\n",
    "In this case we will create random dataset with known effect size  \n",
    "If you have your own dataset, go to the part 2 "
   ]
  },
  {
   "cell_type": "code",
   "execution_count": 62,
   "id": "7b655d2d",
   "metadata": {
    "ExecuteTime": {
     "end_time": "2023-11-23T06:54:00.414288Z",
     "start_time": "2023-11-23T06:53:59.768825Z"
    }
   },
   "outputs": [
    {
     "data": {
      "text/plain": "      info_col_1 feature_col_1 feature_col_2  feature_col_3  feature_col_4  \\\n0          14653           NaN       Deposit           1.17           0.00   \n1          13027        female           NaN           0.89           0.00   \n2          13882          male    Investment           0.66           2.00   \n3           8734        female        Credit           1.93           2.00   \n4           7252          male    Investment           0.19           3.00   \n...          ...           ...           ...            ...            ...   \n4995        5410        female    Investment           0.67           0.00   \n4996         685          male        Credit           0.64           3.00   \n4997        3304          male        Credit          -0.31           3.00   \n4998        9568        female    Investment          -0.33           3.00   \n4999       11305        female       Deposit          -1.38           2.00   \n\n      outcome_1  \n0          1.69  \n1          3.57  \n2          2.53  \n3          9.92  \n4          2.91  \n...         ...  \n4995       2.46  \n4996       4.96  \n4997       1.76  \n4998       2.55  \n4999       1.67  \n\n[5000 rows x 6 columns]",
      "text/html": "<div>\n<style scoped>\n    .dataframe tbody tr th:only-of-type {\n        vertical-align: middle;\n    }\n\n    .dataframe tbody tr th {\n        vertical-align: top;\n    }\n\n    .dataframe thead th {\n        text-align: right;\n    }\n</style>\n<table border=\"1\" class=\"dataframe\">\n  <thead>\n    <tr style=\"text-align: right;\">\n      <th></th>\n      <th>info_col_1</th>\n      <th>feature_col_1</th>\n      <th>feature_col_2</th>\n      <th>feature_col_3</th>\n      <th>feature_col_4</th>\n      <th>outcome_1</th>\n    </tr>\n  </thead>\n  <tbody>\n    <tr>\n      <th>0</th>\n      <td>14653</td>\n      <td>NaN</td>\n      <td>Deposit</td>\n      <td>1.17</td>\n      <td>0.00</td>\n      <td>1.69</td>\n    </tr>\n    <tr>\n      <th>1</th>\n      <td>13027</td>\n      <td>female</td>\n      <td>NaN</td>\n      <td>0.89</td>\n      <td>0.00</td>\n      <td>3.57</td>\n    </tr>\n    <tr>\n      <th>2</th>\n      <td>13882</td>\n      <td>male</td>\n      <td>Investment</td>\n      <td>0.66</td>\n      <td>2.00</td>\n      <td>2.53</td>\n    </tr>\n    <tr>\n      <th>3</th>\n      <td>8734</td>\n      <td>female</td>\n      <td>Credit</td>\n      <td>1.93</td>\n      <td>2.00</td>\n      <td>9.92</td>\n    </tr>\n    <tr>\n      <th>4</th>\n      <td>7252</td>\n      <td>male</td>\n      <td>Investment</td>\n      <td>0.19</td>\n      <td>3.00</td>\n      <td>2.91</td>\n    </tr>\n    <tr>\n      <th>...</th>\n      <td>...</td>\n      <td>...</td>\n      <td>...</td>\n      <td>...</td>\n      <td>...</td>\n      <td>...</td>\n    </tr>\n    <tr>\n      <th>4995</th>\n      <td>5410</td>\n      <td>female</td>\n      <td>Investment</td>\n      <td>0.67</td>\n      <td>0.00</td>\n      <td>2.46</td>\n    </tr>\n    <tr>\n      <th>4996</th>\n      <td>685</td>\n      <td>male</td>\n      <td>Credit</td>\n      <td>0.64</td>\n      <td>3.00</td>\n      <td>4.96</td>\n    </tr>\n    <tr>\n      <th>4997</th>\n      <td>3304</td>\n      <td>male</td>\n      <td>Credit</td>\n      <td>-0.31</td>\n      <td>3.00</td>\n      <td>1.76</td>\n    </tr>\n    <tr>\n      <th>4998</th>\n      <td>9568</td>\n      <td>female</td>\n      <td>Investment</td>\n      <td>-0.33</td>\n      <td>3.00</td>\n      <td>2.55</td>\n    </tr>\n    <tr>\n      <th>4999</th>\n      <td>11305</td>\n      <td>female</td>\n      <td>Deposit</td>\n      <td>-1.38</td>\n      <td>2.00</td>\n      <td>1.67</td>\n    </tr>\n  </tbody>\n</table>\n<p>5000 rows × 6 columns</p>\n</div>"
     },
     "execution_count": 62,
     "metadata": {},
     "output_type": "execute_result"
    }
   ],
   "source": [
    "data = Dataset(num_treatments=0, na_columns=['feature_col_1', 'feature_col_2'], \n",
    "               num_outcomes=1, num_info_cols=1, num_main_causes_cols=2)\n",
    "data.df"
   ]
  },
  {
   "cell_type": "markdown",
   "id": "a0402e83",
   "metadata": {},
   "source": [
    "## 2. AATest "
   ]
  },
  {
   "cell_type": "markdown",
   "id": "b3733f84",
   "metadata": {},
   "source": [
    "### 2.0 Initialize parameters\n",
    "`info_col` used to define informative attributes that should NOT be part of testing, such as user_id and signup_month <br>"
   ]
  },
  {
   "cell_type": "code",
   "execution_count": 63,
   "id": "bc8e4ac0",
   "metadata": {
    "ExecuteTime": {
     "end_time": "2023-11-23T06:54:03.122353700Z",
     "start_time": "2023-11-23T06:54:03.024379200Z"
    }
   },
   "outputs": [],
   "source": [
    "info_cols = data.info_col_names[0]\n",
    "target = data.outcome_name[0]"
   ]
  },
  {
   "cell_type": "markdown",
   "id": "75c196ea",
   "metadata": {},
   "source": [
    "### 2.1 Simple AA-test\n",
    "This is the easiest way to initialize and calculate metrics on a AA-test (default - on 10 iterations)<br>\n",
    "Use it when you are clear about each attribute or if you don't have any additional task conditions (like grouping)"
   ]
  },
  {
   "cell_type": "code",
   "execution_count": 64,
   "id": "701d20c0",
   "metadata": {
    "ExecuteTime": {
     "end_time": "2023-11-23T06:54:04.543740300Z",
     "start_time": "2023-11-23T06:54:04.484264900Z"
    }
   },
   "outputs": [],
   "source": [
    "experiment = AATest(info_cols=info_cols, target_fields=target)"
   ]
  },
  {
   "cell_type": "code",
   "execution_count": 65,
   "id": "a3d70bf6",
   "metadata": {
    "ExecuteTime": {
     "end_time": "2023-11-23T06:54:05.504371300Z",
     "start_time": "2023-11-23T06:54:04.873468600Z"
    }
   },
   "outputs": [
    {
     "name": "stderr",
     "output_type": "stream",
     "text": [
      "100%|██████████| 10/10 [00:00<00:00, 22.38it/s]\n"
     ]
    }
   ],
   "source": [
    "experiment_result, dict_of_datas = experiment.search_dist_uniform_sampling(data.df, iterations=10)"
   ]
  },
  {
   "cell_type": "markdown",
   "id": "5b519654",
   "metadata": {},
   "source": [
    "`experiment_result` is a table of results of experiments, which includes \n",
    "- means of all targets in a and b samples, \n",
    "- p_values of Student t-test and test Kolmogorova-Smirnova, \n",
    "- and results of tests (did data on the random_state passes the uniform test)"
   ]
  },
  {
   "cell_type": "code",
   "execution_count": 66,
   "id": "2adb8cdd",
   "metadata": {
    "ExecuteTime": {
     "end_time": "2023-11-23T06:54:06.576454300Z",
     "start_time": "2023-11-23T06:54:06.449414900Z"
    }
   },
   "outputs": [
    {
     "data": {
      "text/plain": "   random_state  outcome_1 a mean  outcome_1 b mean  outcome_1 ab delta  \\\n0             0              3.93              3.84               -0.09   \n1             1              3.93              3.84               -0.09   \n2             2              3.88              3.90                0.02   \n\n   outcome_1 ab delta %  outcome_1 t_test p_value  outcome_1 ks_test p_value  \\\n0                 -2.40                      0.30                       0.24   \n1                 -2.47                      0.28                       0.58   \n2                  0.56                      0.81                       0.91   \n\n   outcome_1 t_test passed  outcome_1 ks_test passed  mean_tests_score  \n0                     True                      True              0.27  \n1                     True                      True              0.43  \n2                     True                      True              0.86  ",
      "text/html": "<div>\n<style scoped>\n    .dataframe tbody tr th:only-of-type {\n        vertical-align: middle;\n    }\n\n    .dataframe tbody tr th {\n        vertical-align: top;\n    }\n\n    .dataframe thead th {\n        text-align: right;\n    }\n</style>\n<table border=\"1\" class=\"dataframe\">\n  <thead>\n    <tr style=\"text-align: right;\">\n      <th></th>\n      <th>random_state</th>\n      <th>outcome_1 a mean</th>\n      <th>outcome_1 b mean</th>\n      <th>outcome_1 ab delta</th>\n      <th>outcome_1 ab delta %</th>\n      <th>outcome_1 t_test p_value</th>\n      <th>outcome_1 ks_test p_value</th>\n      <th>outcome_1 t_test passed</th>\n      <th>outcome_1 ks_test passed</th>\n      <th>mean_tests_score</th>\n    </tr>\n  </thead>\n  <tbody>\n    <tr>\n      <th>0</th>\n      <td>0</td>\n      <td>3.93</td>\n      <td>3.84</td>\n      <td>-0.09</td>\n      <td>-2.40</td>\n      <td>0.30</td>\n      <td>0.24</td>\n      <td>True</td>\n      <td>True</td>\n      <td>0.27</td>\n    </tr>\n    <tr>\n      <th>1</th>\n      <td>1</td>\n      <td>3.93</td>\n      <td>3.84</td>\n      <td>-0.09</td>\n      <td>-2.47</td>\n      <td>0.28</td>\n      <td>0.58</td>\n      <td>True</td>\n      <td>True</td>\n      <td>0.43</td>\n    </tr>\n    <tr>\n      <th>2</th>\n      <td>2</td>\n      <td>3.88</td>\n      <td>3.90</td>\n      <td>0.02</td>\n      <td>0.56</td>\n      <td>0.81</td>\n      <td>0.91</td>\n      <td>True</td>\n      <td>True</td>\n      <td>0.86</td>\n    </tr>\n  </tbody>\n</table>\n</div>"
     },
     "execution_count": 66,
     "metadata": {},
     "output_type": "execute_result"
    }
   ],
   "source": [
    "experiment_result.head(3)"
   ]
  },
  {
   "cell_type": "markdown",
   "id": "d9f415c2",
   "metadata": {},
   "source": [
    "`dict_of_datas` is a dictionary with random_states as keys and dataframes as values.<br>\n",
    "Result of separation can be find in column 'group', it contains values 'test' and 'control'"
   ]
  },
  {
   "cell_type": "code",
   "execution_count": 67,
   "id": "cac4e650",
   "metadata": {
    "ExecuteTime": {
     "end_time": "2023-11-23T06:54:08.157542900Z",
     "start_time": "2023-11-23T06:54:08.058165500Z"
    }
   },
   "outputs": [
    {
     "data": {
      "text/plain": "   info_col_1 feature_col_1 feature_col_2  feature_col_3  feature_col_4  \\\n0       13027        female           NaN           0.89           0.00   \n1       13882          male    Investment           0.66           2.00   \n2        8734        female        Credit           1.93           2.00   \n\n   outcome_1 group  \n0       3.57  test  \n1       2.53  test  \n2       9.92  test  ",
      "text/html": "<div>\n<style scoped>\n    .dataframe tbody tr th:only-of-type {\n        vertical-align: middle;\n    }\n\n    .dataframe tbody tr th {\n        vertical-align: top;\n    }\n\n    .dataframe thead th {\n        text-align: right;\n    }\n</style>\n<table border=\"1\" class=\"dataframe\">\n  <thead>\n    <tr style=\"text-align: right;\">\n      <th></th>\n      <th>info_col_1</th>\n      <th>feature_col_1</th>\n      <th>feature_col_2</th>\n      <th>feature_col_3</th>\n      <th>feature_col_4</th>\n      <th>outcome_1</th>\n      <th>group</th>\n    </tr>\n  </thead>\n  <tbody>\n    <tr>\n      <th>0</th>\n      <td>13027</td>\n      <td>female</td>\n      <td>NaN</td>\n      <td>0.89</td>\n      <td>0.00</td>\n      <td>3.57</td>\n      <td>test</td>\n    </tr>\n    <tr>\n      <th>1</th>\n      <td>13882</td>\n      <td>male</td>\n      <td>Investment</td>\n      <td>0.66</td>\n      <td>2.00</td>\n      <td>2.53</td>\n      <td>test</td>\n    </tr>\n    <tr>\n      <th>2</th>\n      <td>8734</td>\n      <td>female</td>\n      <td>Credit</td>\n      <td>1.93</td>\n      <td>2.00</td>\n      <td>9.92</td>\n      <td>test</td>\n    </tr>\n  </tbody>\n</table>\n</div>"
     },
     "execution_count": 67,
     "metadata": {},
     "output_type": "execute_result"
    }
   ],
   "source": [
    "dict_of_datas[0].head(3)"
   ]
  },
  {
   "cell_type": "markdown",
   "id": "c277b0b9",
   "metadata": {},
   "source": [
    "#### - Single experiment\n",
    "To get stable results lets fix `random_state`"
   ]
  },
  {
   "cell_type": "code",
   "execution_count": 68,
   "id": "01265e9e",
   "metadata": {
    "ExecuteTime": {
     "end_time": "2023-11-23T06:54:09.330154900Z",
     "start_time": "2023-11-23T06:54:09.164584900Z"
    }
   },
   "outputs": [],
   "source": [
    "random_state = 11"
   ]
  },
  {
   "cell_type": "markdown",
   "id": "c4a1cd70",
   "metadata": {},
   "source": [
    "To perform single experiment you can use `sampling_metrics()`"
   ]
  },
  {
   "cell_type": "code",
   "execution_count": 69,
   "id": "6f1a8cf6",
   "metadata": {
    "ExecuteTime": {
     "end_time": "2023-11-23T06:54:10.817218100Z",
     "start_time": "2023-11-23T06:54:10.727698600Z"
    }
   },
   "outputs": [],
   "source": [
    "experiment = AATest(info_cols=info_cols, target_fields=target)\n",
    "metrics, dict_of_datas = experiment.sampling_metrics(data=data.df, random_state=random_state).values()"
   ]
  },
  {
   "cell_type": "markdown",
   "id": "4971e2e8",
   "metadata": {},
   "source": [
    "The results contains the same info as in multisampling, but on one experiment"
   ]
  },
  {
   "cell_type": "code",
   "execution_count": 70,
   "id": "bad5e42e",
   "metadata": {
    "scrolled": true,
    "ExecuteTime": {
     "end_time": "2023-11-23T06:54:12.380120400Z",
     "start_time": "2023-11-23T06:54:12.300966500Z"
    }
   },
   "outputs": [
    {
     "data": {
      "text/plain": "{'random_state': 11,\n 'outcome_1 a mean': 3.8341526109446464,\n 'outcome_1 b mean': 3.938352786589131,\n 'outcome_1 ab delta': 0.10420017564448436,\n 'outcome_1 ab delta %': 2.645780642082307,\n 'outcome_1 t_test p_value': 0.23904632400605272,\n 'outcome_1 ks_test p_value': 0.024300232032562177,\n 'outcome_1 t_test passed': True,\n 'outcome_1 ks_test passed': False,\n 'mean_tests_score': 0.13167327801930745}"
     },
     "execution_count": 70,
     "metadata": {},
     "output_type": "execute_result"
    }
   ],
   "source": [
    "metrics"
   ]
  },
  {
   "cell_type": "code",
   "execution_count": 71,
   "id": "a9c3c513",
   "metadata": {
    "ExecuteTime": {
     "end_time": "2023-11-23T06:54:13.096022800Z",
     "start_time": "2023-11-23T06:54:12.986426600Z"
    }
   },
   "outputs": [
    {
     "data": {
      "text/plain": "      info_col_1 feature_col_1 feature_col_2  feature_col_3  feature_col_4  \\\n0          13027        female           NaN           0.89           0.00   \n1          13882          male    Investment           0.66           2.00   \n2          12388        female    Investment           0.23           3.00   \n3          11125          male       Deposit          -0.14           1.00   \n4           6130          male           NaN           1.21           1.00   \n...          ...           ...           ...            ...            ...   \n4995       11311        female    Investment          -0.11           2.00   \n4996       11788        female       Deposit          -0.27           1.00   \n4997       14494        female           NaN          -0.79           0.00   \n4998        6559          male    Investment           0.67           2.00   \n4999       11305        female       Deposit          -1.38           2.00   \n\n      outcome_1    group  \n0          3.57     test  \n1          2.53     test  \n2          2.96     test  \n3          1.38     test  \n4          2.19     test  \n...         ...      ...  \n4995       1.82  control  \n4996       2.63  control  \n4997       0.58  control  \n4998       6.85  control  \n4999       1.67  control  \n\n[5000 rows x 7 columns]",
      "text/html": "<div>\n<style scoped>\n    .dataframe tbody tr th:only-of-type {\n        vertical-align: middle;\n    }\n\n    .dataframe tbody tr th {\n        vertical-align: top;\n    }\n\n    .dataframe thead th {\n        text-align: right;\n    }\n</style>\n<table border=\"1\" class=\"dataframe\">\n  <thead>\n    <tr style=\"text-align: right;\">\n      <th></th>\n      <th>info_col_1</th>\n      <th>feature_col_1</th>\n      <th>feature_col_2</th>\n      <th>feature_col_3</th>\n      <th>feature_col_4</th>\n      <th>outcome_1</th>\n      <th>group</th>\n    </tr>\n  </thead>\n  <tbody>\n    <tr>\n      <th>0</th>\n      <td>13027</td>\n      <td>female</td>\n      <td>NaN</td>\n      <td>0.89</td>\n      <td>0.00</td>\n      <td>3.57</td>\n      <td>test</td>\n    </tr>\n    <tr>\n      <th>1</th>\n      <td>13882</td>\n      <td>male</td>\n      <td>Investment</td>\n      <td>0.66</td>\n      <td>2.00</td>\n      <td>2.53</td>\n      <td>test</td>\n    </tr>\n    <tr>\n      <th>2</th>\n      <td>12388</td>\n      <td>female</td>\n      <td>Investment</td>\n      <td>0.23</td>\n      <td>3.00</td>\n      <td>2.96</td>\n      <td>test</td>\n    </tr>\n    <tr>\n      <th>3</th>\n      <td>11125</td>\n      <td>male</td>\n      <td>Deposit</td>\n      <td>-0.14</td>\n      <td>1.00</td>\n      <td>1.38</td>\n      <td>test</td>\n    </tr>\n    <tr>\n      <th>4</th>\n      <td>6130</td>\n      <td>male</td>\n      <td>NaN</td>\n      <td>1.21</td>\n      <td>1.00</td>\n      <td>2.19</td>\n      <td>test</td>\n    </tr>\n    <tr>\n      <th>...</th>\n      <td>...</td>\n      <td>...</td>\n      <td>...</td>\n      <td>...</td>\n      <td>...</td>\n      <td>...</td>\n      <td>...</td>\n    </tr>\n    <tr>\n      <th>4995</th>\n      <td>11311</td>\n      <td>female</td>\n      <td>Investment</td>\n      <td>-0.11</td>\n      <td>2.00</td>\n      <td>1.82</td>\n      <td>control</td>\n    </tr>\n    <tr>\n      <th>4996</th>\n      <td>11788</td>\n      <td>female</td>\n      <td>Deposit</td>\n      <td>-0.27</td>\n      <td>1.00</td>\n      <td>2.63</td>\n      <td>control</td>\n    </tr>\n    <tr>\n      <th>4997</th>\n      <td>14494</td>\n      <td>female</td>\n      <td>NaN</td>\n      <td>-0.79</td>\n      <td>0.00</td>\n      <td>0.58</td>\n      <td>control</td>\n    </tr>\n    <tr>\n      <th>4998</th>\n      <td>6559</td>\n      <td>male</td>\n      <td>Investment</td>\n      <td>0.67</td>\n      <td>2.00</td>\n      <td>6.85</td>\n      <td>control</td>\n    </tr>\n    <tr>\n      <th>4999</th>\n      <td>11305</td>\n      <td>female</td>\n      <td>Deposit</td>\n      <td>-1.38</td>\n      <td>2.00</td>\n      <td>1.67</td>\n      <td>control</td>\n    </tr>\n  </tbody>\n</table>\n<p>5000 rows × 7 columns</p>\n</div>"
     },
     "execution_count": 71,
     "metadata": {},
     "output_type": "execute_result"
    }
   ],
   "source": [
    "dict_of_datas[random_state]"
   ]
  },
  {
   "cell_type": "markdown",
   "id": "5017639b",
   "metadata": {},
   "source": [
    "### 2.2 AA-test with grouping"
   ]
  },
  {
   "cell_type": "markdown",
   "id": "e3a32245",
   "metadata": {},
   "source": [
    "To perform experiment that separates samples by groups `group_col` can be used"
   ]
  },
  {
   "cell_type": "code",
   "execution_count": 72,
   "id": "2fba205a",
   "metadata": {
    "ExecuteTime": {
     "end_time": "2023-11-23T06:54:15.300957200Z",
     "start_time": "2023-11-23T06:54:15.250735800Z"
    }
   },
   "outputs": [],
   "source": [
    "info_cols = data.info_col_names[0]\n",
    "target = data.outcome_name[0]\n",
    "\n",
    "group_cols = 'feature_col_2'"
   ]
  },
  {
   "cell_type": "code",
   "execution_count": 73,
   "id": "b5896bf8",
   "metadata": {
    "ExecuteTime": {
     "end_time": "2023-11-23T06:54:16.159948Z",
     "start_time": "2023-11-23T06:54:16.096436100Z"
    }
   },
   "outputs": [],
   "source": [
    "experiment = AATest(info_cols=info_cols, target_fields=target, group_cols=group_cols)"
   ]
  },
  {
   "cell_type": "code",
   "execution_count": 74,
   "id": "6155253f",
   "metadata": {
    "ExecuteTime": {
     "end_time": "2023-11-23T06:54:17.594597900Z",
     "start_time": "2023-11-23T06:54:16.973440500Z"
    }
   },
   "outputs": [
    {
     "name": "stderr",
     "output_type": "stream",
     "text": [
      "100%|██████████| 10/10 [00:00<00:00, 19.23it/s]\n"
     ]
    }
   ],
   "source": [
    "experiment_result, dict_of_datas = experiment.search_dist_uniform_sampling(data=data.df)"
   ]
  },
  {
   "cell_type": "markdown",
   "id": "45f18b03",
   "metadata": {},
   "source": [
    "The result is in the same format as without groups\n",
    "\n",
    "In this regime groups equally divided on each sample (test and control):"
   ]
  },
  {
   "cell_type": "code",
   "execution_count": 75,
   "id": "520ed05c",
   "metadata": {
    "ExecuteTime": {
     "end_time": "2023-11-23T06:54:19.022249600Z",
     "start_time": "2023-11-23T06:54:18.934351100Z"
    }
   },
   "outputs": [
    {
     "data": {
      "text/plain": "                       info_col_1\nfeature_col_2 group              \nCredit        control         720\n              test            720\nDeposit       control         785\n              test            785\nInvestment    control         745\n              test            745",
      "text/html": "<div>\n<style scoped>\n    .dataframe tbody tr th:only-of-type {\n        vertical-align: middle;\n    }\n\n    .dataframe tbody tr th {\n        vertical-align: top;\n    }\n\n    .dataframe thead th {\n        text-align: right;\n    }\n</style>\n<table border=\"1\" class=\"dataframe\">\n  <thead>\n    <tr style=\"text-align: right;\">\n      <th></th>\n      <th></th>\n      <th>info_col_1</th>\n    </tr>\n    <tr>\n      <th>feature_col_2</th>\n      <th>group</th>\n      <th></th>\n    </tr>\n  </thead>\n  <tbody>\n    <tr>\n      <th rowspan=\"2\" valign=\"top\">Credit</th>\n      <th>control</th>\n      <td>720</td>\n    </tr>\n    <tr>\n      <th>test</th>\n      <td>720</td>\n    </tr>\n    <tr>\n      <th rowspan=\"2\" valign=\"top\">Deposit</th>\n      <th>control</th>\n      <td>785</td>\n    </tr>\n    <tr>\n      <th>test</th>\n      <td>785</td>\n    </tr>\n    <tr>\n      <th rowspan=\"2\" valign=\"top\">Investment</th>\n      <th>control</th>\n      <td>745</td>\n    </tr>\n    <tr>\n      <th>test</th>\n      <td>745</td>\n    </tr>\n  </tbody>\n</table>\n</div>"
     },
     "execution_count": 75,
     "metadata": {},
     "output_type": "execute_result"
    }
   ],
   "source": [
    "dict_of_datas[0].groupby(['feature_col_2', 'group'])[['info_col_1']].count()"
   ]
  },
  {
   "cell_type": "markdown",
   "id": "d87c9442",
   "metadata": {},
   "source": [
    "## 3. AB-test"
   ]
  },
  {
   "cell_type": "markdown",
   "id": "0bb6fece",
   "metadata": {},
   "source": [
    "### 3.0 Data\n",
    "Lets correct data to see how AB-test works"
   ]
  },
  {
   "cell_type": "code",
   "execution_count": 76,
   "id": "6f5a8a1f",
   "metadata": {
    "ExecuteTime": {
     "end_time": "2023-11-23T06:54:23.151704500Z",
     "start_time": "2023-11-23T06:54:23.076251800Z"
    }
   },
   "outputs": [
    {
     "data": {
      "text/plain": "   info_col_1 info_col_2 feature_col_1 feature_col_2  feature_col_3  \\\n0        6145          A          male        Credit          -1.74   \n1        8650          A        female        Credit          -0.19   \n2        1915          X          male        Credit           1.90   \n\n   feature_col_4  feature_col_5  feature_col_6  outcome_1  outcome_2 group  \n0          -0.83          -0.39           1.00       0.39       0.39  test  \n1           0.39           1.08           1.00       4.80       4.80  test  \n2           1.95           1.10           2.00      15.82      15.82  test  ",
      "text/html": "<div>\n<style scoped>\n    .dataframe tbody tr th:only-of-type {\n        vertical-align: middle;\n    }\n\n    .dataframe tbody tr th {\n        vertical-align: top;\n    }\n\n    .dataframe thead th {\n        text-align: right;\n    }\n</style>\n<table border=\"1\" class=\"dataframe\">\n  <thead>\n    <tr style=\"text-align: right;\">\n      <th></th>\n      <th>info_col_1</th>\n      <th>info_col_2</th>\n      <th>feature_col_1</th>\n      <th>feature_col_2</th>\n      <th>feature_col_3</th>\n      <th>feature_col_4</th>\n      <th>feature_col_5</th>\n      <th>feature_col_6</th>\n      <th>outcome_1</th>\n      <th>outcome_2</th>\n      <th>group</th>\n    </tr>\n  </thead>\n  <tbody>\n    <tr>\n      <th>0</th>\n      <td>6145</td>\n      <td>A</td>\n      <td>male</td>\n      <td>Credit</td>\n      <td>-1.74</td>\n      <td>-0.83</td>\n      <td>-0.39</td>\n      <td>1.00</td>\n      <td>0.39</td>\n      <td>0.39</td>\n      <td>test</td>\n    </tr>\n    <tr>\n      <th>1</th>\n      <td>8650</td>\n      <td>A</td>\n      <td>female</td>\n      <td>Credit</td>\n      <td>-0.19</td>\n      <td>0.39</td>\n      <td>1.08</td>\n      <td>1.00</td>\n      <td>4.80</td>\n      <td>4.80</td>\n      <td>test</td>\n    </tr>\n    <tr>\n      <th>2</th>\n      <td>1915</td>\n      <td>X</td>\n      <td>male</td>\n      <td>Credit</td>\n      <td>1.90</td>\n      <td>1.95</td>\n      <td>1.10</td>\n      <td>2.00</td>\n      <td>15.82</td>\n      <td>15.82</td>\n      <td>test</td>\n    </tr>\n  </tbody>\n</table>\n</div>"
     },
     "execution_count": 76,
     "metadata": {},
     "output_type": "execute_result"
    }
   ],
   "source": [
    "dataset_ab = Dataset(num_outcomes=2, num_treatments=0)\n",
    "data_ab = dataset_ab.df.copy()\n",
    "half_data = int(dataset_ab.df.shape[0]/2)\n",
    "data_ab['group'] = ['test']*half_data + ['control']*half_data\n",
    "data_ab.head(3)"
   ]
  },
  {
   "cell_type": "markdown",
   "id": "690ceec5",
   "metadata": {},
   "source": [
    "### 3.1 Full AB-test\n",
    "\n",
    "Full (basic) version of test includes calculation of all available metrics, which are: \"diff in means\", \"diff in diff\" and \"cuped\"<br>\n",
    "Pay attention, that for \"cuped\" and \"diff in diff\" metrics requred target before pilot."
   ]
  },
  {
   "cell_type": "code",
   "execution_count": 77,
   "id": "4108a137",
   "metadata": {
    "ExecuteTime": {
     "end_time": "2023-11-23T06:54:33.582178500Z",
     "start_time": "2023-11-23T06:54:33.530161300Z"
    }
   },
   "outputs": [
    {
     "data": {
      "text/plain": "{'size': {'test': 2500, 'control': 2500},\n 'difference': {'ate': 0.060895625039223716,\n  'cuped': -0.04488201942390302,\n  'diff_in_diff': -0.11341276596386951},\n 'p_value': {'t_test': 0.5850901143113342, 'mann_whitney': 0.9042167521538437}}"
     },
     "execution_count": 77,
     "metadata": {},
     "output_type": "execute_result"
    }
   ],
   "source": [
    "model = ABTest()\n",
    "results = model.execute(\n",
    "    data=data_ab, \n",
    "    target_field=dataset_ab.outcome_name[1], \n",
    "    target_field_before=dataset_ab.outcome_name[0], \n",
    "    group_field='group'\n",
    ")\n",
    "results"
   ]
  },
  {
   "cell_type": "markdown",
   "id": "05487531",
   "metadata": {},
   "source": [
    "To see results in more convenient way `show_beautiful_result` can be used"
   ]
  },
  {
   "cell_type": "code",
   "execution_count": 78,
   "id": "9dd905e8",
   "metadata": {
    "ExecuteTime": {
     "end_time": "2023-11-23T06:54:36.385722800Z",
     "start_time": "2023-11-23T06:54:36.316194600Z"
    }
   },
   "outputs": [
    {
     "data": {
      "text/plain": "         size\ntest     2500\ncontrol  2500",
      "text/html": "<div>\n<style scoped>\n    .dataframe tbody tr th:only-of-type {\n        vertical-align: middle;\n    }\n\n    .dataframe tbody tr th {\n        vertical-align: top;\n    }\n\n    .dataframe thead th {\n        text-align: right;\n    }\n</style>\n<table border=\"1\" class=\"dataframe\">\n  <thead>\n    <tr style=\"text-align: right;\">\n      <th></th>\n      <th>size</th>\n    </tr>\n  </thead>\n  <tbody>\n    <tr>\n      <th>test</th>\n      <td>2500</td>\n    </tr>\n    <tr>\n      <th>control</th>\n      <td>2500</td>\n    </tr>\n  </tbody>\n</table>\n</div>"
     },
     "metadata": {},
     "output_type": "display_data"
    },
    {
     "data": {
      "text/plain": "              difference\nate                 0.06\ncuped              -0.04\ndiff_in_diff       -0.11",
      "text/html": "<div>\n<style scoped>\n    .dataframe tbody tr th:only-of-type {\n        vertical-align: middle;\n    }\n\n    .dataframe tbody tr th {\n        vertical-align: top;\n    }\n\n    .dataframe thead th {\n        text-align: right;\n    }\n</style>\n<table border=\"1\" class=\"dataframe\">\n  <thead>\n    <tr style=\"text-align: right;\">\n      <th></th>\n      <th>difference</th>\n    </tr>\n  </thead>\n  <tbody>\n    <tr>\n      <th>ate</th>\n      <td>0.06</td>\n    </tr>\n    <tr>\n      <th>cuped</th>\n      <td>-0.04</td>\n    </tr>\n    <tr>\n      <th>diff_in_diff</th>\n      <td>-0.11</td>\n    </tr>\n  </tbody>\n</table>\n</div>"
     },
     "metadata": {},
     "output_type": "display_data"
    },
    {
     "data": {
      "text/plain": "              p_value\nt_test           0.59\nmann_whitney     0.90",
      "text/html": "<div>\n<style scoped>\n    .dataframe tbody tr th:only-of-type {\n        vertical-align: middle;\n    }\n\n    .dataframe tbody tr th {\n        vertical-align: top;\n    }\n\n    .dataframe thead th {\n        text-align: right;\n    }\n</style>\n<table border=\"1\" class=\"dataframe\">\n  <thead>\n    <tr style=\"text-align: right;\">\n      <th></th>\n      <th>p_value</th>\n    </tr>\n  </thead>\n  <tbody>\n    <tr>\n      <th>t_test</th>\n      <td>0.59</td>\n    </tr>\n    <tr>\n      <th>mann_whitney</th>\n      <td>0.90</td>\n    </tr>\n  </tbody>\n</table>\n</div>"
     },
     "metadata": {},
     "output_type": "display_data"
    }
   ],
   "source": [
    "model.show_beautiful_result()"
   ]
  },
  {
   "cell_type": "markdown",
   "id": "ea252142",
   "metadata": {},
   "source": [
    "### 3.2 Simple AB-test\n",
    "To estimate effect without target data before pilot `calc_difference_method='ate'` can be used - effect will be estimated with \"diff in means\" method"
   ]
  },
  {
   "cell_type": "code",
   "execution_count": 79,
   "id": "0ab77779",
   "metadata": {
    "ExecuteTime": {
     "end_time": "2023-11-23T06:54:38.708647Z",
     "start_time": "2023-11-23T06:54:38.571285Z"
    }
   },
   "outputs": [
    {
     "data": {
      "text/plain": "         size\ntest     2500\ncontrol  2500",
      "text/html": "<div>\n<style scoped>\n    .dataframe tbody tr th:only-of-type {\n        vertical-align: middle;\n    }\n\n    .dataframe tbody tr th {\n        vertical-align: top;\n    }\n\n    .dataframe thead th {\n        text-align: right;\n    }\n</style>\n<table border=\"1\" class=\"dataframe\">\n  <thead>\n    <tr style=\"text-align: right;\">\n      <th></th>\n      <th>size</th>\n    </tr>\n  </thead>\n  <tbody>\n    <tr>\n      <th>test</th>\n      <td>2500</td>\n    </tr>\n    <tr>\n      <th>control</th>\n      <td>2500</td>\n    </tr>\n  </tbody>\n</table>\n</div>"
     },
     "metadata": {},
     "output_type": "display_data"
    },
    {
     "data": {
      "text/plain": "     difference\nate        0.17",
      "text/html": "<div>\n<style scoped>\n    .dataframe tbody tr th:only-of-type {\n        vertical-align: middle;\n    }\n\n    .dataframe tbody tr th {\n        vertical-align: top;\n    }\n\n    .dataframe thead th {\n        text-align: right;\n    }\n</style>\n<table border=\"1\" class=\"dataframe\">\n  <thead>\n    <tr style=\"text-align: right;\">\n      <th></th>\n      <th>difference</th>\n    </tr>\n  </thead>\n  <tbody>\n    <tr>\n      <th>ate</th>\n      <td>0.17</td>\n    </tr>\n  </tbody>\n</table>\n</div>"
     },
     "metadata": {},
     "output_type": "display_data"
    },
    {
     "data": {
      "text/plain": "              p_value\nt_test           0.12\nmann_whitney     0.23",
      "text/html": "<div>\n<style scoped>\n    .dataframe tbody tr th:only-of-type {\n        vertical-align: middle;\n    }\n\n    .dataframe tbody tr th {\n        vertical-align: top;\n    }\n\n    .dataframe thead th {\n        text-align: right;\n    }\n</style>\n<table border=\"1\" class=\"dataframe\">\n  <thead>\n    <tr style=\"text-align: right;\">\n      <th></th>\n      <th>p_value</th>\n    </tr>\n  </thead>\n  <tbody>\n    <tr>\n      <th>t_test</th>\n      <td>0.12</td>\n    </tr>\n    <tr>\n      <th>mann_whitney</th>\n      <td>0.23</td>\n    </tr>\n  </tbody>\n</table>\n</div>"
     },
     "metadata": {},
     "output_type": "display_data"
    }
   ],
   "source": [
    "model = ABTest(calc_difference_method='ate')\n",
    "model.execute(data=data_ab, target_field=dataset_ab.outcome_name[0], group_field='group')\n",
    "\n",
    "model.show_beautiful_result()"
   ]
  }
 ],
 "metadata": {
  "kernelspec": {
   "display_name": "Python 3 (ipykernel)",
   "language": "python",
   "name": "python3"
  },
  "language_info": {
   "codemirror_mode": {
    "name": "ipython",
    "version": 3
   },
   "file_extension": ".py",
   "mimetype": "text/x-python",
   "name": "python",
   "nbconvert_exporter": "python",
   "pygments_lexer": "ipython3",
   "version": "3.10.13"
  }
 },
 "nbformat": 4,
 "nbformat_minor": 5
}
