{
 "cells": [
  {
   "cell_type": "markdown",
   "id": "64e2de80",
   "metadata": {},
   "source": [
    "# Tutorial 2: How to perform AA and AB tests\n",
    "*AB-test is shown below*"
   ]
  },
  {
   "cell_type": "markdown",
   "id": "9f52ff79",
   "metadata": {},
   "source": [
    "## 0. Import Libraries"
   ]
  },
  {
   "cell_type": "code",
   "execution_count": 3,
   "id": "6c2c62f0",
   "metadata": {
    "ExecuteTime": {
     "end_time": "2023-11-21T13:38:57.665667800Z",
     "start_time": "2023-11-21T13:38:57.070518Z"
    }
   },
   "outputs": [],
   "source": [
    "import pandas as pd\n",
    "import numpy as np\n",
    "from hypex.ab_test.ab_tester import AATest, ABTest\n",
    "from hypex.dataset.dataset import Dataset\n",
    "\n",
    "pd.options.display.float_format = '{:,.2f}'.format\n",
    "\n",
    "np.random.seed(52) #needed to create example data"
   ]
  },
  {
   "cell_type": "markdown",
   "id": "2dca3eaa",
   "metadata": {},
   "source": [
    "## 1. Create or upload your dataset\n",
    "In this case we will create random dataset with known effect size  \n",
    "If you have your own dataset, go to the part 2 "
   ]
  },
  {
   "cell_type": "code",
   "execution_count": 21,
   "id": "7b655d2d",
   "metadata": {
    "ExecuteTime": {
     "end_time": "2023-11-21T13:43:09.531983500Z",
     "start_time": "2023-11-21T13:43:09.394368800Z"
    }
   },
   "outputs": [
    {
     "data": {
      "text/plain": "      info_col_1 feature_col_1 feature_col_2  feature_col_3  feature_col_4  \\\n0           3403           NaN       Deposit          -0.59           1.00   \n1          12049          male           NaN           0.56           3.00   \n2          12877        female        Credit           0.56           3.00   \n3           2431          male       Deposit           0.15           2.00   \n4           2683          male       Deposit           0.98           1.00   \n...          ...           ...           ...            ...            ...   \n4995        8596        female       Deposit           0.05           1.00   \n4996       13519        female       Deposit           0.82           3.00   \n4997        4471          male       Deposit          -1.98           3.00   \n4998        3889        female       Deposit           1.24           2.00   \n4999        3541        female        Credit           0.65           3.00   \n\n      outcome_1  \n0          2.37  \n1          8.39  \n2          4.33  \n3          5.54  \n4          2.08  \n...         ...  \n4995       2.73  \n4996       2.35  \n4997       2.41  \n4998       2.44  \n4999       9.04  \n\n[5000 rows x 6 columns]",
      "text/html": "<div>\n<style scoped>\n    .dataframe tbody tr th:only-of-type {\n        vertical-align: middle;\n    }\n\n    .dataframe tbody tr th {\n        vertical-align: top;\n    }\n\n    .dataframe thead th {\n        text-align: right;\n    }\n</style>\n<table border=\"1\" class=\"dataframe\">\n  <thead>\n    <tr style=\"text-align: right;\">\n      <th></th>\n      <th>info_col_1</th>\n      <th>feature_col_1</th>\n      <th>feature_col_2</th>\n      <th>feature_col_3</th>\n      <th>feature_col_4</th>\n      <th>outcome_1</th>\n    </tr>\n  </thead>\n  <tbody>\n    <tr>\n      <th>0</th>\n      <td>3403</td>\n      <td>NaN</td>\n      <td>Deposit</td>\n      <td>-0.59</td>\n      <td>1.00</td>\n      <td>2.37</td>\n    </tr>\n    <tr>\n      <th>1</th>\n      <td>12049</td>\n      <td>male</td>\n      <td>NaN</td>\n      <td>0.56</td>\n      <td>3.00</td>\n      <td>8.39</td>\n    </tr>\n    <tr>\n      <th>2</th>\n      <td>12877</td>\n      <td>female</td>\n      <td>Credit</td>\n      <td>0.56</td>\n      <td>3.00</td>\n      <td>4.33</td>\n    </tr>\n    <tr>\n      <th>3</th>\n      <td>2431</td>\n      <td>male</td>\n      <td>Deposit</td>\n      <td>0.15</td>\n      <td>2.00</td>\n      <td>5.54</td>\n    </tr>\n    <tr>\n      <th>4</th>\n      <td>2683</td>\n      <td>male</td>\n      <td>Deposit</td>\n      <td>0.98</td>\n      <td>1.00</td>\n      <td>2.08</td>\n    </tr>\n    <tr>\n      <th>...</th>\n      <td>...</td>\n      <td>...</td>\n      <td>...</td>\n      <td>...</td>\n      <td>...</td>\n      <td>...</td>\n    </tr>\n    <tr>\n      <th>4995</th>\n      <td>8596</td>\n      <td>female</td>\n      <td>Deposit</td>\n      <td>0.05</td>\n      <td>1.00</td>\n      <td>2.73</td>\n    </tr>\n    <tr>\n      <th>4996</th>\n      <td>13519</td>\n      <td>female</td>\n      <td>Deposit</td>\n      <td>0.82</td>\n      <td>3.00</td>\n      <td>2.35</td>\n    </tr>\n    <tr>\n      <th>4997</th>\n      <td>4471</td>\n      <td>male</td>\n      <td>Deposit</td>\n      <td>-1.98</td>\n      <td>3.00</td>\n      <td>2.41</td>\n    </tr>\n    <tr>\n      <th>4998</th>\n      <td>3889</td>\n      <td>female</td>\n      <td>Deposit</td>\n      <td>1.24</td>\n      <td>2.00</td>\n      <td>2.44</td>\n    </tr>\n    <tr>\n      <th>4999</th>\n      <td>3541</td>\n      <td>female</td>\n      <td>Credit</td>\n      <td>0.65</td>\n      <td>3.00</td>\n      <td>9.04</td>\n    </tr>\n  </tbody>\n</table>\n<p>5000 rows × 6 columns</p>\n</div>"
     },
     "execution_count": 21,
     "metadata": {},
     "output_type": "execute_result"
    }
   ],
   "source": [
    "data = Dataset(num_treatments=0, na_columns=['feature_col_1', 'feature_col_2'], num_outcomes=1, num_info_cols=1, num_main_causes_cols=2)\n",
    "data.df"
   ]
  },
  {
   "cell_type": "markdown",
   "id": "a0402e83",
   "metadata": {},
   "source": [
    "## 2. AATest "
   ]
  },
  {
   "cell_type": "markdown",
   "id": "b3733f84",
   "metadata": {},
   "source": [
    "### 2.0 Initialize parameters\n",
    "`info_col` used to define informative attributes that should NOT be part of testing, such as user_id and signup_month <br>"
   ]
  },
  {
   "cell_type": "code",
   "execution_count": 22,
   "id": "bc8e4ac0",
   "metadata": {
    "ExecuteTime": {
     "end_time": "2023-11-21T13:43:14.442850800Z",
     "start_time": "2023-11-21T13:43:14.392502300Z"
    }
   },
   "outputs": [],
   "source": [
    "info_cols = data.info_col_names[0]\n",
    "target = data.outcome_name[0]"
   ]
  },
  {
   "cell_type": "markdown",
   "id": "75c196ea",
   "metadata": {},
   "source": [
    "### 2.1 Simple AA-test\n",
    "This is the easiest way to initialize and calculate metrics on a AA-test (default - on 10 iterations)<br>\n",
    "Use it when you are clear about each attribute or if you don't have any additional task conditions (like grouping)"
   ]
  },
  {
   "cell_type": "code",
   "execution_count": 23,
   "id": "701d20c0",
   "metadata": {
    "ExecuteTime": {
     "end_time": "2023-11-21T13:43:15.278757600Z",
     "start_time": "2023-11-21T13:43:14.847119400Z"
    }
   },
   "outputs": [],
   "source": [
    "experiment = AATest(info_cols=info_cols, target_fields=target)"
   ]
  },
  {
   "cell_type": "code",
   "execution_count": 24,
   "id": "a3d70bf6",
   "metadata": {
    "ExecuteTime": {
     "end_time": "2023-11-21T13:43:16.450082500Z",
     "start_time": "2023-11-21T13:43:15.646213100Z"
    }
   },
   "outputs": [
    {
     "name": "stderr",
     "output_type": "stream",
     "text": [
      "100%|██████████| 10/10 [00:00<00:00, 32.80it/s]\n"
     ]
    }
   ],
   "source": [
    "experiment_result, dict_of_datas = experiment.search_dist_uniform_sampling(data.df, iterations=10)"
   ]
  },
  {
   "cell_type": "markdown",
   "id": "5b519654",
   "metadata": {},
   "source": [
    "`experiment_result` is a table of results of experiments, which includes \n",
    "- means of all targets in a and b samples, \n",
    "- p_values of Student t-test and test Kolmogorova-Smirnova, \n",
    "- and results of tests (did data on the random_state passes the uniform test)"
   ]
  },
  {
   "cell_type": "code",
   "execution_count": 25,
   "id": "2adb8cdd",
   "metadata": {
    "ExecuteTime": {
     "end_time": "2023-11-21T13:43:16.760616800Z",
     "start_time": "2023-11-21T13:43:16.426199900Z"
    }
   },
   "outputs": [
    {
     "data": {
      "text/plain": "   random_state  outcome_1 a mean  outcome_1 b mean  outcome_1 ab delta  \\\n0             0              3.69              3.51               -0.17   \n1             1              3.61              3.59               -0.01   \n2             2              3.58              3.62                0.03   \n\n   outcome_1 ab delta %  outcome_1 t_test p_value  outcome_1 ks_test p_value  \\\n0                 -4.95                      0.04                       0.02   \n1                 -0.42                      0.86                       0.51   \n2                  0.96                      0.68                       0.11   \n\n   outcome_1 t_test passed  outcome_1 ks_test passed  mean_tests_score  \n0                    False                     False              0.03  \n1                     True                      True              0.69  \n2                     True                      True              0.40  ",
      "text/html": "<div>\n<style scoped>\n    .dataframe tbody tr th:only-of-type {\n        vertical-align: middle;\n    }\n\n    .dataframe tbody tr th {\n        vertical-align: top;\n    }\n\n    .dataframe thead th {\n        text-align: right;\n    }\n</style>\n<table border=\"1\" class=\"dataframe\">\n  <thead>\n    <tr style=\"text-align: right;\">\n      <th></th>\n      <th>random_state</th>\n      <th>outcome_1 a mean</th>\n      <th>outcome_1 b mean</th>\n      <th>outcome_1 ab delta</th>\n      <th>outcome_1 ab delta %</th>\n      <th>outcome_1 t_test p_value</th>\n      <th>outcome_1 ks_test p_value</th>\n      <th>outcome_1 t_test passed</th>\n      <th>outcome_1 ks_test passed</th>\n      <th>mean_tests_score</th>\n    </tr>\n  </thead>\n  <tbody>\n    <tr>\n      <th>0</th>\n      <td>0</td>\n      <td>3.69</td>\n      <td>3.51</td>\n      <td>-0.17</td>\n      <td>-4.95</td>\n      <td>0.04</td>\n      <td>0.02</td>\n      <td>False</td>\n      <td>False</td>\n      <td>0.03</td>\n    </tr>\n    <tr>\n      <th>1</th>\n      <td>1</td>\n      <td>3.61</td>\n      <td>3.59</td>\n      <td>-0.01</td>\n      <td>-0.42</td>\n      <td>0.86</td>\n      <td>0.51</td>\n      <td>True</td>\n      <td>True</td>\n      <td>0.69</td>\n    </tr>\n    <tr>\n      <th>2</th>\n      <td>2</td>\n      <td>3.58</td>\n      <td>3.62</td>\n      <td>0.03</td>\n      <td>0.96</td>\n      <td>0.68</td>\n      <td>0.11</td>\n      <td>True</td>\n      <td>True</td>\n      <td>0.40</td>\n    </tr>\n  </tbody>\n</table>\n</div>"
     },
     "execution_count": 25,
     "metadata": {},
     "output_type": "execute_result"
    }
   ],
   "source": [
    "experiment_result.head(3)"
   ]
  },
  {
   "cell_type": "markdown",
   "id": "d9f415c2",
   "metadata": {},
   "source": [
    "`dict_of_datas` is a dictionary with random_states as keys and dataframes as values.<br>\n",
    "Result of separation can be find in column 'group', it contains values 'test' and 'control'"
   ]
  },
  {
   "cell_type": "code",
   "execution_count": 26,
   "id": "cac4e650",
   "metadata": {
    "ExecuteTime": {
     "end_time": "2023-11-21T13:43:16.808871200Z",
     "start_time": "2023-11-21T13:43:16.580024Z"
    }
   },
   "outputs": [
    {
     "data": {
      "text/plain": "   info_col_1 feature_col_1 feature_col_2  feature_col_3  feature_col_4  \\\n0       12049          male           NaN           0.56           3.00   \n1       12877        female        Credit           0.56           3.00   \n2        2431          male       Deposit           0.15           2.00   \n\n   outcome_1 group  \n0       8.39  test  \n1       4.33  test  \n2       5.54  test  ",
      "text/html": "<div>\n<style scoped>\n    .dataframe tbody tr th:only-of-type {\n        vertical-align: middle;\n    }\n\n    .dataframe tbody tr th {\n        vertical-align: top;\n    }\n\n    .dataframe thead th {\n        text-align: right;\n    }\n</style>\n<table border=\"1\" class=\"dataframe\">\n  <thead>\n    <tr style=\"text-align: right;\">\n      <th></th>\n      <th>info_col_1</th>\n      <th>feature_col_1</th>\n      <th>feature_col_2</th>\n      <th>feature_col_3</th>\n      <th>feature_col_4</th>\n      <th>outcome_1</th>\n      <th>group</th>\n    </tr>\n  </thead>\n  <tbody>\n    <tr>\n      <th>0</th>\n      <td>12049</td>\n      <td>male</td>\n      <td>NaN</td>\n      <td>0.56</td>\n      <td>3.00</td>\n      <td>8.39</td>\n      <td>test</td>\n    </tr>\n    <tr>\n      <th>1</th>\n      <td>12877</td>\n      <td>female</td>\n      <td>Credit</td>\n      <td>0.56</td>\n      <td>3.00</td>\n      <td>4.33</td>\n      <td>test</td>\n    </tr>\n    <tr>\n      <th>2</th>\n      <td>2431</td>\n      <td>male</td>\n      <td>Deposit</td>\n      <td>0.15</td>\n      <td>2.00</td>\n      <td>5.54</td>\n      <td>test</td>\n    </tr>\n  </tbody>\n</table>\n</div>"
     },
     "execution_count": 26,
     "metadata": {},
     "output_type": "execute_result"
    }
   ],
   "source": [
    "dict_of_datas[0].head(3)"
   ]
  },
  {
   "cell_type": "markdown",
   "id": "c277b0b9",
   "metadata": {},
   "source": [
    "#### - Single experiment\n",
    "To get stable results lets fix `random_state`"
   ]
  },
  {
   "cell_type": "code",
   "execution_count": 27,
   "id": "01265e9e",
   "metadata": {
    "ExecuteTime": {
     "end_time": "2023-11-21T13:43:17.051328300Z",
     "start_time": "2023-11-21T13:43:16.814872800Z"
    }
   },
   "outputs": [],
   "source": [
    "random_state = 11"
   ]
  },
  {
   "cell_type": "markdown",
   "id": "c4a1cd70",
   "metadata": {},
   "source": [
    "To perform single experiment you can use `sampling_metrics()`"
   ]
  },
  {
   "cell_type": "code",
   "execution_count": 28,
   "id": "6f1a8cf6",
   "metadata": {
    "ExecuteTime": {
     "end_time": "2023-11-21T13:43:19.081210700Z",
     "start_time": "2023-11-21T13:43:18.956924300Z"
    }
   },
   "outputs": [],
   "source": [
    "experiment = AATest(info_cols=info_cols, target_fields=target)\n",
    "metrics, dict_of_datas = experiment.sampling_metrics(data=data.df, random_state=random_state).values()"
   ]
  },
  {
   "cell_type": "markdown",
   "id": "4971e2e8",
   "metadata": {},
   "source": [
    "The results contains the same info as in multisampling, but on one experiment"
   ]
  },
  {
   "cell_type": "code",
   "execution_count": 29,
   "id": "bad5e42e",
   "metadata": {
    "scrolled": true,
    "ExecuteTime": {
     "end_time": "2023-11-21T13:43:20.277583900Z",
     "start_time": "2023-11-21T13:43:20.217711700Z"
    }
   },
   "outputs": [
    {
     "data": {
      "text/plain": "{'random_state': 11,\n 'outcome_1 a mean': 3.6704633575568995,\n 'outcome_1 b mean': 3.5264609914727756,\n 'outcome_1 ab delta': -0.14400236608412387,\n 'outcome_1 ab delta %': -4.083481043242254,\n 'outcome_1 t_test p_value': 0.08956264908378045,\n 'outcome_1 ks_test p_value': 0.14492108072188525,\n 'outcome_1 t_test passed': True,\n 'outcome_1 ks_test passed': True,\n 'mean_tests_score': 0.11724186490283285}"
     },
     "execution_count": 29,
     "metadata": {},
     "output_type": "execute_result"
    }
   ],
   "source": [
    "metrics"
   ]
  },
  {
   "cell_type": "code",
   "execution_count": 30,
   "id": "a9c3c513",
   "metadata": {
    "ExecuteTime": {
     "end_time": "2023-11-21T13:43:21.663916400Z",
     "start_time": "2023-11-21T13:43:21.325296500Z"
    }
   },
   "outputs": [
    {
     "data": {
      "text/plain": "      info_col_1 feature_col_1 feature_col_2  feature_col_3  feature_col_4  \\\n0          12049          male           NaN           0.56           3.00   \n1          12877        female        Credit           0.56           3.00   \n2           1210          male        Credit          -0.82           3.00   \n3          13072        female       Deposit           1.33           3.00   \n4           2239        female           NaN          -0.26           1.00   \n...          ...           ...           ...            ...            ...   \n4995        6556          male        Credit          -0.06           2.00   \n4996       13249          male    Investment           0.16           3.00   \n4997        6523          male           NaN          -0.79           0.00   \n4998         598          male       Deposit           0.19           1.00   \n4999        3541        female        Credit           0.65           3.00   \n\n      outcome_1    group  \n0          8.39     test  \n1          4.33     test  \n2          2.25     test  \n3          9.91     test  \n4          3.07     test  \n...         ...      ...  \n4995       6.28  control  \n4996       7.61  control  \n4997      -1.57  control  \n4998       1.40  control  \n4999       9.04  control  \n\n[5000 rows x 7 columns]",
      "text/html": "<div>\n<style scoped>\n    .dataframe tbody tr th:only-of-type {\n        vertical-align: middle;\n    }\n\n    .dataframe tbody tr th {\n        vertical-align: top;\n    }\n\n    .dataframe thead th {\n        text-align: right;\n    }\n</style>\n<table border=\"1\" class=\"dataframe\">\n  <thead>\n    <tr style=\"text-align: right;\">\n      <th></th>\n      <th>info_col_1</th>\n      <th>feature_col_1</th>\n      <th>feature_col_2</th>\n      <th>feature_col_3</th>\n      <th>feature_col_4</th>\n      <th>outcome_1</th>\n      <th>group</th>\n    </tr>\n  </thead>\n  <tbody>\n    <tr>\n      <th>0</th>\n      <td>12049</td>\n      <td>male</td>\n      <td>NaN</td>\n      <td>0.56</td>\n      <td>3.00</td>\n      <td>8.39</td>\n      <td>test</td>\n    </tr>\n    <tr>\n      <th>1</th>\n      <td>12877</td>\n      <td>female</td>\n      <td>Credit</td>\n      <td>0.56</td>\n      <td>3.00</td>\n      <td>4.33</td>\n      <td>test</td>\n    </tr>\n    <tr>\n      <th>2</th>\n      <td>1210</td>\n      <td>male</td>\n      <td>Credit</td>\n      <td>-0.82</td>\n      <td>3.00</td>\n      <td>2.25</td>\n      <td>test</td>\n    </tr>\n    <tr>\n      <th>3</th>\n      <td>13072</td>\n      <td>female</td>\n      <td>Deposit</td>\n      <td>1.33</td>\n      <td>3.00</td>\n      <td>9.91</td>\n      <td>test</td>\n    </tr>\n    <tr>\n      <th>4</th>\n      <td>2239</td>\n      <td>female</td>\n      <td>NaN</td>\n      <td>-0.26</td>\n      <td>1.00</td>\n      <td>3.07</td>\n      <td>test</td>\n    </tr>\n    <tr>\n      <th>...</th>\n      <td>...</td>\n      <td>...</td>\n      <td>...</td>\n      <td>...</td>\n      <td>...</td>\n      <td>...</td>\n      <td>...</td>\n    </tr>\n    <tr>\n      <th>4995</th>\n      <td>6556</td>\n      <td>male</td>\n      <td>Credit</td>\n      <td>-0.06</td>\n      <td>2.00</td>\n      <td>6.28</td>\n      <td>control</td>\n    </tr>\n    <tr>\n      <th>4996</th>\n      <td>13249</td>\n      <td>male</td>\n      <td>Investment</td>\n      <td>0.16</td>\n      <td>3.00</td>\n      <td>7.61</td>\n      <td>control</td>\n    </tr>\n    <tr>\n      <th>4997</th>\n      <td>6523</td>\n      <td>male</td>\n      <td>NaN</td>\n      <td>-0.79</td>\n      <td>0.00</td>\n      <td>-1.57</td>\n      <td>control</td>\n    </tr>\n    <tr>\n      <th>4998</th>\n      <td>598</td>\n      <td>male</td>\n      <td>Deposit</td>\n      <td>0.19</td>\n      <td>1.00</td>\n      <td>1.40</td>\n      <td>control</td>\n    </tr>\n    <tr>\n      <th>4999</th>\n      <td>3541</td>\n      <td>female</td>\n      <td>Credit</td>\n      <td>0.65</td>\n      <td>3.00</td>\n      <td>9.04</td>\n      <td>control</td>\n    </tr>\n  </tbody>\n</table>\n<p>5000 rows × 7 columns</p>\n</div>"
     },
     "execution_count": 30,
     "metadata": {},
     "output_type": "execute_result"
    }
   ],
   "source": [
    "dict_of_datas[random_state]"
   ]
  },
  {
   "cell_type": "markdown",
   "id": "5017639b",
   "metadata": {},
   "source": [
    "### 2.2 AA-test with grouping"
   ]
  },
  {
   "cell_type": "markdown",
   "id": "e3a32245",
   "metadata": {},
   "source": [
    "To perform experiment that separates samples by groups `group_col` can be used"
   ]
  },
  {
   "cell_type": "code",
   "execution_count": 32,
   "id": "2fba205a",
   "metadata": {
    "ExecuteTime": {
     "end_time": "2023-11-21T13:43:29.166660400Z",
     "start_time": "2023-11-21T13:43:29.003911600Z"
    }
   },
   "outputs": [],
   "source": [
    "info_cols = data.info_col_names[0]\n",
    "target = data.outcome_name[0]\n",
    "\n",
    "group_cols = 'feature_col_2'"
   ]
  },
  {
   "cell_type": "code",
   "execution_count": 33,
   "id": "b5896bf8",
   "metadata": {
    "ExecuteTime": {
     "end_time": "2023-11-21T13:43:29.879090500Z",
     "start_time": "2023-11-21T13:43:29.776901200Z"
    }
   },
   "outputs": [],
   "source": [
    "experiment = AATest(info_cols=info_cols, target_fields=target, group_cols=group_cols)"
   ]
  },
  {
   "cell_type": "code",
   "execution_count": 34,
   "id": "6155253f",
   "metadata": {
    "ExecuteTime": {
     "end_time": "2023-11-21T13:43:31.649225700Z",
     "start_time": "2023-11-21T13:43:30.901593900Z"
    }
   },
   "outputs": [
    {
     "name": "stderr",
     "output_type": "stream",
     "text": [
      "100%|██████████| 10/10 [00:00<00:00, 14.62it/s]\n"
     ]
    }
   ],
   "source": [
    "experiment_result, dict_of_datas = experiment.search_dist_uniform_sampling(data=data.df)"
   ]
  },
  {
   "cell_type": "markdown",
   "id": "45f18b03",
   "metadata": {},
   "source": [
    "The result is in the same format as without groups\n",
    "\n",
    "In this regime groups equally divided on each sample (test and control):"
   ]
  },
  {
   "cell_type": "code",
   "execution_count": 35,
   "id": "520ed05c",
   "metadata": {
    "ExecuteTime": {
     "end_time": "2023-11-21T13:43:34.567778600Z",
     "start_time": "2023-11-21T13:43:34.424933200Z"
    }
   },
   "outputs": [
    {
     "data": {
      "text/plain": "                       info_col_1\nfeature_col_2 group              \nCredit        control         747\n              test            746\nDeposit       control         761\n              test            761\nInvestment    control         743\n              test            742",
      "text/html": "<div>\n<style scoped>\n    .dataframe tbody tr th:only-of-type {\n        vertical-align: middle;\n    }\n\n    .dataframe tbody tr th {\n        vertical-align: top;\n    }\n\n    .dataframe thead th {\n        text-align: right;\n    }\n</style>\n<table border=\"1\" class=\"dataframe\">\n  <thead>\n    <tr style=\"text-align: right;\">\n      <th></th>\n      <th></th>\n      <th>info_col_1</th>\n    </tr>\n    <tr>\n      <th>feature_col_2</th>\n      <th>group</th>\n      <th></th>\n    </tr>\n  </thead>\n  <tbody>\n    <tr>\n      <th rowspan=\"2\" valign=\"top\">Credit</th>\n      <th>control</th>\n      <td>747</td>\n    </tr>\n    <tr>\n      <th>test</th>\n      <td>746</td>\n    </tr>\n    <tr>\n      <th rowspan=\"2\" valign=\"top\">Deposit</th>\n      <th>control</th>\n      <td>761</td>\n    </tr>\n    <tr>\n      <th>test</th>\n      <td>761</td>\n    </tr>\n    <tr>\n      <th rowspan=\"2\" valign=\"top\">Investment</th>\n      <th>control</th>\n      <td>743</td>\n    </tr>\n    <tr>\n      <th>test</th>\n      <td>742</td>\n    </tr>\n  </tbody>\n</table>\n</div>"
     },
     "execution_count": 35,
     "metadata": {},
     "output_type": "execute_result"
    }
   ],
   "source": [
    "dict_of_datas[0].groupby(['feature_col_2', 'group'])[['info_col_1']].count()"
   ]
  },
  {
   "cell_type": "markdown",
   "id": "d87c9442",
   "metadata": {},
   "source": [
    "## 3. AB-test"
   ]
  },
  {
   "cell_type": "markdown",
   "id": "0bb6fece",
   "metadata": {},
   "source": [
    "### 3.0 Data\n",
    "Lets correct data to see how AB-test works"
   ]
  },
  {
   "cell_type": "code",
   "execution_count": 55,
   "id": "6f5a8a1f",
   "metadata": {
    "ExecuteTime": {
     "end_time": "2023-11-21T13:53:33.041011400Z",
     "start_time": "2023-11-21T13:53:32.966701Z"
    }
   },
   "outputs": [
    {
     "data": {
      "text/plain": "   info_col_1 info_col_2 feature_col_1 feature_col_2  feature_col_3  \\\n0        4795          B          male    Investment           0.42   \n1        8758          V          male    Investment          -0.34   \n2       13723          B        female       Deposit           2.24   \n\n   feature_col_4  feature_col_5  feature_col_6  treatment_1  outcome_1  \\\n0          -0.35          -0.62           1.00         0.00       0.62   \n1           0.26           0.05           0.00         0.00      -1.10   \n2          -0.24          -1.44           3.00         1.00       8.22   \n\n   outcome_2 group  \n0       0.62  test  \n1       1.81  test  \n2       8.22  test  ",
      "text/html": "<div>\n<style scoped>\n    .dataframe tbody tr th:only-of-type {\n        vertical-align: middle;\n    }\n\n    .dataframe tbody tr th {\n        vertical-align: top;\n    }\n\n    .dataframe thead th {\n        text-align: right;\n    }\n</style>\n<table border=\"1\" class=\"dataframe\">\n  <thead>\n    <tr style=\"text-align: right;\">\n      <th></th>\n      <th>info_col_1</th>\n      <th>info_col_2</th>\n      <th>feature_col_1</th>\n      <th>feature_col_2</th>\n      <th>feature_col_3</th>\n      <th>feature_col_4</th>\n      <th>feature_col_5</th>\n      <th>feature_col_6</th>\n      <th>treatment_1</th>\n      <th>outcome_1</th>\n      <th>outcome_2</th>\n      <th>group</th>\n    </tr>\n  </thead>\n  <tbody>\n    <tr>\n      <th>0</th>\n      <td>4795</td>\n      <td>B</td>\n      <td>male</td>\n      <td>Investment</td>\n      <td>0.42</td>\n      <td>-0.35</td>\n      <td>-0.62</td>\n      <td>1.00</td>\n      <td>0.00</td>\n      <td>0.62</td>\n      <td>0.62</td>\n      <td>test</td>\n    </tr>\n    <tr>\n      <th>1</th>\n      <td>8758</td>\n      <td>V</td>\n      <td>male</td>\n      <td>Investment</td>\n      <td>-0.34</td>\n      <td>0.26</td>\n      <td>0.05</td>\n      <td>0.00</td>\n      <td>0.00</td>\n      <td>-1.10</td>\n      <td>1.81</td>\n      <td>test</td>\n    </tr>\n    <tr>\n      <th>2</th>\n      <td>13723</td>\n      <td>B</td>\n      <td>female</td>\n      <td>Deposit</td>\n      <td>2.24</td>\n      <td>-0.24</td>\n      <td>-1.44</td>\n      <td>3.00</td>\n      <td>1.00</td>\n      <td>8.22</td>\n      <td>8.22</td>\n      <td>test</td>\n    </tr>\n  </tbody>\n</table>\n</div>"
     },
     "execution_count": 55,
     "metadata": {},
     "output_type": "execute_result"
    }
   ],
   "source": [
    "dataset_ab = Dataset(num_outcomes=2)\n",
    "data_ab = dataset_ab.df.copy()\n",
    "half_data = int(dataset_ab.df.shape[0]/2)\n",
    "data_ab['group'] = ['test']*half_data + ['control']*half_data\n",
    "data_ab.head(3)"
   ]
  },
  {
   "cell_type": "markdown",
   "id": "690ceec5",
   "metadata": {},
   "source": [
    "### 3.1 Full AB-test\n",
    "\n",
    "Full (basic) version of test includes calculation of all available metrics, which are: \"diff in means\", \"diff in diff\" and \"cuped\"<br>\n",
    "Pay attention, that for \"cuped\" and \"diff in diff\" metrics requred target before pilot."
   ]
  },
  {
   "cell_type": "code",
   "execution_count": 56,
   "id": "4108a137",
   "metadata": {
    "ExecuteTime": {
     "end_time": "2023-11-21T13:53:33.861777100Z",
     "start_time": "2023-11-21T13:53:33.699206100Z"
    }
   },
   "outputs": [
    {
     "data": {
      "text/plain": "{'size': {'test': 2500, 'control': 2500},\n 'difference': {'ate': -0.011083229665972602,\n  'cuped': 0.035543294166314965,\n  'diff_in_diff': 0.049875421893031735},\n 'p_value': {'t_test': 0.9141948432189249, 'mann_whitney': 0.7430650566070216}}"
     },
     "execution_count": 56,
     "metadata": {},
     "output_type": "execute_result"
    }
   ],
   "source": [
    "model = ABTest()\n",
    "results = model.execute(\n",
    "    data=data_ab, \n",
    "    target_field=dataset_ab.outcome_name[1], \n",
    "    target_field_before=dataset_ab.outcome_name[0], \n",
    "    group_field='group'\n",
    ")\n",
    "results"
   ]
  },
  {
   "cell_type": "markdown",
   "id": "05487531",
   "metadata": {},
   "source": [
    "To see results in more convenient way `show_beautiful_result` can be used"
   ]
  },
  {
   "cell_type": "code",
   "execution_count": 57,
   "id": "9dd905e8",
   "metadata": {
    "ExecuteTime": {
     "end_time": "2023-11-21T13:53:34.970760500Z",
     "start_time": "2023-11-21T13:53:34.902109200Z"
    }
   },
   "outputs": [
    {
     "data": {
      "text/plain": "         size\ntest     2500\ncontrol  2500",
      "text/html": "<div>\n<style scoped>\n    .dataframe tbody tr th:only-of-type {\n        vertical-align: middle;\n    }\n\n    .dataframe tbody tr th {\n        vertical-align: top;\n    }\n\n    .dataframe thead th {\n        text-align: right;\n    }\n</style>\n<table border=\"1\" class=\"dataframe\">\n  <thead>\n    <tr style=\"text-align: right;\">\n      <th></th>\n      <th>size</th>\n    </tr>\n  </thead>\n  <tbody>\n    <tr>\n      <th>test</th>\n      <td>2500</td>\n    </tr>\n    <tr>\n      <th>control</th>\n      <td>2500</td>\n    </tr>\n  </tbody>\n</table>\n</div>"
     },
     "metadata": {},
     "output_type": "display_data"
    },
    {
     "data": {
      "text/plain": "              difference\nate                -0.01\ncuped               0.04\ndiff_in_diff        0.05",
      "text/html": "<div>\n<style scoped>\n    .dataframe tbody tr th:only-of-type {\n        vertical-align: middle;\n    }\n\n    .dataframe tbody tr th {\n        vertical-align: top;\n    }\n\n    .dataframe thead th {\n        text-align: right;\n    }\n</style>\n<table border=\"1\" class=\"dataframe\">\n  <thead>\n    <tr style=\"text-align: right;\">\n      <th></th>\n      <th>difference</th>\n    </tr>\n  </thead>\n  <tbody>\n    <tr>\n      <th>ate</th>\n      <td>-0.01</td>\n    </tr>\n    <tr>\n      <th>cuped</th>\n      <td>0.04</td>\n    </tr>\n    <tr>\n      <th>diff_in_diff</th>\n      <td>0.05</td>\n    </tr>\n  </tbody>\n</table>\n</div>"
     },
     "metadata": {},
     "output_type": "display_data"
    },
    {
     "data": {
      "text/plain": "              p_value\nt_test           0.91\nmann_whitney     0.74",
      "text/html": "<div>\n<style scoped>\n    .dataframe tbody tr th:only-of-type {\n        vertical-align: middle;\n    }\n\n    .dataframe tbody tr th {\n        vertical-align: top;\n    }\n\n    .dataframe thead th {\n        text-align: right;\n    }\n</style>\n<table border=\"1\" class=\"dataframe\">\n  <thead>\n    <tr style=\"text-align: right;\">\n      <th></th>\n      <th>p_value</th>\n    </tr>\n  </thead>\n  <tbody>\n    <tr>\n      <th>t_test</th>\n      <td>0.91</td>\n    </tr>\n    <tr>\n      <th>mann_whitney</th>\n      <td>0.74</td>\n    </tr>\n  </tbody>\n</table>\n</div>"
     },
     "metadata": {},
     "output_type": "display_data"
    }
   ],
   "source": [
    "model.show_beautiful_result()"
   ]
  },
  {
   "cell_type": "markdown",
   "id": "ea252142",
   "metadata": {},
   "source": [
    "### 3.2 Simple AB-test\n",
    "To estimate effect without target data before pilot `calc_difference_method='ate'` can be used - effect will be estimated with \"diff in means\" method"
   ]
  },
  {
   "cell_type": "code",
   "execution_count": 59,
   "id": "0ab77779",
   "metadata": {
    "ExecuteTime": {
     "end_time": "2023-11-21T13:54:35.897419700Z",
     "start_time": "2023-11-21T13:54:35.799838900Z"
    }
   },
   "outputs": [
    {
     "data": {
      "text/plain": "         size\ntest     2500\ncontrol  2500",
      "text/html": "<div>\n<style scoped>\n    .dataframe tbody tr th:only-of-type {\n        vertical-align: middle;\n    }\n\n    .dataframe tbody tr th {\n        vertical-align: top;\n    }\n\n    .dataframe thead th {\n        text-align: right;\n    }\n</style>\n<table border=\"1\" class=\"dataframe\">\n  <thead>\n    <tr style=\"text-align: right;\">\n      <th></th>\n      <th>size</th>\n    </tr>\n  </thead>\n  <tbody>\n    <tr>\n      <th>test</th>\n      <td>2500</td>\n    </tr>\n    <tr>\n      <th>control</th>\n      <td>2500</td>\n    </tr>\n  </tbody>\n</table>\n</div>"
     },
     "metadata": {},
     "output_type": "display_data"
    },
    {
     "data": {
      "text/plain": "     difference\nate       -0.06",
      "text/html": "<div>\n<style scoped>\n    .dataframe tbody tr th:only-of-type {\n        vertical-align: middle;\n    }\n\n    .dataframe tbody tr th {\n        vertical-align: top;\n    }\n\n    .dataframe thead th {\n        text-align: right;\n    }\n</style>\n<table border=\"1\" class=\"dataframe\">\n  <thead>\n    <tr style=\"text-align: right;\">\n      <th></th>\n      <th>difference</th>\n    </tr>\n  </thead>\n  <tbody>\n    <tr>\n      <th>ate</th>\n      <td>-0.06</td>\n    </tr>\n  </tbody>\n</table>\n</div>"
     },
     "metadata": {},
     "output_type": "display_data"
    },
    {
     "data": {
      "text/plain": "              p_value\nt_test           0.55\nmann_whitney     0.76",
      "text/html": "<div>\n<style scoped>\n    .dataframe tbody tr th:only-of-type {\n        vertical-align: middle;\n    }\n\n    .dataframe tbody tr th {\n        vertical-align: top;\n    }\n\n    .dataframe thead th {\n        text-align: right;\n    }\n</style>\n<table border=\"1\" class=\"dataframe\">\n  <thead>\n    <tr style=\"text-align: right;\">\n      <th></th>\n      <th>p_value</th>\n    </tr>\n  </thead>\n  <tbody>\n    <tr>\n      <th>t_test</th>\n      <td>0.55</td>\n    </tr>\n    <tr>\n      <th>mann_whitney</th>\n      <td>0.76</td>\n    </tr>\n  </tbody>\n</table>\n</div>"
     },
     "metadata": {},
     "output_type": "display_data"
    }
   ],
   "source": [
    "model = ABTest(calc_difference_method='ate')\n",
    "model.execute(data=data_ab, target_field=dataset_ab.outcome_name[0], group_field='group')\n",
    "\n",
    "model.show_beautiful_result()"
   ]
  }
 ],
 "metadata": {
  "kernelspec": {
   "display_name": "Python 3 (ipykernel)",
   "language": "python",
   "name": "python3"
  },
  "language_info": {
   "codemirror_mode": {
    "name": "ipython",
    "version": 3
   },
   "file_extension": ".py",
   "mimetype": "text/x-python",
   "name": "python",
   "nbconvert_exporter": "python",
   "pygments_lexer": "ipython3",
   "version": "3.10.13"
  }
 },
 "nbformat": 4,
 "nbformat_minor": 5
}
