{
 "cells": [
  {
   "cell_type": "markdown",
   "id": "64e2de80",
   "metadata": {},
   "source": [
    "# Tutorial 2: How to perform AA and AB tests\n",
    "*AB-test is shown below*"
   ]
  },
  {
   "cell_type": "markdown",
   "id": "9f52ff79",
   "metadata": {},
   "source": [
    "## 0. Import Libraries"
   ]
  },
  {
   "cell_type": "code",
   "execution_count": 25,
   "id": "6c2c62f0",
   "metadata": {
    "ExecuteTime": {
     "end_time": "2023-11-23T12:50:27.828827700Z",
     "start_time": "2023-11-23T12:50:27.788343100Z"
    }
   },
   "outputs": [],
   "source": [
    "import pandas as pd\n",
    "from hypex.ab_test.ab_tester import AATest, ABTest\n",
    "from hypex.dataset import DataGenerator\n",
    "\n",
    "pd.options.display.float_format = '{:,.2f}'.format"
   ]
  },
  {
   "cell_type": "markdown",
   "id": "2dca3eaa",
   "metadata": {},
   "source": [
    "## 1. Create or upload your dataset\n",
    "In this case we will create random dataset with known effect size  \n",
    "If you have your own dataset, go to the part 2 "
   ]
  },
  {
   "cell_type": "code",
   "execution_count": 2,
   "id": "7b655d2d",
   "metadata": {
    "ExecuteTime": {
     "end_time": "2023-11-23T12:48:39.008470100Z",
     "start_time": "2023-11-23T12:48:38.941306100Z"
    }
   },
   "outputs": [
    {
     "data": {
      "text/plain": "       info feature_1   feature_2  feature_3  feature_4  target\n0      4492       NaN  Investment      -0.93       1.00    2.35\n1     11302    female         NaN      -1.46       1.00   -1.72\n2      1501    female  Investment      -0.75       2.00   -0.86\n3      5767      male     Deposit       1.15       0.00    0.87\n4      2344    female      Credit       1.42       0.00    4.00\n...     ...       ...         ...        ...        ...     ...\n4995   6055    female      Credit       0.53       3.00    8.03\n4996   7279      male     Deposit       1.00       3.00    4.86\n4997  13000      male     Deposit       1.90       3.00    4.54\n4998   7381    female      Credit      -0.48       3.00    6.87\n4999   4807      male      Credit      -0.06       2.00    2.36\n\n[5000 rows x 6 columns]",
      "text/html": "<div>\n<style scoped>\n    .dataframe tbody tr th:only-of-type {\n        vertical-align: middle;\n    }\n\n    .dataframe tbody tr th {\n        vertical-align: top;\n    }\n\n    .dataframe thead th {\n        text-align: right;\n    }\n</style>\n<table border=\"1\" class=\"dataframe\">\n  <thead>\n    <tr style=\"text-align: right;\">\n      <th></th>\n      <th>info</th>\n      <th>feature_1</th>\n      <th>feature_2</th>\n      <th>feature_3</th>\n      <th>feature_4</th>\n      <th>target</th>\n    </tr>\n  </thead>\n  <tbody>\n    <tr>\n      <th>0</th>\n      <td>4492</td>\n      <td>NaN</td>\n      <td>Investment</td>\n      <td>-0.93</td>\n      <td>1.00</td>\n      <td>2.35</td>\n    </tr>\n    <tr>\n      <th>1</th>\n      <td>11302</td>\n      <td>female</td>\n      <td>NaN</td>\n      <td>-1.46</td>\n      <td>1.00</td>\n      <td>-1.72</td>\n    </tr>\n    <tr>\n      <th>2</th>\n      <td>1501</td>\n      <td>female</td>\n      <td>Investment</td>\n      <td>-0.75</td>\n      <td>2.00</td>\n      <td>-0.86</td>\n    </tr>\n    <tr>\n      <th>3</th>\n      <td>5767</td>\n      <td>male</td>\n      <td>Deposit</td>\n      <td>1.15</td>\n      <td>0.00</td>\n      <td>0.87</td>\n    </tr>\n    <tr>\n      <th>4</th>\n      <td>2344</td>\n      <td>female</td>\n      <td>Credit</td>\n      <td>1.42</td>\n      <td>0.00</td>\n      <td>4.00</td>\n    </tr>\n    <tr>\n      <th>...</th>\n      <td>...</td>\n      <td>...</td>\n      <td>...</td>\n      <td>...</td>\n      <td>...</td>\n      <td>...</td>\n    </tr>\n    <tr>\n      <th>4995</th>\n      <td>6055</td>\n      <td>female</td>\n      <td>Credit</td>\n      <td>0.53</td>\n      <td>3.00</td>\n      <td>8.03</td>\n    </tr>\n    <tr>\n      <th>4996</th>\n      <td>7279</td>\n      <td>male</td>\n      <td>Deposit</td>\n      <td>1.00</td>\n      <td>3.00</td>\n      <td>4.86</td>\n    </tr>\n    <tr>\n      <th>4997</th>\n      <td>13000</td>\n      <td>male</td>\n      <td>Deposit</td>\n      <td>1.90</td>\n      <td>3.00</td>\n      <td>4.54</td>\n    </tr>\n    <tr>\n      <th>4998</th>\n      <td>7381</td>\n      <td>female</td>\n      <td>Credit</td>\n      <td>-0.48</td>\n      <td>3.00</td>\n      <td>6.87</td>\n    </tr>\n    <tr>\n      <th>4999</th>\n      <td>4807</td>\n      <td>male</td>\n      <td>Credit</td>\n      <td>-0.06</td>\n      <td>2.00</td>\n      <td>2.36</td>\n    </tr>\n  </tbody>\n</table>\n<p>5000 rows × 6 columns</p>\n</div>"
     },
     "execution_count": 2,
     "metadata": {},
     "output_type": "execute_result"
    }
   ],
   "source": [
    "data = DataGenerator(is_treatment=False, \n",
    "                     na_columns=['feature_1', 'feature_2'], \n",
    "                     num_info_cols=1, num_features=2)\n",
    "data.df"
   ]
  },
  {
   "cell_type": "markdown",
   "id": "a0402e83",
   "metadata": {},
   "source": [
    "## 2. AATest "
   ]
  },
  {
   "cell_type": "markdown",
   "id": "b3733f84",
   "metadata": {},
   "source": [
    "### 2.0 Initialize parameters\n",
    "`info_col` used to define informative attributes that should NOT be part of testing, such as user_id and signup_month <br>"
   ]
  },
  {
   "cell_type": "code",
   "execution_count": 4,
   "id": "bc8e4ac0",
   "metadata": {
    "ExecuteTime": {
     "end_time": "2023-11-23T12:49:03.767340500Z",
     "start_time": "2023-11-23T12:49:03.734943200Z"
    }
   },
   "outputs": [],
   "source": [
    "info_cols = data.info_col_names[0]\n",
    "target = data.target_names[0]"
   ]
  },
  {
   "cell_type": "markdown",
   "id": "75c196ea",
   "metadata": {},
   "source": [
    "### 2.1 Simple AA-test\n",
    "This is the easiest way to initialize and calculate metrics on a AA-test (default - on 10 iterations)<br>\n",
    "Use it when you are clear about each attribute or if you don't have any additional task conditions (like grouping)"
   ]
  },
  {
   "cell_type": "code",
   "execution_count": 5,
   "id": "701d20c0",
   "metadata": {
    "ExecuteTime": {
     "end_time": "2023-11-23T12:49:08.334555500Z",
     "start_time": "2023-11-23T12:49:08.300614300Z"
    }
   },
   "outputs": [],
   "source": [
    "experiment = AATest(info_cols=info_cols, target_fields=target)"
   ]
  },
  {
   "cell_type": "code",
   "execution_count": 6,
   "id": "a3d70bf6",
   "metadata": {
    "ExecuteTime": {
     "end_time": "2023-11-23T12:49:09.436361900Z",
     "start_time": "2023-11-23T12:49:09.218851900Z"
    }
   },
   "outputs": [
    {
     "name": "stderr",
     "output_type": "stream",
     "text": [
      "100%|██████████| 10/10 [00:00<00:00, 55.39it/s]\n"
     ]
    }
   ],
   "source": [
    "experiment_result, dict_of_datas = experiment.search_dist_uniform_sampling(data.df, iterations=10)"
   ]
  },
  {
   "cell_type": "markdown",
   "id": "5b519654",
   "metadata": {},
   "source": [
    "`experiment_result` is a table of results of experiments, which includes \n",
    "- means of all targets in a and b samples, \n",
    "- p_values of Student t-test and test Kolmogorova-Smirnova, \n",
    "- and results of tests (did data on the random_state passes the uniform test)"
   ]
  },
  {
   "cell_type": "code",
   "execution_count": 7,
   "id": "2adb8cdd",
   "metadata": {
    "ExecuteTime": {
     "end_time": "2023-11-23T12:49:11.497498200Z",
     "start_time": "2023-11-23T12:49:11.447602200Z"
    }
   },
   "outputs": [
    {
     "data": {
      "text/plain": "   random_state  target a mean  target b mean  target ab delta  \\\n0             0           2.62           2.64             0.02   \n1             1           2.64           2.62            -0.01   \n2             2           2.54           2.72             0.19   \n\n   target ab delta %  target t_test p_value  target ks_test p_value  \\\n0               0.86                   0.78                    0.97   \n1              -0.55                   0.86                    0.98   \n2               6.88                   0.02                    0.01   \n\n   target t_test passed  target ks_test passed  mean_tests_score  \n0                  True                   True              0.87  \n1                  True                   True              0.92  \n2                 False                  False              0.02  ",
      "text/html": "<div>\n<style scoped>\n    .dataframe tbody tr th:only-of-type {\n        vertical-align: middle;\n    }\n\n    .dataframe tbody tr th {\n        vertical-align: top;\n    }\n\n    .dataframe thead th {\n        text-align: right;\n    }\n</style>\n<table border=\"1\" class=\"dataframe\">\n  <thead>\n    <tr style=\"text-align: right;\">\n      <th></th>\n      <th>random_state</th>\n      <th>target a mean</th>\n      <th>target b mean</th>\n      <th>target ab delta</th>\n      <th>target ab delta %</th>\n      <th>target t_test p_value</th>\n      <th>target ks_test p_value</th>\n      <th>target t_test passed</th>\n      <th>target ks_test passed</th>\n      <th>mean_tests_score</th>\n    </tr>\n  </thead>\n  <tbody>\n    <tr>\n      <th>0</th>\n      <td>0</td>\n      <td>2.62</td>\n      <td>2.64</td>\n      <td>0.02</td>\n      <td>0.86</td>\n      <td>0.78</td>\n      <td>0.97</td>\n      <td>True</td>\n      <td>True</td>\n      <td>0.87</td>\n    </tr>\n    <tr>\n      <th>1</th>\n      <td>1</td>\n      <td>2.64</td>\n      <td>2.62</td>\n      <td>-0.01</td>\n      <td>-0.55</td>\n      <td>0.86</td>\n      <td>0.98</td>\n      <td>True</td>\n      <td>True</td>\n      <td>0.92</td>\n    </tr>\n    <tr>\n      <th>2</th>\n      <td>2</td>\n      <td>2.54</td>\n      <td>2.72</td>\n      <td>0.19</td>\n      <td>6.88</td>\n      <td>0.02</td>\n      <td>0.01</td>\n      <td>False</td>\n      <td>False</td>\n      <td>0.02</td>\n    </tr>\n  </tbody>\n</table>\n</div>"
     },
     "execution_count": 7,
     "metadata": {},
     "output_type": "execute_result"
    }
   ],
   "source": [
    "experiment_result.head(3)"
   ]
  },
  {
   "cell_type": "markdown",
   "id": "d9f415c2",
   "metadata": {},
   "source": [
    "`dict_of_datas` is a dictionary with random_states as keys and dataframes as values.<br>\n",
    "Result of separation can be find in column 'group', it contains values 'test' and 'control'"
   ]
  },
  {
   "cell_type": "code",
   "execution_count": 8,
   "id": "cac4e650",
   "metadata": {
    "ExecuteTime": {
     "end_time": "2023-11-23T12:49:13.977455600Z",
     "start_time": "2023-11-23T12:49:13.896801200Z"
    }
   },
   "outputs": [
    {
     "data": {
      "text/plain": "    info feature_1   feature_2  feature_3  feature_4  target group\n0  11302    female         NaN      -1.46       1.00   -1.72  test\n1   1501    female  Investment      -0.75       2.00   -0.86  test\n2   5767      male     Deposit       1.15       0.00    0.87  test",
      "text/html": "<div>\n<style scoped>\n    .dataframe tbody tr th:only-of-type {\n        vertical-align: middle;\n    }\n\n    .dataframe tbody tr th {\n        vertical-align: top;\n    }\n\n    .dataframe thead th {\n        text-align: right;\n    }\n</style>\n<table border=\"1\" class=\"dataframe\">\n  <thead>\n    <tr style=\"text-align: right;\">\n      <th></th>\n      <th>info</th>\n      <th>feature_1</th>\n      <th>feature_2</th>\n      <th>feature_3</th>\n      <th>feature_4</th>\n      <th>target</th>\n      <th>group</th>\n    </tr>\n  </thead>\n  <tbody>\n    <tr>\n      <th>0</th>\n      <td>11302</td>\n      <td>female</td>\n      <td>NaN</td>\n      <td>-1.46</td>\n      <td>1.00</td>\n      <td>-1.72</td>\n      <td>test</td>\n    </tr>\n    <tr>\n      <th>1</th>\n      <td>1501</td>\n      <td>female</td>\n      <td>Investment</td>\n      <td>-0.75</td>\n      <td>2.00</td>\n      <td>-0.86</td>\n      <td>test</td>\n    </tr>\n    <tr>\n      <th>2</th>\n      <td>5767</td>\n      <td>male</td>\n      <td>Deposit</td>\n      <td>1.15</td>\n      <td>0.00</td>\n      <td>0.87</td>\n      <td>test</td>\n    </tr>\n  </tbody>\n</table>\n</div>"
     },
     "execution_count": 8,
     "metadata": {},
     "output_type": "execute_result"
    }
   ],
   "source": [
    "dict_of_datas[0].head(3)"
   ]
  },
  {
   "cell_type": "markdown",
   "id": "c277b0b9",
   "metadata": {},
   "source": [
    "#### - Single experiment\n",
    "To get stable results lets fix `random_state`"
   ]
  },
  {
   "cell_type": "code",
   "execution_count": 9,
   "id": "01265e9e",
   "metadata": {
    "ExecuteTime": {
     "end_time": "2023-11-23T12:49:17.048771700Z",
     "start_time": "2023-11-23T12:49:17.014856200Z"
    }
   },
   "outputs": [],
   "source": [
    "random_state = 11"
   ]
  },
  {
   "cell_type": "markdown",
   "id": "c4a1cd70",
   "metadata": {},
   "source": [
    "To perform single experiment you can use `sampling_metrics()`"
   ]
  },
  {
   "cell_type": "code",
   "execution_count": 10,
   "id": "6f1a8cf6",
   "metadata": {
    "ExecuteTime": {
     "end_time": "2023-11-23T12:49:17.990978100Z",
     "start_time": "2023-11-23T12:49:17.938572900Z"
    }
   },
   "outputs": [],
   "source": [
    "experiment = AATest(info_cols=info_cols, target_fields=target)\n",
    "metrics, dict_of_datas = experiment.sampling_metrics(data=data.df, random_state=random_state).values()"
   ]
  },
  {
   "cell_type": "markdown",
   "id": "4971e2e8",
   "metadata": {},
   "source": [
    "The results contains the same info as in multisampling, but on one experiment"
   ]
  },
  {
   "cell_type": "code",
   "execution_count": 11,
   "id": "bad5e42e",
   "metadata": {
    "scrolled": true,
    "ExecuteTime": {
     "end_time": "2023-11-23T12:49:19.847201400Z",
     "start_time": "2023-11-23T12:49:19.781766200Z"
    }
   },
   "outputs": [
    {
     "data": {
      "text/plain": "{'random_state': 11,\n 'target a mean': 2.577879190129928,\n 'target b mean': 2.6804315322428436,\n 'target ab delta': 0.10255234211291553,\n 'target ab delta %': 3.825963874820748,\n 'target t_test p_value': 0.20106066484924415,\n 'target ks_test p_value': 0.3857943719884363,\n 'target t_test passed': True,\n 'target ks_test passed': True,\n 'mean_tests_score': 0.29342751841884024}"
     },
     "execution_count": 11,
     "metadata": {},
     "output_type": "execute_result"
    }
   ],
   "source": [
    "metrics"
   ]
  },
  {
   "cell_type": "code",
   "execution_count": 12,
   "id": "a9c3c513",
   "metadata": {
    "ExecuteTime": {
     "end_time": "2023-11-23T12:49:20.671403900Z",
     "start_time": "2023-11-23T12:49:20.631589500Z"
    }
   },
   "outputs": [
    {
     "data": {
      "text/plain": "       info feature_1   feature_2  feature_3  feature_4  target    group\n0     11302    female         NaN      -1.46       1.00   -1.72     test\n1      1501    female  Investment      -0.75       2.00   -0.86     test\n2     14590    female  Investment      -1.02       1.00    3.11     test\n3     14995      male  Investment       0.84       2.00    2.35     test\n4      2671      male         NaN      -0.41       0.00    0.57     test\n...     ...       ...         ...        ...        ...     ...      ...\n4995   6682      male  Investment      -0.25       2.00    3.78  control\n4996   3367    female  Investment      -0.43       2.00    4.45  control\n4997  10159    female         NaN       0.30       3.00    3.20  control\n4998   5356      male  Investment       0.61       1.00    6.59  control\n4999   4807      male      Credit      -0.06       2.00    2.36  control\n\n[5000 rows x 7 columns]",
      "text/html": "<div>\n<style scoped>\n    .dataframe tbody tr th:only-of-type {\n        vertical-align: middle;\n    }\n\n    .dataframe tbody tr th {\n        vertical-align: top;\n    }\n\n    .dataframe thead th {\n        text-align: right;\n    }\n</style>\n<table border=\"1\" class=\"dataframe\">\n  <thead>\n    <tr style=\"text-align: right;\">\n      <th></th>\n      <th>info</th>\n      <th>feature_1</th>\n      <th>feature_2</th>\n      <th>feature_3</th>\n      <th>feature_4</th>\n      <th>target</th>\n      <th>group</th>\n    </tr>\n  </thead>\n  <tbody>\n    <tr>\n      <th>0</th>\n      <td>11302</td>\n      <td>female</td>\n      <td>NaN</td>\n      <td>-1.46</td>\n      <td>1.00</td>\n      <td>-1.72</td>\n      <td>test</td>\n    </tr>\n    <tr>\n      <th>1</th>\n      <td>1501</td>\n      <td>female</td>\n      <td>Investment</td>\n      <td>-0.75</td>\n      <td>2.00</td>\n      <td>-0.86</td>\n      <td>test</td>\n    </tr>\n    <tr>\n      <th>2</th>\n      <td>14590</td>\n      <td>female</td>\n      <td>Investment</td>\n      <td>-1.02</td>\n      <td>1.00</td>\n      <td>3.11</td>\n      <td>test</td>\n    </tr>\n    <tr>\n      <th>3</th>\n      <td>14995</td>\n      <td>male</td>\n      <td>Investment</td>\n      <td>0.84</td>\n      <td>2.00</td>\n      <td>2.35</td>\n      <td>test</td>\n    </tr>\n    <tr>\n      <th>4</th>\n      <td>2671</td>\n      <td>male</td>\n      <td>NaN</td>\n      <td>-0.41</td>\n      <td>0.00</td>\n      <td>0.57</td>\n      <td>test</td>\n    </tr>\n    <tr>\n      <th>...</th>\n      <td>...</td>\n      <td>...</td>\n      <td>...</td>\n      <td>...</td>\n      <td>...</td>\n      <td>...</td>\n      <td>...</td>\n    </tr>\n    <tr>\n      <th>4995</th>\n      <td>6682</td>\n      <td>male</td>\n      <td>Investment</td>\n      <td>-0.25</td>\n      <td>2.00</td>\n      <td>3.78</td>\n      <td>control</td>\n    </tr>\n    <tr>\n      <th>4996</th>\n      <td>3367</td>\n      <td>female</td>\n      <td>Investment</td>\n      <td>-0.43</td>\n      <td>2.00</td>\n      <td>4.45</td>\n      <td>control</td>\n    </tr>\n    <tr>\n      <th>4997</th>\n      <td>10159</td>\n      <td>female</td>\n      <td>NaN</td>\n      <td>0.30</td>\n      <td>3.00</td>\n      <td>3.20</td>\n      <td>control</td>\n    </tr>\n    <tr>\n      <th>4998</th>\n      <td>5356</td>\n      <td>male</td>\n      <td>Investment</td>\n      <td>0.61</td>\n      <td>1.00</td>\n      <td>6.59</td>\n      <td>control</td>\n    </tr>\n    <tr>\n      <th>4999</th>\n      <td>4807</td>\n      <td>male</td>\n      <td>Credit</td>\n      <td>-0.06</td>\n      <td>2.00</td>\n      <td>2.36</td>\n      <td>control</td>\n    </tr>\n  </tbody>\n</table>\n<p>5000 rows × 7 columns</p>\n</div>"
     },
     "execution_count": 12,
     "metadata": {},
     "output_type": "execute_result"
    }
   ],
   "source": [
    "dict_of_datas[random_state]"
   ]
  },
  {
   "cell_type": "markdown",
   "id": "5017639b",
   "metadata": {},
   "source": [
    "### 2.2 AA-test with grouping"
   ]
  },
  {
   "cell_type": "markdown",
   "id": "e3a32245",
   "metadata": {},
   "source": [
    "To perform experiment that separates samples by groups `group_col` can be used"
   ]
  },
  {
   "cell_type": "code",
   "execution_count": 14,
   "id": "2fba205a",
   "metadata": {
    "ExecuteTime": {
     "end_time": "2023-11-23T12:49:32.650934200Z",
     "start_time": "2023-11-23T12:49:32.542427700Z"
    }
   },
   "outputs": [],
   "source": [
    "info_cols = data.info_col_names[0]\n",
    "target = data.target_names[0]\n",
    "\n",
    "group_cols = 'feature_2'"
   ]
  },
  {
   "cell_type": "code",
   "execution_count": 15,
   "id": "b5896bf8",
   "metadata": {
    "ExecuteTime": {
     "end_time": "2023-11-23T12:49:33.330643600Z",
     "start_time": "2023-11-23T12:49:33.296901800Z"
    }
   },
   "outputs": [],
   "source": [
    "experiment = AATest(info_cols=info_cols, target_fields=target, group_cols=group_cols)"
   ]
  },
  {
   "cell_type": "code",
   "execution_count": 16,
   "id": "6155253f",
   "metadata": {
    "ExecuteTime": {
     "end_time": "2023-11-23T12:49:35.342858400Z",
     "start_time": "2023-11-23T12:49:34.885816Z"
    }
   },
   "outputs": [
    {
     "name": "stderr",
     "output_type": "stream",
     "text": [
      "100%|██████████| 10/10 [00:00<00:00, 23.47it/s]\n"
     ]
    }
   ],
   "source": [
    "experiment_result, dict_of_datas = experiment.search_dist_uniform_sampling(data=data.df)"
   ]
  },
  {
   "cell_type": "markdown",
   "id": "45f18b03",
   "metadata": {},
   "source": [
    "The result is in the same format as without groups\n",
    "\n",
    "In this regime groups equally divided on each sample (test and control):"
   ]
  },
  {
   "cell_type": "code",
   "execution_count": 18,
   "id": "520ed05c",
   "metadata": {
    "ExecuteTime": {
     "end_time": "2023-11-23T12:49:46.237753600Z",
     "start_time": "2023-11-23T12:49:46.178013600Z"
    }
   },
   "outputs": [
    {
     "data": {
      "text/plain": "                    info\nfeature_2  group        \nCredit     control   742\n           test      742\nDeposit    control   774\n           test      773\nInvestment control   735\n           test      734",
      "text/html": "<div>\n<style scoped>\n    .dataframe tbody tr th:only-of-type {\n        vertical-align: middle;\n    }\n\n    .dataframe tbody tr th {\n        vertical-align: top;\n    }\n\n    .dataframe thead th {\n        text-align: right;\n    }\n</style>\n<table border=\"1\" class=\"dataframe\">\n  <thead>\n    <tr style=\"text-align: right;\">\n      <th></th>\n      <th></th>\n      <th>info</th>\n    </tr>\n    <tr>\n      <th>feature_2</th>\n      <th>group</th>\n      <th></th>\n    </tr>\n  </thead>\n  <tbody>\n    <tr>\n      <th rowspan=\"2\" valign=\"top\">Credit</th>\n      <th>control</th>\n      <td>742</td>\n    </tr>\n    <tr>\n      <th>test</th>\n      <td>742</td>\n    </tr>\n    <tr>\n      <th rowspan=\"2\" valign=\"top\">Deposit</th>\n      <th>control</th>\n      <td>774</td>\n    </tr>\n    <tr>\n      <th>test</th>\n      <td>773</td>\n    </tr>\n    <tr>\n      <th rowspan=\"2\" valign=\"top\">Investment</th>\n      <th>control</th>\n      <td>735</td>\n    </tr>\n    <tr>\n      <th>test</th>\n      <td>734</td>\n    </tr>\n  </tbody>\n</table>\n</div>"
     },
     "execution_count": 18,
     "metadata": {},
     "output_type": "execute_result"
    }
   ],
   "source": [
    "dict_of_datas[0].groupby(['feature_2', 'group'])[['info']].count()"
   ]
  },
  {
   "cell_type": "markdown",
   "id": "d87c9442",
   "metadata": {},
   "source": [
    "## 3. AB-test"
   ]
  },
  {
   "cell_type": "markdown",
   "id": "0bb6fece",
   "metadata": {},
   "source": [
    "### 3.0 Data\n",
    "Lets correct data to see how AB-test works"
   ]
  },
  {
   "cell_type": "code",
   "execution_count": 19,
   "id": "6f5a8a1f",
   "metadata": {
    "ExecuteTime": {
     "end_time": "2023-11-23T12:49:56.084664200Z",
     "start_time": "2023-11-23T12:49:55.947959800Z"
    }
   },
   "outputs": [
    {
     "data": {
      "text/plain": "   info_1 info_2 feature_1   feature_2  feature_3  feature_4  feature_5  \\\n0    2560      W      male      Credit       1.52      -0.78       0.80   \n1     532      G    female     Deposit       3.12      -1.94      -2.24   \n2   10423      G      male  Investment       1.71      -1.65      -1.15   \n\n   feature_6  target_1  target_2 group  \n0       2.00      4.09      4.09  test  \n1       0.00     -1.59     -1.59  test  \n2       1.00      2.30      2.30  test  ",
      "text/html": "<div>\n<style scoped>\n    .dataframe tbody tr th:only-of-type {\n        vertical-align: middle;\n    }\n\n    .dataframe tbody tr th {\n        vertical-align: top;\n    }\n\n    .dataframe thead th {\n        text-align: right;\n    }\n</style>\n<table border=\"1\" class=\"dataframe\">\n  <thead>\n    <tr style=\"text-align: right;\">\n      <th></th>\n      <th>info_1</th>\n      <th>info_2</th>\n      <th>feature_1</th>\n      <th>feature_2</th>\n      <th>feature_3</th>\n      <th>feature_4</th>\n      <th>feature_5</th>\n      <th>feature_6</th>\n      <th>target_1</th>\n      <th>target_2</th>\n      <th>group</th>\n    </tr>\n  </thead>\n  <tbody>\n    <tr>\n      <th>0</th>\n      <td>2560</td>\n      <td>W</td>\n      <td>male</td>\n      <td>Credit</td>\n      <td>1.52</td>\n      <td>-0.78</td>\n      <td>0.80</td>\n      <td>2.00</td>\n      <td>4.09</td>\n      <td>4.09</td>\n      <td>test</td>\n    </tr>\n    <tr>\n      <th>1</th>\n      <td>532</td>\n      <td>G</td>\n      <td>female</td>\n      <td>Deposit</td>\n      <td>3.12</td>\n      <td>-1.94</td>\n      <td>-2.24</td>\n      <td>0.00</td>\n      <td>-1.59</td>\n      <td>-1.59</td>\n      <td>test</td>\n    </tr>\n    <tr>\n      <th>2</th>\n      <td>10423</td>\n      <td>G</td>\n      <td>male</td>\n      <td>Investment</td>\n      <td>1.71</td>\n      <td>-1.65</td>\n      <td>-1.15</td>\n      <td>1.00</td>\n      <td>2.30</td>\n      <td>2.30</td>\n      <td>test</td>\n    </tr>\n  </tbody>\n</table>\n</div>"
     },
     "execution_count": 19,
     "metadata": {},
     "output_type": "execute_result"
    }
   ],
   "source": [
    "dataset_ab = DataGenerator(num_targets=2, is_treatment=False)\n",
    "data_ab = dataset_ab.df.copy()\n",
    "half_data = int(dataset_ab.df.shape[0]/2)\n",
    "data_ab['group'] = ['test']*half_data + ['control']*half_data\n",
    "data_ab.head(3)"
   ]
  },
  {
   "cell_type": "markdown",
   "id": "690ceec5",
   "metadata": {},
   "source": [
    "### 3.1 Full AB-test\n",
    "\n",
    "Full (basic) version of test includes calculation of all available metrics, which are: \"diff in means\", \"diff in diff\" and \"cuped\"<br>\n",
    "Pay attention, that for \"cuped\" and \"diff in diff\" metrics requred target before pilot."
   ]
  },
  {
   "cell_type": "code",
   "execution_count": 21,
   "id": "4108a137",
   "metadata": {
    "ExecuteTime": {
     "end_time": "2023-11-23T12:50:09.781279Z",
     "start_time": "2023-11-23T12:50:09.718775900Z"
    }
   },
   "outputs": [
    {
     "data": {
      "text/plain": "{'size': {'test': 2500, 'control': 2500},\n 'difference': {'ate': 0.025658157433372093,\n  'cuped': -0.12723335811015196,\n  'diff_in_diff': -0.16500729426782224},\n 'p_value': {'t_test': 0.80048088853259, 'mann_whitney': 0.5701683822287207}}"
     },
     "execution_count": 21,
     "metadata": {},
     "output_type": "execute_result"
    }
   ],
   "source": [
    "model = ABTest()\n",
    "results = model.execute(\n",
    "    data=data_ab, \n",
    "    target_field=dataset_ab.target_names[1], \n",
    "    target_field_before=dataset_ab.target_names[0], \n",
    "    group_field='group'\n",
    ")\n",
    "results"
   ]
  },
  {
   "cell_type": "markdown",
   "id": "05487531",
   "metadata": {},
   "source": [
    "To see results in more convenient way `show_beautiful_result` can be used"
   ]
  },
  {
   "cell_type": "code",
   "execution_count": 22,
   "id": "9dd905e8",
   "metadata": {
    "ExecuteTime": {
     "end_time": "2023-11-23T12:50:11.563494900Z",
     "start_time": "2023-11-23T12:50:11.471966500Z"
    }
   },
   "outputs": [
    {
     "data": {
      "text/plain": "         size\ntest     2500\ncontrol  2500",
      "text/html": "<div>\n<style scoped>\n    .dataframe tbody tr th:only-of-type {\n        vertical-align: middle;\n    }\n\n    .dataframe tbody tr th {\n        vertical-align: top;\n    }\n\n    .dataframe thead th {\n        text-align: right;\n    }\n</style>\n<table border=\"1\" class=\"dataframe\">\n  <thead>\n    <tr style=\"text-align: right;\">\n      <th></th>\n      <th>size</th>\n    </tr>\n  </thead>\n  <tbody>\n    <tr>\n      <th>test</th>\n      <td>2500</td>\n    </tr>\n    <tr>\n      <th>control</th>\n      <td>2500</td>\n    </tr>\n  </tbody>\n</table>\n</div>"
     },
     "metadata": {},
     "output_type": "display_data"
    },
    {
     "data": {
      "text/plain": "              difference\nate                 0.03\ncuped              -0.13\ndiff_in_diff       -0.17",
      "text/html": "<div>\n<style scoped>\n    .dataframe tbody tr th:only-of-type {\n        vertical-align: middle;\n    }\n\n    .dataframe tbody tr th {\n        vertical-align: top;\n    }\n\n    .dataframe thead th {\n        text-align: right;\n    }\n</style>\n<table border=\"1\" class=\"dataframe\">\n  <thead>\n    <tr style=\"text-align: right;\">\n      <th></th>\n      <th>difference</th>\n    </tr>\n  </thead>\n  <tbody>\n    <tr>\n      <th>ate</th>\n      <td>0.03</td>\n    </tr>\n    <tr>\n      <th>cuped</th>\n      <td>-0.13</td>\n    </tr>\n    <tr>\n      <th>diff_in_diff</th>\n      <td>-0.17</td>\n    </tr>\n  </tbody>\n</table>\n</div>"
     },
     "metadata": {},
     "output_type": "display_data"
    },
    {
     "data": {
      "text/plain": "              p_value\nt_test           0.80\nmann_whitney     0.57",
      "text/html": "<div>\n<style scoped>\n    .dataframe tbody tr th:only-of-type {\n        vertical-align: middle;\n    }\n\n    .dataframe tbody tr th {\n        vertical-align: top;\n    }\n\n    .dataframe thead th {\n        text-align: right;\n    }\n</style>\n<table border=\"1\" class=\"dataframe\">\n  <thead>\n    <tr style=\"text-align: right;\">\n      <th></th>\n      <th>p_value</th>\n    </tr>\n  </thead>\n  <tbody>\n    <tr>\n      <th>t_test</th>\n      <td>0.80</td>\n    </tr>\n    <tr>\n      <th>mann_whitney</th>\n      <td>0.57</td>\n    </tr>\n  </tbody>\n</table>\n</div>"
     },
     "metadata": {},
     "output_type": "display_data"
    }
   ],
   "source": [
    "model.show_beautiful_result()"
   ]
  },
  {
   "cell_type": "markdown",
   "id": "ea252142",
   "metadata": {},
   "source": [
    "### 3.2 Simple AB-test\n",
    "To estimate effect without target data before pilot `calc_difference_method='ate'` can be used - effect will be estimated with \"diff in means\" method"
   ]
  },
  {
   "cell_type": "code",
   "execution_count": 24,
   "id": "0ab77779",
   "metadata": {
    "ExecuteTime": {
     "end_time": "2023-11-23T12:50:19.472297400Z",
     "start_time": "2023-11-23T12:50:19.420415200Z"
    }
   },
   "outputs": [
    {
     "data": {
      "text/plain": "         size\ntest     2500\ncontrol  2500",
      "text/html": "<div>\n<style scoped>\n    .dataframe tbody tr th:only-of-type {\n        vertical-align: middle;\n    }\n\n    .dataframe tbody tr th {\n        vertical-align: top;\n    }\n\n    .dataframe thead th {\n        text-align: right;\n    }\n</style>\n<table border=\"1\" class=\"dataframe\">\n  <thead>\n    <tr style=\"text-align: right;\">\n      <th></th>\n      <th>size</th>\n    </tr>\n  </thead>\n  <tbody>\n    <tr>\n      <th>test</th>\n      <td>2500</td>\n    </tr>\n    <tr>\n      <th>control</th>\n      <td>2500</td>\n    </tr>\n  </tbody>\n</table>\n</div>"
     },
     "metadata": {},
     "output_type": "display_data"
    },
    {
     "data": {
      "text/plain": "     difference\nate        0.19",
      "text/html": "<div>\n<style scoped>\n    .dataframe tbody tr th:only-of-type {\n        vertical-align: middle;\n    }\n\n    .dataframe tbody tr th {\n        vertical-align: top;\n    }\n\n    .dataframe thead th {\n        text-align: right;\n    }\n</style>\n<table border=\"1\" class=\"dataframe\">\n  <thead>\n    <tr style=\"text-align: right;\">\n      <th></th>\n      <th>difference</th>\n    </tr>\n  </thead>\n  <tbody>\n    <tr>\n      <th>ate</th>\n      <td>0.19</td>\n    </tr>\n  </tbody>\n</table>\n</div>"
     },
     "metadata": {},
     "output_type": "display_data"
    },
    {
     "data": {
      "text/plain": "              p_value\nt_test           0.06\nmann_whitney     0.13",
      "text/html": "<div>\n<style scoped>\n    .dataframe tbody tr th:only-of-type {\n        vertical-align: middle;\n    }\n\n    .dataframe tbody tr th {\n        vertical-align: top;\n    }\n\n    .dataframe thead th {\n        text-align: right;\n    }\n</style>\n<table border=\"1\" class=\"dataframe\">\n  <thead>\n    <tr style=\"text-align: right;\">\n      <th></th>\n      <th>p_value</th>\n    </tr>\n  </thead>\n  <tbody>\n    <tr>\n      <th>t_test</th>\n      <td>0.06</td>\n    </tr>\n    <tr>\n      <th>mann_whitney</th>\n      <td>0.13</td>\n    </tr>\n  </tbody>\n</table>\n</div>"
     },
     "metadata": {},
     "output_type": "display_data"
    }
   ],
   "source": [
    "model = ABTest(calc_difference_method='ate')\n",
    "model.execute(data=data_ab, target_field=dataset_ab.target_names[0], group_field='group')\n",
    "\n",
    "model.show_beautiful_result()"
   ]
  }
 ],
 "metadata": {
  "kernelspec": {
   "display_name": "Python 3 (ipykernel)",
   "language": "python",
   "name": "python3"
  },
  "language_info": {
   "codemirror_mode": {
    "name": "ipython",
    "version": 3
   },
   "file_extension": ".py",
   "mimetype": "text/x-python",
   "name": "python",
   "nbconvert_exporter": "python",
   "pygments_lexer": "ipython3",
   "version": "3.10.13"
  }
 },
 "nbformat": 4,
 "nbformat_minor": 5
}
