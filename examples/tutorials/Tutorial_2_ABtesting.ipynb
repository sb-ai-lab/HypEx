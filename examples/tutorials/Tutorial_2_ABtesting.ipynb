{
 "cells": [
  {
   "cell_type": "markdown",
   "id": "64e2de80",
   "metadata": {},
   "source": [
    "# Tutorial 2: How to perform AA and AB tests\n",
    "*AB-test is shown below*"
   ]
  },
  {
   "cell_type": "markdown",
   "id": "9f52ff79",
   "metadata": {},
   "source": [
    "## 0. Import Libraries"
   ]
  },
  {
   "cell_type": "code",
   "execution_count": 1,
   "id": "6c2c62f0",
   "metadata": {
    "ExecuteTime": {
     "end_time": "2023-11-23T11:19:47.066872300Z",
     "start_time": "2023-11-23T11:19:42.963626700Z"
    }
   },
   "outputs": [
    {
     "name": "stderr",
     "output_type": "stream",
     "text": [
      "C:\\Users\\User\\AppData\\Local\\Programs\\Python\\Python310\\lib\\site-packages\\tqdm\\auto.py:21: TqdmWarning: IProgress not found. Please update jupyter and ipywidgets. See https://ipywidgets.readthedocs.io/en/stable/user_install.html\n",
      "  from .autonotebook import tqdm as notebook_tqdm\n"
     ]
    }
   ],
   "source": [
    "import pandas as pd\n",
    "from hypex.ab_test.ab_tester import AATest, ABTest\n",
    "from hypex.dataset.dataset import Dataset\n",
    "\n",
    "pd.options.display.float_format = '{:,.2f}'.format"
   ]
  },
  {
   "cell_type": "markdown",
   "id": "2dca3eaa",
   "metadata": {},
   "source": [
    "## 1. Create or upload your dataset\n",
    "In this case we will create random dataset with known effect size  \n",
    "If you have your own dataset, go to the part 2 "
   ]
  },
  {
   "cell_type": "code",
   "execution_count": 2,
   "id": "7b655d2d",
   "metadata": {
    "ExecuteTime": {
     "end_time": "2023-11-23T11:19:47.138307600Z",
     "start_time": "2023-11-23T11:19:47.068883200Z"
    }
   },
   "outputs": [
    {
     "data": {
      "text/plain": "      info_col feature_col_1 feature_col_2  feature_col_3  feature_col_4  \\\n0         9217           NaN        Credit           1.18           2.00   \n1         6037          male           NaN           1.66           2.00   \n2        10774          male       Deposit           0.63           1.00   \n3        14344        female       Deposit          -0.75           1.00   \n4         1987        female       Deposit           0.74           3.00   \n...        ...           ...           ...            ...            ...   \n4995      5119          male    Investment           1.89           3.00   \n4996       520        female       Deposit           0.36           2.00   \n4997      9982        female       Deposit           0.05           2.00   \n4998     14329          male    Investment          -0.08           2.00   \n4999     11680          male    Investment          -0.28           3.00   \n\n      outcome  \n0        5.51  \n1        7.76  \n2        5.01  \n3        0.67  \n4        3.87  \n...       ...  \n4995     9.64  \n4996     2.64  \n4997     4.57  \n4998     1.18  \n4999     4.43  \n\n[5000 rows x 6 columns]",
      "text/html": "<div>\n<style scoped>\n    .dataframe tbody tr th:only-of-type {\n        vertical-align: middle;\n    }\n\n    .dataframe tbody tr th {\n        vertical-align: top;\n    }\n\n    .dataframe thead th {\n        text-align: right;\n    }\n</style>\n<table border=\"1\" class=\"dataframe\">\n  <thead>\n    <tr style=\"text-align: right;\">\n      <th></th>\n      <th>info_col</th>\n      <th>feature_col_1</th>\n      <th>feature_col_2</th>\n      <th>feature_col_3</th>\n      <th>feature_col_4</th>\n      <th>outcome</th>\n    </tr>\n  </thead>\n  <tbody>\n    <tr>\n      <th>0</th>\n      <td>9217</td>\n      <td>NaN</td>\n      <td>Credit</td>\n      <td>1.18</td>\n      <td>2.00</td>\n      <td>5.51</td>\n    </tr>\n    <tr>\n      <th>1</th>\n      <td>6037</td>\n      <td>male</td>\n      <td>NaN</td>\n      <td>1.66</td>\n      <td>2.00</td>\n      <td>7.76</td>\n    </tr>\n    <tr>\n      <th>2</th>\n      <td>10774</td>\n      <td>male</td>\n      <td>Deposit</td>\n      <td>0.63</td>\n      <td>1.00</td>\n      <td>5.01</td>\n    </tr>\n    <tr>\n      <th>3</th>\n      <td>14344</td>\n      <td>female</td>\n      <td>Deposit</td>\n      <td>-0.75</td>\n      <td>1.00</td>\n      <td>0.67</td>\n    </tr>\n    <tr>\n      <th>4</th>\n      <td>1987</td>\n      <td>female</td>\n      <td>Deposit</td>\n      <td>0.74</td>\n      <td>3.00</td>\n      <td>3.87</td>\n    </tr>\n    <tr>\n      <th>...</th>\n      <td>...</td>\n      <td>...</td>\n      <td>...</td>\n      <td>...</td>\n      <td>...</td>\n      <td>...</td>\n    </tr>\n    <tr>\n      <th>4995</th>\n      <td>5119</td>\n      <td>male</td>\n      <td>Investment</td>\n      <td>1.89</td>\n      <td>3.00</td>\n      <td>9.64</td>\n    </tr>\n    <tr>\n      <th>4996</th>\n      <td>520</td>\n      <td>female</td>\n      <td>Deposit</td>\n      <td>0.36</td>\n      <td>2.00</td>\n      <td>2.64</td>\n    </tr>\n    <tr>\n      <th>4997</th>\n      <td>9982</td>\n      <td>female</td>\n      <td>Deposit</td>\n      <td>0.05</td>\n      <td>2.00</td>\n      <td>4.57</td>\n    </tr>\n    <tr>\n      <th>4998</th>\n      <td>14329</td>\n      <td>male</td>\n      <td>Investment</td>\n      <td>-0.08</td>\n      <td>2.00</td>\n      <td>1.18</td>\n    </tr>\n    <tr>\n      <th>4999</th>\n      <td>11680</td>\n      <td>male</td>\n      <td>Investment</td>\n      <td>-0.28</td>\n      <td>3.00</td>\n      <td>4.43</td>\n    </tr>\n  </tbody>\n</table>\n<p>5000 rows × 6 columns</p>\n</div>"
     },
     "execution_count": 2,
     "metadata": {},
     "output_type": "execute_result"
    }
   ],
   "source": [
    "data = Dataset(is_treatment=False, na_columns=['feature_col_1', 'feature_col_2'], \n",
    "               num_info_cols=1, num_main_causes_cols=2)\n",
    "data.df"
   ]
  },
  {
   "cell_type": "markdown",
   "id": "a0402e83",
   "metadata": {},
   "source": [
    "## 2. AATest "
   ]
  },
  {
   "cell_type": "markdown",
   "id": "b3733f84",
   "metadata": {},
   "source": [
    "### 2.0 Initialize parameters\n",
    "`info_col` used to define informative attributes that should NOT be part of testing, such as user_id and signup_month <br>"
   ]
  },
  {
   "cell_type": "code",
   "execution_count": 3,
   "id": "bc8e4ac0",
   "metadata": {
    "ExecuteTime": {
     "end_time": "2023-11-23T11:19:47.180406700Z",
     "start_time": "2023-11-23T11:19:47.132033500Z"
    }
   },
   "outputs": [],
   "source": [
    "info_cols = data.info_col_names[0]\n",
    "target = data.outcome_name[0]"
   ]
  },
  {
   "cell_type": "markdown",
   "id": "75c196ea",
   "metadata": {},
   "source": [
    "### 2.1 Simple AA-test\n",
    "This is the easiest way to initialize and calculate metrics on a AA-test (default - on 10 iterations)<br>\n",
    "Use it when you are clear about each attribute or if you don't have any additional task conditions (like grouping)"
   ]
  },
  {
   "cell_type": "code",
   "execution_count": 4,
   "id": "701d20c0",
   "metadata": {
    "ExecuteTime": {
     "end_time": "2023-11-23T11:19:47.307912700Z",
     "start_time": "2023-11-23T11:19:47.151189600Z"
    }
   },
   "outputs": [],
   "source": [
    "experiment = AATest(info_cols=info_cols, target_fields=target)"
   ]
  },
  {
   "cell_type": "code",
   "execution_count": 5,
   "id": "a3d70bf6",
   "metadata": {
    "ExecuteTime": {
     "end_time": "2023-11-23T11:19:50.440348600Z",
     "start_time": "2023-11-23T11:19:49.595977800Z"
    }
   },
   "outputs": [
    {
     "name": "stderr",
     "output_type": "stream",
     "text": [
      "100%|██████████| 10/10 [00:00<00:00, 15.96it/s]\n"
     ]
    }
   ],
   "source": [
    "experiment_result, dict_of_datas = experiment.search_dist_uniform_sampling(data.df, iterations=10)"
   ]
  },
  {
   "cell_type": "markdown",
   "id": "5b519654",
   "metadata": {},
   "source": [
    "`experiment_result` is a table of results of experiments, which includes \n",
    "- means of all targets in a and b samples, \n",
    "- p_values of Student t-test and test Kolmogorova-Smirnova, \n",
    "- and results of tests (did data on the random_state passes the uniform test)"
   ]
  },
  {
   "cell_type": "code",
   "execution_count": 6,
   "id": "2adb8cdd",
   "metadata": {
    "ExecuteTime": {
     "end_time": "2023-11-23T11:19:54.171712700Z",
     "start_time": "2023-11-23T11:19:54.074069700Z"
    }
   },
   "outputs": [
    {
     "data": {
      "text/plain": "   random_state  outcome a mean  outcome b mean  outcome ab delta  \\\n0             0            3.41            3.46              0.05   \n1             1            3.40            3.47              0.07   \n2             2            3.43            3.43             -0.00   \n\n   outcome ab delta %  outcome t_test p_value  outcome ks_test p_value  \\\n0                1.34                    0.58                     0.83   \n1                1.88                    0.44                     0.43   \n2               -0.00                    1.00                     0.72   \n\n   outcome t_test passed  outcome ks_test passed  mean_tests_score  \n0                   True                    True              0.71  \n1                   True                    True              0.43  \n2                   True                    True              0.86  ",
      "text/html": "<div>\n<style scoped>\n    .dataframe tbody tr th:only-of-type {\n        vertical-align: middle;\n    }\n\n    .dataframe tbody tr th {\n        vertical-align: top;\n    }\n\n    .dataframe thead th {\n        text-align: right;\n    }\n</style>\n<table border=\"1\" class=\"dataframe\">\n  <thead>\n    <tr style=\"text-align: right;\">\n      <th></th>\n      <th>random_state</th>\n      <th>outcome a mean</th>\n      <th>outcome b mean</th>\n      <th>outcome ab delta</th>\n      <th>outcome ab delta %</th>\n      <th>outcome t_test p_value</th>\n      <th>outcome ks_test p_value</th>\n      <th>outcome t_test passed</th>\n      <th>outcome ks_test passed</th>\n      <th>mean_tests_score</th>\n    </tr>\n  </thead>\n  <tbody>\n    <tr>\n      <th>0</th>\n      <td>0</td>\n      <td>3.41</td>\n      <td>3.46</td>\n      <td>0.05</td>\n      <td>1.34</td>\n      <td>0.58</td>\n      <td>0.83</td>\n      <td>True</td>\n      <td>True</td>\n      <td>0.71</td>\n    </tr>\n    <tr>\n      <th>1</th>\n      <td>1</td>\n      <td>3.40</td>\n      <td>3.47</td>\n      <td>0.07</td>\n      <td>1.88</td>\n      <td>0.44</td>\n      <td>0.43</td>\n      <td>True</td>\n      <td>True</td>\n      <td>0.43</td>\n    </tr>\n    <tr>\n      <th>2</th>\n      <td>2</td>\n      <td>3.43</td>\n      <td>3.43</td>\n      <td>-0.00</td>\n      <td>-0.00</td>\n      <td>1.00</td>\n      <td>0.72</td>\n      <td>True</td>\n      <td>True</td>\n      <td>0.86</td>\n    </tr>\n  </tbody>\n</table>\n</div>"
     },
     "execution_count": 6,
     "metadata": {},
     "output_type": "execute_result"
    }
   ],
   "source": [
    "experiment_result.head(3)"
   ]
  },
  {
   "cell_type": "markdown",
   "id": "d9f415c2",
   "metadata": {},
   "source": [
    "`dict_of_datas` is a dictionary with random_states as keys and dataframes as values.<br>\n",
    "Result of separation can be find in column 'group', it contains values 'test' and 'control'"
   ]
  },
  {
   "cell_type": "code",
   "execution_count": 7,
   "id": "cac4e650",
   "metadata": {
    "ExecuteTime": {
     "end_time": "2023-11-23T11:19:56.740370400Z",
     "start_time": "2023-11-23T11:19:56.602404600Z"
    }
   },
   "outputs": [
    {
     "data": {
      "text/plain": "   info_col feature_col_1 feature_col_2  feature_col_3  feature_col_4  \\\n0      6037          male           NaN           1.66           2.00   \n1     10774          male       Deposit           0.63           1.00   \n2     14344        female       Deposit          -0.75           1.00   \n\n   outcome group  \n0     7.76  test  \n1     5.01  test  \n2     0.67  test  ",
      "text/html": "<div>\n<style scoped>\n    .dataframe tbody tr th:only-of-type {\n        vertical-align: middle;\n    }\n\n    .dataframe tbody tr th {\n        vertical-align: top;\n    }\n\n    .dataframe thead th {\n        text-align: right;\n    }\n</style>\n<table border=\"1\" class=\"dataframe\">\n  <thead>\n    <tr style=\"text-align: right;\">\n      <th></th>\n      <th>info_col</th>\n      <th>feature_col_1</th>\n      <th>feature_col_2</th>\n      <th>feature_col_3</th>\n      <th>feature_col_4</th>\n      <th>outcome</th>\n      <th>group</th>\n    </tr>\n  </thead>\n  <tbody>\n    <tr>\n      <th>0</th>\n      <td>6037</td>\n      <td>male</td>\n      <td>NaN</td>\n      <td>1.66</td>\n      <td>2.00</td>\n      <td>7.76</td>\n      <td>test</td>\n    </tr>\n    <tr>\n      <th>1</th>\n      <td>10774</td>\n      <td>male</td>\n      <td>Deposit</td>\n      <td>0.63</td>\n      <td>1.00</td>\n      <td>5.01</td>\n      <td>test</td>\n    </tr>\n    <tr>\n      <th>2</th>\n      <td>14344</td>\n      <td>female</td>\n      <td>Deposit</td>\n      <td>-0.75</td>\n      <td>1.00</td>\n      <td>0.67</td>\n      <td>test</td>\n    </tr>\n  </tbody>\n</table>\n</div>"
     },
     "execution_count": 7,
     "metadata": {},
     "output_type": "execute_result"
    }
   ],
   "source": [
    "dict_of_datas[0].head(3)"
   ]
  },
  {
   "cell_type": "markdown",
   "id": "c277b0b9",
   "metadata": {},
   "source": [
    "#### - Single experiment\n",
    "To get stable results lets fix `random_state`"
   ]
  },
  {
   "cell_type": "code",
   "execution_count": 8,
   "id": "01265e9e",
   "metadata": {
    "ExecuteTime": {
     "end_time": "2023-11-23T11:19:59.445720200Z",
     "start_time": "2023-11-23T11:19:59.380478Z"
    }
   },
   "outputs": [],
   "source": [
    "random_state = 11"
   ]
  },
  {
   "cell_type": "markdown",
   "id": "c4a1cd70",
   "metadata": {},
   "source": [
    "To perform single experiment you can use `sampling_metrics()`"
   ]
  },
  {
   "cell_type": "code",
   "execution_count": 9,
   "id": "6f1a8cf6",
   "metadata": {
    "ExecuteTime": {
     "end_time": "2023-11-23T11:20:00.889953800Z",
     "start_time": "2023-11-23T11:20:00.804030500Z"
    }
   },
   "outputs": [],
   "source": [
    "experiment = AATest(info_cols=info_cols, target_fields=target)\n",
    "metrics, dict_of_datas = experiment.sampling_metrics(data=data.df, random_state=random_state).values()"
   ]
  },
  {
   "cell_type": "markdown",
   "id": "4971e2e8",
   "metadata": {},
   "source": [
    "The results contains the same info as in multisampling, but on one experiment"
   ]
  },
  {
   "cell_type": "code",
   "execution_count": 10,
   "id": "bad5e42e",
   "metadata": {
    "scrolled": true,
    "ExecuteTime": {
     "end_time": "2023-11-23T11:20:02.295027800Z",
     "start_time": "2023-11-23T11:20:02.174404200Z"
    }
   },
   "outputs": [
    {
     "data": {
      "text/plain": "{'random_state': 11,\n 'outcome a mean': 3.4351840768250046,\n 'outcome b mean': 3.4327940853777283,\n 'outcome ab delta': -0.002389991447276252,\n 'outcome ab delta %': -0.0696223364359927,\n 'outcome t_test p_value': 0.9774393174825711,\n 'outcome ks_test p_value': 0.9062946363493458,\n 'outcome t_test passed': True,\n 'outcome ks_test passed': True,\n 'mean_tests_score': 0.9418669769159584}"
     },
     "execution_count": 10,
     "metadata": {},
     "output_type": "execute_result"
    }
   ],
   "source": [
    "metrics"
   ]
  },
  {
   "cell_type": "code",
   "execution_count": 11,
   "id": "a9c3c513",
   "metadata": {
    "ExecuteTime": {
     "end_time": "2023-11-23T11:20:03.612354200Z",
     "start_time": "2023-11-23T11:20:03.501899100Z"
    }
   },
   "outputs": [
    {
     "data": {
      "text/plain": "      info_col feature_col_1 feature_col_2  feature_col_3  feature_col_4  \\\n0         6037          male           NaN           1.66           2.00   \n1        10774          male       Deposit           0.63           1.00   \n2         9295        female    Investment          -1.72           1.00   \n3         5191          male       Deposit          -0.34           3.00   \n4        11497          male           NaN          -0.21           1.00   \n...        ...           ...           ...            ...            ...   \n4995      6229          male    Investment          -1.50           3.00   \n4996      3970        female        Credit           0.55           3.00   \n4997      6634        female           NaN           0.53           2.00   \n4998     13213        female       Deposit           0.84           1.00   \n4999     11680          male    Investment          -0.28           3.00   \n\n      outcome    group  \n0        7.76     test  \n1        5.01     test  \n2       -0.76     test  \n3        6.94     test  \n4       -0.78     test  \n...       ...      ...  \n4995     1.56  control  \n4996     8.27  control  \n4997     2.91  control  \n4998     4.85  control  \n4999     4.43  control  \n\n[5000 rows x 7 columns]",
      "text/html": "<div>\n<style scoped>\n    .dataframe tbody tr th:only-of-type {\n        vertical-align: middle;\n    }\n\n    .dataframe tbody tr th {\n        vertical-align: top;\n    }\n\n    .dataframe thead th {\n        text-align: right;\n    }\n</style>\n<table border=\"1\" class=\"dataframe\">\n  <thead>\n    <tr style=\"text-align: right;\">\n      <th></th>\n      <th>info_col</th>\n      <th>feature_col_1</th>\n      <th>feature_col_2</th>\n      <th>feature_col_3</th>\n      <th>feature_col_4</th>\n      <th>outcome</th>\n      <th>group</th>\n    </tr>\n  </thead>\n  <tbody>\n    <tr>\n      <th>0</th>\n      <td>6037</td>\n      <td>male</td>\n      <td>NaN</td>\n      <td>1.66</td>\n      <td>2.00</td>\n      <td>7.76</td>\n      <td>test</td>\n    </tr>\n    <tr>\n      <th>1</th>\n      <td>10774</td>\n      <td>male</td>\n      <td>Deposit</td>\n      <td>0.63</td>\n      <td>1.00</td>\n      <td>5.01</td>\n      <td>test</td>\n    </tr>\n    <tr>\n      <th>2</th>\n      <td>9295</td>\n      <td>female</td>\n      <td>Investment</td>\n      <td>-1.72</td>\n      <td>1.00</td>\n      <td>-0.76</td>\n      <td>test</td>\n    </tr>\n    <tr>\n      <th>3</th>\n      <td>5191</td>\n      <td>male</td>\n      <td>Deposit</td>\n      <td>-0.34</td>\n      <td>3.00</td>\n      <td>6.94</td>\n      <td>test</td>\n    </tr>\n    <tr>\n      <th>4</th>\n      <td>11497</td>\n      <td>male</td>\n      <td>NaN</td>\n      <td>-0.21</td>\n      <td>1.00</td>\n      <td>-0.78</td>\n      <td>test</td>\n    </tr>\n    <tr>\n      <th>...</th>\n      <td>...</td>\n      <td>...</td>\n      <td>...</td>\n      <td>...</td>\n      <td>...</td>\n      <td>...</td>\n      <td>...</td>\n    </tr>\n    <tr>\n      <th>4995</th>\n      <td>6229</td>\n      <td>male</td>\n      <td>Investment</td>\n      <td>-1.50</td>\n      <td>3.00</td>\n      <td>1.56</td>\n      <td>control</td>\n    </tr>\n    <tr>\n      <th>4996</th>\n      <td>3970</td>\n      <td>female</td>\n      <td>Credit</td>\n      <td>0.55</td>\n      <td>3.00</td>\n      <td>8.27</td>\n      <td>control</td>\n    </tr>\n    <tr>\n      <th>4997</th>\n      <td>6634</td>\n      <td>female</td>\n      <td>NaN</td>\n      <td>0.53</td>\n      <td>2.00</td>\n      <td>2.91</td>\n      <td>control</td>\n    </tr>\n    <tr>\n      <th>4998</th>\n      <td>13213</td>\n      <td>female</td>\n      <td>Deposit</td>\n      <td>0.84</td>\n      <td>1.00</td>\n      <td>4.85</td>\n      <td>control</td>\n    </tr>\n    <tr>\n      <th>4999</th>\n      <td>11680</td>\n      <td>male</td>\n      <td>Investment</td>\n      <td>-0.28</td>\n      <td>3.00</td>\n      <td>4.43</td>\n      <td>control</td>\n    </tr>\n  </tbody>\n</table>\n<p>5000 rows × 7 columns</p>\n</div>"
     },
     "execution_count": 11,
     "metadata": {},
     "output_type": "execute_result"
    }
   ],
   "source": [
    "dict_of_datas[random_state]"
   ]
  },
  {
   "cell_type": "markdown",
   "id": "5017639b",
   "metadata": {},
   "source": [
    "### 2.2 AA-test with grouping"
   ]
  },
  {
   "cell_type": "markdown",
   "id": "e3a32245",
   "metadata": {},
   "source": [
    "To perform experiment that separates samples by groups `group_col` can be used"
   ]
  },
  {
   "cell_type": "code",
   "execution_count": 12,
   "id": "2fba205a",
   "metadata": {
    "ExecuteTime": {
     "end_time": "2023-11-23T11:20:09.997576400Z",
     "start_time": "2023-11-23T11:20:09.966646600Z"
    }
   },
   "outputs": [],
   "source": [
    "info_cols = data.info_col_names[0]\n",
    "target = data.outcome_name[0]\n",
    "\n",
    "group_cols = 'feature_col_2'"
   ]
  },
  {
   "cell_type": "code",
   "execution_count": 13,
   "id": "b5896bf8",
   "metadata": {
    "ExecuteTime": {
     "end_time": "2023-11-23T11:20:10.856720200Z",
     "start_time": "2023-11-23T11:20:10.796443500Z"
    }
   },
   "outputs": [],
   "source": [
    "experiment = AATest(info_cols=info_cols, target_fields=target, group_cols=group_cols)"
   ]
  },
  {
   "cell_type": "code",
   "execution_count": 14,
   "id": "6155253f",
   "metadata": {
    "ExecuteTime": {
     "end_time": "2023-11-23T11:20:12.547162200Z",
     "start_time": "2023-11-23T11:20:11.980900600Z"
    }
   },
   "outputs": [
    {
     "name": "stderr",
     "output_type": "stream",
     "text": [
      "100%|██████████| 10/10 [00:00<00:00, 22.86it/s]\n"
     ]
    }
   ],
   "source": [
    "experiment_result, dict_of_datas = experiment.search_dist_uniform_sampling(data=data.df)"
   ]
  },
  {
   "cell_type": "markdown",
   "id": "45f18b03",
   "metadata": {},
   "source": [
    "The result is in the same format as without groups\n",
    "\n",
    "In this regime groups equally divided on each sample (test and control):"
   ]
  },
  {
   "cell_type": "code",
   "execution_count": 16,
   "id": "520ed05c",
   "metadata": {
    "ExecuteTime": {
     "end_time": "2023-11-23T11:20:45.936112300Z",
     "start_time": "2023-11-23T11:20:45.886090Z"
    }
   },
   "outputs": [
    {
     "data": {
      "text/plain": "                       info_col\nfeature_col_2 group            \nCredit        control       728\n              test          728\nDeposit       control       767\n              test          767\nInvestment    control       755\n              test          755",
      "text/html": "<div>\n<style scoped>\n    .dataframe tbody tr th:only-of-type {\n        vertical-align: middle;\n    }\n\n    .dataframe tbody tr th {\n        vertical-align: top;\n    }\n\n    .dataframe thead th {\n        text-align: right;\n    }\n</style>\n<table border=\"1\" class=\"dataframe\">\n  <thead>\n    <tr style=\"text-align: right;\">\n      <th></th>\n      <th></th>\n      <th>info_col</th>\n    </tr>\n    <tr>\n      <th>feature_col_2</th>\n      <th>group</th>\n      <th></th>\n    </tr>\n  </thead>\n  <tbody>\n    <tr>\n      <th rowspan=\"2\" valign=\"top\">Credit</th>\n      <th>control</th>\n      <td>728</td>\n    </tr>\n    <tr>\n      <th>test</th>\n      <td>728</td>\n    </tr>\n    <tr>\n      <th rowspan=\"2\" valign=\"top\">Deposit</th>\n      <th>control</th>\n      <td>767</td>\n    </tr>\n    <tr>\n      <th>test</th>\n      <td>767</td>\n    </tr>\n    <tr>\n      <th rowspan=\"2\" valign=\"top\">Investment</th>\n      <th>control</th>\n      <td>755</td>\n    </tr>\n    <tr>\n      <th>test</th>\n      <td>755</td>\n    </tr>\n  </tbody>\n</table>\n</div>"
     },
     "execution_count": 16,
     "metadata": {},
     "output_type": "execute_result"
    }
   ],
   "source": [
    "dict_of_datas[0].groupby(['feature_col_2', 'group'])[['info_col']].count()"
   ]
  },
  {
   "cell_type": "markdown",
   "id": "d87c9442",
   "metadata": {},
   "source": [
    "## 3. AB-test"
   ]
  },
  {
   "cell_type": "markdown",
   "id": "0bb6fece",
   "metadata": {},
   "source": [
    "### 3.0 Data\n",
    "Lets correct data to see how AB-test works"
   ]
  },
  {
   "cell_type": "code",
   "execution_count": 17,
   "id": "6f5a8a1f",
   "metadata": {
    "ExecuteTime": {
     "end_time": "2023-11-23T11:21:02.258704900Z",
     "start_time": "2023-11-23T11:21:02.193837500Z"
    }
   },
   "outputs": [
    {
     "data": {
      "text/plain": "   info_col_1 info_col_2 feature_col_1 feature_col_2  feature_col_3  \\\n0       11056          A          male        Credit           1.30   \n1       11416          A        female        Credit          -0.49   \n2       11602          F        female        Credit          -1.47   \n\n   feature_col_4  feature_col_5  feature_col_6  outcome_1  outcome_2 group  \n0           2.48          -0.52           3.00       6.32       6.32  test  \n1           0.43          -0.85           0.00      -2.18      -1.49  test  \n2           2.02          -1.40           0.00       0.93       0.93  test  ",
      "text/html": "<div>\n<style scoped>\n    .dataframe tbody tr th:only-of-type {\n        vertical-align: middle;\n    }\n\n    .dataframe tbody tr th {\n        vertical-align: top;\n    }\n\n    .dataframe thead th {\n        text-align: right;\n    }\n</style>\n<table border=\"1\" class=\"dataframe\">\n  <thead>\n    <tr style=\"text-align: right;\">\n      <th></th>\n      <th>info_col_1</th>\n      <th>info_col_2</th>\n      <th>feature_col_1</th>\n      <th>feature_col_2</th>\n      <th>feature_col_3</th>\n      <th>feature_col_4</th>\n      <th>feature_col_5</th>\n      <th>feature_col_6</th>\n      <th>outcome_1</th>\n      <th>outcome_2</th>\n      <th>group</th>\n    </tr>\n  </thead>\n  <tbody>\n    <tr>\n      <th>0</th>\n      <td>11056</td>\n      <td>A</td>\n      <td>male</td>\n      <td>Credit</td>\n      <td>1.30</td>\n      <td>2.48</td>\n      <td>-0.52</td>\n      <td>3.00</td>\n      <td>6.32</td>\n      <td>6.32</td>\n      <td>test</td>\n    </tr>\n    <tr>\n      <th>1</th>\n      <td>11416</td>\n      <td>A</td>\n      <td>female</td>\n      <td>Credit</td>\n      <td>-0.49</td>\n      <td>0.43</td>\n      <td>-0.85</td>\n      <td>0.00</td>\n      <td>-2.18</td>\n      <td>-1.49</td>\n      <td>test</td>\n    </tr>\n    <tr>\n      <th>2</th>\n      <td>11602</td>\n      <td>F</td>\n      <td>female</td>\n      <td>Credit</td>\n      <td>-1.47</td>\n      <td>2.02</td>\n      <td>-1.40</td>\n      <td>0.00</td>\n      <td>0.93</td>\n      <td>0.93</td>\n      <td>test</td>\n    </tr>\n  </tbody>\n</table>\n</div>"
     },
     "execution_count": 17,
     "metadata": {},
     "output_type": "execute_result"
    }
   ],
   "source": [
    "dataset_ab = Dataset(num_outcomes=2, is_treatment=False)\n",
    "data_ab = dataset_ab.df.copy()\n",
    "half_data = int(dataset_ab.df.shape[0]/2)\n",
    "data_ab['group'] = ['test']*half_data + ['control']*half_data\n",
    "data_ab.head(3)"
   ]
  },
  {
   "cell_type": "markdown",
   "id": "690ceec5",
   "metadata": {},
   "source": [
    "### 3.1 Full AB-test\n",
    "\n",
    "Full (basic) version of test includes calculation of all available metrics, which are: \"diff in means\", \"diff in diff\" and \"cuped\"<br>\n",
    "Pay attention, that for \"cuped\" and \"diff in diff\" metrics requred target before pilot."
   ]
  },
  {
   "cell_type": "code",
   "execution_count": 18,
   "id": "4108a137",
   "metadata": {
    "ExecuteTime": {
     "end_time": "2023-11-23T11:21:04.957999600Z",
     "start_time": "2023-11-23T11:21:04.853703500Z"
    }
   },
   "outputs": [
    {
     "data": {
      "text/plain": "{'size': {'test': 2500, 'control': 2500},\n 'difference': {'ate': -0.033053330033714676,\n  'cuped': -0.007325100014748093,\n  'diff_in_diff': -0.0022962851872462275},\n 'p_value': {'t_test': 0.7396299733540724, 'mann_whitney': 0.8476875465382554}}"
     },
     "execution_count": 18,
     "metadata": {},
     "output_type": "execute_result"
    }
   ],
   "source": [
    "model = ABTest()\n",
    "results = model.execute(\n",
    "    data=data_ab, \n",
    "    target_field=dataset_ab.outcome_name[1], \n",
    "    target_field_before=dataset_ab.outcome_name[0], \n",
    "    group_field='group'\n",
    ")\n",
    "results"
   ]
  },
  {
   "cell_type": "markdown",
   "id": "05487531",
   "metadata": {},
   "source": [
    "To see results in more convenient way `show_beautiful_result` can be used"
   ]
  },
  {
   "cell_type": "code",
   "execution_count": 19,
   "id": "9dd905e8",
   "metadata": {
    "ExecuteTime": {
     "end_time": "2023-11-23T11:21:07.264418100Z",
     "start_time": "2023-11-23T11:21:07.166349100Z"
    }
   },
   "outputs": [
    {
     "data": {
      "text/plain": "         size\ntest     2500\ncontrol  2500",
      "text/html": "<div>\n<style scoped>\n    .dataframe tbody tr th:only-of-type {\n        vertical-align: middle;\n    }\n\n    .dataframe tbody tr th {\n        vertical-align: top;\n    }\n\n    .dataframe thead th {\n        text-align: right;\n    }\n</style>\n<table border=\"1\" class=\"dataframe\">\n  <thead>\n    <tr style=\"text-align: right;\">\n      <th></th>\n      <th>size</th>\n    </tr>\n  </thead>\n  <tbody>\n    <tr>\n      <th>test</th>\n      <td>2500</td>\n    </tr>\n    <tr>\n      <th>control</th>\n      <td>2500</td>\n    </tr>\n  </tbody>\n</table>\n</div>"
     },
     "metadata": {},
     "output_type": "display_data"
    },
    {
     "data": {
      "text/plain": "              difference\nate                -0.03\ncuped              -0.01\ndiff_in_diff       -0.00",
      "text/html": "<div>\n<style scoped>\n    .dataframe tbody tr th:only-of-type {\n        vertical-align: middle;\n    }\n\n    .dataframe tbody tr th {\n        vertical-align: top;\n    }\n\n    .dataframe thead th {\n        text-align: right;\n    }\n</style>\n<table border=\"1\" class=\"dataframe\">\n  <thead>\n    <tr style=\"text-align: right;\">\n      <th></th>\n      <th>difference</th>\n    </tr>\n  </thead>\n  <tbody>\n    <tr>\n      <th>ate</th>\n      <td>-0.03</td>\n    </tr>\n    <tr>\n      <th>cuped</th>\n      <td>-0.01</td>\n    </tr>\n    <tr>\n      <th>diff_in_diff</th>\n      <td>-0.00</td>\n    </tr>\n  </tbody>\n</table>\n</div>"
     },
     "metadata": {},
     "output_type": "display_data"
    },
    {
     "data": {
      "text/plain": "              p_value\nt_test           0.74\nmann_whitney     0.85",
      "text/html": "<div>\n<style scoped>\n    .dataframe tbody tr th:only-of-type {\n        vertical-align: middle;\n    }\n\n    .dataframe tbody tr th {\n        vertical-align: top;\n    }\n\n    .dataframe thead th {\n        text-align: right;\n    }\n</style>\n<table border=\"1\" class=\"dataframe\">\n  <thead>\n    <tr style=\"text-align: right;\">\n      <th></th>\n      <th>p_value</th>\n    </tr>\n  </thead>\n  <tbody>\n    <tr>\n      <th>t_test</th>\n      <td>0.74</td>\n    </tr>\n    <tr>\n      <th>mann_whitney</th>\n      <td>0.85</td>\n    </tr>\n  </tbody>\n</table>\n</div>"
     },
     "metadata": {},
     "output_type": "display_data"
    }
   ],
   "source": [
    "model.show_beautiful_result()"
   ]
  },
  {
   "cell_type": "markdown",
   "id": "ea252142",
   "metadata": {},
   "source": [
    "### 3.2 Simple AB-test\n",
    "To estimate effect without target data before pilot `calc_difference_method='ate'` can be used - effect will be estimated with \"diff in means\" method"
   ]
  },
  {
   "cell_type": "code",
   "execution_count": 20,
   "id": "0ab77779",
   "metadata": {
    "ExecuteTime": {
     "end_time": "2023-11-23T11:21:12.336477500Z",
     "start_time": "2023-11-23T11:21:11.257911500Z"
    }
   },
   "outputs": [
    {
     "data": {
      "text/plain": "         size\ntest     2500\ncontrol  2500",
      "text/html": "<div>\n<style scoped>\n    .dataframe tbody tr th:only-of-type {\n        vertical-align: middle;\n    }\n\n    .dataframe tbody tr th {\n        vertical-align: top;\n    }\n\n    .dataframe thead th {\n        text-align: right;\n    }\n</style>\n<table border=\"1\" class=\"dataframe\">\n  <thead>\n    <tr style=\"text-align: right;\">\n      <th></th>\n      <th>size</th>\n    </tr>\n  </thead>\n  <tbody>\n    <tr>\n      <th>test</th>\n      <td>2500</td>\n    </tr>\n    <tr>\n      <th>control</th>\n      <td>2500</td>\n    </tr>\n  </tbody>\n</table>\n</div>"
     },
     "metadata": {},
     "output_type": "display_data"
    },
    {
     "data": {
      "text/plain": "     difference\nate       -0.03",
      "text/html": "<div>\n<style scoped>\n    .dataframe tbody tr th:only-of-type {\n        vertical-align: middle;\n    }\n\n    .dataframe tbody tr th {\n        vertical-align: top;\n    }\n\n    .dataframe thead th {\n        text-align: right;\n    }\n</style>\n<table border=\"1\" class=\"dataframe\">\n  <thead>\n    <tr style=\"text-align: right;\">\n      <th></th>\n      <th>difference</th>\n    </tr>\n  </thead>\n  <tbody>\n    <tr>\n      <th>ate</th>\n      <td>-0.03</td>\n    </tr>\n  </tbody>\n</table>\n</div>"
     },
     "metadata": {},
     "output_type": "display_data"
    },
    {
     "data": {
      "text/plain": "              p_value\nt_test           0.76\nmann_whitney     0.96",
      "text/html": "<div>\n<style scoped>\n    .dataframe tbody tr th:only-of-type {\n        vertical-align: middle;\n    }\n\n    .dataframe tbody tr th {\n        vertical-align: top;\n    }\n\n    .dataframe thead th {\n        text-align: right;\n    }\n</style>\n<table border=\"1\" class=\"dataframe\">\n  <thead>\n    <tr style=\"text-align: right;\">\n      <th></th>\n      <th>p_value</th>\n    </tr>\n  </thead>\n  <tbody>\n    <tr>\n      <th>t_test</th>\n      <td>0.76</td>\n    </tr>\n    <tr>\n      <th>mann_whitney</th>\n      <td>0.96</td>\n    </tr>\n  </tbody>\n</table>\n</div>"
     },
     "metadata": {},
     "output_type": "display_data"
    }
   ],
   "source": [
    "model = ABTest(calc_difference_method='ate')\n",
    "model.execute(data=data_ab, target_field=dataset_ab.outcome_name[0], group_field='group')\n",
    "\n",
    "model.show_beautiful_result()"
   ]
  }
 ],
 "metadata": {
  "kernelspec": {
   "display_name": "Python 3 (ipykernel)",
   "language": "python",
   "name": "python3"
  },
  "language_info": {
   "codemirror_mode": {
    "name": "ipython",
    "version": 3
   },
   "file_extension": ".py",
   "mimetype": "text/x-python",
   "name": "python",
   "nbconvert_exporter": "python",
   "pygments_lexer": "ipython3",
   "version": "3.10.13"
  }
 },
 "nbformat": 4,
 "nbformat_minor": 5
}
