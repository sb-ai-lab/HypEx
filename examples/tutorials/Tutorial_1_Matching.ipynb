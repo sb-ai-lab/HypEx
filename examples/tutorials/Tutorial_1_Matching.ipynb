{
 "cells": [
  {
   "cell_type": "markdown",
   "metadata": {},
   "source": [
    "# Tutorial 1: Matching"
   ]
  },
  {
   "cell_type": "markdown",
   "metadata": {},
   "source": [
    "## 0. Import libraries "
   ]
  },
  {
   "cell_type": "code",
   "execution_count": 1,
   "metadata": {
    "ExecuteTime": {
     "end_time": "2023-11-23T11:07:04.524009Z",
     "start_time": "2023-11-23T11:06:57.979747400Z"
    }
   },
   "outputs": [
    {
     "name": "stderr",
     "output_type": "stream",
     "text": [
      "C:\\Users\\User\\AppData\\Local\\Programs\\Python\\Python310\\lib\\site-packages\\tqdm\\auto.py:21: TqdmWarning: IProgress not found. Please update jupyter and ipywidgets. See https://ipywidgets.readthedocs.io/en/stable/user_install.html\n",
      "  from .autonotebook import tqdm as notebook_tqdm\n"
     ]
    }
   ],
   "source": [
    "import warnings \n",
    "from hypex import Matcher\n",
    "from hypex.dataset.dataset import Dataset\n",
    "\n",
    "warnings.simplefilter(action='ignore', category=FutureWarning)"
   ]
  },
  {
   "cell_type": "markdown",
   "metadata": {},
   "source": [
    "## 1. Create or upload your dataset  \n",
    "In this case we will create random dataset with known effect size  \n",
    "If you have your own dataset, go to the part 2 \n"
   ]
  },
  {
   "cell_type": "code",
   "execution_count": 2,
   "metadata": {
    "ExecuteTime": {
     "end_time": "2023-11-23T11:07:04.625181200Z",
     "start_time": "2023-11-23T11:07:04.525069200Z"
    }
   },
   "outputs": [
    {
     "data": {
      "text/plain": "      info_col_1 info_col_2 feature_col_1 feature_col_2  feature_col_3  \\\n0           4396          W        female        Credit            NaN   \n1          10600          W        female           NaN      -0.108763   \n2           7642          W        female       Deposit      -0.111189   \n3           2491          W        female       Deposit      -1.083582   \n4           1129          D          male    Investment       0.234198   \n...          ...        ...           ...           ...            ...   \n4995       14146          D          male    Investment      -0.826419   \n4996       13834          W        female        Credit      -1.006133   \n4997        4321          D        female        Credit       0.401821   \n4998        5902          W        female       Deposit       1.170462   \n4999        7651          W        female    Investment      -1.148229   \n\n      feature_col_4  treatment   outcome  \n0               2.0        0.0  1.566020  \n1               3.0        1.0  7.407258  \n2               3.0        0.0  4.501391  \n3               0.0        1.0 -1.238530  \n4               2.0        1.0  4.486653  \n...             ...        ...       ...  \n4995            2.0        0.0  3.204788  \n4996            2.0        1.0  3.670445  \n4997            2.0        1.0  6.346304  \n4998            1.0        0.0  2.708312  \n4999            3.0        0.0  2.692321  \n\n[5000 rows x 8 columns]",
      "text/html": "<div>\n<style scoped>\n    .dataframe tbody tr th:only-of-type {\n        vertical-align: middle;\n    }\n\n    .dataframe tbody tr th {\n        vertical-align: top;\n    }\n\n    .dataframe thead th {\n        text-align: right;\n    }\n</style>\n<table border=\"1\" class=\"dataframe\">\n  <thead>\n    <tr style=\"text-align: right;\">\n      <th></th>\n      <th>info_col_1</th>\n      <th>info_col_2</th>\n      <th>feature_col_1</th>\n      <th>feature_col_2</th>\n      <th>feature_col_3</th>\n      <th>feature_col_4</th>\n      <th>treatment</th>\n      <th>outcome</th>\n    </tr>\n  </thead>\n  <tbody>\n    <tr>\n      <th>0</th>\n      <td>4396</td>\n      <td>W</td>\n      <td>female</td>\n      <td>Credit</td>\n      <td>NaN</td>\n      <td>2.0</td>\n      <td>0.0</td>\n      <td>1.566020</td>\n    </tr>\n    <tr>\n      <th>1</th>\n      <td>10600</td>\n      <td>W</td>\n      <td>female</td>\n      <td>NaN</td>\n      <td>-0.108763</td>\n      <td>3.0</td>\n      <td>1.0</td>\n      <td>7.407258</td>\n    </tr>\n    <tr>\n      <th>2</th>\n      <td>7642</td>\n      <td>W</td>\n      <td>female</td>\n      <td>Deposit</td>\n      <td>-0.111189</td>\n      <td>3.0</td>\n      <td>0.0</td>\n      <td>4.501391</td>\n    </tr>\n    <tr>\n      <th>3</th>\n      <td>2491</td>\n      <td>W</td>\n      <td>female</td>\n      <td>Deposit</td>\n      <td>-1.083582</td>\n      <td>0.0</td>\n      <td>1.0</td>\n      <td>-1.238530</td>\n    </tr>\n    <tr>\n      <th>4</th>\n      <td>1129</td>\n      <td>D</td>\n      <td>male</td>\n      <td>Investment</td>\n      <td>0.234198</td>\n      <td>2.0</td>\n      <td>1.0</td>\n      <td>4.486653</td>\n    </tr>\n    <tr>\n      <th>...</th>\n      <td>...</td>\n      <td>...</td>\n      <td>...</td>\n      <td>...</td>\n      <td>...</td>\n      <td>...</td>\n      <td>...</td>\n      <td>...</td>\n    </tr>\n    <tr>\n      <th>4995</th>\n      <td>14146</td>\n      <td>D</td>\n      <td>male</td>\n      <td>Investment</td>\n      <td>-0.826419</td>\n      <td>2.0</td>\n      <td>0.0</td>\n      <td>3.204788</td>\n    </tr>\n    <tr>\n      <th>4996</th>\n      <td>13834</td>\n      <td>W</td>\n      <td>female</td>\n      <td>Credit</td>\n      <td>-1.006133</td>\n      <td>2.0</td>\n      <td>1.0</td>\n      <td>3.670445</td>\n    </tr>\n    <tr>\n      <th>4997</th>\n      <td>4321</td>\n      <td>D</td>\n      <td>female</td>\n      <td>Credit</td>\n      <td>0.401821</td>\n      <td>2.0</td>\n      <td>1.0</td>\n      <td>6.346304</td>\n    </tr>\n    <tr>\n      <th>4998</th>\n      <td>5902</td>\n      <td>W</td>\n      <td>female</td>\n      <td>Deposit</td>\n      <td>1.170462</td>\n      <td>1.0</td>\n      <td>0.0</td>\n      <td>2.708312</td>\n    </tr>\n    <tr>\n      <th>4999</th>\n      <td>7651</td>\n      <td>W</td>\n      <td>female</td>\n      <td>Investment</td>\n      <td>-1.148229</td>\n      <td>3.0</td>\n      <td>0.0</td>\n      <td>2.692321</td>\n    </tr>\n  </tbody>\n</table>\n<p>5000 rows × 8 columns</p>\n</div>"
     },
     "execution_count": 2,
     "metadata": {},
     "output_type": "execute_result"
    }
   ],
   "source": [
    "data = Dataset(na_columns=['feature_col_3', 'feature_col_2'], \n",
    "               num_main_causes_cols=2)\n",
    "data.df"
   ]
  },
  {
   "cell_type": "code",
   "execution_count": 4,
   "metadata": {
    "ExecuteTime": {
     "end_time": "2023-11-23T11:07:12.934793700Z",
     "start_time": "2023-11-23T11:07:12.875534700Z"
    }
   },
   "outputs": [
    {
     "data": {
      "text/plain": "Index(['info_col_1', 'info_col_2', 'feature_col_1', 'feature_col_2',\n       'feature_col_3', 'feature_col_4', 'treatment', 'outcome'],\n      dtype='object')"
     },
     "execution_count": 4,
     "metadata": {},
     "output_type": "execute_result"
    }
   ],
   "source": [
    "data.df.columns"
   ]
  },
  {
   "cell_type": "code",
   "execution_count": 6,
   "metadata": {
    "scrolled": true,
    "ExecuteTime": {
     "end_time": "2023-11-23T11:07:19.266526Z",
     "start_time": "2023-11-23T11:07:19.197927900Z"
    }
   },
   "outputs": [
    {
     "data": {
      "text/plain": "treatment\n1.0    2509\n0.0    2491\nName: count, dtype: int64"
     },
     "execution_count": 6,
     "metadata": {},
     "output_type": "execute_result"
    }
   ],
   "source": [
    "data.df.treatment.value_counts()"
   ]
  },
  {
   "cell_type": "code",
   "execution_count": 7,
   "metadata": {
    "ExecuteTime": {
     "end_time": "2023-11-23T11:07:20.701664400Z",
     "start_time": "2023-11-23T11:07:20.628428400Z"
    }
   },
   "outputs": [
    {
     "data": {
      "text/plain": "info_col_1         0\ninfo_col_2         0\nfeature_col_1      0\nfeature_col_2    500\nfeature_col_3    500\nfeature_col_4      0\ntreatment          0\noutcome            0\ndtype: int64"
     },
     "execution_count": 7,
     "metadata": {},
     "output_type": "execute_result"
    }
   ],
   "source": [
    "data.df.isna().sum()"
   ]
  },
  {
   "cell_type": "markdown",
   "metadata": {},
   "source": [
    "## 2. Matching  \n",
    "### 2.0 Init params\n",
    "info_col used to define informative attributes that should not be part of matching, such as user_id  \n",
    "But to explicitly store this column in the table, so that you can compare directly after computation"
   ]
  },
  {
   "cell_type": "code",
   "execution_count": 18,
   "metadata": {
    "ExecuteTime": {
     "end_time": "2023-11-23T11:11:18.397736500Z",
     "start_time": "2023-11-23T11:11:18.282931800Z"
    }
   },
   "outputs": [],
   "source": [
    "info_col = [data.info_col_names[0]]\n",
    "\n",
    "outcome = data.outcome_name[0]\n",
    "treatment = data.treatment_name[0]"
   ]
  },
  {
   "cell_type": "markdown",
   "metadata": {},
   "source": [
    "### 2.1 Simple matching\n",
    "This is the easiest way to initialize and calculate metrics on a Matching task  \n",
    "Use it when you are clear about each attribute or if you don't have any additional task conditions (Strict equality for certain features) "
   ]
  },
  {
   "cell_type": "code",
   "execution_count": 19,
   "metadata": {
    "ExecuteTime": {
     "end_time": "2023-11-23T11:11:20.068282400Z",
     "start_time": "2023-11-23T11:11:19.013893800Z"
    }
   },
   "outputs": [
    {
     "name": "stderr",
     "output_type": "stream",
     "text": [
      "[23.11.2023 14:11:19 | hypex | INFO]: Number of NaN values filled with zeros: 1000\n",
      "Get treated index: 100%|██████████| 5000/5000 [00:00<00:00, 8958.10it/s]  \n"
     ]
    }
   ],
   "source": [
    "# Standard model with base parameters\n",
    "model = Matcher(input_data=data.df, outcome=outcome, treatment=treatment, info_col=info_col)\n",
    "results, quality_results, df_matched = model.estimate()"
   ]
  },
  {
   "cell_type": "code",
   "execution_count": 20,
   "metadata": {
    "ExecuteTime": {
     "end_time": "2023-11-23T11:11:21.152463300Z",
     "start_time": "2023-11-23T11:11:21.114157800Z"
    }
   },
   "outputs": [
    {
     "data": {
      "text/plain": "     effect_size   std_err  p-val  ci_lower  ci_upper  outcome\nATE     2.523897  0.070661    0.0  2.385402  2.662392  outcome\nATC     2.512587  0.080871    0.0  2.354081  2.671093  outcome\nATT     2.535126  0.077464    0.0  2.383296  2.686956  outcome",
      "text/html": "<div>\n<style scoped>\n    .dataframe tbody tr th:only-of-type {\n        vertical-align: middle;\n    }\n\n    .dataframe tbody tr th {\n        vertical-align: top;\n    }\n\n    .dataframe thead th {\n        text-align: right;\n    }\n</style>\n<table border=\"1\" class=\"dataframe\">\n  <thead>\n    <tr style=\"text-align: right;\">\n      <th></th>\n      <th>effect_size</th>\n      <th>std_err</th>\n      <th>p-val</th>\n      <th>ci_lower</th>\n      <th>ci_upper</th>\n      <th>outcome</th>\n    </tr>\n  </thead>\n  <tbody>\n    <tr>\n      <th>ATE</th>\n      <td>2.523897</td>\n      <td>0.070661</td>\n      <td>0.0</td>\n      <td>2.385402</td>\n      <td>2.662392</td>\n      <td>outcome</td>\n    </tr>\n    <tr>\n      <th>ATC</th>\n      <td>2.512587</td>\n      <td>0.080871</td>\n      <td>0.0</td>\n      <td>2.354081</td>\n      <td>2.671093</td>\n      <td>outcome</td>\n    </tr>\n    <tr>\n      <th>ATT</th>\n      <td>2.535126</td>\n      <td>0.077464</td>\n      <td>0.0</td>\n      <td>2.383296</td>\n      <td>2.686956</td>\n      <td>outcome</td>\n    </tr>\n  </tbody>\n</table>\n</div>"
     },
     "execution_count": 20,
     "metadata": {},
     "output_type": "execute_result"
    }
   ],
   "source": [
    "results"
   ]
  },
  {
   "cell_type": "code",
   "execution_count": 21,
   "metadata": {
    "ExecuteTime": {
     "end_time": "2023-11-23T11:11:21.673134500Z",
     "start_time": "2023-11-23T11:11:21.491476800Z"
    }
   },
   "outputs": [
    {
     "data": {
      "text/plain": "dict_keys(['psi', 'ks_test', 'smd', 'repeats'])"
     },
     "execution_count": 21,
     "metadata": {},
     "output_type": "execute_result"
    }
   ],
   "source": [
    "quality_results.keys()"
   ]
  },
  {
   "cell_type": "code",
   "execution_count": 22,
   "metadata": {
    "ExecuteTime": {
     "end_time": "2023-11-23T11:11:21.993373800Z",
     "start_time": "2023-11-23T11:11:21.893940200Z"
    }
   },
   "outputs": [
    {
     "data": {
      "text/plain": "               match_control_to_treat  match_treat_to_control\nfeature_col_3                0.835224                0.957223\nfeature_col_4                1.000000                1.000000",
      "text/html": "<div>\n<style scoped>\n    .dataframe tbody tr th:only-of-type {\n        vertical-align: middle;\n    }\n\n    .dataframe tbody tr th {\n        vertical-align: top;\n    }\n\n    .dataframe thead th {\n        text-align: right;\n    }\n</style>\n<table border=\"1\" class=\"dataframe\">\n  <thead>\n    <tr style=\"text-align: right;\">\n      <th></th>\n      <th>match_control_to_treat</th>\n      <th>match_treat_to_control</th>\n    </tr>\n  </thead>\n  <tbody>\n    <tr>\n      <th>feature_col_3</th>\n      <td>0.835224</td>\n      <td>0.957223</td>\n    </tr>\n    <tr>\n      <th>feature_col_4</th>\n      <td>1.000000</td>\n      <td>1.000000</td>\n    </tr>\n  </tbody>\n</table>\n</div>"
     },
     "execution_count": 22,
     "metadata": {},
     "output_type": "execute_result"
    }
   ],
   "source": [
    "quality_results['ks_test']"
   ]
  },
  {
   "cell_type": "code",
   "execution_count": 23,
   "metadata": {
    "ExecuteTime": {
     "end_time": "2023-11-23T11:11:22.426332800Z",
     "start_time": "2023-11-23T11:11:22.195799600Z"
    }
   },
   "outputs": [
    {
     "data": {
      "text/plain": "      index  feature_col_3  feature_col_4  info_col_2_W  feature_col_1_male  \\\n0     10600      -0.108763            3.0             1                   0   \n1      2491      -1.083582            0.0             1                   0   \n2      1129       0.234198            2.0             0                   1   \n3      1843       1.184712            0.0             0                   0   \n4      8302      -0.399125            0.0             1                   0   \n...     ...            ...            ...           ...                 ...   \n2486  11128      -0.334717            1.0             1                   0   \n2487  13699      -0.374379            2.0             0                   1   \n2488  14146      -0.826419            2.0             0                   1   \n2489   5902       1.170462            1.0             1                   0   \n2490   7651      -1.148229            3.0             1                   0   \n\n      feature_col_2_Credit  feature_col_2_Deposit  feature_col_2_Investment  \\\n0                        0                      0                         0   \n1                        0                      1                         0   \n2                        0                      0                         1   \n3                        0                      1                         0   \n4                        0                      1                         0   \n...                    ...                    ...                       ...   \n2486                     1                      0                         0   \n2487                     1                      0                         0   \n2488                     0                      0                         1   \n2489                     0                      1                         0   \n2490                     0                      0                         1   \n\n      feature_col_3_matched  feature_col_4_matched  ...  \\\n0                  0.302256                    3.0  ...   \n1                 -1.089027                    0.0  ...   \n2                  0.218125                    2.0  ...   \n3                  1.128866                    0.0  ...   \n4                 -0.418014                    0.0  ...   \n...                     ...                    ...  ...   \n2486              -0.360573                    1.0  ...   \n2487              -0.373718                    2.0  ...   \n2488              -0.850079                    2.0  ...   \n2489               1.199764                    1.0  ...   \n2490              -1.160444                    3.0  ...   \n\n      feature_col_1_male_matched  feature_col_2_Credit_matched  \\\n0                            0.0                           0.0   \n1                            0.0                           0.0   \n2                            1.0                           0.0   \n3                            0.0                           0.0   \n4                            0.0                           0.0   \n...                          ...                           ...   \n2486                         0.0                           1.0   \n2487                         1.0                           1.0   \n2488                         1.0                           0.0   \n2489                         0.0                           0.0   \n2490                         0.0                           0.0   \n\n      feature_col_2_Deposit_matched  feature_col_2_Investment_matched  \\\n0                               0.0                               0.0   \n1                               1.0                               0.0   \n2                               0.0                               1.0   \n3                               1.0                               0.0   \n4                               1.0                               0.0   \n...                             ...                               ...   \n2486                            0.0                               0.0   \n2487                            0.0                               0.0   \n2488                            0.0                               1.0   \n2489                            1.0                               0.0   \n2490                            0.0                               1.0   \n\n      index_matched   outcome  outcome_matched  outcome_matched_bias  \\\n0            [4201]  7.407258         2.503504              5.289862   \n1            [7849] -1.238530        -0.656974             -0.586672   \n2           [14836]  4.486653         3.271825              1.199730   \n3            [5635]  2.490608         0.902258              1.535890   \n4           [13174] -0.601565         2.201483             -2.820793   \n...             ...       ...              ...                   ...   \n2486         [4171]  0.835190         2.867754              2.084634   \n2487         [4819] -0.192835         3.867719              4.059224   \n2488        [14371]  3.204788         4.830451              1.673309   \n2489         [7618]  2.708312         3.830416              1.063096   \n2490         [5047]  2.692321         4.444818              1.777096   \n\n      treatment  treatment_matched  \n0             1                  0  \n1             1                  0  \n2             1                  0  \n3             1                  0  \n4             1                  0  \n...         ...                ...  \n2486          0                  1  \n2487          0                  1  \n2488          0                  1  \n2489          0                  1  \n2490          0                  1  \n\n[5000 rows x 21 columns]",
      "text/html": "<div>\n<style scoped>\n    .dataframe tbody tr th:only-of-type {\n        vertical-align: middle;\n    }\n\n    .dataframe tbody tr th {\n        vertical-align: top;\n    }\n\n    .dataframe thead th {\n        text-align: right;\n    }\n</style>\n<table border=\"1\" class=\"dataframe\">\n  <thead>\n    <tr style=\"text-align: right;\">\n      <th></th>\n      <th>index</th>\n      <th>feature_col_3</th>\n      <th>feature_col_4</th>\n      <th>info_col_2_W</th>\n      <th>feature_col_1_male</th>\n      <th>feature_col_2_Credit</th>\n      <th>feature_col_2_Deposit</th>\n      <th>feature_col_2_Investment</th>\n      <th>feature_col_3_matched</th>\n      <th>feature_col_4_matched</th>\n      <th>...</th>\n      <th>feature_col_1_male_matched</th>\n      <th>feature_col_2_Credit_matched</th>\n      <th>feature_col_2_Deposit_matched</th>\n      <th>feature_col_2_Investment_matched</th>\n      <th>index_matched</th>\n      <th>outcome</th>\n      <th>outcome_matched</th>\n      <th>outcome_matched_bias</th>\n      <th>treatment</th>\n      <th>treatment_matched</th>\n    </tr>\n  </thead>\n  <tbody>\n    <tr>\n      <th>0</th>\n      <td>10600</td>\n      <td>-0.108763</td>\n      <td>3.0</td>\n      <td>1</td>\n      <td>0</td>\n      <td>0</td>\n      <td>0</td>\n      <td>0</td>\n      <td>0.302256</td>\n      <td>3.0</td>\n      <td>...</td>\n      <td>0.0</td>\n      <td>0.0</td>\n      <td>0.0</td>\n      <td>0.0</td>\n      <td>[4201]</td>\n      <td>7.407258</td>\n      <td>2.503504</td>\n      <td>5.289862</td>\n      <td>1</td>\n      <td>0</td>\n    </tr>\n    <tr>\n      <th>1</th>\n      <td>2491</td>\n      <td>-1.083582</td>\n      <td>0.0</td>\n      <td>1</td>\n      <td>0</td>\n      <td>0</td>\n      <td>1</td>\n      <td>0</td>\n      <td>-1.089027</td>\n      <td>0.0</td>\n      <td>...</td>\n      <td>0.0</td>\n      <td>0.0</td>\n      <td>1.0</td>\n      <td>0.0</td>\n      <td>[7849]</td>\n      <td>-1.238530</td>\n      <td>-0.656974</td>\n      <td>-0.586672</td>\n      <td>1</td>\n      <td>0</td>\n    </tr>\n    <tr>\n      <th>2</th>\n      <td>1129</td>\n      <td>0.234198</td>\n      <td>2.0</td>\n      <td>0</td>\n      <td>1</td>\n      <td>0</td>\n      <td>0</td>\n      <td>1</td>\n      <td>0.218125</td>\n      <td>2.0</td>\n      <td>...</td>\n      <td>1.0</td>\n      <td>0.0</td>\n      <td>0.0</td>\n      <td>1.0</td>\n      <td>[14836]</td>\n      <td>4.486653</td>\n      <td>3.271825</td>\n      <td>1.199730</td>\n      <td>1</td>\n      <td>0</td>\n    </tr>\n    <tr>\n      <th>3</th>\n      <td>1843</td>\n      <td>1.184712</td>\n      <td>0.0</td>\n      <td>0</td>\n      <td>0</td>\n      <td>0</td>\n      <td>1</td>\n      <td>0</td>\n      <td>1.128866</td>\n      <td>0.0</td>\n      <td>...</td>\n      <td>0.0</td>\n      <td>0.0</td>\n      <td>1.0</td>\n      <td>0.0</td>\n      <td>[5635]</td>\n      <td>2.490608</td>\n      <td>0.902258</td>\n      <td>1.535890</td>\n      <td>1</td>\n      <td>0</td>\n    </tr>\n    <tr>\n      <th>4</th>\n      <td>8302</td>\n      <td>-0.399125</td>\n      <td>0.0</td>\n      <td>1</td>\n      <td>0</td>\n      <td>0</td>\n      <td>1</td>\n      <td>0</td>\n      <td>-0.418014</td>\n      <td>0.0</td>\n      <td>...</td>\n      <td>0.0</td>\n      <td>0.0</td>\n      <td>1.0</td>\n      <td>0.0</td>\n      <td>[13174]</td>\n      <td>-0.601565</td>\n      <td>2.201483</td>\n      <td>-2.820793</td>\n      <td>1</td>\n      <td>0</td>\n    </tr>\n    <tr>\n      <th>...</th>\n      <td>...</td>\n      <td>...</td>\n      <td>...</td>\n      <td>...</td>\n      <td>...</td>\n      <td>...</td>\n      <td>...</td>\n      <td>...</td>\n      <td>...</td>\n      <td>...</td>\n      <td>...</td>\n      <td>...</td>\n      <td>...</td>\n      <td>...</td>\n      <td>...</td>\n      <td>...</td>\n      <td>...</td>\n      <td>...</td>\n      <td>...</td>\n      <td>...</td>\n      <td>...</td>\n    </tr>\n    <tr>\n      <th>2486</th>\n      <td>11128</td>\n      <td>-0.334717</td>\n      <td>1.0</td>\n      <td>1</td>\n      <td>0</td>\n      <td>1</td>\n      <td>0</td>\n      <td>0</td>\n      <td>-0.360573</td>\n      <td>1.0</td>\n      <td>...</td>\n      <td>0.0</td>\n      <td>1.0</td>\n      <td>0.0</td>\n      <td>0.0</td>\n      <td>[4171]</td>\n      <td>0.835190</td>\n      <td>2.867754</td>\n      <td>2.084634</td>\n      <td>0</td>\n      <td>1</td>\n    </tr>\n    <tr>\n      <th>2487</th>\n      <td>13699</td>\n      <td>-0.374379</td>\n      <td>2.0</td>\n      <td>0</td>\n      <td>1</td>\n      <td>1</td>\n      <td>0</td>\n      <td>0</td>\n      <td>-0.373718</td>\n      <td>2.0</td>\n      <td>...</td>\n      <td>1.0</td>\n      <td>1.0</td>\n      <td>0.0</td>\n      <td>0.0</td>\n      <td>[4819]</td>\n      <td>-0.192835</td>\n      <td>3.867719</td>\n      <td>4.059224</td>\n      <td>0</td>\n      <td>1</td>\n    </tr>\n    <tr>\n      <th>2488</th>\n      <td>14146</td>\n      <td>-0.826419</td>\n      <td>2.0</td>\n      <td>0</td>\n      <td>1</td>\n      <td>0</td>\n      <td>0</td>\n      <td>1</td>\n      <td>-0.850079</td>\n      <td>2.0</td>\n      <td>...</td>\n      <td>1.0</td>\n      <td>0.0</td>\n      <td>0.0</td>\n      <td>1.0</td>\n      <td>[14371]</td>\n      <td>3.204788</td>\n      <td>4.830451</td>\n      <td>1.673309</td>\n      <td>0</td>\n      <td>1</td>\n    </tr>\n    <tr>\n      <th>2489</th>\n      <td>5902</td>\n      <td>1.170462</td>\n      <td>1.0</td>\n      <td>1</td>\n      <td>0</td>\n      <td>0</td>\n      <td>1</td>\n      <td>0</td>\n      <td>1.199764</td>\n      <td>1.0</td>\n      <td>...</td>\n      <td>0.0</td>\n      <td>0.0</td>\n      <td>1.0</td>\n      <td>0.0</td>\n      <td>[7618]</td>\n      <td>2.708312</td>\n      <td>3.830416</td>\n      <td>1.063096</td>\n      <td>0</td>\n      <td>1</td>\n    </tr>\n    <tr>\n      <th>2490</th>\n      <td>7651</td>\n      <td>-1.148229</td>\n      <td>3.0</td>\n      <td>1</td>\n      <td>0</td>\n      <td>0</td>\n      <td>0</td>\n      <td>1</td>\n      <td>-1.160444</td>\n      <td>3.0</td>\n      <td>...</td>\n      <td>0.0</td>\n      <td>0.0</td>\n      <td>0.0</td>\n      <td>1.0</td>\n      <td>[5047]</td>\n      <td>2.692321</td>\n      <td>4.444818</td>\n      <td>1.777096</td>\n      <td>0</td>\n      <td>1</td>\n    </tr>\n  </tbody>\n</table>\n<p>5000 rows × 21 columns</p>\n</div>"
     },
     "execution_count": 23,
     "metadata": {},
     "output_type": "execute_result"
    }
   ],
   "source": [
    "df_matched"
   ]
  },
  {
   "cell_type": "code",
   "execution_count": 25,
   "metadata": {
    "ExecuteTime": {
     "end_time": "2023-11-23T11:12:08.263901600Z",
     "start_time": "2023-11-23T11:12:08.101871Z"
    }
   },
   "outputs": [
    {
     "data": {
      "text/plain": "Empty DataFrame\nColumns: [index, feature_col_3, feature_col_4, info_col_2_W, feature_col_1_male, feature_col_2_Credit, feature_col_2_Deposit, feature_col_2_Investment, feature_col_3_matched, feature_col_4_matched, info_col_2_W_matched, feature_col_1_male_matched, feature_col_2_Credit_matched, feature_col_2_Deposit_matched, feature_col_2_Investment_matched, index_matched, outcome, outcome_matched, outcome_matched_bias, treatment, treatment_matched]\nIndex: []\n\n[0 rows x 21 columns]",
      "text/html": "<div>\n<style scoped>\n    .dataframe tbody tr th:only-of-type {\n        vertical-align: middle;\n    }\n\n    .dataframe tbody tr th {\n        vertical-align: top;\n    }\n\n    .dataframe thead th {\n        text-align: right;\n    }\n</style>\n<table border=\"1\" class=\"dataframe\">\n  <thead>\n    <tr style=\"text-align: right;\">\n      <th></th>\n      <th>index</th>\n      <th>feature_col_3</th>\n      <th>feature_col_4</th>\n      <th>info_col_2_W</th>\n      <th>feature_col_1_male</th>\n      <th>feature_col_2_Credit</th>\n      <th>feature_col_2_Deposit</th>\n      <th>feature_col_2_Investment</th>\n      <th>feature_col_3_matched</th>\n      <th>feature_col_4_matched</th>\n      <th>...</th>\n      <th>feature_col_1_male_matched</th>\n      <th>feature_col_2_Credit_matched</th>\n      <th>feature_col_2_Deposit_matched</th>\n      <th>feature_col_2_Investment_matched</th>\n      <th>index_matched</th>\n      <th>outcome</th>\n      <th>outcome_matched</th>\n      <th>outcome_matched_bias</th>\n      <th>treatment</th>\n      <th>treatment_matched</th>\n    </tr>\n  </thead>\n  <tbody>\n  </tbody>\n</table>\n<p>0 rows × 21 columns</p>\n</div>"
     },
     "execution_count": 25,
     "metadata": {},
     "output_type": "execute_result"
    }
   ],
   "source": [
    "df_matched[df_matched['info_col_2_W'] != df_matched['info_col_2_W_matched']]"
   ]
  },
  {
   "cell_type": "markdown",
   "metadata": {},
   "source": [
    "### 2.2 Matching with a fixed variable  \n",
    "Used when you have categorical feature(s) that you want to compare by strict equality  \n",
    "group_col is used for strict comparison of categorical features.  \n",
    "In our case there is only one attribute  \n",
    "If there are several such attributes, you should make one of them and use it"
   ]
  },
  {
   "cell_type": "code",
   "execution_count": 26,
   "metadata": {
    "ExecuteTime": {
     "end_time": "2023-11-23T11:12:12.036431500Z",
     "start_time": "2023-11-23T11:12:11.970323700Z"
    }
   },
   "outputs": [],
   "source": [
    "group_col = 'info_col_2'"
   ]
  },
  {
   "cell_type": "code",
   "execution_count": 27,
   "metadata": {
    "ExecuteTime": {
     "end_time": "2023-11-23T11:12:14.540789500Z",
     "start_time": "2023-11-23T11:12:12.988946500Z"
    }
   },
   "outputs": [
    {
     "name": "stderr",
     "output_type": "stream",
     "text": [
      "[23.11.2023 14:12:12 | hypex | INFO]: Number of NaN values filled with zeros: 1000\n",
      "Get treated index by group W: 100%|██████████| 4/4 [00:00<00:00, 29.58it/s]  \n"
     ]
    }
   ],
   "source": [
    "model = Matcher(input_data=data.df, outcome=outcome, treatment=treatment,\n",
    "                info_col=info_col, group_col=group_col)\n",
    "results, quality_results, df_matched = model.estimate()"
   ]
  },
  {
   "cell_type": "code",
   "execution_count": 28,
   "metadata": {
    "ExecuteTime": {
     "end_time": "2023-11-23T11:12:15.129068300Z",
     "start_time": "2023-11-23T11:12:15.090436800Z"
    }
   },
   "outputs": [
    {
     "data": {
      "text/plain": "     effect_size   std_err  p-val  ci_lower  ci_upper  outcome\nATE     2.523897  0.070661    0.0  2.385402  2.662392  outcome\nATC     2.512588  0.080870    0.0  2.354082  2.671094  outcome\nATT     2.535126  0.077464    0.0  2.383296  2.686955  outcome",
      "text/html": "<div>\n<style scoped>\n    .dataframe tbody tr th:only-of-type {\n        vertical-align: middle;\n    }\n\n    .dataframe tbody tr th {\n        vertical-align: top;\n    }\n\n    .dataframe thead th {\n        text-align: right;\n    }\n</style>\n<table border=\"1\" class=\"dataframe\">\n  <thead>\n    <tr style=\"text-align: right;\">\n      <th></th>\n      <th>effect_size</th>\n      <th>std_err</th>\n      <th>p-val</th>\n      <th>ci_lower</th>\n      <th>ci_upper</th>\n      <th>outcome</th>\n    </tr>\n  </thead>\n  <tbody>\n    <tr>\n      <th>ATE</th>\n      <td>2.523897</td>\n      <td>0.070661</td>\n      <td>0.0</td>\n      <td>2.385402</td>\n      <td>2.662392</td>\n      <td>outcome</td>\n    </tr>\n    <tr>\n      <th>ATC</th>\n      <td>2.512588</td>\n      <td>0.080870</td>\n      <td>0.0</td>\n      <td>2.354082</td>\n      <td>2.671094</td>\n      <td>outcome</td>\n    </tr>\n    <tr>\n      <th>ATT</th>\n      <td>2.535126</td>\n      <td>0.077464</td>\n      <td>0.0</td>\n      <td>2.383296</td>\n      <td>2.686955</td>\n      <td>outcome</td>\n    </tr>\n  </tbody>\n</table>\n</div>"
     },
     "execution_count": 28,
     "metadata": {},
     "output_type": "execute_result"
    }
   ],
   "source": [
    "results"
   ]
  },
  {
   "cell_type": "code",
   "execution_count": 29,
   "outputs": [
    {
     "data": {
      "text/plain": "      index  feature_col_3  feature_col_4  feature_col_1_male  \\\n0      1129       0.234198            2.0                   1   \n1      1843       1.184712            0.0                   0   \n2     12010      -0.257334            3.0                   1   \n3      9295      -1.854170            0.0                   1   \n4      2455      -0.372677            3.0                   1   \n...     ...            ...            ...                 ...   \n2486    253      -1.457601            1.0                   1   \n2487   3814      -0.858134            3.0                   1   \n2488  11128      -0.334717            1.0                   0   \n2489   5902       1.170462            1.0                   0   \n2490   7651      -1.148229            3.0                   0   \n\n      feature_col_2_Credit  feature_col_2_Deposit  feature_col_2_Investment  \\\n0                        0                      0                         1   \n1                        0                      1                         0   \n2                        0                      0                         0   \n3                        0                      1                         0   \n4                        0                      1                         0   \n...                    ...                    ...                       ...   \n2486                     0                      1                         0   \n2487                     0                      1                         0   \n2488                     1                      0                         0   \n2489                     0                      1                         0   \n2490                     0                      0                         1   \n\n     info_col_2  feature_col_3_matched  feature_col_4_matched  ...  \\\n0             D               0.218125                    2.0  ...   \n1             D               1.128866                    0.0  ...   \n2             D              -0.473090                    3.0  ...   \n3             D              -1.891715                    0.0  ...   \n4             D              -0.371943                    3.0  ...   \n...         ...                    ...                    ...  ...   \n2486          W              -1.441001                    1.0  ...   \n2487          W              -0.879061                    3.0  ...   \n2488          W              -0.360573                    1.0  ...   \n2489          W               1.199764                    1.0  ...   \n2490          W              -1.160444                    3.0  ...   \n\n      feature_col_2_Credit_matched  feature_col_2_Deposit_matched  \\\n0                              0.0                            0.0   \n1                              0.0                            1.0   \n2                              0.0                            0.0   \n3                              0.0                            1.0   \n4                              0.0                            1.0   \n...                            ...                            ...   \n2486                           0.0                            1.0   \n2487                           0.0                            1.0   \n2488                           1.0                            0.0   \n2489                           0.0                            1.0   \n2490                           0.0                            0.0   \n\n      feature_col_2_Investment_matched  info_col_2_matched index_matched  \\\n0                                  1.0                   D       [14836]   \n1                                  0.0                   D        [5635]   \n2                                  0.0                   D        [3043]   \n3                                  0.0                   D        [3379]   \n4                                  0.0                   D         [445]   \n...                                ...                 ...           ...   \n2486                               0.0                   W          [49]   \n2487                               0.0                   W        [8989]   \n2488                               0.0                   W        [4171]   \n2489                               0.0                   W        [7618]   \n2490                               1.0                   W        [5047]   \n\n       outcome  outcome_matched  outcome_matched_bias  treatment  \\\n0     4.486653         3.271825              1.199727          1   \n1     2.490608         0.902258              1.535882          1   \n2     6.411878         1.108409              5.100759          1   \n3    -0.969977        -0.892780             -0.112472          1   \n4     7.222956         1.267117              5.956529          1   \n...        ...              ...                   ...        ...   \n2486 -0.190917         0.193336              0.350827          0   \n2487  1.941070         7.046109              5.147178          0   \n2488  0.835190         2.867754              2.084630          0   \n2489  2.708312         3.830416              1.063101          0   \n2490  2.692321         4.444818              1.777094          0   \n\n      treatment_matched  \n0                     0  \n1                     0  \n2                     0  \n3                     0  \n4                     0  \n...                 ...  \n2486                  1  \n2487                  1  \n2488                  1  \n2489                  1  \n2490                  1  \n\n[5000 rows x 21 columns]",
      "text/html": "<div>\n<style scoped>\n    .dataframe tbody tr th:only-of-type {\n        vertical-align: middle;\n    }\n\n    .dataframe tbody tr th {\n        vertical-align: top;\n    }\n\n    .dataframe thead th {\n        text-align: right;\n    }\n</style>\n<table border=\"1\" class=\"dataframe\">\n  <thead>\n    <tr style=\"text-align: right;\">\n      <th></th>\n      <th>index</th>\n      <th>feature_col_3</th>\n      <th>feature_col_4</th>\n      <th>feature_col_1_male</th>\n      <th>feature_col_2_Credit</th>\n      <th>feature_col_2_Deposit</th>\n      <th>feature_col_2_Investment</th>\n      <th>info_col_2</th>\n      <th>feature_col_3_matched</th>\n      <th>feature_col_4_matched</th>\n      <th>...</th>\n      <th>feature_col_2_Credit_matched</th>\n      <th>feature_col_2_Deposit_matched</th>\n      <th>feature_col_2_Investment_matched</th>\n      <th>info_col_2_matched</th>\n      <th>index_matched</th>\n      <th>outcome</th>\n      <th>outcome_matched</th>\n      <th>outcome_matched_bias</th>\n      <th>treatment</th>\n      <th>treatment_matched</th>\n    </tr>\n  </thead>\n  <tbody>\n    <tr>\n      <th>0</th>\n      <td>1129</td>\n      <td>0.234198</td>\n      <td>2.0</td>\n      <td>1</td>\n      <td>0</td>\n      <td>0</td>\n      <td>1</td>\n      <td>D</td>\n      <td>0.218125</td>\n      <td>2.0</td>\n      <td>...</td>\n      <td>0.0</td>\n      <td>0.0</td>\n      <td>1.0</td>\n      <td>D</td>\n      <td>[14836]</td>\n      <td>4.486653</td>\n      <td>3.271825</td>\n      <td>1.199727</td>\n      <td>1</td>\n      <td>0</td>\n    </tr>\n    <tr>\n      <th>1</th>\n      <td>1843</td>\n      <td>1.184712</td>\n      <td>0.0</td>\n      <td>0</td>\n      <td>0</td>\n      <td>1</td>\n      <td>0</td>\n      <td>D</td>\n      <td>1.128866</td>\n      <td>0.0</td>\n      <td>...</td>\n      <td>0.0</td>\n      <td>1.0</td>\n      <td>0.0</td>\n      <td>D</td>\n      <td>[5635]</td>\n      <td>2.490608</td>\n      <td>0.902258</td>\n      <td>1.535882</td>\n      <td>1</td>\n      <td>0</td>\n    </tr>\n    <tr>\n      <th>2</th>\n      <td>12010</td>\n      <td>-0.257334</td>\n      <td>3.0</td>\n      <td>1</td>\n      <td>0</td>\n      <td>0</td>\n      <td>0</td>\n      <td>D</td>\n      <td>-0.473090</td>\n      <td>3.0</td>\n      <td>...</td>\n      <td>0.0</td>\n      <td>0.0</td>\n      <td>0.0</td>\n      <td>D</td>\n      <td>[3043]</td>\n      <td>6.411878</td>\n      <td>1.108409</td>\n      <td>5.100759</td>\n      <td>1</td>\n      <td>0</td>\n    </tr>\n    <tr>\n      <th>3</th>\n      <td>9295</td>\n      <td>-1.854170</td>\n      <td>0.0</td>\n      <td>1</td>\n      <td>0</td>\n      <td>1</td>\n      <td>0</td>\n      <td>D</td>\n      <td>-1.891715</td>\n      <td>0.0</td>\n      <td>...</td>\n      <td>0.0</td>\n      <td>1.0</td>\n      <td>0.0</td>\n      <td>D</td>\n      <td>[3379]</td>\n      <td>-0.969977</td>\n      <td>-0.892780</td>\n      <td>-0.112472</td>\n      <td>1</td>\n      <td>0</td>\n    </tr>\n    <tr>\n      <th>4</th>\n      <td>2455</td>\n      <td>-0.372677</td>\n      <td>3.0</td>\n      <td>1</td>\n      <td>0</td>\n      <td>1</td>\n      <td>0</td>\n      <td>D</td>\n      <td>-0.371943</td>\n      <td>3.0</td>\n      <td>...</td>\n      <td>0.0</td>\n      <td>1.0</td>\n      <td>0.0</td>\n      <td>D</td>\n      <td>[445]</td>\n      <td>7.222956</td>\n      <td>1.267117</td>\n      <td>5.956529</td>\n      <td>1</td>\n      <td>0</td>\n    </tr>\n    <tr>\n      <th>...</th>\n      <td>...</td>\n      <td>...</td>\n      <td>...</td>\n      <td>...</td>\n      <td>...</td>\n      <td>...</td>\n      <td>...</td>\n      <td>...</td>\n      <td>...</td>\n      <td>...</td>\n      <td>...</td>\n      <td>...</td>\n      <td>...</td>\n      <td>...</td>\n      <td>...</td>\n      <td>...</td>\n      <td>...</td>\n      <td>...</td>\n      <td>...</td>\n      <td>...</td>\n      <td>...</td>\n    </tr>\n    <tr>\n      <th>2486</th>\n      <td>253</td>\n      <td>-1.457601</td>\n      <td>1.0</td>\n      <td>1</td>\n      <td>0</td>\n      <td>1</td>\n      <td>0</td>\n      <td>W</td>\n      <td>-1.441001</td>\n      <td>1.0</td>\n      <td>...</td>\n      <td>0.0</td>\n      <td>1.0</td>\n      <td>0.0</td>\n      <td>W</td>\n      <td>[49]</td>\n      <td>-0.190917</td>\n      <td>0.193336</td>\n      <td>0.350827</td>\n      <td>0</td>\n      <td>1</td>\n    </tr>\n    <tr>\n      <th>2487</th>\n      <td>3814</td>\n      <td>-0.858134</td>\n      <td>3.0</td>\n      <td>1</td>\n      <td>0</td>\n      <td>1</td>\n      <td>0</td>\n      <td>W</td>\n      <td>-0.879061</td>\n      <td>3.0</td>\n      <td>...</td>\n      <td>0.0</td>\n      <td>1.0</td>\n      <td>0.0</td>\n      <td>W</td>\n      <td>[8989]</td>\n      <td>1.941070</td>\n      <td>7.046109</td>\n      <td>5.147178</td>\n      <td>0</td>\n      <td>1</td>\n    </tr>\n    <tr>\n      <th>2488</th>\n      <td>11128</td>\n      <td>-0.334717</td>\n      <td>1.0</td>\n      <td>0</td>\n      <td>1</td>\n      <td>0</td>\n      <td>0</td>\n      <td>W</td>\n      <td>-0.360573</td>\n      <td>1.0</td>\n      <td>...</td>\n      <td>1.0</td>\n      <td>0.0</td>\n      <td>0.0</td>\n      <td>W</td>\n      <td>[4171]</td>\n      <td>0.835190</td>\n      <td>2.867754</td>\n      <td>2.084630</td>\n      <td>0</td>\n      <td>1</td>\n    </tr>\n    <tr>\n      <th>2489</th>\n      <td>5902</td>\n      <td>1.170462</td>\n      <td>1.0</td>\n      <td>0</td>\n      <td>0</td>\n      <td>1</td>\n      <td>0</td>\n      <td>W</td>\n      <td>1.199764</td>\n      <td>1.0</td>\n      <td>...</td>\n      <td>0.0</td>\n      <td>1.0</td>\n      <td>0.0</td>\n      <td>W</td>\n      <td>[7618]</td>\n      <td>2.708312</td>\n      <td>3.830416</td>\n      <td>1.063101</td>\n      <td>0</td>\n      <td>1</td>\n    </tr>\n    <tr>\n      <th>2490</th>\n      <td>7651</td>\n      <td>-1.148229</td>\n      <td>3.0</td>\n      <td>0</td>\n      <td>0</td>\n      <td>0</td>\n      <td>1</td>\n      <td>W</td>\n      <td>-1.160444</td>\n      <td>3.0</td>\n      <td>...</td>\n      <td>0.0</td>\n      <td>0.0</td>\n      <td>1.0</td>\n      <td>W</td>\n      <td>[5047]</td>\n      <td>2.692321</td>\n      <td>4.444818</td>\n      <td>1.777094</td>\n      <td>0</td>\n      <td>1</td>\n    </tr>\n  </tbody>\n</table>\n<p>5000 rows × 21 columns</p>\n</div>"
     },
     "execution_count": 29,
     "metadata": {},
     "output_type": "execute_result"
    }
   ],
   "source": [
    "df_matched"
   ],
   "metadata": {
    "collapsed": false,
    "ExecuteTime": {
     "end_time": "2023-11-23T11:12:17.595471300Z",
     "start_time": "2023-11-23T11:12:17.394169800Z"
    }
   }
  },
  {
   "cell_type": "code",
   "execution_count": 31,
   "metadata": {
    "ExecuteTime": {
     "end_time": "2023-11-23T11:12:41.977033Z",
     "start_time": "2023-11-23T11:12:41.935341300Z"
    }
   },
   "outputs": [
    {
     "data": {
      "text/plain": "Empty DataFrame\nColumns: [index, feature_col_3, feature_col_4, feature_col_1_male, feature_col_2_Credit, feature_col_2_Deposit, feature_col_2_Investment, info_col_2, feature_col_3_matched, feature_col_4_matched, feature_col_1_male_matched, feature_col_2_Credit_matched, feature_col_2_Deposit_matched, feature_col_2_Investment_matched, info_col_2_matched, index_matched, outcome, outcome_matched, outcome_matched_bias, treatment, treatment_matched]\nIndex: []\n\n[0 rows x 21 columns]",
      "text/html": "<div>\n<style scoped>\n    .dataframe tbody tr th:only-of-type {\n        vertical-align: middle;\n    }\n\n    .dataframe tbody tr th {\n        vertical-align: top;\n    }\n\n    .dataframe thead th {\n        text-align: right;\n    }\n</style>\n<table border=\"1\" class=\"dataframe\">\n  <thead>\n    <tr style=\"text-align: right;\">\n      <th></th>\n      <th>index</th>\n      <th>feature_col_3</th>\n      <th>feature_col_4</th>\n      <th>feature_col_1_male</th>\n      <th>feature_col_2_Credit</th>\n      <th>feature_col_2_Deposit</th>\n      <th>feature_col_2_Investment</th>\n      <th>info_col_2</th>\n      <th>feature_col_3_matched</th>\n      <th>feature_col_4_matched</th>\n      <th>...</th>\n      <th>feature_col_2_Credit_matched</th>\n      <th>feature_col_2_Deposit_matched</th>\n      <th>feature_col_2_Investment_matched</th>\n      <th>info_col_2_matched</th>\n      <th>index_matched</th>\n      <th>outcome</th>\n      <th>outcome_matched</th>\n      <th>outcome_matched_bias</th>\n      <th>treatment</th>\n      <th>treatment_matched</th>\n    </tr>\n  </thead>\n  <tbody>\n  </tbody>\n</table>\n<p>0 rows × 21 columns</p>\n</div>"
     },
     "execution_count": 31,
     "metadata": {},
     "output_type": "execute_result"
    }
   ],
   "source": [
    "df_matched[df_matched['info_col_2'] != df_matched['info_col_2_matched']]"
   ]
  },
  {
   "cell_type": "markdown",
   "metadata": {},
   "source": [
    "## 3. Results  \n",
    "### 3.1 ATE, ATT, ATC"
   ]
  },
  {
   "cell_type": "code",
   "execution_count": 32,
   "metadata": {
    "ExecuteTime": {
     "end_time": "2023-11-23T11:12:43.166475Z",
     "start_time": "2023-11-23T11:12:43.051178100Z"
    }
   },
   "outputs": [
    {
     "data": {
      "text/plain": "     effect_size   std_err  p-val  ci_lower  ci_upper  outcome\nATE     2.523897  0.070661    0.0  2.385402  2.662392  outcome\nATC     2.512588  0.080870    0.0  2.354082  2.671094  outcome\nATT     2.535126  0.077464    0.0  2.383296  2.686955  outcome",
      "text/html": "<div>\n<style scoped>\n    .dataframe tbody tr th:only-of-type {\n        vertical-align: middle;\n    }\n\n    .dataframe tbody tr th {\n        vertical-align: top;\n    }\n\n    .dataframe thead th {\n        text-align: right;\n    }\n</style>\n<table border=\"1\" class=\"dataframe\">\n  <thead>\n    <tr style=\"text-align: right;\">\n      <th></th>\n      <th>effect_size</th>\n      <th>std_err</th>\n      <th>p-val</th>\n      <th>ci_lower</th>\n      <th>ci_upper</th>\n      <th>outcome</th>\n    </tr>\n  </thead>\n  <tbody>\n    <tr>\n      <th>ATE</th>\n      <td>2.523897</td>\n      <td>0.070661</td>\n      <td>0.0</td>\n      <td>2.385402</td>\n      <td>2.662392</td>\n      <td>outcome</td>\n    </tr>\n    <tr>\n      <th>ATC</th>\n      <td>2.512588</td>\n      <td>0.080870</td>\n      <td>0.0</td>\n      <td>2.354082</td>\n      <td>2.671094</td>\n      <td>outcome</td>\n    </tr>\n    <tr>\n      <th>ATT</th>\n      <td>2.535126</td>\n      <td>0.077464</td>\n      <td>0.0</td>\n      <td>2.383296</td>\n      <td>2.686955</td>\n      <td>outcome</td>\n    </tr>\n  </tbody>\n</table>\n</div>"
     },
     "execution_count": 32,
     "metadata": {},
     "output_type": "execute_result"
    }
   ],
   "source": [
    "results"
   ]
  },
  {
   "cell_type": "markdown",
   "metadata": {},
   "source": [
    "### 3.2 SMD, PSI, KS-test, repeats"
   ]
  },
  {
   "cell_type": "code",
   "execution_count": 33,
   "metadata": {
    "ExecuteTime": {
     "end_time": "2023-11-23T11:12:44.645901200Z",
     "start_time": "2023-11-23T11:12:44.470769100Z"
    }
   },
   "outputs": [
    {
     "data": {
      "text/plain": "dict_keys(['psi', 'ks_test', 'smd', 'repeats'])"
     },
     "execution_count": 33,
     "metadata": {},
     "output_type": "execute_result"
    }
   ],
   "source": [
    "quality_results.keys()"
   ]
  },
  {
   "cell_type": "code",
   "execution_count": 34,
   "metadata": {
    "ExecuteTime": {
     "end_time": "2023-11-23T11:12:45.578659Z",
     "start_time": "2023-11-23T11:12:45.433081300Z"
    }
   },
   "outputs": [
    {
     "data": {
      "text/plain": "                     column_treated  anomaly_score_treated  \\\n0        feature_col_1_male_treated                    0.0   \n1      feature_col_2_Credit_treated                    0.0   \n2     feature_col_2_Deposit_treated                    0.0   \n3  feature_col_2_Investment_treated                    0.0   \n4             feature_col_3_treated                    0.0   \n5             feature_col_4_treated                    0.0   \n6                info_col_2_treated                    0.0   \n\n  check_result_treated                    column_untreated  \\\n0                   OK        feature_col_1_male_untreated   \n1                   OK      feature_col_2_Credit_untreated   \n2                   OK     feature_col_2_Deposit_untreated   \n3                   OK  feature_col_2_Investment_untreated   \n4                   OK             feature_col_3_untreated   \n5                   OK             feature_col_4_untreated   \n6                   OK                info_col_2_untreated   \n\n   anomaly_score_untreated check_result_untreated  \n0                     0.00                     OK  \n1                     0.00                     OK  \n2                     0.00                     OK  \n3                     0.00                     OK  \n4                     0.01                     OK  \n5                     0.00                     OK  \n6                     0.00                     OK  ",
      "text/html": "<div>\n<style scoped>\n    .dataframe tbody tr th:only-of-type {\n        vertical-align: middle;\n    }\n\n    .dataframe tbody tr th {\n        vertical-align: top;\n    }\n\n    .dataframe thead th {\n        text-align: right;\n    }\n</style>\n<table border=\"1\" class=\"dataframe\">\n  <thead>\n    <tr style=\"text-align: right;\">\n      <th></th>\n      <th>column_treated</th>\n      <th>anomaly_score_treated</th>\n      <th>check_result_treated</th>\n      <th>column_untreated</th>\n      <th>anomaly_score_untreated</th>\n      <th>check_result_untreated</th>\n    </tr>\n  </thead>\n  <tbody>\n    <tr>\n      <th>0</th>\n      <td>feature_col_1_male_treated</td>\n      <td>0.0</td>\n      <td>OK</td>\n      <td>feature_col_1_male_untreated</td>\n      <td>0.00</td>\n      <td>OK</td>\n    </tr>\n    <tr>\n      <th>1</th>\n      <td>feature_col_2_Credit_treated</td>\n      <td>0.0</td>\n      <td>OK</td>\n      <td>feature_col_2_Credit_untreated</td>\n      <td>0.00</td>\n      <td>OK</td>\n    </tr>\n    <tr>\n      <th>2</th>\n      <td>feature_col_2_Deposit_treated</td>\n      <td>0.0</td>\n      <td>OK</td>\n      <td>feature_col_2_Deposit_untreated</td>\n      <td>0.00</td>\n      <td>OK</td>\n    </tr>\n    <tr>\n      <th>3</th>\n      <td>feature_col_2_Investment_treated</td>\n      <td>0.0</td>\n      <td>OK</td>\n      <td>feature_col_2_Investment_untreated</td>\n      <td>0.00</td>\n      <td>OK</td>\n    </tr>\n    <tr>\n      <th>4</th>\n      <td>feature_col_3_treated</td>\n      <td>0.0</td>\n      <td>OK</td>\n      <td>feature_col_3_untreated</td>\n      <td>0.01</td>\n      <td>OK</td>\n    </tr>\n    <tr>\n      <th>5</th>\n      <td>feature_col_4_treated</td>\n      <td>0.0</td>\n      <td>OK</td>\n      <td>feature_col_4_untreated</td>\n      <td>0.00</td>\n      <td>OK</td>\n    </tr>\n    <tr>\n      <th>6</th>\n      <td>info_col_2_treated</td>\n      <td>0.0</td>\n      <td>OK</td>\n      <td>info_col_2_untreated</td>\n      <td>0.00</td>\n      <td>OK</td>\n    </tr>\n  </tbody>\n</table>\n</div>"
     },
     "execution_count": 34,
     "metadata": {},
     "output_type": "execute_result"
    }
   ],
   "source": [
    "quality_results['psi']"
   ]
  },
  {
   "cell_type": "code",
   "execution_count": 35,
   "metadata": {
    "ExecuteTime": {
     "end_time": "2023-11-23T11:12:46.337266700Z",
     "start_time": "2023-11-23T11:12:46.148229300Z"
    }
   },
   "outputs": [
    {
     "data": {
      "text/plain": "               match_control_to_treat  match_treat_to_control\nfeature_col_3                0.835224                0.957223\nfeature_col_4                1.000000                1.000000",
      "text/html": "<div>\n<style scoped>\n    .dataframe tbody tr th:only-of-type {\n        vertical-align: middle;\n    }\n\n    .dataframe tbody tr th {\n        vertical-align: top;\n    }\n\n    .dataframe thead th {\n        text-align: right;\n    }\n</style>\n<table border=\"1\" class=\"dataframe\">\n  <thead>\n    <tr style=\"text-align: right;\">\n      <th></th>\n      <th>match_control_to_treat</th>\n      <th>match_treat_to_control</th>\n    </tr>\n  </thead>\n  <tbody>\n    <tr>\n      <th>feature_col_3</th>\n      <td>0.835224</td>\n      <td>0.957223</td>\n    </tr>\n    <tr>\n      <th>feature_col_4</th>\n      <td>1.000000</td>\n      <td>1.000000</td>\n    </tr>\n  </tbody>\n</table>\n</div>"
     },
     "execution_count": 35,
     "metadata": {},
     "output_type": "execute_result"
    }
   ],
   "source": [
    "quality_results['ks_test']"
   ]
  },
  {
   "cell_type": "code",
   "execution_count": 36,
   "metadata": {
    "ExecuteTime": {
     "end_time": "2023-11-23T11:12:47.438184Z",
     "start_time": "2023-11-23T11:12:47.298655800Z"
    }
   },
   "outputs": [
    {
     "data": {
      "text/plain": "{'match_control_to_treat': 0.39, 'match_treat_to_control': 0.39}"
     },
     "execution_count": 36,
     "metadata": {},
     "output_type": "execute_result"
    }
   ],
   "source": [
    "quality_results['repeats']"
   ]
  },
  {
   "cell_type": "markdown",
   "metadata": {},
   "source": [
    "### 3.3 Validation\n",
    "Validates estimated effect:\n",
    "1. by replacing real treatment (`random_treatment`) with random placebo treatment.\n",
    " Estimated effect must be droped to zero;\n",
    "2. by adding random feature (`random_feature`). Estimated effect shouldn't change\n",
    "significantly, p-val < 0.05;\n",
    "3. estimates effect on subset of data (`subset_refuter`) (default fraction is 0.8). Estimated effect\n",
    "shouldn't change significantly, p-val < 0.05."
   ]
  },
  {
   "cell_type": "code",
   "execution_count": 37,
   "metadata": {
    "ExecuteTime": {
     "end_time": "2023-11-23T11:13:13.008806500Z",
     "start_time": "2023-11-23T11:13:01.682071800Z"
    }
   },
   "outputs": [
    {
     "name": "stderr",
     "output_type": "stream",
     "text": [
      "100%|██████████| 10/10 [00:11<00:00,  1.12s/it]\n"
     ]
    },
    {
     "data": {
      "text/plain": "{'outcome': [0.004513215149313391, 0.0]}"
     },
     "execution_count": 37,
     "metadata": {},
     "output_type": "execute_result"
    }
   ],
   "source": [
    "model.validate_result(refuter=\"random_treatment\", effect_type=\"att\", n_sim=10)"
   ]
  },
  {
   "cell_type": "markdown",
   "metadata": {},
   "source": [
    "## 4. Save model"
   ]
  },
  {
   "cell_type": "code",
   "execution_count": 38,
   "metadata": {
    "ExecuteTime": {
     "end_time": "2023-11-23T11:13:13.092868600Z",
     "start_time": "2023-11-23T11:13:12.951924700Z"
    }
   },
   "outputs": [],
   "source": [
    "model.save(\"test_model.pickle\")"
   ]
  },
  {
   "cell_type": "code",
   "execution_count": 39,
   "metadata": {
    "ExecuteTime": {
     "end_time": "2023-11-23T11:13:13.163289600Z",
     "start_time": "2023-11-23T11:13:13.032262800Z"
    }
   },
   "outputs": [],
   "source": [
    "model2 = Matcher.load(\"test_model.pickle\")"
   ]
  },
  {
   "cell_type": "code",
   "execution_count": 40,
   "metadata": {
    "ExecuteTime": {
     "end_time": "2023-11-23T11:13:13.258570800Z",
     "start_time": "2023-11-23T11:13:13.120796Z"
    }
   },
   "outputs": [
    {
     "data": {
      "text/plain": "     effect_size   std_err  p-val  ci_lower  ci_upper  outcome\nATE     2.523897  0.070661    0.0  2.385402  2.662392  outcome\nATC     2.512588  0.080870    0.0  2.354082  2.671094  outcome\nATT     2.535126  0.077464    0.0  2.383296  2.686955  outcome",
      "text/html": "<div>\n<style scoped>\n    .dataframe tbody tr th:only-of-type {\n        vertical-align: middle;\n    }\n\n    .dataframe tbody tr th {\n        vertical-align: top;\n    }\n\n    .dataframe thead th {\n        text-align: right;\n    }\n</style>\n<table border=\"1\" class=\"dataframe\">\n  <thead>\n    <tr style=\"text-align: right;\">\n      <th></th>\n      <th>effect_size</th>\n      <th>std_err</th>\n      <th>p-val</th>\n      <th>ci_lower</th>\n      <th>ci_upper</th>\n      <th>outcome</th>\n    </tr>\n  </thead>\n  <tbody>\n    <tr>\n      <th>ATE</th>\n      <td>2.523897</td>\n      <td>0.070661</td>\n      <td>0.0</td>\n      <td>2.385402</td>\n      <td>2.662392</td>\n      <td>outcome</td>\n    </tr>\n    <tr>\n      <th>ATC</th>\n      <td>2.512588</td>\n      <td>0.080870</td>\n      <td>0.0</td>\n      <td>2.354082</td>\n      <td>2.671094</td>\n      <td>outcome</td>\n    </tr>\n    <tr>\n      <th>ATT</th>\n      <td>2.535126</td>\n      <td>0.077464</td>\n      <td>0.0</td>\n      <td>2.383296</td>\n      <td>2.686955</td>\n      <td>outcome</td>\n    </tr>\n  </tbody>\n</table>\n</div>"
     },
     "execution_count": 40,
     "metadata": {},
     "output_type": "execute_result"
    }
   ],
   "source": [
    "model2.results"
   ]
  },
  {
   "cell_type": "code",
   "execution_count": 41,
   "metadata": {
    "ExecuteTime": {
     "end_time": "2023-11-23T11:13:13.265537900Z",
     "start_time": "2023-11-23T11:13:13.185104900Z"
    }
   },
   "outputs": [
    {
     "data": {
      "text/plain": "     effect_size   std_err  p-val  ci_lower  ci_upper  outcome\nATE     2.523897  0.070661    0.0  2.385402  2.662392  outcome\nATC     2.512588  0.080870    0.0  2.354082  2.671094  outcome\nATT     2.535126  0.077464    0.0  2.383296  2.686955  outcome",
      "text/html": "<div>\n<style scoped>\n    .dataframe tbody tr th:only-of-type {\n        vertical-align: middle;\n    }\n\n    .dataframe tbody tr th {\n        vertical-align: top;\n    }\n\n    .dataframe thead th {\n        text-align: right;\n    }\n</style>\n<table border=\"1\" class=\"dataframe\">\n  <thead>\n    <tr style=\"text-align: right;\">\n      <th></th>\n      <th>effect_size</th>\n      <th>std_err</th>\n      <th>p-val</th>\n      <th>ci_lower</th>\n      <th>ci_upper</th>\n      <th>outcome</th>\n    </tr>\n  </thead>\n  <tbody>\n    <tr>\n      <th>ATE</th>\n      <td>2.523897</td>\n      <td>0.070661</td>\n      <td>0.0</td>\n      <td>2.385402</td>\n      <td>2.662392</td>\n      <td>outcome</td>\n    </tr>\n    <tr>\n      <th>ATC</th>\n      <td>2.512588</td>\n      <td>0.080870</td>\n      <td>0.0</td>\n      <td>2.354082</td>\n      <td>2.671094</td>\n      <td>outcome</td>\n    </tr>\n    <tr>\n      <th>ATT</th>\n      <td>2.535126</td>\n      <td>0.077464</td>\n      <td>0.0</td>\n      <td>2.383296</td>\n      <td>2.686955</td>\n      <td>outcome</td>\n    </tr>\n  </tbody>\n</table>\n</div>"
     },
     "execution_count": 41,
     "metadata": {},
     "output_type": "execute_result"
    }
   ],
   "source": [
    "model.results"
   ]
  }
 ],
 "metadata": {
  "kernelspec": {
   "display_name": "Python 3 (ipykernel)",
   "language": "python",
   "name": "python3"
  },
  "language_info": {
   "codemirror_mode": {
    "name": "ipython",
    "version": 3
   },
   "file_extension": ".py",
   "mimetype": "text/x-python",
   "name": "python",
   "nbconvert_exporter": "python",
   "pygments_lexer": "ipython3",
   "version": "3.10.13"
  }
 },
 "nbformat": 4,
 "nbformat_minor": 4
}
