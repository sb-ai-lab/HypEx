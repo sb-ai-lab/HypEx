{
 "cells": [
  {
   "cell_type": "markdown",
   "metadata": {},
   "source": [
    "# Tutorial 1: Matching"
   ]
  },
  {
   "cell_type": "markdown",
   "metadata": {},
   "source": [
    "## 0. Import libraries "
   ]
  },
  {
   "cell_type": "code",
   "execution_count": 1,
   "metadata": {
    "ExecuteTime": {
     "end_time": "2023-11-23T12:43:51.258770600Z",
     "start_time": "2023-11-23T12:43:47.367980300Z"
    }
   },
   "outputs": [
    {
     "name": "stderr",
     "output_type": "stream",
     "text": [
      "C:\\Users\\User\\AppData\\Local\\Programs\\Python\\Python310\\lib\\site-packages\\tqdm\\auto.py:21: TqdmWarning: IProgress not found. Please update jupyter and ipywidgets. See https://ipywidgets.readthedocs.io/en/stable/user_install.html\n",
      "  from .autonotebook import tqdm as notebook_tqdm\n"
     ]
    }
   ],
   "source": [
    "import warnings \n",
    "from hypex import Matcher\n",
    "from hypex.dataset import DataGenerator\n",
    "\n",
    "warnings.simplefilter(action='ignore', category=FutureWarning)"
   ]
  },
  {
   "cell_type": "markdown",
   "metadata": {},
   "source": [
    "## 1. Create or upload your dataset  \n",
    "In this case we will create random dataset with known effect size  \n",
    "If you have your own dataset, go to the part 2 \n"
   ]
  },
  {
   "cell_type": "code",
   "execution_count": 3,
   "metadata": {
    "ExecuteTime": {
     "end_time": "2023-11-23T12:44:12.230668Z",
     "start_time": "2023-11-23T12:44:12.073259Z"
    }
   },
   "outputs": [
    {
     "data": {
      "text/plain": "      info_1 info_2 feature_1   feature_2  feature_3  feature_4  treatment  \\\n0       9508      Q    female     Deposit        NaN        0.0        0.0   \n1       1783      Q    female         NaN  -1.946330        3.0        1.0   \n2       2815      U    female  Investment   0.423735        3.0        1.0   \n3       6961      Q      male      Credit   0.183354        1.0        1.0   \n4      13036      U    female     Deposit  -1.145800        2.0        0.0   \n...      ...    ...       ...         ...        ...        ...        ...   \n4995    1753      Q      male      Credit  -1.032884        3.0        1.0   \n4996   13009      U    female     Deposit  -2.286353        1.0        0.0   \n4997   10744      U      male      Credit  -0.076360        3.0        0.0   \n4998   12343      U    female     Deposit   1.524106        0.0        1.0   \n4999    7078      U      male  Investment   1.038898        0.0        0.0   \n\n      target_1  target_2  \n0    -0.215974 -0.215974  \n1     5.204231  5.204231  \n2     8.012220  3.079220  \n3     4.699710  4.699710  \n4     0.504827  0.504827  \n...        ...       ...  \n4995  3.797474  0.979399  \n4996 -1.164799 -1.164799  \n4997  2.785862  2.785862  \n4998  4.919137  4.919137  \n4999 -1.299679  2.833841  \n\n[5000 rows x 9 columns]",
      "text/html": "<div>\n<style scoped>\n    .dataframe tbody tr th:only-of-type {\n        vertical-align: middle;\n    }\n\n    .dataframe tbody tr th {\n        vertical-align: top;\n    }\n\n    .dataframe thead th {\n        text-align: right;\n    }\n</style>\n<table border=\"1\" class=\"dataframe\">\n  <thead>\n    <tr style=\"text-align: right;\">\n      <th></th>\n      <th>info_1</th>\n      <th>info_2</th>\n      <th>feature_1</th>\n      <th>feature_2</th>\n      <th>feature_3</th>\n      <th>feature_4</th>\n      <th>treatment</th>\n      <th>target_1</th>\n      <th>target_2</th>\n    </tr>\n  </thead>\n  <tbody>\n    <tr>\n      <th>0</th>\n      <td>9508</td>\n      <td>Q</td>\n      <td>female</td>\n      <td>Deposit</td>\n      <td>NaN</td>\n      <td>0.0</td>\n      <td>0.0</td>\n      <td>-0.215974</td>\n      <td>-0.215974</td>\n    </tr>\n    <tr>\n      <th>1</th>\n      <td>1783</td>\n      <td>Q</td>\n      <td>female</td>\n      <td>NaN</td>\n      <td>-1.946330</td>\n      <td>3.0</td>\n      <td>1.0</td>\n      <td>5.204231</td>\n      <td>5.204231</td>\n    </tr>\n    <tr>\n      <th>2</th>\n      <td>2815</td>\n      <td>U</td>\n      <td>female</td>\n      <td>Investment</td>\n      <td>0.423735</td>\n      <td>3.0</td>\n      <td>1.0</td>\n      <td>8.012220</td>\n      <td>3.079220</td>\n    </tr>\n    <tr>\n      <th>3</th>\n      <td>6961</td>\n      <td>Q</td>\n      <td>male</td>\n      <td>Credit</td>\n      <td>0.183354</td>\n      <td>1.0</td>\n      <td>1.0</td>\n      <td>4.699710</td>\n      <td>4.699710</td>\n    </tr>\n    <tr>\n      <th>4</th>\n      <td>13036</td>\n      <td>U</td>\n      <td>female</td>\n      <td>Deposit</td>\n      <td>-1.145800</td>\n      <td>2.0</td>\n      <td>0.0</td>\n      <td>0.504827</td>\n      <td>0.504827</td>\n    </tr>\n    <tr>\n      <th>...</th>\n      <td>...</td>\n      <td>...</td>\n      <td>...</td>\n      <td>...</td>\n      <td>...</td>\n      <td>...</td>\n      <td>...</td>\n      <td>...</td>\n      <td>...</td>\n    </tr>\n    <tr>\n      <th>4995</th>\n      <td>1753</td>\n      <td>Q</td>\n      <td>male</td>\n      <td>Credit</td>\n      <td>-1.032884</td>\n      <td>3.0</td>\n      <td>1.0</td>\n      <td>3.797474</td>\n      <td>0.979399</td>\n    </tr>\n    <tr>\n      <th>4996</th>\n      <td>13009</td>\n      <td>U</td>\n      <td>female</td>\n      <td>Deposit</td>\n      <td>-2.286353</td>\n      <td>1.0</td>\n      <td>0.0</td>\n      <td>-1.164799</td>\n      <td>-1.164799</td>\n    </tr>\n    <tr>\n      <th>4997</th>\n      <td>10744</td>\n      <td>U</td>\n      <td>male</td>\n      <td>Credit</td>\n      <td>-0.076360</td>\n      <td>3.0</td>\n      <td>0.0</td>\n      <td>2.785862</td>\n      <td>2.785862</td>\n    </tr>\n    <tr>\n      <th>4998</th>\n      <td>12343</td>\n      <td>U</td>\n      <td>female</td>\n      <td>Deposit</td>\n      <td>1.524106</td>\n      <td>0.0</td>\n      <td>1.0</td>\n      <td>4.919137</td>\n      <td>4.919137</td>\n    </tr>\n    <tr>\n      <th>4999</th>\n      <td>7078</td>\n      <td>U</td>\n      <td>male</td>\n      <td>Investment</td>\n      <td>1.038898</td>\n      <td>0.0</td>\n      <td>0.0</td>\n      <td>-1.299679</td>\n      <td>2.833841</td>\n    </tr>\n  </tbody>\n</table>\n<p>5000 rows × 9 columns</p>\n</div>"
     },
     "execution_count": 3,
     "metadata": {},
     "output_type": "execute_result"
    }
   ],
   "source": [
    "data = DataGenerator(na_columns=['feature_3', 'feature_2'], \n",
    "                     num_features=2, \n",
    "                     num_targets=2)\n",
    "data.df"
   ]
  },
  {
   "cell_type": "code",
   "execution_count": 4,
   "metadata": {
    "ExecuteTime": {
     "end_time": "2023-11-23T12:44:15.170523600Z",
     "start_time": "2023-11-23T12:44:15.042996Z"
    }
   },
   "outputs": [
    {
     "data": {
      "text/plain": "Index(['info_1', 'info_2', 'feature_1', 'feature_2', 'feature_3', 'feature_4',\n       'treatment', 'target_1', 'target_2'],\n      dtype='object')"
     },
     "execution_count": 4,
     "metadata": {},
     "output_type": "execute_result"
    }
   ],
   "source": [
    "data.df.columns"
   ]
  },
  {
   "cell_type": "code",
   "execution_count": 5,
   "metadata": {
    "scrolled": true,
    "ExecuteTime": {
     "end_time": "2023-11-23T12:44:20.560397600Z",
     "start_time": "2023-11-23T12:44:20.523064500Z"
    }
   },
   "outputs": [
    {
     "data": {
      "text/plain": "treatment\n0.0    2528\n1.0    2472\nName: count, dtype: int64"
     },
     "execution_count": 5,
     "metadata": {},
     "output_type": "execute_result"
    }
   ],
   "source": [
    "data.df.treatment.value_counts()"
   ]
  },
  {
   "cell_type": "code",
   "execution_count": 6,
   "metadata": {
    "ExecuteTime": {
     "end_time": "2023-11-23T12:44:21.558974200Z",
     "start_time": "2023-11-23T12:44:21.506538100Z"
    }
   },
   "outputs": [
    {
     "data": {
      "text/plain": "info_1         0\ninfo_2         0\nfeature_1      0\nfeature_2    500\nfeature_3    500\nfeature_4      0\ntreatment      0\ntarget_1       0\ntarget_2       0\ndtype: int64"
     },
     "execution_count": 6,
     "metadata": {},
     "output_type": "execute_result"
    }
   ],
   "source": [
    "data.df.isna().sum()"
   ]
  },
  {
   "cell_type": "markdown",
   "metadata": {},
   "source": [
    "## 2. Matching  \n",
    "### 2.0 Init params\n",
    "info_col used to define informative attributes that should not be part of matching, such as user_id  \n",
    "But to explicitly store this column in the table, so that you can compare directly after computation"
   ]
  },
  {
   "cell_type": "code",
   "execution_count": 9,
   "metadata": {
    "ExecuteTime": {
     "end_time": "2023-11-23T12:44:47.768557100Z",
     "start_time": "2023-11-23T12:44:47.730542300Z"
    }
   },
   "outputs": [],
   "source": [
    "info_col = [data.info_col_names[0]]\n",
    "\n",
    "outcome = data.target_names\n",
    "treatment = data.treatment_name"
   ]
  },
  {
   "cell_type": "markdown",
   "metadata": {},
   "source": [
    "### 2.1 Simple matching\n",
    "This is the easiest way to initialize and calculate metrics on a Matching task  \n",
    "Use it when you are clear about each attribute or if you don't have any additional task conditions (Strict equality for certain features) "
   ]
  },
  {
   "cell_type": "code",
   "execution_count": 10,
   "metadata": {
    "ExecuteTime": {
     "end_time": "2023-11-23T12:44:51.187217700Z",
     "start_time": "2023-11-23T12:44:50.141104400Z"
    }
   },
   "outputs": [
    {
     "name": "stderr",
     "output_type": "stream",
     "text": [
      "[23.11.2023 15:44:50 | hypex | INFO]: Number of NaN values filled with zeros: 1000\n",
      "Get treated index: 100%|██████████| 5000/5000 [00:00<00:00, 26720.59it/s]  \n"
     ]
    }
   ],
   "source": [
    "# Standard model with base parameters\n",
    "model = Matcher(input_data=data.df, outcome=outcome, treatment=treatment, info_col=info_col)\n",
    "results, quality_results, df_matched = model.estimate()"
   ]
  },
  {
   "cell_type": "code",
   "execution_count": 11,
   "metadata": {
    "ExecuteTime": {
     "end_time": "2023-11-23T12:44:52.633633Z",
     "start_time": "2023-11-23T12:44:52.580170100Z"
    }
   },
   "outputs": [
    {
     "data": {
      "text/plain": "     effect_size   std_err  p-val  ci_lower  ci_upper   outcome\nATE     2.652815  0.068678   0.00  2.518206  2.787425  target_1\nATC     2.623115  0.077757   0.00  2.470711  2.775519  target_1\nATT     2.683189  0.076139   0.00  2.533956  2.832422  target_1\nATE    -0.114397  0.082510   0.17 -0.276117  0.047322  target_2\nATC    -0.133360  0.092808   0.15 -0.315265  0.048544  target_2\nATT    -0.095005  0.092118   0.30 -0.275556  0.085546  target_2",
      "text/html": "<div>\n<style scoped>\n    .dataframe tbody tr th:only-of-type {\n        vertical-align: middle;\n    }\n\n    .dataframe tbody tr th {\n        vertical-align: top;\n    }\n\n    .dataframe thead th {\n        text-align: right;\n    }\n</style>\n<table border=\"1\" class=\"dataframe\">\n  <thead>\n    <tr style=\"text-align: right;\">\n      <th></th>\n      <th>effect_size</th>\n      <th>std_err</th>\n      <th>p-val</th>\n      <th>ci_lower</th>\n      <th>ci_upper</th>\n      <th>outcome</th>\n    </tr>\n  </thead>\n  <tbody>\n    <tr>\n      <th>ATE</th>\n      <td>2.652815</td>\n      <td>0.068678</td>\n      <td>0.00</td>\n      <td>2.518206</td>\n      <td>2.787425</td>\n      <td>target_1</td>\n    </tr>\n    <tr>\n      <th>ATC</th>\n      <td>2.623115</td>\n      <td>0.077757</td>\n      <td>0.00</td>\n      <td>2.470711</td>\n      <td>2.775519</td>\n      <td>target_1</td>\n    </tr>\n    <tr>\n      <th>ATT</th>\n      <td>2.683189</td>\n      <td>0.076139</td>\n      <td>0.00</td>\n      <td>2.533956</td>\n      <td>2.832422</td>\n      <td>target_1</td>\n    </tr>\n    <tr>\n      <th>ATE</th>\n      <td>-0.114397</td>\n      <td>0.082510</td>\n      <td>0.17</td>\n      <td>-0.276117</td>\n      <td>0.047322</td>\n      <td>target_2</td>\n    </tr>\n    <tr>\n      <th>ATC</th>\n      <td>-0.133360</td>\n      <td>0.092808</td>\n      <td>0.15</td>\n      <td>-0.315265</td>\n      <td>0.048544</td>\n      <td>target_2</td>\n    </tr>\n    <tr>\n      <th>ATT</th>\n      <td>-0.095005</td>\n      <td>0.092118</td>\n      <td>0.30</td>\n      <td>-0.275556</td>\n      <td>0.085546</td>\n      <td>target_2</td>\n    </tr>\n  </tbody>\n</table>\n</div>"
     },
     "execution_count": 11,
     "metadata": {},
     "output_type": "execute_result"
    }
   ],
   "source": [
    "results"
   ]
  },
  {
   "cell_type": "code",
   "execution_count": 12,
   "metadata": {
    "ExecuteTime": {
     "end_time": "2023-11-23T12:45:06.312331800Z",
     "start_time": "2023-11-23T12:45:06.280283900Z"
    }
   },
   "outputs": [
    {
     "data": {
      "text/plain": "dict_keys(['psi', 'ks_test', 'smd', 'repeats'])"
     },
     "execution_count": 12,
     "metadata": {},
     "output_type": "execute_result"
    }
   ],
   "source": [
    "quality_results.keys()"
   ]
  },
  {
   "cell_type": "code",
   "execution_count": 13,
   "metadata": {
    "ExecuteTime": {
     "end_time": "2023-11-23T12:45:06.526584800Z",
     "start_time": "2023-11-23T12:45:06.495530100Z"
    }
   },
   "outputs": [
    {
     "data": {
      "text/plain": "           match_control_to_treat  match_treat_to_control\nfeature_3                0.902708                0.991299\nfeature_4                1.000000                1.000000",
      "text/html": "<div>\n<style scoped>\n    .dataframe tbody tr th:only-of-type {\n        vertical-align: middle;\n    }\n\n    .dataframe tbody tr th {\n        vertical-align: top;\n    }\n\n    .dataframe thead th {\n        text-align: right;\n    }\n</style>\n<table border=\"1\" class=\"dataframe\">\n  <thead>\n    <tr style=\"text-align: right;\">\n      <th></th>\n      <th>match_control_to_treat</th>\n      <th>match_treat_to_control</th>\n    </tr>\n  </thead>\n  <tbody>\n    <tr>\n      <th>feature_3</th>\n      <td>0.902708</td>\n      <td>0.991299</td>\n    </tr>\n    <tr>\n      <th>feature_4</th>\n      <td>1.000000</td>\n      <td>1.000000</td>\n    </tr>\n  </tbody>\n</table>\n</div>"
     },
     "execution_count": 13,
     "metadata": {},
     "output_type": "execute_result"
    }
   ],
   "source": [
    "quality_results['ks_test']"
   ]
  },
  {
   "cell_type": "code",
   "execution_count": 14,
   "metadata": {
    "ExecuteTime": {
     "end_time": "2023-11-23T12:45:07.596980100Z",
     "start_time": "2023-11-23T12:45:07.515466800Z"
    }
   },
   "outputs": [
    {
     "data": {
      "text/plain": "      index  feature_3  feature_4  info_2_U  feature_1_male  feature_2_Credit  \\\n0      1783  -1.946330        3.0         0               0                 0   \n1      2815   0.423735        3.0         1               0                 0   \n2      6961   0.183354        1.0         0               1                 1   \n3     10432   0.000000        3.0         1               1                 1   \n4     10222   0.090388        1.0         0               0                 0   \n...     ...        ...        ...       ...             ...               ...   \n2523   2902   0.842208        2.0         0               0                 0   \n2524   4228   1.204038        2.0         1               0                 1   \n2525  13009  -2.286353        1.0         1               0                 0   \n2526  10744  -0.076360        3.0         1               1                 1   \n2527   7078   1.038898        0.0         1               1                 0   \n\n      feature_2_Deposit  feature_2_Investment  feature_3_matched  \\\n0                     0                     0          -1.621690   \n1                     0                     1           0.439773   \n2                     0                     0           0.213917   \n3                     0                     0           0.000000   \n4                     0                     1           0.088173   \n...                 ...                   ...                ...   \n2523                  0                     1           0.843187   \n2524                  0                     0           1.111896   \n2525                  1                     0          -2.454503   \n2526                  0                     0          -0.086061   \n2527                  0                     1           1.198814   \n\n      feature_4_matched  ...  feature_2_Investment_matched  \\\n0                   3.0  ...                           0.0   \n1                   3.0  ...                           1.0   \n2                   1.0  ...                           0.0   \n3                   3.0  ...                           0.0   \n4                   1.0  ...                           1.0   \n...                 ...  ...                           ...   \n2523                2.0  ...                           1.0   \n2524                2.0  ...                           0.0   \n2525                1.0  ...                           0.0   \n2526                3.0  ...                           0.0   \n2527                0.0  ...                           1.0   \n\n                             index_matched  target_1  target_1_matched  \\\n0                                   [5185]  5.204231          2.240444   \n1                                   [9157]  8.012220          4.175422   \n2                                   [7645]  4.699710          1.186502   \n3     [8854, 2941, 4294, 5695, 2998, 1624]  7.690724          2.652024   \n4                                   [4336]  2.617214          0.582712   \n...                                    ...       ...               ...   \n2523                               [14560]  4.095340          6.403056   \n2524                               [11908]  3.917107          6.630113   \n2525                                [8008] -1.164799         -3.272139   \n2526                                [2806]  2.785862          7.040315   \n2527                               [12136] -1.299679          2.777553   \n\n      target_1_matched_bias  target_2  target_2_matched  \\\n0                  3.278713  5.204231          2.240444   \n1                  3.852356  3.079220          8.624334   \n2                  3.542858  4.699710          1.186502   \n3                  5.038700  7.690724          5.111347   \n4                  2.032352  0.461260          3.671266   \n...                     ...       ...               ...   \n2523               2.305748  6.402154          3.407937   \n2524               2.898269  7.444792          2.129195   \n2525              -1.769257 -1.164799         -0.811464   \n2526               4.273958  2.785862          1.707816   \n2527               3.755702  2.833841         -0.361463   \n\n      target_2_matched_bias  treatment  treatment_matched  \n0                  3.450316          1                  0  \n1                 -5.521078          1                  0  \n2                  3.559013          1                  0  \n3                  2.579377          1                  0  \n4                 -3.213325          1                  0  \n...                     ...        ...                ...  \n2523              -2.995618          0                  1  \n2524              -5.183684          0                  1  \n2525               0.594060          0                  1  \n2526              -1.064157          0                  1  \n2527              -3.424243          0                  1  \n\n[5000 rows x 24 columns]",
      "text/html": "<div>\n<style scoped>\n    .dataframe tbody tr th:only-of-type {\n        vertical-align: middle;\n    }\n\n    .dataframe tbody tr th {\n        vertical-align: top;\n    }\n\n    .dataframe thead th {\n        text-align: right;\n    }\n</style>\n<table border=\"1\" class=\"dataframe\">\n  <thead>\n    <tr style=\"text-align: right;\">\n      <th></th>\n      <th>index</th>\n      <th>feature_3</th>\n      <th>feature_4</th>\n      <th>info_2_U</th>\n      <th>feature_1_male</th>\n      <th>feature_2_Credit</th>\n      <th>feature_2_Deposit</th>\n      <th>feature_2_Investment</th>\n      <th>feature_3_matched</th>\n      <th>feature_4_matched</th>\n      <th>...</th>\n      <th>feature_2_Investment_matched</th>\n      <th>index_matched</th>\n      <th>target_1</th>\n      <th>target_1_matched</th>\n      <th>target_1_matched_bias</th>\n      <th>target_2</th>\n      <th>target_2_matched</th>\n      <th>target_2_matched_bias</th>\n      <th>treatment</th>\n      <th>treatment_matched</th>\n    </tr>\n  </thead>\n  <tbody>\n    <tr>\n      <th>0</th>\n      <td>1783</td>\n      <td>-1.946330</td>\n      <td>3.0</td>\n      <td>0</td>\n      <td>0</td>\n      <td>0</td>\n      <td>0</td>\n      <td>0</td>\n      <td>-1.621690</td>\n      <td>3.0</td>\n      <td>...</td>\n      <td>0.0</td>\n      <td>[5185]</td>\n      <td>5.204231</td>\n      <td>2.240444</td>\n      <td>3.278713</td>\n      <td>5.204231</td>\n      <td>2.240444</td>\n      <td>3.450316</td>\n      <td>1</td>\n      <td>0</td>\n    </tr>\n    <tr>\n      <th>1</th>\n      <td>2815</td>\n      <td>0.423735</td>\n      <td>3.0</td>\n      <td>1</td>\n      <td>0</td>\n      <td>0</td>\n      <td>0</td>\n      <td>1</td>\n      <td>0.439773</td>\n      <td>3.0</td>\n      <td>...</td>\n      <td>1.0</td>\n      <td>[9157]</td>\n      <td>8.012220</td>\n      <td>4.175422</td>\n      <td>3.852356</td>\n      <td>3.079220</td>\n      <td>8.624334</td>\n      <td>-5.521078</td>\n      <td>1</td>\n      <td>0</td>\n    </tr>\n    <tr>\n      <th>2</th>\n      <td>6961</td>\n      <td>0.183354</td>\n      <td>1.0</td>\n      <td>0</td>\n      <td>1</td>\n      <td>1</td>\n      <td>0</td>\n      <td>0</td>\n      <td>0.213917</td>\n      <td>1.0</td>\n      <td>...</td>\n      <td>0.0</td>\n      <td>[7645]</td>\n      <td>4.699710</td>\n      <td>1.186502</td>\n      <td>3.542858</td>\n      <td>4.699710</td>\n      <td>1.186502</td>\n      <td>3.559013</td>\n      <td>1</td>\n      <td>0</td>\n    </tr>\n    <tr>\n      <th>3</th>\n      <td>10432</td>\n      <td>0.000000</td>\n      <td>3.0</td>\n      <td>1</td>\n      <td>1</td>\n      <td>1</td>\n      <td>0</td>\n      <td>0</td>\n      <td>0.000000</td>\n      <td>3.0</td>\n      <td>...</td>\n      <td>0.0</td>\n      <td>[8854, 2941, 4294, 5695, 2998, 1624]</td>\n      <td>7.690724</td>\n      <td>2.652024</td>\n      <td>5.038700</td>\n      <td>7.690724</td>\n      <td>5.111347</td>\n      <td>2.579377</td>\n      <td>1</td>\n      <td>0</td>\n    </tr>\n    <tr>\n      <th>4</th>\n      <td>10222</td>\n      <td>0.090388</td>\n      <td>1.0</td>\n      <td>0</td>\n      <td>0</td>\n      <td>0</td>\n      <td>0</td>\n      <td>1</td>\n      <td>0.088173</td>\n      <td>1.0</td>\n      <td>...</td>\n      <td>1.0</td>\n      <td>[4336]</td>\n      <td>2.617214</td>\n      <td>0.582712</td>\n      <td>2.032352</td>\n      <td>0.461260</td>\n      <td>3.671266</td>\n      <td>-3.213325</td>\n      <td>1</td>\n      <td>0</td>\n    </tr>\n    <tr>\n      <th>...</th>\n      <td>...</td>\n      <td>...</td>\n      <td>...</td>\n      <td>...</td>\n      <td>...</td>\n      <td>...</td>\n      <td>...</td>\n      <td>...</td>\n      <td>...</td>\n      <td>...</td>\n      <td>...</td>\n      <td>...</td>\n      <td>...</td>\n      <td>...</td>\n      <td>...</td>\n      <td>...</td>\n      <td>...</td>\n      <td>...</td>\n      <td>...</td>\n      <td>...</td>\n      <td>...</td>\n    </tr>\n    <tr>\n      <th>2523</th>\n      <td>2902</td>\n      <td>0.842208</td>\n      <td>2.0</td>\n      <td>0</td>\n      <td>0</td>\n      <td>0</td>\n      <td>0</td>\n      <td>1</td>\n      <td>0.843187</td>\n      <td>2.0</td>\n      <td>...</td>\n      <td>1.0</td>\n      <td>[14560]</td>\n      <td>4.095340</td>\n      <td>6.403056</td>\n      <td>2.305748</td>\n      <td>6.402154</td>\n      <td>3.407937</td>\n      <td>-2.995618</td>\n      <td>0</td>\n      <td>1</td>\n    </tr>\n    <tr>\n      <th>2524</th>\n      <td>4228</td>\n      <td>1.204038</td>\n      <td>2.0</td>\n      <td>1</td>\n      <td>0</td>\n      <td>1</td>\n      <td>0</td>\n      <td>0</td>\n      <td>1.111896</td>\n      <td>2.0</td>\n      <td>...</td>\n      <td>0.0</td>\n      <td>[11908]</td>\n      <td>3.917107</td>\n      <td>6.630113</td>\n      <td>2.898269</td>\n      <td>7.444792</td>\n      <td>2.129195</td>\n      <td>-5.183684</td>\n      <td>0</td>\n      <td>1</td>\n    </tr>\n    <tr>\n      <th>2525</th>\n      <td>13009</td>\n      <td>-2.286353</td>\n      <td>1.0</td>\n      <td>1</td>\n      <td>0</td>\n      <td>0</td>\n      <td>1</td>\n      <td>0</td>\n      <td>-2.454503</td>\n      <td>1.0</td>\n      <td>...</td>\n      <td>0.0</td>\n      <td>[8008]</td>\n      <td>-1.164799</td>\n      <td>-3.272139</td>\n      <td>-1.769257</td>\n      <td>-1.164799</td>\n      <td>-0.811464</td>\n      <td>0.594060</td>\n      <td>0</td>\n      <td>1</td>\n    </tr>\n    <tr>\n      <th>2526</th>\n      <td>10744</td>\n      <td>-0.076360</td>\n      <td>3.0</td>\n      <td>1</td>\n      <td>1</td>\n      <td>1</td>\n      <td>0</td>\n      <td>0</td>\n      <td>-0.086061</td>\n      <td>3.0</td>\n      <td>...</td>\n      <td>0.0</td>\n      <td>[2806]</td>\n      <td>2.785862</td>\n      <td>7.040315</td>\n      <td>4.273958</td>\n      <td>2.785862</td>\n      <td>1.707816</td>\n      <td>-1.064157</td>\n      <td>0</td>\n      <td>1</td>\n    </tr>\n    <tr>\n      <th>2527</th>\n      <td>7078</td>\n      <td>1.038898</td>\n      <td>0.0</td>\n      <td>1</td>\n      <td>1</td>\n      <td>0</td>\n      <td>0</td>\n      <td>1</td>\n      <td>1.198814</td>\n      <td>0.0</td>\n      <td>...</td>\n      <td>1.0</td>\n      <td>[12136]</td>\n      <td>-1.299679</td>\n      <td>2.777553</td>\n      <td>3.755702</td>\n      <td>2.833841</td>\n      <td>-0.361463</td>\n      <td>-3.424243</td>\n      <td>0</td>\n      <td>1</td>\n    </tr>\n  </tbody>\n</table>\n<p>5000 rows × 24 columns</p>\n</div>"
     },
     "execution_count": 14,
     "metadata": {},
     "output_type": "execute_result"
    }
   ],
   "source": [
    "df_matched"
   ]
  },
  {
   "cell_type": "code",
   "execution_count": 15,
   "metadata": {
    "ExecuteTime": {
     "end_time": "2023-11-23T12:45:48.479487200Z",
     "start_time": "2023-11-23T12:45:48.329113900Z"
    }
   },
   "outputs": [
    {
     "data": {
      "text/plain": "Empty DataFrame\nColumns: [index, feature_3, feature_4, info_2_U, feature_1_male, feature_2_Credit, feature_2_Deposit, feature_2_Investment, feature_3_matched, feature_4_matched, info_2_U_matched, feature_1_male_matched, feature_2_Credit_matched, feature_2_Deposit_matched, feature_2_Investment_matched, index_matched, target_1, target_1_matched, target_1_matched_bias, target_2, target_2_matched, target_2_matched_bias, treatment, treatment_matched]\nIndex: []\n\n[0 rows x 24 columns]",
      "text/html": "<div>\n<style scoped>\n    .dataframe tbody tr th:only-of-type {\n        vertical-align: middle;\n    }\n\n    .dataframe tbody tr th {\n        vertical-align: top;\n    }\n\n    .dataframe thead th {\n        text-align: right;\n    }\n</style>\n<table border=\"1\" class=\"dataframe\">\n  <thead>\n    <tr style=\"text-align: right;\">\n      <th></th>\n      <th>index</th>\n      <th>feature_3</th>\n      <th>feature_4</th>\n      <th>info_2_U</th>\n      <th>feature_1_male</th>\n      <th>feature_2_Credit</th>\n      <th>feature_2_Deposit</th>\n      <th>feature_2_Investment</th>\n      <th>feature_3_matched</th>\n      <th>feature_4_matched</th>\n      <th>...</th>\n      <th>feature_2_Investment_matched</th>\n      <th>index_matched</th>\n      <th>target_1</th>\n      <th>target_1_matched</th>\n      <th>target_1_matched_bias</th>\n      <th>target_2</th>\n      <th>target_2_matched</th>\n      <th>target_2_matched_bias</th>\n      <th>treatment</th>\n      <th>treatment_matched</th>\n    </tr>\n  </thead>\n  <tbody>\n  </tbody>\n</table>\n<p>0 rows × 24 columns</p>\n</div>"
     },
     "execution_count": 15,
     "metadata": {},
     "output_type": "execute_result"
    }
   ],
   "source": [
    "df_matched[df_matched['info_2_U'] != df_matched['info_2_U_matched']]"
   ]
  },
  {
   "cell_type": "markdown",
   "metadata": {},
   "source": [
    "### 2.2 Matching with a fixed variable  \n",
    "Used when you have categorical feature(s) that you want to compare by strict equality  \n",
    "group_col is used for strict comparison of categorical features.  \n",
    "In our case there is only one attribute  \n",
    "If there are several such attributes, you should make one of them and use it"
   ]
  },
  {
   "cell_type": "code",
   "execution_count": 16,
   "metadata": {
    "ExecuteTime": {
     "end_time": "2023-11-23T12:45:52.145427900Z",
     "start_time": "2023-11-23T12:45:52.065775400Z"
    }
   },
   "outputs": [],
   "source": [
    "group_col = 'info_2'"
   ]
  },
  {
   "cell_type": "code",
   "execution_count": 17,
   "metadata": {
    "ExecuteTime": {
     "end_time": "2023-11-23T12:45:54.197881600Z",
     "start_time": "2023-11-23T12:45:52.777141400Z"
    }
   },
   "outputs": [
    {
     "name": "stderr",
     "output_type": "stream",
     "text": [
      "[23.11.2023 15:45:52 | hypex | INFO]: Number of NaN values filled with zeros: 1000\n",
      "Get treated index by group U: 100%|██████████| 4/4 [00:00<00:00, 31.27it/s]  \n"
     ]
    }
   ],
   "source": [
    "model = Matcher(input_data=data.df, outcome=outcome, treatment=treatment,\n",
    "                info_col=info_col, group_col=group_col)\n",
    "results, quality_results, df_matched = model.estimate()"
   ]
  },
  {
   "cell_type": "code",
   "execution_count": 18,
   "metadata": {
    "ExecuteTime": {
     "end_time": "2023-11-23T12:45:55.283617300Z",
     "start_time": "2023-11-23T12:45:55.164796600Z"
    }
   },
   "outputs": [
    {
     "data": {
      "text/plain": "     effect_size   std_err  p-val  ci_lower  ci_upper   outcome\nATE     2.653028  0.068668   0.00  2.518438  2.787617  target_1\nATC     2.623120  0.077746   0.00  2.470737  2.775502  target_1\nATT     2.683613  0.076124   0.00  2.534411  2.832815  target_1\nATE    -0.113997  0.082506   0.17 -0.275710  0.047715  target_2\nATC    -0.133361  0.092808   0.15 -0.315265  0.048542  target_2\nATT    -0.094195  0.092107   0.31 -0.274724  0.086334  target_2",
      "text/html": "<div>\n<style scoped>\n    .dataframe tbody tr th:only-of-type {\n        vertical-align: middle;\n    }\n\n    .dataframe tbody tr th {\n        vertical-align: top;\n    }\n\n    .dataframe thead th {\n        text-align: right;\n    }\n</style>\n<table border=\"1\" class=\"dataframe\">\n  <thead>\n    <tr style=\"text-align: right;\">\n      <th></th>\n      <th>effect_size</th>\n      <th>std_err</th>\n      <th>p-val</th>\n      <th>ci_lower</th>\n      <th>ci_upper</th>\n      <th>outcome</th>\n    </tr>\n  </thead>\n  <tbody>\n    <tr>\n      <th>ATE</th>\n      <td>2.653028</td>\n      <td>0.068668</td>\n      <td>0.00</td>\n      <td>2.518438</td>\n      <td>2.787617</td>\n      <td>target_1</td>\n    </tr>\n    <tr>\n      <th>ATC</th>\n      <td>2.623120</td>\n      <td>0.077746</td>\n      <td>0.00</td>\n      <td>2.470737</td>\n      <td>2.775502</td>\n      <td>target_1</td>\n    </tr>\n    <tr>\n      <th>ATT</th>\n      <td>2.683613</td>\n      <td>0.076124</td>\n      <td>0.00</td>\n      <td>2.534411</td>\n      <td>2.832815</td>\n      <td>target_1</td>\n    </tr>\n    <tr>\n      <th>ATE</th>\n      <td>-0.113997</td>\n      <td>0.082506</td>\n      <td>0.17</td>\n      <td>-0.275710</td>\n      <td>0.047715</td>\n      <td>target_2</td>\n    </tr>\n    <tr>\n      <th>ATC</th>\n      <td>-0.133361</td>\n      <td>0.092808</td>\n      <td>0.15</td>\n      <td>-0.315265</td>\n      <td>0.048542</td>\n      <td>target_2</td>\n    </tr>\n    <tr>\n      <th>ATT</th>\n      <td>-0.094195</td>\n      <td>0.092107</td>\n      <td>0.31</td>\n      <td>-0.274724</td>\n      <td>0.086334</td>\n      <td>target_2</td>\n    </tr>\n  </tbody>\n</table>\n</div>"
     },
     "execution_count": 18,
     "metadata": {},
     "output_type": "execute_result"
    }
   ],
   "source": [
    "results"
   ]
  },
  {
   "cell_type": "code",
   "execution_count": 19,
   "outputs": [
    {
     "data": {
      "text/plain": "      index  feature_3  feature_4  feature_1_male  feature_2_Credit  \\\n0      1783  -1.946330        3.0               0                 0   \n1      6961   0.183354        1.0               1                 1   \n2     10222   0.090388        1.0               0                 0   \n3     13003  -0.551919        3.0               0                 0   \n4      1555  -0.452623        1.0               1                 0   \n...     ...        ...        ...             ...               ...   \n2523  11620  -0.514484        0.0               0                 0   \n2524   4228   1.204038        2.0               0                 1   \n2525  13009  -2.286353        1.0               0                 0   \n2526  10744  -0.076360        3.0               1                 1   \n2527   7078   1.038898        0.0               1                 0   \n\n      feature_2_Deposit  feature_2_Investment info_2  feature_3_matched  \\\n0                     0                     0      Q          -1.621690   \n1                     0                     0      Q           0.213917   \n2                     0                     1      Q           0.088173   \n3                     1                     0      Q          -0.570587   \n4                     0                     1      Q          -0.462746   \n...                 ...                   ...    ...                ...   \n2523                  1                     0      U          -0.554516   \n2524                  0                     0      U           1.111896   \n2525                  1                     0      U          -2.454503   \n2526                  0                     0      U          -0.086061   \n2527                  0                     1      U           1.198814   \n\n      feature_4_matched  ...  info_2_matched  index_matched  target_1  \\\n0                   3.0  ...               Q         [5185]  5.204231   \n1                   1.0  ...               Q         [7645]  4.699710   \n2                   1.0  ...               Q         [4336]  2.617214   \n3                   3.0  ...               Q        [13732]  6.290954   \n4                   1.0  ...               Q         [6115]  1.772837   \n...                 ...  ...             ...            ...       ...   \n2523                0.0  ...               U        [14434]  0.059858   \n2524                2.0  ...               U        [11908]  3.917107   \n2525                1.0  ...               U         [8008] -1.164799   \n2526                3.0  ...               U         [2806]  2.785862   \n2527                0.0  ...               U        [12136] -1.299679   \n\n      target_1_matched target_1_matched_bias  target_2  target_2_matched  \\\n0             2.240444              3.279149  5.204231          2.240444   \n1             1.186502              3.542899  4.699710          1.186502   \n2             0.582712              2.032349  0.461260          3.671266   \n3             2.216480              4.056339  6.290954          5.221042   \n4            -0.206367              1.969371  1.772837          2.843365   \n...                ...                   ...       ...               ...   \n2523         -2.290294             -2.269874  0.059858         -2.290294   \n2524          6.630113              2.897786  7.444792          2.129195   \n2525         -3.272139             -1.770139 -1.164799         -0.811464   \n2526          7.040315              4.273907  2.785862          1.707816   \n2527          2.777553              3.756541  2.833841         -0.361463   \n\n      target_2_matched_bias  treatment  treatment_matched  \n0                  3.450538          1                  0  \n1                  3.559034          1                  0  \n2                 -3.213327          1                  0  \n3                  1.041921          1                  0  \n4                 -1.085705          1                  0  \n...                     ...        ...                ...  \n2523              -2.292803          0                  1  \n2524              -5.183594          0                  1  \n2525               0.594225          0                  1  \n2526              -1.064148          0                  1  \n2527              -3.424400          0                  1  \n\n[5000 rows x 24 columns]",
      "text/html": "<div>\n<style scoped>\n    .dataframe tbody tr th:only-of-type {\n        vertical-align: middle;\n    }\n\n    .dataframe tbody tr th {\n        vertical-align: top;\n    }\n\n    .dataframe thead th {\n        text-align: right;\n    }\n</style>\n<table border=\"1\" class=\"dataframe\">\n  <thead>\n    <tr style=\"text-align: right;\">\n      <th></th>\n      <th>index</th>\n      <th>feature_3</th>\n      <th>feature_4</th>\n      <th>feature_1_male</th>\n      <th>feature_2_Credit</th>\n      <th>feature_2_Deposit</th>\n      <th>feature_2_Investment</th>\n      <th>info_2</th>\n      <th>feature_3_matched</th>\n      <th>feature_4_matched</th>\n      <th>...</th>\n      <th>info_2_matched</th>\n      <th>index_matched</th>\n      <th>target_1</th>\n      <th>target_1_matched</th>\n      <th>target_1_matched_bias</th>\n      <th>target_2</th>\n      <th>target_2_matched</th>\n      <th>target_2_matched_bias</th>\n      <th>treatment</th>\n      <th>treatment_matched</th>\n    </tr>\n  </thead>\n  <tbody>\n    <tr>\n      <th>0</th>\n      <td>1783</td>\n      <td>-1.946330</td>\n      <td>3.0</td>\n      <td>0</td>\n      <td>0</td>\n      <td>0</td>\n      <td>0</td>\n      <td>Q</td>\n      <td>-1.621690</td>\n      <td>3.0</td>\n      <td>...</td>\n      <td>Q</td>\n      <td>[5185]</td>\n      <td>5.204231</td>\n      <td>2.240444</td>\n      <td>3.279149</td>\n      <td>5.204231</td>\n      <td>2.240444</td>\n      <td>3.450538</td>\n      <td>1</td>\n      <td>0</td>\n    </tr>\n    <tr>\n      <th>1</th>\n      <td>6961</td>\n      <td>0.183354</td>\n      <td>1.0</td>\n      <td>1</td>\n      <td>1</td>\n      <td>0</td>\n      <td>0</td>\n      <td>Q</td>\n      <td>0.213917</td>\n      <td>1.0</td>\n      <td>...</td>\n      <td>Q</td>\n      <td>[7645]</td>\n      <td>4.699710</td>\n      <td>1.186502</td>\n      <td>3.542899</td>\n      <td>4.699710</td>\n      <td>1.186502</td>\n      <td>3.559034</td>\n      <td>1</td>\n      <td>0</td>\n    </tr>\n    <tr>\n      <th>2</th>\n      <td>10222</td>\n      <td>0.090388</td>\n      <td>1.0</td>\n      <td>0</td>\n      <td>0</td>\n      <td>0</td>\n      <td>1</td>\n      <td>Q</td>\n      <td>0.088173</td>\n      <td>1.0</td>\n      <td>...</td>\n      <td>Q</td>\n      <td>[4336]</td>\n      <td>2.617214</td>\n      <td>0.582712</td>\n      <td>2.032349</td>\n      <td>0.461260</td>\n      <td>3.671266</td>\n      <td>-3.213327</td>\n      <td>1</td>\n      <td>0</td>\n    </tr>\n    <tr>\n      <th>3</th>\n      <td>13003</td>\n      <td>-0.551919</td>\n      <td>3.0</td>\n      <td>0</td>\n      <td>0</td>\n      <td>1</td>\n      <td>0</td>\n      <td>Q</td>\n      <td>-0.570587</td>\n      <td>3.0</td>\n      <td>...</td>\n      <td>Q</td>\n      <td>[13732]</td>\n      <td>6.290954</td>\n      <td>2.216480</td>\n      <td>4.056339</td>\n      <td>6.290954</td>\n      <td>5.221042</td>\n      <td>1.041921</td>\n      <td>1</td>\n      <td>0</td>\n    </tr>\n    <tr>\n      <th>4</th>\n      <td>1555</td>\n      <td>-0.452623</td>\n      <td>1.0</td>\n      <td>1</td>\n      <td>0</td>\n      <td>0</td>\n      <td>1</td>\n      <td>Q</td>\n      <td>-0.462746</td>\n      <td>1.0</td>\n      <td>...</td>\n      <td>Q</td>\n      <td>[6115]</td>\n      <td>1.772837</td>\n      <td>-0.206367</td>\n      <td>1.969371</td>\n      <td>1.772837</td>\n      <td>2.843365</td>\n      <td>-1.085705</td>\n      <td>1</td>\n      <td>0</td>\n    </tr>\n    <tr>\n      <th>...</th>\n      <td>...</td>\n      <td>...</td>\n      <td>...</td>\n      <td>...</td>\n      <td>...</td>\n      <td>...</td>\n      <td>...</td>\n      <td>...</td>\n      <td>...</td>\n      <td>...</td>\n      <td>...</td>\n      <td>...</td>\n      <td>...</td>\n      <td>...</td>\n      <td>...</td>\n      <td>...</td>\n      <td>...</td>\n      <td>...</td>\n      <td>...</td>\n      <td>...</td>\n      <td>...</td>\n    </tr>\n    <tr>\n      <th>2523</th>\n      <td>11620</td>\n      <td>-0.514484</td>\n      <td>0.0</td>\n      <td>0</td>\n      <td>0</td>\n      <td>1</td>\n      <td>0</td>\n      <td>U</td>\n      <td>-0.554516</td>\n      <td>0.0</td>\n      <td>...</td>\n      <td>U</td>\n      <td>[14434]</td>\n      <td>0.059858</td>\n      <td>-2.290294</td>\n      <td>-2.269874</td>\n      <td>0.059858</td>\n      <td>-2.290294</td>\n      <td>-2.292803</td>\n      <td>0</td>\n      <td>1</td>\n    </tr>\n    <tr>\n      <th>2524</th>\n      <td>4228</td>\n      <td>1.204038</td>\n      <td>2.0</td>\n      <td>0</td>\n      <td>1</td>\n      <td>0</td>\n      <td>0</td>\n      <td>U</td>\n      <td>1.111896</td>\n      <td>2.0</td>\n      <td>...</td>\n      <td>U</td>\n      <td>[11908]</td>\n      <td>3.917107</td>\n      <td>6.630113</td>\n      <td>2.897786</td>\n      <td>7.444792</td>\n      <td>2.129195</td>\n      <td>-5.183594</td>\n      <td>0</td>\n      <td>1</td>\n    </tr>\n    <tr>\n      <th>2525</th>\n      <td>13009</td>\n      <td>-2.286353</td>\n      <td>1.0</td>\n      <td>0</td>\n      <td>0</td>\n      <td>1</td>\n      <td>0</td>\n      <td>U</td>\n      <td>-2.454503</td>\n      <td>1.0</td>\n      <td>...</td>\n      <td>U</td>\n      <td>[8008]</td>\n      <td>-1.164799</td>\n      <td>-3.272139</td>\n      <td>-1.770139</td>\n      <td>-1.164799</td>\n      <td>-0.811464</td>\n      <td>0.594225</td>\n      <td>0</td>\n      <td>1</td>\n    </tr>\n    <tr>\n      <th>2526</th>\n      <td>10744</td>\n      <td>-0.076360</td>\n      <td>3.0</td>\n      <td>1</td>\n      <td>1</td>\n      <td>0</td>\n      <td>0</td>\n      <td>U</td>\n      <td>-0.086061</td>\n      <td>3.0</td>\n      <td>...</td>\n      <td>U</td>\n      <td>[2806]</td>\n      <td>2.785862</td>\n      <td>7.040315</td>\n      <td>4.273907</td>\n      <td>2.785862</td>\n      <td>1.707816</td>\n      <td>-1.064148</td>\n      <td>0</td>\n      <td>1</td>\n    </tr>\n    <tr>\n      <th>2527</th>\n      <td>7078</td>\n      <td>1.038898</td>\n      <td>0.0</td>\n      <td>1</td>\n      <td>0</td>\n      <td>0</td>\n      <td>1</td>\n      <td>U</td>\n      <td>1.198814</td>\n      <td>0.0</td>\n      <td>...</td>\n      <td>U</td>\n      <td>[12136]</td>\n      <td>-1.299679</td>\n      <td>2.777553</td>\n      <td>3.756541</td>\n      <td>2.833841</td>\n      <td>-0.361463</td>\n      <td>-3.424400</td>\n      <td>0</td>\n      <td>1</td>\n    </tr>\n  </tbody>\n</table>\n<p>5000 rows × 24 columns</p>\n</div>"
     },
     "execution_count": 19,
     "metadata": {},
     "output_type": "execute_result"
    }
   ],
   "source": [
    "df_matched"
   ],
   "metadata": {
    "collapsed": false,
    "ExecuteTime": {
     "end_time": "2023-11-23T12:45:57.316011300Z",
     "start_time": "2023-11-23T12:45:57.192144200Z"
    }
   }
  },
  {
   "cell_type": "code",
   "execution_count": 20,
   "metadata": {
    "ExecuteTime": {
     "end_time": "2023-11-23T12:46:31.105049200Z",
     "start_time": "2023-11-23T12:46:30.976642500Z"
    }
   },
   "outputs": [
    {
     "data": {
      "text/plain": "Empty DataFrame\nColumns: [index, feature_3, feature_4, feature_1_male, feature_2_Credit, feature_2_Deposit, feature_2_Investment, info_2, feature_3_matched, feature_4_matched, feature_1_male_matched, feature_2_Credit_matched, feature_2_Deposit_matched, feature_2_Investment_matched, info_2_matched, index_matched, target_1, target_1_matched, target_1_matched_bias, target_2, target_2_matched, target_2_matched_bias, treatment, treatment_matched]\nIndex: []\n\n[0 rows x 24 columns]",
      "text/html": "<div>\n<style scoped>\n    .dataframe tbody tr th:only-of-type {\n        vertical-align: middle;\n    }\n\n    .dataframe tbody tr th {\n        vertical-align: top;\n    }\n\n    .dataframe thead th {\n        text-align: right;\n    }\n</style>\n<table border=\"1\" class=\"dataframe\">\n  <thead>\n    <tr style=\"text-align: right;\">\n      <th></th>\n      <th>index</th>\n      <th>feature_3</th>\n      <th>feature_4</th>\n      <th>feature_1_male</th>\n      <th>feature_2_Credit</th>\n      <th>feature_2_Deposit</th>\n      <th>feature_2_Investment</th>\n      <th>info_2</th>\n      <th>feature_3_matched</th>\n      <th>feature_4_matched</th>\n      <th>...</th>\n      <th>info_2_matched</th>\n      <th>index_matched</th>\n      <th>target_1</th>\n      <th>target_1_matched</th>\n      <th>target_1_matched_bias</th>\n      <th>target_2</th>\n      <th>target_2_matched</th>\n      <th>target_2_matched_bias</th>\n      <th>treatment</th>\n      <th>treatment_matched</th>\n    </tr>\n  </thead>\n  <tbody>\n  </tbody>\n</table>\n<p>0 rows × 24 columns</p>\n</div>"
     },
     "execution_count": 20,
     "metadata": {},
     "output_type": "execute_result"
    }
   ],
   "source": [
    "df_matched[df_matched['info_2'] != df_matched['info_2_matched']]"
   ]
  },
  {
   "cell_type": "markdown",
   "metadata": {},
   "source": [
    "## 3. Results  \n",
    "### 3.1 ATE, ATT, ATC"
   ]
  },
  {
   "cell_type": "code",
   "execution_count": 21,
   "metadata": {
    "ExecuteTime": {
     "end_time": "2023-11-23T12:46:31.109051200Z",
     "start_time": "2023-11-23T12:46:31.023973500Z"
    }
   },
   "outputs": [
    {
     "data": {
      "text/plain": "     effect_size   std_err  p-val  ci_lower  ci_upper   outcome\nATE     2.653028  0.068668   0.00  2.518438  2.787617  target_1\nATC     2.623120  0.077746   0.00  2.470737  2.775502  target_1\nATT     2.683613  0.076124   0.00  2.534411  2.832815  target_1\nATE    -0.113997  0.082506   0.17 -0.275710  0.047715  target_2\nATC    -0.133361  0.092808   0.15 -0.315265  0.048542  target_2\nATT    -0.094195  0.092107   0.31 -0.274724  0.086334  target_2",
      "text/html": "<div>\n<style scoped>\n    .dataframe tbody tr th:only-of-type {\n        vertical-align: middle;\n    }\n\n    .dataframe tbody tr th {\n        vertical-align: top;\n    }\n\n    .dataframe thead th {\n        text-align: right;\n    }\n</style>\n<table border=\"1\" class=\"dataframe\">\n  <thead>\n    <tr style=\"text-align: right;\">\n      <th></th>\n      <th>effect_size</th>\n      <th>std_err</th>\n      <th>p-val</th>\n      <th>ci_lower</th>\n      <th>ci_upper</th>\n      <th>outcome</th>\n    </tr>\n  </thead>\n  <tbody>\n    <tr>\n      <th>ATE</th>\n      <td>2.653028</td>\n      <td>0.068668</td>\n      <td>0.00</td>\n      <td>2.518438</td>\n      <td>2.787617</td>\n      <td>target_1</td>\n    </tr>\n    <tr>\n      <th>ATC</th>\n      <td>2.623120</td>\n      <td>0.077746</td>\n      <td>0.00</td>\n      <td>2.470737</td>\n      <td>2.775502</td>\n      <td>target_1</td>\n    </tr>\n    <tr>\n      <th>ATT</th>\n      <td>2.683613</td>\n      <td>0.076124</td>\n      <td>0.00</td>\n      <td>2.534411</td>\n      <td>2.832815</td>\n      <td>target_1</td>\n    </tr>\n    <tr>\n      <th>ATE</th>\n      <td>-0.113997</td>\n      <td>0.082506</td>\n      <td>0.17</td>\n      <td>-0.275710</td>\n      <td>0.047715</td>\n      <td>target_2</td>\n    </tr>\n    <tr>\n      <th>ATC</th>\n      <td>-0.133361</td>\n      <td>0.092808</td>\n      <td>0.15</td>\n      <td>-0.315265</td>\n      <td>0.048542</td>\n      <td>target_2</td>\n    </tr>\n    <tr>\n      <th>ATT</th>\n      <td>-0.094195</td>\n      <td>0.092107</td>\n      <td>0.31</td>\n      <td>-0.274724</td>\n      <td>0.086334</td>\n      <td>target_2</td>\n    </tr>\n  </tbody>\n</table>\n</div>"
     },
     "execution_count": 21,
     "metadata": {},
     "output_type": "execute_result"
    }
   ],
   "source": [
    "results"
   ]
  },
  {
   "cell_type": "markdown",
   "metadata": {},
   "source": [
    "### 3.2 SMD, PSI, KS-test, repeats"
   ]
  },
  {
   "cell_type": "code",
   "execution_count": 22,
   "metadata": {
    "ExecuteTime": {
     "end_time": "2023-11-23T12:46:31.238438200Z",
     "start_time": "2023-11-23T12:46:31.073195300Z"
    }
   },
   "outputs": [
    {
     "data": {
      "text/plain": "dict_keys(['psi', 'ks_test', 'smd', 'repeats'])"
     },
     "execution_count": 22,
     "metadata": {},
     "output_type": "execute_result"
    }
   ],
   "source": [
    "quality_results.keys()"
   ]
  },
  {
   "cell_type": "code",
   "execution_count": 23,
   "metadata": {
    "ExecuteTime": {
     "end_time": "2023-11-23T12:46:31.334334500Z",
     "start_time": "2023-11-23T12:46:31.105049200Z"
    }
   },
   "outputs": [
    {
     "data": {
      "text/plain": "                 column_treated  anomaly_score_treated check_result_treated  \\\n0        feature_1_male_treated                    0.0                   OK   \n1      feature_2_Credit_treated                    0.0                   OK   \n2     feature_2_Deposit_treated                    0.0                   OK   \n3  feature_2_Investment_treated                    0.0                   OK   \n4             feature_3_treated                    0.0                   OK   \n5             feature_4_treated                    0.0                   OK   \n6                info_2_treated                    0.0                   OK   \n\n                 column_untreated  anomaly_score_untreated  \\\n0        feature_1_male_untreated                      0.0   \n1      feature_2_Credit_untreated                      0.0   \n2     feature_2_Deposit_untreated                      0.0   \n3  feature_2_Investment_untreated                      0.0   \n4             feature_3_untreated                      0.0   \n5             feature_4_untreated                      0.0   \n6                info_2_untreated                      0.0   \n\n  check_result_untreated  \n0                     OK  \n1                     OK  \n2                     OK  \n3                     OK  \n4                     OK  \n5                     OK  \n6                     OK  ",
      "text/html": "<div>\n<style scoped>\n    .dataframe tbody tr th:only-of-type {\n        vertical-align: middle;\n    }\n\n    .dataframe tbody tr th {\n        vertical-align: top;\n    }\n\n    .dataframe thead th {\n        text-align: right;\n    }\n</style>\n<table border=\"1\" class=\"dataframe\">\n  <thead>\n    <tr style=\"text-align: right;\">\n      <th></th>\n      <th>column_treated</th>\n      <th>anomaly_score_treated</th>\n      <th>check_result_treated</th>\n      <th>column_untreated</th>\n      <th>anomaly_score_untreated</th>\n      <th>check_result_untreated</th>\n    </tr>\n  </thead>\n  <tbody>\n    <tr>\n      <th>0</th>\n      <td>feature_1_male_treated</td>\n      <td>0.0</td>\n      <td>OK</td>\n      <td>feature_1_male_untreated</td>\n      <td>0.0</td>\n      <td>OK</td>\n    </tr>\n    <tr>\n      <th>1</th>\n      <td>feature_2_Credit_treated</td>\n      <td>0.0</td>\n      <td>OK</td>\n      <td>feature_2_Credit_untreated</td>\n      <td>0.0</td>\n      <td>OK</td>\n    </tr>\n    <tr>\n      <th>2</th>\n      <td>feature_2_Deposit_treated</td>\n      <td>0.0</td>\n      <td>OK</td>\n      <td>feature_2_Deposit_untreated</td>\n      <td>0.0</td>\n      <td>OK</td>\n    </tr>\n    <tr>\n      <th>3</th>\n      <td>feature_2_Investment_treated</td>\n      <td>0.0</td>\n      <td>OK</td>\n      <td>feature_2_Investment_untreated</td>\n      <td>0.0</td>\n      <td>OK</td>\n    </tr>\n    <tr>\n      <th>4</th>\n      <td>feature_3_treated</td>\n      <td>0.0</td>\n      <td>OK</td>\n      <td>feature_3_untreated</td>\n      <td>0.0</td>\n      <td>OK</td>\n    </tr>\n    <tr>\n      <th>5</th>\n      <td>feature_4_treated</td>\n      <td>0.0</td>\n      <td>OK</td>\n      <td>feature_4_untreated</td>\n      <td>0.0</td>\n      <td>OK</td>\n    </tr>\n    <tr>\n      <th>6</th>\n      <td>info_2_treated</td>\n      <td>0.0</td>\n      <td>OK</td>\n      <td>info_2_untreated</td>\n      <td>0.0</td>\n      <td>OK</td>\n    </tr>\n  </tbody>\n</table>\n</div>"
     },
     "execution_count": 23,
     "metadata": {},
     "output_type": "execute_result"
    }
   ],
   "source": [
    "quality_results['psi']"
   ]
  },
  {
   "cell_type": "code",
   "execution_count": 24,
   "metadata": {
    "ExecuteTime": {
     "end_time": "2023-11-23T12:46:31.493710300Z",
     "start_time": "2023-11-23T12:46:31.151426Z"
    }
   },
   "outputs": [
    {
     "data": {
      "text/plain": "           match_control_to_treat  match_treat_to_control\nfeature_3                0.902708                0.991299\nfeature_4                1.000000                1.000000",
      "text/html": "<div>\n<style scoped>\n    .dataframe tbody tr th:only-of-type {\n        vertical-align: middle;\n    }\n\n    .dataframe tbody tr th {\n        vertical-align: top;\n    }\n\n    .dataframe thead th {\n        text-align: right;\n    }\n</style>\n<table border=\"1\" class=\"dataframe\">\n  <thead>\n    <tr style=\"text-align: right;\">\n      <th></th>\n      <th>match_control_to_treat</th>\n      <th>match_treat_to_control</th>\n    </tr>\n  </thead>\n  <tbody>\n    <tr>\n      <th>feature_3</th>\n      <td>0.902708</td>\n      <td>0.991299</td>\n    </tr>\n    <tr>\n      <th>feature_4</th>\n      <td>1.000000</td>\n      <td>1.000000</td>\n    </tr>\n  </tbody>\n</table>\n</div>"
     },
     "execution_count": 24,
     "metadata": {},
     "output_type": "execute_result"
    }
   ],
   "source": [
    "quality_results['ks_test']"
   ]
  },
  {
   "cell_type": "code",
   "execution_count": 25,
   "metadata": {
    "ExecuteTime": {
     "end_time": "2023-11-23T12:46:31.522873200Z",
     "start_time": "2023-11-23T12:46:31.183533400Z"
    }
   },
   "outputs": [
    {
     "data": {
      "text/plain": "{'match_control_to_treat': 0.4, 'match_treat_to_control': 0.38}"
     },
     "execution_count": 25,
     "metadata": {},
     "output_type": "execute_result"
    }
   ],
   "source": [
    "quality_results['repeats']"
   ]
  },
  {
   "cell_type": "markdown",
   "metadata": {},
   "source": [
    "### 3.3 Validation\n",
    "Validates estimated effect:\n",
    "1. by replacing real treatment (`random_treatment`) with random placebo treatment.\n",
    " Estimated effect must be droped to zero;\n",
    "2. by adding random feature (`random_feature`). Estimated effect shouldn't change\n",
    "significantly, p-val < 0.05;\n",
    "3. estimates effect on subset of data (`subset_refuter`) (default fraction is 0.8). Estimated effect\n",
    "shouldn't change significantly, p-val < 0.05."
   ]
  },
  {
   "cell_type": "code",
   "execution_count": 26,
   "metadata": {
    "ExecuteTime": {
     "end_time": "2023-11-23T12:46:38.691819800Z",
     "start_time": "2023-11-23T12:46:31.211070400Z"
    }
   },
   "outputs": [
    {
     "name": "stderr",
     "output_type": "stream",
     "text": [
      "100%|██████████| 10/10 [00:07<00:00,  1.35it/s]\n"
     ]
    },
    {
     "data": {
      "text/plain": "{'target_1': [-0.022073635054381528, 0.0],\n 'target_2': [-0.01543623282222804, 0.1337448453290817]}"
     },
     "execution_count": 26,
     "metadata": {},
     "output_type": "execute_result"
    }
   ],
   "source": [
    "model.validate_result(refuter=\"random_treatment\", effect_type=\"att\", n_sim=10)"
   ]
  },
  {
   "cell_type": "markdown",
   "metadata": {},
   "source": [
    "## 4. Save model"
   ]
  },
  {
   "cell_type": "code",
   "execution_count": 27,
   "metadata": {
    "ExecuteTime": {
     "end_time": "2023-11-23T12:46:38.790842800Z",
     "start_time": "2023-11-23T12:46:38.652166800Z"
    }
   },
   "outputs": [],
   "source": [
    "model.save(\"test_model.pickle\")"
   ]
  },
  {
   "cell_type": "code",
   "execution_count": 28,
   "metadata": {
    "ExecuteTime": {
     "end_time": "2023-11-23T12:46:38.829773700Z",
     "start_time": "2023-11-23T12:46:38.759032Z"
    }
   },
   "outputs": [],
   "source": [
    "model2 = Matcher.load(\"test_model.pickle\")"
   ]
  },
  {
   "cell_type": "code",
   "execution_count": 29,
   "metadata": {
    "ExecuteTime": {
     "end_time": "2023-11-23T12:46:38.833878Z",
     "start_time": "2023-11-23T12:46:38.791897200Z"
    }
   },
   "outputs": [
    {
     "data": {
      "text/plain": "     effect_size   std_err  p-val  ci_lower  ci_upper   outcome\nATE     2.653028  0.068668   0.00  2.518438  2.787617  target_1\nATC     2.623120  0.077746   0.00  2.470737  2.775502  target_1\nATT     2.683613  0.076124   0.00  2.534411  2.832815  target_1\nATE    -0.113997  0.082506   0.17 -0.275710  0.047715  target_2\nATC    -0.133361  0.092808   0.15 -0.315265  0.048542  target_2\nATT    -0.094195  0.092107   0.31 -0.274724  0.086334  target_2",
      "text/html": "<div>\n<style scoped>\n    .dataframe tbody tr th:only-of-type {\n        vertical-align: middle;\n    }\n\n    .dataframe tbody tr th {\n        vertical-align: top;\n    }\n\n    .dataframe thead th {\n        text-align: right;\n    }\n</style>\n<table border=\"1\" class=\"dataframe\">\n  <thead>\n    <tr style=\"text-align: right;\">\n      <th></th>\n      <th>effect_size</th>\n      <th>std_err</th>\n      <th>p-val</th>\n      <th>ci_lower</th>\n      <th>ci_upper</th>\n      <th>outcome</th>\n    </tr>\n  </thead>\n  <tbody>\n    <tr>\n      <th>ATE</th>\n      <td>2.653028</td>\n      <td>0.068668</td>\n      <td>0.00</td>\n      <td>2.518438</td>\n      <td>2.787617</td>\n      <td>target_1</td>\n    </tr>\n    <tr>\n      <th>ATC</th>\n      <td>2.623120</td>\n      <td>0.077746</td>\n      <td>0.00</td>\n      <td>2.470737</td>\n      <td>2.775502</td>\n      <td>target_1</td>\n    </tr>\n    <tr>\n      <th>ATT</th>\n      <td>2.683613</td>\n      <td>0.076124</td>\n      <td>0.00</td>\n      <td>2.534411</td>\n      <td>2.832815</td>\n      <td>target_1</td>\n    </tr>\n    <tr>\n      <th>ATE</th>\n      <td>-0.113997</td>\n      <td>0.082506</td>\n      <td>0.17</td>\n      <td>-0.275710</td>\n      <td>0.047715</td>\n      <td>target_2</td>\n    </tr>\n    <tr>\n      <th>ATC</th>\n      <td>-0.133361</td>\n      <td>0.092808</td>\n      <td>0.15</td>\n      <td>-0.315265</td>\n      <td>0.048542</td>\n      <td>target_2</td>\n    </tr>\n    <tr>\n      <th>ATT</th>\n      <td>-0.094195</td>\n      <td>0.092107</td>\n      <td>0.31</td>\n      <td>-0.274724</td>\n      <td>0.086334</td>\n      <td>target_2</td>\n    </tr>\n  </tbody>\n</table>\n</div>"
     },
     "execution_count": 29,
     "metadata": {},
     "output_type": "execute_result"
    }
   ],
   "source": [
    "model2.results"
   ]
  },
  {
   "cell_type": "code",
   "execution_count": 30,
   "metadata": {
    "ExecuteTime": {
     "end_time": "2023-11-23T12:46:38.885010300Z",
     "start_time": "2023-11-23T12:46:38.822482900Z"
    }
   },
   "outputs": [
    {
     "data": {
      "text/plain": "     effect_size   std_err  p-val  ci_lower  ci_upper   outcome\nATE     2.653028  0.068668   0.00  2.518438  2.787617  target_1\nATC     2.623120  0.077746   0.00  2.470737  2.775502  target_1\nATT     2.683613  0.076124   0.00  2.534411  2.832815  target_1\nATE    -0.113997  0.082506   0.17 -0.275710  0.047715  target_2\nATC    -0.133361  0.092808   0.15 -0.315265  0.048542  target_2\nATT    -0.094195  0.092107   0.31 -0.274724  0.086334  target_2",
      "text/html": "<div>\n<style scoped>\n    .dataframe tbody tr th:only-of-type {\n        vertical-align: middle;\n    }\n\n    .dataframe tbody tr th {\n        vertical-align: top;\n    }\n\n    .dataframe thead th {\n        text-align: right;\n    }\n</style>\n<table border=\"1\" class=\"dataframe\">\n  <thead>\n    <tr style=\"text-align: right;\">\n      <th></th>\n      <th>effect_size</th>\n      <th>std_err</th>\n      <th>p-val</th>\n      <th>ci_lower</th>\n      <th>ci_upper</th>\n      <th>outcome</th>\n    </tr>\n  </thead>\n  <tbody>\n    <tr>\n      <th>ATE</th>\n      <td>2.653028</td>\n      <td>0.068668</td>\n      <td>0.00</td>\n      <td>2.518438</td>\n      <td>2.787617</td>\n      <td>target_1</td>\n    </tr>\n    <tr>\n      <th>ATC</th>\n      <td>2.623120</td>\n      <td>0.077746</td>\n      <td>0.00</td>\n      <td>2.470737</td>\n      <td>2.775502</td>\n      <td>target_1</td>\n    </tr>\n    <tr>\n      <th>ATT</th>\n      <td>2.683613</td>\n      <td>0.076124</td>\n      <td>0.00</td>\n      <td>2.534411</td>\n      <td>2.832815</td>\n      <td>target_1</td>\n    </tr>\n    <tr>\n      <th>ATE</th>\n      <td>-0.113997</td>\n      <td>0.082506</td>\n      <td>0.17</td>\n      <td>-0.275710</td>\n      <td>0.047715</td>\n      <td>target_2</td>\n    </tr>\n    <tr>\n      <th>ATC</th>\n      <td>-0.133361</td>\n      <td>0.092808</td>\n      <td>0.15</td>\n      <td>-0.315265</td>\n      <td>0.048542</td>\n      <td>target_2</td>\n    </tr>\n    <tr>\n      <th>ATT</th>\n      <td>-0.094195</td>\n      <td>0.092107</td>\n      <td>0.31</td>\n      <td>-0.274724</td>\n      <td>0.086334</td>\n      <td>target_2</td>\n    </tr>\n  </tbody>\n</table>\n</div>"
     },
     "execution_count": 30,
     "metadata": {},
     "output_type": "execute_result"
    }
   ],
   "source": [
    "model.results"
   ]
  }
 ],
 "metadata": {
  "kernelspec": {
   "display_name": "Python 3 (ipykernel)",
   "language": "python",
   "name": "python3"
  },
  "language_info": {
   "codemirror_mode": {
    "name": "ipython",
    "version": 3
   },
   "file_extension": ".py",
   "mimetype": "text/x-python",
   "name": "python",
   "nbconvert_exporter": "python",
   "pygments_lexer": "ipython3",
   "version": "3.10.13"
  }
 },
 "nbformat": 4,
 "nbformat_minor": 4
}
