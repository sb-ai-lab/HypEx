{
 "cells": [
  {
   "cell_type": "markdown",
   "metadata": {},
   "source": [
    "# Tutorial 1: Matching"
   ]
  },
  {
   "cell_type": "markdown",
   "metadata": {},
   "source": [
    "## 0. Import libraries "
   ]
  },
  {
   "cell_type": "code",
   "execution_count": 3,
   "metadata": {
    "ExecuteTime": {
     "end_time": "2023-11-21T13:13:00.922515300Z",
     "start_time": "2023-11-21T13:12:48.969008900Z"
    }
   },
   "outputs": [],
   "source": [
    "import pandas as pd\n",
    "import numpy as np\n",
    "from hypex import Matcher\n",
    "import warnings \n",
    "warnings.simplefilter(action='ignore', category=FutureWarning)"
   ]
  },
  {
   "cell_type": "markdown",
   "metadata": {},
   "source": [
    "## 1. Create or upload your dataset  \n",
    "In this case we will create random dataset with known effect size  \n",
    "If you have your own dataset, go to the part 2 \n"
   ]
  },
  {
   "cell_type": "code",
   "execution_count": 4,
   "metadata": {
    "ExecuteTime": {
     "end_time": "2023-11-21T13:13:03.444527700Z",
     "start_time": "2023-11-21T13:13:03.363053600Z"
    }
   },
   "outputs": [],
   "source": [
    "from hypex.dataset.dataset import Dataset"
   ]
  },
  {
   "cell_type": "code",
   "execution_count": 23,
   "metadata": {
    "ExecuteTime": {
     "end_time": "2023-11-21T13:24:36.552871400Z",
     "start_time": "2023-11-21T13:24:35.713663500Z"
    }
   },
   "outputs": [
    {
     "data": {
      "text/plain": "      info_col_1 info_col_2 feature_col_1 feature_col_2  feature_col_3  \\\n0            301          N          male       Deposit            NaN   \n1          13294          F        female           NaN      -1.172302   \n2          12790          F          male        Credit       0.739650   \n3          10966          F        female       Deposit      -1.207812   \n4          10534          N          male       Deposit      -0.635289   \n...          ...        ...           ...           ...            ...   \n4995        9184          F          male       Deposit      -1.316812   \n4996        8713          F          male        Credit      -0.043342   \n4997       10306          N        female       Deposit      -1.016003   \n4998         913          N          male    Investment       0.558224   \n4999       10642          N        female        Credit      -1.326641   \n\n      feature_col_4  treatment_1  outcome_1  \n0               0.0          1.0   0.424610  \n1               2.0          1.0   1.329602  \n2               0.0          1.0   1.259447  \n3               0.0          1.0   0.156809  \n4               3.0          0.0   2.316046  \n...             ...          ...        ...  \n4995            1.0          1.0   0.835871  \n4996            1.0          1.0   2.905103  \n4997            3.0          0.0   1.774634  \n4998            2.0          0.0   1.425498  \n4999            3.0          1.0   6.286587  \n\n[5000 rows x 8 columns]",
      "text/html": "<div>\n<style scoped>\n    .dataframe tbody tr th:only-of-type {\n        vertical-align: middle;\n    }\n\n    .dataframe tbody tr th {\n        vertical-align: top;\n    }\n\n    .dataframe thead th {\n        text-align: right;\n    }\n</style>\n<table border=\"1\" class=\"dataframe\">\n  <thead>\n    <tr style=\"text-align: right;\">\n      <th></th>\n      <th>info_col_1</th>\n      <th>info_col_2</th>\n      <th>feature_col_1</th>\n      <th>feature_col_2</th>\n      <th>feature_col_3</th>\n      <th>feature_col_4</th>\n      <th>treatment_1</th>\n      <th>outcome_1</th>\n    </tr>\n  </thead>\n  <tbody>\n    <tr>\n      <th>0</th>\n      <td>301</td>\n      <td>N</td>\n      <td>male</td>\n      <td>Deposit</td>\n      <td>NaN</td>\n      <td>0.0</td>\n      <td>1.0</td>\n      <td>0.424610</td>\n    </tr>\n    <tr>\n      <th>1</th>\n      <td>13294</td>\n      <td>F</td>\n      <td>female</td>\n      <td>NaN</td>\n      <td>-1.172302</td>\n      <td>2.0</td>\n      <td>1.0</td>\n      <td>1.329602</td>\n    </tr>\n    <tr>\n      <th>2</th>\n      <td>12790</td>\n      <td>F</td>\n      <td>male</td>\n      <td>Credit</td>\n      <td>0.739650</td>\n      <td>0.0</td>\n      <td>1.0</td>\n      <td>1.259447</td>\n    </tr>\n    <tr>\n      <th>3</th>\n      <td>10966</td>\n      <td>F</td>\n      <td>female</td>\n      <td>Deposit</td>\n      <td>-1.207812</td>\n      <td>0.0</td>\n      <td>1.0</td>\n      <td>0.156809</td>\n    </tr>\n    <tr>\n      <th>4</th>\n      <td>10534</td>\n      <td>N</td>\n      <td>male</td>\n      <td>Deposit</td>\n      <td>-0.635289</td>\n      <td>3.0</td>\n      <td>0.0</td>\n      <td>2.316046</td>\n    </tr>\n    <tr>\n      <th>...</th>\n      <td>...</td>\n      <td>...</td>\n      <td>...</td>\n      <td>...</td>\n      <td>...</td>\n      <td>...</td>\n      <td>...</td>\n      <td>...</td>\n    </tr>\n    <tr>\n      <th>4995</th>\n      <td>9184</td>\n      <td>F</td>\n      <td>male</td>\n      <td>Deposit</td>\n      <td>-1.316812</td>\n      <td>1.0</td>\n      <td>1.0</td>\n      <td>0.835871</td>\n    </tr>\n    <tr>\n      <th>4996</th>\n      <td>8713</td>\n      <td>F</td>\n      <td>male</td>\n      <td>Credit</td>\n      <td>-0.043342</td>\n      <td>1.0</td>\n      <td>1.0</td>\n      <td>2.905103</td>\n    </tr>\n    <tr>\n      <th>4997</th>\n      <td>10306</td>\n      <td>N</td>\n      <td>female</td>\n      <td>Deposit</td>\n      <td>-1.016003</td>\n      <td>3.0</td>\n      <td>0.0</td>\n      <td>1.774634</td>\n    </tr>\n    <tr>\n      <th>4998</th>\n      <td>913</td>\n      <td>N</td>\n      <td>male</td>\n      <td>Investment</td>\n      <td>0.558224</td>\n      <td>2.0</td>\n      <td>0.0</td>\n      <td>1.425498</td>\n    </tr>\n    <tr>\n      <th>4999</th>\n      <td>10642</td>\n      <td>N</td>\n      <td>female</td>\n      <td>Credit</td>\n      <td>-1.326641</td>\n      <td>3.0</td>\n      <td>1.0</td>\n      <td>6.286587</td>\n    </tr>\n  </tbody>\n</table>\n<p>5000 rows × 8 columns</p>\n</div>"
     },
     "execution_count": 23,
     "metadata": {},
     "output_type": "execute_result"
    }
   ],
   "source": [
    "data = Dataset(na_columns=['feature_col_3', 'feature_col_2'], num_main_causes_cols=2)\n",
    "data.df"
   ]
  },
  {
   "cell_type": "code",
   "execution_count": 24,
   "metadata": {
    "ExecuteTime": {
     "end_time": "2023-11-21T13:24:47.074138900Z",
     "start_time": "2023-11-21T13:24:46.939837200Z"
    }
   },
   "outputs": [
    {
     "data": {
      "text/plain": "Index(['info_col_1', 'info_col_2', 'feature_col_1', 'feature_col_2',\n       'feature_col_3', 'feature_col_4', 'treatment_1', 'outcome_1'],\n      dtype='object')"
     },
     "execution_count": 24,
     "metadata": {},
     "output_type": "execute_result"
    }
   ],
   "source": [
    "data.df.columns"
   ]
  },
  {
   "cell_type": "code",
   "execution_count": 25,
   "metadata": {
    "scrolled": true,
    "ExecuteTime": {
     "end_time": "2023-11-21T13:24:50.684576900Z",
     "start_time": "2023-11-21T13:24:50.600007700Z"
    }
   },
   "outputs": [
    {
     "data": {
      "text/plain": "treatment_1\n1.0    2539\n0.0    2461\nName: count, dtype: int64"
     },
     "execution_count": 25,
     "metadata": {},
     "output_type": "execute_result"
    }
   ],
   "source": [
    "data.df.treatment_1.value_counts()"
   ]
  },
  {
   "cell_type": "code",
   "execution_count": 26,
   "metadata": {
    "ExecuteTime": {
     "end_time": "2023-11-21T13:24:51.975141300Z",
     "start_time": "2023-11-21T13:24:51.878643100Z"
    }
   },
   "outputs": [
    {
     "data": {
      "text/plain": "info_col_1         0\ninfo_col_2         0\nfeature_col_1      0\nfeature_col_2    500\nfeature_col_3    500\nfeature_col_4      0\ntreatment_1        0\noutcome_1          0\ndtype: int64"
     },
     "execution_count": 26,
     "metadata": {},
     "output_type": "execute_result"
    }
   ],
   "source": [
    "data.df.isna().sum()"
   ]
  },
  {
   "cell_type": "markdown",
   "metadata": {},
   "source": [
    "## 2. Matching  \n",
    "### 2.0 Init params\n",
    "info_col used to define informative attributes that should not be part of matching, such as user_id  \n",
    "But to explicitly store this column in the table, so that you can compare directly after computation"
   ]
  },
  {
   "cell_type": "code",
   "execution_count": 27,
   "metadata": {
    "ExecuteTime": {
     "end_time": "2023-11-21T13:24:56.034407400Z",
     "start_time": "2023-11-21T13:24:55.967896400Z"
    }
   },
   "outputs": [],
   "source": [
    "info_col = data.info_col_names\n",
    "\n",
    "outcome = data.outcome_name[0]\n",
    "treatment = data.treatment_name[0]"
   ]
  },
  {
   "cell_type": "markdown",
   "metadata": {},
   "source": [
    "### 2.1 Simple matching\n",
    "This is the easiest way to initialize and calculate metrics on a Matching task  \n",
    "Use it when you are clear about each attribute or if you don't have any additional task conditions (Strict equality for certain features) "
   ]
  },
  {
   "cell_type": "code",
   "execution_count": 41,
   "metadata": {
    "ExecuteTime": {
     "end_time": "2023-11-21T13:29:51.305912500Z",
     "start_time": "2023-11-21T13:29:49.637026500Z"
    }
   },
   "outputs": [
    {
     "name": "stderr",
     "output_type": "stream",
     "text": [
      "[21.11.2023 16:29:49 | hypex | INFO]: Number of NaN values filled with zeros: 1000\n",
      "\n",
      "\n",
      "  0%|          | 0/5000 [00:00<?, ?it/s]\u001B[A\u001B[A\n",
      "\n",
      "Get untreated index:   0%|          | 0/5000 [00:00<?, ?it/s]\u001B[A\u001B[A\n",
      "\n",
      "Get treated index:  51%|█████     | 2539/5000 [00:00<00:00, 28702.40it/s]\u001B[A\u001B[A\n",
      "\n",
      "Get treated index: 100%|██████████| 5000/5000 [00:00<00:00, 25467.10it/s]\u001B[A\u001B[A\n",
      "\n",
      "Get treated index: 100%|██████████| 5000/5000 [00:00<00:00, 23387.13it/s]\u001B[A\u001B[A\n"
     ]
    }
   ],
   "source": [
    "# Standard model with base parameters\n",
    "model = Matcher(input_data=data.df, outcome=outcome, treatment=treatment, info_col=info_col)\n",
    "results, quality_results, df_matched = model.estimate()"
   ]
  },
  {
   "cell_type": "code",
   "execution_count": 42,
   "metadata": {
    "ExecuteTime": {
     "end_time": "2023-11-21T13:29:51.706305900Z",
     "start_time": "2023-11-21T13:29:51.477746800Z"
    }
   },
   "outputs": [
    {
     "data": {
      "text/plain": "     effect_size   std_err  p-val  ci_lower  ci_upper    outcome\nATE     1.879292  0.066988    0.0  1.747996  2.010589  outcome_1\nATC     1.839296  0.075374    0.0  1.691562  1.987029  outcome_1\nATT     1.918060  0.074516    0.0  1.772010  2.064111  outcome_1",
      "text/html": "<div>\n<style scoped>\n    .dataframe tbody tr th:only-of-type {\n        vertical-align: middle;\n    }\n\n    .dataframe tbody tr th {\n        vertical-align: top;\n    }\n\n    .dataframe thead th {\n        text-align: right;\n    }\n</style>\n<table border=\"1\" class=\"dataframe\">\n  <thead>\n    <tr style=\"text-align: right;\">\n      <th></th>\n      <th>effect_size</th>\n      <th>std_err</th>\n      <th>p-val</th>\n      <th>ci_lower</th>\n      <th>ci_upper</th>\n      <th>outcome</th>\n    </tr>\n  </thead>\n  <tbody>\n    <tr>\n      <th>ATE</th>\n      <td>1.879292</td>\n      <td>0.066988</td>\n      <td>0.0</td>\n      <td>1.747996</td>\n      <td>2.010589</td>\n      <td>outcome_1</td>\n    </tr>\n    <tr>\n      <th>ATC</th>\n      <td>1.839296</td>\n      <td>0.075374</td>\n      <td>0.0</td>\n      <td>1.691562</td>\n      <td>1.987029</td>\n      <td>outcome_1</td>\n    </tr>\n    <tr>\n      <th>ATT</th>\n      <td>1.918060</td>\n      <td>0.074516</td>\n      <td>0.0</td>\n      <td>1.772010</td>\n      <td>2.064111</td>\n      <td>outcome_1</td>\n    </tr>\n  </tbody>\n</table>\n</div>"
     },
     "execution_count": 42,
     "metadata": {},
     "output_type": "execute_result"
    }
   ],
   "source": [
    "results"
   ]
  },
  {
   "cell_type": "code",
   "execution_count": 43,
   "metadata": {
    "ExecuteTime": {
     "end_time": "2023-11-21T13:29:53.247479Z",
     "start_time": "2023-11-21T13:29:53.029981800Z"
    }
   },
   "outputs": [
    {
     "data": {
      "text/plain": "dict_keys(['psi', 'ks_test', 'smd', 'repeats'])"
     },
     "execution_count": 43,
     "metadata": {},
     "output_type": "execute_result"
    }
   ],
   "source": [
    "quality_results.keys()"
   ]
  },
  {
   "cell_type": "code",
   "execution_count": 44,
   "metadata": {
    "ExecuteTime": {
     "end_time": "2023-11-21T13:29:54.161961200Z",
     "start_time": "2023-11-21T13:29:54.003108300Z"
    }
   },
   "outputs": [
    {
     "data": {
      "text/plain": "               match_control_to_treat  match_treat_to_control\nfeature_col_3                0.999945                0.995579\nfeature_col_4                1.000000                1.000000",
      "text/html": "<div>\n<style scoped>\n    .dataframe tbody tr th:only-of-type {\n        vertical-align: middle;\n    }\n\n    .dataframe tbody tr th {\n        vertical-align: top;\n    }\n\n    .dataframe thead th {\n        text-align: right;\n    }\n</style>\n<table border=\"1\" class=\"dataframe\">\n  <thead>\n    <tr style=\"text-align: right;\">\n      <th></th>\n      <th>match_control_to_treat</th>\n      <th>match_treat_to_control</th>\n    </tr>\n  </thead>\n  <tbody>\n    <tr>\n      <th>feature_col_3</th>\n      <td>0.999945</td>\n      <td>0.995579</td>\n    </tr>\n    <tr>\n      <th>feature_col_4</th>\n      <td>1.000000</td>\n      <td>1.000000</td>\n    </tr>\n  </tbody>\n</table>\n</div>"
     },
     "execution_count": 44,
     "metadata": {},
     "output_type": "execute_result"
    }
   ],
   "source": [
    "quality_results['ks_test']"
   ]
  },
  {
   "cell_type": "code",
   "execution_count": 45,
   "metadata": {
    "ExecuteTime": {
     "end_time": "2023-11-21T13:29:55.145692500Z",
     "start_time": "2023-11-21T13:29:55.063827400Z"
    }
   },
   "outputs": [
    {
     "data": {
      "text/plain": "      index  feature_col_3  feature_col_4  feature_col_1_male  \\\n0         0       0.000000            0.0                   1   \n1         1      -1.172302            2.0                   0   \n2         2       0.739650            0.0                   1   \n3         3      -1.207812            0.0                   0   \n4         6      -1.507264            3.0                   1   \n...     ...            ...            ...                 ...   \n2456   4992      -0.776343            2.0                   1   \n2457   4993       1.526767            1.0                   1   \n2458   4994      -0.150107            1.0                   1   \n2459   4997      -1.016003            3.0                   0   \n2460   4998       0.558224            2.0                   1   \n\n      feature_col_2_Credit  feature_col_2_Deposit  feature_col_2_Investment  \\\n0                        0                      1                         0   \n1                        0                      0                         0   \n2                        1                      0                         0   \n3                        0                      1                         0   \n4                        0                      0                         1   \n...                    ...                    ...                       ...   \n2456                     0                      0                         1   \n2457                     0                      0                         1   \n2458                     0                      1                         0   \n2459                     0                      1                         0   \n2460                     0                      0                         1   \n\n      feature_col_3_matched  feature_col_4_matched  \\\n0                  0.000000                    0.0   \n1                 -1.068343                    2.0   \n2                  0.728773                    0.0   \n3                 -1.195921                    0.0   \n4                 -1.520801                    3.0   \n...                     ...                    ...   \n2456              -0.756574                    2.0   \n2457               1.549173                    1.0   \n2458              -0.146332                    1.0   \n2459              -1.017882                    3.0   \n2460               0.507414                    2.0   \n\n      feature_col_1_male_matched  feature_col_2_Credit_matched  \\\n0                            1.0                           0.0   \n1                            0.0                           0.0   \n2                            1.0                           1.0   \n3                            0.0                           0.0   \n4                            1.0                           0.0   \n...                          ...                           ...   \n2456                         1.0                           0.0   \n2457                         1.0                           0.0   \n2458                         1.0                           0.0   \n2459                         0.0                           0.0   \n2460                         1.0                           0.0   \n\n      feature_col_2_Deposit_matched  feature_col_2_Investment_matched  \\\n0                               1.0                               0.0   \n1                               0.0                               0.0   \n2                               0.0                               0.0   \n3                               1.0                               0.0   \n4                               0.0                               1.0   \n...                             ...                               ...   \n2456                            0.0                               1.0   \n2457                            0.0                               1.0   \n2458                            1.0                               0.0   \n2459                            1.0                               0.0   \n2460                            0.0                               1.0   \n\n                             index_matched  outcome_1  outcome_1_matched  \\\n0     [1600, 1960, 2060, 3100, 4250, 4990]   0.424610          -1.827587   \n1                                   [4461]   1.329602          -0.073953   \n2                                   [2365]   1.259447           1.022800   \n3                                   [1966]   0.156809          -1.600113   \n4                                   [1947]   4.372272           1.890139   \n...                                    ...        ...                ...   \n2456                                [2434]   1.076212           4.152876   \n2457                                [4248]   1.926302           6.554668   \n2458                                [1907]   0.101794           3.677723   \n2459                                [3978]   1.774634           6.768588   \n2460                                [3733]   1.425498           6.949896   \n\n      outcome_1_matched_bias  treatment_1  treatment_1_matched  \n0                   2.252197            1                    0  \n1                   1.470158            1                    0  \n2                   0.229678            1                    0  \n3                   1.764540            1                    0  \n4                   2.473461            1                    0  \n...                      ...          ...                  ...  \n2456                3.049178            0                    1  \n2457                4.597212            0                    1  \n2458                3.570680            0                    1  \n2459                4.996567            0                    1  \n2460                5.595045            0                    1  \n\n[5000 rows x 19 columns]",
      "text/html": "<div>\n<style scoped>\n    .dataframe tbody tr th:only-of-type {\n        vertical-align: middle;\n    }\n\n    .dataframe tbody tr th {\n        vertical-align: top;\n    }\n\n    .dataframe thead th {\n        text-align: right;\n    }\n</style>\n<table border=\"1\" class=\"dataframe\">\n  <thead>\n    <tr style=\"text-align: right;\">\n      <th></th>\n      <th>index</th>\n      <th>feature_col_3</th>\n      <th>feature_col_4</th>\n      <th>feature_col_1_male</th>\n      <th>feature_col_2_Credit</th>\n      <th>feature_col_2_Deposit</th>\n      <th>feature_col_2_Investment</th>\n      <th>feature_col_3_matched</th>\n      <th>feature_col_4_matched</th>\n      <th>feature_col_1_male_matched</th>\n      <th>feature_col_2_Credit_matched</th>\n      <th>feature_col_2_Deposit_matched</th>\n      <th>feature_col_2_Investment_matched</th>\n      <th>index_matched</th>\n      <th>outcome_1</th>\n      <th>outcome_1_matched</th>\n      <th>outcome_1_matched_bias</th>\n      <th>treatment_1</th>\n      <th>treatment_1_matched</th>\n    </tr>\n  </thead>\n  <tbody>\n    <tr>\n      <th>0</th>\n      <td>0</td>\n      <td>0.000000</td>\n      <td>0.0</td>\n      <td>1</td>\n      <td>0</td>\n      <td>1</td>\n      <td>0</td>\n      <td>0.000000</td>\n      <td>0.0</td>\n      <td>1.0</td>\n      <td>0.0</td>\n      <td>1.0</td>\n      <td>0.0</td>\n      <td>[1600, 1960, 2060, 3100, 4250, 4990]</td>\n      <td>0.424610</td>\n      <td>-1.827587</td>\n      <td>2.252197</td>\n      <td>1</td>\n      <td>0</td>\n    </tr>\n    <tr>\n      <th>1</th>\n      <td>1</td>\n      <td>-1.172302</td>\n      <td>2.0</td>\n      <td>0</td>\n      <td>0</td>\n      <td>0</td>\n      <td>0</td>\n      <td>-1.068343</td>\n      <td>2.0</td>\n      <td>0.0</td>\n      <td>0.0</td>\n      <td>0.0</td>\n      <td>0.0</td>\n      <td>[4461]</td>\n      <td>1.329602</td>\n      <td>-0.073953</td>\n      <td>1.470158</td>\n      <td>1</td>\n      <td>0</td>\n    </tr>\n    <tr>\n      <th>2</th>\n      <td>2</td>\n      <td>0.739650</td>\n      <td>0.0</td>\n      <td>1</td>\n      <td>1</td>\n      <td>0</td>\n      <td>0</td>\n      <td>0.728773</td>\n      <td>0.0</td>\n      <td>1.0</td>\n      <td>1.0</td>\n      <td>0.0</td>\n      <td>0.0</td>\n      <td>[2365]</td>\n      <td>1.259447</td>\n      <td>1.022800</td>\n      <td>0.229678</td>\n      <td>1</td>\n      <td>0</td>\n    </tr>\n    <tr>\n      <th>3</th>\n      <td>3</td>\n      <td>-1.207812</td>\n      <td>0.0</td>\n      <td>0</td>\n      <td>0</td>\n      <td>1</td>\n      <td>0</td>\n      <td>-1.195921</td>\n      <td>0.0</td>\n      <td>0.0</td>\n      <td>0.0</td>\n      <td>1.0</td>\n      <td>0.0</td>\n      <td>[1966]</td>\n      <td>0.156809</td>\n      <td>-1.600113</td>\n      <td>1.764540</td>\n      <td>1</td>\n      <td>0</td>\n    </tr>\n    <tr>\n      <th>4</th>\n      <td>6</td>\n      <td>-1.507264</td>\n      <td>3.0</td>\n      <td>1</td>\n      <td>0</td>\n      <td>0</td>\n      <td>1</td>\n      <td>-1.520801</td>\n      <td>3.0</td>\n      <td>1.0</td>\n      <td>0.0</td>\n      <td>0.0</td>\n      <td>1.0</td>\n      <td>[1947]</td>\n      <td>4.372272</td>\n      <td>1.890139</td>\n      <td>2.473461</td>\n      <td>1</td>\n      <td>0</td>\n    </tr>\n    <tr>\n      <th>...</th>\n      <td>...</td>\n      <td>...</td>\n      <td>...</td>\n      <td>...</td>\n      <td>...</td>\n      <td>...</td>\n      <td>...</td>\n      <td>...</td>\n      <td>...</td>\n      <td>...</td>\n      <td>...</td>\n      <td>...</td>\n      <td>...</td>\n      <td>...</td>\n      <td>...</td>\n      <td>...</td>\n      <td>...</td>\n      <td>...</td>\n      <td>...</td>\n    </tr>\n    <tr>\n      <th>2456</th>\n      <td>4992</td>\n      <td>-0.776343</td>\n      <td>2.0</td>\n      <td>1</td>\n      <td>0</td>\n      <td>0</td>\n      <td>1</td>\n      <td>-0.756574</td>\n      <td>2.0</td>\n      <td>1.0</td>\n      <td>0.0</td>\n      <td>0.0</td>\n      <td>1.0</td>\n      <td>[2434]</td>\n      <td>1.076212</td>\n      <td>4.152876</td>\n      <td>3.049178</td>\n      <td>0</td>\n      <td>1</td>\n    </tr>\n    <tr>\n      <th>2457</th>\n      <td>4993</td>\n      <td>1.526767</td>\n      <td>1.0</td>\n      <td>1</td>\n      <td>0</td>\n      <td>0</td>\n      <td>1</td>\n      <td>1.549173</td>\n      <td>1.0</td>\n      <td>1.0</td>\n      <td>0.0</td>\n      <td>0.0</td>\n      <td>1.0</td>\n      <td>[4248]</td>\n      <td>1.926302</td>\n      <td>6.554668</td>\n      <td>4.597212</td>\n      <td>0</td>\n      <td>1</td>\n    </tr>\n    <tr>\n      <th>2458</th>\n      <td>4994</td>\n      <td>-0.150107</td>\n      <td>1.0</td>\n      <td>1</td>\n      <td>0</td>\n      <td>1</td>\n      <td>0</td>\n      <td>-0.146332</td>\n      <td>1.0</td>\n      <td>1.0</td>\n      <td>0.0</td>\n      <td>1.0</td>\n      <td>0.0</td>\n      <td>[1907]</td>\n      <td>0.101794</td>\n      <td>3.677723</td>\n      <td>3.570680</td>\n      <td>0</td>\n      <td>1</td>\n    </tr>\n    <tr>\n      <th>2459</th>\n      <td>4997</td>\n      <td>-1.016003</td>\n      <td>3.0</td>\n      <td>0</td>\n      <td>0</td>\n      <td>1</td>\n      <td>0</td>\n      <td>-1.017882</td>\n      <td>3.0</td>\n      <td>0.0</td>\n      <td>0.0</td>\n      <td>1.0</td>\n      <td>0.0</td>\n      <td>[3978]</td>\n      <td>1.774634</td>\n      <td>6.768588</td>\n      <td>4.996567</td>\n      <td>0</td>\n      <td>1</td>\n    </tr>\n    <tr>\n      <th>2460</th>\n      <td>4998</td>\n      <td>0.558224</td>\n      <td>2.0</td>\n      <td>1</td>\n      <td>0</td>\n      <td>0</td>\n      <td>1</td>\n      <td>0.507414</td>\n      <td>2.0</td>\n      <td>1.0</td>\n      <td>0.0</td>\n      <td>0.0</td>\n      <td>1.0</td>\n      <td>[3733]</td>\n      <td>1.425498</td>\n      <td>6.949896</td>\n      <td>5.595045</td>\n      <td>0</td>\n      <td>1</td>\n    </tr>\n  </tbody>\n</table>\n<p>5000 rows × 19 columns</p>\n</div>"
     },
     "execution_count": 45,
     "metadata": {},
     "output_type": "execute_result"
    }
   ],
   "source": [
    "df_matched"
   ]
  },
  {
   "cell_type": "code",
   "execution_count": 49,
   "metadata": {
    "ExecuteTime": {
     "end_time": "2023-11-21T13:31:29.411393500Z",
     "start_time": "2023-11-21T13:31:29.122612500Z"
    }
   },
   "outputs": [
    {
     "data": {
      "text/plain": "Empty DataFrame\nColumns: [index, feature_col_3, feature_col_4, feature_col_1_male, feature_col_2_Credit, feature_col_2_Deposit, feature_col_2_Investment, feature_col_3_matched, feature_col_4_matched, feature_col_1_male_matched, feature_col_2_Credit_matched, feature_col_2_Deposit_matched, feature_col_2_Investment_matched, index_matched, outcome_1, outcome_1_matched, outcome_1_matched_bias, treatment_1, treatment_1_matched]\nIndex: []",
      "text/html": "<div>\n<style scoped>\n    .dataframe tbody tr th:only-of-type {\n        vertical-align: middle;\n    }\n\n    .dataframe tbody tr th {\n        vertical-align: top;\n    }\n\n    .dataframe thead th {\n        text-align: right;\n    }\n</style>\n<table border=\"1\" class=\"dataframe\">\n  <thead>\n    <tr style=\"text-align: right;\">\n      <th></th>\n      <th>index</th>\n      <th>feature_col_3</th>\n      <th>feature_col_4</th>\n      <th>feature_col_1_male</th>\n      <th>feature_col_2_Credit</th>\n      <th>feature_col_2_Deposit</th>\n      <th>feature_col_2_Investment</th>\n      <th>feature_col_3_matched</th>\n      <th>feature_col_4_matched</th>\n      <th>feature_col_1_male_matched</th>\n      <th>feature_col_2_Credit_matched</th>\n      <th>feature_col_2_Deposit_matched</th>\n      <th>feature_col_2_Investment_matched</th>\n      <th>index_matched</th>\n      <th>outcome_1</th>\n      <th>outcome_1_matched</th>\n      <th>outcome_1_matched_bias</th>\n      <th>treatment_1</th>\n      <th>treatment_1_matched</th>\n    </tr>\n  </thead>\n  <tbody>\n  </tbody>\n</table>\n</div>"
     },
     "execution_count": 49,
     "metadata": {},
     "output_type": "execute_result"
    }
   ],
   "source": [
    "df_matched[df_matched['feature_col_1_male'] != df_matched['feature_col_1_male_matched']]"
   ]
  },
  {
   "cell_type": "markdown",
   "metadata": {},
   "source": [
    "### 2.2 Matching with a fixed variable  \n",
    "Used when you have categorical feature(s) that you want to compare by strict equality  \n",
    "group_col is used for strict comparison of categorical features.  \n",
    "In our case there is only one attribute  \n",
    "If there are several such attributes, you should make one of them and use it"
   ]
  },
  {
   "cell_type": "code",
   "execution_count": 55,
   "metadata": {
    "ExecuteTime": {
     "end_time": "2023-11-21T13:33:54.273606200Z",
     "start_time": "2023-11-21T13:33:53.795450700Z"
    }
   },
   "outputs": [],
   "source": [
    "group_col = 'feature_col_1'"
   ]
  },
  {
   "cell_type": "code",
   "execution_count": 56,
   "metadata": {
    "ExecuteTime": {
     "end_time": "2023-11-21T13:33:56.660130600Z",
     "start_time": "2023-11-21T13:33:54.498392800Z"
    }
   },
   "outputs": [
    {
     "name": "stderr",
     "output_type": "stream",
     "text": [
      "[21.11.2023 16:33:54 | hypex | INFO]: Number of NaN values filled with zeros: 1000\n",
      "\n",
      "\n",
      "\n",
      "  0%|          | 0/4 [00:00<?, ?it/s]\u001B[A\u001B[A\u001B[A\n",
      "\n",
      "\n",
      "Get untreated index by group female:   0%|          | 0/4 [00:00<?, ?it/s]\u001B[A\u001B[A\u001B[A\n",
      "\n",
      "\n",
      "Get treated index by group female:  25%|██▌       | 1/4 [00:00<00:00, 10.01it/s]\u001B[A\u001B[A\u001B[A\n",
      "\n",
      "\n",
      "Get treated index by group female:  50%|█████     | 2/4 [00:00<00:00, 13.40it/s]\u001B[A\u001B[A\u001B[A\n",
      "\n",
      "\n",
      "Get treated index by group female:  50%|█████     | 2/4 [00:00<00:00, 13.40it/s]\u001B[A\u001B[A\u001B[A\n",
      "\n",
      "\n",
      "Get untreated index by group male:  50%|█████     | 2/4 [00:00<00:00, 13.40it/s]\u001B[A\u001B[A\u001B[A\n",
      "\n",
      "\n",
      "Get treated index by group male:  75%|███████▌  | 3/4 [00:00<00:00, 13.40it/s]  \u001B[A\u001B[A\u001B[A\n",
      "\n",
      "\n",
      "Get treated index by group male: 100%|██████████| 4/4 [00:00<00:00,  9.62it/s]\u001B[A\u001B[A\u001B[A\n",
      "\n",
      "\n",
      "Get treated index by group male: 100%|██████████| 4/4 [00:00<00:00,  9.30it/s]\u001B[A\u001B[A\u001B[A\n"
     ]
    }
   ],
   "source": [
    "model = Matcher(input_data=data.df, outcome=outcome, treatment=treatment,\n",
    "                info_col=info_col, group_col=group_col)\n",
    "results, quality_results, df_matched = model.estimate()"
   ]
  },
  {
   "cell_type": "code",
   "execution_count": 57,
   "metadata": {
    "ExecuteTime": {
     "end_time": "2023-11-21T13:33:56.967845300Z",
     "start_time": "2023-11-21T13:33:56.840618500Z"
    }
   },
   "outputs": [
    {
     "data": {
      "text/plain": "     effect_size   std_err  p-val  ci_lower  ci_upper    outcome\nATE     1.879802  0.066982    0.0  1.748518  2.011086  outcome_1\nATC     1.840331  0.075393    0.0  1.692561  1.988102  outcome_1\nATT     1.918060  0.074493    0.0  1.772054  2.064067  outcome_1",
      "text/html": "<div>\n<style scoped>\n    .dataframe tbody tr th:only-of-type {\n        vertical-align: middle;\n    }\n\n    .dataframe tbody tr th {\n        vertical-align: top;\n    }\n\n    .dataframe thead th {\n        text-align: right;\n    }\n</style>\n<table border=\"1\" class=\"dataframe\">\n  <thead>\n    <tr style=\"text-align: right;\">\n      <th></th>\n      <th>effect_size</th>\n      <th>std_err</th>\n      <th>p-val</th>\n      <th>ci_lower</th>\n      <th>ci_upper</th>\n      <th>outcome</th>\n    </tr>\n  </thead>\n  <tbody>\n    <tr>\n      <th>ATE</th>\n      <td>1.879802</td>\n      <td>0.066982</td>\n      <td>0.0</td>\n      <td>1.748518</td>\n      <td>2.011086</td>\n      <td>outcome_1</td>\n    </tr>\n    <tr>\n      <th>ATC</th>\n      <td>1.840331</td>\n      <td>0.075393</td>\n      <td>0.0</td>\n      <td>1.692561</td>\n      <td>1.988102</td>\n      <td>outcome_1</td>\n    </tr>\n    <tr>\n      <th>ATT</th>\n      <td>1.918060</td>\n      <td>0.074493</td>\n      <td>0.0</td>\n      <td>1.772054</td>\n      <td>2.064067</td>\n      <td>outcome_1</td>\n    </tr>\n  </tbody>\n</table>\n</div>"
     },
     "execution_count": 57,
     "metadata": {},
     "output_type": "execute_result"
    }
   ],
   "source": [
    "results"
   ]
  },
  {
   "cell_type": "code",
   "execution_count": 58,
   "outputs": [
    {
     "data": {
      "text/plain": "      index  feature_col_3  feature_col_4  feature_col_2_Credit  \\\n0         1      -1.172302            2.0                     0   \n1         3      -1.207812            0.0                     0   \n2         8      -1.249708            2.0                     0   \n3        17      -1.135232            1.0                     0   \n4        19      -0.625021            0.0                     1   \n...     ...            ...            ...                   ...   \n2456   4990       0.000000            0.0                     0   \n2457   4992      -0.776343            2.0                     0   \n2458   4993       1.526767            1.0                     0   \n2459   4994      -0.150107            1.0                     0   \n2460   4998       0.558224            2.0                     0   \n\n      feature_col_2_Deposit  feature_col_2_Investment feature_col_1  \\\n0                         0                         0        female   \n1                         1                         0        female   \n2                         0                         1        female   \n3                         1                         0        female   \n4                         0                         0        female   \n...                     ...                       ...           ...   \n2456                      1                         0          male   \n2457                      0                         1          male   \n2458                      0                         1          male   \n2459                      1                         0          male   \n2460                      0                         1          male   \n\n      feature_col_3_matched  feature_col_4_matched  \\\n0                 -1.068343                    2.0   \n1                 -1.195921                    0.0   \n2                 -1.251400                    2.0   \n3                 -1.145254                    1.0   \n4                 -0.634467                    0.0   \n...                     ...                    ...   \n2456               0.000000                    0.0   \n2457              -0.756574                    2.0   \n2458               1.549173                    1.0   \n2459              -0.146332                    1.0   \n2460               0.507414                    2.0   \n\n      feature_col_2_Credit_matched  feature_col_2_Deposit_matched  \\\n0                              0.0                            0.0   \n1                              0.0                            1.0   \n2                              0.0                            0.0   \n3                              0.0                            1.0   \n4                              1.0                            0.0   \n...                            ...                            ...   \n2456                           0.0                            1.0   \n2457                           0.0                            0.0   \n2458                           0.0                            0.0   \n2459                           0.0                            1.0   \n2460                           0.0                            0.0   \n\n      feature_col_2_Investment_matched feature_col_1_matched  \\\n0                                  0.0                female   \n1                                  0.0                female   \n2                                  1.0                female   \n3                                  0.0                female   \n4                                  0.0                female   \n...                                ...                   ...   \n2456                               0.0                  male   \n2457                               1.0                  male   \n2458                               1.0                  male   \n2459                               0.0                  male   \n2460                               1.0                  male   \n\n                                          index_matched  outcome_1  \\\n0                                                [4461]   1.329602   \n1                                                [1966]   0.156809   \n2                                                [2675]   3.446066   \n3                                                 [639]   0.786651   \n4                                                 [929]   1.154462   \n...                                                 ...        ...   \n2456  [0, 160, 360, 1000, 1300, 1510, 1650, 2270, 41...  -2.339942   \n2457                                             [2434]   1.076212   \n2458                                             [4248]   1.926302   \n2459                                             [1907]   0.101794   \n2460                                             [3733]   1.425498   \n\n      outcome_1_matched  outcome_1_matched_bias  treatment_1  \\\n0             -0.073953                1.470145            1   \n1             -1.600113                1.764539            1   \n2             -0.254556                3.699538            1   \n3              0.211591                0.568640            1   \n4             -1.318967                2.467378            1   \n...                 ...                     ...          ...   \n2456          -0.001779                2.338163            0   \n2457           4.152876                3.049215            0   \n2458           6.554668                4.597255            0   \n2459           3.677723                3.570687            0   \n2460           6.949896                5.594949            0   \n\n      treatment_1_matched  \n0                       0  \n1                       0  \n2                       0  \n3                       0  \n4                       0  \n...                   ...  \n2456                    1  \n2457                    1  \n2458                    1  \n2459                    1  \n2460                    1  \n\n[5000 rows x 19 columns]",
      "text/html": "<div>\n<style scoped>\n    .dataframe tbody tr th:only-of-type {\n        vertical-align: middle;\n    }\n\n    .dataframe tbody tr th {\n        vertical-align: top;\n    }\n\n    .dataframe thead th {\n        text-align: right;\n    }\n</style>\n<table border=\"1\" class=\"dataframe\">\n  <thead>\n    <tr style=\"text-align: right;\">\n      <th></th>\n      <th>index</th>\n      <th>feature_col_3</th>\n      <th>feature_col_4</th>\n      <th>feature_col_2_Credit</th>\n      <th>feature_col_2_Deposit</th>\n      <th>feature_col_2_Investment</th>\n      <th>feature_col_1</th>\n      <th>feature_col_3_matched</th>\n      <th>feature_col_4_matched</th>\n      <th>feature_col_2_Credit_matched</th>\n      <th>feature_col_2_Deposit_matched</th>\n      <th>feature_col_2_Investment_matched</th>\n      <th>feature_col_1_matched</th>\n      <th>index_matched</th>\n      <th>outcome_1</th>\n      <th>outcome_1_matched</th>\n      <th>outcome_1_matched_bias</th>\n      <th>treatment_1</th>\n      <th>treatment_1_matched</th>\n    </tr>\n  </thead>\n  <tbody>\n    <tr>\n      <th>0</th>\n      <td>1</td>\n      <td>-1.172302</td>\n      <td>2.0</td>\n      <td>0</td>\n      <td>0</td>\n      <td>0</td>\n      <td>female</td>\n      <td>-1.068343</td>\n      <td>2.0</td>\n      <td>0.0</td>\n      <td>0.0</td>\n      <td>0.0</td>\n      <td>female</td>\n      <td>[4461]</td>\n      <td>1.329602</td>\n      <td>-0.073953</td>\n      <td>1.470145</td>\n      <td>1</td>\n      <td>0</td>\n    </tr>\n    <tr>\n      <th>1</th>\n      <td>3</td>\n      <td>-1.207812</td>\n      <td>0.0</td>\n      <td>0</td>\n      <td>1</td>\n      <td>0</td>\n      <td>female</td>\n      <td>-1.195921</td>\n      <td>0.0</td>\n      <td>0.0</td>\n      <td>1.0</td>\n      <td>0.0</td>\n      <td>female</td>\n      <td>[1966]</td>\n      <td>0.156809</td>\n      <td>-1.600113</td>\n      <td>1.764539</td>\n      <td>1</td>\n      <td>0</td>\n    </tr>\n    <tr>\n      <th>2</th>\n      <td>8</td>\n      <td>-1.249708</td>\n      <td>2.0</td>\n      <td>0</td>\n      <td>0</td>\n      <td>1</td>\n      <td>female</td>\n      <td>-1.251400</td>\n      <td>2.0</td>\n      <td>0.0</td>\n      <td>0.0</td>\n      <td>1.0</td>\n      <td>female</td>\n      <td>[2675]</td>\n      <td>3.446066</td>\n      <td>-0.254556</td>\n      <td>3.699538</td>\n      <td>1</td>\n      <td>0</td>\n    </tr>\n    <tr>\n      <th>3</th>\n      <td>17</td>\n      <td>-1.135232</td>\n      <td>1.0</td>\n      <td>0</td>\n      <td>1</td>\n      <td>0</td>\n      <td>female</td>\n      <td>-1.145254</td>\n      <td>1.0</td>\n      <td>0.0</td>\n      <td>1.0</td>\n      <td>0.0</td>\n      <td>female</td>\n      <td>[639]</td>\n      <td>0.786651</td>\n      <td>0.211591</td>\n      <td>0.568640</td>\n      <td>1</td>\n      <td>0</td>\n    </tr>\n    <tr>\n      <th>4</th>\n      <td>19</td>\n      <td>-0.625021</td>\n      <td>0.0</td>\n      <td>1</td>\n      <td>0</td>\n      <td>0</td>\n      <td>female</td>\n      <td>-0.634467</td>\n      <td>0.0</td>\n      <td>1.0</td>\n      <td>0.0</td>\n      <td>0.0</td>\n      <td>female</td>\n      <td>[929]</td>\n      <td>1.154462</td>\n      <td>-1.318967</td>\n      <td>2.467378</td>\n      <td>1</td>\n      <td>0</td>\n    </tr>\n    <tr>\n      <th>...</th>\n      <td>...</td>\n      <td>...</td>\n      <td>...</td>\n      <td>...</td>\n      <td>...</td>\n      <td>...</td>\n      <td>...</td>\n      <td>...</td>\n      <td>...</td>\n      <td>...</td>\n      <td>...</td>\n      <td>...</td>\n      <td>...</td>\n      <td>...</td>\n      <td>...</td>\n      <td>...</td>\n      <td>...</td>\n      <td>...</td>\n      <td>...</td>\n    </tr>\n    <tr>\n      <th>2456</th>\n      <td>4990</td>\n      <td>0.000000</td>\n      <td>0.0</td>\n      <td>0</td>\n      <td>1</td>\n      <td>0</td>\n      <td>male</td>\n      <td>0.000000</td>\n      <td>0.0</td>\n      <td>0.0</td>\n      <td>1.0</td>\n      <td>0.0</td>\n      <td>male</td>\n      <td>[0, 160, 360, 1000, 1300, 1510, 1650, 2270, 41...</td>\n      <td>-2.339942</td>\n      <td>-0.001779</td>\n      <td>2.338163</td>\n      <td>0</td>\n      <td>1</td>\n    </tr>\n    <tr>\n      <th>2457</th>\n      <td>4992</td>\n      <td>-0.776343</td>\n      <td>2.0</td>\n      <td>0</td>\n      <td>0</td>\n      <td>1</td>\n      <td>male</td>\n      <td>-0.756574</td>\n      <td>2.0</td>\n      <td>0.0</td>\n      <td>0.0</td>\n      <td>1.0</td>\n      <td>male</td>\n      <td>[2434]</td>\n      <td>1.076212</td>\n      <td>4.152876</td>\n      <td>3.049215</td>\n      <td>0</td>\n      <td>1</td>\n    </tr>\n    <tr>\n      <th>2458</th>\n      <td>4993</td>\n      <td>1.526767</td>\n      <td>1.0</td>\n      <td>0</td>\n      <td>0</td>\n      <td>1</td>\n      <td>male</td>\n      <td>1.549173</td>\n      <td>1.0</td>\n      <td>0.0</td>\n      <td>0.0</td>\n      <td>1.0</td>\n      <td>male</td>\n      <td>[4248]</td>\n      <td>1.926302</td>\n      <td>6.554668</td>\n      <td>4.597255</td>\n      <td>0</td>\n      <td>1</td>\n    </tr>\n    <tr>\n      <th>2459</th>\n      <td>4994</td>\n      <td>-0.150107</td>\n      <td>1.0</td>\n      <td>0</td>\n      <td>1</td>\n      <td>0</td>\n      <td>male</td>\n      <td>-0.146332</td>\n      <td>1.0</td>\n      <td>0.0</td>\n      <td>1.0</td>\n      <td>0.0</td>\n      <td>male</td>\n      <td>[1907]</td>\n      <td>0.101794</td>\n      <td>3.677723</td>\n      <td>3.570687</td>\n      <td>0</td>\n      <td>1</td>\n    </tr>\n    <tr>\n      <th>2460</th>\n      <td>4998</td>\n      <td>0.558224</td>\n      <td>2.0</td>\n      <td>0</td>\n      <td>0</td>\n      <td>1</td>\n      <td>male</td>\n      <td>0.507414</td>\n      <td>2.0</td>\n      <td>0.0</td>\n      <td>0.0</td>\n      <td>1.0</td>\n      <td>male</td>\n      <td>[3733]</td>\n      <td>1.425498</td>\n      <td>6.949896</td>\n      <td>5.594949</td>\n      <td>0</td>\n      <td>1</td>\n    </tr>\n  </tbody>\n</table>\n<p>5000 rows × 19 columns</p>\n</div>"
     },
     "execution_count": 58,
     "metadata": {},
     "output_type": "execute_result"
    }
   ],
   "source": [
    "df_matched"
   ],
   "metadata": {
    "collapsed": false,
    "ExecuteTime": {
     "end_time": "2023-11-21T13:34:06.241900200Z",
     "start_time": "2023-11-21T13:34:06.092567200Z"
    }
   }
  },
  {
   "cell_type": "code",
   "execution_count": 59,
   "metadata": {
    "ExecuteTime": {
     "end_time": "2023-11-21T13:34:45.203583800Z",
     "start_time": "2023-11-21T13:34:45.026888100Z"
    }
   },
   "outputs": [
    {
     "data": {
      "text/plain": "Empty DataFrame\nColumns: [index, feature_col_3, feature_col_4, feature_col_2_Credit, feature_col_2_Deposit, feature_col_2_Investment, feature_col_1, feature_col_3_matched, feature_col_4_matched, feature_col_2_Credit_matched, feature_col_2_Deposit_matched, feature_col_2_Investment_matched, feature_col_1_matched, index_matched, outcome_1, outcome_1_matched, outcome_1_matched_bias, treatment_1, treatment_1_matched]\nIndex: []",
      "text/html": "<div>\n<style scoped>\n    .dataframe tbody tr th:only-of-type {\n        vertical-align: middle;\n    }\n\n    .dataframe tbody tr th {\n        vertical-align: top;\n    }\n\n    .dataframe thead th {\n        text-align: right;\n    }\n</style>\n<table border=\"1\" class=\"dataframe\">\n  <thead>\n    <tr style=\"text-align: right;\">\n      <th></th>\n      <th>index</th>\n      <th>feature_col_3</th>\n      <th>feature_col_4</th>\n      <th>feature_col_2_Credit</th>\n      <th>feature_col_2_Deposit</th>\n      <th>feature_col_2_Investment</th>\n      <th>feature_col_1</th>\n      <th>feature_col_3_matched</th>\n      <th>feature_col_4_matched</th>\n      <th>feature_col_2_Credit_matched</th>\n      <th>feature_col_2_Deposit_matched</th>\n      <th>feature_col_2_Investment_matched</th>\n      <th>feature_col_1_matched</th>\n      <th>index_matched</th>\n      <th>outcome_1</th>\n      <th>outcome_1_matched</th>\n      <th>outcome_1_matched_bias</th>\n      <th>treatment_1</th>\n      <th>treatment_1_matched</th>\n    </tr>\n  </thead>\n  <tbody>\n  </tbody>\n</table>\n</div>"
     },
     "execution_count": 59,
     "metadata": {},
     "output_type": "execute_result"
    }
   ],
   "source": [
    "df_matched[df_matched['feature_col_1'] != df_matched['feature_col_1_matched']]"
   ]
  },
  {
   "cell_type": "markdown",
   "metadata": {},
   "source": [
    "## 3. Results  \n",
    "### 3.1 ATE, ATT, ATC"
   ]
  },
  {
   "cell_type": "code",
   "execution_count": 60,
   "metadata": {
    "ExecuteTime": {
     "end_time": "2023-11-21T13:34:50.786185800Z",
     "start_time": "2023-11-21T13:34:50.672910200Z"
    }
   },
   "outputs": [
    {
     "data": {
      "text/plain": "     effect_size   std_err  p-val  ci_lower  ci_upper    outcome\nATE     1.879802  0.066982    0.0  1.748518  2.011086  outcome_1\nATC     1.840331  0.075393    0.0  1.692561  1.988102  outcome_1\nATT     1.918060  0.074493    0.0  1.772054  2.064067  outcome_1",
      "text/html": "<div>\n<style scoped>\n    .dataframe tbody tr th:only-of-type {\n        vertical-align: middle;\n    }\n\n    .dataframe tbody tr th {\n        vertical-align: top;\n    }\n\n    .dataframe thead th {\n        text-align: right;\n    }\n</style>\n<table border=\"1\" class=\"dataframe\">\n  <thead>\n    <tr style=\"text-align: right;\">\n      <th></th>\n      <th>effect_size</th>\n      <th>std_err</th>\n      <th>p-val</th>\n      <th>ci_lower</th>\n      <th>ci_upper</th>\n      <th>outcome</th>\n    </tr>\n  </thead>\n  <tbody>\n    <tr>\n      <th>ATE</th>\n      <td>1.879802</td>\n      <td>0.066982</td>\n      <td>0.0</td>\n      <td>1.748518</td>\n      <td>2.011086</td>\n      <td>outcome_1</td>\n    </tr>\n    <tr>\n      <th>ATC</th>\n      <td>1.840331</td>\n      <td>0.075393</td>\n      <td>0.0</td>\n      <td>1.692561</td>\n      <td>1.988102</td>\n      <td>outcome_1</td>\n    </tr>\n    <tr>\n      <th>ATT</th>\n      <td>1.918060</td>\n      <td>0.074493</td>\n      <td>0.0</td>\n      <td>1.772054</td>\n      <td>2.064067</td>\n      <td>outcome_1</td>\n    </tr>\n  </tbody>\n</table>\n</div>"
     },
     "execution_count": 60,
     "metadata": {},
     "output_type": "execute_result"
    }
   ],
   "source": [
    "results"
   ]
  },
  {
   "cell_type": "markdown",
   "metadata": {},
   "source": [
    "### 3.2 SMD, PSI, KS-test, repeats"
   ]
  },
  {
   "cell_type": "code",
   "execution_count": 61,
   "metadata": {
    "ExecuteTime": {
     "end_time": "2023-11-21T13:34:57.788489800Z",
     "start_time": "2023-11-21T13:34:57.747480300Z"
    }
   },
   "outputs": [
    {
     "data": {
      "text/plain": "dict_keys(['psi', 'ks_test', 'smd', 'repeats'])"
     },
     "execution_count": 61,
     "metadata": {},
     "output_type": "execute_result"
    }
   ],
   "source": [
    "quality_results.keys()"
   ]
  },
  {
   "cell_type": "code",
   "execution_count": 62,
   "metadata": {
    "ExecuteTime": {
     "end_time": "2023-11-21T13:34:58.159550900Z",
     "start_time": "2023-11-21T13:34:58.092489900Z"
    }
   },
   "outputs": [
    {
     "data": {
      "text/plain": "                     column_treated  anomaly_score_treated  \\\n0             feature_col_1_treated                    0.0   \n1      feature_col_2_Credit_treated                    0.0   \n2     feature_col_2_Deposit_treated                    0.0   \n3  feature_col_2_Investment_treated                    0.0   \n4             feature_col_3_treated                    0.0   \n5             feature_col_4_treated                    0.0   \n\n  check_result_treated                    column_untreated  \\\n0                   OK             feature_col_1_untreated   \n1                   OK      feature_col_2_Credit_untreated   \n2                   OK     feature_col_2_Deposit_untreated   \n3                   OK  feature_col_2_Investment_untreated   \n4                   OK             feature_col_3_untreated   \n5                   OK             feature_col_4_untreated   \n\n   anomaly_score_untreated check_result_untreated  \n0                      0.0                     OK  \n1                      0.0                     OK  \n2                      0.0                     OK  \n3                      0.0                     OK  \n4                      0.0                     OK  \n5                      0.0                     OK  ",
      "text/html": "<div>\n<style scoped>\n    .dataframe tbody tr th:only-of-type {\n        vertical-align: middle;\n    }\n\n    .dataframe tbody tr th {\n        vertical-align: top;\n    }\n\n    .dataframe thead th {\n        text-align: right;\n    }\n</style>\n<table border=\"1\" class=\"dataframe\">\n  <thead>\n    <tr style=\"text-align: right;\">\n      <th></th>\n      <th>column_treated</th>\n      <th>anomaly_score_treated</th>\n      <th>check_result_treated</th>\n      <th>column_untreated</th>\n      <th>anomaly_score_untreated</th>\n      <th>check_result_untreated</th>\n    </tr>\n  </thead>\n  <tbody>\n    <tr>\n      <th>0</th>\n      <td>feature_col_1_treated</td>\n      <td>0.0</td>\n      <td>OK</td>\n      <td>feature_col_1_untreated</td>\n      <td>0.0</td>\n      <td>OK</td>\n    </tr>\n    <tr>\n      <th>1</th>\n      <td>feature_col_2_Credit_treated</td>\n      <td>0.0</td>\n      <td>OK</td>\n      <td>feature_col_2_Credit_untreated</td>\n      <td>0.0</td>\n      <td>OK</td>\n    </tr>\n    <tr>\n      <th>2</th>\n      <td>feature_col_2_Deposit_treated</td>\n      <td>0.0</td>\n      <td>OK</td>\n      <td>feature_col_2_Deposit_untreated</td>\n      <td>0.0</td>\n      <td>OK</td>\n    </tr>\n    <tr>\n      <th>3</th>\n      <td>feature_col_2_Investment_treated</td>\n      <td>0.0</td>\n      <td>OK</td>\n      <td>feature_col_2_Investment_untreated</td>\n      <td>0.0</td>\n      <td>OK</td>\n    </tr>\n    <tr>\n      <th>4</th>\n      <td>feature_col_3_treated</td>\n      <td>0.0</td>\n      <td>OK</td>\n      <td>feature_col_3_untreated</td>\n      <td>0.0</td>\n      <td>OK</td>\n    </tr>\n    <tr>\n      <th>5</th>\n      <td>feature_col_4_treated</td>\n      <td>0.0</td>\n      <td>OK</td>\n      <td>feature_col_4_untreated</td>\n      <td>0.0</td>\n      <td>OK</td>\n    </tr>\n  </tbody>\n</table>\n</div>"
     },
     "execution_count": 62,
     "metadata": {},
     "output_type": "execute_result"
    }
   ],
   "source": [
    "quality_results['psi']"
   ]
  },
  {
   "cell_type": "code",
   "execution_count": 63,
   "metadata": {
    "ExecuteTime": {
     "end_time": "2023-11-21T13:35:00.014842900Z",
     "start_time": "2023-11-21T13:34:59.923299300Z"
    }
   },
   "outputs": [
    {
     "data": {
      "text/plain": "               match_control_to_treat  match_treat_to_control\nfeature_col_3                0.999945                0.993136\nfeature_col_4                1.000000                1.000000",
      "text/html": "<div>\n<style scoped>\n    .dataframe tbody tr th:only-of-type {\n        vertical-align: middle;\n    }\n\n    .dataframe tbody tr th {\n        vertical-align: top;\n    }\n\n    .dataframe thead th {\n        text-align: right;\n    }\n</style>\n<table border=\"1\" class=\"dataframe\">\n  <thead>\n    <tr style=\"text-align: right;\">\n      <th></th>\n      <th>match_control_to_treat</th>\n      <th>match_treat_to_control</th>\n    </tr>\n  </thead>\n  <tbody>\n    <tr>\n      <th>feature_col_3</th>\n      <td>0.999945</td>\n      <td>0.993136</td>\n    </tr>\n    <tr>\n      <th>feature_col_4</th>\n      <td>1.000000</td>\n      <td>1.000000</td>\n    </tr>\n  </tbody>\n</table>\n</div>"
     },
     "execution_count": 63,
     "metadata": {},
     "output_type": "execute_result"
    }
   ],
   "source": [
    "quality_results['ks_test']"
   ]
  },
  {
   "cell_type": "code",
   "execution_count": 22,
   "metadata": {},
   "outputs": [
    {
     "data": {
      "text/plain": [
       "{'match_control_to_treat': 0.93, 'match_treat_to_control': 0.09}"
      ]
     },
     "execution_count": 22,
     "metadata": {},
     "output_type": "execute_result"
    }
   ],
   "source": [
    "quality_results['repeats']"
   ]
  },
  {
   "cell_type": "markdown",
   "metadata": {},
   "source": [
    "### 3.3 Validation\n",
    "Validates estimated effect:\n",
    "1. by replacing real treatment (`random_treatment`) with random placebo treatment.\n",
    " Estimated effect must be droped to zero;\n",
    "2. by adding random feature (`random_feature`). Estimated effect shouldn't change\n",
    "significantly, p-val < 0.05;\n",
    "3. estimates effect on subset of data (`subset_refuter`) (default fraction is 0.8). Estimated effect\n",
    "shouldn't change significantly, p-val < 0.05."
   ]
  },
  {
   "cell_type": "code",
   "execution_count": 64,
   "metadata": {
    "ExecuteTime": {
     "end_time": "2023-11-21T13:35:11.602745400Z",
     "start_time": "2023-11-21T13:35:04.550210200Z"
    }
   },
   "outputs": [
    {
     "name": "stderr",
     "output_type": "stream",
     "text": [
      "100%|██████████| 10/10 [00:06<00:00,  1.43it/s]\n"
     ]
    },
    {
     "data": {
      "text/plain": "{'outcome_1': [0.005919635227248263, 0.0]}"
     },
     "execution_count": 64,
     "metadata": {},
     "output_type": "execute_result"
    }
   ],
   "source": [
    "model.validate_result(refuter=\"random_treatment\", effect_type=\"att\", n_sim=10)"
   ]
  },
  {
   "cell_type": "markdown",
   "metadata": {},
   "source": [
    "## 4. Save model"
   ]
  },
  {
   "cell_type": "code",
   "execution_count": 65,
   "metadata": {
    "ExecuteTime": {
     "end_time": "2023-11-21T13:35:19.976202900Z",
     "start_time": "2023-11-21T13:35:19.903563600Z"
    }
   },
   "outputs": [],
   "source": [
    "model.save(\"test_model.pickle\")"
   ]
  },
  {
   "cell_type": "code",
   "execution_count": 66,
   "metadata": {
    "ExecuteTime": {
     "end_time": "2023-11-21T13:35:20.824553500Z",
     "start_time": "2023-11-21T13:35:20.672765800Z"
    }
   },
   "outputs": [],
   "source": [
    "model2 = Matcher.load(\"test_model.pickle\")"
   ]
  },
  {
   "cell_type": "code",
   "execution_count": 67,
   "metadata": {
    "ExecuteTime": {
     "end_time": "2023-11-21T13:35:21.753503500Z",
     "start_time": "2023-11-21T13:35:21.660152700Z"
    }
   },
   "outputs": [
    {
     "data": {
      "text/plain": "     effect_size   std_err  p-val  ci_lower  ci_upper    outcome\nATE     1.879802  0.066982    0.0  1.748518  2.011086  outcome_1\nATC     1.840331  0.075393    0.0  1.692561  1.988102  outcome_1\nATT     1.918060  0.074493    0.0  1.772054  2.064067  outcome_1",
      "text/html": "<div>\n<style scoped>\n    .dataframe tbody tr th:only-of-type {\n        vertical-align: middle;\n    }\n\n    .dataframe tbody tr th {\n        vertical-align: top;\n    }\n\n    .dataframe thead th {\n        text-align: right;\n    }\n</style>\n<table border=\"1\" class=\"dataframe\">\n  <thead>\n    <tr style=\"text-align: right;\">\n      <th></th>\n      <th>effect_size</th>\n      <th>std_err</th>\n      <th>p-val</th>\n      <th>ci_lower</th>\n      <th>ci_upper</th>\n      <th>outcome</th>\n    </tr>\n  </thead>\n  <tbody>\n    <tr>\n      <th>ATE</th>\n      <td>1.879802</td>\n      <td>0.066982</td>\n      <td>0.0</td>\n      <td>1.748518</td>\n      <td>2.011086</td>\n      <td>outcome_1</td>\n    </tr>\n    <tr>\n      <th>ATC</th>\n      <td>1.840331</td>\n      <td>0.075393</td>\n      <td>0.0</td>\n      <td>1.692561</td>\n      <td>1.988102</td>\n      <td>outcome_1</td>\n    </tr>\n    <tr>\n      <th>ATT</th>\n      <td>1.918060</td>\n      <td>0.074493</td>\n      <td>0.0</td>\n      <td>1.772054</td>\n      <td>2.064067</td>\n      <td>outcome_1</td>\n    </tr>\n  </tbody>\n</table>\n</div>"
     },
     "execution_count": 67,
     "metadata": {},
     "output_type": "execute_result"
    }
   ],
   "source": [
    "model2.results"
   ]
  },
  {
   "cell_type": "code",
   "execution_count": 68,
   "metadata": {
    "ExecuteTime": {
     "end_time": "2023-11-21T13:35:23.605957100Z",
     "start_time": "2023-11-21T13:35:23.466722400Z"
    }
   },
   "outputs": [
    {
     "data": {
      "text/plain": "     effect_size   std_err  p-val  ci_lower  ci_upper    outcome\nATE     1.879802  0.066982    0.0  1.748518  2.011086  outcome_1\nATC     1.840331  0.075393    0.0  1.692561  1.988102  outcome_1\nATT     1.918060  0.074493    0.0  1.772054  2.064067  outcome_1",
      "text/html": "<div>\n<style scoped>\n    .dataframe tbody tr th:only-of-type {\n        vertical-align: middle;\n    }\n\n    .dataframe tbody tr th {\n        vertical-align: top;\n    }\n\n    .dataframe thead th {\n        text-align: right;\n    }\n</style>\n<table border=\"1\" class=\"dataframe\">\n  <thead>\n    <tr style=\"text-align: right;\">\n      <th></th>\n      <th>effect_size</th>\n      <th>std_err</th>\n      <th>p-val</th>\n      <th>ci_lower</th>\n      <th>ci_upper</th>\n      <th>outcome</th>\n    </tr>\n  </thead>\n  <tbody>\n    <tr>\n      <th>ATE</th>\n      <td>1.879802</td>\n      <td>0.066982</td>\n      <td>0.0</td>\n      <td>1.748518</td>\n      <td>2.011086</td>\n      <td>outcome_1</td>\n    </tr>\n    <tr>\n      <th>ATC</th>\n      <td>1.840331</td>\n      <td>0.075393</td>\n      <td>0.0</td>\n      <td>1.692561</td>\n      <td>1.988102</td>\n      <td>outcome_1</td>\n    </tr>\n    <tr>\n      <th>ATT</th>\n      <td>1.918060</td>\n      <td>0.074493</td>\n      <td>0.0</td>\n      <td>1.772054</td>\n      <td>2.064067</td>\n      <td>outcome_1</td>\n    </tr>\n  </tbody>\n</table>\n</div>"
     },
     "execution_count": 68,
     "metadata": {},
     "output_type": "execute_result"
    }
   ],
   "source": [
    "model.results"
   ]
  },
  {
   "cell_type": "code",
   "execution_count": null,
   "metadata": {},
   "outputs": [],
   "source": []
  }
 ],
 "metadata": {
  "kernelspec": {
   "display_name": "Python 3 (ipykernel)",
   "language": "python",
   "name": "python3"
  },
  "language_info": {
   "codemirror_mode": {
    "name": "ipython",
    "version": 3
   },
   "file_extension": ".py",
   "mimetype": "text/x-python",
   "name": "python",
   "nbconvert_exporter": "python",
   "pygments_lexer": "ipython3",
   "version": "3.10.13"
  }
 },
 "nbformat": 4,
 "nbformat_minor": 4
}
