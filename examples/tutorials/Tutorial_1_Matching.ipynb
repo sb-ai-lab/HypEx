{
 "cells": [
  {
   "cell_type": "markdown",
   "metadata": {},
   "source": [
    "# Tutorial 1: Matching"
   ]
  },
  {
   "cell_type": "markdown",
   "metadata": {},
   "source": [
    "## 0. Import libraries "
   ]
  },
  {
   "cell_type": "code",
   "execution_count": 69,
   "metadata": {
    "ExecuteTime": {
     "end_time": "2023-11-23T06:56:29.963810700Z",
     "start_time": "2023-11-23T06:56:29.945279700Z"
    }
   },
   "outputs": [],
   "source": [
    "import pandas as pd\n",
    "import numpy as np\n",
    "from hypex import Matcher\n",
    "import warnings \n",
    "warnings.simplefilter(action='ignore', category=FutureWarning)"
   ]
  },
  {
   "cell_type": "markdown",
   "metadata": {},
   "source": [
    "## 1. Create or upload your dataset  \n",
    "In this case we will create random dataset with known effect size  \n",
    "If you have your own dataset, go to the part 2 \n"
   ]
  },
  {
   "cell_type": "code",
   "execution_count": 70,
   "metadata": {
    "ExecuteTime": {
     "end_time": "2023-11-23T06:56:30.177620200Z",
     "start_time": "2023-11-23T06:56:30.158050500Z"
    }
   },
   "outputs": [],
   "source": [
    "from hypex.dataset.dataset import Dataset"
   ]
  },
  {
   "cell_type": "code",
   "execution_count": 86,
   "metadata": {
    "ExecuteTime": {
     "end_time": "2023-11-23T06:58:56.420207300Z",
     "start_time": "2023-11-23T06:58:56.279286900Z"
    }
   },
   "outputs": [
    {
     "data": {
      "text/plain": "      info_col_1 info_col_2 feature_col_1 feature_col_2  feature_col_3  \\\n0           1504          G        female    Investment            NaN   \n1           5044          G          male           NaN       0.764466   \n2           7360          E        female       Deposit       0.036796   \n3          14971          G          male        Credit       0.724862   \n4           6838          G          male    Investment      -0.475651   \n...          ...        ...           ...           ...            ...   \n4995        1291          E          male        Credit      -0.263859   \n4996        9280          G          male       Deposit       1.364917   \n4997        4951          E          male       Deposit       0.894228   \n4998       14569          E          male       Deposit      -0.447806   \n4999       12736          G          male       Deposit       0.368263   \n\n      feature_col_4  treatment_1  outcome_1  \n0               0.0          0.0  -0.206974  \n1               0.0          1.0   1.510945  \n2               0.0          1.0   1.392190  \n3               0.0          1.0   1.268083  \n4               2.0          0.0   1.204380  \n...             ...          ...        ...  \n4995            1.0          0.0   1.532543  \n4996            3.0          0.0   5.256187  \n4997            1.0          0.0   2.178767  \n4998            3.0          0.0   4.749217  \n4999            0.0          1.0   2.284572  \n\n[5000 rows x 8 columns]",
      "text/html": "<div>\n<style scoped>\n    .dataframe tbody tr th:only-of-type {\n        vertical-align: middle;\n    }\n\n    .dataframe tbody tr th {\n        vertical-align: top;\n    }\n\n    .dataframe thead th {\n        text-align: right;\n    }\n</style>\n<table border=\"1\" class=\"dataframe\">\n  <thead>\n    <tr style=\"text-align: right;\">\n      <th></th>\n      <th>info_col_1</th>\n      <th>info_col_2</th>\n      <th>feature_col_1</th>\n      <th>feature_col_2</th>\n      <th>feature_col_3</th>\n      <th>feature_col_4</th>\n      <th>treatment_1</th>\n      <th>outcome_1</th>\n    </tr>\n  </thead>\n  <tbody>\n    <tr>\n      <th>0</th>\n      <td>1504</td>\n      <td>G</td>\n      <td>female</td>\n      <td>Investment</td>\n      <td>NaN</td>\n      <td>0.0</td>\n      <td>0.0</td>\n      <td>-0.206974</td>\n    </tr>\n    <tr>\n      <th>1</th>\n      <td>5044</td>\n      <td>G</td>\n      <td>male</td>\n      <td>NaN</td>\n      <td>0.764466</td>\n      <td>0.0</td>\n      <td>1.0</td>\n      <td>1.510945</td>\n    </tr>\n    <tr>\n      <th>2</th>\n      <td>7360</td>\n      <td>E</td>\n      <td>female</td>\n      <td>Deposit</td>\n      <td>0.036796</td>\n      <td>0.0</td>\n      <td>1.0</td>\n      <td>1.392190</td>\n    </tr>\n    <tr>\n      <th>3</th>\n      <td>14971</td>\n      <td>G</td>\n      <td>male</td>\n      <td>Credit</td>\n      <td>0.724862</td>\n      <td>0.0</td>\n      <td>1.0</td>\n      <td>1.268083</td>\n    </tr>\n    <tr>\n      <th>4</th>\n      <td>6838</td>\n      <td>G</td>\n      <td>male</td>\n      <td>Investment</td>\n      <td>-0.475651</td>\n      <td>2.0</td>\n      <td>0.0</td>\n      <td>1.204380</td>\n    </tr>\n    <tr>\n      <th>...</th>\n      <td>...</td>\n      <td>...</td>\n      <td>...</td>\n      <td>...</td>\n      <td>...</td>\n      <td>...</td>\n      <td>...</td>\n      <td>...</td>\n    </tr>\n    <tr>\n      <th>4995</th>\n      <td>1291</td>\n      <td>E</td>\n      <td>male</td>\n      <td>Credit</td>\n      <td>-0.263859</td>\n      <td>1.0</td>\n      <td>0.0</td>\n      <td>1.532543</td>\n    </tr>\n    <tr>\n      <th>4996</th>\n      <td>9280</td>\n      <td>G</td>\n      <td>male</td>\n      <td>Deposit</td>\n      <td>1.364917</td>\n      <td>3.0</td>\n      <td>0.0</td>\n      <td>5.256187</td>\n    </tr>\n    <tr>\n      <th>4997</th>\n      <td>4951</td>\n      <td>E</td>\n      <td>male</td>\n      <td>Deposit</td>\n      <td>0.894228</td>\n      <td>1.0</td>\n      <td>0.0</td>\n      <td>2.178767</td>\n    </tr>\n    <tr>\n      <th>4998</th>\n      <td>14569</td>\n      <td>E</td>\n      <td>male</td>\n      <td>Deposit</td>\n      <td>-0.447806</td>\n      <td>3.0</td>\n      <td>0.0</td>\n      <td>4.749217</td>\n    </tr>\n    <tr>\n      <th>4999</th>\n      <td>12736</td>\n      <td>G</td>\n      <td>male</td>\n      <td>Deposit</td>\n      <td>0.368263</td>\n      <td>0.0</td>\n      <td>1.0</td>\n      <td>2.284572</td>\n    </tr>\n  </tbody>\n</table>\n<p>5000 rows × 8 columns</p>\n</div>"
     },
     "execution_count": 86,
     "metadata": {},
     "output_type": "execute_result"
    }
   ],
   "source": [
    "data = Dataset(na_columns=['feature_col_3', 'feature_col_2'], \n",
    "               num_main_causes_cols=2)\n",
    "data.df"
   ]
  },
  {
   "cell_type": "code",
   "execution_count": 87,
   "metadata": {
    "ExecuteTime": {
     "end_time": "2023-11-23T06:59:00.429449300Z",
     "start_time": "2023-11-23T06:59:00.403879500Z"
    }
   },
   "outputs": [
    {
     "data": {
      "text/plain": "Index(['info_col_1', 'info_col_2', 'feature_col_1', 'feature_col_2',\n       'feature_col_3', 'feature_col_4', 'treatment_1', 'outcome_1'],\n      dtype='object')"
     },
     "execution_count": 87,
     "metadata": {},
     "output_type": "execute_result"
    }
   ],
   "source": [
    "data.df.columns"
   ]
  },
  {
   "cell_type": "code",
   "execution_count": 88,
   "metadata": {
    "scrolled": true,
    "ExecuteTime": {
     "end_time": "2023-11-23T06:59:01.208024700Z",
     "start_time": "2023-11-23T06:59:01.181331400Z"
    }
   },
   "outputs": [
    {
     "data": {
      "text/plain": "treatment_1\n0.0    2551\n1.0    2449\nName: count, dtype: int64"
     },
     "execution_count": 88,
     "metadata": {},
     "output_type": "execute_result"
    }
   ],
   "source": [
    "data.df.treatment_1.value_counts()"
   ]
  },
  {
   "cell_type": "code",
   "execution_count": 89,
   "metadata": {
    "ExecuteTime": {
     "end_time": "2023-11-23T06:59:01.714491500Z",
     "start_time": "2023-11-23T06:59:01.688611100Z"
    }
   },
   "outputs": [
    {
     "data": {
      "text/plain": "info_col_1         0\ninfo_col_2         0\nfeature_col_1      0\nfeature_col_2    500\nfeature_col_3    500\nfeature_col_4      0\ntreatment_1        0\noutcome_1          0\ndtype: int64"
     },
     "execution_count": 89,
     "metadata": {},
     "output_type": "execute_result"
    }
   ],
   "source": [
    "data.df.isna().sum()"
   ]
  },
  {
   "cell_type": "markdown",
   "metadata": {},
   "source": [
    "## 2. Matching  \n",
    "### 2.0 Init params\n",
    "info_col used to define informative attributes that should not be part of matching, such as user_id  \n",
    "But to explicitly store this column in the table, so that you can compare directly after computation"
   ]
  },
  {
   "cell_type": "code",
   "execution_count": 90,
   "metadata": {
    "ExecuteTime": {
     "end_time": "2023-11-23T06:59:03.145675500Z",
     "start_time": "2023-11-23T06:59:03.105548900Z"
    }
   },
   "outputs": [],
   "source": [
    "info_col = data.info_col_names\n",
    "\n",
    "outcome = data.outcome_name[0]\n",
    "treatment = data.treatment_name[0]"
   ]
  },
  {
   "cell_type": "markdown",
   "metadata": {},
   "source": [
    "### 2.1 Simple matching\n",
    "This is the easiest way to initialize and calculate metrics on a Matching task  \n",
    "Use it when you are clear about each attribute or if you don't have any additional task conditions (Strict equality for certain features) "
   ]
  },
  {
   "cell_type": "code",
   "execution_count": 91,
   "metadata": {
    "ExecuteTime": {
     "end_time": "2023-11-23T06:59:05.322551600Z",
     "start_time": "2023-11-23T06:59:04.858973400Z"
    }
   },
   "outputs": [
    {
     "name": "stderr",
     "output_type": "stream",
     "text": [
      "[23.11.2023 09:59:04 | hypex | INFO]: Number of NaN values filled with zeros: 1000\n",
      "Get treated index: 100%|██████████| 5000/5000 [00:00<00:00, 47225.60it/s]\n"
     ]
    }
   ],
   "source": [
    "# Standard model with base parameters\n",
    "model = Matcher(input_data=data.df, outcome=outcome, treatment=treatment, info_col=info_col)\n",
    "results, quality_results, df_matched = model.estimate()"
   ]
  },
  {
   "cell_type": "code",
   "execution_count": 92,
   "metadata": {
    "ExecuteTime": {
     "end_time": "2023-11-23T06:59:07.453937Z",
     "start_time": "2023-11-23T06:59:07.412756300Z"
    }
   },
   "outputs": [
    {
     "data": {
      "text/plain": "     effect_size   std_err  p-val  ci_lower  ci_upper    outcome\nATE     2.801526  0.066779    0.0  2.670639  2.932413  outcome_1\nATC     2.782048  0.075372    0.0  2.634318  2.929778  outcome_1\nATT     2.821815  0.074687    0.0  2.675429  2.968200  outcome_1",
      "text/html": "<div>\n<style scoped>\n    .dataframe tbody tr th:only-of-type {\n        vertical-align: middle;\n    }\n\n    .dataframe tbody tr th {\n        vertical-align: top;\n    }\n\n    .dataframe thead th {\n        text-align: right;\n    }\n</style>\n<table border=\"1\" class=\"dataframe\">\n  <thead>\n    <tr style=\"text-align: right;\">\n      <th></th>\n      <th>effect_size</th>\n      <th>std_err</th>\n      <th>p-val</th>\n      <th>ci_lower</th>\n      <th>ci_upper</th>\n      <th>outcome</th>\n    </tr>\n  </thead>\n  <tbody>\n    <tr>\n      <th>ATE</th>\n      <td>2.801526</td>\n      <td>0.066779</td>\n      <td>0.0</td>\n      <td>2.670639</td>\n      <td>2.932413</td>\n      <td>outcome_1</td>\n    </tr>\n    <tr>\n      <th>ATC</th>\n      <td>2.782048</td>\n      <td>0.075372</td>\n      <td>0.0</td>\n      <td>2.634318</td>\n      <td>2.929778</td>\n      <td>outcome_1</td>\n    </tr>\n    <tr>\n      <th>ATT</th>\n      <td>2.821815</td>\n      <td>0.074687</td>\n      <td>0.0</td>\n      <td>2.675429</td>\n      <td>2.968200</td>\n      <td>outcome_1</td>\n    </tr>\n  </tbody>\n</table>\n</div>"
     },
     "execution_count": 92,
     "metadata": {},
     "output_type": "execute_result"
    }
   ],
   "source": [
    "results"
   ]
  },
  {
   "cell_type": "code",
   "execution_count": 93,
   "metadata": {
    "ExecuteTime": {
     "end_time": "2023-11-23T06:59:09.257132900Z",
     "start_time": "2023-11-23T06:59:09.226783400Z"
    }
   },
   "outputs": [
    {
     "data": {
      "text/plain": "dict_keys(['psi', 'ks_test', 'smd', 'repeats'])"
     },
     "execution_count": 93,
     "metadata": {},
     "output_type": "execute_result"
    }
   ],
   "source": [
    "quality_results.keys()"
   ]
  },
  {
   "cell_type": "code",
   "execution_count": 94,
   "metadata": {
    "ExecuteTime": {
     "end_time": "2023-11-23T06:59:10.093101100Z",
     "start_time": "2023-11-23T06:59:10.041903900Z"
    }
   },
   "outputs": [
    {
     "data": {
      "text/plain": "               match_control_to_treat  match_treat_to_control\nfeature_col_3                0.997195                0.999381\nfeature_col_4                1.000000                1.000000",
      "text/html": "<div>\n<style scoped>\n    .dataframe tbody tr th:only-of-type {\n        vertical-align: middle;\n    }\n\n    .dataframe tbody tr th {\n        vertical-align: top;\n    }\n\n    .dataframe thead th {\n        text-align: right;\n    }\n</style>\n<table border=\"1\" class=\"dataframe\">\n  <thead>\n    <tr style=\"text-align: right;\">\n      <th></th>\n      <th>match_control_to_treat</th>\n      <th>match_treat_to_control</th>\n    </tr>\n  </thead>\n  <tbody>\n    <tr>\n      <th>feature_col_3</th>\n      <td>0.997195</td>\n      <td>0.999381</td>\n    </tr>\n    <tr>\n      <th>feature_col_4</th>\n      <td>1.000000</td>\n      <td>1.000000</td>\n    </tr>\n  </tbody>\n</table>\n</div>"
     },
     "execution_count": 94,
     "metadata": {},
     "output_type": "execute_result"
    }
   ],
   "source": [
    "quality_results['ks_test']"
   ]
  },
  {
   "cell_type": "code",
   "execution_count": 95,
   "metadata": {
    "ExecuteTime": {
     "end_time": "2023-11-23T06:59:11.349521200Z",
     "start_time": "2023-11-23T06:59:11.238037300Z"
    }
   },
   "outputs": [
    {
     "data": {
      "text/plain": "      index  feature_col_3  feature_col_4  feature_col_1_male  \\\n0         1       0.764466            0.0                   1   \n1         2       0.036796            0.0                   0   \n2         3       0.724862            0.0                   1   \n3         5       0.040043            1.0                   0   \n4         8      -1.513104            1.0                   1   \n...     ...            ...            ...                 ...   \n2546   4993      -1.135007            0.0                   0   \n2547   4995      -0.263859            1.0                   1   \n2548   4996       1.364917            3.0                   1   \n2549   4997       0.894228            1.0                   1   \n2550   4998      -0.447806            3.0                   1   \n\n      feature_col_2_Credit  feature_col_2_Deposit  feature_col_2_Investment  \\\n0                        0                      0                         0   \n1                        0                      1                         0   \n2                        1                      0                         0   \n3                        0                      1                         0   \n4                        0                      1                         0   \n...                    ...                    ...                       ...   \n2546                     0                      1                         0   \n2547                     1                      0                         0   \n2548                     0                      1                         0   \n2549                     0                      1                         0   \n2550                     0                      1                         0   \n\n      feature_col_3_matched  feature_col_4_matched  \\\n0                  0.746784                    0.0   \n1                  0.042363                    0.0   \n2                  0.711571                    0.0   \n3                  0.038750                    1.0   \n4                 -1.153951                    1.0   \n...                     ...                    ...   \n2546              -1.127268                    0.0   \n2547              -0.251755                    1.0   \n2548               1.371142                    3.0   \n2549               0.996776                    1.0   \n2550              -0.449058                    3.0   \n\n      feature_col_1_male_matched  feature_col_2_Credit_matched  \\\n0                            1.0                           0.0   \n1                            0.0                           0.0   \n2                            1.0                           1.0   \n3                            0.0                           0.0   \n4                            1.0                           0.0   \n...                          ...                           ...   \n2546                         0.0                           0.0   \n2547                         1.0                           1.0   \n2548                         1.0                           0.0   \n2549                         1.0                           0.0   \n2550                         1.0                           0.0   \n\n      feature_col_2_Deposit_matched  feature_col_2_Investment_matched  \\\n0                               0.0                               0.0   \n1                               1.0                               0.0   \n2                               0.0                               0.0   \n3                               1.0                               0.0   \n4                               1.0                               0.0   \n...                             ...                               ...   \n2546                            1.0                               0.0   \n2547                            0.0                               0.0   \n2548                            1.0                               0.0   \n2549                            1.0                               0.0   \n2550                            1.0                               0.0   \n\n     index_matched  outcome_1  outcome_1_matched  outcome_1_matched_bias  \\\n0           [4391]   1.510945           0.992153                0.500881   \n1            [354]   1.392190           0.141016                1.256813   \n2           [4319]   1.268083           0.382183                0.872439   \n3           [1702]   4.740209           1.623045                3.115855   \n4           [1917]   0.399753          -0.742346                1.505884   \n...            ...        ...                ...                     ...   \n2546         [467]  -1.108439          -3.100447               -2.007348   \n2547        [2805]   1.532543           1.161971               -0.394565   \n2548        [1996]   5.256187          11.577960                6.309433   \n2549        [1506]   2.178767           6.609450                4.227404   \n2550        [4643]   4.749217           6.274520                1.527785   \n\n      treatment_1  treatment_1_matched  \n0               1                    0  \n1               1                    0  \n2               1                    0  \n3               1                    0  \n4               1                    0  \n...           ...                  ...  \n2546            0                    1  \n2547            0                    1  \n2548            0                    1  \n2549            0                    1  \n2550            0                    1  \n\n[5000 rows x 19 columns]",
      "text/html": "<div>\n<style scoped>\n    .dataframe tbody tr th:only-of-type {\n        vertical-align: middle;\n    }\n\n    .dataframe tbody tr th {\n        vertical-align: top;\n    }\n\n    .dataframe thead th {\n        text-align: right;\n    }\n</style>\n<table border=\"1\" class=\"dataframe\">\n  <thead>\n    <tr style=\"text-align: right;\">\n      <th></th>\n      <th>index</th>\n      <th>feature_col_3</th>\n      <th>feature_col_4</th>\n      <th>feature_col_1_male</th>\n      <th>feature_col_2_Credit</th>\n      <th>feature_col_2_Deposit</th>\n      <th>feature_col_2_Investment</th>\n      <th>feature_col_3_matched</th>\n      <th>feature_col_4_matched</th>\n      <th>feature_col_1_male_matched</th>\n      <th>feature_col_2_Credit_matched</th>\n      <th>feature_col_2_Deposit_matched</th>\n      <th>feature_col_2_Investment_matched</th>\n      <th>index_matched</th>\n      <th>outcome_1</th>\n      <th>outcome_1_matched</th>\n      <th>outcome_1_matched_bias</th>\n      <th>treatment_1</th>\n      <th>treatment_1_matched</th>\n    </tr>\n  </thead>\n  <tbody>\n    <tr>\n      <th>0</th>\n      <td>1</td>\n      <td>0.764466</td>\n      <td>0.0</td>\n      <td>1</td>\n      <td>0</td>\n      <td>0</td>\n      <td>0</td>\n      <td>0.746784</td>\n      <td>0.0</td>\n      <td>1.0</td>\n      <td>0.0</td>\n      <td>0.0</td>\n      <td>0.0</td>\n      <td>[4391]</td>\n      <td>1.510945</td>\n      <td>0.992153</td>\n      <td>0.500881</td>\n      <td>1</td>\n      <td>0</td>\n    </tr>\n    <tr>\n      <th>1</th>\n      <td>2</td>\n      <td>0.036796</td>\n      <td>0.0</td>\n      <td>0</td>\n      <td>0</td>\n      <td>1</td>\n      <td>0</td>\n      <td>0.042363</td>\n      <td>0.0</td>\n      <td>0.0</td>\n      <td>0.0</td>\n      <td>1.0</td>\n      <td>0.0</td>\n      <td>[354]</td>\n      <td>1.392190</td>\n      <td>0.141016</td>\n      <td>1.256813</td>\n      <td>1</td>\n      <td>0</td>\n    </tr>\n    <tr>\n      <th>2</th>\n      <td>3</td>\n      <td>0.724862</td>\n      <td>0.0</td>\n      <td>1</td>\n      <td>1</td>\n      <td>0</td>\n      <td>0</td>\n      <td>0.711571</td>\n      <td>0.0</td>\n      <td>1.0</td>\n      <td>1.0</td>\n      <td>0.0</td>\n      <td>0.0</td>\n      <td>[4319]</td>\n      <td>1.268083</td>\n      <td>0.382183</td>\n      <td>0.872439</td>\n      <td>1</td>\n      <td>0</td>\n    </tr>\n    <tr>\n      <th>3</th>\n      <td>5</td>\n      <td>0.040043</td>\n      <td>1.0</td>\n      <td>0</td>\n      <td>0</td>\n      <td>1</td>\n      <td>0</td>\n      <td>0.038750</td>\n      <td>1.0</td>\n      <td>0.0</td>\n      <td>0.0</td>\n      <td>1.0</td>\n      <td>0.0</td>\n      <td>[1702]</td>\n      <td>4.740209</td>\n      <td>1.623045</td>\n      <td>3.115855</td>\n      <td>1</td>\n      <td>0</td>\n    </tr>\n    <tr>\n      <th>4</th>\n      <td>8</td>\n      <td>-1.513104</td>\n      <td>1.0</td>\n      <td>1</td>\n      <td>0</td>\n      <td>1</td>\n      <td>0</td>\n      <td>-1.153951</td>\n      <td>1.0</td>\n      <td>1.0</td>\n      <td>0.0</td>\n      <td>1.0</td>\n      <td>0.0</td>\n      <td>[1917]</td>\n      <td>0.399753</td>\n      <td>-0.742346</td>\n      <td>1.505884</td>\n      <td>1</td>\n      <td>0</td>\n    </tr>\n    <tr>\n      <th>...</th>\n      <td>...</td>\n      <td>...</td>\n      <td>...</td>\n      <td>...</td>\n      <td>...</td>\n      <td>...</td>\n      <td>...</td>\n      <td>...</td>\n      <td>...</td>\n      <td>...</td>\n      <td>...</td>\n      <td>...</td>\n      <td>...</td>\n      <td>...</td>\n      <td>...</td>\n      <td>...</td>\n      <td>...</td>\n      <td>...</td>\n      <td>...</td>\n    </tr>\n    <tr>\n      <th>2546</th>\n      <td>4993</td>\n      <td>-1.135007</td>\n      <td>0.0</td>\n      <td>0</td>\n      <td>0</td>\n      <td>1</td>\n      <td>0</td>\n      <td>-1.127268</td>\n      <td>0.0</td>\n      <td>0.0</td>\n      <td>0.0</td>\n      <td>1.0</td>\n      <td>0.0</td>\n      <td>[467]</td>\n      <td>-1.108439</td>\n      <td>-3.100447</td>\n      <td>-2.007348</td>\n      <td>0</td>\n      <td>1</td>\n    </tr>\n    <tr>\n      <th>2547</th>\n      <td>4995</td>\n      <td>-0.263859</td>\n      <td>1.0</td>\n      <td>1</td>\n      <td>1</td>\n      <td>0</td>\n      <td>0</td>\n      <td>-0.251755</td>\n      <td>1.0</td>\n      <td>1.0</td>\n      <td>1.0</td>\n      <td>0.0</td>\n      <td>0.0</td>\n      <td>[2805]</td>\n      <td>1.532543</td>\n      <td>1.161971</td>\n      <td>-0.394565</td>\n      <td>0</td>\n      <td>1</td>\n    </tr>\n    <tr>\n      <th>2548</th>\n      <td>4996</td>\n      <td>1.364917</td>\n      <td>3.0</td>\n      <td>1</td>\n      <td>0</td>\n      <td>1</td>\n      <td>0</td>\n      <td>1.371142</td>\n      <td>3.0</td>\n      <td>1.0</td>\n      <td>0.0</td>\n      <td>1.0</td>\n      <td>0.0</td>\n      <td>[1996]</td>\n      <td>5.256187</td>\n      <td>11.577960</td>\n      <td>6.309433</td>\n      <td>0</td>\n      <td>1</td>\n    </tr>\n    <tr>\n      <th>2549</th>\n      <td>4997</td>\n      <td>0.894228</td>\n      <td>1.0</td>\n      <td>1</td>\n      <td>0</td>\n      <td>1</td>\n      <td>0</td>\n      <td>0.996776</td>\n      <td>1.0</td>\n      <td>1.0</td>\n      <td>0.0</td>\n      <td>1.0</td>\n      <td>0.0</td>\n      <td>[1506]</td>\n      <td>2.178767</td>\n      <td>6.609450</td>\n      <td>4.227404</td>\n      <td>0</td>\n      <td>1</td>\n    </tr>\n    <tr>\n      <th>2550</th>\n      <td>4998</td>\n      <td>-0.447806</td>\n      <td>3.0</td>\n      <td>1</td>\n      <td>0</td>\n      <td>1</td>\n      <td>0</td>\n      <td>-0.449058</td>\n      <td>3.0</td>\n      <td>1.0</td>\n      <td>0.0</td>\n      <td>1.0</td>\n      <td>0.0</td>\n      <td>[4643]</td>\n      <td>4.749217</td>\n      <td>6.274520</td>\n      <td>1.527785</td>\n      <td>0</td>\n      <td>1</td>\n    </tr>\n  </tbody>\n</table>\n<p>5000 rows × 19 columns</p>\n</div>"
     },
     "execution_count": 95,
     "metadata": {},
     "output_type": "execute_result"
    }
   ],
   "source": [
    "df_matched"
   ]
  },
  {
   "cell_type": "code",
   "execution_count": 99,
   "metadata": {
    "ExecuteTime": {
     "end_time": "2023-11-23T07:01:08.198469Z",
     "start_time": "2023-11-23T07:01:08.158075600Z"
    }
   },
   "outputs": [
    {
     "data": {
      "text/plain": "Empty DataFrame\nColumns: [index, feature_col_3, feature_col_4, feature_col_1_male, feature_col_2_Credit, feature_col_2_Deposit, feature_col_2_Investment, feature_col_3_matched, feature_col_4_matched, feature_col_1_male_matched, feature_col_2_Credit_matched, feature_col_2_Deposit_matched, feature_col_2_Investment_matched, index_matched, outcome_1, outcome_1_matched, outcome_1_matched_bias, treatment_1, treatment_1_matched]\nIndex: []",
      "text/html": "<div>\n<style scoped>\n    .dataframe tbody tr th:only-of-type {\n        vertical-align: middle;\n    }\n\n    .dataframe tbody tr th {\n        vertical-align: top;\n    }\n\n    .dataframe thead th {\n        text-align: right;\n    }\n</style>\n<table border=\"1\" class=\"dataframe\">\n  <thead>\n    <tr style=\"text-align: right;\">\n      <th></th>\n      <th>index</th>\n      <th>feature_col_3</th>\n      <th>feature_col_4</th>\n      <th>feature_col_1_male</th>\n      <th>feature_col_2_Credit</th>\n      <th>feature_col_2_Deposit</th>\n      <th>feature_col_2_Investment</th>\n      <th>feature_col_3_matched</th>\n      <th>feature_col_4_matched</th>\n      <th>feature_col_1_male_matched</th>\n      <th>feature_col_2_Credit_matched</th>\n      <th>feature_col_2_Deposit_matched</th>\n      <th>feature_col_2_Investment_matched</th>\n      <th>index_matched</th>\n      <th>outcome_1</th>\n      <th>outcome_1_matched</th>\n      <th>outcome_1_matched_bias</th>\n      <th>treatment_1</th>\n      <th>treatment_1_matched</th>\n    </tr>\n  </thead>\n  <tbody>\n  </tbody>\n</table>\n</div>"
     },
     "execution_count": 99,
     "metadata": {},
     "output_type": "execute_result"
    }
   ],
   "source": [
    "df_matched[df_matched['feature_col_1_male'] != df_matched['feature_col_1_male_matched']]"
   ]
  },
  {
   "cell_type": "markdown",
   "metadata": {},
   "source": [
    "### 2.2 Matching with a fixed variable  \n",
    "Used when you have categorical feature(s) that you want to compare by strict equality  \n",
    "group_col is used for strict comparison of categorical features.  \n",
    "In our case there is only one attribute  \n",
    "If there are several such attributes, you should make one of them and use it"
   ]
  },
  {
   "cell_type": "code",
   "execution_count": 100,
   "metadata": {
    "ExecuteTime": {
     "end_time": "2023-11-23T07:01:09.808294600Z",
     "start_time": "2023-11-23T07:01:09.771991900Z"
    }
   },
   "outputs": [],
   "source": [
    "group_col = 'feature_col_1'"
   ]
  },
  {
   "cell_type": "code",
   "execution_count": 101,
   "metadata": {
    "ExecuteTime": {
     "end_time": "2023-11-23T07:01:12.522107900Z",
     "start_time": "2023-11-23T07:01:10.897835800Z"
    }
   },
   "outputs": [
    {
     "name": "stderr",
     "output_type": "stream",
     "text": [
      "[23.11.2023 10:01:10 | hypex | INFO]: Number of NaN values filled with zeros: 1000\n",
      "Get treated index by group male: 100%|██████████| 4/4 [00:00<00:00, 20.21it/s]  \n"
     ]
    }
   ],
   "source": [
    "model = Matcher(input_data=data.df, outcome=outcome, treatment=treatment,\n",
    "                info_col=info_col, group_col=group_col)\n",
    "results, quality_results, df_matched = model.estimate()"
   ]
  },
  {
   "cell_type": "code",
   "execution_count": 102,
   "metadata": {
    "ExecuteTime": {
     "end_time": "2023-11-23T07:01:23.568343400Z",
     "start_time": "2023-11-23T07:01:23.513665Z"
    }
   },
   "outputs": [
    {
     "data": {
      "text/plain": "     effect_size   std_err  p-val  ci_lower  ci_upper    outcome\nATE     2.801526  0.066779    0.0  2.670638  2.932413  outcome_1\nATC     2.782048  0.075372    0.0  2.634318  2.929778  outcome_1\nATT     2.821815  0.074687    0.0  2.675429  2.968201  outcome_1",
      "text/html": "<div>\n<style scoped>\n    .dataframe tbody tr th:only-of-type {\n        vertical-align: middle;\n    }\n\n    .dataframe tbody tr th {\n        vertical-align: top;\n    }\n\n    .dataframe thead th {\n        text-align: right;\n    }\n</style>\n<table border=\"1\" class=\"dataframe\">\n  <thead>\n    <tr style=\"text-align: right;\">\n      <th></th>\n      <th>effect_size</th>\n      <th>std_err</th>\n      <th>p-val</th>\n      <th>ci_lower</th>\n      <th>ci_upper</th>\n      <th>outcome</th>\n    </tr>\n  </thead>\n  <tbody>\n    <tr>\n      <th>ATE</th>\n      <td>2.801526</td>\n      <td>0.066779</td>\n      <td>0.0</td>\n      <td>2.670638</td>\n      <td>2.932413</td>\n      <td>outcome_1</td>\n    </tr>\n    <tr>\n      <th>ATC</th>\n      <td>2.782048</td>\n      <td>0.075372</td>\n      <td>0.0</td>\n      <td>2.634318</td>\n      <td>2.929778</td>\n      <td>outcome_1</td>\n    </tr>\n    <tr>\n      <th>ATT</th>\n      <td>2.821815</td>\n      <td>0.074687</td>\n      <td>0.0</td>\n      <td>2.675429</td>\n      <td>2.968201</td>\n      <td>outcome_1</td>\n    </tr>\n  </tbody>\n</table>\n</div>"
     },
     "execution_count": 102,
     "metadata": {},
     "output_type": "execute_result"
    }
   ],
   "source": [
    "results"
   ]
  },
  {
   "cell_type": "code",
   "execution_count": 103,
   "outputs": [
    {
     "data": {
      "text/plain": "      index  feature_col_3  feature_col_4  feature_col_2_Credit  \\\n0         2       0.036796            0.0                     0   \n1         5       0.040043            1.0                     0   \n2        12       0.109878            1.0                     0   \n3        14      -0.945215            0.0                     0   \n4        17       2.128255            1.0                     0   \n...     ...            ...            ...                   ...   \n2546   4992       0.227277            0.0                     1   \n2547   4995      -0.263859            1.0                     1   \n2548   4996       1.364917            3.0                     0   \n2549   4997       0.894228            1.0                     0   \n2550   4998      -0.447806            3.0                     0   \n\n      feature_col_2_Deposit  feature_col_2_Investment feature_col_1  \\\n0                         1                         0        female   \n1                         1                         0        female   \n2                         0                         1        female   \n3                         1                         0        female   \n4                         1                         0        female   \n...                     ...                       ...           ...   \n2546                      0                         0          male   \n2547                      0                         0          male   \n2548                      1                         0          male   \n2549                      1                         0          male   \n2550                      1                         0          male   \n\n      feature_col_3_matched  feature_col_4_matched  \\\n0                  0.042363                    0.0   \n1                  0.038750                    1.0   \n2                  0.108381                    1.0   \n3                 -0.947401                    0.0   \n4                  2.011505                    1.0   \n...                     ...                    ...   \n2546               0.201478                    0.0   \n2547              -0.251755                    1.0   \n2548               1.371142                    3.0   \n2549               0.996776                    1.0   \n2550              -0.449058                    3.0   \n\n      feature_col_2_Credit_matched  feature_col_2_Deposit_matched  \\\n0                              0.0                            1.0   \n1                              0.0                            1.0   \n2                              0.0                            0.0   \n3                              0.0                            1.0   \n4                              0.0                            1.0   \n...                            ...                            ...   \n2546                           1.0                            0.0   \n2547                           1.0                            0.0   \n2548                           0.0                            1.0   \n2549                           0.0                            1.0   \n2550                           0.0                            1.0   \n\n      feature_col_2_Investment_matched feature_col_1_matched index_matched  \\\n0                                  0.0                female         [354]   \n1                                  0.0                female        [1702]   \n2                                  1.0                female        [2415]   \n3                                  0.0                female        [1109]   \n4                                  0.0                female        [3023]   \n...                                ...                   ...           ...   \n2546                               0.0                  male        [2438]   \n2547                               0.0                  male        [2805]   \n2548                               0.0                  male        [1996]   \n2549                               0.0                  male        [1506]   \n2550                               0.0                  male        [4643]   \n\n      outcome_1  outcome_1_matched  outcome_1_matched_bias  treatment_1  \\\n0      1.392190           0.141016                1.256813            1   \n1      4.740209           1.623045                3.115855            1   \n2      4.399381           2.384703                2.013162            1   \n3     -0.736954          -2.795847                2.056678            1   \n4      8.786283           3.595781                5.072241            1   \n...         ...                ...                     ...          ...   \n2546   0.203098           1.538884                1.386938            0   \n2547   1.532543           1.161971               -0.394571            0   \n2548   5.256187          11.577960                6.309430            0   \n2549   2.178767           6.609450                4.227354            0   \n2550   4.749217           6.274520                1.527786            0   \n\n      treatment_1_matched  \n0                       0  \n1                       0  \n2                       0  \n3                       0  \n4                       0  \n...                   ...  \n2546                    1  \n2547                    1  \n2548                    1  \n2549                    1  \n2550                    1  \n\n[5000 rows x 19 columns]",
      "text/html": "<div>\n<style scoped>\n    .dataframe tbody tr th:only-of-type {\n        vertical-align: middle;\n    }\n\n    .dataframe tbody tr th {\n        vertical-align: top;\n    }\n\n    .dataframe thead th {\n        text-align: right;\n    }\n</style>\n<table border=\"1\" class=\"dataframe\">\n  <thead>\n    <tr style=\"text-align: right;\">\n      <th></th>\n      <th>index</th>\n      <th>feature_col_3</th>\n      <th>feature_col_4</th>\n      <th>feature_col_2_Credit</th>\n      <th>feature_col_2_Deposit</th>\n      <th>feature_col_2_Investment</th>\n      <th>feature_col_1</th>\n      <th>feature_col_3_matched</th>\n      <th>feature_col_4_matched</th>\n      <th>feature_col_2_Credit_matched</th>\n      <th>feature_col_2_Deposit_matched</th>\n      <th>feature_col_2_Investment_matched</th>\n      <th>feature_col_1_matched</th>\n      <th>index_matched</th>\n      <th>outcome_1</th>\n      <th>outcome_1_matched</th>\n      <th>outcome_1_matched_bias</th>\n      <th>treatment_1</th>\n      <th>treatment_1_matched</th>\n    </tr>\n  </thead>\n  <tbody>\n    <tr>\n      <th>0</th>\n      <td>2</td>\n      <td>0.036796</td>\n      <td>0.0</td>\n      <td>0</td>\n      <td>1</td>\n      <td>0</td>\n      <td>female</td>\n      <td>0.042363</td>\n      <td>0.0</td>\n      <td>0.0</td>\n      <td>1.0</td>\n      <td>0.0</td>\n      <td>female</td>\n      <td>[354]</td>\n      <td>1.392190</td>\n      <td>0.141016</td>\n      <td>1.256813</td>\n      <td>1</td>\n      <td>0</td>\n    </tr>\n    <tr>\n      <th>1</th>\n      <td>5</td>\n      <td>0.040043</td>\n      <td>1.0</td>\n      <td>0</td>\n      <td>1</td>\n      <td>0</td>\n      <td>female</td>\n      <td>0.038750</td>\n      <td>1.0</td>\n      <td>0.0</td>\n      <td>1.0</td>\n      <td>0.0</td>\n      <td>female</td>\n      <td>[1702]</td>\n      <td>4.740209</td>\n      <td>1.623045</td>\n      <td>3.115855</td>\n      <td>1</td>\n      <td>0</td>\n    </tr>\n    <tr>\n      <th>2</th>\n      <td>12</td>\n      <td>0.109878</td>\n      <td>1.0</td>\n      <td>0</td>\n      <td>0</td>\n      <td>1</td>\n      <td>female</td>\n      <td>0.108381</td>\n      <td>1.0</td>\n      <td>0.0</td>\n      <td>0.0</td>\n      <td>1.0</td>\n      <td>female</td>\n      <td>[2415]</td>\n      <td>4.399381</td>\n      <td>2.384703</td>\n      <td>2.013162</td>\n      <td>1</td>\n      <td>0</td>\n    </tr>\n    <tr>\n      <th>3</th>\n      <td>14</td>\n      <td>-0.945215</td>\n      <td>0.0</td>\n      <td>0</td>\n      <td>1</td>\n      <td>0</td>\n      <td>female</td>\n      <td>-0.947401</td>\n      <td>0.0</td>\n      <td>0.0</td>\n      <td>1.0</td>\n      <td>0.0</td>\n      <td>female</td>\n      <td>[1109]</td>\n      <td>-0.736954</td>\n      <td>-2.795847</td>\n      <td>2.056678</td>\n      <td>1</td>\n      <td>0</td>\n    </tr>\n    <tr>\n      <th>4</th>\n      <td>17</td>\n      <td>2.128255</td>\n      <td>1.0</td>\n      <td>0</td>\n      <td>1</td>\n      <td>0</td>\n      <td>female</td>\n      <td>2.011505</td>\n      <td>1.0</td>\n      <td>0.0</td>\n      <td>1.0</td>\n      <td>0.0</td>\n      <td>female</td>\n      <td>[3023]</td>\n      <td>8.786283</td>\n      <td>3.595781</td>\n      <td>5.072241</td>\n      <td>1</td>\n      <td>0</td>\n    </tr>\n    <tr>\n      <th>...</th>\n      <td>...</td>\n      <td>...</td>\n      <td>...</td>\n      <td>...</td>\n      <td>...</td>\n      <td>...</td>\n      <td>...</td>\n      <td>...</td>\n      <td>...</td>\n      <td>...</td>\n      <td>...</td>\n      <td>...</td>\n      <td>...</td>\n      <td>...</td>\n      <td>...</td>\n      <td>...</td>\n      <td>...</td>\n      <td>...</td>\n      <td>...</td>\n    </tr>\n    <tr>\n      <th>2546</th>\n      <td>4992</td>\n      <td>0.227277</td>\n      <td>0.0</td>\n      <td>1</td>\n      <td>0</td>\n      <td>0</td>\n      <td>male</td>\n      <td>0.201478</td>\n      <td>0.0</td>\n      <td>1.0</td>\n      <td>0.0</td>\n      <td>0.0</td>\n      <td>male</td>\n      <td>[2438]</td>\n      <td>0.203098</td>\n      <td>1.538884</td>\n      <td>1.386938</td>\n      <td>0</td>\n      <td>1</td>\n    </tr>\n    <tr>\n      <th>2547</th>\n      <td>4995</td>\n      <td>-0.263859</td>\n      <td>1.0</td>\n      <td>1</td>\n      <td>0</td>\n      <td>0</td>\n      <td>male</td>\n      <td>-0.251755</td>\n      <td>1.0</td>\n      <td>1.0</td>\n      <td>0.0</td>\n      <td>0.0</td>\n      <td>male</td>\n      <td>[2805]</td>\n      <td>1.532543</td>\n      <td>1.161971</td>\n      <td>-0.394571</td>\n      <td>0</td>\n      <td>1</td>\n    </tr>\n    <tr>\n      <th>2548</th>\n      <td>4996</td>\n      <td>1.364917</td>\n      <td>3.0</td>\n      <td>0</td>\n      <td>1</td>\n      <td>0</td>\n      <td>male</td>\n      <td>1.371142</td>\n      <td>3.0</td>\n      <td>0.0</td>\n      <td>1.0</td>\n      <td>0.0</td>\n      <td>male</td>\n      <td>[1996]</td>\n      <td>5.256187</td>\n      <td>11.577960</td>\n      <td>6.309430</td>\n      <td>0</td>\n      <td>1</td>\n    </tr>\n    <tr>\n      <th>2549</th>\n      <td>4997</td>\n      <td>0.894228</td>\n      <td>1.0</td>\n      <td>0</td>\n      <td>1</td>\n      <td>0</td>\n      <td>male</td>\n      <td>0.996776</td>\n      <td>1.0</td>\n      <td>0.0</td>\n      <td>1.0</td>\n      <td>0.0</td>\n      <td>male</td>\n      <td>[1506]</td>\n      <td>2.178767</td>\n      <td>6.609450</td>\n      <td>4.227354</td>\n      <td>0</td>\n      <td>1</td>\n    </tr>\n    <tr>\n      <th>2550</th>\n      <td>4998</td>\n      <td>-0.447806</td>\n      <td>3.0</td>\n      <td>0</td>\n      <td>1</td>\n      <td>0</td>\n      <td>male</td>\n      <td>-0.449058</td>\n      <td>3.0</td>\n      <td>0.0</td>\n      <td>1.0</td>\n      <td>0.0</td>\n      <td>male</td>\n      <td>[4643]</td>\n      <td>4.749217</td>\n      <td>6.274520</td>\n      <td>1.527786</td>\n      <td>0</td>\n      <td>1</td>\n    </tr>\n  </tbody>\n</table>\n<p>5000 rows × 19 columns</p>\n</div>"
     },
     "execution_count": 103,
     "metadata": {},
     "output_type": "execute_result"
    }
   ],
   "source": [
    "df_matched"
   ],
   "metadata": {
    "collapsed": false,
    "ExecuteTime": {
     "end_time": "2023-11-23T07:01:24.958205300Z",
     "start_time": "2023-11-23T07:01:24.883495400Z"
    }
   }
  },
  {
   "cell_type": "code",
   "execution_count": 104,
   "metadata": {
    "ExecuteTime": {
     "end_time": "2023-11-23T07:01:56.443535500Z",
     "start_time": "2023-11-23T07:01:56.339826300Z"
    }
   },
   "outputs": [
    {
     "data": {
      "text/plain": "Empty DataFrame\nColumns: [index, feature_col_3, feature_col_4, feature_col_2_Credit, feature_col_2_Deposit, feature_col_2_Investment, feature_col_1, feature_col_3_matched, feature_col_4_matched, feature_col_2_Credit_matched, feature_col_2_Deposit_matched, feature_col_2_Investment_matched, feature_col_1_matched, index_matched, outcome_1, outcome_1_matched, outcome_1_matched_bias, treatment_1, treatment_1_matched]\nIndex: []",
      "text/html": "<div>\n<style scoped>\n    .dataframe tbody tr th:only-of-type {\n        vertical-align: middle;\n    }\n\n    .dataframe tbody tr th {\n        vertical-align: top;\n    }\n\n    .dataframe thead th {\n        text-align: right;\n    }\n</style>\n<table border=\"1\" class=\"dataframe\">\n  <thead>\n    <tr style=\"text-align: right;\">\n      <th></th>\n      <th>index</th>\n      <th>feature_col_3</th>\n      <th>feature_col_4</th>\n      <th>feature_col_2_Credit</th>\n      <th>feature_col_2_Deposit</th>\n      <th>feature_col_2_Investment</th>\n      <th>feature_col_1</th>\n      <th>feature_col_3_matched</th>\n      <th>feature_col_4_matched</th>\n      <th>feature_col_2_Credit_matched</th>\n      <th>feature_col_2_Deposit_matched</th>\n      <th>feature_col_2_Investment_matched</th>\n      <th>feature_col_1_matched</th>\n      <th>index_matched</th>\n      <th>outcome_1</th>\n      <th>outcome_1_matched</th>\n      <th>outcome_1_matched_bias</th>\n      <th>treatment_1</th>\n      <th>treatment_1_matched</th>\n    </tr>\n  </thead>\n  <tbody>\n  </tbody>\n</table>\n</div>"
     },
     "execution_count": 104,
     "metadata": {},
     "output_type": "execute_result"
    }
   ],
   "source": [
    "df_matched[df_matched['feature_col_1'] != df_matched['feature_col_1_matched']]"
   ]
  },
  {
   "cell_type": "markdown",
   "metadata": {},
   "source": [
    "## 3. Results  \n",
    "### 3.1 ATE, ATT, ATC"
   ]
  },
  {
   "cell_type": "code",
   "execution_count": 105,
   "metadata": {
    "ExecuteTime": {
     "end_time": "2023-11-23T07:01:56.508061600Z",
     "start_time": "2023-11-23T07:01:56.370963900Z"
    }
   },
   "outputs": [
    {
     "data": {
      "text/plain": "     effect_size   std_err  p-val  ci_lower  ci_upper    outcome\nATE     2.801526  0.066779    0.0  2.670638  2.932413  outcome_1\nATC     2.782048  0.075372    0.0  2.634318  2.929778  outcome_1\nATT     2.821815  0.074687    0.0  2.675429  2.968201  outcome_1",
      "text/html": "<div>\n<style scoped>\n    .dataframe tbody tr th:only-of-type {\n        vertical-align: middle;\n    }\n\n    .dataframe tbody tr th {\n        vertical-align: top;\n    }\n\n    .dataframe thead th {\n        text-align: right;\n    }\n</style>\n<table border=\"1\" class=\"dataframe\">\n  <thead>\n    <tr style=\"text-align: right;\">\n      <th></th>\n      <th>effect_size</th>\n      <th>std_err</th>\n      <th>p-val</th>\n      <th>ci_lower</th>\n      <th>ci_upper</th>\n      <th>outcome</th>\n    </tr>\n  </thead>\n  <tbody>\n    <tr>\n      <th>ATE</th>\n      <td>2.801526</td>\n      <td>0.066779</td>\n      <td>0.0</td>\n      <td>2.670638</td>\n      <td>2.932413</td>\n      <td>outcome_1</td>\n    </tr>\n    <tr>\n      <th>ATC</th>\n      <td>2.782048</td>\n      <td>0.075372</td>\n      <td>0.0</td>\n      <td>2.634318</td>\n      <td>2.929778</td>\n      <td>outcome_1</td>\n    </tr>\n    <tr>\n      <th>ATT</th>\n      <td>2.821815</td>\n      <td>0.074687</td>\n      <td>0.0</td>\n      <td>2.675429</td>\n      <td>2.968201</td>\n      <td>outcome_1</td>\n    </tr>\n  </tbody>\n</table>\n</div>"
     },
     "execution_count": 105,
     "metadata": {},
     "output_type": "execute_result"
    }
   ],
   "source": [
    "results"
   ]
  },
  {
   "cell_type": "markdown",
   "metadata": {},
   "source": [
    "### 3.2 SMD, PSI, KS-test, repeats"
   ]
  },
  {
   "cell_type": "code",
   "execution_count": 106,
   "metadata": {
    "ExecuteTime": {
     "end_time": "2023-11-23T07:01:56.596636Z",
     "start_time": "2023-11-23T07:01:56.421216100Z"
    }
   },
   "outputs": [
    {
     "data": {
      "text/plain": "dict_keys(['psi', 'ks_test', 'smd', 'repeats'])"
     },
     "execution_count": 106,
     "metadata": {},
     "output_type": "execute_result"
    }
   ],
   "source": [
    "quality_results.keys()"
   ]
  },
  {
   "cell_type": "code",
   "execution_count": 107,
   "metadata": {
    "ExecuteTime": {
     "end_time": "2023-11-23T07:01:56.649251600Z",
     "start_time": "2023-11-23T07:01:56.449548700Z"
    }
   },
   "outputs": [
    {
     "data": {
      "text/plain": "                     column_treated  anomaly_score_treated  \\\n0             feature_col_1_treated                    0.0   \n1      feature_col_2_Credit_treated                    0.0   \n2     feature_col_2_Deposit_treated                    0.0   \n3  feature_col_2_Investment_treated                    0.0   \n4             feature_col_3_treated                    0.0   \n5             feature_col_4_treated                    0.0   \n\n  check_result_treated                    column_untreated  \\\n0                   OK             feature_col_1_untreated   \n1                   OK      feature_col_2_Credit_untreated   \n2                   OK     feature_col_2_Deposit_untreated   \n3                   OK  feature_col_2_Investment_untreated   \n4                   OK             feature_col_3_untreated   \n5                   OK             feature_col_4_untreated   \n\n   anomaly_score_untreated check_result_untreated  \n0                      0.0                     OK  \n1                      0.0                     OK  \n2                      0.0                     OK  \n3                      0.0                     OK  \n4                      0.0                     OK  \n5                      0.0                     OK  ",
      "text/html": "<div>\n<style scoped>\n    .dataframe tbody tr th:only-of-type {\n        vertical-align: middle;\n    }\n\n    .dataframe tbody tr th {\n        vertical-align: top;\n    }\n\n    .dataframe thead th {\n        text-align: right;\n    }\n</style>\n<table border=\"1\" class=\"dataframe\">\n  <thead>\n    <tr style=\"text-align: right;\">\n      <th></th>\n      <th>column_treated</th>\n      <th>anomaly_score_treated</th>\n      <th>check_result_treated</th>\n      <th>column_untreated</th>\n      <th>anomaly_score_untreated</th>\n      <th>check_result_untreated</th>\n    </tr>\n  </thead>\n  <tbody>\n    <tr>\n      <th>0</th>\n      <td>feature_col_1_treated</td>\n      <td>0.0</td>\n      <td>OK</td>\n      <td>feature_col_1_untreated</td>\n      <td>0.0</td>\n      <td>OK</td>\n    </tr>\n    <tr>\n      <th>1</th>\n      <td>feature_col_2_Credit_treated</td>\n      <td>0.0</td>\n      <td>OK</td>\n      <td>feature_col_2_Credit_untreated</td>\n      <td>0.0</td>\n      <td>OK</td>\n    </tr>\n    <tr>\n      <th>2</th>\n      <td>feature_col_2_Deposit_treated</td>\n      <td>0.0</td>\n      <td>OK</td>\n      <td>feature_col_2_Deposit_untreated</td>\n      <td>0.0</td>\n      <td>OK</td>\n    </tr>\n    <tr>\n      <th>3</th>\n      <td>feature_col_2_Investment_treated</td>\n      <td>0.0</td>\n      <td>OK</td>\n      <td>feature_col_2_Investment_untreated</td>\n      <td>0.0</td>\n      <td>OK</td>\n    </tr>\n    <tr>\n      <th>4</th>\n      <td>feature_col_3_treated</td>\n      <td>0.0</td>\n      <td>OK</td>\n      <td>feature_col_3_untreated</td>\n      <td>0.0</td>\n      <td>OK</td>\n    </tr>\n    <tr>\n      <th>5</th>\n      <td>feature_col_4_treated</td>\n      <td>0.0</td>\n      <td>OK</td>\n      <td>feature_col_4_untreated</td>\n      <td>0.0</td>\n      <td>OK</td>\n    </tr>\n  </tbody>\n</table>\n</div>"
     },
     "execution_count": 107,
     "metadata": {},
     "output_type": "execute_result"
    }
   ],
   "source": [
    "quality_results['psi']"
   ]
  },
  {
   "cell_type": "code",
   "execution_count": 108,
   "metadata": {
    "ExecuteTime": {
     "end_time": "2023-11-23T07:01:56.715175600Z",
     "start_time": "2023-11-23T07:01:56.477591600Z"
    }
   },
   "outputs": [
    {
     "data": {
      "text/plain": "               match_control_to_treat  match_treat_to_control\nfeature_col_3                0.997195                0.999381\nfeature_col_4                1.000000                1.000000",
      "text/html": "<div>\n<style scoped>\n    .dataframe tbody tr th:only-of-type {\n        vertical-align: middle;\n    }\n\n    .dataframe tbody tr th {\n        vertical-align: top;\n    }\n\n    .dataframe thead th {\n        text-align: right;\n    }\n</style>\n<table border=\"1\" class=\"dataframe\">\n  <thead>\n    <tr style=\"text-align: right;\">\n      <th></th>\n      <th>match_control_to_treat</th>\n      <th>match_treat_to_control</th>\n    </tr>\n  </thead>\n  <tbody>\n    <tr>\n      <th>feature_col_3</th>\n      <td>0.997195</td>\n      <td>0.999381</td>\n    </tr>\n    <tr>\n      <th>feature_col_4</th>\n      <td>1.000000</td>\n      <td>1.000000</td>\n    </tr>\n  </tbody>\n</table>\n</div>"
     },
     "execution_count": 108,
     "metadata": {},
     "output_type": "execute_result"
    }
   ],
   "source": [
    "quality_results['ks_test']"
   ]
  },
  {
   "cell_type": "code",
   "execution_count": 109,
   "metadata": {
    "ExecuteTime": {
     "end_time": "2023-11-23T07:01:56.731505200Z",
     "start_time": "2023-11-23T07:01:56.496288700Z"
    }
   },
   "outputs": [
    {
     "data": {
      "text/plain": "{'match_control_to_treat': 0.31, 'match_treat_to_control': 0.28}"
     },
     "execution_count": 109,
     "metadata": {},
     "output_type": "execute_result"
    }
   ],
   "source": [
    "quality_results['repeats']"
   ]
  },
  {
   "cell_type": "markdown",
   "metadata": {},
   "source": [
    "### 3.3 Validation\n",
    "Validates estimated effect:\n",
    "1. by replacing real treatment (`random_treatment`) with random placebo treatment.\n",
    " Estimated effect must be droped to zero;\n",
    "2. by adding random feature (`random_feature`). Estimated effect shouldn't change\n",
    "significantly, p-val < 0.05;\n",
    "3. estimates effect on subset of data (`subset_refuter`) (default fraction is 0.8). Estimated effect\n",
    "shouldn't change significantly, p-val < 0.05."
   ]
  },
  {
   "cell_type": "code",
   "execution_count": 110,
   "metadata": {
    "ExecuteTime": {
     "end_time": "2023-11-23T07:02:03.276853100Z",
     "start_time": "2023-11-23T07:01:56.510166900Z"
    }
   },
   "outputs": [
    {
     "name": "stderr",
     "output_type": "stream",
     "text": [
      "100%|██████████| 10/10 [00:06<00:00,  1.49it/s]\n"
     ]
    },
    {
     "data": {
      "text/plain": "{'outcome_1': [0.0022408059967929917, 0.0]}"
     },
     "execution_count": 110,
     "metadata": {},
     "output_type": "execute_result"
    }
   ],
   "source": [
    "model.validate_result(refuter=\"random_treatment\", effect_type=\"att\", n_sim=10)"
   ]
  },
  {
   "cell_type": "markdown",
   "metadata": {},
   "source": [
    "## 4. Save model"
   ]
  },
  {
   "cell_type": "code",
   "execution_count": 111,
   "metadata": {
    "ExecuteTime": {
     "end_time": "2023-11-23T07:02:03.323498400Z",
     "start_time": "2023-11-23T07:02:03.264780200Z"
    }
   },
   "outputs": [],
   "source": [
    "model.save(\"test_model.pickle\")"
   ]
  },
  {
   "cell_type": "code",
   "execution_count": 112,
   "metadata": {
    "ExecuteTime": {
     "end_time": "2023-11-23T07:02:03.368467100Z",
     "start_time": "2023-11-23T07:02:03.313058600Z"
    }
   },
   "outputs": [],
   "source": [
    "model2 = Matcher.load(\"test_model.pickle\")"
   ]
  },
  {
   "cell_type": "code",
   "execution_count": 113,
   "metadata": {
    "ExecuteTime": {
     "end_time": "2023-11-23T07:02:03.421477400Z",
     "start_time": "2023-11-23T07:02:03.355361400Z"
    }
   },
   "outputs": [
    {
     "data": {
      "text/plain": "     effect_size   std_err  p-val  ci_lower  ci_upper    outcome\nATE     2.801526  0.066779    0.0  2.670638  2.932413  outcome_1\nATC     2.782048  0.075372    0.0  2.634318  2.929778  outcome_1\nATT     2.821815  0.074687    0.0  2.675429  2.968201  outcome_1",
      "text/html": "<div>\n<style scoped>\n    .dataframe tbody tr th:only-of-type {\n        vertical-align: middle;\n    }\n\n    .dataframe tbody tr th {\n        vertical-align: top;\n    }\n\n    .dataframe thead th {\n        text-align: right;\n    }\n</style>\n<table border=\"1\" class=\"dataframe\">\n  <thead>\n    <tr style=\"text-align: right;\">\n      <th></th>\n      <th>effect_size</th>\n      <th>std_err</th>\n      <th>p-val</th>\n      <th>ci_lower</th>\n      <th>ci_upper</th>\n      <th>outcome</th>\n    </tr>\n  </thead>\n  <tbody>\n    <tr>\n      <th>ATE</th>\n      <td>2.801526</td>\n      <td>0.066779</td>\n      <td>0.0</td>\n      <td>2.670638</td>\n      <td>2.932413</td>\n      <td>outcome_1</td>\n    </tr>\n    <tr>\n      <th>ATC</th>\n      <td>2.782048</td>\n      <td>0.075372</td>\n      <td>0.0</td>\n      <td>2.634318</td>\n      <td>2.929778</td>\n      <td>outcome_1</td>\n    </tr>\n    <tr>\n      <th>ATT</th>\n      <td>2.821815</td>\n      <td>0.074687</td>\n      <td>0.0</td>\n      <td>2.675429</td>\n      <td>2.968201</td>\n      <td>outcome_1</td>\n    </tr>\n  </tbody>\n</table>\n</div>"
     },
     "execution_count": 113,
     "metadata": {},
     "output_type": "execute_result"
    }
   ],
   "source": [
    "model2.results"
   ]
  },
  {
   "cell_type": "code",
   "execution_count": 114,
   "metadata": {
    "ExecuteTime": {
     "end_time": "2023-11-23T07:02:03.455285400Z",
     "start_time": "2023-11-23T07:02:03.388061600Z"
    }
   },
   "outputs": [
    {
     "data": {
      "text/plain": "     effect_size   std_err  p-val  ci_lower  ci_upper    outcome\nATE     2.801526  0.066779    0.0  2.670638  2.932413  outcome_1\nATC     2.782048  0.075372    0.0  2.634318  2.929778  outcome_1\nATT     2.821815  0.074687    0.0  2.675429  2.968201  outcome_1",
      "text/html": "<div>\n<style scoped>\n    .dataframe tbody tr th:only-of-type {\n        vertical-align: middle;\n    }\n\n    .dataframe tbody tr th {\n        vertical-align: top;\n    }\n\n    .dataframe thead th {\n        text-align: right;\n    }\n</style>\n<table border=\"1\" class=\"dataframe\">\n  <thead>\n    <tr style=\"text-align: right;\">\n      <th></th>\n      <th>effect_size</th>\n      <th>std_err</th>\n      <th>p-val</th>\n      <th>ci_lower</th>\n      <th>ci_upper</th>\n      <th>outcome</th>\n    </tr>\n  </thead>\n  <tbody>\n    <tr>\n      <th>ATE</th>\n      <td>2.801526</td>\n      <td>0.066779</td>\n      <td>0.0</td>\n      <td>2.670638</td>\n      <td>2.932413</td>\n      <td>outcome_1</td>\n    </tr>\n    <tr>\n      <th>ATC</th>\n      <td>2.782048</td>\n      <td>0.075372</td>\n      <td>0.0</td>\n      <td>2.634318</td>\n      <td>2.929778</td>\n      <td>outcome_1</td>\n    </tr>\n    <tr>\n      <th>ATT</th>\n      <td>2.821815</td>\n      <td>0.074687</td>\n      <td>0.0</td>\n      <td>2.675429</td>\n      <td>2.968201</td>\n      <td>outcome_1</td>\n    </tr>\n  </tbody>\n</table>\n</div>"
     },
     "execution_count": 114,
     "metadata": {},
     "output_type": "execute_result"
    }
   ],
   "source": [
    "model.results"
   ]
  }
 ],
 "metadata": {
  "kernelspec": {
   "display_name": "Python 3 (ipykernel)",
   "language": "python",
   "name": "python3"
  },
  "language_info": {
   "codemirror_mode": {
    "name": "ipython",
    "version": 3
   },
   "file_extension": ".py",
   "mimetype": "text/x-python",
   "name": "python",
   "nbconvert_exporter": "python",
   "pygments_lexer": "ipython3",
   "version": "3.10.13"
  }
 },
 "nbformat": 4,
 "nbformat_minor": 4
}
