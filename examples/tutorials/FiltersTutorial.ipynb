{
 "cells": [
  {
   "cell_type": "code",
   "metadata": {
    "ExecuteTime": {
     "end_time": "2024-06-24T11:53:26.762283Z",
     "start_time": "2024-06-24T11:53:26.164639Z"
    }
   },
   "source": [
    "import copy\n",
    "\n",
    "from hypex.dataset import Dataset, ExperimentData, InfoRole, TreatmentRole, TargetRole, FeatureRole\n",
    "from hypex.transformers.filters import NanFilter, CorrFilter, ConstFilter, CVFilter, OutliersFilter\n",
    "from hypex.transformers.category_agg import CategoryAggregator\n"
   ],
   "outputs": [],
   "execution_count": 1
  },
  {
   "cell_type": "markdown",
   "metadata": {},
   "source": [
    "# Test dataset creation "
   ]
  },
  {
   "cell_type": "code",
   "metadata": {
    "ExecuteTime": {
     "end_time": "2024-06-24T11:53:26.795718Z",
     "start_time": "2024-06-24T11:53:26.764412Z"
    }
   },
   "source": [
    "data = Dataset(\n",
    "    roles={\n",
    "        \"user_id\": InfoRole(),\n",
    "        \"signup_month\": FeatureRole(),\n",
    "        \"treat\": TreatmentRole(),\n",
    "        \"pre_spends\": TargetRole(),\n",
    "        \"post_spends\": TargetRole(),\n",
    "        \"age\": FeatureRole(),\n",
    "        \"gender\": FeatureRole(),\n",
    "        \"industry\": FeatureRole(),\n",
    "        \"spend_for_candies\": FeatureRole(),\n",
    "    }, data=\"test_datafarame_with_corelation.csv\",\n",
    ")\n",
    "data"
   ],
   "outputs": [
    {
     "data": {
      "text/plain": [
       "      user_id  signup_month  treat  pre_spends  post_spends   age gender  \\\n",
       "0           0             0      0       488.0   414.444444   NaN      M   \n",
       "1           1             8      1       512.5   462.222222  26.0    NaN   \n",
       "2           2             7      1       483.0   479.444444  25.0      M   \n",
       "3           3             0      0       501.5   424.333333  39.0      M   \n",
       "4           4             1      1       543.0   514.555556  18.0      F   \n",
       "...       ...           ...    ...         ...          ...   ...    ...   \n",
       "9995     9995            10      1       538.5   450.444444  42.0      M   \n",
       "9996     9996             0      0       500.5   430.888889  26.0      F   \n",
       "9997     9997             3      1       473.0   534.111111  22.0      F   \n",
       "9998     9998             2      1       495.0   523.222222  67.0      F   \n",
       "9999     9999             7      1       508.0   475.888889  38.0      F   \n",
       "\n",
       "        industry  spend_for_candies  \n",
       "0     E-commerce         412.444444  \n",
       "1     E-commerce         460.222222  \n",
       "2      Logistics         477.444444  \n",
       "3     E-commerce         422.333333  \n",
       "4     E-commerce         512.555556  \n",
       "...          ...                ...  \n",
       "9995   Logistics         448.444444  \n",
       "9996   Logistics         428.888889  \n",
       "9997  E-commerce         532.111111  \n",
       "9998  E-commerce         521.222222  \n",
       "9999  E-commerce         473.888889  \n",
       "\n",
       "[10000 rows x 9 columns]"
      ]
     },
     "execution_count": 2,
     "metadata": {},
     "output_type": "execute_result"
    }
   ],
   "execution_count": 2
  },
  {
   "cell_type": "markdown",
   "metadata": {},
   "source": [
    "## Category aggregator"
   ]
  },
  {
   "cell_type": "code",
   "metadata": {
    "ExecuteTime": {
     "end_time": "2024-06-24T11:53:26.842288Z",
     "start_time": "2024-06-24T11:53:26.798350Z"
    }
   },
   "source": [
    "ca_data = copy.deepcopy(data)\n",
    "ca_data = CategoryAggregator.calc(ca_data, target_cols=[\"signup_month\"], threshold=450, new_group_name=\"99\")\n",
    "ca_data.data\n"
   ],
   "outputs": [
    {
     "data": {
      "text/plain": [
       "      user_id signup_month  treat  pre_spends  post_spends   age gender  \\\n",
       "0           0            0      0       488.0   414.444444   NaN      M   \n",
       "1           1            8      1       512.5   462.222222  26.0    NaN   \n",
       "2           2            7      1       483.0   479.444444  25.0      M   \n",
       "3           3            0      0       501.5   424.333333  39.0      M   \n",
       "4           4           99      1       543.0   514.555556  18.0      F   \n",
       "...       ...          ...    ...         ...          ...   ...    ...   \n",
       "9995     9995           10      1       538.5   450.444444  42.0      M   \n",
       "9996     9996            0      0       500.5   430.888889  26.0      F   \n",
       "9997     9997           99      1       473.0   534.111111  22.0      F   \n",
       "9998     9998            2      1       495.0   523.222222  67.0      F   \n",
       "9999     9999            7      1       508.0   475.888889  38.0      F   \n",
       "\n",
       "        industry  spend_for_candies  \n",
       "0     E-commerce         412.444444  \n",
       "1     E-commerce         460.222222  \n",
       "2      Logistics         477.444444  \n",
       "3     E-commerce         422.333333  \n",
       "4     E-commerce         512.555556  \n",
       "...          ...                ...  \n",
       "9995   Logistics         448.444444  \n",
       "9996   Logistics         428.888889  \n",
       "9997  E-commerce         532.111111  \n",
       "9998  E-commerce         521.222222  \n",
       "9999  E-commerce         473.888889  \n",
       "\n",
       "[10000 rows x 9 columns]"
      ],
      "text/html": [
       "<div>\n",
       "<style scoped>\n",
       "    .dataframe tbody tr th:only-of-type {\n",
       "        vertical-align: middle;\n",
       "    }\n",
       "\n",
       "    .dataframe tbody tr th {\n",
       "        vertical-align: top;\n",
       "    }\n",
       "\n",
       "    .dataframe thead th {\n",
       "        text-align: right;\n",
       "    }\n",
       "</style>\n",
       "<table border=\"1\" class=\"dataframe\">\n",
       "  <thead>\n",
       "    <tr style=\"text-align: right;\">\n",
       "      <th></th>\n",
       "      <th>user_id</th>\n",
       "      <th>signup_month</th>\n",
       "      <th>treat</th>\n",
       "      <th>pre_spends</th>\n",
       "      <th>post_spends</th>\n",
       "      <th>age</th>\n",
       "      <th>gender</th>\n",
       "      <th>industry</th>\n",
       "      <th>spend_for_candies</th>\n",
       "    </tr>\n",
       "  </thead>\n",
       "  <tbody>\n",
       "    <tr>\n",
       "      <th>0</th>\n",
       "      <td>0</td>\n",
       "      <td>0</td>\n",
       "      <td>0</td>\n",
       "      <td>488.0</td>\n",
       "      <td>414.444444</td>\n",
       "      <td>NaN</td>\n",
       "      <td>M</td>\n",
       "      <td>E-commerce</td>\n",
       "      <td>412.444444</td>\n",
       "    </tr>\n",
       "    <tr>\n",
       "      <th>1</th>\n",
       "      <td>1</td>\n",
       "      <td>8</td>\n",
       "      <td>1</td>\n",
       "      <td>512.5</td>\n",
       "      <td>462.222222</td>\n",
       "      <td>26.0</td>\n",
       "      <td>NaN</td>\n",
       "      <td>E-commerce</td>\n",
       "      <td>460.222222</td>\n",
       "    </tr>\n",
       "    <tr>\n",
       "      <th>2</th>\n",
       "      <td>2</td>\n",
       "      <td>7</td>\n",
       "      <td>1</td>\n",
       "      <td>483.0</td>\n",
       "      <td>479.444444</td>\n",
       "      <td>25.0</td>\n",
       "      <td>M</td>\n",
       "      <td>Logistics</td>\n",
       "      <td>477.444444</td>\n",
       "    </tr>\n",
       "    <tr>\n",
       "      <th>3</th>\n",
       "      <td>3</td>\n",
       "      <td>0</td>\n",
       "      <td>0</td>\n",
       "      <td>501.5</td>\n",
       "      <td>424.333333</td>\n",
       "      <td>39.0</td>\n",
       "      <td>M</td>\n",
       "      <td>E-commerce</td>\n",
       "      <td>422.333333</td>\n",
       "    </tr>\n",
       "    <tr>\n",
       "      <th>4</th>\n",
       "      <td>4</td>\n",
       "      <td>99</td>\n",
       "      <td>1</td>\n",
       "      <td>543.0</td>\n",
       "      <td>514.555556</td>\n",
       "      <td>18.0</td>\n",
       "      <td>F</td>\n",
       "      <td>E-commerce</td>\n",
       "      <td>512.555556</td>\n",
       "    </tr>\n",
       "    <tr>\n",
       "      <th>...</th>\n",
       "      <td>...</td>\n",
       "      <td>...</td>\n",
       "      <td>...</td>\n",
       "      <td>...</td>\n",
       "      <td>...</td>\n",
       "      <td>...</td>\n",
       "      <td>...</td>\n",
       "      <td>...</td>\n",
       "      <td>...</td>\n",
       "    </tr>\n",
       "    <tr>\n",
       "      <th>9995</th>\n",
       "      <td>9995</td>\n",
       "      <td>10</td>\n",
       "      <td>1</td>\n",
       "      <td>538.5</td>\n",
       "      <td>450.444444</td>\n",
       "      <td>42.0</td>\n",
       "      <td>M</td>\n",
       "      <td>Logistics</td>\n",
       "      <td>448.444444</td>\n",
       "    </tr>\n",
       "    <tr>\n",
       "      <th>9996</th>\n",
       "      <td>9996</td>\n",
       "      <td>0</td>\n",
       "      <td>0</td>\n",
       "      <td>500.5</td>\n",
       "      <td>430.888889</td>\n",
       "      <td>26.0</td>\n",
       "      <td>F</td>\n",
       "      <td>Logistics</td>\n",
       "      <td>428.888889</td>\n",
       "    </tr>\n",
       "    <tr>\n",
       "      <th>9997</th>\n",
       "      <td>9997</td>\n",
       "      <td>99</td>\n",
       "      <td>1</td>\n",
       "      <td>473.0</td>\n",
       "      <td>534.111111</td>\n",
       "      <td>22.0</td>\n",
       "      <td>F</td>\n",
       "      <td>E-commerce</td>\n",
       "      <td>532.111111</td>\n",
       "    </tr>\n",
       "    <tr>\n",
       "      <th>9998</th>\n",
       "      <td>9998</td>\n",
       "      <td>2</td>\n",
       "      <td>1</td>\n",
       "      <td>495.0</td>\n",
       "      <td>523.222222</td>\n",
       "      <td>67.0</td>\n",
       "      <td>F</td>\n",
       "      <td>E-commerce</td>\n",
       "      <td>521.222222</td>\n",
       "    </tr>\n",
       "    <tr>\n",
       "      <th>9999</th>\n",
       "      <td>9999</td>\n",
       "      <td>7</td>\n",
       "      <td>1</td>\n",
       "      <td>508.0</td>\n",
       "      <td>475.888889</td>\n",
       "      <td>38.0</td>\n",
       "      <td>F</td>\n",
       "      <td>E-commerce</td>\n",
       "      <td>473.888889</td>\n",
       "    </tr>\n",
       "  </tbody>\n",
       "</table>\n",
       "<p>10000 rows × 9 columns</p>\n",
       "</div>"
      ]
     },
     "execution_count": 3,
     "metadata": {},
     "output_type": "execute_result"
    }
   ],
   "execution_count": 3
  },
  {
   "metadata": {},
   "cell_type": "markdown",
   "source": "## Nan filter"
  },
  {
   "metadata": {
    "ExecuteTime": {
     "end_time": "2024-06-24T11:53:26.868858Z",
     "start_time": "2024-06-24T11:53:26.846795Z"
    }
   },
   "cell_type": "code",
   "source": [
    "nan_data = copy.deepcopy(data)\n",
    "nan_data = NanFilter.calc(nan_data, target_cols=[\"age\", \"gender\"], threshold=0.05)\n",
    "nan_data.roles"
   ],
   "outputs": [
    {
     "data": {
      "text/plain": [
       "{'user_id': Info(<class 'int'>),\n",
       " 'signup_month': Feature(<class 'int'>),\n",
       " 'treat': Treatment(<class 'int'>),\n",
       " 'pre_spends': Target(<class 'float'>),\n",
       " 'post_spends': Target(<class 'float'>),\n",
       " 'age': Info(None),\n",
       " 'gender': Info(None),\n",
       " 'industry': Feature(<class 'str'>),\n",
       " 'spend_for_candies': Feature(<class 'float'>)}"
      ]
     },
     "execution_count": 4,
     "metadata": {},
     "output_type": "execute_result"
    }
   ],
   "execution_count": 4
  },
  {
   "metadata": {},
   "cell_type": "markdown",
   "source": "## Outliers filter"
  },
  {
   "metadata": {
    "ExecuteTime": {
     "end_time": "2024-06-24T11:53:26.977268Z",
     "start_time": "2024-06-24T11:53:26.871511Z"
    }
   },
   "cell_type": "code",
   "source": [
    "outliers_data = copy.deepcopy(data)\n",
    "outliers_data = OutliersFilter.calc(outliers_data, target_cols=[\"spend_for_candies\"], lower_percentile=0.05, upper_percentile=0.95)\n",
    "outliers_data.data"
   ],
   "outputs": [
    {
     "data": {
      "text/plain": [
       "      user_id  signup_month  treat  pre_spends  post_spends   age gender  \\\n",
       "0           0             0      0       488.0   414.444444   NaN      M   \n",
       "1           1             8      1       512.5   462.222222  26.0    NaN   \n",
       "2           2             7      1       483.0   479.444444  25.0      M   \n",
       "3           3             0      0       501.5   424.333333  39.0      M   \n",
       "4           4             1      1       543.0   514.555556  18.0      F   \n",
       "...       ...           ...    ...         ...          ...   ...    ...   \n",
       "9993     9993             5      1       462.0   509.888889  65.0      F   \n",
       "9994     9994             0      0       486.0   423.777778  69.0      F   \n",
       "9995     9995            10      1       538.5   450.444444  42.0      M   \n",
       "9996     9996             0      0       500.5   430.888889  26.0      F   \n",
       "9999     9999             7      1       508.0   475.888889  38.0      F   \n",
       "\n",
       "        industry  spend_for_candies  \n",
       "0     E-commerce         412.444444  \n",
       "1     E-commerce         460.222222  \n",
       "2      Logistics         477.444444  \n",
       "3     E-commerce         422.333333  \n",
       "4     E-commerce         512.555556  \n",
       "...          ...                ...  \n",
       "9993  E-commerce         507.888889  \n",
       "9994   Logistics         421.777778  \n",
       "9995   Logistics         448.444444  \n",
       "9996   Logistics         428.888889  \n",
       "9999  E-commerce         473.888889  \n",
       "\n",
       "[9015 rows x 9 columns]"
      ],
      "text/html": [
       "<div>\n",
       "<style scoped>\n",
       "    .dataframe tbody tr th:only-of-type {\n",
       "        vertical-align: middle;\n",
       "    }\n",
       "\n",
       "    .dataframe tbody tr th {\n",
       "        vertical-align: top;\n",
       "    }\n",
       "\n",
       "    .dataframe thead th {\n",
       "        text-align: right;\n",
       "    }\n",
       "</style>\n",
       "<table border=\"1\" class=\"dataframe\">\n",
       "  <thead>\n",
       "    <tr style=\"text-align: right;\">\n",
       "      <th></th>\n",
       "      <th>user_id</th>\n",
       "      <th>signup_month</th>\n",
       "      <th>treat</th>\n",
       "      <th>pre_spends</th>\n",
       "      <th>post_spends</th>\n",
       "      <th>age</th>\n",
       "      <th>gender</th>\n",
       "      <th>industry</th>\n",
       "      <th>spend_for_candies</th>\n",
       "    </tr>\n",
       "  </thead>\n",
       "  <tbody>\n",
       "    <tr>\n",
       "      <th>0</th>\n",
       "      <td>0</td>\n",
       "      <td>0</td>\n",
       "      <td>0</td>\n",
       "      <td>488.0</td>\n",
       "      <td>414.444444</td>\n",
       "      <td>NaN</td>\n",
       "      <td>M</td>\n",
       "      <td>E-commerce</td>\n",
       "      <td>412.444444</td>\n",
       "    </tr>\n",
       "    <tr>\n",
       "      <th>1</th>\n",
       "      <td>1</td>\n",
       "      <td>8</td>\n",
       "      <td>1</td>\n",
       "      <td>512.5</td>\n",
       "      <td>462.222222</td>\n",
       "      <td>26.0</td>\n",
       "      <td>NaN</td>\n",
       "      <td>E-commerce</td>\n",
       "      <td>460.222222</td>\n",
       "    </tr>\n",
       "    <tr>\n",
       "      <th>2</th>\n",
       "      <td>2</td>\n",
       "      <td>7</td>\n",
       "      <td>1</td>\n",
       "      <td>483.0</td>\n",
       "      <td>479.444444</td>\n",
       "      <td>25.0</td>\n",
       "      <td>M</td>\n",
       "      <td>Logistics</td>\n",
       "      <td>477.444444</td>\n",
       "    </tr>\n",
       "    <tr>\n",
       "      <th>3</th>\n",
       "      <td>3</td>\n",
       "      <td>0</td>\n",
       "      <td>0</td>\n",
       "      <td>501.5</td>\n",
       "      <td>424.333333</td>\n",
       "      <td>39.0</td>\n",
       "      <td>M</td>\n",
       "      <td>E-commerce</td>\n",
       "      <td>422.333333</td>\n",
       "    </tr>\n",
       "    <tr>\n",
       "      <th>4</th>\n",
       "      <td>4</td>\n",
       "      <td>1</td>\n",
       "      <td>1</td>\n",
       "      <td>543.0</td>\n",
       "      <td>514.555556</td>\n",
       "      <td>18.0</td>\n",
       "      <td>F</td>\n",
       "      <td>E-commerce</td>\n",
       "      <td>512.555556</td>\n",
       "    </tr>\n",
       "    <tr>\n",
       "      <th>...</th>\n",
       "      <td>...</td>\n",
       "      <td>...</td>\n",
       "      <td>...</td>\n",
       "      <td>...</td>\n",
       "      <td>...</td>\n",
       "      <td>...</td>\n",
       "      <td>...</td>\n",
       "      <td>...</td>\n",
       "      <td>...</td>\n",
       "    </tr>\n",
       "    <tr>\n",
       "      <th>9993</th>\n",
       "      <td>9993</td>\n",
       "      <td>5</td>\n",
       "      <td>1</td>\n",
       "      <td>462.0</td>\n",
       "      <td>509.888889</td>\n",
       "      <td>65.0</td>\n",
       "      <td>F</td>\n",
       "      <td>E-commerce</td>\n",
       "      <td>507.888889</td>\n",
       "    </tr>\n",
       "    <tr>\n",
       "      <th>9994</th>\n",
       "      <td>9994</td>\n",
       "      <td>0</td>\n",
       "      <td>0</td>\n",
       "      <td>486.0</td>\n",
       "      <td>423.777778</td>\n",
       "      <td>69.0</td>\n",
       "      <td>F</td>\n",
       "      <td>Logistics</td>\n",
       "      <td>421.777778</td>\n",
       "    </tr>\n",
       "    <tr>\n",
       "      <th>9995</th>\n",
       "      <td>9995</td>\n",
       "      <td>10</td>\n",
       "      <td>1</td>\n",
       "      <td>538.5</td>\n",
       "      <td>450.444444</td>\n",
       "      <td>42.0</td>\n",
       "      <td>M</td>\n",
       "      <td>Logistics</td>\n",
       "      <td>448.444444</td>\n",
       "    </tr>\n",
       "    <tr>\n",
       "      <th>9996</th>\n",
       "      <td>9996</td>\n",
       "      <td>0</td>\n",
       "      <td>0</td>\n",
       "      <td>500.5</td>\n",
       "      <td>430.888889</td>\n",
       "      <td>26.0</td>\n",
       "      <td>F</td>\n",
       "      <td>Logistics</td>\n",
       "      <td>428.888889</td>\n",
       "    </tr>\n",
       "    <tr>\n",
       "      <th>9999</th>\n",
       "      <td>9999</td>\n",
       "      <td>7</td>\n",
       "      <td>1</td>\n",
       "      <td>508.0</td>\n",
       "      <td>475.888889</td>\n",
       "      <td>38.0</td>\n",
       "      <td>F</td>\n",
       "      <td>E-commerce</td>\n",
       "      <td>473.888889</td>\n",
       "    </tr>\n",
       "  </tbody>\n",
       "</table>\n",
       "<p>9015 rows × 9 columns</p>\n",
       "</div>"
      ]
     },
     "execution_count": 5,
     "metadata": {},
     "output_type": "execute_result"
    }
   ],
   "execution_count": 5
  },
  {
   "metadata": {},
   "cell_type": "markdown",
   "source": "## Correlation filter"
  },
  {
   "metadata": {
    "ExecuteTime": {
     "end_time": "2024-06-24T11:53:26.996358Z",
     "start_time": "2024-06-24T11:53:26.979980Z"
    }
   },
   "cell_type": "code",
   "source": [
    "corr_data = copy.deepcopy(data)\n",
    "corr_data = CorrFilter.calc(corr_data, target_cols=[\"spend_for_candies\", \"age\", \"gender\"], corr_space_cols=[\"pre_spends\", \"post_spends\", \"spend_for_candies\", \"age\", \"gender\"])\n",
    "corr_data.roles"
   ],
   "outputs": [
    {
     "data": {
      "text/plain": [
       "{'user_id': Info(<class 'int'>),\n",
       " 'signup_month': Feature(<class 'int'>),\n",
       " 'treat': Treatment(<class 'int'>),\n",
       " 'pre_spends': Target(<class 'float'>),\n",
       " 'post_spends': Target(<class 'float'>),\n",
       " 'age': Feature(<class 'float'>),\n",
       " 'gender': Feature(<class 'str'>),\n",
       " 'industry': Feature(<class 'str'>),\n",
       " 'spend_for_candies': Info(None)}"
      ]
     },
     "execution_count": 6,
     "metadata": {},
     "output_type": "execute_result"
    }
   ],
   "execution_count": 6
  },
  {
   "metadata": {},
   "cell_type": "markdown",
   "source": "## Constant filter"
  },
  {
   "metadata": {
    "ExecuteTime": {
     "end_time": "2024-06-24T11:53:27.018660Z",
     "start_time": "2024-06-24T11:53:26.999190Z"
    }
   },
   "cell_type": "code",
   "source": [
    "const_data = copy.deepcopy(data)\n",
    "const_data = ConstFilter.calc(const_data, target_cols=[\"gender\"], threshold=0.4)\n",
    "const_data.roles"
   ],
   "outputs": [
    {
     "data": {
      "text/plain": [
       "{'user_id': Info(<class 'int'>),\n",
       " 'signup_month': Feature(<class 'int'>),\n",
       " 'treat': Treatment(<class 'int'>),\n",
       " 'pre_spends': Target(<class 'float'>),\n",
       " 'post_spends': Target(<class 'float'>),\n",
       " 'age': Feature(<class 'float'>),\n",
       " 'gender': Info(None),\n",
       " 'industry': Feature(<class 'str'>),\n",
       " 'spend_for_candies': Feature(<class 'float'>)}"
      ]
     },
     "execution_count": 7,
     "metadata": {},
     "output_type": "execute_result"
    }
   ],
   "execution_count": 7
  },
  {
   "metadata": {},
   "cell_type": "markdown",
   "source": "## CV filter"
  },
  {
   "metadata": {
    "ExecuteTime": {
     "end_time": "2024-06-24T11:53:27.033222Z",
     "start_time": "2024-06-24T11:53:27.021072Z"
    }
   },
   "cell_type": "code",
   "source": [
    "cv_data = copy.deepcopy(data)\n",
    "cv_data = CVFilter.calc(cv_data, target_cols=[\"spend_for_candies\"], upper_bound=0.05)\n",
    "cv_data.roles"
   ],
   "outputs": [
    {
     "data": {
      "text/plain": [
       "{'user_id': Info(<class 'int'>),\n",
       " 'signup_month': Feature(<class 'int'>),\n",
       " 'treat': Treatment(<class 'int'>),\n",
       " 'pre_spends': Target(<class 'float'>),\n",
       " 'post_spends': Target(<class 'float'>),\n",
       " 'age': Feature(<class 'float'>),\n",
       " 'gender': Feature(<class 'str'>),\n",
       " 'industry': Feature(<class 'str'>),\n",
       " 'spend_for_candies': Info(None)}"
      ]
     },
     "execution_count": 8,
     "metadata": {},
     "output_type": "execute_result"
    }
   ],
   "execution_count": 8
  }
 ],
 "metadata": {
  "kernelspec": {
   "display_name": "Python 3",
   "language": "python",
   "name": "python3"
  },
  "language_info": {
   "codemirror_mode": {
    "name": "ipython",
    "version": 3
   },
   "file_extension": ".py",
   "mimetype": "text/x-python",
   "name": "python",
   "nbconvert_exporter": "python",
   "pygments_lexer": "ipython3",
   "version": "3.10.12"
  }
 },
 "nbformat": 4,
 "nbformat_minor": 2
}
