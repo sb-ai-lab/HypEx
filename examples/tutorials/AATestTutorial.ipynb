{
 "cells": [
  {
   "cell_type": "markdown",
   "source": [
    "# AA test tutorial \n",
    "AA test is important part of randomized controlled experiment, for example AB test.\n",
    "\n",
    "The objectives of the AA test are to verify the assumption of uniformity of samples as a result of the applied partitioning method, to select the best partition from the available ones, and to verify the applicability of statistical criteria for checking uniformity.\n",
    "\n",
    "For example, there is a hypothesis about the absence of dependence of features on each other. If this hypothesis is not followed, the AA test will fail. "
   ],
   "metadata": {
    "collapsed": false
   },
   "id": "35b63454542e9139"
  },
  {
   "cell_type": "markdown",
   "source": [
    "<ul>\n",
    "  <li><a href=\"#creation-of-a-new-test-dataset-with-synthetic-data\">Creation of a new test dataset with synthetic data.\n",
    "  <li><a href=\"#one-split-of-aa-test\">One split of AA test.\n",
    "  <li><a href=\"#aa-test\">AA test.\n",
    "  <li><a href=\"#aa-test-with-stratification\">AA test with stratification.\n",
    "</ul>"
   ],
   "metadata": {
    "collapsed": false
   },
   "id": "d55e33194a3247f0"
  },
  {
   "cell_type": "code",
   "id": "f890151fc64fd3fa",
   "metadata": {
    "collapsed": false,
    "ExecuteTime": {
     "end_time": "2024-08-12T11:37:20.760942Z",
     "start_time": "2024-08-12T11:37:19.854139Z"
    }
   },
   "source": [
    "from hypex.dataset import Dataset, InfoRole, TreatmentRole, TargetRole, StratificationRole\n",
    "from hypex.experiments.aa import AATest"
   ],
   "outputs": [],
   "execution_count": 1
  },
  {
   "cell_type": "markdown",
   "source": [
    "## Creation of a new test dataset with synthetic data. \n",
    "\n",
    "It is important to mark the data fields by assigning the appropriate roles:\n",
    "- FeatureRole: a role for columns that contain features or predictor variables. Our split will be based on them. Applied by default if the role is not specified for the column.\n",
    "- TreatmentRole: a role for columns that show the treatment or intervention.\n",
    "- TargetRole: a role for columns that show the target or outcome variable.\n",
    "- InfoRole: a role for columns that contain information about the data, such as user IDs. "
   ],
   "metadata": {
    "collapsed": false
   },
   "id": "bd8ae5c13f2b538e"
  },
  {
   "cell_type": "code",
   "id": "70e663c02efb6980",
   "metadata": {
    "collapsed": false,
    "ExecuteTime": {
     "end_time": "2024-08-12T11:37:20.809086Z",
     "start_time": "2024-08-12T11:37:20.764061Z"
    }
   },
   "source": [
    "data = Dataset(\n",
    "    roles={\n",
    "        \"user_id\": InfoRole(int),\n",
    "        \"treat\": TreatmentRole(int),\n",
    "        \"pre_spends\": TargetRole(),\n",
    "        \"post_spends\": TargetRole(),\n",
    "        \"gender\": StratificationRole(str)\n",
    "    }, data=\"data.csv\",\n",
    ")\n",
    "data"
   ],
   "outputs": [
    {
     "data": {
      "text/plain": [
       "      user_id  signup_month  treat  pre_spends  post_spends   age gender  \\\n",
       "0           0             0      0       488.0   414.444444   NaN      M   \n",
       "1           1             8      1       512.5   462.222222  26.0    NaN   \n",
       "2           2             7      1       483.0   479.444444  25.0      M   \n",
       "3           3             0      0       501.5   424.333333  39.0      M   \n",
       "4           4             1      1       543.0   514.555556  18.0      F   \n",
       "...       ...           ...    ...         ...          ...   ...    ...   \n",
       "9995     9995            10      1       538.5   450.444444  42.0      M   \n",
       "9996     9996             0      0       500.5   430.888889  26.0      F   \n",
       "9997     9997             3      1       473.0   534.111111  22.0      F   \n",
       "9998     9998             2      1       495.0   523.222222  67.0      F   \n",
       "9999     9999             7      1       508.0   475.888889  38.0      F   \n",
       "\n",
       "        industry  \n",
       "0     E-commerce  \n",
       "1     E-commerce  \n",
       "2      Logistics  \n",
       "3     E-commerce  \n",
       "4     E-commerce  \n",
       "...          ...  \n",
       "9995   Logistics  \n",
       "9996   Logistics  \n",
       "9997  E-commerce  \n",
       "9998  E-commerce  \n",
       "9999  E-commerce  \n",
       "\n",
       "[10000 rows x 8 columns]"
      ]
     },
     "execution_count": 2,
     "metadata": {},
     "output_type": "execute_result"
    }
   ],
   "execution_count": 2
  },
  {
   "cell_type": "markdown",
   "source": [
    "## AA test\n",
    "We can set number of iterations for simple execution. In this case random state is number of each iteration."
   ],
   "metadata": {
    "collapsed": false
   },
   "id": "fb03d99c85e1216d"
  },
  {
   "cell_type": "code",
   "id": "initial_id",
   "metadata": {
    "collapsed": true,
    "ExecuteTime": {
     "end_time": "2024-08-12T11:37:28.087635Z",
     "start_time": "2024-08-12T11:37:20.812593Z"
    }
   },
   "source": [
    "aa = AATest(n_iterations=10)\n",
    "res = aa.execute(data)"
   ],
   "outputs": [],
   "execution_count": 3
  },
  {
   "cell_type": "code",
   "id": "41e9963a",
   "metadata": {
    "ExecuteTime": {
     "end_time": "2024-08-12T11:37:28.098089Z",
     "start_time": "2024-08-12T11:37:28.089373Z"
    }
   },
   "source": [
    "res.resume"
   ],
   "outputs": [
    {
     "data": {
      "text/plain": [
       "  TTest aa test KSTest aa test TTest best split KSTest best split  result  \\\n",
       "0            OK             OK           NOT OK            NOT OK  NOT OK   \n",
       "1            OK             OK           NOT OK            NOT OK  NOT OK   \n",
       "\n",
       "       feature          group  \n",
       "0  post_spends  1┆post_spends  \n",
       "1   pre_spends   1┆pre_spends  "
      ]
     },
     "execution_count": 4,
     "metadata": {},
     "output_type": "execute_result"
    }
   ],
   "execution_count": 4
  },
  {
   "cell_type": "code",
   "id": "50ae28a8",
   "metadata": {
    "ExecuteTime": {
     "end_time": "2024-08-12T11:37:28.156617Z",
     "start_time": "2024-08-12T11:37:28.101793Z"
    }
   },
   "source": [
    "res.aa_score"
   ],
   "outputs": [
    {
     "data": {
      "text/plain": [
       "                                  pass  score\n",
       "pre_spends TTest 1┆pre_spends     True   0.95\n",
       "post_spends TTest 1┆post_spends   True   0.95\n",
       "pre_spends KSTest 1┆pre_spends    True   0.95\n",
       "post_spends KSTest 1┆post_spends  True   0.95"
      ]
     },
     "execution_count": 5,
     "metadata": {},
     "output_type": "execute_result"
    }
   ],
   "execution_count": 5
  },
  {
   "cell_type": "code",
   "id": "cc42c534",
   "metadata": {
    "ExecuteTime": {
     "end_time": "2024-08-12T11:37:28.175695Z",
     "start_time": "2024-08-12T11:37:28.160159Z"
    }
   },
   "source": [
    "res.best_split"
   ],
   "outputs": [
    {
     "data": {
      "text/plain": [
       "      user_id  signup_month  treat  pre_spends  post_spends   age gender  \\\n",
       "0           0             0      0       488.0   414.444444   NaN      M   \n",
       "1           1             8      1       512.5   462.222222  26.0    NaN   \n",
       "2           2             7      1       483.0   479.444444  25.0      M   \n",
       "3           3             0      0       501.5   424.333333  39.0      M   \n",
       "4           4             1      1       543.0   514.555556  18.0      F   \n",
       "...       ...           ...    ...         ...          ...   ...    ...   \n",
       "9995     9995            10      1       538.5   450.444444  42.0      M   \n",
       "9996     9996             0      0       500.5   430.888889  26.0      F   \n",
       "9997     9997             3      1       473.0   534.111111  22.0      F   \n",
       "9998     9998             2      1       495.0   523.222222  67.0      F   \n",
       "9999     9999             7      1       508.0   475.888889  38.0      F   \n",
       "\n",
       "        industry    split  \n",
       "0     E-commerce     test  \n",
       "1     E-commerce  control  \n",
       "2      Logistics     test  \n",
       "3     E-commerce     test  \n",
       "4     E-commerce  control  \n",
       "...          ...      ...  \n",
       "9995   Logistics     test  \n",
       "9996   Logistics  control  \n",
       "9997  E-commerce     test  \n",
       "9998  E-commerce     test  \n",
       "9999  E-commerce  control  \n",
       "\n",
       "[10000 rows x 9 columns]"
      ]
     },
     "execution_count": 6,
     "metadata": {},
     "output_type": "execute_result"
    }
   ],
   "execution_count": 6
  },
  {
   "cell_type": "code",
   "id": "18351884",
   "metadata": {
    "ExecuteTime": {
     "end_time": "2024-08-12T11:37:28.191843Z",
     "start_time": "2024-08-12T11:37:28.178402Z"
    }
   },
   "source": [
    "res.best_split_statistic"
   ],
   "outputs": [
    {
     "data": {
      "text/plain": [
       "       feature          group TTest pass  TTest p-value KSTest pass  \\\n",
       "0   pre_spends   1┆pre_spends     NOT OK   2.315047e-30      NOT OK   \n",
       "1  post_spends  1┆post_spends     NOT OK   0.000000e+00      NOT OK   \n",
       "\n",
       "   KSTest p-value  \n",
       "0    1.559150e-13  \n",
       "1    0.000000e+00  "
      ]
     },
     "execution_count": 7,
     "metadata": {},
     "output_type": "execute_result"
    }
   ],
   "execution_count": 7
  },
  {
   "cell_type": "code",
   "id": "0da18405",
   "metadata": {
    "ExecuteTime": {
     "end_time": "2024-08-12T11:37:28.213689Z",
     "start_time": "2024-08-12T11:37:28.194672Z"
    }
   },
   "source": [
    "res.experiments"
   ],
   "outputs": [
    {
     "data": {
      "text/plain": [
       "        splitter_id  pre_spends GroupDifference control mean 1┆pre_spends  \\\n",
       "0  AASplitter┴rs 0┴                                         484.911973      \n",
       "1  AASplitter┴rs 1┴                                         484.911973      \n",
       "2  AASplitter┴rs 2┴                                         484.911973      \n",
       "3  AASplitter┴rs 3┴                                         484.911973      \n",
       "4  AASplitter┴rs 4┴                                         484.911973      \n",
       "5  AASplitter┴rs 5┴                                         484.911973      \n",
       "6  AASplitter┴rs 6┴                                         484.911973      \n",
       "7  AASplitter┴rs 7┴                                         484.911973      \n",
       "8  AASplitter┴rs 8┴                                         484.911973      \n",
       "9  AASplitter┴rs 9┴                                         484.911973      \n",
       "\n",
       "   pre_spends GroupDifference test mean 1┆pre_spends  \\\n",
       "0                                         489.220379   \n",
       "1                                         489.220379   \n",
       "2                                         489.220379   \n",
       "3                                         489.220379   \n",
       "4                                         489.220379   \n",
       "5                                         489.220379   \n",
       "6                                         489.220379   \n",
       "7                                         489.220379   \n",
       "8                                         489.220379   \n",
       "9                                         489.220379   \n",
       "\n",
       "   pre_spends GroupDifference difference 1┆pre_spends  \\\n",
       "0                                           4.308406    \n",
       "1                                           4.308406    \n",
       "2                                           4.308406    \n",
       "3                                           4.308406    \n",
       "4                                           4.308406    \n",
       "5                                           4.308406    \n",
       "6                                           4.308406    \n",
       "7                                           4.308406    \n",
       "8                                           4.308406    \n",
       "9                                           4.308406    \n",
       "\n",
       "   pre_spends GroupDifference difference % 1┆pre_spends  \\\n",
       "0                                           0.888492      \n",
       "1                                           0.888492      \n",
       "2                                           0.888492      \n",
       "3                                           0.888492      \n",
       "4                                           0.888492      \n",
       "5                                           0.888492      \n",
       "6                                           0.888492      \n",
       "7                                           0.888492      \n",
       "8                                           0.888492      \n",
       "9                                           0.888492      \n",
       "\n",
       "   post_spends GroupDifference control mean 1┆post_spends  \\\n",
       "0                                         420.046619        \n",
       "1                                         420.046619        \n",
       "2                                         420.046619        \n",
       "3                                         420.046619        \n",
       "4                                         420.046619        \n",
       "5                                         420.046619        \n",
       "6                                         420.046619        \n",
       "7                                         420.046619        \n",
       "8                                         420.046619        \n",
       "9                                         420.046619        \n",
       "\n",
       "   post_spends GroupDifference test mean 1┆post_spends  \\\n",
       "0                                         483.470664     \n",
       "1                                         483.470664     \n",
       "2                                         483.470664     \n",
       "3                                         483.470664     \n",
       "4                                         483.470664     \n",
       "5                                         483.470664     \n",
       "6                                         483.470664     \n",
       "7                                         483.470664     \n",
       "8                                         483.470664     \n",
       "9                                         483.470664     \n",
       "\n",
       "   post_spends GroupDifference difference 1┆post_spends  \\\n",
       "0                                          63.424045      \n",
       "1                                          63.424045      \n",
       "2                                          63.424045      \n",
       "3                                          63.424045      \n",
       "4                                          63.424045      \n",
       "5                                          63.424045      \n",
       "6                                          63.424045      \n",
       "7                                          63.424045      \n",
       "8                                          63.424045      \n",
       "9                                          63.424045      \n",
       "\n",
       "   post_spends GroupDifference difference % 1┆post_spends  \\\n",
       "0                                          15.099287        \n",
       "1                                          15.099287        \n",
       "2                                          15.099287        \n",
       "3                                          15.099287        \n",
       "4                                          15.099287        \n",
       "5                                          15.099287        \n",
       "6                                          15.099287        \n",
       "7                                          15.099287        \n",
       "8                                          15.099287        \n",
       "9                                          15.099287        \n",
       "\n",
       "   treat GroupSizes control size 1┆treat  ...  \\\n",
       "0                                   4936  ...   \n",
       "1                                   4936  ...   \n",
       "2                                   4936  ...   \n",
       "3                                   4936  ...   \n",
       "4                                   4936  ...   \n",
       "5                                   4936  ...   \n",
       "6                                   4936  ...   \n",
       "7                                   4936  ...   \n",
       "8                                   4936  ...   \n",
       "9                                   4936  ...   \n",
       "\n",
       "   post_spends TTest pass 1┆post_spends  \\\n",
       "0                                  True   \n",
       "1                                  True   \n",
       "2                                  True   \n",
       "3                                  True   \n",
       "4                                  True   \n",
       "5                                  True   \n",
       "6                                  True   \n",
       "7                                  True   \n",
       "8                                  True   \n",
       "9                                  True   \n",
       "\n",
       "   pre_spends KSTest p-value 1┆pre_spends  \\\n",
       "0                            1.559150e-13   \n",
       "1                            1.559150e-13   \n",
       "2                            1.559150e-13   \n",
       "3                            1.559150e-13   \n",
       "4                            1.559150e-13   \n",
       "5                            1.559150e-13   \n",
       "6                            1.559150e-13   \n",
       "7                            1.559150e-13   \n",
       "8                            1.559150e-13   \n",
       "9                            1.559150e-13   \n",
       "\n",
       "   pre_spends KSTest pass 1┆pre_spends  \\\n",
       "0                                 True   \n",
       "1                                 True   \n",
       "2                                 True   \n",
       "3                                 True   \n",
       "4                                 True   \n",
       "5                                 True   \n",
       "6                                 True   \n",
       "7                                 True   \n",
       "8                                 True   \n",
       "9                                 True   \n",
       "\n",
       "   post_spends KSTest p-value 1┆post_spends  \\\n",
       "0                                       0.0   \n",
       "1                                       0.0   \n",
       "2                                       0.0   \n",
       "3                                       0.0   \n",
       "4                                       0.0   \n",
       "5                                       0.0   \n",
       "6                                       0.0   \n",
       "7                                       0.0   \n",
       "8                                       0.0   \n",
       "9                                       0.0   \n",
       "\n",
       "   post_spends KSTest pass 1┆post_spends  mean TTest p-value  mean TTest pass  \\\n",
       "0                                   True        1.157524e-30              1.0   \n",
       "1                                   True        1.157524e-30              1.0   \n",
       "2                                   True        1.157524e-30              1.0   \n",
       "3                                   True        1.157524e-30              1.0   \n",
       "4                                   True        1.157524e-30              1.0   \n",
       "5                                   True        1.157524e-30              1.0   \n",
       "6                                   True        1.157524e-30              1.0   \n",
       "7                                   True        1.157524e-30              1.0   \n",
       "8                                   True        1.157524e-30              1.0   \n",
       "9                                   True        1.157524e-30              1.0   \n",
       "\n",
       "   mean KSTest p-value  mean KSTest pass  mean test score  \n",
       "0         7.795751e-14               1.0     5.197167e-14  \n",
       "1         7.795751e-14               1.0     5.197167e-14  \n",
       "2         7.795751e-14               1.0     5.197167e-14  \n",
       "3         7.795751e-14               1.0     5.197167e-14  \n",
       "4         7.795751e-14               1.0     5.197167e-14  \n",
       "5         7.795751e-14               1.0     5.197167e-14  \n",
       "6         7.795751e-14               1.0     5.197167e-14  \n",
       "7         7.795751e-14               1.0     5.197167e-14  \n",
       "8         7.795751e-14               1.0     5.197167e-14  \n",
       "9         7.795751e-14               1.0     5.197167e-14  \n",
       "\n",
       "[10 rows x 26 columns]"
      ]
     },
     "execution_count": 8,
     "metadata": {},
     "output_type": "execute_result"
    }
   ],
   "execution_count": 8
  },
  {
   "cell_type": "markdown",
   "source": [
    "# AA Test with random states\n",
    "\n",
    "We can set random states for each execution. In this case number of random states equals number of execution. "
   ],
   "metadata": {
    "collapsed": false
   },
   "id": "76c81d6d6570d58f"
  },
  {
   "cell_type": "code",
   "id": "a6038ed8",
   "metadata": {
    "ExecuteTime": {
     "end_time": "2024-08-12T11:37:31.136221Z",
     "start_time": "2024-08-12T11:37:28.215524Z"
    }
   },
   "source": [
    "aa = AATest(random_states=[56, 72, 2, 43])\n",
    "res = aa.execute(data)"
   ],
   "outputs": [],
   "execution_count": 9
  },
  {
   "cell_type": "code",
   "source": [
    "res.resume"
   ],
   "metadata": {
    "collapsed": false,
    "ExecuteTime": {
     "end_time": "2024-08-12T11:37:31.147237Z",
     "start_time": "2024-08-12T11:37:31.137966Z"
    }
   },
   "id": "6bebccfe9b91ae2e",
   "outputs": [
    {
     "data": {
      "text/plain": [
       "  TTest aa test KSTest aa test TTest best split KSTest best split  result  \\\n",
       "0            OK             OK           NOT OK            NOT OK  NOT OK   \n",
       "1            OK             OK           NOT OK            NOT OK  NOT OK   \n",
       "\n",
       "       feature          group  \n",
       "0  post_spends  1┆post_spends  \n",
       "1   pre_spends   1┆pre_spends  "
      ]
     },
     "execution_count": 10,
     "metadata": {},
     "output_type": "execute_result"
    }
   ],
   "execution_count": 10
  },
  {
   "cell_type": "code",
   "source": [
    "res.aa_score"
   ],
   "metadata": {
    "collapsed": false,
    "ExecuteTime": {
     "end_time": "2024-08-12T11:37:31.164039Z",
     "start_time": "2024-08-12T11:37:31.149621Z"
    }
   },
   "id": "2a6d8f9df6978913",
   "outputs": [
    {
     "data": {
      "text/plain": [
       "                                  pass  score\n",
       "pre_spends TTest 1┆pre_spends     True   0.95\n",
       "post_spends TTest 1┆post_spends   True   0.95\n",
       "pre_spends KSTest 1┆pre_spends    True   0.95\n",
       "post_spends KSTest 1┆post_spends  True   0.95"
      ]
     },
     "execution_count": 11,
     "metadata": {},
     "output_type": "execute_result"
    }
   ],
   "execution_count": 11
  },
  {
   "cell_type": "code",
   "source": [
    "res.best_split"
   ],
   "metadata": {
    "collapsed": false,
    "ExecuteTime": {
     "end_time": "2024-08-12T11:37:31.185690Z",
     "start_time": "2024-08-12T11:37:31.166463Z"
    }
   },
   "id": "e318afc40736069d",
   "outputs": [
    {
     "data": {
      "text/plain": [
       "      user_id  signup_month  treat  pre_spends  post_spends   age gender  \\\n",
       "0           0             0      0       488.0   414.444444   NaN      M   \n",
       "1           1             8      1       512.5   462.222222  26.0    NaN   \n",
       "2           2             7      1       483.0   479.444444  25.0      M   \n",
       "3           3             0      0       501.5   424.333333  39.0      M   \n",
       "4           4             1      1       543.0   514.555556  18.0      F   \n",
       "...       ...           ...    ...         ...          ...   ...    ...   \n",
       "9995     9995            10      1       538.5   450.444444  42.0      M   \n",
       "9996     9996             0      0       500.5   430.888889  26.0      F   \n",
       "9997     9997             3      1       473.0   534.111111  22.0      F   \n",
       "9998     9998             2      1       495.0   523.222222  67.0      F   \n",
       "9999     9999             7      1       508.0   475.888889  38.0      F   \n",
       "\n",
       "        industry    split  \n",
       "0     E-commerce  control  \n",
       "1     E-commerce  control  \n",
       "2      Logistics     test  \n",
       "3     E-commerce     test  \n",
       "4     E-commerce  control  \n",
       "...          ...      ...  \n",
       "9995   Logistics  control  \n",
       "9996   Logistics     test  \n",
       "9997  E-commerce  control  \n",
       "9998  E-commerce  control  \n",
       "9999  E-commerce     test  \n",
       "\n",
       "[10000 rows x 9 columns]"
      ]
     },
     "execution_count": 12,
     "metadata": {},
     "output_type": "execute_result"
    }
   ],
   "execution_count": 12
  },
  {
   "cell_type": "code",
   "source": [
    "res.best_split_statistic"
   ],
   "metadata": {
    "collapsed": false,
    "ExecuteTime": {
     "end_time": "2024-08-12T11:37:31.199222Z",
     "start_time": "2024-08-12T11:37:31.188061Z"
    }
   },
   "id": "bd1a332ab687cef",
   "outputs": [
    {
     "data": {
      "text/plain": [
       "       feature          group TTest pass  TTest p-value KSTest pass  \\\n",
       "0   pre_spends   1┆pre_spends     NOT OK   2.315047e-30      NOT OK   \n",
       "1  post_spends  1┆post_spends     NOT OK   0.000000e+00      NOT OK   \n",
       "\n",
       "   KSTest p-value  \n",
       "0    1.559150e-13  \n",
       "1    0.000000e+00  "
      ]
     },
     "execution_count": 13,
     "metadata": {},
     "output_type": "execute_result"
    }
   ],
   "execution_count": 13
  },
  {
   "cell_type": "code",
   "source": [
    "res.experiments"
   ],
   "metadata": {
    "collapsed": false,
    "ExecuteTime": {
     "end_time": "2024-08-12T11:37:31.220952Z",
     "start_time": "2024-08-12T11:37:31.203921Z"
    }
   },
   "id": "96b29db891fa2462",
   "outputs": [
    {
     "data": {
      "text/plain": [
       "         splitter_id  pre_spends GroupDifference control mean 1┆pre_spends  \\\n",
       "0  AASplitter┴rs 56┴                                         484.911973      \n",
       "1  AASplitter┴rs 72┴                                         484.911973      \n",
       "2   AASplitter┴rs 2┴                                         484.911973      \n",
       "3  AASplitter┴rs 43┴                                         484.911973      \n",
       "\n",
       "   pre_spends GroupDifference test mean 1┆pre_spends  \\\n",
       "0                                         489.220379   \n",
       "1                                         489.220379   \n",
       "2                                         489.220379   \n",
       "3                                         489.220379   \n",
       "\n",
       "   pre_spends GroupDifference difference 1┆pre_spends  \\\n",
       "0                                           4.308406    \n",
       "1                                           4.308406    \n",
       "2                                           4.308406    \n",
       "3                                           4.308406    \n",
       "\n",
       "   pre_spends GroupDifference difference % 1┆pre_spends  \\\n",
       "0                                           0.888492      \n",
       "1                                           0.888492      \n",
       "2                                           0.888492      \n",
       "3                                           0.888492      \n",
       "\n",
       "   post_spends GroupDifference control mean 1┆post_spends  \\\n",
       "0                                         420.046619        \n",
       "1                                         420.046619        \n",
       "2                                         420.046619        \n",
       "3                                         420.046619        \n",
       "\n",
       "   post_spends GroupDifference test mean 1┆post_spends  \\\n",
       "0                                         483.470664     \n",
       "1                                         483.470664     \n",
       "2                                         483.470664     \n",
       "3                                         483.470664     \n",
       "\n",
       "   post_spends GroupDifference difference 1┆post_spends  \\\n",
       "0                                          63.424045      \n",
       "1                                          63.424045      \n",
       "2                                          63.424045      \n",
       "3                                          63.424045      \n",
       "\n",
       "   post_spends GroupDifference difference % 1┆post_spends  \\\n",
       "0                                          15.099287        \n",
       "1                                          15.099287        \n",
       "2                                          15.099287        \n",
       "3                                          15.099287        \n",
       "\n",
       "   treat GroupSizes control size 1┆treat  ...  \\\n",
       "0                                   4936  ...   \n",
       "1                                   4936  ...   \n",
       "2                                   4936  ...   \n",
       "3                                   4936  ...   \n",
       "\n",
       "   post_spends TTest pass 1┆post_spends  \\\n",
       "0                                  True   \n",
       "1                                  True   \n",
       "2                                  True   \n",
       "3                                  True   \n",
       "\n",
       "   pre_spends KSTest p-value 1┆pre_spends  \\\n",
       "0                            1.559150e-13   \n",
       "1                            1.559150e-13   \n",
       "2                            1.559150e-13   \n",
       "3                            1.559150e-13   \n",
       "\n",
       "   pre_spends KSTest pass 1┆pre_spends  \\\n",
       "0                                 True   \n",
       "1                                 True   \n",
       "2                                 True   \n",
       "3                                 True   \n",
       "\n",
       "   post_spends KSTest p-value 1┆post_spends  \\\n",
       "0                                       0.0   \n",
       "1                                       0.0   \n",
       "2                                       0.0   \n",
       "3                                       0.0   \n",
       "\n",
       "   post_spends KSTest pass 1┆post_spends  mean TTest p-value  mean TTest pass  \\\n",
       "0                                   True        1.157524e-30              1.0   \n",
       "1                                   True        1.157524e-30              1.0   \n",
       "2                                   True        1.157524e-30              1.0   \n",
       "3                                   True        1.157524e-30              1.0   \n",
       "\n",
       "   mean KSTest p-value  mean KSTest pass  mean test score  \n",
       "0         7.795751e-14               1.0     5.197167e-14  \n",
       "1         7.795751e-14               1.0     5.197167e-14  \n",
       "2         7.795751e-14               1.0     5.197167e-14  \n",
       "3         7.795751e-14               1.0     5.197167e-14  \n",
       "\n",
       "[4 rows x 26 columns]"
      ]
     },
     "execution_count": 14,
     "metadata": {},
     "output_type": "execute_result"
    }
   ],
   "execution_count": 14
  },
  {
   "cell_type": "markdown",
   "source": [
    "# AA Test with stratification\n",
    "\n",
    "Depends on your needs it is possible to stratify data. You can set `stratification=True` and StratificationRole in Dataset to run it.  "
   ],
   "metadata": {
    "collapsed": false
   },
   "id": "1b37db00a1a4a49f"
  },
  {
   "cell_type": "code",
   "source": [
    "aa = AATest(random_states=[56, 72, 2, 43], stratification=True)\n",
    "res = aa.execute(data)"
   ],
   "metadata": {
    "collapsed": false,
    "ExecuteTime": {
     "end_time": "2024-08-12T11:37:34.249681Z",
     "start_time": "2024-08-12T11:37:31.223420Z"
    }
   },
   "id": "da9ab2f374ce1273",
   "outputs": [],
   "execution_count": 15
  },
  {
   "cell_type": "code",
   "source": [
    "res.resume"
   ],
   "metadata": {
    "collapsed": false,
    "ExecuteTime": {
     "end_time": "2024-08-12T11:37:34.259117Z",
     "start_time": "2024-08-12T11:37:34.251196Z"
    }
   },
   "id": "fb5bc9076cb36af9",
   "outputs": [
    {
     "data": {
      "text/plain": [
       "  TTest aa test KSTest aa test TTest best split KSTest best split  result  \\\n",
       "0            OK             OK           NOT OK            NOT OK  NOT OK   \n",
       "1            OK             OK           NOT OK            NOT OK  NOT OK   \n",
       "\n",
       "       feature          group  \n",
       "0  post_spends  1┆post_spends  \n",
       "1   pre_spends   1┆pre_spends  "
      ]
     },
     "execution_count": 16,
     "metadata": {},
     "output_type": "execute_result"
    }
   ],
   "execution_count": 16
  },
  {
   "cell_type": "code",
   "source": [
    "res.aa_score"
   ],
   "metadata": {
    "collapsed": false,
    "ExecuteTime": {
     "end_time": "2024-08-12T11:37:34.276128Z",
     "start_time": "2024-08-12T11:37:34.261031Z"
    }
   },
   "id": "5eca1aebeb06da2",
   "outputs": [
    {
     "data": {
      "text/plain": [
       "                                  pass  score\n",
       "pre_spends TTest 1┆pre_spends     True   0.95\n",
       "post_spends TTest 1┆post_spends   True   0.95\n",
       "pre_spends KSTest 1┆pre_spends    True   0.95\n",
       "post_spends KSTest 1┆post_spends  True   0.95"
      ]
     },
     "execution_count": 17,
     "metadata": {},
     "output_type": "execute_result"
    }
   ],
   "execution_count": 17
  },
  {
   "cell_type": "code",
   "source": [
    "res.best_split"
   ],
   "metadata": {
    "collapsed": false,
    "ExecuteTime": {
     "end_time": "2024-08-12T11:37:34.295908Z",
     "start_time": "2024-08-12T11:37:34.278350Z"
    }
   },
   "id": "4e5730bdf7983f7d",
   "outputs": [
    {
     "data": {
      "text/plain": [
       "      user_id  signup_month  treat  pre_spends  post_spends   age gender  \\\n",
       "0           0             0      0       488.0   414.444444   NaN      M   \n",
       "1           1             8      1       512.5   462.222222  26.0    NaN   \n",
       "2           2             7      1       483.0   479.444444  25.0      M   \n",
       "3           3             0      0       501.5   424.333333  39.0      M   \n",
       "4           4             1      1       543.0   514.555556  18.0      F   \n",
       "...       ...           ...    ...         ...          ...   ...    ...   \n",
       "9995     9995            10      1       538.5   450.444444  42.0      M   \n",
       "9996     9996             0      0       500.5   430.888889  26.0      F   \n",
       "9997     9997             3      1       473.0   534.111111  22.0      F   \n",
       "9998     9998             2      1       495.0   523.222222  67.0      F   \n",
       "9999     9999             7      1       508.0   475.888889  38.0      F   \n",
       "\n",
       "        industry split  \n",
       "0     E-commerce  test  \n",
       "1     E-commerce  test  \n",
       "2      Logistics  test  \n",
       "3     E-commerce  test  \n",
       "4     E-commerce  test  \n",
       "...          ...   ...  \n",
       "9995   Logistics   NaN  \n",
       "9996   Logistics   NaN  \n",
       "9997  E-commerce   NaN  \n",
       "9998  E-commerce   NaN  \n",
       "9999  E-commerce   NaN  \n",
       "\n",
       "[10000 rows x 9 columns]"
      ]
     },
     "execution_count": 18,
     "metadata": {},
     "output_type": "execute_result"
    }
   ],
   "execution_count": 18
  },
  {
   "cell_type": "code",
   "source": [
    "res.best_split_statistic"
   ],
   "metadata": {
    "collapsed": false,
    "ExecuteTime": {
     "end_time": "2024-08-12T11:37:34.318019Z",
     "start_time": "2024-08-12T11:37:34.298598Z"
    }
   },
   "id": "7cdeba119b04476e",
   "outputs": [
    {
     "data": {
      "text/plain": [
       "       feature          group TTest pass  TTest p-value KSTest pass  \\\n",
       "0   pre_spends   1┆pre_spends     NOT OK   2.315047e-30      NOT OK   \n",
       "1  post_spends  1┆post_spends     NOT OK   0.000000e+00      NOT OK   \n",
       "\n",
       "   KSTest p-value  \n",
       "0    1.559150e-13  \n",
       "1    0.000000e+00  "
      ]
     },
     "execution_count": 19,
     "metadata": {},
     "output_type": "execute_result"
    }
   ],
   "execution_count": 19
  },
  {
   "cell_type": "code",
   "source": [
    "res.experiments"
   ],
   "metadata": {
    "collapsed": false,
    "ExecuteTime": {
     "end_time": "2024-08-12T11:37:34.340623Z",
     "start_time": "2024-08-12T11:37:34.321179Z"
    }
   },
   "id": "6a63a08bceb2f40a",
   "outputs": [
    {
     "data": {
      "text/plain": [
       "                           splitter_id  \\\n",
       "0  AASplitterWithStratification┴rs 56┴   \n",
       "1  AASplitterWithStratification┴rs 72┴   \n",
       "2   AASplitterWithStratification┴rs 2┴   \n",
       "3  AASplitterWithStratification┴rs 43┴   \n",
       "\n",
       "   pre_spends GroupDifference control mean 1┆pre_spends  \\\n",
       "0                                         484.911973      \n",
       "1                                         484.911973      \n",
       "2                                         484.911973      \n",
       "3                                         484.911973      \n",
       "\n",
       "   pre_spends GroupDifference test mean 1┆pre_spends  \\\n",
       "0                                         489.220379   \n",
       "1                                         489.220379   \n",
       "2                                         489.220379   \n",
       "3                                         489.220379   \n",
       "\n",
       "   pre_spends GroupDifference difference 1┆pre_spends  \\\n",
       "0                                           4.308406    \n",
       "1                                           4.308406    \n",
       "2                                           4.308406    \n",
       "3                                           4.308406    \n",
       "\n",
       "   pre_spends GroupDifference difference % 1┆pre_spends  \\\n",
       "0                                           0.888492      \n",
       "1                                           0.888492      \n",
       "2                                           0.888492      \n",
       "3                                           0.888492      \n",
       "\n",
       "   post_spends GroupDifference control mean 1┆post_spends  \\\n",
       "0                                         420.046619        \n",
       "1                                         420.046619        \n",
       "2                                         420.046619        \n",
       "3                                         420.046619        \n",
       "\n",
       "   post_spends GroupDifference test mean 1┆post_spends  \\\n",
       "0                                         483.470664     \n",
       "1                                         483.470664     \n",
       "2                                         483.470664     \n",
       "3                                         483.470664     \n",
       "\n",
       "   post_spends GroupDifference difference 1┆post_spends  \\\n",
       "0                                          63.424045      \n",
       "1                                          63.424045      \n",
       "2                                          63.424045      \n",
       "3                                          63.424045      \n",
       "\n",
       "   post_spends GroupDifference difference % 1┆post_spends  \\\n",
       "0                                          15.099287        \n",
       "1                                          15.099287        \n",
       "2                                          15.099287        \n",
       "3                                          15.099287        \n",
       "\n",
       "   treat GroupSizes control size 1┆treat  ...  \\\n",
       "0                                   4936  ...   \n",
       "1                                   4936  ...   \n",
       "2                                   4936  ...   \n",
       "3                                   4936  ...   \n",
       "\n",
       "   post_spends TTest pass 1┆post_spends  \\\n",
       "0                                  True   \n",
       "1                                  True   \n",
       "2                                  True   \n",
       "3                                  True   \n",
       "\n",
       "   pre_spends KSTest p-value 1┆pre_spends  \\\n",
       "0                            1.559150e-13   \n",
       "1                            1.559150e-13   \n",
       "2                            1.559150e-13   \n",
       "3                            1.559150e-13   \n",
       "\n",
       "   pre_spends KSTest pass 1┆pre_spends  \\\n",
       "0                                 True   \n",
       "1                                 True   \n",
       "2                                 True   \n",
       "3                                 True   \n",
       "\n",
       "   post_spends KSTest p-value 1┆post_spends  \\\n",
       "0                                       0.0   \n",
       "1                                       0.0   \n",
       "2                                       0.0   \n",
       "3                                       0.0   \n",
       "\n",
       "   post_spends KSTest pass 1┆post_spends  mean TTest p-value  mean TTest pass  \\\n",
       "0                                   True        1.157524e-30              1.0   \n",
       "1                                   True        1.157524e-30              1.0   \n",
       "2                                   True        1.157524e-30              1.0   \n",
       "3                                   True        1.157524e-30              1.0   \n",
       "\n",
       "   mean KSTest p-value  mean KSTest pass  mean test score  \n",
       "0         7.795751e-14               1.0     5.197167e-14  \n",
       "1         7.795751e-14               1.0     5.197167e-14  \n",
       "2         7.795751e-14               1.0     5.197167e-14  \n",
       "3         7.795751e-14               1.0     5.197167e-14  \n",
       "\n",
       "[4 rows x 26 columns]"
      ]
     },
     "execution_count": 20,
     "metadata": {},
     "output_type": "execute_result"
    }
   ],
   "execution_count": 20
  }
 ],
 "metadata": {
  "kernelspec": {
   "display_name": "Python 3",
   "language": "python",
   "name": "python3"
  },
  "language_info": {
   "codemirror_mode": {
    "name": "ipython",
    "version": 3
   },
   "file_extension": ".py",
   "mimetype": "text/x-python",
   "name": "python",
   "nbconvert_exporter": "python",
   "pygments_lexer": "ipython3",
   "version": "3.10.11"
  }
 },
 "nbformat": 4,
 "nbformat_minor": 5
}
