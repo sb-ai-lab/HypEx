{
 "cells": [
  {
   "cell_type": "markdown",
   "source": [
    "# AA test tutorial \n",
    "AA test is important part of randomized controlled experiment, for example AB test. \n",
    "\n",
    "The objectives of the AA test are to verify the assumption of uniformity of samples as a result of the applied partitioning method, to select the best partition from the available ones, and to verify the applicability of statistical criteria for checking uniformity. \n",
    "\n",
    "For example, there is a hypothesis about the absence of dependence of features on each other. If this hypothesis is not followed, the AA test will fail."
   ],
   "metadata": {
    "collapsed": false
   },
   "id": "35b63454542e9139"
  },
  {
   "cell_type": "markdown",
   "source": [
    "<ul>\n",
    "  <li><a href=\"#creation-of-a-new-test-dataset-with-synthetic-data\">Creation of a new test dataset with synthetic data.\n",
    "  <li><a href=\"#one-split-of-aa-test\">One split of AA test.\n",
    "  <li><a href=\"#aa-test\">AA test.\n",
    "  <li><a href=\"#aa-test-with-stratification\">AA test with stratification.\n",
    "</ul>"
   ],
   "metadata": {
    "collapsed": false
   },
   "id": "d55e33194a3247f0"
  },
  {
   "cell_type": "code",
   "id": "f890151fc64fd3fa",
   "metadata": {
    "collapsed": false,
    "ExecuteTime": {
     "end_time": "2024-08-16T13:24:42.686351Z",
     "start_time": "2024-08-16T13:24:40.825694Z"
    }
   },
   "source": [
    "from hypex.dataset import Dataset, InfoRole, TreatmentRole, TargetRole, StratificationRole\n",
    "from hypex import AATest"
   ],
   "outputs": [],
   "execution_count": 1
  },
  {
   "cell_type": "markdown",
   "source": [
    "## Creation of a new test dataset with synthetic data. \n",
    "\n",
    "In order to be able to work with our data in HypEx, first we need to convert it into `dataset`. It is important to mark the data fields by assigning the appropriate `roles`:\n",
    "- FeatureRole: a role for columns that contain features or predictor variables. Our split will be based on them. Applied by default if the role is not specified for the column.\n",
    "- TreatmentRole: a role for columns that show the treatment or intervention.\n",
    "- TargetRole: a role for columns that show the target or outcome variable.\n",
    "- InfoRole: a role for columns that contain information about the data, such as user IDs. "
   ],
   "metadata": {
    "collapsed": false
   },
   "id": "bd8ae5c13f2b538e"
  },
  {
   "cell_type": "code",
   "id": "70e663c02efb6980",
   "metadata": {
    "collapsed": false,
    "ExecuteTime": {
     "end_time": "2024-08-16T13:24:42.762137Z",
     "start_time": "2024-08-16T13:24:42.688540Z"
    }
   },
   "source": [
    "data = Dataset(\n",
    "    roles={\n",
    "        \"user_id\": InfoRole(int),\n",
    "        \"treat\": TreatmentRole(int),\n",
    "        \"pre_spends\": TargetRole(),\n",
    "        \"post_spends\": TargetRole(),\n",
    "        \"gender\": StratificationRole(str)\n",
    "    }, data=\"data.csv\",\n",
    ")\n",
    "data"
   ],
   "outputs": [
    {
     "data": {
      "text/plain": [
       "      user_id  signup_month  treat  pre_spends  post_spends   age gender  \\\n",
       "0           0             0      0       488.0   414.444444   NaN      M   \n",
       "1           1             8      1       512.5   462.222222  26.0    NaN   \n",
       "2           2             7      1       483.0   479.444444  25.0      M   \n",
       "3           3             0      0       501.5   424.333333  39.0      M   \n",
       "4           4             1      1       543.0   514.555556  18.0      F   \n",
       "...       ...           ...    ...         ...          ...   ...    ...   \n",
       "9995     9995            10      1       538.5   450.444444  42.0      M   \n",
       "9996     9996             0      0       500.5   430.888889  26.0      F   \n",
       "9997     9997             3      1       473.0   534.111111  22.0      F   \n",
       "9998     9998             2      1       495.0   523.222222  67.0      F   \n",
       "9999     9999             7      1       508.0   475.888889  38.0      F   \n",
       "\n",
       "        industry  \n",
       "0     E-commerce  \n",
       "1     E-commerce  \n",
       "2      Logistics  \n",
       "3     E-commerce  \n",
       "4     E-commerce  \n",
       "...          ...  \n",
       "9995   Logistics  \n",
       "9996   Logistics  \n",
       "9997  E-commerce  \n",
       "9998  E-commerce  \n",
       "9999  E-commerce  \n",
       "\n",
       "[10000 rows x 8 columns]"
      ]
     },
     "execution_count": 2,
     "metadata": {},
     "output_type": "execute_result"
    }
   ],
   "execution_count": 2
  },
  {
   "cell_type": "markdown",
   "source": [
    "## AA test\n",
    "Then we run the experiment on our prepared dataset, wrapped into ExperimentData. In this case we select one of the pre-assembled pipeline, AA_TEST.\n",
    "We can set the number of iterations for simple execution. In this case the random states are the numbers of each iteration."
   ],
   "metadata": {
    "collapsed": false
   },
   "id": "fb03d99c85e1216d"
  },
  {
   "cell_type": "code",
   "id": "initial_id",
   "metadata": {
    "collapsed": true,
    "ExecuteTime": {
     "end_time": "2024-08-16T13:24:45.723559Z",
     "start_time": "2024-08-16T13:24:42.768650Z"
    }
   },
   "source": [
    "aa = AATest(n_iterations=10)\n",
    "res = aa.execute(data)"
   ],
   "outputs": [],
   "execution_count": 3
  },
  {
   "cell_type": "code",
   "id": "41e9963a",
   "metadata": {
    "ExecuteTime": {
     "end_time": "2024-08-16T13:24:45.734236Z",
     "start_time": "2024-08-16T13:24:45.725979Z"
    }
   },
   "source": [
    "res.resume"
   ],
   "outputs": [
    {
     "data": {
      "text/plain": [
       "  TTest aa test KSTest aa test TTest best split KSTest best split  result  \\\n",
       "0        NOT OK         NOT OK               OK                OK  NOT OK   \n",
       "1        NOT OK         NOT OK               OK                OK  NOT OK   \n",
       "\n",
       "       feature    group  \n",
       "0  post_spends  control  \n",
       "1   pre_spends  control  "
      ]
     },
     "execution_count": 4,
     "metadata": {},
     "output_type": "execute_result"
    }
   ],
   "execution_count": 4
  },
  {
   "cell_type": "code",
   "id": "50ae28a8",
   "metadata": {
    "ExecuteTime": {
     "end_time": "2024-08-16T13:24:45.760507Z",
     "start_time": "2024-08-16T13:24:45.736572Z"
    }
   },
   "source": [
    "res.aa_score"
   ],
   "outputs": [
    {
     "data": {
      "text/plain": [
       "                             pass     score\n",
       "pre_spends TTest control    False  0.653814\n",
       "post_spends TTest control   False  0.664092\n",
       "pre_spends KSTest control   False  0.639293\n",
       "post_spends KSTest control  False  0.637995"
      ]
     },
     "execution_count": 5,
     "metadata": {},
     "output_type": "execute_result"
    }
   ],
   "execution_count": 5
  },
  {
   "cell_type": "code",
   "id": "cc42c534",
   "metadata": {
    "ExecuteTime": {
     "end_time": "2024-08-16T13:24:45.786007Z",
     "start_time": "2024-08-16T13:24:45.762532Z"
    }
   },
   "source": [
    "res.best_split"
   ],
   "outputs": [
    {
     "data": {
      "text/plain": [
       "      user_id  signup_month  treat  pre_spends  post_spends   age gender  \\\n",
       "0           0             0      0       488.0   414.444444   NaN      M   \n",
       "1           1             8      1       512.5   462.222222  26.0    NaN   \n",
       "2           2             7      1       483.0   479.444444  25.0      M   \n",
       "3           3             0      0       501.5   424.333333  39.0      M   \n",
       "4           4             1      1       543.0   514.555556  18.0      F   \n",
       "...       ...           ...    ...         ...          ...   ...    ...   \n",
       "9995     9995            10      1       538.5   450.444444  42.0      M   \n",
       "9996     9996             0      0       500.5   430.888889  26.0      F   \n",
       "9997     9997             3      1       473.0   534.111111  22.0      F   \n",
       "9998     9998             2      1       495.0   523.222222  67.0      F   \n",
       "9999     9999             7      1       508.0   475.888889  38.0      F   \n",
       "\n",
       "        industry    split  \n",
       "0     E-commerce  control  \n",
       "1     E-commerce     test  \n",
       "2      Logistics     test  \n",
       "3     E-commerce  control  \n",
       "4     E-commerce  control  \n",
       "...          ...      ...  \n",
       "9995   Logistics  control  \n",
       "9996   Logistics  control  \n",
       "9997  E-commerce     test  \n",
       "9998  E-commerce     test  \n",
       "9999  E-commerce  control  \n",
       "\n",
       "[10000 rows x 9 columns]"
      ]
     },
     "execution_count": 6,
     "metadata": {},
     "output_type": "execute_result"
    }
   ],
   "execution_count": 6
  },
  {
   "cell_type": "code",
   "id": "18351884",
   "metadata": {
    "ExecuteTime": {
     "end_time": "2024-08-16T13:24:45.824904Z",
     "start_time": "2024-08-16T13:24:45.788269Z"
    }
   },
   "source": [
    "res.best_split_statistic"
   ],
   "outputs": [
    {
     "data": {
      "text/plain": [
       "       feature    group TTest pass  TTest p-value KSTest pass  KSTest p-value\n",
       "0   pre_spends  control         OK       0.645746          OK        0.932542\n",
       "1  post_spends  control         OK       0.357727          OK        0.577046"
      ]
     },
     "execution_count": 7,
     "metadata": {},
     "output_type": "execute_result"
    }
   ],
   "execution_count": 7
  },
  {
   "cell_type": "code",
   "id": "0da18405",
   "metadata": {
    "ExecuteTime": {
     "end_time": "2024-08-16T13:24:45.862552Z",
     "start_time": "2024-08-16T13:24:45.828135Z"
    }
   },
   "source": [
    "res.experiments"
   ],
   "outputs": [
    {
     "data": {
      "text/plain": [
       "        splitter_id  pre_spends GroupDifference control mean control  \\\n",
       "0  AASplitter┴rs 0┴                                         487.3801   \n",
       "1  AASplitter┴rs 1┴                                         487.3333   \n",
       "2  AASplitter┴rs 2┴                                         487.0445   \n",
       "3  AASplitter┴rs 3┴                                         486.6742   \n",
       "4  AASplitter┴rs 4┴                                         487.1970   \n",
       "5  AASplitter┴rs 5┴                                         486.8953   \n",
       "6  AASplitter┴rs 6┴                                         487.3100   \n",
       "7  AASplitter┴rs 7┴                                         487.1805   \n",
       "8  AASplitter┴rs 8┴                                         487.3882   \n",
       "9  AASplitter┴rs 9┴                                         487.0735   \n",
       "\n",
       "   pre_spends GroupDifference test mean control  \\\n",
       "0                                      486.8074   \n",
       "1                                      486.8542   \n",
       "2                                      487.1430   \n",
       "3                                      487.5133   \n",
       "4                                      486.9905   \n",
       "5                                      487.2922   \n",
       "6                                      486.8775   \n",
       "7                                      487.0070   \n",
       "8                                      486.7993   \n",
       "9                                      487.1140   \n",
       "\n",
       "   pre_spends GroupDifference difference control  \\\n",
       "0                                        -0.5727   \n",
       "1                                        -0.4791   \n",
       "2                                         0.0985   \n",
       "3                                         0.8391   \n",
       "4                                        -0.2065   \n",
       "5                                         0.3969   \n",
       "6                                        -0.4325   \n",
       "7                                        -0.1735   \n",
       "8                                        -0.5889   \n",
       "9                                         0.0405   \n",
       "\n",
       "   pre_spends GroupDifference difference % control  \\\n",
       "0                                        -0.117506   \n",
       "1                                        -0.098311   \n",
       "2                                         0.020224   \n",
       "3                                         0.172415   \n",
       "4                                        -0.042385   \n",
       "5                                         0.081516   \n",
       "6                                        -0.088753   \n",
       "7                                        -0.035613   \n",
       "8                                        -0.120828   \n",
       "9                                         0.008315   \n",
       "\n",
       "   post_spends GroupDifference control mean control  \\\n",
       "0                                        452.604911   \n",
       "1                                        452.177711   \n",
       "2                                        452.824200   \n",
       "3                                        451.250333   \n",
       "4                                        452.412622   \n",
       "5                                        452.642222   \n",
       "6                                        452.701422   \n",
       "7                                        451.802133   \n",
       "8                                        452.404267   \n",
       "9                                        452.001600   \n",
       "\n",
       "   post_spends GroupDifference test mean control  \\\n",
       "0                                     451.724200   \n",
       "1                                     452.151400   \n",
       "2                                     451.504911   \n",
       "3                                     453.078778   \n",
       "4                                     451.916489   \n",
       "5                                     451.686889   \n",
       "6                                     451.627689   \n",
       "7                                     452.526978   \n",
       "8                                     451.924844   \n",
       "9                                     452.327511   \n",
       "\n",
       "   post_spends GroupDifference difference control  \\\n",
       "0                                       -0.880711   \n",
       "1                                       -0.026311   \n",
       "2                                       -1.319289   \n",
       "3                                        1.828444   \n",
       "4                                       -0.496133   \n",
       "5                                       -0.955333   \n",
       "6                                       -1.073733   \n",
       "7                                        0.724844   \n",
       "8                                       -0.479422   \n",
       "9                                        0.325911   \n",
       "\n",
       "   post_spends GroupDifference difference % control  \\\n",
       "0                                         -0.194587   \n",
       "1                                         -0.005819   \n",
       "2                                         -0.291347   \n",
       "3                                          0.405195   \n",
       "4                                         -0.109664   \n",
       "5                                         -0.211057   \n",
       "6                                         -0.237184   \n",
       "7                                          0.160434   \n",
       "8                                         -0.105972   \n",
       "9                                          0.072104   \n",
       "\n",
       "   treat GroupSizes control size control  ...  \\\n",
       "0                                 5000.0  ...   \n",
       "1                                    NaN  ...   \n",
       "2                                    NaN  ...   \n",
       "3                                    NaN  ...   \n",
       "4                                    NaN  ...   \n",
       "5                                    NaN  ...   \n",
       "6                                    NaN  ...   \n",
       "7                                    NaN  ...   \n",
       "8                                    NaN  ...   \n",
       "9                                    NaN  ...   \n",
       "\n",
       "   post_spends KSTest pass control  mean TTest p-value  mean TTest pass  \\\n",
       "0                            False            0.196474              0.0   \n",
       "1                            False            0.588834              0.0   \n",
       "2                            False            0.444120              0.0   \n",
       "3                            False            0.023258              1.0   \n",
       "4                            False            0.556661              0.0   \n",
       "5                            False            0.259216              0.0   \n",
       "6                            False            0.212447              0.0   \n",
       "7                            False            0.501737              0.0   \n",
       "8                            False            0.330834              0.0   \n",
       "9                            False            0.796888              0.0   \n",
       "\n",
       "   mean KSTest p-value  mean KSTest pass  mean test score  \\\n",
       "0             0.252129               0.5         0.233577   \n",
       "1             0.490752               0.0         0.523446   \n",
       "2             0.452796               0.0         0.449904   \n",
       "3             0.130645               0.0         0.094849   \n",
       "4             0.362782               0.0         0.427409   \n",
       "5             0.399740               0.0         0.352899   \n",
       "6             0.349031               0.0         0.303503   \n",
       "7             0.754794               0.0         0.670441   \n",
       "8             0.392027               0.5         0.371629   \n",
       "9             0.528860               0.0         0.618203   \n",
       "\n",
       "   post_spends GroupSizes control size control  \\\n",
       "0                                          NaN   \n",
       "1                                       5000.0   \n",
       "2                                       5000.0   \n",
       "3                                       5000.0   \n",
       "4                                       5000.0   \n",
       "5                                       5000.0   \n",
       "6                                       5000.0   \n",
       "7                                       5000.0   \n",
       "8                                       5000.0   \n",
       "9                                       5000.0   \n",
       "\n",
       "   post_spends GroupSizes test size control  \\\n",
       "0                                       NaN   \n",
       "1                                    5000.0   \n",
       "2                                    5000.0   \n",
       "3                                    5000.0   \n",
       "4                                    5000.0   \n",
       "5                                    5000.0   \n",
       "6                                    5000.0   \n",
       "7                                    5000.0   \n",
       "8                                    5000.0   \n",
       "9                                    5000.0   \n",
       "\n",
       "   post_spends GroupSizes control size % control  \\\n",
       "0                                            NaN   \n",
       "1                                           50.0   \n",
       "2                                           50.0   \n",
       "3                                           50.0   \n",
       "4                                           50.0   \n",
       "5                                           50.0   \n",
       "6                                           50.0   \n",
       "7                                           50.0   \n",
       "8                                           50.0   \n",
       "9                                           50.0   \n",
       "\n",
       "   post_spends GroupSizes test size % control  \n",
       "0                                         NaN  \n",
       "1                                        50.0  \n",
       "2                                        50.0  \n",
       "3                                        50.0  \n",
       "4                                        50.0  \n",
       "5                                        50.0  \n",
       "6                                        50.0  \n",
       "7                                        50.0  \n",
       "8                                        50.0  \n",
       "9                                        50.0  \n",
       "\n",
       "[10 rows x 30 columns]"
      ]
     },
     "execution_count": 8,
     "metadata": {},
     "output_type": "execute_result"
    }
   ],
   "execution_count": 8
  },
  {
   "cell_type": "markdown",
   "source": [
    "# AA Test with random states\n",
    "\n",
    "We can also adjust some of the preset parameters of the experiment by assigning them to the respective params of the experiment. I.e. here we set the range of the random states we want to run our AA test for. "
   ],
   "metadata": {
    "collapsed": false
   },
   "id": "76c81d6d6570d58f"
  },
  {
   "cell_type": "code",
   "id": "a6038ed8",
   "metadata": {
    "ExecuteTime": {
     "end_time": "2024-08-16T13:24:47.284535Z",
     "start_time": "2024-08-16T13:24:45.865253Z"
    }
   },
   "source": [
    "aa = AATest(random_states=[56, 72, 2, 43])\n",
    "res = aa.execute(data)"
   ],
   "outputs": [],
   "execution_count": 9
  },
  {
   "cell_type": "code",
   "source": [
    "res.resume"
   ],
   "metadata": {
    "collapsed": false,
    "ExecuteTime": {
     "end_time": "2024-08-16T13:24:47.297414Z",
     "start_time": "2024-08-16T13:24:47.287722Z"
    }
   },
   "id": "6bebccfe9b91ae2e",
   "outputs": [
    {
     "data": {
      "text/plain": [
       "  TTest aa test KSTest aa test TTest best split KSTest best split  result  \\\n",
       "0        NOT OK         NOT OK               OK                OK  NOT OK   \n",
       "1        NOT OK         NOT OK               OK                OK  NOT OK   \n",
       "\n",
       "       feature    group  \n",
       "0  post_spends  control  \n",
       "1   pre_spends  control  "
      ]
     },
     "execution_count": 10,
     "metadata": {},
     "output_type": "execute_result"
    }
   ],
   "execution_count": 10
  },
  {
   "cell_type": "code",
   "source": [
    "res.aa_score"
   ],
   "metadata": {
    "collapsed": false,
    "ExecuteTime": {
     "end_time": "2024-08-16T13:24:47.316867Z",
     "start_time": "2024-08-16T13:24:47.299145Z"
    }
   },
   "id": "2a6d8f9df6978913",
   "outputs": [
    {
     "data": {
      "text/plain": [
       "                             pass     score\n",
       "pre_spends TTest control    False  0.652500\n",
       "post_spends TTest control   False  0.645896\n",
       "pre_spends KSTest control   False  0.605599\n",
       "post_spends KSTest control  False  0.533713"
      ]
     },
     "execution_count": 11,
     "metadata": {},
     "output_type": "execute_result"
    }
   ],
   "execution_count": 11
  },
  {
   "cell_type": "code",
   "source": [
    "res.best_split"
   ],
   "metadata": {
    "collapsed": false,
    "ExecuteTime": {
     "end_time": "2024-08-16T13:24:47.354351Z",
     "start_time": "2024-08-16T13:24:47.318672Z"
    }
   },
   "id": "e318afc40736069d",
   "outputs": [
    {
     "data": {
      "text/plain": [
       "      user_id  signup_month  treat  pre_spends  post_spends   age gender  \\\n",
       "0           0             0      0       488.0   414.444444   NaN      M   \n",
       "1           1             8      1       512.5   462.222222  26.0    NaN   \n",
       "2           2             7      1       483.0   479.444444  25.0      M   \n",
       "3           3             0      0       501.5   424.333333  39.0      M   \n",
       "4           4             1      1       543.0   514.555556  18.0      F   \n",
       "...       ...           ...    ...         ...          ...   ...    ...   \n",
       "9995     9995            10      1       538.5   450.444444  42.0      M   \n",
       "9996     9996             0      0       500.5   430.888889  26.0      F   \n",
       "9997     9997             3      1       473.0   534.111111  22.0      F   \n",
       "9998     9998             2      1       495.0   523.222222  67.0      F   \n",
       "9999     9999             7      1       508.0   475.888889  38.0      F   \n",
       "\n",
       "        industry    split  \n",
       "0     E-commerce  control  \n",
       "1     E-commerce     test  \n",
       "2      Logistics  control  \n",
       "3     E-commerce     test  \n",
       "4     E-commerce  control  \n",
       "...          ...      ...  \n",
       "9995   Logistics     test  \n",
       "9996   Logistics  control  \n",
       "9997  E-commerce     test  \n",
       "9998  E-commerce     test  \n",
       "9999  E-commerce  control  \n",
       "\n",
       "[10000 rows x 9 columns]"
      ]
     },
     "execution_count": 12,
     "metadata": {},
     "output_type": "execute_result"
    }
   ],
   "execution_count": 12
  },
  {
   "cell_type": "code",
   "source": [
    "res.best_split_statistic"
   ],
   "metadata": {
    "collapsed": false,
    "ExecuteTime": {
     "end_time": "2024-08-16T13:24:47.372519Z",
     "start_time": "2024-08-16T13:24:47.357433Z"
    }
   },
   "id": "bd1a332ab687cef",
   "outputs": [
    {
     "data": {
      "text/plain": [
       "       feature    group TTest pass  TTest p-value KSTest pass  KSTest p-value\n",
       "0   pre_spends  control         OK       0.519864          OK        0.694583\n",
       "1  post_spends  control         OK       0.998020          OK        0.677788"
      ]
     },
     "execution_count": 13,
     "metadata": {},
     "output_type": "execute_result"
    }
   ],
   "execution_count": 13
  },
  {
   "cell_type": "code",
   "source": [
    "res.experiments"
   ],
   "metadata": {
    "collapsed": false,
    "ExecuteTime": {
     "end_time": "2024-08-16T13:24:47.392277Z",
     "start_time": "2024-08-16T13:24:47.374851Z"
    }
   },
   "id": "96b29db891fa2462",
   "outputs": [
    {
     "data": {
      "text/plain": [
       "         splitter_id  pre_spends GroupDifference control mean control  \\\n",
       "0  AASplitter┴rs 56┴                                         486.7993   \n",
       "1  AASplitter┴rs 72┴                                         486.9723   \n",
       "2   AASplitter┴rs 2┴                                         487.0445   \n",
       "3  AASplitter┴rs 43┴                                         487.3606   \n",
       "\n",
       "   pre_spends GroupDifference test mean control  \\\n",
       "0                                      487.3882   \n",
       "1                                      487.2152   \n",
       "2                                      487.1430   \n",
       "3                                      486.8269   \n",
       "\n",
       "   pre_spends GroupDifference difference control  \\\n",
       "0                                         0.5889   \n",
       "1                                         0.2429   \n",
       "2                                         0.0985   \n",
       "3                                        -0.5337   \n",
       "\n",
       "   pre_spends GroupDifference difference % control  \\\n",
       "0                                         0.120974   \n",
       "1                                         0.049880   \n",
       "2                                         0.020224   \n",
       "3                                        -0.109508   \n",
       "\n",
       "   post_spends GroupDifference control mean control  \\\n",
       "0                                        452.483711   \n",
       "1                                        452.163578   \n",
       "2                                        452.824200   \n",
       "3                                        451.528111   \n",
       "\n",
       "   post_spends GroupDifference test mean control  \\\n",
       "0                                     451.845400   \n",
       "1                                     452.165533   \n",
       "2                                     451.504911   \n",
       "3                                     452.801000   \n",
       "\n",
       "   post_spends GroupDifference difference control  \\\n",
       "0                                       -0.638311   \n",
       "1                                        0.001956   \n",
       "2                                       -1.319289   \n",
       "3                                        1.272889   \n",
       "\n",
       "   post_spends GroupDifference difference % control  \\\n",
       "0                                         -0.141068   \n",
       "1                                          0.000432   \n",
       "2                                         -0.291347   \n",
       "3                                          0.281907   \n",
       "\n",
       "   post_spends GroupSizes control size control  ...  \\\n",
       "0                                         5000  ...   \n",
       "1                                         5000  ...   \n",
       "2                                         5000  ...   \n",
       "3                                         5000  ...   \n",
       "\n",
       "   post_spends TTest pass control  pre_spends KSTest p-value control  \\\n",
       "0                           False                           0.002465   \n",
       "1                           False                           0.694583   \n",
       "2                           False                           0.727866   \n",
       "3                           False                           0.352691   \n",
       "\n",
       "   pre_spends KSTest pass control  post_spends KSTest p-value control  \\\n",
       "0                            True                            0.744274   \n",
       "1                           False                            0.677788   \n",
       "2                           False                            0.177727   \n",
       "3                           False                            0.465358   \n",
       "\n",
       "   post_spends KSTest pass control  mean TTest p-value  mean TTest pass  \\\n",
       "0                            False            0.268336              0.0   \n",
       "1                            False            0.758942              0.0   \n",
       "2                            False            0.444120              0.0   \n",
       "3                            False            0.131809              0.0   \n",
       "\n",
       "   mean KSTest p-value  mean KSTest pass  mean test score  \n",
       "0             0.373370               0.5         0.338359  \n",
       "1             0.686186               0.0         0.710438  \n",
       "2             0.452796               0.0         0.449904  \n",
       "3             0.409024               0.0         0.316619  \n",
       "\n",
       "[4 rows x 26 columns]"
      ]
     },
     "execution_count": 14,
     "metadata": {},
     "output_type": "execute_result"
    }
   ],
   "execution_count": 14
  },
  {
   "cell_type": "markdown",
   "source": [
    "# AA Test with stratification\n",
    "\n",
    "Depending on your requirements it is possible to stratify the data. You can set `stratification=True` and `StratificationRole` in `Dataset` to run it with stratification.  "
   ],
   "metadata": {
    "collapsed": false
   },
   "id": "1b37db00a1a4a49f"
  },
  {
   "cell_type": "code",
   "source": [
    "aa = AATest(random_states=[56, 72, 2, 43], stratification=True)\n",
    "res = aa.execute(data)"
   ],
   "metadata": {
    "collapsed": false,
    "ExecuteTime": {
     "end_time": "2024-08-16T13:24:48.502438Z",
     "start_time": "2024-08-16T13:24:47.394545Z"
    }
   },
   "id": "da9ab2f374ce1273",
   "outputs": [],
   "execution_count": 15
  },
  {
   "cell_type": "code",
   "source": [
    "res.resume"
   ],
   "metadata": {
    "collapsed": false,
    "ExecuteTime": {
     "end_time": "2024-08-16T13:24:48.512744Z",
     "start_time": "2024-08-16T13:24:48.504130Z"
    }
   },
   "id": "fb5bc9076cb36af9",
   "outputs": [
    {
     "data": {
      "text/plain": [
       "  TTest aa test KSTest aa test TTest best split KSTest best split  result  \\\n",
       "0        NOT OK         NOT OK               OK                OK  NOT OK   \n",
       "1        NOT OK         NOT OK               OK                OK  NOT OK   \n",
       "\n",
       "       feature    group  \n",
       "0  post_spends  control  \n",
       "1   pre_spends  control  "
      ]
     },
     "execution_count": 16,
     "metadata": {},
     "output_type": "execute_result"
    }
   ],
   "execution_count": 16
  },
  {
   "cell_type": "code",
   "source": [
    "res.aa_score"
   ],
   "metadata": {
    "collapsed": false,
    "ExecuteTime": {
     "end_time": "2024-08-16T13:24:48.535370Z",
     "start_time": "2024-08-16T13:24:48.514726Z"
    }
   },
   "id": "5eca1aebeb06da2",
   "outputs": [
    {
     "data": {
      "text/plain": [
       "                             pass     score\n",
       "pre_spends TTest control    False  0.388191\n",
       "post_spends TTest control   False  0.774438\n",
       "pre_spends KSTest control   False  0.728226\n",
       "post_spends KSTest control  False  0.660354"
      ]
     },
     "execution_count": 17,
     "metadata": {},
     "output_type": "execute_result"
    }
   ],
   "execution_count": 17
  },
  {
   "cell_type": "code",
   "source": [
    "res.best_split"
   ],
   "metadata": {
    "collapsed": false,
    "ExecuteTime": {
     "end_time": "2024-08-16T13:24:48.577634Z",
     "start_time": "2024-08-16T13:24:48.538241Z"
    }
   },
   "id": "4e5730bdf7983f7d",
   "outputs": [
    {
     "data": {
      "text/plain": [
       "      user_id  signup_month  treat  pre_spends  post_spends   age gender  \\\n",
       "0           0             0      0       488.0   414.444444   NaN      M   \n",
       "1           1             8      1       512.5   462.222222  26.0    NaN   \n",
       "2           2             7      1       483.0   479.444444  25.0      M   \n",
       "3           3             0      0       501.5   424.333333  39.0      M   \n",
       "4           4             1      1       543.0   514.555556  18.0      F   \n",
       "...       ...           ...    ...         ...          ...   ...    ...   \n",
       "9995     9995            10      1       538.5   450.444444  42.0      M   \n",
       "9996     9996             0      0       500.5   430.888889  26.0      F   \n",
       "9997     9997             3      1       473.0   534.111111  22.0      F   \n",
       "9998     9998             2      1       495.0   523.222222  67.0      F   \n",
       "9999     9999             7      1       508.0   475.888889  38.0      F   \n",
       "\n",
       "        industry    split  \n",
       "0     E-commerce  control  \n",
       "1     E-commerce     test  \n",
       "2      Logistics     test  \n",
       "3     E-commerce     test  \n",
       "4     E-commerce  control  \n",
       "...          ...      ...  \n",
       "9995   Logistics      NaN  \n",
       "9996   Logistics      NaN  \n",
       "9997  E-commerce      NaN  \n",
       "9998  E-commerce      NaN  \n",
       "9999  E-commerce      NaN  \n",
       "\n",
       "[10000 rows x 9 columns]"
      ]
     },
     "execution_count": 18,
     "metadata": {},
     "output_type": "execute_result"
    }
   ],
   "execution_count": 18
  },
  {
   "cell_type": "code",
   "source": [
    "res.best_split_statistic"
   ],
   "metadata": {
    "collapsed": false,
    "ExecuteTime": {
     "end_time": "2024-08-16T13:24:48.609817Z",
     "start_time": "2024-08-16T13:24:48.580630Z"
    }
   },
   "id": "7cdeba119b04476e",
   "outputs": [
    {
     "data": {
      "text/plain": [
       "       feature    group TTest pass  TTest p-value KSTest pass  KSTest p-value\n",
       "0   pre_spends  control         OK       0.384576          OK        0.129368\n",
       "1  post_spends  control         OK       0.801273          OK        0.952433"
      ]
     },
     "execution_count": 19,
     "metadata": {},
     "output_type": "execute_result"
    }
   ],
   "execution_count": 19
  },
  {
   "cell_type": "code",
   "source": [
    "res.experiments"
   ],
   "metadata": {
    "collapsed": false,
    "ExecuteTime": {
     "end_time": "2024-08-16T13:24:48.642265Z",
     "start_time": "2024-08-16T13:24:48.612392Z"
    }
   },
   "id": "6a63a08bceb2f40a",
   "outputs": [
    {
     "data": {
      "text/plain": [
       "                           splitter_id  \\\n",
       "0  AASplitterWithStratification┴rs 56┴   \n",
       "1  AASplitterWithStratification┴rs 72┴   \n",
       "2   AASplitterWithStratification┴rs 2┴   \n",
       "3  AASplitterWithStratification┴rs 43┴   \n",
       "\n",
       "   pre_spends GroupDifference control mean control  \\\n",
       "0                                       487.110444   \n",
       "1                                       486.922667   \n",
       "2                                       487.264000   \n",
       "3                                       487.075889   \n",
       "\n",
       "   pre_spends GroupDifference test mean control  \\\n",
       "0                                    487.082000   \n",
       "1                                    487.269778   \n",
       "2                                    486.928444   \n",
       "3                                    487.116556   \n",
       "\n",
       "   pre_spends GroupDifference difference control  \\\n",
       "0                                      -0.028444   \n",
       "1                                       0.347111   \n",
       "2                                      -0.335556   \n",
       "3                                       0.040667   \n",
       "\n",
       "   pre_spends GroupDifference difference % control  \\\n",
       "0                                        -0.005839   \n",
       "1                                         0.071287   \n",
       "2                                        -0.068865   \n",
       "3                                         0.008349   \n",
       "\n",
       "   post_spends GroupDifference control mean control  \\\n",
       "0                                        452.648938   \n",
       "1                                        452.245679   \n",
       "2                                        451.372173   \n",
       "3                                        451.141432   \n",
       "\n",
       "   post_spends GroupDifference test mean control  \\\n",
       "0                                     451.633506   \n",
       "1                                     452.036765   \n",
       "2                                     452.910272   \n",
       "3                                     453.141012   \n",
       "\n",
       "   post_spends GroupDifference difference control  \\\n",
       "0                                       -1.015432   \n",
       "1                                       -0.208914   \n",
       "2                                        1.538099   \n",
       "3                                        1.999580   \n",
       "\n",
       "   post_spends GroupDifference difference % control  \\\n",
       "0                                         -0.224331   \n",
       "1                                         -0.046195   \n",
       "2                                          0.340761   \n",
       "3                                          0.443227   \n",
       "\n",
       "   post_spends GroupSizes control size control  ...  \\\n",
       "0                                         4500  ...   \n",
       "1                                         4500  ...   \n",
       "2                                         4500  ...   \n",
       "3                                         4500  ...   \n",
       "\n",
       "   post_spends TTest pass control  pre_spends KSTest p-value control  \\\n",
       "0                           False                           0.612183   \n",
       "1                           False                           0.129368   \n",
       "2                           False                           0.085963   \n",
       "3                            True                           0.459584   \n",
       "\n",
       "   pre_spends KSTest pass control  post_spends KSTest p-value control  \\\n",
       "0                           False                            0.491962   \n",
       "1                           False                            0.952433   \n",
       "2                           False                            0.008355   \n",
       "3                           False                            0.105834   \n",
       "\n",
       "   post_spends KSTest pass control  mean TTest p-value  mean TTest pass  \\\n",
       "0                            False            0.582179              0.0   \n",
       "1                            False            0.592924              0.0   \n",
       "2                             True            0.232221              0.0   \n",
       "3                            False            0.467419              0.5   \n",
       "\n",
       "   mean KSTest p-value  mean KSTest pass  mean test score  \n",
       "0             0.552072               0.0         0.562108  \n",
       "1             0.540900               0.0         0.558241  \n",
       "2             0.047159               0.5         0.108846  \n",
       "3             0.282709               0.0         0.344279  \n",
       "\n",
       "[4 rows x 26 columns]"
      ]
     },
     "execution_count": 20,
     "metadata": {},
     "output_type": "execute_result"
    }
   ],
   "execution_count": 20
  }
 ],
 "metadata": {
  "kernelspec": {
   "display_name": "Python 3",
   "language": "python",
   "name": "python3"
  },
  "language_info": {
   "codemirror_mode": {
    "name": "ipython",
    "version": 3
   },
   "file_extension": ".py",
   "mimetype": "text/x-python",
   "name": "python",
   "nbconvert_exporter": "python",
   "pygments_lexer": "ipython3",
   "version": "3.10.11"
  }
 },
 "nbformat": 4,
 "nbformat_minor": 5
}
