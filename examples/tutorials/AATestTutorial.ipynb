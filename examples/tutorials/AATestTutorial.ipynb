{
 "cells": [
  {
   "cell_type": "markdown",
   "source": [
    "# AA test tutorial \n",
    "AA test is important part of randomized controlled experiment, for example AB test.\n",
    "\n",
    "The objectives of the AA test are to verify the assumption of uniformity of samples as a result of the applied partitioning method, to select the best partition from the available ones, and to verify the applicability of statistical criteria for checking uniformity.\n",
    "\n",
    "For example, there is a hypothesis about the absence of dependence of features on each other. If this hypothesis is not followed, the AA test will fail. "
   ],
   "metadata": {
    "collapsed": false
   },
   "id": "35b63454542e9139"
  },
  {
   "cell_type": "markdown",
   "source": [
    "<ul>\n",
    "  <li><a href=\"#creation-of-a-new-test-dataset-with-synthetic-data\">Creation of a new test dataset with synthetic data.\n",
    "  <li><a href=\"#one-split-of-aa-test\">One split of AA test.\n",
    "  <li><a href=\"#aa-test\">AA test.\n",
    "  <li><a href=\"#aa-test-with-stratification\">AA test with stratification.\n",
    "</ul>"
   ],
   "metadata": {
    "collapsed": false
   },
   "id": "d55e33194a3247f0"
  },
  {
   "cell_type": "code",
   "id": "f890151fc64fd3fa",
   "metadata": {
    "collapsed": false,
    "ExecuteTime": {
     "end_time": "2024-08-08T12:57:31.511233Z",
     "start_time": "2024-08-08T12:57:30.761863Z"
    }
   },
   "source": [
    "from hypex.dataset import Dataset, InfoRole, TreatmentRole, TargetRole, StratificationRole\n",
    "from hypex.experiments.aa import AATest"
   ],
   "outputs": [],
   "execution_count": 1
  },
  {
   "cell_type": "markdown",
   "source": [
    "## Creation of a new test dataset with synthetic data. \n",
    "\n",
    "It is important to mark the data fields by assigning the appropriate roles:\n",
    "- FeatureRole: a role for columns that contain features or predictor variables. Our split will be based on them. Applied by default if the role is not specified for the column.\n",
    "- TreatmentRole: a role for columns that show the treatment or intervention.\n",
    "- TargetRole: a role for columns that show the target or outcome variable.\n",
    "- InfoRole: a role for columns that contain information about the data, such as user IDs. "
   ],
   "metadata": {
    "collapsed": false
   },
   "id": "bd8ae5c13f2b538e"
  },
  {
   "cell_type": "code",
   "id": "70e663c02efb6980",
   "metadata": {
    "collapsed": false,
    "ExecuteTime": {
     "end_time": "2024-08-08T12:57:31.588207Z",
     "start_time": "2024-08-08T12:57:31.513087Z"
    }
   },
   "source": [
    "data = Dataset(\n",
    "    roles={\n",
    "        \"user_id\": InfoRole(int),\n",
    "        \"treat\": TreatmentRole(int),\n",
    "        \"pre_spends\": TargetRole(),\n",
    "        \"post_spends\": TargetRole(),\n",
    "        \"gender\": StratificationRole(str)\n",
    "    }, data=\"data.csv\",\n",
    ")\n",
    "data"
   ],
   "outputs": [
    {
     "data": {
      "text/plain": [
       "      user_id  signup_month  treat  pre_spends  post_spends   age gender  \\\n",
       "0           0             0      0       488.0   414.444444   NaN      M   \n",
       "1           1             8      1       512.5   462.222222  26.0    NaN   \n",
       "2           2             7      1       483.0   479.444444  25.0      M   \n",
       "3           3             0      0       501.5   424.333333  39.0      M   \n",
       "4           4             1      1       543.0   514.555556  18.0      F   \n",
       "...       ...           ...    ...         ...          ...   ...    ...   \n",
       "9995     9995            10      1       538.5   450.444444  42.0      M   \n",
       "9996     9996             0      0       500.5   430.888889  26.0      F   \n",
       "9997     9997             3      1       473.0   534.111111  22.0      F   \n",
       "9998     9998             2      1       495.0   523.222222  67.0      F   \n",
       "9999     9999             7      1       508.0   475.888889  38.0      F   \n",
       "\n",
       "        industry  \n",
       "0     E-commerce  \n",
       "1     E-commerce  \n",
       "2      Logistics  \n",
       "3     E-commerce  \n",
       "4     E-commerce  \n",
       "...          ...  \n",
       "9995   Logistics  \n",
       "9996   Logistics  \n",
       "9997  E-commerce  \n",
       "9998  E-commerce  \n",
       "9999  E-commerce  \n",
       "\n",
       "[10000 rows x 8 columns]"
      ]
     },
     "execution_count": 2,
     "metadata": {},
     "output_type": "execute_result"
    }
   ],
   "execution_count": 2
  },
  {
   "cell_type": "markdown",
   "source": [
    "## AA test\n",
    "We can set number of iterations for simple execution. In this case random state is number of each iteration."
   ],
   "metadata": {
    "collapsed": false
   },
   "id": "fb03d99c85e1216d"
  },
  {
   "cell_type": "code",
   "id": "initial_id",
   "metadata": {
    "collapsed": true,
    "ExecuteTime": {
     "end_time": "2024-08-08T12:57:38.687171Z",
     "start_time": "2024-08-08T12:57:31.590263Z"
    }
   },
   "source": [
    "aa = AATest(n_iterations=10)\n",
    "res = aa.execute(data)"
   ],
   "outputs": [
    {
     "ename": "ValueError",
     "evalue": "Cannot cast object dtype to int64: Error while type casting for column 'TTest'",
     "output_type": "error",
     "traceback": [
      "\u001B[0;31m---------------------------------------------------------------------------\u001B[0m",
      "\u001B[0;31mValueError\u001B[0m                                Traceback (most recent call last)",
      "File \u001B[0;32m~/.local/lib/python3.10/site-packages/pandas/core/arrays/categorical.py:564\u001B[0m, in \u001B[0;36mCategorical.astype\u001B[0;34m(self, dtype, copy)\u001B[0m\n\u001B[1;32m    563\u001B[0m \u001B[38;5;28;01mtry\u001B[39;00m:\n\u001B[0;32m--> 564\u001B[0m     new_cats \u001B[38;5;241m=\u001B[39m \u001B[43mnew_cats\u001B[49m\u001B[38;5;241;43m.\u001B[39;49m\u001B[43mastype\u001B[49m\u001B[43m(\u001B[49m\u001B[43mdtype\u001B[49m\u001B[38;5;241;43m=\u001B[39;49m\u001B[43mdtype\u001B[49m\u001B[43m,\u001B[49m\u001B[43m \u001B[49m\u001B[43mcopy\u001B[49m\u001B[38;5;241;43m=\u001B[39;49m\u001B[43mcopy\u001B[49m\u001B[43m)\u001B[49m\n\u001B[1;32m    565\u001B[0m     fill_value \u001B[38;5;241m=\u001B[39m \u001B[38;5;28mself\u001B[39m\u001B[38;5;241m.\u001B[39mcategories\u001B[38;5;241m.\u001B[39m_na_value\n",
      "\u001B[0;31mValueError\u001B[0m: invalid literal for int() with base 10: 'NOT OK'",
      "\nDuring handling of the above exception, another exception occurred:\n",
      "\u001B[0;31mValueError\u001B[0m                                Traceback (most recent call last)",
      "Cell \u001B[0;32mIn[3], line 2\u001B[0m\n\u001B[1;32m      1\u001B[0m aa \u001B[38;5;241m=\u001B[39m AATest(n_iterations\u001B[38;5;241m=\u001B[39m\u001B[38;5;241m10\u001B[39m)\n\u001B[0;32m----> 2\u001B[0m res \u001B[38;5;241m=\u001B[39m \u001B[43maa\u001B[49m\u001B[38;5;241;43m.\u001B[39;49m\u001B[43mexecute\u001B[49m\u001B[43m(\u001B[49m\u001B[43mdata\u001B[49m\u001B[43m)\u001B[49m\n",
      "File \u001B[0;32m~/job/HypEx/hypex/ui/base.py:63\u001B[0m, in \u001B[0;36mExperimentShell.execute\u001B[0;34m(self, data)\u001B[0m\n\u001B[1;32m     61\u001B[0m     data \u001B[38;5;241m=\u001B[39m ExperimentData(data)\n\u001B[1;32m     62\u001B[0m result_experiment_data \u001B[38;5;241m=\u001B[39m \u001B[38;5;28mself\u001B[39m\u001B[38;5;241m.\u001B[39m_experiment\u001B[38;5;241m.\u001B[39mexecute(data)\n\u001B[0;32m---> 63\u001B[0m \u001B[38;5;28;43mself\u001B[39;49m\u001B[38;5;241;43m.\u001B[39;49m\u001B[43m_out\u001B[49m\u001B[38;5;241;43m.\u001B[39;49m\u001B[43mextract\u001B[49m\u001B[43m(\u001B[49m\u001B[43mresult_experiment_data\u001B[49m\u001B[43m)\u001B[49m\n\u001B[1;32m     64\u001B[0m \u001B[38;5;28;01mreturn\u001B[39;00m \u001B[38;5;28mself\u001B[39m\u001B[38;5;241m.\u001B[39m_out\n",
      "File \u001B[0;32m~/job/HypEx/hypex/ui/aa.py:51\u001B[0m, in \u001B[0;36mAAOutput.extract\u001B[0;34m(self, experiment_data)\u001B[0m\n\u001B[1;32m     50\u001B[0m \u001B[38;5;28;01mdef\u001B[39;00m \u001B[38;5;21mextract\u001B[39m(\u001B[38;5;28mself\u001B[39m, experiment_data: ExperimentData):\n\u001B[0;32m---> 51\u001B[0m     \u001B[38;5;28;43msuper\u001B[39;49m\u001B[43m(\u001B[49m\u001B[43m)\u001B[49m\u001B[38;5;241;43m.\u001B[39;49m\u001B[43mextract\u001B[49m\u001B[43m(\u001B[49m\u001B[43mexperiment_data\u001B[49m\u001B[43m)\u001B[49m\n\u001B[1;32m     52\u001B[0m     \u001B[38;5;28mself\u001B[39m\u001B[38;5;241m.\u001B[39m_extract_experiments(experiment_data)\n\u001B[1;32m     53\u001B[0m     \u001B[38;5;28mself\u001B[39m\u001B[38;5;241m.\u001B[39m_extract_aa_score(experiment_data)\n",
      "File \u001B[0;32m~/job/HypEx/hypex/ui/base.py:40\u001B[0m, in \u001B[0;36mOutput.extract\u001B[0;34m(self, experiment_data)\u001B[0m\n\u001B[1;32m     39\u001B[0m \u001B[38;5;28;01mdef\u001B[39;00m \u001B[38;5;21mextract\u001B[39m(\u001B[38;5;28mself\u001B[39m, experiment_data: ExperimentData):\n\u001B[0;32m---> 40\u001B[0m     \u001B[38;5;28;43mself\u001B[39;49m\u001B[38;5;241;43m.\u001B[39;49m\u001B[43m_extract_by_reporters\u001B[49m\u001B[43m(\u001B[49m\u001B[43mexperiment_data\u001B[49m\u001B[43m)\u001B[49m\n",
      "File \u001B[0;32m~/job/HypEx/hypex/ui/base.py:22\u001B[0m, in \u001B[0;36mOutput._extract_by_reporters\u001B[0;34m(self, experiment_data)\u001B[0m\n\u001B[1;32m     21\u001B[0m \u001B[38;5;28;01mdef\u001B[39;00m \u001B[38;5;21m_extract_by_reporters\u001B[39m(\u001B[38;5;28mself\u001B[39m, experiment_data: ExperimentData):\n\u001B[0;32m---> 22\u001B[0m     \u001B[38;5;28mself\u001B[39m\u001B[38;5;241m.\u001B[39mresume \u001B[38;5;241m=\u001B[39m \u001B[38;5;28;43mself\u001B[39;49m\u001B[38;5;241;43m.\u001B[39;49m\u001B[43mresume_reporter\u001B[49m\u001B[38;5;241;43m.\u001B[39;49m\u001B[43mreport\u001B[49m\u001B[43m(\u001B[49m\u001B[43mexperiment_data\u001B[49m\u001B[43m)\u001B[49m\n\u001B[1;32m     23\u001B[0m     \u001B[38;5;28;01mfor\u001B[39;00m attribute, reporter \u001B[38;5;129;01min\u001B[39;00m \u001B[38;5;28mself\u001B[39m\u001B[38;5;241m.\u001B[39madditional_reporters\u001B[38;5;241m.\u001B[39mitems():\n\u001B[1;32m     24\u001B[0m         \u001B[38;5;28msetattr\u001B[39m(\u001B[38;5;28mself\u001B[39m, attribute, reporter\u001B[38;5;241m.\u001B[39mreport(experiment_data))\n",
      "File \u001B[0;32m~/job/HypEx/hypex/reporters/aa.py:205\u001B[0m, in \u001B[0;36mAAPassedReporter.report\u001B[0;34m(self, data)\u001B[0m\n\u001B[1;32m    196\u001B[0m analyser_ids \u001B[38;5;241m=\u001B[39m data\u001B[38;5;241m.\u001B[39mget_ids(\n\u001B[1;32m    197\u001B[0m     \u001B[38;5;124m\"\u001B[39m\u001B[38;5;124mAAScoreAnalyzer\u001B[39m\u001B[38;5;124m\"\u001B[39m, ExperimentDataEnum\u001B[38;5;241m.\u001B[39manalysis_tables\n\u001B[1;32m    198\u001B[0m )\n\u001B[1;32m    199\u001B[0m analyser_tables \u001B[38;5;241m=\u001B[39m {\n\u001B[1;32m    200\u001B[0m     id_[id_\u001B[38;5;241m.\u001B[39mrfind(ID_SPLIT_SYMBOL) \u001B[38;5;241m+\u001B[39m \u001B[38;5;241m1\u001B[39m :]: data\u001B[38;5;241m.\u001B[39manalysis_tables[id_]\n\u001B[1;32m    201\u001B[0m     \u001B[38;5;28;01mfor\u001B[39;00m id_ \u001B[38;5;129;01min\u001B[39;00m analyser_ids[\u001B[38;5;124m\"\u001B[39m\u001B[38;5;124mAAScoreAnalyzer\u001B[39m\u001B[38;5;124m\"\u001B[39m][\n\u001B[1;32m    202\u001B[0m         ExperimentDataEnum\u001B[38;5;241m.\u001B[39manalysis_tables\u001B[38;5;241m.\u001B[39mvalue\n\u001B[1;32m    203\u001B[0m     ]\n\u001B[1;32m    204\u001B[0m }\n\u001B[0;32m--> 205\u001B[0m \u001B[38;5;28;01mreturn\u001B[39;00m \u001B[38;5;28;43mself\u001B[39;49m\u001B[38;5;241;43m.\u001B[39;49m\u001B[43m_detect_pass\u001B[49m\u001B[43m(\u001B[49m\u001B[43manalyser_tables\u001B[49m\u001B[43m)\u001B[49m\n",
      "File \u001B[0;32m~/job/HypEx/hypex/reporters/aa.py:171\u001B[0m, in \u001B[0;36mAAPassedReporter._detect_pass\u001B[0;34m(self, analyzer_tables)\u001B[0m\n\u001B[1;32m    169\u001B[0m \u001B[38;5;28;01mdef\u001B[39;00m \u001B[38;5;21m_detect_pass\u001B[39m(\u001B[38;5;28mself\u001B[39m, analyzer_tables: Dict[\u001B[38;5;28mstr\u001B[39m, Dataset]):\n\u001B[1;32m    170\u001B[0m     score_table \u001B[38;5;241m=\u001B[39m \u001B[38;5;28mself\u001B[39m\u001B[38;5;241m.\u001B[39m_reformat_aa_score_table(analyzer_tables[\u001B[38;5;124m\"\u001B[39m\u001B[38;5;124maa score\u001B[39m\u001B[38;5;124m\"\u001B[39m])\n\u001B[0;32m--> 171\u001B[0m     best_split_table \u001B[38;5;241m=\u001B[39m \u001B[38;5;28;43mself\u001B[39;49m\u001B[38;5;241;43m.\u001B[39;49m\u001B[43m_reformat_best_split_table\u001B[49m\u001B[43m(\u001B[49m\n\u001B[1;32m    172\u001B[0m \u001B[43m        \u001B[49m\u001B[43manalyzer_tables\u001B[49m\u001B[43m[\u001B[49m\u001B[38;5;124;43m\"\u001B[39;49m\u001B[38;5;124;43mbest split statistics\u001B[39;49m\u001B[38;5;124;43m\"\u001B[39;49m\u001B[43m]\u001B[49m\n\u001B[1;32m    173\u001B[0m \u001B[43m    \u001B[49m\u001B[43m)\u001B[49m\n\u001B[1;32m    174\u001B[0m     resume_table \u001B[38;5;241m=\u001B[39m score_table \u001B[38;5;241m*\u001B[39m best_split_table\n\u001B[1;32m    175\u001B[0m     resume_table \u001B[38;5;241m=\u001B[39m resume_table\u001B[38;5;241m.\u001B[39mapply(\n\u001B[1;32m    176\u001B[0m         \u001B[38;5;28;01mlambda\u001B[39;00m x: \u001B[38;5;124m\"\u001B[39m\u001B[38;5;124mOK\u001B[39m\u001B[38;5;124m\"\u001B[39m \u001B[38;5;28;01mif\u001B[39;00m x\u001B[38;5;241m.\u001B[39msum() \u001B[38;5;241m>\u001B[39m \u001B[38;5;241m0\u001B[39m \u001B[38;5;28;01melse\u001B[39;00m \u001B[38;5;124m\"\u001B[39m\u001B[38;5;124mNOT OK\u001B[39m\u001B[38;5;124m\"\u001B[39m,\n\u001B[1;32m    177\u001B[0m         axis\u001B[38;5;241m=\u001B[39m\u001B[38;5;241m1\u001B[39m,\n\u001B[1;32m    178\u001B[0m         role\u001B[38;5;241m=\u001B[39m{\u001B[38;5;124m\"\u001B[39m\u001B[38;5;124mresult\u001B[39m\u001B[38;5;124m\"\u001B[39m: StatisticRole()},\n\u001B[1;32m    179\u001B[0m     )\n",
      "File \u001B[0;32m~/job/HypEx/hypex/reporters/aa.py:166\u001B[0m, in \u001B[0;36mAAPassedReporter._reformat_best_split_table\u001B[0;34m(table)\u001B[0m\n\u001B[1;32m    162\u001B[0m passed \u001B[38;5;241m=\u001B[39m passed\u001B[38;5;241m.\u001B[39mrename(\n\u001B[1;32m    163\u001B[0m     names\u001B[38;5;241m=\u001B[39m{c: c[: c\u001B[38;5;241m.\u001B[39mrfind(\u001B[38;5;124m\"\u001B[39m\u001B[38;5;124mpass\u001B[39m\u001B[38;5;124m\"\u001B[39m) \u001B[38;5;241m-\u001B[39m \u001B[38;5;241m1\u001B[39m] \u001B[38;5;28;01mfor\u001B[39;00m c \u001B[38;5;129;01min\u001B[39;00m passed\u001B[38;5;241m.\u001B[39mcolumns}\n\u001B[1;32m    164\u001B[0m )\n\u001B[1;32m    165\u001B[0m passed\u001B[38;5;241m.\u001B[39mroles \u001B[38;5;241m=\u001B[39m {c: r\u001B[38;5;241m.\u001B[39m\u001B[38;5;18m__class__\u001B[39m(\u001B[38;5;28mint\u001B[39m) \u001B[38;5;28;01mfor\u001B[39;00m c, r \u001B[38;5;129;01min\u001B[39;00m passed\u001B[38;5;241m.\u001B[39mroles\u001B[38;5;241m.\u001B[39mitems()}\n\u001B[0;32m--> 166\u001B[0m passed \u001B[38;5;241m=\u001B[39m \u001B[43mpassed\u001B[49m\u001B[38;5;241;43m.\u001B[39;49m\u001B[43mreplace\u001B[49m\u001B[43m(\u001B[49m\u001B[38;5;124;43m\"\u001B[39;49m\u001B[38;5;124;43mOK\u001B[39;49m\u001B[38;5;124;43m\"\u001B[39;49m\u001B[43m,\u001B[49m\u001B[43m \u001B[49m\u001B[38;5;241;43m1\u001B[39;49m\u001B[43m)\u001B[49m\u001B[38;5;241m.\u001B[39mreplace(\u001B[38;5;124m\"\u001B[39m\u001B[38;5;124mNOT OK\u001B[39m\u001B[38;5;124m\"\u001B[39m, \u001B[38;5;241m0\u001B[39m)\n\u001B[1;32m    167\u001B[0m \u001B[38;5;28;01mreturn\u001B[39;00m passed\n",
      "File \u001B[0;32m~/job/HypEx/hypex/dataset/dataset.py:580\u001B[0m, in \u001B[0;36mDataset.replace\u001B[0;34m(self, to_replace, value, regex)\u001B[0m\n\u001B[1;32m    574\u001B[0m \u001B[38;5;28;01mdef\u001B[39;00m \u001B[38;5;21mreplace\u001B[39m(\n\u001B[1;32m    575\u001B[0m     \u001B[38;5;28mself\u001B[39m,\n\u001B[1;32m    576\u001B[0m     to_replace: Any \u001B[38;5;241m=\u001B[39m \u001B[38;5;28;01mNone\u001B[39;00m,\n\u001B[1;32m    577\u001B[0m     value: Any \u001B[38;5;241m=\u001B[39m \u001B[38;5;28;01mNone\u001B[39;00m,\n\u001B[1;32m    578\u001B[0m     regex: \u001B[38;5;28mbool\u001B[39m \u001B[38;5;241m=\u001B[39m \u001B[38;5;28;01mFalse\u001B[39;00m,\n\u001B[1;32m    579\u001B[0m ) \u001B[38;5;241m-\u001B[39m\u001B[38;5;241m>\u001B[39m \u001B[38;5;124m\"\u001B[39m\u001B[38;5;124mDataset\u001B[39m\u001B[38;5;124m\"\u001B[39m:\n\u001B[0;32m--> 580\u001B[0m     \u001B[38;5;28;01mreturn\u001B[39;00m \u001B[43mDataset\u001B[49m\u001B[43m(\u001B[49m\n\u001B[1;32m    581\u001B[0m \u001B[43m        \u001B[49m\u001B[38;5;28;43mself\u001B[39;49m\u001B[38;5;241;43m.\u001B[39;49m\u001B[43mroles\u001B[49m\u001B[43m,\u001B[49m\n\u001B[1;32m    582\u001B[0m \u001B[43m        \u001B[49m\u001B[43mdata\u001B[49m\u001B[38;5;241;43m=\u001B[39;49m\u001B[38;5;28;43mself\u001B[39;49m\u001B[38;5;241;43m.\u001B[39;49m\u001B[43m_backend\u001B[49m\u001B[38;5;241;43m.\u001B[39;49m\u001B[43mreplace\u001B[49m\u001B[43m(\u001B[49m\u001B[43mto_replace\u001B[49m\u001B[38;5;241;43m=\u001B[39;49m\u001B[43mto_replace\u001B[49m\u001B[43m,\u001B[49m\u001B[43m \u001B[49m\u001B[43mvalue\u001B[49m\u001B[38;5;241;43m=\u001B[39;49m\u001B[43mvalue\u001B[49m\u001B[43m,\u001B[49m\u001B[43m \u001B[49m\u001B[43mregex\u001B[49m\u001B[38;5;241;43m=\u001B[39;49m\u001B[43mregex\u001B[49m\u001B[43m)\u001B[49m\u001B[43m,\u001B[49m\n\u001B[1;32m    583\u001B[0m \u001B[43m    \u001B[49m\u001B[43m)\u001B[49m\n",
      "File \u001B[0;32m~/job/HypEx/hypex/dataset/dataset.py:77\u001B[0m, in \u001B[0;36mDataset.__init__\u001B[0;34m(self, roles, data, backend)\u001B[0m\n\u001B[1;32m     68\u001B[0m \u001B[38;5;28;01mdef\u001B[39;00m \u001B[38;5;21m__init__\u001B[39m(\n\u001B[1;32m     69\u001B[0m     \u001B[38;5;28mself\u001B[39m,\n\u001B[1;32m     70\u001B[0m     roles: Union[\n\u001B[0;32m   (...)\u001B[0m\n\u001B[1;32m     75\u001B[0m     backend: Optional[BackendsEnum] \u001B[38;5;241m=\u001B[39m \u001B[38;5;28;01mNone\u001B[39;00m,\n\u001B[1;32m     76\u001B[0m ):\n\u001B[0;32m---> 77\u001B[0m     \u001B[38;5;28;43msuper\u001B[39;49m\u001B[43m(\u001B[49m\u001B[43m)\u001B[49m\u001B[38;5;241;43m.\u001B[39;49m\u001B[38;5;21;43m__init__\u001B[39;49m\u001B[43m(\u001B[49m\u001B[43mroles\u001B[49m\u001B[43m,\u001B[49m\u001B[43m \u001B[49m\u001B[43mdata\u001B[49m\u001B[43m,\u001B[49m\u001B[43m \u001B[49m\u001B[43mbackend\u001B[49m\u001B[43m)\u001B[49m\n\u001B[1;32m     78\u001B[0m     \u001B[38;5;28mself\u001B[39m\u001B[38;5;241m.\u001B[39mloc \u001B[38;5;241m=\u001B[39m \u001B[38;5;28mself\u001B[39m\u001B[38;5;241m.\u001B[39mLocker(\u001B[38;5;28mself\u001B[39m\u001B[38;5;241m.\u001B[39m_backend, \u001B[38;5;28mself\u001B[39m\u001B[38;5;241m.\u001B[39mroles)\n\u001B[1;32m     79\u001B[0m     \u001B[38;5;28mself\u001B[39m\u001B[38;5;241m.\u001B[39miloc \u001B[38;5;241m=\u001B[39m \u001B[38;5;28mself\u001B[39m\u001B[38;5;241m.\u001B[39mILocker(\u001B[38;5;28mself\u001B[39m\u001B[38;5;241m.\u001B[39m_backend, \u001B[38;5;28mself\u001B[39m\u001B[38;5;241m.\u001B[39mroles)\n",
      "File \u001B[0;32m~/job/HypEx/hypex/dataset/abstract.py:90\u001B[0m, in \u001B[0;36mDatasetBase.__init__\u001B[0;34m(self, roles, data, backend)\u001B[0m\n\u001B[1;32m     88\u001B[0m \u001B[38;5;28;01mif\u001B[39;00m data \u001B[38;5;129;01mis\u001B[39;00m \u001B[38;5;129;01mnot\u001B[39;00m \u001B[38;5;28;01mNone\u001B[39;00m:\n\u001B[1;32m     89\u001B[0m     roles \u001B[38;5;241m=\u001B[39m \u001B[38;5;28mself\u001B[39m\u001B[38;5;241m.\u001B[39m_set_all_roles(roles)\n\u001B[0;32m---> 90\u001B[0m     \u001B[38;5;28;43mself\u001B[39;49m\u001B[38;5;241;43m.\u001B[39;49m\u001B[43m_set_empty_types\u001B[49m\u001B[43m(\u001B[49m\u001B[43mroles\u001B[49m\u001B[43m)\u001B[49m\n\u001B[1;32m     91\u001B[0m \u001B[38;5;28mself\u001B[39m\u001B[38;5;241m.\u001B[39mroles: Dict[Union[\u001B[38;5;28mstr\u001B[39m, \u001B[38;5;28mint\u001B[39m], ABCRole] \u001B[38;5;241m=\u001B[39m roles\n\u001B[1;32m     92\u001B[0m \u001B[38;5;28mself\u001B[39m\u001B[38;5;241m.\u001B[39m_tmp_roles: Union[\n\u001B[1;32m     93\u001B[0m     Union[Dict[ABCRole, Union[List[\u001B[38;5;28mstr\u001B[39m], \u001B[38;5;28mstr\u001B[39m]], Dict[\u001B[38;5;28mstr\u001B[39m, ABCRole]]\n\u001B[1;32m     94\u001B[0m ] \u001B[38;5;241m=\u001B[39m {}\n",
      "File \u001B[0;32m~/job/HypEx/hypex/dataset/abstract.py:61\u001B[0m, in \u001B[0;36mDatasetBase._set_empty_types\u001B[0;34m(self, roles)\u001B[0m\n\u001B[1;32m     58\u001B[0m     d_type \u001B[38;5;241m=\u001B[39m \u001B[38;5;28mself\u001B[39m\u001B[38;5;241m.\u001B[39mbackend\u001B[38;5;241m.\u001B[39mget_column_type(column)\n\u001B[1;32m     60\u001B[0m     role\u001B[38;5;241m.\u001B[39mdata_type \u001B[38;5;241m=\u001B[39m [v \u001B[38;5;28;01mfor\u001B[39;00m k, v \u001B[38;5;129;01min\u001B[39;00m types_map\u001B[38;5;241m.\u001B[39mitems() \u001B[38;5;28;01mif\u001B[39;00m k \u001B[38;5;129;01min\u001B[39;00m d_type][\u001B[38;5;241m0\u001B[39m]\n\u001B[0;32m---> 61\u001B[0m \u001B[38;5;28mself\u001B[39m\u001B[38;5;241m.\u001B[39m_backend \u001B[38;5;241m=\u001B[39m \u001B[38;5;28;43mself\u001B[39;49m\u001B[38;5;241;43m.\u001B[39;49m\u001B[43mbackend\u001B[49m\u001B[38;5;241;43m.\u001B[39;49m\u001B[43mupdate_column_type\u001B[49m\u001B[43m(\u001B[49m\n\u001B[1;32m     62\u001B[0m \u001B[43m    \u001B[49m\u001B[43mcolumn\u001B[49m\u001B[43m,\u001B[49m\u001B[43m \u001B[49m\u001B[43mreversed_map\u001B[49m\u001B[43m[\u001B[49m\u001B[43mrole\u001B[49m\u001B[38;5;241;43m.\u001B[39;49m\u001B[43mdata_type\u001B[49m\u001B[43m]\u001B[49m\n\u001B[1;32m     63\u001B[0m \u001B[43m\u001B[49m\u001B[43m)\u001B[49m\n",
      "File \u001B[0;32m~/job/HypEx/hypex/dataset/backends/pandas_backend.py:196\u001B[0m, in \u001B[0;36mPandasNavigation.update_column_type\u001B[0;34m(self, column_name, type_name)\u001B[0m\n\u001B[1;32m    194\u001B[0m \u001B[38;5;28;01mdef\u001B[39;00m \u001B[38;5;21mupdate_column_type\u001B[39m(\u001B[38;5;28mself\u001B[39m, column_name: \u001B[38;5;28mstr\u001B[39m, type_name: \u001B[38;5;28mstr\u001B[39m):\n\u001B[1;32m    195\u001B[0m     \u001B[38;5;28;01mif\u001B[39;00m \u001B[38;5;28mself\u001B[39m\u001B[38;5;241m.\u001B[39mdata[column_name]\u001B[38;5;241m.\u001B[39misna()\u001B[38;5;241m.\u001B[39msum() \u001B[38;5;241m==\u001B[39m \u001B[38;5;241m0\u001B[39m:\n\u001B[0;32m--> 196\u001B[0m         \u001B[38;5;28mself\u001B[39m\u001B[38;5;241m.\u001B[39mdata \u001B[38;5;241m=\u001B[39m \u001B[38;5;28;43mself\u001B[39;49m\u001B[38;5;241;43m.\u001B[39;49m\u001B[43mdata\u001B[49m\u001B[38;5;241;43m.\u001B[39;49m\u001B[43mastype\u001B[49m\u001B[43m(\u001B[49m\u001B[43m{\u001B[49m\u001B[43mcolumn_name\u001B[49m\u001B[43m:\u001B[49m\u001B[43m \u001B[49m\u001B[43mtype_name\u001B[49m\u001B[43m}\u001B[49m\u001B[43m)\u001B[49m\n\u001B[1;32m    197\u001B[0m     \u001B[38;5;28;01mreturn\u001B[39;00m \u001B[38;5;28mself\u001B[39m\n",
      "File \u001B[0;32m~/.local/lib/python3.10/site-packages/pandas/core/generic.py:6513\u001B[0m, in \u001B[0;36mNDFrame.astype\u001B[0;34m(self, dtype, copy, errors)\u001B[0m\n\u001B[1;32m   6511\u001B[0m \u001B[38;5;28;01melse\u001B[39;00m:\n\u001B[1;32m   6512\u001B[0m     \u001B[38;5;28;01mtry\u001B[39;00m:\n\u001B[0;32m-> 6513\u001B[0m         res_col \u001B[38;5;241m=\u001B[39m \u001B[43mcol\u001B[49m\u001B[38;5;241;43m.\u001B[39;49m\u001B[43mastype\u001B[49m\u001B[43m(\u001B[49m\u001B[43mdtype\u001B[49m\u001B[38;5;241;43m=\u001B[39;49m\u001B[43mcdt\u001B[49m\u001B[43m,\u001B[49m\u001B[43m \u001B[49m\u001B[43mcopy\u001B[49m\u001B[38;5;241;43m=\u001B[39;49m\u001B[43mcopy\u001B[49m\u001B[43m,\u001B[49m\u001B[43m \u001B[49m\u001B[43merrors\u001B[49m\u001B[38;5;241;43m=\u001B[39;49m\u001B[43merrors\u001B[49m\u001B[43m)\u001B[49m\n\u001B[1;32m   6514\u001B[0m     \u001B[38;5;28;01mexcept\u001B[39;00m \u001B[38;5;167;01mValueError\u001B[39;00m \u001B[38;5;28;01mas\u001B[39;00m ex:\n\u001B[1;32m   6515\u001B[0m         ex\u001B[38;5;241m.\u001B[39margs \u001B[38;5;241m=\u001B[39m (\n\u001B[1;32m   6516\u001B[0m             \u001B[38;5;124mf\u001B[39m\u001B[38;5;124m\"\u001B[39m\u001B[38;5;132;01m{\u001B[39;00mex\u001B[38;5;132;01m}\u001B[39;00m\u001B[38;5;124m: Error while type casting for column \u001B[39m\u001B[38;5;124m'\u001B[39m\u001B[38;5;132;01m{\u001B[39;00mcol_name\u001B[38;5;132;01m}\u001B[39;00m\u001B[38;5;124m'\u001B[39m\u001B[38;5;124m\"\u001B[39m,\n\u001B[1;32m   6517\u001B[0m         )\n",
      "File \u001B[0;32m~/.local/lib/python3.10/site-packages/pandas/core/generic.py:6534\u001B[0m, in \u001B[0;36mNDFrame.astype\u001B[0;34m(self, dtype, copy, errors)\u001B[0m\n\u001B[1;32m   6530\u001B[0m     results \u001B[38;5;241m=\u001B[39m [ser\u001B[38;5;241m.\u001B[39mastype(dtype, copy\u001B[38;5;241m=\u001B[39mcopy) \u001B[38;5;28;01mfor\u001B[39;00m _, ser \u001B[38;5;129;01min\u001B[39;00m \u001B[38;5;28mself\u001B[39m\u001B[38;5;241m.\u001B[39mitems()]\n\u001B[1;32m   6532\u001B[0m \u001B[38;5;28;01melse\u001B[39;00m:\n\u001B[1;32m   6533\u001B[0m     \u001B[38;5;66;03m# else, only a single dtype is given\u001B[39;00m\n\u001B[0;32m-> 6534\u001B[0m     new_data \u001B[38;5;241m=\u001B[39m \u001B[38;5;28;43mself\u001B[39;49m\u001B[38;5;241;43m.\u001B[39;49m\u001B[43m_mgr\u001B[49m\u001B[38;5;241;43m.\u001B[39;49m\u001B[43mastype\u001B[49m\u001B[43m(\u001B[49m\u001B[43mdtype\u001B[49m\u001B[38;5;241;43m=\u001B[39;49m\u001B[43mdtype\u001B[49m\u001B[43m,\u001B[49m\u001B[43m \u001B[49m\u001B[43mcopy\u001B[49m\u001B[38;5;241;43m=\u001B[39;49m\u001B[43mcopy\u001B[49m\u001B[43m,\u001B[49m\u001B[43m \u001B[49m\u001B[43merrors\u001B[49m\u001B[38;5;241;43m=\u001B[39;49m\u001B[43merrors\u001B[49m\u001B[43m)\u001B[49m\n\u001B[1;32m   6535\u001B[0m     res \u001B[38;5;241m=\u001B[39m \u001B[38;5;28mself\u001B[39m\u001B[38;5;241m.\u001B[39m_constructor_from_mgr(new_data, axes\u001B[38;5;241m=\u001B[39mnew_data\u001B[38;5;241m.\u001B[39maxes)\n\u001B[1;32m   6536\u001B[0m     \u001B[38;5;28;01mreturn\u001B[39;00m res\u001B[38;5;241m.\u001B[39m__finalize__(\u001B[38;5;28mself\u001B[39m, method\u001B[38;5;241m=\u001B[39m\u001B[38;5;124m\"\u001B[39m\u001B[38;5;124mastype\u001B[39m\u001B[38;5;124m\"\u001B[39m)\n",
      "File \u001B[0;32m~/.local/lib/python3.10/site-packages/pandas/core/internals/managers.py:414\u001B[0m, in \u001B[0;36mBaseBlockManager.astype\u001B[0;34m(self, dtype, copy, errors)\u001B[0m\n\u001B[1;32m    411\u001B[0m \u001B[38;5;28;01melif\u001B[39;00m using_copy_on_write():\n\u001B[1;32m    412\u001B[0m     copy \u001B[38;5;241m=\u001B[39m \u001B[38;5;28;01mFalse\u001B[39;00m\n\u001B[0;32m--> 414\u001B[0m \u001B[38;5;28;01mreturn\u001B[39;00m \u001B[38;5;28;43mself\u001B[39;49m\u001B[38;5;241;43m.\u001B[39;49m\u001B[43mapply\u001B[49m\u001B[43m(\u001B[49m\n\u001B[1;32m    415\u001B[0m \u001B[43m    \u001B[49m\u001B[38;5;124;43m\"\u001B[39;49m\u001B[38;5;124;43mastype\u001B[39;49m\u001B[38;5;124;43m\"\u001B[39;49m\u001B[43m,\u001B[49m\n\u001B[1;32m    416\u001B[0m \u001B[43m    \u001B[49m\u001B[43mdtype\u001B[49m\u001B[38;5;241;43m=\u001B[39;49m\u001B[43mdtype\u001B[49m\u001B[43m,\u001B[49m\n\u001B[1;32m    417\u001B[0m \u001B[43m    \u001B[49m\u001B[43mcopy\u001B[49m\u001B[38;5;241;43m=\u001B[39;49m\u001B[43mcopy\u001B[49m\u001B[43m,\u001B[49m\n\u001B[1;32m    418\u001B[0m \u001B[43m    \u001B[49m\u001B[43merrors\u001B[49m\u001B[38;5;241;43m=\u001B[39;49m\u001B[43merrors\u001B[49m\u001B[43m,\u001B[49m\n\u001B[1;32m    419\u001B[0m \u001B[43m    \u001B[49m\u001B[43musing_cow\u001B[49m\u001B[38;5;241;43m=\u001B[39;49m\u001B[43musing_copy_on_write\u001B[49m\u001B[43m(\u001B[49m\u001B[43m)\u001B[49m\u001B[43m,\u001B[49m\n\u001B[1;32m    420\u001B[0m \u001B[43m\u001B[49m\u001B[43m)\u001B[49m\n",
      "File \u001B[0;32m~/.local/lib/python3.10/site-packages/pandas/core/internals/managers.py:354\u001B[0m, in \u001B[0;36mBaseBlockManager.apply\u001B[0;34m(self, f, align_keys, **kwargs)\u001B[0m\n\u001B[1;32m    352\u001B[0m         applied \u001B[38;5;241m=\u001B[39m b\u001B[38;5;241m.\u001B[39mapply(f, \u001B[38;5;241m*\u001B[39m\u001B[38;5;241m*\u001B[39mkwargs)\n\u001B[1;32m    353\u001B[0m     \u001B[38;5;28;01melse\u001B[39;00m:\n\u001B[0;32m--> 354\u001B[0m         applied \u001B[38;5;241m=\u001B[39m \u001B[38;5;28;43mgetattr\u001B[39;49m\u001B[43m(\u001B[49m\u001B[43mb\u001B[49m\u001B[43m,\u001B[49m\u001B[43m \u001B[49m\u001B[43mf\u001B[49m\u001B[43m)\u001B[49m\u001B[43m(\u001B[49m\u001B[38;5;241;43m*\u001B[39;49m\u001B[38;5;241;43m*\u001B[39;49m\u001B[43mkwargs\u001B[49m\u001B[43m)\u001B[49m\n\u001B[1;32m    355\u001B[0m     result_blocks \u001B[38;5;241m=\u001B[39m extend_blocks(applied, result_blocks)\n\u001B[1;32m    357\u001B[0m out \u001B[38;5;241m=\u001B[39m \u001B[38;5;28mtype\u001B[39m(\u001B[38;5;28mself\u001B[39m)\u001B[38;5;241m.\u001B[39mfrom_blocks(result_blocks, \u001B[38;5;28mself\u001B[39m\u001B[38;5;241m.\u001B[39maxes)\n",
      "File \u001B[0;32m~/.local/lib/python3.10/site-packages/pandas/core/internals/blocks.py:616\u001B[0m, in \u001B[0;36mBlock.astype\u001B[0;34m(self, dtype, copy, errors, using_cow)\u001B[0m\n\u001B[1;32m    596\u001B[0m \u001B[38;5;124;03m\"\"\"\u001B[39;00m\n\u001B[1;32m    597\u001B[0m \u001B[38;5;124;03mCoerce to the new dtype.\u001B[39;00m\n\u001B[1;32m    598\u001B[0m \n\u001B[0;32m   (...)\u001B[0m\n\u001B[1;32m    612\u001B[0m \u001B[38;5;124;03mBlock\u001B[39;00m\n\u001B[1;32m    613\u001B[0m \u001B[38;5;124;03m\"\"\"\u001B[39;00m\n\u001B[1;32m    614\u001B[0m values \u001B[38;5;241m=\u001B[39m \u001B[38;5;28mself\u001B[39m\u001B[38;5;241m.\u001B[39mvalues\n\u001B[0;32m--> 616\u001B[0m new_values \u001B[38;5;241m=\u001B[39m \u001B[43mastype_array_safe\u001B[49m\u001B[43m(\u001B[49m\u001B[43mvalues\u001B[49m\u001B[43m,\u001B[49m\u001B[43m \u001B[49m\u001B[43mdtype\u001B[49m\u001B[43m,\u001B[49m\u001B[43m \u001B[49m\u001B[43mcopy\u001B[49m\u001B[38;5;241;43m=\u001B[39;49m\u001B[43mcopy\u001B[49m\u001B[43m,\u001B[49m\u001B[43m \u001B[49m\u001B[43merrors\u001B[49m\u001B[38;5;241;43m=\u001B[39;49m\u001B[43merrors\u001B[49m\u001B[43m)\u001B[49m\n\u001B[1;32m    618\u001B[0m new_values \u001B[38;5;241m=\u001B[39m maybe_coerce_values(new_values)\n\u001B[1;32m    620\u001B[0m refs \u001B[38;5;241m=\u001B[39m \u001B[38;5;28;01mNone\u001B[39;00m\n",
      "File \u001B[0;32m~/.local/lib/python3.10/site-packages/pandas/core/dtypes/astype.py:238\u001B[0m, in \u001B[0;36mastype_array_safe\u001B[0;34m(values, dtype, copy, errors)\u001B[0m\n\u001B[1;32m    235\u001B[0m     dtype \u001B[38;5;241m=\u001B[39m dtype\u001B[38;5;241m.\u001B[39mnumpy_dtype\n\u001B[1;32m    237\u001B[0m \u001B[38;5;28;01mtry\u001B[39;00m:\n\u001B[0;32m--> 238\u001B[0m     new_values \u001B[38;5;241m=\u001B[39m \u001B[43mastype_array\u001B[49m\u001B[43m(\u001B[49m\u001B[43mvalues\u001B[49m\u001B[43m,\u001B[49m\u001B[43m \u001B[49m\u001B[43mdtype\u001B[49m\u001B[43m,\u001B[49m\u001B[43m \u001B[49m\u001B[43mcopy\u001B[49m\u001B[38;5;241;43m=\u001B[39;49m\u001B[43mcopy\u001B[49m\u001B[43m)\u001B[49m\n\u001B[1;32m    239\u001B[0m \u001B[38;5;28;01mexcept\u001B[39;00m (\u001B[38;5;167;01mValueError\u001B[39;00m, \u001B[38;5;167;01mTypeError\u001B[39;00m):\n\u001B[1;32m    240\u001B[0m     \u001B[38;5;66;03m# e.g. _astype_nansafe can fail on object-dtype of strings\u001B[39;00m\n\u001B[1;32m    241\u001B[0m     \u001B[38;5;66;03m#  trying to convert to float\u001B[39;00m\n\u001B[1;32m    242\u001B[0m     \u001B[38;5;28;01mif\u001B[39;00m errors \u001B[38;5;241m==\u001B[39m \u001B[38;5;124m\"\u001B[39m\u001B[38;5;124mignore\u001B[39m\u001B[38;5;124m\"\u001B[39m:\n",
      "File \u001B[0;32m~/.local/lib/python3.10/site-packages/pandas/core/dtypes/astype.py:180\u001B[0m, in \u001B[0;36mastype_array\u001B[0;34m(values, dtype, copy)\u001B[0m\n\u001B[1;32m    176\u001B[0m     \u001B[38;5;28;01mreturn\u001B[39;00m values\n\u001B[1;32m    178\u001B[0m \u001B[38;5;28;01mif\u001B[39;00m \u001B[38;5;129;01mnot\u001B[39;00m \u001B[38;5;28misinstance\u001B[39m(values, np\u001B[38;5;241m.\u001B[39mndarray):\n\u001B[1;32m    179\u001B[0m     \u001B[38;5;66;03m# i.e. ExtensionArray\u001B[39;00m\n\u001B[0;32m--> 180\u001B[0m     values \u001B[38;5;241m=\u001B[39m \u001B[43mvalues\u001B[49m\u001B[38;5;241;43m.\u001B[39;49m\u001B[43mastype\u001B[49m\u001B[43m(\u001B[49m\u001B[43mdtype\u001B[49m\u001B[43m,\u001B[49m\u001B[43m \u001B[49m\u001B[43mcopy\u001B[49m\u001B[38;5;241;43m=\u001B[39;49m\u001B[43mcopy\u001B[49m\u001B[43m)\u001B[49m\n\u001B[1;32m    182\u001B[0m \u001B[38;5;28;01melse\u001B[39;00m:\n\u001B[1;32m    183\u001B[0m     values \u001B[38;5;241m=\u001B[39m _astype_nansafe(values, dtype, copy\u001B[38;5;241m=\u001B[39mcopy)\n",
      "File \u001B[0;32m~/.local/lib/python3.10/site-packages/pandas/core/arrays/categorical.py:575\u001B[0m, in \u001B[0;36mCategorical.astype\u001B[0;34m(self, dtype, copy)\u001B[0m\n\u001B[1;32m    570\u001B[0m     \u001B[38;5;28;01mexcept\u001B[39;00m (\n\u001B[1;32m    571\u001B[0m         \u001B[38;5;167;01mTypeError\u001B[39;00m,  \u001B[38;5;66;03m# downstream error msg for CategoricalIndex is misleading\u001B[39;00m\n\u001B[1;32m    572\u001B[0m         \u001B[38;5;167;01mValueError\u001B[39;00m,\n\u001B[1;32m    573\u001B[0m     ):\n\u001B[1;32m    574\u001B[0m         msg \u001B[38;5;241m=\u001B[39m \u001B[38;5;124mf\u001B[39m\u001B[38;5;124m\"\u001B[39m\u001B[38;5;124mCannot cast \u001B[39m\u001B[38;5;132;01m{\u001B[39;00m\u001B[38;5;28mself\u001B[39m\u001B[38;5;241m.\u001B[39mcategories\u001B[38;5;241m.\u001B[39mdtype\u001B[38;5;132;01m}\u001B[39;00m\u001B[38;5;124m dtype to \u001B[39m\u001B[38;5;132;01m{\u001B[39;00mdtype\u001B[38;5;132;01m}\u001B[39;00m\u001B[38;5;124m\"\u001B[39m\n\u001B[0;32m--> 575\u001B[0m         \u001B[38;5;28;01mraise\u001B[39;00m \u001B[38;5;167;01mValueError\u001B[39;00m(msg)\n\u001B[1;32m    577\u001B[0m     result \u001B[38;5;241m=\u001B[39m take_nd(\n\u001B[1;32m    578\u001B[0m         new_cats, ensure_platform_int(\u001B[38;5;28mself\u001B[39m\u001B[38;5;241m.\u001B[39m_codes), fill_value\u001B[38;5;241m=\u001B[39mfill_value\n\u001B[1;32m    579\u001B[0m     )\n\u001B[1;32m    581\u001B[0m \u001B[38;5;28;01mreturn\u001B[39;00m result\n",
      "\u001B[0;31mValueError\u001B[0m: Cannot cast object dtype to int64: Error while type casting for column 'TTest'"
     ]
    }
   ],
   "execution_count": 3
  },
  {
   "cell_type": "code",
   "id": "41e9963a",
   "metadata": {},
   "source": [
    "res.resume"
   ],
   "outputs": [],
   "execution_count": null
  },
  {
   "cell_type": "code",
   "id": "50ae28a8",
   "metadata": {},
   "source": [
    "res.aa_score"
   ],
   "outputs": [],
   "execution_count": null
  },
  {
   "cell_type": "code",
   "id": "cc42c534",
   "metadata": {},
   "source": [
    "res.best_split"
   ],
   "outputs": [],
   "execution_count": null
  },
  {
   "cell_type": "code",
   "id": "18351884",
   "metadata": {},
   "source": [
    "res.best_split_statistic"
   ],
   "outputs": [],
   "execution_count": null
  },
  {
   "cell_type": "code",
   "id": "0da18405",
   "metadata": {},
   "source": [
    "res.experiments"
   ],
   "outputs": [],
   "execution_count": null
  },
  {
   "cell_type": "markdown",
   "source": [
    "# AA Test with random states\n",
    "\n",
    "We can set random states for each execution. In this case number of random states equals number of execution. "
   ],
   "metadata": {
    "collapsed": false
   },
   "id": "76c81d6d6570d58f"
  },
  {
   "cell_type": "code",
   "id": "a6038ed8",
   "metadata": {},
   "source": [
    "aa = AATest(random_states=[56, 72, 2, 43])\n",
    "res = aa.execute(data)"
   ],
   "outputs": [],
   "execution_count": null
  },
  {
   "cell_type": "code",
   "source": [
    "res.resume"
   ],
   "metadata": {
    "collapsed": false
   },
   "id": "6bebccfe9b91ae2e",
   "outputs": [],
   "execution_count": null
  },
  {
   "cell_type": "code",
   "source": [
    "res.aa_score"
   ],
   "metadata": {
    "collapsed": false
   },
   "id": "2a6d8f9df6978913",
   "outputs": [],
   "execution_count": null
  },
  {
   "cell_type": "code",
   "source": [
    "res.best_split"
   ],
   "metadata": {
    "collapsed": false
   },
   "id": "e318afc40736069d",
   "outputs": [],
   "execution_count": null
  },
  {
   "cell_type": "code",
   "source": [
    "res.best_split_statistic"
   ],
   "metadata": {
    "collapsed": false
   },
   "id": "bd1a332ab687cef",
   "outputs": [],
   "execution_count": null
  },
  {
   "cell_type": "code",
   "source": [
    "res.experiments"
   ],
   "metadata": {
    "collapsed": false
   },
   "id": "96b29db891fa2462",
   "outputs": [],
   "execution_count": null
  },
  {
   "cell_type": "markdown",
   "source": [
    "# AA Test with stratification\n",
    "\n",
    "Depends on your needs it is possible to stratify data. You can set `stratification=True` and StratificationRole in Dataset to run it.  "
   ],
   "metadata": {
    "collapsed": false
   },
   "id": "1b37db00a1a4a49f"
  },
  {
   "cell_type": "code",
   "source": [
    "aa = AATest(random_states=[56, 72, 2, 43], stratification=True)\n",
    "res = aa.execute(data)"
   ],
   "metadata": {
    "collapsed": false
   },
   "id": "da9ab2f374ce1273",
   "outputs": [],
   "execution_count": null
  },
  {
   "cell_type": "code",
   "source": [
    "res.resume"
   ],
   "metadata": {
    "collapsed": false
   },
   "id": "fb5bc9076cb36af9",
   "outputs": [],
   "execution_count": null
  },
  {
   "cell_type": "code",
   "source": [
    "res.aa_score"
   ],
   "metadata": {
    "collapsed": false
   },
   "id": "5eca1aebeb06da2",
   "outputs": [],
   "execution_count": null
  },
  {
   "cell_type": "code",
   "source": [
    "res.best_split"
   ],
   "metadata": {
    "collapsed": false
   },
   "id": "4e5730bdf7983f7d",
   "outputs": [],
   "execution_count": null
  },
  {
   "cell_type": "code",
   "source": [
    "res.best_split_statistic"
   ],
   "metadata": {
    "collapsed": false
   },
   "id": "7cdeba119b04476e",
   "outputs": [],
   "execution_count": null
  },
  {
   "cell_type": "code",
   "source": [
    "res.experiments"
   ],
   "metadata": {
    "collapsed": false
   },
   "id": "6a63a08bceb2f40a",
   "outputs": [],
   "execution_count": null
  }
 ],
 "metadata": {
  "kernelspec": {
   "display_name": "Python 3",
   "language": "python",
   "name": "python3"
  },
  "language_info": {
   "codemirror_mode": {
    "name": "ipython",
    "version": 3
   },
   "file_extension": ".py",
   "mimetype": "text/x-python",
   "name": "python",
   "nbconvert_exporter": "python",
   "pygments_lexer": "ipython3",
   "version": "3.10.11"
  }
 },
 "nbformat": 4,
 "nbformat_minor": 5
}
