{
 "cells": [
  {
   "cell_type": "markdown",
   "id": "35b63454542e9139",
   "metadata": {
    "collapsed": false
   },
   "source": [
    "# AA test tutorial \n",
    "AA test is important part of randomized controlled experiment, for example AB test. \n",
    "\n",
    "The objectives of the AA test are to verify the assumption of uniformity of samples as a result of the applied partitioning method, to select the best partition from the available ones, and to verify the applicability of statistical criteria for checking uniformity. \n",
    "\n",
    "For example, there is a hypothesis about the absence of dependence of features on each other. If this hypothesis is not followed, the AA test will fail."
   ]
  },
  {
   "cell_type": "markdown",
   "id": "d55e33194a3247f0",
   "metadata": {
    "collapsed": false
   },
   "source": [
    "<ul>\n",
    "  <li><a href=\"#creation-of-a-new-test-dataset-with-synthetic-data\">Creation of a new test dataset with synthetic data.\n",
    "  <li><a href=\"#one-split-of-aa-test\">One split of AA test.\n",
    "  <li><a href=\"#aa-test\">AA test.\n",
    "  <li><a href=\"#aa-test-with-stratification\">AA test with stratification.\n",
    "</ul>"
   ]
  },
  {
   "cell_type": "code",
   "execution_count": 1,
   "id": "f890151fc64fd3fa",
   "metadata": {
    "collapsed": false,
    "ExecuteTime": {
     "end_time": "2024-08-23T13:24:05.855328800Z",
     "start_time": "2024-08-23T13:24:01.564814900Z"
    }
   },
   "outputs": [
    {
     "name": "stderr",
     "output_type": "stream",
     "text": [
      "C:\\Users\\User\\AppData\\Local\\Programs\\Python\\Python310\\lib\\site-packages\\tqdm\\auto.py:21: TqdmWarning: IProgress not found. Please update jupyter and ipywidgets. See https://ipywidgets.readthedocs.io/en/stable/user_install.html\n",
      "  from .autonotebook import tqdm as notebook_tqdm\n"
     ]
    }
   ],
   "source": [
    "from hypex.dataset import Dataset, InfoRole, TreatmentRole, TargetRole, StratificationRole\n",
    "from hypex import AATest"
   ]
  },
  {
   "cell_type": "markdown",
   "id": "bd8ae5c13f2b538e",
   "metadata": {
    "collapsed": false
   },
   "source": [
    "## Creation of a new test dataset with synthetic data. \n",
    "\n",
    "In order to be able to work with our data in HypEx, first we need to convert it into `dataset`. It is important to mark the data fields by assigning the appropriate `roles`:\n",
    "- FeatureRole: a role for columns that contain features or predictor variables. Our split will be based on them. Applied by default if the role is not specified for the column.\n",
    "- TreatmentRole: a role for columns that show the treatment or intervention.\n",
    "- TargetRole: a role for columns that show the target or outcome variable.\n",
    "- InfoRole: a role for columns that contain information about the data, such as user IDs. "
   ]
  },
  {
   "cell_type": "code",
   "execution_count": 2,
   "id": "70e663c02efb6980",
   "metadata": {
    "collapsed": false,
    "ExecuteTime": {
     "end_time": "2024-08-23T13:24:06.047937400Z",
     "start_time": "2024-08-23T13:24:05.856410300Z"
    }
   },
   "outputs": [
    {
     "data": {
      "text/plain": "      user_id  signup_month  treat  pre_spends  post_spends   age gender  \\\n0           0             0      0       488.0   414.444444   NaN      M   \n1           1             8      1       512.5   462.222222  26.0    NaN   \n2           2             7      1       483.0   479.444444  25.0      M   \n3           3             0      0       501.5   424.333333  39.0      M   \n4           4             1      1       543.0   514.555556  18.0      F   \n...       ...           ...    ...         ...          ...   ...    ...   \n9995     9995            10      1       538.5   450.444444  42.0      M   \n9996     9996             0      0       500.5   430.888889  26.0      F   \n9997     9997             3      1       473.0   534.111111  22.0      F   \n9998     9998             2      1       495.0   523.222222  67.0      F   \n9999     9999             7      1       508.0   475.888889  38.0      F   \n\n        industry  \n0     E-commerce  \n1     E-commerce  \n2      Logistics  \n3     E-commerce  \n4     E-commerce  \n...          ...  \n9995   Logistics  \n9996   Logistics  \n9997  E-commerce  \n9998  E-commerce  \n9999  E-commerce  \n\n[10000 rows x 8 columns]"
     },
     "execution_count": 2,
     "metadata": {},
     "output_type": "execute_result"
    }
   ],
   "source": [
    "data = Dataset(\n",
    "    roles={\n",
    "        \"user_id\": InfoRole(int),\n",
    "        \"treat\": TreatmentRole(int),\n",
    "        \"pre_spends\": TargetRole(),\n",
    "        \"post_spends\": TargetRole(),\n",
    "        \"gender\": StratificationRole(str)\n",
    "    }, data=\"data.csv\",\n",
    ")\n",
    "data"
   ]
  },
  {
   "cell_type": "markdown",
   "id": "fb03d99c85e1216d",
   "metadata": {
    "collapsed": false
   },
   "source": [
    "## AA test\n",
    "Then we run the experiment on our prepared dataset, wrapped into ExperimentData. In this case we select one of the pre-assembled pipeline, AA_TEST.\n",
    "We can set the number of iterations for simple execution. In this case the random states are the numbers of each iteration."
   ]
  },
  {
   "cell_type": "code",
   "execution_count": 3,
   "id": "initial_id",
   "metadata": {
    "collapsed": true,
    "ExecuteTime": {
     "end_time": "2024-08-23T13:18:47.488498300Z",
     "start_time": "2024-08-23T13:18:35.479281500Z"
    }
   },
   "outputs": [],
   "source": [
    "aa = AATest(n_iterations=10)\n",
    "res = aa.execute(data)"
   ]
  },
  {
   "cell_type": "code",
   "execution_count": 4,
   "id": "41e9963a",
   "metadata": {
    "ExecuteTime": {
     "end_time": "2024-08-23T13:18:47.510922400Z",
     "start_time": "2024-08-23T13:18:47.491177500Z"
    }
   },
   "outputs": [
    {
     "data": {
      "text/plain": "  TTest aa test KSTest aa test TTest best split KSTest best split  result  \\\n0        NOT OK         NOT OK               OK                OK  NOT OK   \n1        NOT OK         NOT OK               OK                OK  NOT OK   \n\n       feature    group  \n0  post_spends  control  \n1   pre_spends  control  "
     },
     "execution_count": 4,
     "metadata": {},
     "output_type": "execute_result"
    }
   ],
   "source": [
    "res.resume"
   ]
  },
  {
   "cell_type": "code",
   "execution_count": 5,
   "id": "50ae28a8",
   "metadata": {
    "ExecuteTime": {
     "end_time": "2024-08-23T13:18:47.628673800Z",
     "start_time": "2024-08-23T13:18:47.506355100Z"
    }
   },
   "outputs": [
    {
     "data": {
      "text/plain": "                             pass     score\npre_spends TTest control    False  0.653814\npost_spends TTest control   False  0.664092\npre_spends KSTest control   False  0.639293\npost_spends KSTest control  False  0.637995"
     },
     "execution_count": 5,
     "metadata": {},
     "output_type": "execute_result"
    }
   ],
   "source": [
    "res.aa_score"
   ]
  },
  {
   "cell_type": "code",
   "execution_count": 6,
   "id": "cc42c534",
   "metadata": {
    "ExecuteTime": {
     "end_time": "2024-08-23T13:18:47.632693500Z",
     "start_time": "2024-08-23T13:18:47.521593600Z"
    }
   },
   "outputs": [
    {
     "data": {
      "text/plain": "      user_id  signup_month  treat  pre_spends  post_spends   age gender  \\\n0           0             0      0       488.0   414.444444   NaN      M   \n1           1             8      1       512.5   462.222222  26.0    NaN   \n2           2             7      1       483.0   479.444444  25.0      M   \n3           3             0      0       501.5   424.333333  39.0      M   \n4           4             1      1       543.0   514.555556  18.0      F   \n...       ...           ...    ...         ...          ...   ...    ...   \n9995     9995            10      1       538.5   450.444444  42.0      M   \n9996     9996             0      0       500.5   430.888889  26.0      F   \n9997     9997             3      1       473.0   534.111111  22.0      F   \n9998     9998             2      1       495.0   523.222222  67.0      F   \n9999     9999             7      1       508.0   475.888889  38.0      F   \n\n        industry    split  \n0     E-commerce  control  \n1     E-commerce     test  \n2      Logistics     test  \n3     E-commerce  control  \n4     E-commerce  control  \n...          ...      ...  \n9995   Logistics  control  \n9996   Logistics  control  \n9997  E-commerce     test  \n9998  E-commerce     test  \n9999  E-commerce  control  \n\n[10000 rows x 9 columns]"
     },
     "execution_count": 6,
     "metadata": {},
     "output_type": "execute_result"
    }
   ],
   "source": [
    "res.best_split"
   ]
  },
  {
   "cell_type": "code",
   "execution_count": 7,
   "id": "18351884",
   "metadata": {
    "ExecuteTime": {
     "end_time": "2024-08-23T13:18:47.674869900Z",
     "start_time": "2024-08-23T13:18:47.557336Z"
    }
   },
   "outputs": [
    {
     "data": {
      "text/plain": "       feature    group TTest pass  TTest p-value KSTest pass  KSTest p-value\n0   pre_spends  control         OK       0.645746          OK        0.932542\n1  post_spends  control         OK       0.357727          OK        0.577046"
     },
     "execution_count": 7,
     "metadata": {},
     "output_type": "execute_result"
    }
   ],
   "source": [
    "res.best_split_statistic"
   ]
  },
  {
   "cell_type": "code",
   "execution_count": 8,
   "id": "0da18405",
   "metadata": {
    "ExecuteTime": {
     "end_time": "2024-08-23T13:18:47.748804600Z",
     "start_time": "2024-08-23T13:18:47.647468Z"
    }
   },
   "outputs": [
    {
     "data": {
      "text/plain": "        splitter_id  pre_spends GroupDifference control mean control  \\\n0  AASplitter┴rs 0┴                                         487.3801   \n1  AASplitter┴rs 1┴                                         487.3333   \n2  AASplitter┴rs 2┴                                         487.0445   \n3  AASplitter┴rs 3┴                                         486.6742   \n4  AASplitter┴rs 4┴                                         487.1970   \n5  AASplitter┴rs 5┴                                         486.8953   \n6  AASplitter┴rs 6┴                                         487.3100   \n7  AASplitter┴rs 7┴                                         487.1805   \n8  AASplitter┴rs 8┴                                         487.3882   \n9  AASplitter┴rs 9┴                                         487.0735   \n\n   pre_spends GroupDifference test mean control  \\\n0                                      486.8074   \n1                                      486.8542   \n2                                      487.1430   \n3                                      487.5133   \n4                                      486.9905   \n5                                      487.2922   \n6                                      486.8775   \n7                                      487.0070   \n8                                      486.7993   \n9                                      487.1140   \n\n   pre_spends GroupDifference difference control  \\\n0                                        -0.5727   \n1                                        -0.4791   \n2                                         0.0985   \n3                                         0.8391   \n4                                        -0.2065   \n5                                         0.3969   \n6                                        -0.4325   \n7                                        -0.1735   \n8                                        -0.5889   \n9                                         0.0405   \n\n   pre_spends GroupDifference difference % control  \\\n0                                        -0.117506   \n1                                        -0.098311   \n2                                         0.020224   \n3                                         0.172415   \n4                                        -0.042385   \n5                                         0.081516   \n6                                        -0.088753   \n7                                        -0.035613   \n8                                        -0.120828   \n9                                         0.008315   \n\n   post_spends GroupDifference control mean control  \\\n0                                        452.604911   \n1                                        452.177711   \n2                                        452.824200   \n3                                        451.250333   \n4                                        452.412622   \n5                                        452.642222   \n6                                        452.701422   \n7                                        451.802133   \n8                                        452.404267   \n9                                        452.001600   \n\n   post_spends GroupDifference test mean control  \\\n0                                     451.724200   \n1                                     452.151400   \n2                                     451.504911   \n3                                     453.078778   \n4                                     451.916489   \n5                                     451.686889   \n6                                     451.627689   \n7                                     452.526978   \n8                                     451.924844   \n9                                     452.327511   \n\n   post_spends GroupDifference difference control  \\\n0                                       -0.880711   \n1                                       -0.026311   \n2                                       -1.319289   \n3                                        1.828444   \n4                                       -0.496133   \n5                                       -0.955333   \n6                                       -1.073733   \n7                                        0.724844   \n8                                       -0.479422   \n9                                        0.325911   \n\n   post_spends GroupDifference difference % control  \\\n0                                         -0.194587   \n1                                         -0.005819   \n2                                         -0.291347   \n3                                          0.405195   \n4                                         -0.109664   \n5                                         -0.211057   \n6                                         -0.237184   \n7                                          0.160434   \n8                                         -0.105972   \n9                                          0.072104   \n\n   treat GroupSizes control size control  ...  \\\n0                                 5000.0  ...   \n1                                    NaN  ...   \n2                                    NaN  ...   \n3                                    NaN  ...   \n4                                    NaN  ...   \n5                                    NaN  ...   \n6                                    NaN  ...   \n7                                    NaN  ...   \n8                                    NaN  ...   \n9                                    NaN  ...   \n\n   post_spends KSTest pass control  mean TTest p-value  mean TTest pass  \\\n0                            False            0.196474              0.0   \n1                            False            0.588834              0.0   \n2                            False            0.444120              0.0   \n3                            False            0.023258              1.0   \n4                            False            0.556661              0.0   \n5                            False            0.259216              0.0   \n6                            False            0.212447              0.0   \n7                            False            0.501737              0.0   \n8                            False            0.330834              0.0   \n9                            False            0.796888              0.0   \n\n   mean KSTest p-value  mean KSTest pass  mean test score  \\\n0             0.252129               0.5         0.233577   \n1             0.490752               0.0         0.523446   \n2             0.452796               0.0         0.449904   \n3             0.130645               0.0         0.094849   \n4             0.362782               0.0         0.427409   \n5             0.399740               0.0         0.352899   \n6             0.349031               0.0         0.303503   \n7             0.754794               0.0         0.670441   \n8             0.392027               0.5         0.371629   \n9             0.528860               0.0         0.618203   \n\n   post_spends GroupSizes control size control  \\\n0                                          NaN   \n1                                       5000.0   \n2                                       5000.0   \n3                                       5000.0   \n4                                       5000.0   \n5                                       5000.0   \n6                                       5000.0   \n7                                       5000.0   \n8                                       5000.0   \n9                                       5000.0   \n\n   post_spends GroupSizes test size control  \\\n0                                       NaN   \n1                                    5000.0   \n2                                    5000.0   \n3                                    5000.0   \n4                                    5000.0   \n5                                    5000.0   \n6                                    5000.0   \n7                                    5000.0   \n8                                    5000.0   \n9                                    5000.0   \n\n   post_spends GroupSizes control size % control  \\\n0                                            NaN   \n1                                           50.0   \n2                                           50.0   \n3                                           50.0   \n4                                           50.0   \n5                                           50.0   \n6                                           50.0   \n7                                           50.0   \n8                                           50.0   \n9                                           50.0   \n\n   post_spends GroupSizes test size % control  \n0                                         NaN  \n1                                        50.0  \n2                                        50.0  \n3                                        50.0  \n4                                        50.0  \n5                                        50.0  \n6                                        50.0  \n7                                        50.0  \n8                                        50.0  \n9                                        50.0  \n\n[10 rows x 30 columns]"
     },
     "execution_count": 8,
     "metadata": {},
     "output_type": "execute_result"
    }
   ],
   "source": [
    "res.experiments"
   ]
  },
  {
   "cell_type": "markdown",
   "id": "76c81d6d6570d58f",
   "metadata": {
    "collapsed": false
   },
   "source": [
    "# AA Test with random states\n",
    "\n",
    "We can also adjust some of the preset parameters of the experiment by assigning them to the respective params of the experiment. I.e. here we set the range of the random states we want to run our AA test for. "
   ]
  },
  {
   "cell_type": "code",
   "execution_count": 9,
   "id": "a6038ed8",
   "metadata": {
    "ExecuteTime": {
     "end_time": "2024-08-23T13:18:53.469790800Z",
     "start_time": "2024-08-23T13:18:47.679186500Z"
    }
   },
   "outputs": [],
   "source": [
    "aa = AATest(random_states=[56, 72, 2, 43])\n",
    "res = aa.execute(data)"
   ]
  },
  {
   "cell_type": "code",
   "execution_count": 10,
   "id": "6bebccfe9b91ae2e",
   "metadata": {
    "collapsed": false,
    "ExecuteTime": {
     "end_time": "2024-08-23T13:18:53.530507100Z",
     "start_time": "2024-08-23T13:18:53.474167600Z"
    }
   },
   "outputs": [
    {
     "data": {
      "text/plain": "  TTest aa test KSTest aa test TTest best split KSTest best split  result  \\\n0        NOT OK         NOT OK               OK                OK  NOT OK   \n1        NOT OK         NOT OK               OK                OK  NOT OK   \n\n       feature    group  \n0  post_spends  control  \n1   pre_spends  control  "
     },
     "execution_count": 10,
     "metadata": {},
     "output_type": "execute_result"
    }
   ],
   "source": [
    "res.resume"
   ]
  },
  {
   "cell_type": "code",
   "execution_count": 11,
   "id": "2a6d8f9df6978913",
   "metadata": {
    "collapsed": false,
    "ExecuteTime": {
     "end_time": "2024-08-23T13:18:53.532665200Z",
     "start_time": "2024-08-23T13:18:53.502583Z"
    }
   },
   "outputs": [
    {
     "data": {
      "text/plain": "                             pass     score\npre_spends TTest control    False  0.652500\npost_spends TTest control   False  0.645896\npre_spends KSTest control   False  0.605599\npost_spends KSTest control  False  0.533713"
     },
     "execution_count": 11,
     "metadata": {},
     "output_type": "execute_result"
    }
   ],
   "source": [
    "res.aa_score"
   ]
  },
  {
   "cell_type": "code",
   "execution_count": 12,
   "id": "e318afc40736069d",
   "metadata": {
    "collapsed": false,
    "ExecuteTime": {
     "end_time": "2024-08-23T13:18:53.572184500Z",
     "start_time": "2024-08-23T13:18:53.518173300Z"
    }
   },
   "outputs": [
    {
     "data": {
      "text/plain": "      user_id  signup_month  treat  pre_spends  post_spends   age gender  \\\n0           0             0      0       488.0   414.444444   NaN      M   \n1           1             8      1       512.5   462.222222  26.0    NaN   \n2           2             7      1       483.0   479.444444  25.0      M   \n3           3             0      0       501.5   424.333333  39.0      M   \n4           4             1      1       543.0   514.555556  18.0      F   \n...       ...           ...    ...         ...          ...   ...    ...   \n9995     9995            10      1       538.5   450.444444  42.0      M   \n9996     9996             0      0       500.5   430.888889  26.0      F   \n9997     9997             3      1       473.0   534.111111  22.0      F   \n9998     9998             2      1       495.0   523.222222  67.0      F   \n9999     9999             7      1       508.0   475.888889  38.0      F   \n\n        industry    split  \n0     E-commerce  control  \n1     E-commerce     test  \n2      Logistics  control  \n3     E-commerce     test  \n4     E-commerce  control  \n...          ...      ...  \n9995   Logistics     test  \n9996   Logistics  control  \n9997  E-commerce     test  \n9998  E-commerce     test  \n9999  E-commerce  control  \n\n[10000 rows x 9 columns]"
     },
     "execution_count": 12,
     "metadata": {},
     "output_type": "execute_result"
    }
   ],
   "source": [
    "res.best_split"
   ]
  },
  {
   "cell_type": "code",
   "execution_count": 13,
   "id": "bd1a332ab687cef",
   "metadata": {
    "collapsed": false,
    "ExecuteTime": {
     "end_time": "2024-08-23T13:18:53.584350300Z",
     "start_time": "2024-08-23T13:18:53.549965300Z"
    }
   },
   "outputs": [
    {
     "data": {
      "text/plain": "       feature    group TTest pass  TTest p-value KSTest pass  KSTest p-value\n0   pre_spends  control         OK       0.519864          OK        0.694583\n1  post_spends  control         OK       0.998020          OK        0.677788"
     },
     "execution_count": 13,
     "metadata": {},
     "output_type": "execute_result"
    }
   ],
   "source": [
    "res.best_split_statistic"
   ]
  },
  {
   "cell_type": "code",
   "execution_count": 14,
   "id": "96b29db891fa2462",
   "metadata": {
    "collapsed": false,
    "ExecuteTime": {
     "end_time": "2024-08-23T13:18:53.633621600Z",
     "start_time": "2024-08-23T13:18:53.564902500Z"
    }
   },
   "outputs": [
    {
     "data": {
      "text/plain": "         splitter_id  pre_spends GroupDifference control mean control  \\\n0  AASplitter┴rs 56┴                                         486.7993   \n1  AASplitter┴rs 72┴                                         486.9723   \n2   AASplitter┴rs 2┴                                         487.0445   \n3  AASplitter┴rs 43┴                                         487.3606   \n\n   pre_spends GroupDifference test mean control  \\\n0                                      487.3882   \n1                                      487.2152   \n2                                      487.1430   \n3                                      486.8269   \n\n   pre_spends GroupDifference difference control  \\\n0                                         0.5889   \n1                                         0.2429   \n2                                         0.0985   \n3                                        -0.5337   \n\n   pre_spends GroupDifference difference % control  \\\n0                                         0.120974   \n1                                         0.049880   \n2                                         0.020224   \n3                                        -0.109508   \n\n   post_spends GroupDifference control mean control  \\\n0                                        452.483711   \n1                                        452.163578   \n2                                        452.824200   \n3                                        451.528111   \n\n   post_spends GroupDifference test mean control  \\\n0                                     451.845400   \n1                                     452.165533   \n2                                     451.504911   \n3                                     452.801000   \n\n   post_spends GroupDifference difference control  \\\n0                                       -0.638311   \n1                                        0.001956   \n2                                       -1.319289   \n3                                        1.272889   \n\n   post_spends GroupDifference difference % control  \\\n0                                         -0.141068   \n1                                          0.000432   \n2                                         -0.291347   \n3                                          0.281907   \n\n   post_spends GroupSizes control size control  ...  \\\n0                                         5000  ...   \n1                                         5000  ...   \n2                                         5000  ...   \n3                                         5000  ...   \n\n   post_spends TTest pass control  pre_spends KSTest p-value control  \\\n0                           False                           0.002465   \n1                           False                           0.694583   \n2                           False                           0.727866   \n3                           False                           0.352691   \n\n   pre_spends KSTest pass control  post_spends KSTest p-value control  \\\n0                            True                            0.744274   \n1                           False                            0.677788   \n2                           False                            0.177727   \n3                           False                            0.465358   \n\n   post_spends KSTest pass control  mean TTest p-value  mean TTest pass  \\\n0                            False            0.268336              0.0   \n1                            False            0.758942              0.0   \n2                            False            0.444120              0.0   \n3                            False            0.131809              0.0   \n\n   mean KSTest p-value  mean KSTest pass  mean test score  \n0             0.373370               0.5         0.338359  \n1             0.686186               0.0         0.710438  \n2             0.452796               0.0         0.449904  \n3             0.409024               0.0         0.316619  \n\n[4 rows x 26 columns]"
     },
     "execution_count": 14,
     "metadata": {},
     "output_type": "execute_result"
    }
   ],
   "source": [
    "res.experiments"
   ]
  },
  {
   "cell_type": "markdown",
   "id": "1b37db00a1a4a49f",
   "metadata": {
    "collapsed": false
   },
   "source": [
    "# AA Test with stratification\n",
    "\n",
    "Depending on your requirements it is possible to stratify the data. You can set `stratification=True` and `StratificationRole` in `Dataset` to run it with stratification.  "
   ]
  },
  {
   "cell_type": "code",
   "execution_count": 15,
   "id": "da9ab2f374ce1273",
   "metadata": {
    "collapsed": false,
    "ExecuteTime": {
     "end_time": "2024-08-23T13:18:56.735150500Z",
     "start_time": "2024-08-23T13:18:53.591349800Z"
    }
   },
   "outputs": [],
   "source": [
    "aa = AATest(random_states=[56, 72, 2, 43], stratification=True)\n",
    "res = aa.execute(data)"
   ]
  },
  {
   "cell_type": "code",
   "execution_count": 16,
   "id": "fb5bc9076cb36af9",
   "metadata": {
    "collapsed": false,
    "ExecuteTime": {
     "end_time": "2024-08-23T13:18:56.756338100Z",
     "start_time": "2024-08-23T13:18:56.737655300Z"
    }
   },
   "outputs": [
    {
     "data": {
      "text/plain": "  TTest aa test KSTest aa test TTest best split KSTest best split  result  \\\n0        NOT OK         NOT OK               OK                OK  NOT OK   \n1        NOT OK         NOT OK               OK                OK  NOT OK   \n\n       feature    group  \n0  post_spends  control  \n1   pre_spends  control  "
     },
     "execution_count": 16,
     "metadata": {},
     "output_type": "execute_result"
    }
   ],
   "source": [
    "res.resume"
   ]
  },
  {
   "cell_type": "code",
   "execution_count": 17,
   "id": "5eca1aebeb06da2",
   "metadata": {
    "collapsed": false,
    "ExecuteTime": {
     "end_time": "2024-08-23T13:18:56.800596600Z",
     "start_time": "2024-08-23T13:18:56.753983700Z"
    }
   },
   "outputs": [
    {
     "data": {
      "text/plain": "                             pass     score\npre_spends TTest control    False  0.388191\npost_spends TTest control   False  0.774438\npre_spends KSTest control   False  0.728226\npost_spends KSTest control  False  0.660354"
     },
     "execution_count": 17,
     "metadata": {},
     "output_type": "execute_result"
    }
   ],
   "source": [
    "res.aa_score"
   ]
  },
  {
   "cell_type": "code",
   "execution_count": 18,
   "id": "4e5730bdf7983f7d",
   "metadata": {
    "collapsed": false,
    "ExecuteTime": {
     "end_time": "2024-08-23T13:18:56.842331800Z",
     "start_time": "2024-08-23T13:18:56.768931700Z"
    }
   },
   "outputs": [
    {
     "data": {
      "text/plain": "      user_id  signup_month  treat  pre_spends  post_spends   age gender  \\\n0           0             0      0       488.0   414.444444   NaN      M   \n1           1             8      1       512.5   462.222222  26.0    NaN   \n2           2             7      1       483.0   479.444444  25.0      M   \n3           3             0      0       501.5   424.333333  39.0      M   \n4           4             1      1       543.0   514.555556  18.0      F   \n...       ...           ...    ...         ...          ...   ...    ...   \n9995     9995            10      1       538.5   450.444444  42.0      M   \n9996     9996             0      0       500.5   430.888889  26.0      F   \n9997     9997             3      1       473.0   534.111111  22.0      F   \n9998     9998             2      1       495.0   523.222222  67.0      F   \n9999     9999             7      1       508.0   475.888889  38.0      F   \n\n        industry    split  \n0     E-commerce  control  \n1     E-commerce     test  \n2      Logistics     test  \n3     E-commerce     test  \n4     E-commerce  control  \n...          ...      ...  \n9995   Logistics      NaN  \n9996   Logistics      NaN  \n9997  E-commerce      NaN  \n9998  E-commerce      NaN  \n9999  E-commerce      NaN  \n\n[10000 rows x 9 columns]"
     },
     "execution_count": 18,
     "metadata": {},
     "output_type": "execute_result"
    }
   ],
   "source": [
    "res.best_split"
   ]
  },
  {
   "cell_type": "code",
   "execution_count": 19,
   "id": "7cdeba119b04476e",
   "metadata": {
    "collapsed": false,
    "ExecuteTime": {
     "end_time": "2024-08-23T13:18:56.847726500Z",
     "start_time": "2024-08-23T13:18:56.800596600Z"
    }
   },
   "outputs": [
    {
     "data": {
      "text/plain": "       feature    group TTest pass  TTest p-value KSTest pass  KSTest p-value\n0   pre_spends  control         OK       0.384576          OK        0.129368\n1  post_spends  control         OK       0.801273          OK        0.952433"
     },
     "execution_count": 19,
     "metadata": {},
     "output_type": "execute_result"
    }
   ],
   "source": [
    "res.best_split_statistic"
   ]
  },
  {
   "cell_type": "code",
   "execution_count": 20,
   "id": "6a63a08bceb2f40a",
   "metadata": {
    "collapsed": false,
    "ExecuteTime": {
     "end_time": "2024-08-23T13:18:56.913745600Z",
     "start_time": "2024-08-23T13:18:56.816382300Z"
    }
   },
   "outputs": [
    {
     "data": {
      "text/plain": "                           splitter_id  \\\n0  AASplitterWithStratification┴rs 56┴   \n1  AASplitterWithStratification┴rs 72┴   \n2   AASplitterWithStratification┴rs 2┴   \n3  AASplitterWithStratification┴rs 43┴   \n\n   pre_spends GroupDifference control mean control  \\\n0                                       487.110444   \n1                                       486.922667   \n2                                       487.264000   \n3                                       487.075889   \n\n   pre_spends GroupDifference test mean control  \\\n0                                    487.082000   \n1                                    487.269778   \n2                                    486.928444   \n3                                    487.116556   \n\n   pre_spends GroupDifference difference control  \\\n0                                      -0.028444   \n1                                       0.347111   \n2                                      -0.335556   \n3                                       0.040667   \n\n   pre_spends GroupDifference difference % control  \\\n0                                        -0.005839   \n1                                         0.071287   \n2                                        -0.068865   \n3                                         0.008349   \n\n   post_spends GroupDifference control mean control  \\\n0                                        452.648938   \n1                                        452.245679   \n2                                        451.372173   \n3                                        451.141432   \n\n   post_spends GroupDifference test mean control  \\\n0                                     451.633506   \n1                                     452.036765   \n2                                     452.910272   \n3                                     453.141012   \n\n   post_spends GroupDifference difference control  \\\n0                                       -1.015432   \n1                                       -0.208914   \n2                                        1.538099   \n3                                        1.999580   \n\n   post_spends GroupDifference difference % control  \\\n0                                         -0.224331   \n1                                         -0.046195   \n2                                          0.340761   \n3                                          0.443227   \n\n   post_spends GroupSizes control size control  ...  \\\n0                                         4500  ...   \n1                                         4500  ...   \n2                                         4500  ...   \n3                                         4500  ...   \n\n   post_spends TTest pass control  pre_spends KSTest p-value control  \\\n0                           False                           0.612183   \n1                           False                           0.129368   \n2                           False                           0.085963   \n3                            True                           0.459584   \n\n   pre_spends KSTest pass control  post_spends KSTest p-value control  \\\n0                           False                            0.491962   \n1                           False                            0.952433   \n2                           False                            0.008355   \n3                           False                            0.105834   \n\n   post_spends KSTest pass control  mean TTest p-value  mean TTest pass  \\\n0                            False            0.582179              0.0   \n1                            False            0.592924              0.0   \n2                             True            0.232221              0.0   \n3                            False            0.467419              0.5   \n\n   mean KSTest p-value  mean KSTest pass  mean test score  \n0             0.552072               0.0         0.562108  \n1             0.540900               0.0         0.558241  \n2             0.047159               0.5         0.108846  \n3             0.282709               0.0         0.344279  \n\n[4 rows x 26 columns]"
     },
     "execution_count": 20,
     "metadata": {},
     "output_type": "execute_result"
    }
   ],
   "source": [
    "res.experiments"
   ]
  },
  {
   "cell_type": "code",
   "execution_count": 4,
   "id": "b92cc8a1c4cff6d7",
   "metadata": {
    "collapsed": false,
    "ExecuteTime": {
     "end_time": "2024-08-23T13:26:34.314713400Z",
     "start_time": "2024-08-23T13:26:24.894068800Z"
    }
   },
   "outputs": [
    {
     "ename": "ValueError",
     "evalue": "Cannot cast object dtype to int32: Error while type casting for column 'TTest'",
     "output_type": "error",
     "traceback": [
      "\u001B[1;31m---------------------------------------------------------------------------\u001B[0m",
      "\u001B[1;31mValueError\u001B[0m                                Traceback (most recent call last)",
      "File \u001B[1;32m~\\AppData\\Local\\Programs\\Python\\Python310\\lib\\site-packages\\pandas\\core\\arrays\\categorical.py:564\u001B[0m, in \u001B[0;36mCategorical.astype\u001B[1;34m(self, dtype, copy)\u001B[0m\n\u001B[0;32m    563\u001B[0m \u001B[38;5;28;01mtry\u001B[39;00m:\n\u001B[1;32m--> 564\u001B[0m     new_cats \u001B[38;5;241m=\u001B[39m \u001B[43mnew_cats\u001B[49m\u001B[38;5;241;43m.\u001B[39;49m\u001B[43mastype\u001B[49m\u001B[43m(\u001B[49m\u001B[43mdtype\u001B[49m\u001B[38;5;241;43m=\u001B[39;49m\u001B[43mdtype\u001B[49m\u001B[43m,\u001B[49m\u001B[43m \u001B[49m\u001B[43mcopy\u001B[49m\u001B[38;5;241;43m=\u001B[39;49m\u001B[43mcopy\u001B[49m\u001B[43m)\u001B[49m\n\u001B[0;32m    565\u001B[0m     fill_value \u001B[38;5;241m=\u001B[39m \u001B[38;5;28mself\u001B[39m\u001B[38;5;241m.\u001B[39mcategories\u001B[38;5;241m.\u001B[39m_na_value\n",
      "\u001B[1;31mValueError\u001B[0m: invalid literal for int() with base 10: 'NOT OK'",
      "\nDuring handling of the above exception, another exception occurred:\n",
      "\u001B[1;31mValueError\u001B[0m                                Traceback (most recent call last)",
      "Cell \u001B[1;32mIn[4], line 2\u001B[0m\n\u001B[0;32m      1\u001B[0m aa \u001B[38;5;241m=\u001B[39m AATest(n_iterations\u001B[38;5;241m=\u001B[39m\u001B[38;5;241m10\u001B[39m, sample_size\u001B[38;5;241m=\u001B[39m\u001B[38;5;241m0.3\u001B[39m)\n\u001B[1;32m----> 2\u001B[0m res \u001B[38;5;241m=\u001B[39m \u001B[43maa\u001B[49m\u001B[38;5;241;43m.\u001B[39;49m\u001B[43mexecute\u001B[49m\u001B[43m(\u001B[49m\u001B[43mdata\u001B[49m\u001B[43m)\u001B[49m\n",
      "File \u001B[1;32m~\\PycharmProjects\\HypEx\\hypex\\ui\\base.py:63\u001B[0m, in \u001B[0;36mExperimentShell.execute\u001B[1;34m(self, data)\u001B[0m\n\u001B[0;32m     61\u001B[0m     data \u001B[38;5;241m=\u001B[39m ExperimentData(data)\n\u001B[0;32m     62\u001B[0m result_experiment_data \u001B[38;5;241m=\u001B[39m \u001B[38;5;28mself\u001B[39m\u001B[38;5;241m.\u001B[39m_experiment\u001B[38;5;241m.\u001B[39mexecute(data)\n\u001B[1;32m---> 63\u001B[0m \u001B[38;5;28;43mself\u001B[39;49m\u001B[38;5;241;43m.\u001B[39;49m\u001B[43m_out\u001B[49m\u001B[38;5;241;43m.\u001B[39;49m\u001B[43mextract\u001B[49m\u001B[43m(\u001B[49m\u001B[43mresult_experiment_data\u001B[49m\u001B[43m)\u001B[49m\n\u001B[0;32m     64\u001B[0m \u001B[38;5;28;01mreturn\u001B[39;00m \u001B[38;5;28mself\u001B[39m\u001B[38;5;241m.\u001B[39m_out\n",
      "File \u001B[1;32m~\\PycharmProjects\\HypEx\\hypex\\ui\\aa.py:51\u001B[0m, in \u001B[0;36mAAOutput.extract\u001B[1;34m(self, experiment_data)\u001B[0m\n\u001B[0;32m     50\u001B[0m \u001B[38;5;28;01mdef\u001B[39;00m \u001B[38;5;21mextract\u001B[39m(\u001B[38;5;28mself\u001B[39m, experiment_data: ExperimentData):\n\u001B[1;32m---> 51\u001B[0m     \u001B[38;5;28;43msuper\u001B[39;49m\u001B[43m(\u001B[49m\u001B[43m)\u001B[49m\u001B[38;5;241;43m.\u001B[39;49m\u001B[43mextract\u001B[49m\u001B[43m(\u001B[49m\u001B[43mexperiment_data\u001B[49m\u001B[43m)\u001B[49m\n\u001B[0;32m     52\u001B[0m     \u001B[38;5;28mself\u001B[39m\u001B[38;5;241m.\u001B[39m_extract_experiments(experiment_data)\n\u001B[0;32m     53\u001B[0m     \u001B[38;5;28mself\u001B[39m\u001B[38;5;241m.\u001B[39m_extract_aa_score(experiment_data)\n",
      "File \u001B[1;32m~\\PycharmProjects\\HypEx\\hypex\\ui\\base.py:40\u001B[0m, in \u001B[0;36mOutput.extract\u001B[1;34m(self, experiment_data)\u001B[0m\n\u001B[0;32m     39\u001B[0m \u001B[38;5;28;01mdef\u001B[39;00m \u001B[38;5;21mextract\u001B[39m(\u001B[38;5;28mself\u001B[39m, experiment_data: ExperimentData):\n\u001B[1;32m---> 40\u001B[0m     \u001B[38;5;28;43mself\u001B[39;49m\u001B[38;5;241;43m.\u001B[39;49m\u001B[43m_extract_by_reporters\u001B[49m\u001B[43m(\u001B[49m\u001B[43mexperiment_data\u001B[49m\u001B[43m)\u001B[49m\n",
      "File \u001B[1;32m~\\PycharmProjects\\HypEx\\hypex\\ui\\base.py:22\u001B[0m, in \u001B[0;36mOutput._extract_by_reporters\u001B[1;34m(self, experiment_data)\u001B[0m\n\u001B[0;32m     21\u001B[0m \u001B[38;5;28;01mdef\u001B[39;00m \u001B[38;5;21m_extract_by_reporters\u001B[39m(\u001B[38;5;28mself\u001B[39m, experiment_data: ExperimentData):\n\u001B[1;32m---> 22\u001B[0m     \u001B[38;5;28mself\u001B[39m\u001B[38;5;241m.\u001B[39mresume \u001B[38;5;241m=\u001B[39m \u001B[38;5;28;43mself\u001B[39;49m\u001B[38;5;241;43m.\u001B[39;49m\u001B[43mresume_reporter\u001B[49m\u001B[38;5;241;43m.\u001B[39;49m\u001B[43mreport\u001B[49m\u001B[43m(\u001B[49m\u001B[43mexperiment_data\u001B[49m\u001B[43m)\u001B[49m\n\u001B[0;32m     23\u001B[0m     \u001B[38;5;28;01mfor\u001B[39;00m attribute, reporter \u001B[38;5;129;01min\u001B[39;00m \u001B[38;5;28mself\u001B[39m\u001B[38;5;241m.\u001B[39madditional_reporters\u001B[38;5;241m.\u001B[39mitems():\n\u001B[0;32m     24\u001B[0m         \u001B[38;5;28msetattr\u001B[39m(\u001B[38;5;28mself\u001B[39m, attribute, reporter\u001B[38;5;241m.\u001B[39mreport(experiment_data))\n",
      "File \u001B[1;32m~\\PycharmProjects\\HypEx\\hypex\\reporters\\aa.py:205\u001B[0m, in \u001B[0;36mAAPassedReporter.report\u001B[1;34m(self, data)\u001B[0m\n\u001B[0;32m    196\u001B[0m analyser_ids \u001B[38;5;241m=\u001B[39m data\u001B[38;5;241m.\u001B[39mget_ids(\n\u001B[0;32m    197\u001B[0m     \u001B[38;5;124m\"\u001B[39m\u001B[38;5;124mAAScoreAnalyzer\u001B[39m\u001B[38;5;124m\"\u001B[39m, ExperimentDataEnum\u001B[38;5;241m.\u001B[39manalysis_tables\n\u001B[0;32m    198\u001B[0m )\n\u001B[0;32m    199\u001B[0m analyser_tables \u001B[38;5;241m=\u001B[39m {\n\u001B[0;32m    200\u001B[0m     id_[id_\u001B[38;5;241m.\u001B[39mrfind(ID_SPLIT_SYMBOL) \u001B[38;5;241m+\u001B[39m \u001B[38;5;241m1\u001B[39m :]: data\u001B[38;5;241m.\u001B[39manalysis_tables[id_]\n\u001B[0;32m    201\u001B[0m     \u001B[38;5;28;01mfor\u001B[39;00m id_ \u001B[38;5;129;01min\u001B[39;00m analyser_ids[\u001B[38;5;124m\"\u001B[39m\u001B[38;5;124mAAScoreAnalyzer\u001B[39m\u001B[38;5;124m\"\u001B[39m][\n\u001B[0;32m    202\u001B[0m         ExperimentDataEnum\u001B[38;5;241m.\u001B[39manalysis_tables\u001B[38;5;241m.\u001B[39mvalue\n\u001B[0;32m    203\u001B[0m     ]\n\u001B[0;32m    204\u001B[0m }\n\u001B[1;32m--> 205\u001B[0m \u001B[38;5;28;01mreturn\u001B[39;00m \u001B[38;5;28;43mself\u001B[39;49m\u001B[38;5;241;43m.\u001B[39;49m\u001B[43m_detect_pass\u001B[49m\u001B[43m(\u001B[49m\u001B[43manalyser_tables\u001B[49m\u001B[43m)\u001B[49m\n",
      "File \u001B[1;32m~\\PycharmProjects\\HypEx\\hypex\\reporters\\aa.py:171\u001B[0m, in \u001B[0;36mAAPassedReporter._detect_pass\u001B[1;34m(self, analyzer_tables)\u001B[0m\n\u001B[0;32m    169\u001B[0m \u001B[38;5;28;01mdef\u001B[39;00m \u001B[38;5;21m_detect_pass\u001B[39m(\u001B[38;5;28mself\u001B[39m, analyzer_tables: Dict[\u001B[38;5;28mstr\u001B[39m, Dataset]):\n\u001B[0;32m    170\u001B[0m     score_table \u001B[38;5;241m=\u001B[39m \u001B[38;5;28mself\u001B[39m\u001B[38;5;241m.\u001B[39m_reformat_aa_score_table(analyzer_tables[\u001B[38;5;124m\"\u001B[39m\u001B[38;5;124maa score\u001B[39m\u001B[38;5;124m\"\u001B[39m])\n\u001B[1;32m--> 171\u001B[0m     best_split_table \u001B[38;5;241m=\u001B[39m \u001B[38;5;28;43mself\u001B[39;49m\u001B[38;5;241;43m.\u001B[39;49m\u001B[43m_reformat_best_split_table\u001B[49m\u001B[43m(\u001B[49m\n\u001B[0;32m    172\u001B[0m \u001B[43m        \u001B[49m\u001B[43manalyzer_tables\u001B[49m\u001B[43m[\u001B[49m\u001B[38;5;124;43m\"\u001B[39;49m\u001B[38;5;124;43mbest split statistics\u001B[39;49m\u001B[38;5;124;43m\"\u001B[39;49m\u001B[43m]\u001B[49m\n\u001B[0;32m    173\u001B[0m \u001B[43m    \u001B[49m\u001B[43m)\u001B[49m\n\u001B[0;32m    174\u001B[0m     resume_table \u001B[38;5;241m=\u001B[39m score_table \u001B[38;5;241m*\u001B[39m best_split_table\n\u001B[0;32m    175\u001B[0m     resume_table \u001B[38;5;241m=\u001B[39m resume_table\u001B[38;5;241m.\u001B[39mapply(\n\u001B[0;32m    176\u001B[0m         \u001B[38;5;28;01mlambda\u001B[39;00m x: \u001B[38;5;124m\"\u001B[39m\u001B[38;5;124mOK\u001B[39m\u001B[38;5;124m\"\u001B[39m \u001B[38;5;28;01mif\u001B[39;00m x\u001B[38;5;241m.\u001B[39msum() \u001B[38;5;241m>\u001B[39m \u001B[38;5;241m0\u001B[39m \u001B[38;5;28;01melse\u001B[39;00m \u001B[38;5;124m\"\u001B[39m\u001B[38;5;124mNOT OK\u001B[39m\u001B[38;5;124m\"\u001B[39m,\n\u001B[0;32m    177\u001B[0m         axis\u001B[38;5;241m=\u001B[39m\u001B[38;5;241m1\u001B[39m,\n\u001B[0;32m    178\u001B[0m         role\u001B[38;5;241m=\u001B[39m{\u001B[38;5;124m\"\u001B[39m\u001B[38;5;124mresult\u001B[39m\u001B[38;5;124m\"\u001B[39m: StatisticRole()},\n\u001B[0;32m    179\u001B[0m     )\n",
      "File \u001B[1;32m~\\PycharmProjects\\HypEx\\hypex\\reporters\\aa.py:166\u001B[0m, in \u001B[0;36mAAPassedReporter._reformat_best_split_table\u001B[1;34m(table)\u001B[0m\n\u001B[0;32m    162\u001B[0m passed \u001B[38;5;241m=\u001B[39m passed\u001B[38;5;241m.\u001B[39mrename(\n\u001B[0;32m    163\u001B[0m     names\u001B[38;5;241m=\u001B[39m{c: c[: c\u001B[38;5;241m.\u001B[39mrfind(\u001B[38;5;124m\"\u001B[39m\u001B[38;5;124mpass\u001B[39m\u001B[38;5;124m\"\u001B[39m) \u001B[38;5;241m-\u001B[39m \u001B[38;5;241m1\u001B[39m] \u001B[38;5;28;01mfor\u001B[39;00m c \u001B[38;5;129;01min\u001B[39;00m passed\u001B[38;5;241m.\u001B[39mcolumns}\n\u001B[0;32m    164\u001B[0m )\n\u001B[0;32m    165\u001B[0m passed\u001B[38;5;241m.\u001B[39mroles \u001B[38;5;241m=\u001B[39m {c: r\u001B[38;5;241m.\u001B[39m\u001B[38;5;18m__class__\u001B[39m(\u001B[38;5;28mint\u001B[39m) \u001B[38;5;28;01mfor\u001B[39;00m c, r \u001B[38;5;129;01min\u001B[39;00m passed\u001B[38;5;241m.\u001B[39mroles\u001B[38;5;241m.\u001B[39mitems()}\n\u001B[1;32m--> 166\u001B[0m passed \u001B[38;5;241m=\u001B[39m \u001B[43mpassed\u001B[49m\u001B[38;5;241;43m.\u001B[39;49m\u001B[43mreplace\u001B[49m\u001B[43m(\u001B[49m\u001B[38;5;124;43m\"\u001B[39;49m\u001B[38;5;124;43mOK\u001B[39;49m\u001B[38;5;124;43m\"\u001B[39;49m\u001B[43m,\u001B[49m\u001B[43m \u001B[49m\u001B[38;5;241;43m1\u001B[39;49m\u001B[43m)\u001B[49m\u001B[38;5;241m.\u001B[39mreplace(\u001B[38;5;124m\"\u001B[39m\u001B[38;5;124mNOT OK\u001B[39m\u001B[38;5;124m\"\u001B[39m, \u001B[38;5;241m0\u001B[39m)\n\u001B[0;32m    167\u001B[0m \u001B[38;5;28;01mreturn\u001B[39;00m passed\n",
      "File \u001B[1;32m~\\PycharmProjects\\HypEx\\hypex\\dataset\\dataset.py:600\u001B[0m, in \u001B[0;36mDataset.replace\u001B[1;34m(self, to_replace, value, regex)\u001B[0m\n\u001B[0;32m    594\u001B[0m \u001B[38;5;28;01mdef\u001B[39;00m \u001B[38;5;21mreplace\u001B[39m(\n\u001B[0;32m    595\u001B[0m     \u001B[38;5;28mself\u001B[39m,\n\u001B[0;32m    596\u001B[0m     to_replace: Any \u001B[38;5;241m=\u001B[39m \u001B[38;5;28;01mNone\u001B[39;00m,\n\u001B[0;32m    597\u001B[0m     value: Any \u001B[38;5;241m=\u001B[39m \u001B[38;5;28;01mNone\u001B[39;00m,\n\u001B[0;32m    598\u001B[0m     regex: \u001B[38;5;28mbool\u001B[39m \u001B[38;5;241m=\u001B[39m \u001B[38;5;28;01mFalse\u001B[39;00m,\n\u001B[0;32m    599\u001B[0m ) \u001B[38;5;241m-\u001B[39m\u001B[38;5;241m>\u001B[39m \u001B[38;5;124m\"\u001B[39m\u001B[38;5;124mDataset\u001B[39m\u001B[38;5;124m\"\u001B[39m:\n\u001B[1;32m--> 600\u001B[0m     \u001B[38;5;28;01mreturn\u001B[39;00m \u001B[43mDataset\u001B[49m\u001B[43m(\u001B[49m\n\u001B[0;32m    601\u001B[0m \u001B[43m        \u001B[49m\u001B[38;5;28;43mself\u001B[39;49m\u001B[38;5;241;43m.\u001B[39;49m\u001B[43mroles\u001B[49m\u001B[43m,\u001B[49m\n\u001B[0;32m    602\u001B[0m \u001B[43m        \u001B[49m\u001B[43mdata\u001B[49m\u001B[38;5;241;43m=\u001B[39;49m\u001B[38;5;28;43mself\u001B[39;49m\u001B[38;5;241;43m.\u001B[39;49m\u001B[43m_backend\u001B[49m\u001B[38;5;241;43m.\u001B[39;49m\u001B[43mreplace\u001B[49m\u001B[43m(\u001B[49m\u001B[43mto_replace\u001B[49m\u001B[38;5;241;43m=\u001B[39;49m\u001B[43mto_replace\u001B[49m\u001B[43m,\u001B[49m\u001B[43m \u001B[49m\u001B[43mvalue\u001B[49m\u001B[38;5;241;43m=\u001B[39;49m\u001B[43mvalue\u001B[49m\u001B[43m,\u001B[49m\u001B[43m \u001B[49m\u001B[43mregex\u001B[49m\u001B[38;5;241;43m=\u001B[39;49m\u001B[43mregex\u001B[49m\u001B[43m)\u001B[49m\u001B[43m,\u001B[49m\n\u001B[0;32m    603\u001B[0m \u001B[43m    \u001B[49m\u001B[43m)\u001B[49m\n",
      "File \u001B[1;32m~\\PycharmProjects\\HypEx\\hypex\\dataset\\dataset.py:79\u001B[0m, in \u001B[0;36mDataset.__init__\u001B[1;34m(self, roles, data, backend, default_role)\u001B[0m\n\u001B[0;32m     69\u001B[0m \u001B[38;5;28;01mdef\u001B[39;00m \u001B[38;5;21m__init__\u001B[39m(\n\u001B[0;32m     70\u001B[0m     \u001B[38;5;28mself\u001B[39m,\n\u001B[0;32m     71\u001B[0m     roles: Union[\n\u001B[1;32m   (...)\u001B[0m\n\u001B[0;32m     77\u001B[0m     default_role: Optional[ABCRole] \u001B[38;5;241m=\u001B[39m \u001B[38;5;28;01mNone\u001B[39;00m,\n\u001B[0;32m     78\u001B[0m ):\n\u001B[1;32m---> 79\u001B[0m     \u001B[38;5;28;43msuper\u001B[39;49m\u001B[43m(\u001B[49m\u001B[43m)\u001B[49m\u001B[38;5;241;43m.\u001B[39;49m\u001B[38;5;21;43m__init__\u001B[39;49m\u001B[43m(\u001B[49m\u001B[43mroles\u001B[49m\u001B[43m,\u001B[49m\u001B[43m \u001B[49m\u001B[43mdata\u001B[49m\u001B[43m,\u001B[49m\u001B[43m \u001B[49m\u001B[43mbackend\u001B[49m\u001B[43m,\u001B[49m\u001B[43m \u001B[49m\u001B[43mdefault_role\u001B[49m\u001B[43m)\u001B[49m\n\u001B[0;32m     80\u001B[0m     \u001B[38;5;28mself\u001B[39m\u001B[38;5;241m.\u001B[39mloc \u001B[38;5;241m=\u001B[39m \u001B[38;5;28mself\u001B[39m\u001B[38;5;241m.\u001B[39mLocker(\u001B[38;5;28mself\u001B[39m\u001B[38;5;241m.\u001B[39m_backend, \u001B[38;5;28mself\u001B[39m\u001B[38;5;241m.\u001B[39mroles)\n\u001B[0;32m     81\u001B[0m     \u001B[38;5;28mself\u001B[39m\u001B[38;5;241m.\u001B[39miloc \u001B[38;5;241m=\u001B[39m \u001B[38;5;28mself\u001B[39m\u001B[38;5;241m.\u001B[39mILocker(\u001B[38;5;28mself\u001B[39m\u001B[38;5;241m.\u001B[39m_backend, \u001B[38;5;28mself\u001B[39m\u001B[38;5;241m.\u001B[39mroles)\n",
      "File \u001B[1;32m~\\PycharmProjects\\HypEx\\hypex\\dataset\\abstract.py:93\u001B[0m, in \u001B[0;36mDatasetBase.__init__\u001B[1;34m(self, roles, data, backend, default_role)\u001B[0m\n\u001B[0;32m     91\u001B[0m \u001B[38;5;28;01mif\u001B[39;00m data \u001B[38;5;129;01mis\u001B[39;00m \u001B[38;5;129;01mnot\u001B[39;00m \u001B[38;5;28;01mNone\u001B[39;00m:\n\u001B[0;32m     92\u001B[0m     roles \u001B[38;5;241m=\u001B[39m \u001B[38;5;28mself\u001B[39m\u001B[38;5;241m.\u001B[39m_set_all_roles(roles)\n\u001B[1;32m---> 93\u001B[0m     \u001B[38;5;28;43mself\u001B[39;49m\u001B[38;5;241;43m.\u001B[39;49m\u001B[43m_set_empty_types\u001B[49m\u001B[43m(\u001B[49m\u001B[43mroles\u001B[49m\u001B[43m)\u001B[49m\n\u001B[0;32m     94\u001B[0m \u001B[38;5;28mself\u001B[39m\u001B[38;5;241m.\u001B[39m_roles: Dict[\u001B[38;5;28mstr\u001B[39m, ABCRole] \u001B[38;5;241m=\u001B[39m roles\n\u001B[0;32m     95\u001B[0m \u001B[38;5;28mself\u001B[39m\u001B[38;5;241m.\u001B[39m_tmp_roles: Union[\n\u001B[0;32m     96\u001B[0m     Dict[ABCRole, Union[List[\u001B[38;5;28mstr\u001B[39m], \u001B[38;5;28mstr\u001B[39m]], Dict[Union[List[\u001B[38;5;28mstr\u001B[39m], \u001B[38;5;28mstr\u001B[39m], ABCRole]\n\u001B[0;32m     97\u001B[0m ] \u001B[38;5;241m=\u001B[39m {}\n",
      "File \u001B[1;32m~\\PycharmProjects\\HypEx\\hypex\\dataset\\abstract.py:62\u001B[0m, in \u001B[0;36mDatasetBase._set_empty_types\u001B[1;34m(self, roles)\u001B[0m\n\u001B[0;32m     59\u001B[0m     d_type \u001B[38;5;241m=\u001B[39m \u001B[38;5;28mself\u001B[39m\u001B[38;5;241m.\u001B[39mbackend\u001B[38;5;241m.\u001B[39mget_column_type(column)\n\u001B[0;32m     61\u001B[0m     role\u001B[38;5;241m.\u001B[39mdata_type \u001B[38;5;241m=\u001B[39m [v \u001B[38;5;28;01mfor\u001B[39;00m k, v \u001B[38;5;129;01min\u001B[39;00m types_map\u001B[38;5;241m.\u001B[39mitems() \u001B[38;5;28;01mif\u001B[39;00m k \u001B[38;5;129;01min\u001B[39;00m d_type][\u001B[38;5;241m0\u001B[39m]\n\u001B[1;32m---> 62\u001B[0m \u001B[38;5;28mself\u001B[39m\u001B[38;5;241m.\u001B[39m_backend \u001B[38;5;241m=\u001B[39m \u001B[38;5;28;43mself\u001B[39;49m\u001B[38;5;241;43m.\u001B[39;49m\u001B[43mbackend\u001B[49m\u001B[38;5;241;43m.\u001B[39;49m\u001B[43mupdate_column_type\u001B[49m\u001B[43m(\u001B[49m\n\u001B[0;32m     63\u001B[0m \u001B[43m    \u001B[49m\u001B[43mcolumn\u001B[49m\u001B[43m,\u001B[49m\u001B[43m \u001B[49m\u001B[43mreversed_map\u001B[49m\u001B[43m[\u001B[49m\u001B[43mrole\u001B[49m\u001B[38;5;241;43m.\u001B[39;49m\u001B[43mdata_type\u001B[49m\u001B[43m]\u001B[49m\n\u001B[0;32m     64\u001B[0m \u001B[43m\u001B[49m\u001B[43m)\u001B[49m\n",
      "File \u001B[1;32m~\\PycharmProjects\\HypEx\\hypex\\dataset\\backends\\pandas_backend.py:196\u001B[0m, in \u001B[0;36mPandasNavigation.update_column_type\u001B[1;34m(self, column_name, type_name)\u001B[0m\n\u001B[0;32m    194\u001B[0m \u001B[38;5;28;01mdef\u001B[39;00m \u001B[38;5;21mupdate_column_type\u001B[39m(\u001B[38;5;28mself\u001B[39m, column_name: \u001B[38;5;28mstr\u001B[39m, type_name: \u001B[38;5;28mstr\u001B[39m):\n\u001B[0;32m    195\u001B[0m     \u001B[38;5;28;01mif\u001B[39;00m \u001B[38;5;28mself\u001B[39m\u001B[38;5;241m.\u001B[39mdata[column_name]\u001B[38;5;241m.\u001B[39misna()\u001B[38;5;241m.\u001B[39msum() \u001B[38;5;241m==\u001B[39m \u001B[38;5;241m0\u001B[39m:\n\u001B[1;32m--> 196\u001B[0m         \u001B[38;5;28mself\u001B[39m\u001B[38;5;241m.\u001B[39mdata \u001B[38;5;241m=\u001B[39m \u001B[38;5;28;43mself\u001B[39;49m\u001B[38;5;241;43m.\u001B[39;49m\u001B[43mdata\u001B[49m\u001B[38;5;241;43m.\u001B[39;49m\u001B[43mastype\u001B[49m\u001B[43m(\u001B[49m\u001B[43m{\u001B[49m\u001B[43mcolumn_name\u001B[49m\u001B[43m:\u001B[49m\u001B[43m \u001B[49m\u001B[43mtype_name\u001B[49m\u001B[43m}\u001B[49m\u001B[43m)\u001B[49m\n\u001B[0;32m    197\u001B[0m     \u001B[38;5;28;01mreturn\u001B[39;00m \u001B[38;5;28mself\u001B[39m\n",
      "File \u001B[1;32m~\\AppData\\Local\\Programs\\Python\\Python310\\lib\\site-packages\\pandas\\core\\generic.py:6513\u001B[0m, in \u001B[0;36mNDFrame.astype\u001B[1;34m(self, dtype, copy, errors)\u001B[0m\n\u001B[0;32m   6511\u001B[0m \u001B[38;5;28;01melse\u001B[39;00m:\n\u001B[0;32m   6512\u001B[0m     \u001B[38;5;28;01mtry\u001B[39;00m:\n\u001B[1;32m-> 6513\u001B[0m         res_col \u001B[38;5;241m=\u001B[39m \u001B[43mcol\u001B[49m\u001B[38;5;241;43m.\u001B[39;49m\u001B[43mastype\u001B[49m\u001B[43m(\u001B[49m\u001B[43mdtype\u001B[49m\u001B[38;5;241;43m=\u001B[39;49m\u001B[43mcdt\u001B[49m\u001B[43m,\u001B[49m\u001B[43m \u001B[49m\u001B[43mcopy\u001B[49m\u001B[38;5;241;43m=\u001B[39;49m\u001B[43mcopy\u001B[49m\u001B[43m,\u001B[49m\u001B[43m \u001B[49m\u001B[43merrors\u001B[49m\u001B[38;5;241;43m=\u001B[39;49m\u001B[43merrors\u001B[49m\u001B[43m)\u001B[49m\n\u001B[0;32m   6514\u001B[0m     \u001B[38;5;28;01mexcept\u001B[39;00m \u001B[38;5;167;01mValueError\u001B[39;00m \u001B[38;5;28;01mas\u001B[39;00m ex:\n\u001B[0;32m   6515\u001B[0m         ex\u001B[38;5;241m.\u001B[39margs \u001B[38;5;241m=\u001B[39m (\n\u001B[0;32m   6516\u001B[0m             \u001B[38;5;124mf\u001B[39m\u001B[38;5;124m\"\u001B[39m\u001B[38;5;132;01m{\u001B[39;00mex\u001B[38;5;132;01m}\u001B[39;00m\u001B[38;5;124m: Error while type casting for column \u001B[39m\u001B[38;5;124m'\u001B[39m\u001B[38;5;132;01m{\u001B[39;00mcol_name\u001B[38;5;132;01m}\u001B[39;00m\u001B[38;5;124m'\u001B[39m\u001B[38;5;124m\"\u001B[39m,\n\u001B[0;32m   6517\u001B[0m         )\n",
      "File \u001B[1;32m~\\AppData\\Local\\Programs\\Python\\Python310\\lib\\site-packages\\pandas\\core\\generic.py:6534\u001B[0m, in \u001B[0;36mNDFrame.astype\u001B[1;34m(self, dtype, copy, errors)\u001B[0m\n\u001B[0;32m   6530\u001B[0m     results \u001B[38;5;241m=\u001B[39m [ser\u001B[38;5;241m.\u001B[39mastype(dtype, copy\u001B[38;5;241m=\u001B[39mcopy) \u001B[38;5;28;01mfor\u001B[39;00m _, ser \u001B[38;5;129;01min\u001B[39;00m \u001B[38;5;28mself\u001B[39m\u001B[38;5;241m.\u001B[39mitems()]\n\u001B[0;32m   6532\u001B[0m \u001B[38;5;28;01melse\u001B[39;00m:\n\u001B[0;32m   6533\u001B[0m     \u001B[38;5;66;03m# else, only a single dtype is given\u001B[39;00m\n\u001B[1;32m-> 6534\u001B[0m     new_data \u001B[38;5;241m=\u001B[39m \u001B[38;5;28;43mself\u001B[39;49m\u001B[38;5;241;43m.\u001B[39;49m\u001B[43m_mgr\u001B[49m\u001B[38;5;241;43m.\u001B[39;49m\u001B[43mastype\u001B[49m\u001B[43m(\u001B[49m\u001B[43mdtype\u001B[49m\u001B[38;5;241;43m=\u001B[39;49m\u001B[43mdtype\u001B[49m\u001B[43m,\u001B[49m\u001B[43m \u001B[49m\u001B[43mcopy\u001B[49m\u001B[38;5;241;43m=\u001B[39;49m\u001B[43mcopy\u001B[49m\u001B[43m,\u001B[49m\u001B[43m \u001B[49m\u001B[43merrors\u001B[49m\u001B[38;5;241;43m=\u001B[39;49m\u001B[43merrors\u001B[49m\u001B[43m)\u001B[49m\n\u001B[0;32m   6535\u001B[0m     res \u001B[38;5;241m=\u001B[39m \u001B[38;5;28mself\u001B[39m\u001B[38;5;241m.\u001B[39m_constructor_from_mgr(new_data, axes\u001B[38;5;241m=\u001B[39mnew_data\u001B[38;5;241m.\u001B[39maxes)\n\u001B[0;32m   6536\u001B[0m     \u001B[38;5;28;01mreturn\u001B[39;00m res\u001B[38;5;241m.\u001B[39m__finalize__(\u001B[38;5;28mself\u001B[39m, method\u001B[38;5;241m=\u001B[39m\u001B[38;5;124m\"\u001B[39m\u001B[38;5;124mastype\u001B[39m\u001B[38;5;124m\"\u001B[39m)\n",
      "File \u001B[1;32m~\\AppData\\Local\\Programs\\Python\\Python310\\lib\\site-packages\\pandas\\core\\internals\\managers.py:414\u001B[0m, in \u001B[0;36mBaseBlockManager.astype\u001B[1;34m(self, dtype, copy, errors)\u001B[0m\n\u001B[0;32m    411\u001B[0m \u001B[38;5;28;01melif\u001B[39;00m using_copy_on_write():\n\u001B[0;32m    412\u001B[0m     copy \u001B[38;5;241m=\u001B[39m \u001B[38;5;28;01mFalse\u001B[39;00m\n\u001B[1;32m--> 414\u001B[0m \u001B[38;5;28;01mreturn\u001B[39;00m \u001B[38;5;28;43mself\u001B[39;49m\u001B[38;5;241;43m.\u001B[39;49m\u001B[43mapply\u001B[49m\u001B[43m(\u001B[49m\n\u001B[0;32m    415\u001B[0m \u001B[43m    \u001B[49m\u001B[38;5;124;43m\"\u001B[39;49m\u001B[38;5;124;43mastype\u001B[39;49m\u001B[38;5;124;43m\"\u001B[39;49m\u001B[43m,\u001B[49m\n\u001B[0;32m    416\u001B[0m \u001B[43m    \u001B[49m\u001B[43mdtype\u001B[49m\u001B[38;5;241;43m=\u001B[39;49m\u001B[43mdtype\u001B[49m\u001B[43m,\u001B[49m\n\u001B[0;32m    417\u001B[0m \u001B[43m    \u001B[49m\u001B[43mcopy\u001B[49m\u001B[38;5;241;43m=\u001B[39;49m\u001B[43mcopy\u001B[49m\u001B[43m,\u001B[49m\n\u001B[0;32m    418\u001B[0m \u001B[43m    \u001B[49m\u001B[43merrors\u001B[49m\u001B[38;5;241;43m=\u001B[39;49m\u001B[43merrors\u001B[49m\u001B[43m,\u001B[49m\n\u001B[0;32m    419\u001B[0m \u001B[43m    \u001B[49m\u001B[43musing_cow\u001B[49m\u001B[38;5;241;43m=\u001B[39;49m\u001B[43musing_copy_on_write\u001B[49m\u001B[43m(\u001B[49m\u001B[43m)\u001B[49m\u001B[43m,\u001B[49m\n\u001B[0;32m    420\u001B[0m \u001B[43m\u001B[49m\u001B[43m)\u001B[49m\n",
      "File \u001B[1;32m~\\AppData\\Local\\Programs\\Python\\Python310\\lib\\site-packages\\pandas\\core\\internals\\managers.py:354\u001B[0m, in \u001B[0;36mBaseBlockManager.apply\u001B[1;34m(self, f, align_keys, **kwargs)\u001B[0m\n\u001B[0;32m    352\u001B[0m         applied \u001B[38;5;241m=\u001B[39m b\u001B[38;5;241m.\u001B[39mapply(f, \u001B[38;5;241m*\u001B[39m\u001B[38;5;241m*\u001B[39mkwargs)\n\u001B[0;32m    353\u001B[0m     \u001B[38;5;28;01melse\u001B[39;00m:\n\u001B[1;32m--> 354\u001B[0m         applied \u001B[38;5;241m=\u001B[39m \u001B[38;5;28mgetattr\u001B[39m(b, f)(\u001B[38;5;241m*\u001B[39m\u001B[38;5;241m*\u001B[39mkwargs)\n\u001B[0;32m    355\u001B[0m     result_blocks \u001B[38;5;241m=\u001B[39m extend_blocks(applied, result_blocks)\n\u001B[0;32m    357\u001B[0m out \u001B[38;5;241m=\u001B[39m \u001B[38;5;28mtype\u001B[39m(\u001B[38;5;28mself\u001B[39m)\u001B[38;5;241m.\u001B[39mfrom_blocks(result_blocks, \u001B[38;5;28mself\u001B[39m\u001B[38;5;241m.\u001B[39maxes)\n",
      "File \u001B[1;32m~\\AppData\\Local\\Programs\\Python\\Python310\\lib\\site-packages\\pandas\\core\\internals\\blocks.py:616\u001B[0m, in \u001B[0;36mBlock.astype\u001B[1;34m(self, dtype, copy, errors, using_cow)\u001B[0m\n\u001B[0;32m    596\u001B[0m \u001B[38;5;124;03m\"\"\"\u001B[39;00m\n\u001B[0;32m    597\u001B[0m \u001B[38;5;124;03mCoerce to the new dtype.\u001B[39;00m\n\u001B[0;32m    598\u001B[0m \n\u001B[1;32m   (...)\u001B[0m\n\u001B[0;32m    612\u001B[0m \u001B[38;5;124;03mBlock\u001B[39;00m\n\u001B[0;32m    613\u001B[0m \u001B[38;5;124;03m\"\"\"\u001B[39;00m\n\u001B[0;32m    614\u001B[0m values \u001B[38;5;241m=\u001B[39m \u001B[38;5;28mself\u001B[39m\u001B[38;5;241m.\u001B[39mvalues\n\u001B[1;32m--> 616\u001B[0m new_values \u001B[38;5;241m=\u001B[39m \u001B[43mastype_array_safe\u001B[49m\u001B[43m(\u001B[49m\u001B[43mvalues\u001B[49m\u001B[43m,\u001B[49m\u001B[43m \u001B[49m\u001B[43mdtype\u001B[49m\u001B[43m,\u001B[49m\u001B[43m \u001B[49m\u001B[43mcopy\u001B[49m\u001B[38;5;241;43m=\u001B[39;49m\u001B[43mcopy\u001B[49m\u001B[43m,\u001B[49m\u001B[43m \u001B[49m\u001B[43merrors\u001B[49m\u001B[38;5;241;43m=\u001B[39;49m\u001B[43merrors\u001B[49m\u001B[43m)\u001B[49m\n\u001B[0;32m    618\u001B[0m new_values \u001B[38;5;241m=\u001B[39m maybe_coerce_values(new_values)\n\u001B[0;32m    620\u001B[0m refs \u001B[38;5;241m=\u001B[39m \u001B[38;5;28;01mNone\u001B[39;00m\n",
      "File \u001B[1;32m~\\AppData\\Local\\Programs\\Python\\Python310\\lib\\site-packages\\pandas\\core\\dtypes\\astype.py:238\u001B[0m, in \u001B[0;36mastype_array_safe\u001B[1;34m(values, dtype, copy, errors)\u001B[0m\n\u001B[0;32m    235\u001B[0m     dtype \u001B[38;5;241m=\u001B[39m dtype\u001B[38;5;241m.\u001B[39mnumpy_dtype\n\u001B[0;32m    237\u001B[0m \u001B[38;5;28;01mtry\u001B[39;00m:\n\u001B[1;32m--> 238\u001B[0m     new_values \u001B[38;5;241m=\u001B[39m \u001B[43mastype_array\u001B[49m\u001B[43m(\u001B[49m\u001B[43mvalues\u001B[49m\u001B[43m,\u001B[49m\u001B[43m \u001B[49m\u001B[43mdtype\u001B[49m\u001B[43m,\u001B[49m\u001B[43m \u001B[49m\u001B[43mcopy\u001B[49m\u001B[38;5;241;43m=\u001B[39;49m\u001B[43mcopy\u001B[49m\u001B[43m)\u001B[49m\n\u001B[0;32m    239\u001B[0m \u001B[38;5;28;01mexcept\u001B[39;00m (\u001B[38;5;167;01mValueError\u001B[39;00m, \u001B[38;5;167;01mTypeError\u001B[39;00m):\n\u001B[0;32m    240\u001B[0m     \u001B[38;5;66;03m# e.g. _astype_nansafe can fail on object-dtype of strings\u001B[39;00m\n\u001B[0;32m    241\u001B[0m     \u001B[38;5;66;03m#  trying to convert to float\u001B[39;00m\n\u001B[0;32m    242\u001B[0m     \u001B[38;5;28;01mif\u001B[39;00m errors \u001B[38;5;241m==\u001B[39m \u001B[38;5;124m\"\u001B[39m\u001B[38;5;124mignore\u001B[39m\u001B[38;5;124m\"\u001B[39m:\n",
      "File \u001B[1;32m~\\AppData\\Local\\Programs\\Python\\Python310\\lib\\site-packages\\pandas\\core\\dtypes\\astype.py:180\u001B[0m, in \u001B[0;36mastype_array\u001B[1;34m(values, dtype, copy)\u001B[0m\n\u001B[0;32m    176\u001B[0m     \u001B[38;5;28;01mreturn\u001B[39;00m values\n\u001B[0;32m    178\u001B[0m \u001B[38;5;28;01mif\u001B[39;00m \u001B[38;5;129;01mnot\u001B[39;00m \u001B[38;5;28misinstance\u001B[39m(values, np\u001B[38;5;241m.\u001B[39mndarray):\n\u001B[0;32m    179\u001B[0m     \u001B[38;5;66;03m# i.e. ExtensionArray\u001B[39;00m\n\u001B[1;32m--> 180\u001B[0m     values \u001B[38;5;241m=\u001B[39m \u001B[43mvalues\u001B[49m\u001B[38;5;241;43m.\u001B[39;49m\u001B[43mastype\u001B[49m\u001B[43m(\u001B[49m\u001B[43mdtype\u001B[49m\u001B[43m,\u001B[49m\u001B[43m \u001B[49m\u001B[43mcopy\u001B[49m\u001B[38;5;241;43m=\u001B[39;49m\u001B[43mcopy\u001B[49m\u001B[43m)\u001B[49m\n\u001B[0;32m    182\u001B[0m \u001B[38;5;28;01melse\u001B[39;00m:\n\u001B[0;32m    183\u001B[0m     values \u001B[38;5;241m=\u001B[39m _astype_nansafe(values, dtype, copy\u001B[38;5;241m=\u001B[39mcopy)\n",
      "File \u001B[1;32m~\\AppData\\Local\\Programs\\Python\\Python310\\lib\\site-packages\\pandas\\core\\arrays\\categorical.py:575\u001B[0m, in \u001B[0;36mCategorical.astype\u001B[1;34m(self, dtype, copy)\u001B[0m\n\u001B[0;32m    570\u001B[0m     \u001B[38;5;28;01mexcept\u001B[39;00m (\n\u001B[0;32m    571\u001B[0m         \u001B[38;5;167;01mTypeError\u001B[39;00m,  \u001B[38;5;66;03m# downstream error msg for CategoricalIndex is misleading\u001B[39;00m\n\u001B[0;32m    572\u001B[0m         \u001B[38;5;167;01mValueError\u001B[39;00m,\n\u001B[0;32m    573\u001B[0m     ):\n\u001B[0;32m    574\u001B[0m         msg \u001B[38;5;241m=\u001B[39m \u001B[38;5;124mf\u001B[39m\u001B[38;5;124m\"\u001B[39m\u001B[38;5;124mCannot cast \u001B[39m\u001B[38;5;132;01m{\u001B[39;00m\u001B[38;5;28mself\u001B[39m\u001B[38;5;241m.\u001B[39mcategories\u001B[38;5;241m.\u001B[39mdtype\u001B[38;5;132;01m}\u001B[39;00m\u001B[38;5;124m dtype to \u001B[39m\u001B[38;5;132;01m{\u001B[39;00mdtype\u001B[38;5;132;01m}\u001B[39;00m\u001B[38;5;124m\"\u001B[39m\n\u001B[1;32m--> 575\u001B[0m         \u001B[38;5;28;01mraise\u001B[39;00m \u001B[38;5;167;01mValueError\u001B[39;00m(msg)\n\u001B[0;32m    577\u001B[0m     result \u001B[38;5;241m=\u001B[39m take_nd(\n\u001B[0;32m    578\u001B[0m         new_cats, ensure_platform_int(\u001B[38;5;28mself\u001B[39m\u001B[38;5;241m.\u001B[39m_codes), fill_value\u001B[38;5;241m=\u001B[39mfill_value\n\u001B[0;32m    579\u001B[0m     )\n\u001B[0;32m    581\u001B[0m \u001B[38;5;28;01mreturn\u001B[39;00m result\n",
      "\u001B[1;31mValueError\u001B[0m: Cannot cast object dtype to int32: Error while type casting for column 'TTest'"
     ]
    }
   ],
   "source": [
    "aa = AATest(n_iterations=10, sample_size=0.3)\n",
    "res = aa.execute(data)"
   ]
  },
  {
   "cell_type": "code",
   "execution_count": null,
   "id": "6bc70b4602a73728",
   "metadata": {
    "collapsed": false,
    "ExecuteTime": {
     "end_time": "2024-08-23T13:19:02.503911500Z",
     "start_time": "2024-08-23T13:19:02.494519400Z"
    }
   },
   "outputs": [],
   "source": [
    "res.resume"
   ]
  },
  {
   "cell_type": "code",
   "execution_count": null,
   "id": "6abb8f31d2e1ff8b",
   "metadata": {
    "collapsed": false,
    "ExecuteTime": {
     "start_time": "2024-08-23T13:19:02.499425100Z"
    }
   },
   "outputs": [],
   "source": [
    "res.aa_score"
   ]
  },
  {
   "cell_type": "code",
   "execution_count": null,
   "id": "da256bacda715562",
   "metadata": {
    "collapsed": false,
    "ExecuteTime": {
     "start_time": "2024-08-23T13:19:02.503911500Z"
    }
   },
   "outputs": [],
   "source": [
    "res.best_split"
   ]
  },
  {
   "cell_type": "code",
   "execution_count": null,
   "id": "ab766f462ae739f9",
   "metadata": {
    "collapsed": false,
    "ExecuteTime": {
     "end_time": "2024-08-23T13:19:02.538992900Z",
     "start_time": "2024-08-23T13:19:02.507199100Z"
    }
   },
   "outputs": [],
   "source": [
    "res.best_split_statistic"
   ]
  },
  {
   "cell_type": "code",
   "execution_count": null,
   "id": "72df57c94a3d4f6d",
   "metadata": {
    "collapsed": false,
    "ExecuteTime": {
     "start_time": "2024-08-23T13:19:02.509325Z"
    }
   },
   "outputs": [],
   "source": [
    "res.experiments"
   ]
  }
 ],
 "metadata": {
  "kernelspec": {
   "display_name": "Python 3",
   "language": "python",
   "name": "python3"
  },
  "language_info": {
   "codemirror_mode": {
    "name": "ipython",
    "version": 3
   },
   "file_extension": ".py",
   "mimetype": "text/x-python",
   "name": "python",
   "nbconvert_exporter": "python",
   "pygments_lexer": "ipython3",
   "version": "3.10.13"
  }
 },
 "nbformat": 4,
 "nbformat_minor": 5
}
