{
 "cells": [
  {
   "cell_type": "markdown",
   "source": [
    "# AA test tutorial \n",
    "AA test is important part of randomized controlled experiment, for example AB test.\n",
    "\n",
    "The objectives of the AA test are to verify the assumption of uniformity of samples as a result of the applied partitioning method, to select the best partition from the available ones, and to verify the applicability of statistical criteria for checking uniformity.\n",
    "\n",
    "For example, there is a hypothesis about the absence of dependence of features on each other. If this hypothesis is not followed, the AA test will fail. "
   ],
   "metadata": {
    "collapsed": false
   },
   "id": "35b63454542e9139"
  },
  {
   "cell_type": "markdown",
   "source": [
    "<ul>\n",
    "  <li><a href=\"#creation-of-a-new-test-dataset-with-synthetic-data\">Creation of a new test dataset with synthetic data.\n",
    "  <li><a href=\"#one-split-of-aa-test\">One split of AA test.\n",
    "  <li><a href=\"#aa-test\">AA test.\n",
    "  <li><a href=\"#aa-test-with-stratification\">AA test with stratification.\n",
    "</ul>"
   ],
   "metadata": {
    "collapsed": false
   },
   "id": "d55e33194a3247f0"
  },
  {
   "cell_type": "code",
   "id": "f890151fc64fd3fa",
   "metadata": {
    "collapsed": false,
    "ExecuteTime": {
     "end_time": "2024-08-12T12:47:59.495773200Z",
     "start_time": "2024-08-12T12:47:56.696673900Z"
    }
   },
   "source": [
    "from hypex.dataset import Dataset, InfoRole, TreatmentRole, TargetRole, StratificationRole\n",
    "from hypex import AATest"
   ],
   "outputs": [
    {
     "name": "stderr",
     "output_type": "stream",
     "text": [
      "C:\\Users\\User\\AppData\\Local\\Programs\\Python\\Python310\\lib\\site-packages\\tqdm\\auto.py:21: TqdmWarning: IProgress not found. Please update jupyter and ipywidgets. See https://ipywidgets.readthedocs.io/en/stable/user_install.html\n",
      "  from .autonotebook import tqdm as notebook_tqdm\n"
     ]
    }
   ],
   "execution_count": 1
  },
  {
   "cell_type": "markdown",
   "source": [
    "## Creation of a new test dataset with synthetic data. \n",
    "\n",
    "It is important to mark the data fields by assigning the appropriate roles:\n",
    "- FeatureRole: a role for columns that contain features or predictor variables. Our split will be based on them. Applied by default if the role is not specified for the column.\n",
    "- TreatmentRole: a role for columns that show the treatment or intervention.\n",
    "- TargetRole: a role for columns that show the target or outcome variable.\n",
    "- InfoRole: a role for columns that contain information about the data, such as user IDs. "
   ],
   "metadata": {
    "collapsed": false
   },
   "id": "bd8ae5c13f2b538e"
  },
  {
   "cell_type": "code",
   "id": "70e663c02efb6980",
   "metadata": {
    "collapsed": false,
    "ExecuteTime": {
     "end_time": "2024-08-12T12:47:59.623864800Z",
     "start_time": "2024-08-12T12:47:59.498030800Z"
    }
   },
   "source": [
    "data = Dataset(\n",
    "    roles={\n",
    "        \"user_id\": InfoRole(int),\n",
    "        \"treat\": TreatmentRole(int),\n",
    "        \"pre_spends\": TargetRole(),\n",
    "        \"post_spends\": TargetRole(),\n",
    "        \"gender\": StratificationRole(str)\n",
    "    }, data=\"data.csv\",\n",
    ")\n",
    "data"
   ],
   "outputs": [
    {
     "data": {
      "text/plain": "      user_id  signup_month  treat  pre_spends  post_spends   age gender  \\\n0           0             0      0       488.0   414.444444   NaN      M   \n1           1             8      1       512.5   462.222222  26.0    NaN   \n2           2             7      1       483.0   479.444444  25.0      M   \n3           3             0      0       501.5   424.333333  39.0      M   \n4           4             1      1       543.0   514.555556  18.0      F   \n...       ...           ...    ...         ...          ...   ...    ...   \n9995     9995            10      1       538.5   450.444444  42.0      M   \n9996     9996             0      0       500.5   430.888889  26.0      F   \n9997     9997             3      1       473.0   534.111111  22.0      F   \n9998     9998             2      1       495.0   523.222222  67.0      F   \n9999     9999             7      1       508.0   475.888889  38.0      F   \n\n        industry  \n0     E-commerce  \n1     E-commerce  \n2      Logistics  \n3     E-commerce  \n4     E-commerce  \n...          ...  \n9995   Logistics  \n9996   Logistics  \n9997  E-commerce  \n9998  E-commerce  \n9999  E-commerce  \n\n[10000 rows x 8 columns]"
     },
     "execution_count": 2,
     "metadata": {},
     "output_type": "execute_result"
    }
   ],
   "execution_count": 2
  },
  {
   "cell_type": "markdown",
   "source": [
    "## AA test\n",
    "We can set number of iterations for simple execution. In this case random state is number of each iteration."
   ],
   "metadata": {
    "collapsed": false
   },
   "id": "fb03d99c85e1216d"
  },
  {
   "cell_type": "code",
   "id": "initial_id",
   "metadata": {
    "collapsed": true,
    "ExecuteTime": {
     "end_time": "2024-08-12T12:48:07.300652Z",
     "start_time": "2024-08-12T12:47:59.620863800Z"
    }
   },
   "source": [
    "aa = AATest(n_iterations=10)\n",
    "res = aa.execute(data)"
   ],
   "outputs": [
    {
     "ename": "TypeError",
     "evalue": "'builtin_function_or_method' object is not iterable",
     "output_type": "error",
     "traceback": [
      "\u001B[1;31m---------------------------------------------------------------------------\u001B[0m",
      "\u001B[1;31mTypeError\u001B[0m                                 Traceback (most recent call last)",
      "Cell \u001B[1;32mIn[3], line 2\u001B[0m\n\u001B[0;32m      1\u001B[0m aa \u001B[38;5;241m=\u001B[39m AATest(n_iterations\u001B[38;5;241m=\u001B[39m\u001B[38;5;241m10\u001B[39m)\n\u001B[1;32m----> 2\u001B[0m res \u001B[38;5;241m=\u001B[39m \u001B[43maa\u001B[49m\u001B[38;5;241;43m.\u001B[39;49m\u001B[43mexecute\u001B[49m\u001B[43m(\u001B[49m\u001B[43mdata\u001B[49m\u001B[43m)\u001B[49m\n",
      "File \u001B[1;32m~\\PycharmProjects\\HypEx\\hypex\\ui\\base.py:63\u001B[0m, in \u001B[0;36mExperimentShell.execute\u001B[1;34m(self, data)\u001B[0m\n\u001B[0;32m     61\u001B[0m     data \u001B[38;5;241m=\u001B[39m ExperimentData(data)\n\u001B[0;32m     62\u001B[0m result_experiment_data \u001B[38;5;241m=\u001B[39m \u001B[38;5;28mself\u001B[39m\u001B[38;5;241m.\u001B[39m_experiment\u001B[38;5;241m.\u001B[39mexecute(data)\n\u001B[1;32m---> 63\u001B[0m \u001B[38;5;28;43mself\u001B[39;49m\u001B[38;5;241;43m.\u001B[39;49m\u001B[43m_out\u001B[49m\u001B[38;5;241;43m.\u001B[39;49m\u001B[43mextract\u001B[49m\u001B[43m(\u001B[49m\u001B[43mresult_experiment_data\u001B[49m\u001B[43m)\u001B[49m\n\u001B[0;32m     64\u001B[0m \u001B[38;5;28;01mreturn\u001B[39;00m \u001B[38;5;28mself\u001B[39m\u001B[38;5;241m.\u001B[39m_out\n",
      "File \u001B[1;32m~\\PycharmProjects\\HypEx\\hypex\\ui\\aa.py:51\u001B[0m, in \u001B[0;36mAAOutput.extract\u001B[1;34m(self, experiment_data)\u001B[0m\n\u001B[0;32m     50\u001B[0m \u001B[38;5;28;01mdef\u001B[39;00m \u001B[38;5;21mextract\u001B[39m(\u001B[38;5;28mself\u001B[39m, experiment_data: ExperimentData):\n\u001B[1;32m---> 51\u001B[0m     \u001B[38;5;28;43msuper\u001B[39;49m\u001B[43m(\u001B[49m\u001B[43m)\u001B[49m\u001B[38;5;241;43m.\u001B[39;49m\u001B[43mextract\u001B[49m\u001B[43m(\u001B[49m\u001B[43mexperiment_data\u001B[49m\u001B[43m)\u001B[49m\n\u001B[0;32m     52\u001B[0m     \u001B[38;5;28mself\u001B[39m\u001B[38;5;241m.\u001B[39m_extract_experiments(experiment_data)\n\u001B[0;32m     53\u001B[0m     \u001B[38;5;28mself\u001B[39m\u001B[38;5;241m.\u001B[39m_extract_aa_score(experiment_data)\n",
      "File \u001B[1;32m~\\PycharmProjects\\HypEx\\hypex\\ui\\base.py:40\u001B[0m, in \u001B[0;36mOutput.extract\u001B[1;34m(self, experiment_data)\u001B[0m\n\u001B[0;32m     39\u001B[0m \u001B[38;5;28;01mdef\u001B[39;00m \u001B[38;5;21mextract\u001B[39m(\u001B[38;5;28mself\u001B[39m, experiment_data: ExperimentData):\n\u001B[1;32m---> 40\u001B[0m     \u001B[38;5;28;43mself\u001B[39;49m\u001B[38;5;241;43m.\u001B[39;49m\u001B[43m_extract_by_reporters\u001B[49m\u001B[43m(\u001B[49m\u001B[43mexperiment_data\u001B[49m\u001B[43m)\u001B[49m\n",
      "File \u001B[1;32m~\\PycharmProjects\\HypEx\\hypex\\ui\\base.py:22\u001B[0m, in \u001B[0;36mOutput._extract_by_reporters\u001B[1;34m(self, experiment_data)\u001B[0m\n\u001B[0;32m     21\u001B[0m \u001B[38;5;28;01mdef\u001B[39;00m \u001B[38;5;21m_extract_by_reporters\u001B[39m(\u001B[38;5;28mself\u001B[39m, experiment_data: ExperimentData):\n\u001B[1;32m---> 22\u001B[0m     \u001B[38;5;28mself\u001B[39m\u001B[38;5;241m.\u001B[39mresume \u001B[38;5;241m=\u001B[39m \u001B[38;5;28;43mself\u001B[39;49m\u001B[38;5;241;43m.\u001B[39;49m\u001B[43mresume_reporter\u001B[49m\u001B[38;5;241;43m.\u001B[39;49m\u001B[43mreport\u001B[49m\u001B[43m(\u001B[49m\u001B[43mexperiment_data\u001B[49m\u001B[43m)\u001B[49m\n\u001B[0;32m     23\u001B[0m     \u001B[38;5;28;01mfor\u001B[39;00m attribute, reporter \u001B[38;5;129;01min\u001B[39;00m \u001B[38;5;28mself\u001B[39m\u001B[38;5;241m.\u001B[39madditional_reporters\u001B[38;5;241m.\u001B[39mitems():\n\u001B[0;32m     24\u001B[0m         \u001B[38;5;28msetattr\u001B[39m(\u001B[38;5;28mself\u001B[39m, attribute, reporter\u001B[38;5;241m.\u001B[39mreport(experiment_data))\n",
      "File \u001B[1;32m~\\PycharmProjects\\HypEx\\hypex\\reporters\\aa.py:205\u001B[0m, in \u001B[0;36mAAPassedReporter.report\u001B[1;34m(self, data)\u001B[0m\n\u001B[0;32m    196\u001B[0m analyser_ids \u001B[38;5;241m=\u001B[39m data\u001B[38;5;241m.\u001B[39mget_ids(\n\u001B[0;32m    197\u001B[0m     \u001B[38;5;124m\"\u001B[39m\u001B[38;5;124mAAScoreAnalyzer\u001B[39m\u001B[38;5;124m\"\u001B[39m, ExperimentDataEnum\u001B[38;5;241m.\u001B[39manalysis_tables\n\u001B[0;32m    198\u001B[0m )\n\u001B[0;32m    199\u001B[0m analyser_tables \u001B[38;5;241m=\u001B[39m {\n\u001B[0;32m    200\u001B[0m     id_[id_\u001B[38;5;241m.\u001B[39mrfind(ID_SPLIT_SYMBOL) \u001B[38;5;241m+\u001B[39m \u001B[38;5;241m1\u001B[39m :]: data\u001B[38;5;241m.\u001B[39manalysis_tables[id_]\n\u001B[0;32m    201\u001B[0m     \u001B[38;5;28;01mfor\u001B[39;00m id_ \u001B[38;5;129;01min\u001B[39;00m analyser_ids[\u001B[38;5;124m\"\u001B[39m\u001B[38;5;124mAAScoreAnalyzer\u001B[39m\u001B[38;5;124m\"\u001B[39m][\n\u001B[0;32m    202\u001B[0m         ExperimentDataEnum\u001B[38;5;241m.\u001B[39manalysis_tables\u001B[38;5;241m.\u001B[39mvalue\n\u001B[0;32m    203\u001B[0m     ]\n\u001B[0;32m    204\u001B[0m }\n\u001B[1;32m--> 205\u001B[0m \u001B[38;5;28;01mreturn\u001B[39;00m \u001B[38;5;28;43mself\u001B[39;49m\u001B[38;5;241;43m.\u001B[39;49m\u001B[43m_detect_pass\u001B[49m\u001B[43m(\u001B[49m\u001B[43manalyser_tables\u001B[49m\u001B[43m)\u001B[49m\n",
      "File \u001B[1;32m~\\PycharmProjects\\HypEx\\hypex\\reporters\\aa.py:170\u001B[0m, in \u001B[0;36mAAPassedReporter._detect_pass\u001B[1;34m(self, analyzer_tables)\u001B[0m\n\u001B[0;32m    169\u001B[0m \u001B[38;5;28;01mdef\u001B[39;00m \u001B[38;5;21m_detect_pass\u001B[39m(\u001B[38;5;28mself\u001B[39m, analyzer_tables: Dict[\u001B[38;5;28mstr\u001B[39m, Dataset]):\n\u001B[1;32m--> 170\u001B[0m     score_table \u001B[38;5;241m=\u001B[39m \u001B[38;5;28;43mself\u001B[39;49m\u001B[38;5;241;43m.\u001B[39;49m\u001B[43m_reformat_aa_score_table\u001B[49m\u001B[43m(\u001B[49m\u001B[43manalyzer_tables\u001B[49m\u001B[43m[\u001B[49m\u001B[38;5;124;43m\"\u001B[39;49m\u001B[38;5;124;43maa score\u001B[39;49m\u001B[38;5;124;43m\"\u001B[39;49m\u001B[43m]\u001B[49m\u001B[43m)\u001B[49m\n\u001B[0;32m    171\u001B[0m     best_split_table \u001B[38;5;241m=\u001B[39m \u001B[38;5;28mself\u001B[39m\u001B[38;5;241m.\u001B[39m_reformat_best_split_table(\n\u001B[0;32m    172\u001B[0m         analyzer_tables[\u001B[38;5;124m\"\u001B[39m\u001B[38;5;124mbest split statistics\u001B[39m\u001B[38;5;124m\"\u001B[39m]\n\u001B[0;32m    173\u001B[0m     )\n\u001B[0;32m    174\u001B[0m     resume_table \u001B[38;5;241m=\u001B[39m score_table \u001B[38;5;241m*\u001B[39m best_split_table\n",
      "File \u001B[1;32m~\\PycharmProjects\\HypEx\\hypex\\reporters\\aa.py:142\u001B[0m, in \u001B[0;36mAAPassedReporter._reformat_aa_score_table\u001B[1;34m(table)\u001B[0m\n\u001B[0;32m    139\u001B[0m \u001B[38;5;129m@staticmethod\u001B[39m\n\u001B[0;32m    140\u001B[0m \u001B[38;5;28;01mdef\u001B[39;00m \u001B[38;5;21m_reformat_aa_score_table\u001B[39m(table: Dataset) \u001B[38;5;241m-\u001B[39m\u001B[38;5;241m>\u001B[39m Dataset:\n\u001B[0;32m    141\u001B[0m     result \u001B[38;5;241m=\u001B[39m {}\n\u001B[1;32m--> 142\u001B[0m     \u001B[38;5;28;01mfor\u001B[39;00m ind \u001B[38;5;129;01min\u001B[39;00m table\u001B[38;5;241m.\u001B[39mindex:\n\u001B[0;32m    143\u001B[0m         splitted_index \u001B[38;5;241m=\u001B[39m ind\u001B[38;5;241m.\u001B[39msplit(ID_SPLIT_SYMBOL)\n\u001B[0;32m    144\u001B[0m         row_index \u001B[38;5;241m=\u001B[39m \u001B[38;5;124mf\u001B[39m\u001B[38;5;124m\"\u001B[39m\u001B[38;5;132;01m{\u001B[39;00msplitted_index[\u001B[38;5;241m0\u001B[39m]\u001B[38;5;132;01m}\u001B[39;00m\u001B[38;5;132;01m{\u001B[39;00mID_SPLIT_SYMBOL\u001B[38;5;132;01m}\u001B[39;00m\u001B[38;5;132;01m{\u001B[39;00msplitted_index[\u001B[38;5;241m-\u001B[39m\u001B[38;5;241m1\u001B[39m]\u001B[38;5;132;01m}\u001B[39;00m\u001B[38;5;124m\"\u001B[39m\n",
      "\u001B[1;31mTypeError\u001B[0m: 'builtin_function_or_method' object is not iterable"
     ]
    }
   ],
   "execution_count": 3
  },
  {
   "cell_type": "code",
   "id": "41e9963a",
   "metadata": {
    "ExecuteTime": {
     "end_time": "2024-08-12T12:48:07.328916200Z",
     "start_time": "2024-08-12T12:48:07.303268Z"
    }
   },
   "source": [
    "res.resume"
   ],
   "outputs": [],
   "execution_count": null
  },
  {
   "cell_type": "code",
   "id": "50ae28a8",
   "metadata": {
    "ExecuteTime": {
     "start_time": "2024-08-12T12:48:07.309499900Z"
    }
   },
   "source": [
    "res.aa_score"
   ],
   "outputs": [],
   "execution_count": null
  },
  {
   "cell_type": "code",
   "id": "cc42c534",
   "metadata": {
    "ExecuteTime": {
     "start_time": "2024-08-12T12:48:07.314032600Z"
    }
   },
   "source": [
    "res.best_split"
   ],
   "outputs": [],
   "execution_count": null
  },
  {
   "cell_type": "code",
   "id": "18351884",
   "metadata": {
    "ExecuteTime": {
     "start_time": "2024-08-12T12:48:07.317514900Z"
    }
   },
   "source": [
    "res.best_split_statistic"
   ],
   "outputs": [],
   "execution_count": null
  },
  {
   "cell_type": "code",
   "id": "0da18405",
   "metadata": {
    "ExecuteTime": {
     "start_time": "2024-08-12T12:48:07.322750400Z"
    }
   },
   "source": [
    "res.experiments"
   ],
   "outputs": [],
   "execution_count": null
  },
  {
   "cell_type": "markdown",
   "source": [
    "# AA Test with random states\n",
    "\n",
    "We can set random states for each execution. In this case number of random states equals number of execution. "
   ],
   "metadata": {
    "collapsed": false
   },
   "id": "76c81d6d6570d58f"
  },
  {
   "cell_type": "code",
   "id": "a6038ed8",
   "metadata": {
    "ExecuteTime": {
     "end_time": "2024-08-12T12:48:07.381588900Z",
     "start_time": "2024-08-12T12:48:07.329914800Z"
    }
   },
   "source": [
    "aa = AATest(random_states=[56, 72, 2, 43])\n",
    "res = aa.execute(data)"
   ],
   "outputs": [],
   "execution_count": null
  },
  {
   "cell_type": "code",
   "source": [
    "res.resume"
   ],
   "metadata": {
    "collapsed": false,
    "ExecuteTime": {
     "start_time": "2024-08-12T12:48:07.334400700Z"
    }
   },
   "id": "6bebccfe9b91ae2e",
   "outputs": [],
   "execution_count": null
  },
  {
   "cell_type": "code",
   "source": [
    "res.aa_score"
   ],
   "metadata": {
    "collapsed": false,
    "ExecuteTime": {
     "start_time": "2024-08-12T12:48:07.340679500Z"
    }
   },
   "id": "2a6d8f9df6978913",
   "outputs": [],
   "execution_count": null
  },
  {
   "cell_type": "code",
   "source": [
    "res.best_split"
   ],
   "metadata": {
    "collapsed": false,
    "ExecuteTime": {
     "start_time": "2024-08-12T12:48:07.348992300Z"
    }
   },
   "id": "e318afc40736069d",
   "outputs": [],
   "execution_count": null
  },
  {
   "cell_type": "code",
   "source": [
    "res.best_split_statistic"
   ],
   "metadata": {
    "collapsed": false,
    "ExecuteTime": {
     "start_time": "2024-08-12T12:48:07.354141800Z"
    }
   },
   "id": "bd1a332ab687cef",
   "outputs": [],
   "execution_count": null
  },
  {
   "cell_type": "code",
   "source": [
    "res.experiments"
   ],
   "metadata": {
    "collapsed": false,
    "ExecuteTime": {
     "start_time": "2024-08-12T12:48:07.357557500Z"
    }
   },
   "id": "96b29db891fa2462",
   "outputs": [],
   "execution_count": null
  },
  {
   "cell_type": "markdown",
   "source": [
    "# AA Test with stratification\n",
    "\n",
    "Depends on your needs it is possible to stratify data. You can set `stratification=True` and StratificationRole in Dataset to run it.  "
   ],
   "metadata": {
    "collapsed": false
   },
   "id": "1b37db00a1a4a49f"
  },
  {
   "cell_type": "code",
   "source": [
    "aa = AATest(random_states=[56, 72, 2, 43], stratification=True)\n",
    "res = aa.execute(data)"
   ],
   "metadata": {
    "collapsed": false,
    "ExecuteTime": {
     "start_time": "2024-08-12T12:48:07.359967600Z"
    }
   },
   "id": "da9ab2f374ce1273",
   "outputs": [],
   "execution_count": null
  },
  {
   "cell_type": "code",
   "source": [
    "res.resume"
   ],
   "metadata": {
    "collapsed": false,
    "ExecuteTime": {
     "start_time": "2024-08-12T12:48:07.362288900Z"
    }
   },
   "id": "fb5bc9076cb36af9",
   "outputs": [],
   "execution_count": null
  },
  {
   "cell_type": "code",
   "source": [
    "res.aa_score"
   ],
   "metadata": {
    "collapsed": false,
    "ExecuteTime": {
     "start_time": "2024-08-12T12:48:07.365289400Z"
    }
   },
   "id": "5eca1aebeb06da2",
   "outputs": [],
   "execution_count": null
  },
  {
   "cell_type": "code",
   "source": [
    "res.best_split"
   ],
   "metadata": {
    "collapsed": false,
    "ExecuteTime": {
     "start_time": "2024-08-12T12:48:07.367287Z"
    }
   },
   "id": "4e5730bdf7983f7d",
   "outputs": [],
   "execution_count": null
  },
  {
   "cell_type": "code",
   "source": [
    "res.best_split_statistic"
   ],
   "metadata": {
    "collapsed": false,
    "ExecuteTime": {
     "start_time": "2024-08-12T12:48:07.370993200Z"
    }
   },
   "id": "7cdeba119b04476e",
   "outputs": [],
   "execution_count": null
  },
  {
   "cell_type": "code",
   "source": [
    "res.experiments"
   ],
   "metadata": {
    "collapsed": false,
    "ExecuteTime": {
     "start_time": "2024-08-12T12:48:07.373006900Z"
    }
   },
   "id": "6a63a08bceb2f40a",
   "outputs": [],
   "execution_count": null
  }
 ],
 "metadata": {
  "kernelspec": {
   "display_name": "Python 3",
   "language": "python",
   "name": "python3"
  },
  "language_info": {
   "codemirror_mode": {
    "name": "ipython",
    "version": 3
   },
   "file_extension": ".py",
   "mimetype": "text/x-python",
   "name": "python",
   "nbconvert_exporter": "python",
   "pygments_lexer": "ipython3",
   "version": "3.10.11"
  }
 },
 "nbformat": 4,
 "nbformat_minor": 5
}
