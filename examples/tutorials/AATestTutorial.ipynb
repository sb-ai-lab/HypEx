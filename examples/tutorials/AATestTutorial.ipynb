{
 "cells": [
  {
   "cell_type": "markdown",
   "source": [
    "# AA test tutorial \n",
    "AA test is important part of randomized controlled experiment, for example AB test. \n",
    "\n",
    "The objectives of the AA test are to verify the assumption of uniformity of samples as a result of the applied partitioning method, to select the best partition from the available ones, and to verify the applicability of statistical criteria for checking uniformity. \n",
    "\n",
    "For example, there is a hypothesis about the absence of dependence of features on each other. If this hypothesis is not followed, the AA test will fail."
   ],
   "metadata": {
    "collapsed": false
   },
   "id": "35b63454542e9139"
  },
  {
   "cell_type": "markdown",
   "source": [
    "<ul>\n",
    "  <li><a href=\"#creation-of-a-new-test-dataset-with-synthetic-data\">Creation of a new test dataset with synthetic data.\n",
    "  <li><a href=\"#one-split-of-aa-test\">One split of AA test.\n",
    "  <li><a href=\"#aa-test\">AA test.\n",
    "  <li><a href=\"#aa-test-with-stratification\">AA test with stratification.\n",
    "</ul>"
   ],
   "metadata": {
    "collapsed": false
   },
   "id": "d55e33194a3247f0"
  },
  {
   "cell_type": "code",
   "id": "f890151fc64fd3fa",
   "metadata": {
    "collapsed": false,
    "ExecuteTime": {
     "end_time": "2024-08-20T11:44:05.771366800Z",
     "start_time": "2024-08-20T11:44:02.712944600Z"
    }
   },
   "source": [
    "from hypex.dataset import Dataset, InfoRole, TreatmentRole, TargetRole, StratificationRole\n",
    "from hypex import AATest"
   ],
   "outputs": [
    {
     "name": "stderr",
     "output_type": "stream",
     "text": [
      "C:\\Users\\User\\AppData\\Local\\Programs\\Python\\Python310\\lib\\site-packages\\tqdm\\auto.py:21: TqdmWarning: IProgress not found. Please update jupyter and ipywidgets. See https://ipywidgets.readthedocs.io/en/stable/user_install.html\n",
      "  from .autonotebook import tqdm as notebook_tqdm\n"
     ]
    }
   ],
   "execution_count": 1
  },
  {
   "cell_type": "markdown",
   "source": [
    "## Creation of a new test dataset with synthetic data. \n",
    "\n",
    "In order to be able to work with our data in HypEx, first we need to convert it into `dataset`. It is important to mark the data fields by assigning the appropriate `roles`:\n",
    "- FeatureRole: a role for columns that contain features or predictor variables. Our split will be based on them. Applied by default if the role is not specified for the column.\n",
    "- TreatmentRole: a role for columns that show the treatment or intervention.\n",
    "- TargetRole: a role for columns that show the target or outcome variable.\n",
    "- InfoRole: a role for columns that contain information about the data, such as user IDs. "
   ],
   "metadata": {
    "collapsed": false
   },
   "id": "bd8ae5c13f2b538e"
  },
  {
   "cell_type": "code",
   "id": "70e663c02efb6980",
   "metadata": {
    "collapsed": false,
    "ExecuteTime": {
     "end_time": "2024-08-20T11:44:05.861617500Z",
     "start_time": "2024-08-20T11:44:05.755341500Z"
    }
   },
   "source": [
    "data = Dataset(\n",
    "    roles={\n",
    "        \"user_id\": InfoRole(int),\n",
    "        \"treat\": TreatmentRole(int),\n",
    "        \"pre_spends\": TargetRole(),\n",
    "        \"post_spends\": TargetRole(),\n",
    "        \"gender\": StratificationRole(str)\n",
    "    }, data=\"data.csv\",\n",
    ")\n",
    "data"
   ],
   "outputs": [
    {
     "data": {
      "text/plain": "      user_id  signup_month  treat  pre_spends  post_spends   age gender  \\\n0           0             0      0       488.0   414.444444   NaN      M   \n1           1             8      1       512.5   462.222222  26.0    NaN   \n2           2             7      1       483.0   479.444444  25.0      M   \n3           3             0      0       501.5   424.333333  39.0      M   \n4           4             1      1       543.0   514.555556  18.0      F   \n...       ...           ...    ...         ...          ...   ...    ...   \n9995     9995            10      1       538.5   450.444444  42.0      M   \n9996     9996             0      0       500.5   430.888889  26.0      F   \n9997     9997             3      1       473.0   534.111111  22.0      F   \n9998     9998             2      1       495.0   523.222222  67.0      F   \n9999     9999             7      1       508.0   475.888889  38.0      F   \n\n        industry  \n0     E-commerce  \n1     E-commerce  \n2      Logistics  \n3     E-commerce  \n4     E-commerce  \n...          ...  \n9995   Logistics  \n9996   Logistics  \n9997  E-commerce  \n9998  E-commerce  \n9999  E-commerce  \n\n[10000 rows x 8 columns]"
     },
     "execution_count": 2,
     "metadata": {},
     "output_type": "execute_result"
    }
   ],
   "execution_count": 2
  },
  {
   "cell_type": "markdown",
   "source": [
    "## AA test\n",
    "Then we run the experiment on our prepared dataset, wrapped into ExperimentData. In this case we select one of the pre-assembled pipeline, AA_TEST.\n",
    "We can set the number of iterations for simple execution. In this case the random states are the numbers of each iteration."
   ],
   "metadata": {
    "collapsed": false
   },
   "id": "fb03d99c85e1216d"
  },
  {
   "cell_type": "code",
   "id": "initial_id",
   "metadata": {
    "collapsed": true,
    "ExecuteTime": {
     "end_time": "2024-08-20T11:44:17.050608200Z",
     "start_time": "2024-08-20T11:44:05.861617500Z"
    }
   },
   "source": [
    "aa = AATest(n_iterations=10)\n",
    "res = aa.execute(data)"
   ],
   "outputs": [],
   "execution_count": 3
  },
  {
   "cell_type": "code",
   "id": "41e9963a",
   "metadata": {
    "ExecuteTime": {
     "end_time": "2024-08-20T11:44:17.125413200Z",
     "start_time": "2024-08-20T11:44:17.054524500Z"
    }
   },
   "source": [
    "res.resume"
   ],
   "outputs": [
    {
     "data": {
      "text/plain": "  TTest aa test KSTest aa test TTest best split KSTest best split  result  \\\n0        NOT OK         NOT OK               OK                OK  NOT OK   \n1        NOT OK         NOT OK               OK                OK  NOT OK   \n\n       feature    group  \n0  post_spends  control  \n1   pre_spends  control  "
     },
     "execution_count": 4,
     "metadata": {},
     "output_type": "execute_result"
    }
   ],
   "execution_count": 4
  },
  {
   "cell_type": "code",
   "id": "50ae28a8",
   "metadata": {
    "ExecuteTime": {
     "end_time": "2024-08-20T11:44:17.192762400Z",
     "start_time": "2024-08-20T11:44:17.086893Z"
    }
   },
   "source": [
    "res.aa_score"
   ],
   "outputs": [
    {
     "data": {
      "text/plain": "                             pass     score\npre_spends TTest control    False  0.653814\npost_spends TTest control   False  0.664092\npre_spends KSTest control   False  0.639293\npost_spends KSTest control  False  0.637995"
     },
     "execution_count": 5,
     "metadata": {},
     "output_type": "execute_result"
    }
   ],
   "execution_count": 5
  },
  {
   "cell_type": "code",
   "id": "cc42c534",
   "metadata": {
    "ExecuteTime": {
     "end_time": "2024-08-20T11:44:17.216388800Z",
     "start_time": "2024-08-20T11:44:17.117118Z"
    }
   },
   "source": [
    "res.best_split"
   ],
   "outputs": [
    {
     "data": {
      "text/plain": "      user_id  signup_month  treat  pre_spends  post_spends   age gender  \\\n0           0             0      0       488.0   414.444444   NaN      M   \n1           1             8      1       512.5   462.222222  26.0    NaN   \n2           2             7      1       483.0   479.444444  25.0      M   \n3           3             0      0       501.5   424.333333  39.0      M   \n4           4             1      1       543.0   514.555556  18.0      F   \n...       ...           ...    ...         ...          ...   ...    ...   \n9995     9995            10      1       538.5   450.444444  42.0      M   \n9996     9996             0      0       500.5   430.888889  26.0      F   \n9997     9997             3      1       473.0   534.111111  22.0      F   \n9998     9998             2      1       495.0   523.222222  67.0      F   \n9999     9999             7      1       508.0   475.888889  38.0      F   \n\n        industry    split  \n0     E-commerce  control  \n1     E-commerce     test  \n2      Logistics     test  \n3     E-commerce  control  \n4     E-commerce  control  \n...          ...      ...  \n9995   Logistics  control  \n9996   Logistics  control  \n9997  E-commerce     test  \n9998  E-commerce     test  \n9999  E-commerce  control  \n\n[10000 rows x 9 columns]"
     },
     "execution_count": 6,
     "metadata": {},
     "output_type": "execute_result"
    }
   ],
   "execution_count": 6
  },
  {
   "cell_type": "code",
   "id": "18351884",
   "metadata": {
    "ExecuteTime": {
     "end_time": "2024-08-20T11:44:17.284427500Z",
     "start_time": "2024-08-20T11:44:17.167025500Z"
    }
   },
   "source": [
    "res.best_split_statistic"
   ],
   "outputs": [
    {
     "data": {
      "text/plain": "       feature    group TTest pass  TTest p-value KSTest pass  KSTest p-value\n0   pre_spends  control         OK       0.645746          OK        0.932542\n1  post_spends  control         OK       0.357727          OK        0.577046"
     },
     "execution_count": 7,
     "metadata": {},
     "output_type": "execute_result"
    }
   ],
   "execution_count": 7
  },
  {
   "cell_type": "code",
   "id": "0da18405",
   "metadata": {
    "ExecuteTime": {
     "end_time": "2024-08-20T11:44:17.326874700Z",
     "start_time": "2024-08-20T11:44:17.202333100Z"
    }
   },
   "source": [
    "res.experiments"
   ],
   "outputs": [
    {
     "data": {
      "text/plain": "        splitter_id  pre_spends GroupDifference control mean control  \\\n0  AASplitter┴rs 0┴                                         487.3801   \n1  AASplitter┴rs 1┴                                         487.3333   \n2  AASplitter┴rs 2┴                                         487.0445   \n3  AASplitter┴rs 3┴                                         486.6742   \n4  AASplitter┴rs 4┴                                         487.1970   \n5  AASplitter┴rs 5┴                                         486.8953   \n6  AASplitter┴rs 6┴                                         487.3100   \n7  AASplitter┴rs 7┴                                         487.1805   \n8  AASplitter┴rs 8┴                                         487.3882   \n9  AASplitter┴rs 9┴                                         487.0735   \n\n   pre_spends GroupDifference test mean control  \\\n0                                      486.8074   \n1                                      486.8542   \n2                                      487.1430   \n3                                      487.5133   \n4                                      486.9905   \n5                                      487.2922   \n6                                      486.8775   \n7                                      487.0070   \n8                                      486.7993   \n9                                      487.1140   \n\n   pre_spends GroupDifference difference control  \\\n0                                        -0.5727   \n1                                        -0.4791   \n2                                         0.0985   \n3                                         0.8391   \n4                                        -0.2065   \n5                                         0.3969   \n6                                        -0.4325   \n7                                        -0.1735   \n8                                        -0.5889   \n9                                         0.0405   \n\n   pre_spends GroupDifference difference % control  \\\n0                                        -0.117506   \n1                                        -0.098311   \n2                                         0.020224   \n3                                         0.172415   \n4                                        -0.042385   \n5                                         0.081516   \n6                                        -0.088753   \n7                                        -0.035613   \n8                                        -0.120828   \n9                                         0.008315   \n\n   post_spends GroupDifference control mean control  \\\n0                                        452.604911   \n1                                        452.177711   \n2                                        452.824200   \n3                                        451.250333   \n4                                        452.412622   \n5                                        452.642222   \n6                                        452.701422   \n7                                        451.802133   \n8                                        452.404267   \n9                                        452.001600   \n\n   post_spends GroupDifference test mean control  \\\n0                                     451.724200   \n1                                     452.151400   \n2                                     451.504911   \n3                                     453.078778   \n4                                     451.916489   \n5                                     451.686889   \n6                                     451.627689   \n7                                     452.526978   \n8                                     451.924844   \n9                                     452.327511   \n\n   post_spends GroupDifference difference control  \\\n0                                       -0.880711   \n1                                       -0.026311   \n2                                       -1.319289   \n3                                        1.828444   \n4                                       -0.496133   \n5                                       -0.955333   \n6                                       -1.073733   \n7                                        0.724844   \n8                                       -0.479422   \n9                                        0.325911   \n\n   post_spends GroupDifference difference % control  \\\n0                                         -0.194587   \n1                                         -0.005819   \n2                                         -0.291347   \n3                                          0.405195   \n4                                         -0.109664   \n5                                         -0.211057   \n6                                         -0.237184   \n7                                          0.160434   \n8                                         -0.105972   \n9                                          0.072104   \n\n   treat GroupSizes control size control  ...  \\\n0                                 5000.0  ...   \n1                                    NaN  ...   \n2                                    NaN  ...   \n3                                    NaN  ...   \n4                                    NaN  ...   \n5                                    NaN  ...   \n6                                    NaN  ...   \n7                                    NaN  ...   \n8                                    NaN  ...   \n9                                    NaN  ...   \n\n   post_spends KSTest pass control  mean TTest p-value  mean TTest pass  \\\n0                            False            0.196474              0.0   \n1                            False            0.588834              0.0   \n2                            False            0.444120              0.0   \n3                            False            0.023258              1.0   \n4                            False            0.556661              0.0   \n5                            False            0.259216              0.0   \n6                            False            0.212447              0.0   \n7                            False            0.501737              0.0   \n8                            False            0.330834              0.0   \n9                            False            0.796888              0.0   \n\n   mean KSTest p-value  mean KSTest pass  mean test score  \\\n0             0.252129               0.5         0.233577   \n1             0.490752               0.0         0.523446   \n2             0.452796               0.0         0.449904   \n3             0.130645               0.0         0.094849   \n4             0.362782               0.0         0.427409   \n5             0.399740               0.0         0.352899   \n6             0.349031               0.0         0.303503   \n7             0.754794               0.0         0.670441   \n8             0.392027               0.5         0.371629   \n9             0.528860               0.0         0.618203   \n\n   post_spends GroupSizes control size control  \\\n0                                          NaN   \n1                                       5000.0   \n2                                       5000.0   \n3                                       5000.0   \n4                                       5000.0   \n5                                       5000.0   \n6                                       5000.0   \n7                                       5000.0   \n8                                       5000.0   \n9                                       5000.0   \n\n   post_spends GroupSizes test size control  \\\n0                                       NaN   \n1                                    5000.0   \n2                                    5000.0   \n3                                    5000.0   \n4                                    5000.0   \n5                                    5000.0   \n6                                    5000.0   \n7                                    5000.0   \n8                                    5000.0   \n9                                    5000.0   \n\n   post_spends GroupSizes control size % control  \\\n0                                            NaN   \n1                                           50.0   \n2                                           50.0   \n3                                           50.0   \n4                                           50.0   \n5                                           50.0   \n6                                           50.0   \n7                                           50.0   \n8                                           50.0   \n9                                           50.0   \n\n   post_spends GroupSizes test size % control  \n0                                         NaN  \n1                                        50.0  \n2                                        50.0  \n3                                        50.0  \n4                                        50.0  \n5                                        50.0  \n6                                        50.0  \n7                                        50.0  \n8                                        50.0  \n9                                        50.0  \n\n[10 rows x 30 columns]"
     },
     "execution_count": 8,
     "metadata": {},
     "output_type": "execute_result"
    }
   ],
   "execution_count": 8
  },
  {
   "cell_type": "markdown",
   "source": [
    "# AA Test with random states\n",
    "\n",
    "We can also adjust some of the preset parameters of the experiment by assigning them to the respective params of the experiment. I.e. here we set the range of the random states we want to run our AA test for. "
   ],
   "metadata": {
    "collapsed": false
   },
   "id": "76c81d6d6570d58f"
  },
  {
   "cell_type": "code",
   "id": "a6038ed8",
   "metadata": {
    "ExecuteTime": {
     "end_time": "2024-08-20T11:44:21.557518500Z",
     "start_time": "2024-08-20T11:44:17.262100100Z"
    }
   },
   "source": [
    "aa = AATest(random_states=[56, 72, 2, 43])\n",
    "res = aa.execute(data)"
   ],
   "outputs": [],
   "execution_count": 9
  },
  {
   "cell_type": "code",
   "source": [
    "res.resume"
   ],
   "metadata": {
    "collapsed": false,
    "ExecuteTime": {
     "end_time": "2024-08-20T11:44:21.630943500Z",
     "start_time": "2024-08-20T11:44:21.565346100Z"
    }
   },
   "id": "6bebccfe9b91ae2e",
   "outputs": [
    {
     "data": {
      "text/plain": "  TTest aa test KSTest aa test TTest best split KSTest best split  result  \\\n0        NOT OK         NOT OK               OK                OK  NOT OK   \n1        NOT OK         NOT OK               OK                OK  NOT OK   \n\n       feature    group  \n0  post_spends  control  \n1   pre_spends  control  "
     },
     "execution_count": 10,
     "metadata": {},
     "output_type": "execute_result"
    }
   ],
   "execution_count": 10
  },
  {
   "cell_type": "code",
   "source": [
    "res.aa_score"
   ],
   "metadata": {
    "collapsed": false,
    "ExecuteTime": {
     "end_time": "2024-08-20T11:44:21.697899100Z",
     "start_time": "2024-08-20T11:44:21.594933600Z"
    }
   },
   "id": "2a6d8f9df6978913",
   "outputs": [
    {
     "data": {
      "text/plain": "                             pass     score\npre_spends TTest control    False  0.652500\npost_spends TTest control   False  0.645896\npre_spends KSTest control   False  0.605599\npost_spends KSTest control  False  0.533713"
     },
     "execution_count": 11,
     "metadata": {},
     "output_type": "execute_result"
    }
   ],
   "execution_count": 11
  },
  {
   "cell_type": "code",
   "source": [
    "res.best_split"
   ],
   "metadata": {
    "collapsed": false,
    "ExecuteTime": {
     "end_time": "2024-08-20T11:44:21.718683Z",
     "start_time": "2024-08-20T11:44:21.623934300Z"
    }
   },
   "id": "e318afc40736069d",
   "outputs": [
    {
     "data": {
      "text/plain": "      user_id  signup_month  treat  pre_spends  post_spends   age gender  \\\n0           0             0      0       488.0   414.444444   NaN      M   \n1           1             8      1       512.5   462.222222  26.0    NaN   \n2           2             7      1       483.0   479.444444  25.0      M   \n3           3             0      0       501.5   424.333333  39.0      M   \n4           4             1      1       543.0   514.555556  18.0      F   \n...       ...           ...    ...         ...          ...   ...    ...   \n9995     9995            10      1       538.5   450.444444  42.0      M   \n9996     9996             0      0       500.5   430.888889  26.0      F   \n9997     9997             3      1       473.0   534.111111  22.0      F   \n9998     9998             2      1       495.0   523.222222  67.0      F   \n9999     9999             7      1       508.0   475.888889  38.0      F   \n\n        industry    split  \n0     E-commerce  control  \n1     E-commerce     test  \n2      Logistics  control  \n3     E-commerce     test  \n4     E-commerce  control  \n...          ...      ...  \n9995   Logistics     test  \n9996   Logistics  control  \n9997  E-commerce     test  \n9998  E-commerce     test  \n9999  E-commerce  control  \n\n[10000 rows x 9 columns]"
     },
     "execution_count": 12,
     "metadata": {},
     "output_type": "execute_result"
    }
   ],
   "execution_count": 12
  },
  {
   "cell_type": "code",
   "source": [
    "res.best_split_statistic"
   ],
   "metadata": {
    "collapsed": false,
    "ExecuteTime": {
     "end_time": "2024-08-20T11:44:21.792826800Z",
     "start_time": "2024-08-20T11:44:21.654144500Z"
    }
   },
   "id": "bd1a332ab687cef",
   "outputs": [
    {
     "data": {
      "text/plain": "       feature    group TTest pass  TTest p-value KSTest pass  KSTest p-value\n0   pre_spends  control         OK       0.519864          OK        0.694583\n1  post_spends  control         OK       0.998020          OK        0.677788"
     },
     "execution_count": 13,
     "metadata": {},
     "output_type": "execute_result"
    }
   ],
   "execution_count": 13
  },
  {
   "cell_type": "code",
   "source": [
    "res.experiments"
   ],
   "metadata": {
    "collapsed": false,
    "ExecuteTime": {
     "end_time": "2024-08-20T11:44:21.830179300Z",
     "start_time": "2024-08-20T11:44:21.686786500Z"
    }
   },
   "id": "96b29db891fa2462",
   "outputs": [
    {
     "data": {
      "text/plain": "         splitter_id  pre_spends GroupDifference control mean control  \\\n0  AASplitter┴rs 56┴                                         486.7993   \n1  AASplitter┴rs 72┴                                         486.9723   \n2   AASplitter┴rs 2┴                                         487.0445   \n3  AASplitter┴rs 43┴                                         487.3606   \n\n   pre_spends GroupDifference test mean control  \\\n0                                      487.3882   \n1                                      487.2152   \n2                                      487.1430   \n3                                      486.8269   \n\n   pre_spends GroupDifference difference control  \\\n0                                         0.5889   \n1                                         0.2429   \n2                                         0.0985   \n3                                        -0.5337   \n\n   pre_spends GroupDifference difference % control  \\\n0                                         0.120974   \n1                                         0.049880   \n2                                         0.020224   \n3                                        -0.109508   \n\n   post_spends GroupDifference control mean control  \\\n0                                        452.483711   \n1                                        452.163578   \n2                                        452.824200   \n3                                        451.528111   \n\n   post_spends GroupDifference test mean control  \\\n0                                     451.845400   \n1                                     452.165533   \n2                                     451.504911   \n3                                     452.801000   \n\n   post_spends GroupDifference difference control  \\\n0                                       -0.638311   \n1                                        0.001956   \n2                                       -1.319289   \n3                                        1.272889   \n\n   post_spends GroupDifference difference % control  \\\n0                                         -0.141068   \n1                                          0.000432   \n2                                         -0.291347   \n3                                          0.281907   \n\n   post_spends GroupSizes control size control  ...  \\\n0                                         5000  ...   \n1                                         5000  ...   \n2                                         5000  ...   \n3                                         5000  ...   \n\n   post_spends TTest pass control  pre_spends KSTest p-value control  \\\n0                           False                           0.002465   \n1                           False                           0.694583   \n2                           False                           0.727866   \n3                           False                           0.352691   \n\n   pre_spends KSTest pass control  post_spends KSTest p-value control  \\\n0                            True                            0.744274   \n1                           False                            0.677788   \n2                           False                            0.177727   \n3                           False                            0.465358   \n\n   post_spends KSTest pass control  mean TTest p-value  mean TTest pass  \\\n0                            False            0.268336              0.0   \n1                            False            0.758942              0.0   \n2                            False            0.444120              0.0   \n3                            False            0.131809              0.0   \n\n   mean KSTest p-value  mean KSTest pass  mean test score  \n0             0.373370               0.5         0.338359  \n1             0.686186               0.0         0.710438  \n2             0.452796               0.0         0.449904  \n3             0.409024               0.0         0.316619  \n\n[4 rows x 26 columns]"
     },
     "execution_count": 14,
     "metadata": {},
     "output_type": "execute_result"
    }
   ],
   "execution_count": 14
  },
  {
   "cell_type": "markdown",
   "source": [
    "# AA Test with stratification\n",
    "\n",
    "Depending on your requirements it is possible to stratify the data. You can set `stratification=True` and `StratificationRole` in `Dataset` to run it with stratification.  "
   ],
   "metadata": {
    "collapsed": false
   },
   "id": "1b37db00a1a4a49f"
  },
  {
   "cell_type": "code",
   "source": [
    "aa = AATest(random_states=[56, 72, 2, 43], stratification=True)\n",
    "res = aa.execute(data)"
   ],
   "metadata": {
    "collapsed": false,
    "ExecuteTime": {
     "end_time": "2024-08-20T11:44:25.460900100Z",
     "start_time": "2024-08-20T11:44:21.735820Z"
    }
   },
   "id": "da9ab2f374ce1273",
   "outputs": [],
   "execution_count": 15
  },
  {
   "cell_type": "code",
   "source": [
    "res.resume"
   ],
   "metadata": {
    "collapsed": false,
    "ExecuteTime": {
     "end_time": "2024-08-20T11:44:25.520460200Z",
     "start_time": "2024-08-20T11:44:25.465073800Z"
    }
   },
   "id": "fb5bc9076cb36af9",
   "outputs": [
    {
     "data": {
      "text/plain": "  TTest aa test KSTest aa test TTest best split KSTest best split  result  \\\n0        NOT OK         NOT OK               OK                OK  NOT OK   \n1        NOT OK         NOT OK               OK                OK  NOT OK   \n\n       feature    group  \n0  post_spends  control  \n1   pre_spends  control  "
     },
     "execution_count": 16,
     "metadata": {},
     "output_type": "execute_result"
    }
   ],
   "execution_count": 16
  },
  {
   "cell_type": "code",
   "source": [
    "res.aa_score"
   ],
   "metadata": {
    "collapsed": false,
    "ExecuteTime": {
     "end_time": "2024-08-20T11:44:25.576921Z",
     "start_time": "2024-08-20T11:44:25.495207900Z"
    }
   },
   "id": "5eca1aebeb06da2",
   "outputs": [
    {
     "data": {
      "text/plain": "                             pass     score\npre_spends TTest control    False  0.388191\npost_spends TTest control   False  0.774438\npre_spends KSTest control   False  0.728226\npost_spends KSTest control  False  0.660354"
     },
     "execution_count": 17,
     "metadata": {},
     "output_type": "execute_result"
    }
   ],
   "execution_count": 17
  },
  {
   "cell_type": "code",
   "source": [
    "res.best_split"
   ],
   "metadata": {
    "collapsed": false,
    "ExecuteTime": {
     "end_time": "2024-08-20T11:44:25.653418800Z",
     "start_time": "2024-08-20T11:44:25.523458Z"
    }
   },
   "id": "4e5730bdf7983f7d",
   "outputs": [
    {
     "data": {
      "text/plain": "      user_id  signup_month  treat  pre_spends  post_spends   age gender  \\\n0           0             0      0       488.0   414.444444   NaN      M   \n1           1             8      1       512.5   462.222222  26.0    NaN   \n2           2             7      1       483.0   479.444444  25.0      M   \n3           3             0      0       501.5   424.333333  39.0      M   \n4           4             1      1       543.0   514.555556  18.0      F   \n...       ...           ...    ...         ...          ...   ...    ...   \n9995     9995            10      1       538.5   450.444444  42.0      M   \n9996     9996             0      0       500.5   430.888889  26.0      F   \n9997     9997             3      1       473.0   534.111111  22.0      F   \n9998     9998             2      1       495.0   523.222222  67.0      F   \n9999     9999             7      1       508.0   475.888889  38.0      F   \n\n        industry    split  \n0     E-commerce  control  \n1     E-commerce     test  \n2      Logistics     test  \n3     E-commerce     test  \n4     E-commerce  control  \n...          ...      ...  \n9995   Logistics      NaN  \n9996   Logistics      NaN  \n9997  E-commerce      NaN  \n9998  E-commerce      NaN  \n9999  E-commerce      NaN  \n\n[10000 rows x 9 columns]"
     },
     "execution_count": 18,
     "metadata": {},
     "output_type": "execute_result"
    }
   ],
   "execution_count": 18
  },
  {
   "cell_type": "code",
   "source": [
    "res.best_split_statistic"
   ],
   "metadata": {
    "collapsed": false,
    "ExecuteTime": {
     "end_time": "2024-08-20T11:44:25.683845800Z",
     "start_time": "2024-08-20T11:44:25.556511400Z"
    }
   },
   "id": "7cdeba119b04476e",
   "outputs": [
    {
     "data": {
      "text/plain": "       feature    group TTest pass  TTest p-value KSTest pass  KSTest p-value\n0   pre_spends  control         OK       0.384576          OK        0.129368\n1  post_spends  control         OK       0.801273          OK        0.952433"
     },
     "execution_count": 19,
     "metadata": {},
     "output_type": "execute_result"
    }
   ],
   "execution_count": 19
  },
  {
   "cell_type": "code",
   "source": [
    "res.experiments"
   ],
   "metadata": {
    "collapsed": false,
    "ExecuteTime": {
     "end_time": "2024-08-20T11:44:25.711656300Z",
     "start_time": "2024-08-20T11:44:25.586550900Z"
    }
   },
   "id": "6a63a08bceb2f40a",
   "outputs": [
    {
     "data": {
      "text/plain": "                           splitter_id  \\\n0  AASplitterWithStratification┴rs 56┴   \n1  AASplitterWithStratification┴rs 72┴   \n2   AASplitterWithStratification┴rs 2┴   \n3  AASplitterWithStratification┴rs 43┴   \n\n   pre_spends GroupDifference control mean control  \\\n0                                       487.110444   \n1                                       486.922667   \n2                                       487.264000   \n3                                       487.075889   \n\n   pre_spends GroupDifference test mean control  \\\n0                                    487.082000   \n1                                    487.269778   \n2                                    486.928444   \n3                                    487.116556   \n\n   pre_spends GroupDifference difference control  \\\n0                                      -0.028444   \n1                                       0.347111   \n2                                      -0.335556   \n3                                       0.040667   \n\n   pre_spends GroupDifference difference % control  \\\n0                                        -0.005839   \n1                                         0.071287   \n2                                        -0.068865   \n3                                         0.008349   \n\n   post_spends GroupDifference control mean control  \\\n0                                        452.648938   \n1                                        452.245679   \n2                                        451.372173   \n3                                        451.141432   \n\n   post_spends GroupDifference test mean control  \\\n0                                     451.633506   \n1                                     452.036765   \n2                                     452.910272   \n3                                     453.141012   \n\n   post_spends GroupDifference difference control  \\\n0                                       -1.015432   \n1                                       -0.208914   \n2                                        1.538099   \n3                                        1.999580   \n\n   post_spends GroupDifference difference % control  \\\n0                                         -0.224331   \n1                                         -0.046195   \n2                                          0.340761   \n3                                          0.443227   \n\n   post_spends GroupSizes control size control  ...  \\\n0                                         4500  ...   \n1                                         4500  ...   \n2                                         4500  ...   \n3                                         4500  ...   \n\n   post_spends TTest pass control  pre_spends KSTest p-value control  \\\n0                           False                           0.612183   \n1                           False                           0.129368   \n2                           False                           0.085963   \n3                            True                           0.459584   \n\n   pre_spends KSTest pass control  post_spends KSTest p-value control  \\\n0                           False                            0.491962   \n1                           False                            0.952433   \n2                           False                            0.008355   \n3                           False                            0.105834   \n\n   post_spends KSTest pass control  mean TTest p-value  mean TTest pass  \\\n0                            False            0.582179              0.0   \n1                            False            0.592924              0.0   \n2                             True            0.232221              0.0   \n3                            False            0.467419              0.5   \n\n   mean KSTest p-value  mean KSTest pass  mean test score  \n0             0.552072               0.0         0.562108  \n1             0.540900               0.0         0.558241  \n2             0.047159               0.5         0.108846  \n3             0.282709               0.0         0.344279  \n\n[4 rows x 26 columns]"
     },
     "execution_count": 20,
     "metadata": {},
     "output_type": "execute_result"
    }
   ],
   "execution_count": 20
  },
  {
   "cell_type": "code",
   "outputs": [],
   "source": [
    "aa = AATest(n_iterations=20)\n",
    "res = aa.execute(data)"
   ],
   "metadata": {
    "collapsed": false,
    "ExecuteTime": {
     "end_time": "2024-08-20T11:44:43.951622100Z",
     "start_time": "2024-08-20T11:44:25.646322300Z"
    }
   },
   "id": "587db7d839eb75b6",
   "execution_count": 21
  },
  {
   "cell_type": "code",
   "outputs": [
    {
     "data": {
      "text/plain": "  TTest aa test KSTest aa test TTest best split KSTest best split  result  \\\n0        NOT OK         NOT OK               OK                OK  NOT OK   \n1        NOT OK         NOT OK               OK                OK  NOT OK   \n\n       feature    group  \n0  post_spends  control  \n1   pre_spends  control  "
     },
     "execution_count": 22,
     "metadata": {},
     "output_type": "execute_result"
    }
   ],
   "source": [
    "res.resume"
   ],
   "metadata": {
    "collapsed": false,
    "ExecuteTime": {
     "end_time": "2024-08-20T11:44:43.980014500Z",
     "start_time": "2024-08-20T11:44:43.960519200Z"
    }
   },
   "id": "5e98d5a423b1f2c2",
   "execution_count": 22
  },
  {
   "cell_type": "code",
   "outputs": [
    {
     "data": {
      "text/plain": "                             pass     score\npre_spends TTest control    False  0.637037\npost_spends TTest control   False  0.633799\npre_spends KSTest control   False  0.604478\npost_spends KSTest control  False  0.537745"
     },
     "execution_count": 23,
     "metadata": {},
     "output_type": "execute_result"
    }
   ],
   "source": [
    "res.aa_score"
   ],
   "metadata": {
    "collapsed": false,
    "ExecuteTime": {
     "end_time": "2024-08-20T11:44:44.026519800Z",
     "start_time": "2024-08-20T11:44:43.969999100Z"
    }
   },
   "id": "5f5033c2dd051821",
   "execution_count": 23
  },
  {
   "cell_type": "code",
   "outputs": [
    {
     "data": {
      "text/plain": "      user_id  signup_month  treat  pre_spends  post_spends   age gender  \\\n0           0             0      0       488.0   414.444444   NaN      M   \n1           1             8      1       512.5   462.222222  26.0    NaN   \n2           2             7      1       483.0   479.444444  25.0      M   \n3           3             0      0       501.5   424.333333  39.0      M   \n4           4             1      1       543.0   514.555556  18.0      F   \n...       ...           ...    ...         ...          ...   ...    ...   \n9995     9995            10      1       538.5   450.444444  42.0      M   \n9996     9996             0      0       500.5   430.888889  26.0      F   \n9997     9997             3      1       473.0   534.111111  22.0      F   \n9998     9998             2      1       495.0   523.222222  67.0      F   \n9999     9999             7      1       508.0   475.888889  38.0      F   \n\n        industry    split  \n0     E-commerce     test  \n1     E-commerce     test  \n2      Logistics  control  \n3     E-commerce     test  \n4     E-commerce  control  \n...          ...      ...  \n9995   Logistics     test  \n9996   Logistics  control  \n9997  E-commerce     test  \n9998  E-commerce     test  \n9999  E-commerce  control  \n\n[10000 rows x 9 columns]"
     },
     "execution_count": 24,
     "metadata": {},
     "output_type": "execute_result"
    }
   ],
   "source": [
    "res.best_split"
   ],
   "metadata": {
    "collapsed": false,
    "ExecuteTime": {
     "end_time": "2024-08-20T11:44:44.101686800Z",
     "start_time": "2024-08-20T11:44:43.999228900Z"
    }
   },
   "id": "eb2a74c7207c24b",
   "execution_count": 24
  },
  {
   "cell_type": "code",
   "outputs": [
    {
     "data": {
      "text/plain": "       feature    group TTest pass  TTest p-value KSTest pass  KSTest p-value\n0   pre_spends  control         OK       0.914549          OK        0.577046\n1  post_spends  control         OK       0.679226          OK        0.480675"
     },
     "execution_count": 25,
     "metadata": {},
     "output_type": "execute_result"
    }
   ],
   "source": [
    "res.best_split_statistic"
   ],
   "metadata": {
    "collapsed": false,
    "ExecuteTime": {
     "end_time": "2024-08-20T11:44:44.196980200Z",
     "start_time": "2024-08-20T11:44:44.049097900Z"
    }
   },
   "id": "77ca46a0bfa0e70",
   "execution_count": 25
  },
  {
   "cell_type": "code",
   "outputs": [
    {
     "data": {
      "text/plain": "          splitter_id  pre_spends GroupDifference control mean control  \\\n0    AASplitter┴rs 0┴                                         487.3801   \n1    AASplitter┴rs 1┴                                         487.3333   \n2    AASplitter┴rs 2┴                                         487.0445   \n3    AASplitter┴rs 3┴                                         486.6742   \n4    AASplitter┴rs 4┴                                         487.1970   \n5    AASplitter┴rs 5┴                                         486.8953   \n6    AASplitter┴rs 6┴                                         487.3100   \n7    AASplitter┴rs 7┴                                         487.1805   \n8    AASplitter┴rs 8┴                                         487.3882   \n9    AASplitter┴rs 9┴                                         487.0735   \n10  AASplitter┴rs 10┴                                         487.1884   \n11  AASplitter┴rs 11┴                                         487.2131   \n12  AASplitter┴rs 12┴                                         487.1250   \n13  AASplitter┴rs 13┴                                         487.0322   \n14  AASplitter┴rs 14┴                                         486.7762   \n15  AASplitter┴rs 15┴                                         486.9192   \n16  AASplitter┴rs 16┴                                         487.2737   \n17  AASplitter┴rs 17┴                                         487.2173   \n18  AASplitter┴rs 18┴                                         486.8449   \n19  AASplitter┴rs 19┴                                         487.4576   \n\n    pre_spends GroupDifference test mean control  \\\n0                                       486.8074   \n1                                       486.8542   \n2                                       487.1430   \n3                                       487.5133   \n4                                       486.9905   \n5                                       487.2922   \n6                                       486.8775   \n7                                       487.0070   \n8                                       486.7993   \n9                                       487.1140   \n10                                      486.9991   \n11                                      486.9744   \n12                                      487.0625   \n13                                      487.1553   \n14                                      487.4113   \n15                                      487.2683   \n16                                      486.9138   \n17                                      486.9702   \n18                                      487.3426   \n19                                      486.7299   \n\n    pre_spends GroupDifference difference control  \\\n0                                         -0.5727   \n1                                         -0.4791   \n2                                          0.0985   \n3                                          0.8391   \n4                                         -0.2065   \n5                                          0.3969   \n6                                         -0.4325   \n7                                         -0.1735   \n8                                         -0.5889   \n9                                          0.0405   \n10                                        -0.1893   \n11                                        -0.2387   \n12                                        -0.0625   \n13                                         0.1231   \n14                                         0.6351   \n15                                         0.3491   \n16                                        -0.3599   \n17                                        -0.2471   \n18                                         0.4977   \n19                                        -0.7277   \n\n    pre_spends GroupDifference difference % control  \\\n0                                         -0.117506   \n1                                         -0.098311   \n2                                          0.020224   \n3                                          0.172415   \n4                                         -0.042385   \n5                                          0.081516   \n6                                         -0.088753   \n7                                         -0.035613   \n8                                         -0.120828   \n9                                          0.008315   \n10                                        -0.038856   \n11                                        -0.048993   \n12                                        -0.012830   \n13                                         0.025276   \n14                                         0.130471   \n15                                         0.071696   \n16                                        -0.073860   \n17                                        -0.050717   \n18                                         0.102230   \n19                                        -0.149285   \n\n    post_spends GroupDifference control mean control  \\\n0                                         452.604911   \n1                                         452.177711   \n2                                         452.824200   \n3                                         451.250333   \n4                                         452.412622   \n5                                         452.642222   \n6                                         452.701422   \n7                                         451.802133   \n8                                         452.404267   \n9                                         452.001600   \n10                                        451.817822   \n11                                        451.854600   \n12                                        451.890333   \n13                                        452.562289   \n14                                        451.563622   \n15                                        451.855289   \n16                                        451.545689   \n17                                        452.077800   \n18                                        452.303022   \n19                                        451.973600   \n\n    post_spends GroupDifference test mean control  \\\n0                                      451.724200   \n1                                      452.151400   \n2                                      451.504911   \n3                                      453.078778   \n4                                      451.916489   \n5                                      451.686889   \n6                                      451.627689   \n7                                      452.526978   \n8                                      451.924844   \n9                                      452.327511   \n10                                     452.511289   \n11                                     452.474511   \n12                                     452.438778   \n13                                     451.766822   \n14                                     452.765489   \n15                                     452.473822   \n16                                     452.783422   \n17                                     452.251311   \n18                                     452.026089   \n19                                     452.355511   \n\n    post_spends GroupDifference difference control  \\\n0                                        -0.880711   \n1                                        -0.026311   \n2                                        -1.319289   \n3                                         1.828444   \n4                                        -0.496133   \n5                                        -0.955333   \n6                                        -1.073733   \n7                                         0.724844   \n8                                        -0.479422   \n9                                         0.325911   \n10                                        0.693467   \n11                                        0.619911   \n12                                        0.548444   \n13                                       -0.795467   \n14                                        1.201867   \n15                                        0.618533   \n16                                        1.237733   \n17                                        0.173511   \n18                                       -0.276933   \n19                                        0.381911   \n\n    post_spends GroupDifference difference % control  \\\n0                                          -0.194587   \n1                                          -0.005819   \n2                                          -0.291347   \n3                                           0.405195   \n4                                          -0.109664   \n5                                          -0.211057   \n6                                          -0.237184   \n7                                           0.160434   \n8                                          -0.105972   \n9                                           0.072104   \n10                                          0.153484   \n11                                          0.137193   \n12                                          0.121367   \n13                                         -0.175770   \n14                                          0.266157   \n15                                          0.136887   \n16                                          0.274110   \n17                                          0.038381   \n18                                         -0.061227   \n19                                          0.084499   \n\n    post_spends GroupSizes control size control  ...  \\\n0                                          5000  ...   \n1                                          5000  ...   \n2                                          5000  ...   \n3                                          5000  ...   \n4                                          5000  ...   \n5                                          5000  ...   \n6                                          5000  ...   \n7                                          5000  ...   \n8                                          5000  ...   \n9                                          5000  ...   \n10                                         5000  ...   \n11                                         5000  ...   \n12                                         5000  ...   \n13                                         5000  ...   \n14                                         5000  ...   \n15                                         5000  ...   \n16                                         5000  ...   \n17                                         5000  ...   \n18                                         5000  ...   \n19                                         5000  ...   \n\n    post_spends TTest pass control  pre_spends KSTest p-value control  \\\n0                            False                           0.023582   \n1                            False                           0.420964   \n2                            False                           0.727866   \n3                             True                           0.177727   \n4                            False                           0.660939   \n5                            False                           0.392763   \n6                            False                           0.170057   \n7                            False                           0.932542   \n8                            False                           0.023582   \n9                            False                           0.577046   \n10                           False                           0.776418   \n11                           False                           0.148610   \n12                           False                           0.776418   \n13                           False                           0.711289   \n14                           False                           0.123456   \n15                           False                           0.807376   \n16                           False                           0.711289   \n17                           False                           0.315388   \n18                           False                           0.315388   \n19                           False                           0.117744   \n\n    pre_spends KSTest pass control  post_spends KSTest p-value control  \\\n0                             True                            0.480675   \n1                            False                            0.560541   \n2                            False                            0.177727   \n3                            False                            0.083564   \n4                            False                            0.064626   \n5                            False                            0.406718   \n6                            False                            0.528005   \n7                            False                            0.577046   \n8                             True                            0.760472   \n9                            False                            0.480675   \n10                           False                            0.711289   \n11                           False                            0.957217   \n12                           False                            0.392763   \n13                           False                            0.185666   \n14                           False                            0.496232   \n15                           False                            0.836797   \n16                           False                            0.339945   \n17                           False                            0.822301   \n18                           False                            0.450293   \n19                           False                            0.932542   \n\n    post_spends KSTest pass control  mean TTest p-value  mean TTest pass  \\\n0                             False            0.196474              0.0   \n1                             False            0.588834              0.0   \n2                             False            0.444120              0.0   \n3                             False            0.023258              1.0   \n4                             False            0.556661              0.0   \n5                             False            0.259216              0.0   \n6                             False            0.212447              0.0   \n7                             False            0.501737              0.0   \n8                             False            0.330834              0.0   \n9                             False            0.796888              0.0   \n10                            False            0.497454              0.0   \n11                            False            0.479324              0.0   \n12                            False            0.677493              0.0   \n13                            False            0.528568              0.0   \n14                            False            0.109836              0.0   \n15                            False            0.393782              0.0   \n16                            False            0.228300              0.0   \n17                            False            0.669213              0.0   \n18                            False            0.456291              0.0   \n19                            False            0.340906              0.0   \n\n    mean KSTest p-value  mean KSTest pass  mean test score  \n0              0.252129               0.5         0.233577  \n1              0.490752               0.0         0.523446  \n2              0.452796               0.0         0.449904  \n3              0.130645               0.0         0.094849  \n4              0.362782               0.0         0.427409  \n5              0.399740               0.0         0.352899  \n6              0.349031               0.0         0.303503  \n7              0.754794               0.0         0.670441  \n8              0.392027               0.5         0.371629  \n9              0.528860               0.0         0.618203  \n10             0.743853               0.0         0.661720  \n11             0.552914               0.0         0.528384  \n12             0.584590               0.0         0.615558  \n13             0.448478               0.0         0.475174  \n14             0.309844               0.0         0.243175  \n15             0.822087               0.0         0.679318  \n16             0.525617               0.0         0.426511  \n17             0.568844               0.0         0.602300  \n18             0.382840               0.0         0.407324  \n19             0.525143               0.0         0.463731  \n\n[20 rows x 26 columns]"
     },
     "execution_count": 26,
     "metadata": {},
     "output_type": "execute_result"
    }
   ],
   "source": [
    "res.experiments"
   ],
   "metadata": {
    "collapsed": false,
    "ExecuteTime": {
     "end_time": "2024-08-20T11:44:44.223401300Z",
     "start_time": "2024-08-20T11:44:44.079931300Z"
    }
   },
   "id": "d8a64e1bcdcdc071",
   "execution_count": 26
  },
  {
   "cell_type": "code",
   "outputs": [],
   "source": [
    "aa = AATest(n_iterations=20, sample_size=0.2)\n",
    "res = aa.execute(data)"
   ],
   "metadata": {
    "collapsed": false,
    "ExecuteTime": {
     "end_time": "2024-08-20T11:44:53.267398400Z",
     "start_time": "2024-08-20T11:44:44.126132500Z"
    }
   },
   "id": "b92cc8a1c4cff6d7",
   "execution_count": 27
  },
  {
   "cell_type": "code",
   "outputs": [
    {
     "data": {
      "text/plain": "  TTest aa test KSTest aa test TTest best split KSTest best split  result  \\\n0        NOT OK         NOT OK               OK                OK  NOT OK   \n1        NOT OK         NOT OK               OK                OK  NOT OK   \n\n       feature    group  \n0  post_spends  control  \n1   pre_spends  control  "
     },
     "execution_count": 28,
     "metadata": {},
     "output_type": "execute_result"
    }
   ],
   "source": [
    "res.resume"
   ],
   "metadata": {
    "collapsed": false,
    "ExecuteTime": {
     "end_time": "2024-08-20T11:44:53.348684300Z",
     "start_time": "2024-08-20T11:44:53.280015Z"
    }
   },
   "id": "6bc70b4602a73728",
   "execution_count": 28
  },
  {
   "cell_type": "code",
   "outputs": [
    {
     "data": {
      "text/plain": "                             pass     score\npre_spends TTest control    False  0.526366\npost_spends TTest control   False  0.531698\npre_spends KSTest control   False  0.454925\npost_spends KSTest control  False  0.557932"
     },
     "execution_count": 29,
     "metadata": {},
     "output_type": "execute_result"
    }
   ],
   "source": [
    "res.aa_score"
   ],
   "metadata": {
    "collapsed": false,
    "ExecuteTime": {
     "end_time": "2024-08-20T11:44:53.404219700Z",
     "start_time": "2024-08-20T11:44:53.300049600Z"
    }
   },
   "id": "6abb8f31d2e1ff8b",
   "execution_count": 29
  },
  {
   "cell_type": "code",
   "outputs": [
    {
     "data": {
      "text/plain": "      user_id  signup_month  treat  pre_spends  post_spends   age gender  \\\n0           0             0      0       488.0   414.444444   NaN      M   \n1           1             8      1       512.5   462.222222  26.0    NaN   \n2           2             7      1       483.0   479.444444  25.0      M   \n3           3             0      0       501.5   424.333333  39.0      M   \n4           4             1      1       543.0   514.555556  18.0      F   \n...       ...           ...    ...         ...          ...   ...    ...   \n9995     9995            10      1       538.5   450.444444  42.0      M   \n9996     9996             0      0       500.5   430.888889  26.0      F   \n9997     9997             3      1       473.0   534.111111  22.0      F   \n9998     9998             2      1       495.0   523.222222  67.0      F   \n9999     9999             7      1       508.0   475.888889  38.0      F   \n\n        industry    split  \n0     E-commerce     test  \n1     E-commerce  control  \n2      Logistics     test  \n3     E-commerce  control  \n4     E-commerce     test  \n...          ...      ...  \n9995   Logistics  control  \n9996   Logistics  control  \n9997  E-commerce  control  \n9998  E-commerce  control  \n9999  E-commerce     test  \n\n[10000 rows x 9 columns]"
     },
     "execution_count": 30,
     "metadata": {},
     "output_type": "execute_result"
    }
   ],
   "source": [
    "res.best_split"
   ],
   "metadata": {
    "collapsed": false,
    "ExecuteTime": {
     "end_time": "2024-08-20T11:44:53.467241900Z",
     "start_time": "2024-08-20T11:44:53.334699100Z"
    }
   },
   "id": "da256bacda715562",
   "execution_count": 30
  },
  {
   "cell_type": "code",
   "outputs": [
    {
     "data": {
      "text/plain": "       feature    group TTest pass  TTest p-value KSTest pass  KSTest p-value\n0   pre_spends  control         OK       0.736843          OK        0.720616\n1  post_spends  control         OK       0.936551          OK        0.709537"
     },
     "execution_count": 31,
     "metadata": {},
     "output_type": "execute_result"
    }
   ],
   "source": [
    "res.best_split_statistic"
   ],
   "metadata": {
    "collapsed": false,
    "ExecuteTime": {
     "end_time": "2024-08-20T11:44:53.542710Z",
     "start_time": "2024-08-20T11:44:53.365464800Z"
    }
   },
   "id": "ab766f462ae739f9",
   "execution_count": 31
  },
  {
   "cell_type": "code",
   "outputs": [
    {
     "data": {
      "text/plain": "          splitter_id  pre_spends GroupDifference control mean control  \\\n0    AASplitter┴rs 0┴                                       487.143722   \n1    AASplitter┴rs 1┴                                       487.111556   \n2    AASplitter┴rs 2┴                                       487.007556   \n3    AASplitter┴rs 3┴                                       487.097944   \n4    AASplitter┴rs 4┴                                       487.096944   \n5    AASplitter┴rs 5┴                                       487.112333   \n6    AASplitter┴rs 6┴                                       487.247500   \n7    AASplitter┴rs 7┴                                       487.071000   \n8    AASplitter┴rs 8┴                                       487.111333   \n9    AASplitter┴rs 9┴                                       487.197778   \n10  AASplitter┴rs 10┴                                       487.132167   \n11  AASplitter┴rs 11┴                                       487.115000   \n12  AASplitter┴rs 12┴                                       487.020500   \n13  AASplitter┴rs 13┴                                       487.072611   \n14  AASplitter┴rs 14┴                                       487.168222   \n15  AASplitter┴rs 15┴                                       487.053056   \n16  AASplitter┴rs 16┴                                       487.096833   \n17  AASplitter┴rs 17┴                                       487.031833   \n18  AASplitter┴rs 18┴                                       486.973944   \n19  AASplitter┴rs 19┴                                       487.140333   \n\n    pre_spends GroupDifference test mean control  \\\n0                                       486.6440   \n1                                       486.9335   \n2                                       487.8695   \n3                                       487.0560   \n4                                       487.0650   \n5                                       486.9265   \n6                                       485.7100   \n7                                       487.2985   \n8                                       486.9355   \n9                                       486.1575   \n10                                      486.7480   \n11                                      486.9025   \n12                                      487.7530   \n13                                      487.2840   \n14                                      486.4235   \n15                                      487.4600   \n16                                      487.0660   \n17                                      487.6510   \n18                                      488.1720   \n19                                      486.6745   \n\n    pre_spends GroupDifference difference control  \\\n0                                       -0.499722   \n1                                       -0.178056   \n2                                        0.861944   \n3                                       -0.041944   \n4                                       -0.031944   \n5                                       -0.185833   \n6                                       -1.537500   \n7                                        0.227500   \n8                                       -0.175833   \n9                                       -1.040278   \n10                                      -0.384167   \n11                                      -0.212500   \n12                                       0.732500   \n13                                       0.211389   \n14                                      -0.744722   \n15                                       0.406944   \n16                                      -0.030833   \n17                                       0.619167   \n18                                       1.198056   \n19                                      -0.465833   \n\n    pre_spends GroupDifference difference % control  \\\n0                                         -0.102582   \n1                                         -0.036553   \n2                                          0.176988   \n3                                         -0.008611   \n4                                         -0.006558   \n5                                         -0.038150   \n6                                         -0.315548   \n7                                          0.046708   \n8                                         -0.036097   \n9                                         -0.213523   \n10                                        -0.078863   \n11                                        -0.043624   \n12                                         0.150404   \n13                                         0.043400   \n14                                        -0.152868   \n15                                         0.083552   \n16                                        -0.006330   \n17                                         0.127131   \n18                                         0.246020   \n19                                        -0.095626   \n\n    post_spends GroupDifference control mean control  \\\n0                                         452.107185   \n1                                         452.230185   \n2                                         452.106235   \n3                                         451.952580   \n4                                         452.161457   \n5                                         452.549802   \n6                                         452.241383   \n7                                         451.973395   \n8                                         452.000716   \n9                                         452.047765   \n10                                        452.177037   \n11                                        452.190272   \n12                                        452.179309   \n13                                        452.175012   \n14                                        452.115272   \n15                                        452.283444   \n16                                        451.909765   \n17                                        451.959852   \n18                                        452.283914   \n19                                        452.135284   \n\n    post_spends GroupDifference test mean control  \\\n0                                      452.680889   \n1                                      451.573889   \n2                                      452.689444   \n3                                      454.072333   \n4                                      452.192444   \n5                                      448.697333   \n6                                      451.473111   \n7                                      453.885000   \n8                                      453.639111   \n9                                      453.215667   \n10                                     452.052222   \n11                                     451.933111   \n12                                     452.031778   \n13                                     452.070444   \n14                                     452.608111   \n15                                     451.094556   \n16                                     454.457667   \n17                                     454.006889   \n18                                     451.090333   \n19                                     452.428000   \n\n    post_spends GroupDifference difference control  \\\n0                                         0.573704   \n1                                        -0.656296   \n2                                         0.583210   \n3                                         2.119753   \n4                                         0.030988   \n5                                        -3.852469   \n6                                        -0.768272   \n7                                         1.911605   \n8                                         1.638395   \n9                                         1.167901   \n10                                       -0.124815   \n11                                       -0.257160   \n12                                       -0.147531   \n13                                       -0.104568   \n14                                        0.492840   \n15                                       -1.188889   \n16                                        2.547901   \n17                                        2.047037   \n18                                       -1.193580   \n19                                        0.292716   \n\n    post_spends GroupDifference difference % control  \\\n0                                           0.126896   \n1                                          -0.145124   \n2                                           0.128998   \n3                                           0.469021   \n4                                           0.006853   \n5                                          -0.851281   \n6                                          -0.169881   \n7                                           0.422946   \n8                                           0.362476   \n9                                           0.258358   \n10                                         -0.027603   \n11                                         -0.056870   \n12                                         -0.032627   \n13                                         -0.023126   \n14                                          0.109007   \n15                                         -0.262864   \n16                                          0.563808   \n17                                          0.452925   \n18                                         -0.263901   \n19                                          0.064741   \n\n    post_spends GroupSizes control size control  ...  \\\n0                                          9000  ...   \n1                                          9000  ...   \n2                                          9000  ...   \n3                                          9000  ...   \n4                                          9000  ...   \n5                                          9000  ...   \n6                                          9000  ...   \n7                                          9000  ...   \n8                                          9000  ...   \n9                                          9000  ...   \n10                                         9000  ...   \n11                                         9000  ...   \n12                                         9000  ...   \n13                                         9000  ...   \n14                                         9000  ...   \n15                                         9000  ...   \n16                                         9000  ...   \n17                                         9000  ...   \n18                                         9000  ...   \n19                                         9000  ...   \n\n    post_spends TTest pass control  pre_spends KSTest p-value control  \\\n0                            False                           0.494555   \n1                            False                           0.780025   \n2                            False                           0.169213   \n3                            False                           0.943467   \n4                            False                           0.965435   \n5                             True                           0.830512   \n6                            False                           0.099689   \n7                            False                           0.983636   \n8                            False                           0.326174   \n9                            False                           0.124740   \n10                           False                           0.631047   \n11                           False                           0.314083   \n12                           False                           0.956487   \n13                           False                           0.720616   \n14                           False                           0.326174   \n15                           False                           0.720616   \n16                           False                           0.698402   \n17                           False                           0.715084   \n18                           False                           0.213143   \n19                           False                           0.888403   \n\n    pre_spends KSTest pass control  post_spends KSTest p-value control  \\\n0                            False                            0.858493   \n1                            False                            0.531655   \n2                            False                            0.359938   \n3                            False                            0.059868   \n4                            False                            0.244737   \n5                            False                            0.007832   \n6                            False                            0.888403   \n7                            False                            0.117106   \n8                            False                            0.248079   \n9                            False                            0.499784   \n10                           False                            0.903998   \n11                           False                            0.586351   \n12                           False                            0.659156   \n13                           False                            0.709537   \n14                           False                            0.769467   \n15                           False                            0.505038   \n16                           False                            0.065360   \n17                           False                            0.419413   \n18                           False                            0.659156   \n19                           False                            0.747995   \n\n    post_spends KSTest pass control  mean TTest p-value  mean TTest pass  \\\n0                             False            0.544626              0.0   \n1                             False            0.697238              0.0   \n2                             False            0.413827              0.0   \n3                             False            0.526701              0.0   \n4                             False            0.970340              0.0   \n5                              True            0.385515              0.5   \n6                             False            0.286569              0.5   \n7                             False            0.431594              0.0   \n8                             False            0.496063              0.0   \n9                             False            0.236053              0.0   \n10                            False            0.732849              0.0   \n11                            False            0.790150              0.0   \n12                            False            0.577405              0.0   \n13                            False            0.836697              0.0   \n14                            False            0.471986              0.0   \n15                            False            0.441551              0.0   \n16                            False            0.506652              0.0   \n17                            False            0.222048              0.0   \n18                            False            0.210173              0.0   \n19                            False            0.641320              0.0   \n\n    mean KSTest p-value  mean KSTest pass  mean test score  \n0              0.676524               0.0         0.632558  \n1              0.655840               0.0         0.669639  \n2              0.264575               0.0         0.314326  \n3              0.501667               0.0         0.510012  \n4              0.605086               0.0         0.726837  \n5              0.419172               0.5         0.407953  \n6              0.494046               0.0         0.424887  \n7              0.550371               0.0         0.510779  \n8              0.287126               0.0         0.356772  \n9              0.312262               0.0         0.286859  \n10             0.767523               0.0         0.755965  \n11             0.450217               0.0         0.563528  \n12             0.807822               0.0         0.731016  \n13             0.715076               0.0         0.755616  \n14             0.547820               0.0         0.522542  \n15             0.612827               0.0         0.555735  \n16             0.381881               0.0         0.423471  \n17             0.567248               0.0         0.452182  \n18             0.436150               0.0         0.360824  \n19             0.818199               0.0         0.759239  \n\n[20 rows x 26 columns]"
     },
     "execution_count": 32,
     "metadata": {},
     "output_type": "execute_result"
    }
   ],
   "source": [
    "res.experiments"
   ],
   "metadata": {
    "collapsed": false,
    "ExecuteTime": {
     "end_time": "2024-08-20T11:44:53.570446200Z",
     "start_time": "2024-08-20T11:44:53.396734600Z"
    }
   },
   "id": "72df57c94a3d4f6d",
   "execution_count": 32
  }
 ],
 "metadata": {
  "kernelspec": {
   "display_name": "Python 3",
   "language": "python",
   "name": "python3"
  },
  "language_info": {
   "codemirror_mode": {
    "name": "ipython",
    "version": 3
   },
   "file_extension": ".py",
   "mimetype": "text/x-python",
   "name": "python",
   "nbconvert_exporter": "python",
   "pygments_lexer": "ipython3",
   "version": "3.10.11"
  }
 },
 "nbformat": 4,
 "nbformat_minor": 5
}
