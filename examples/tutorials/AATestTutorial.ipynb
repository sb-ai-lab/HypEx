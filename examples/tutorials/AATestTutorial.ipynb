{
 "cells": [
  {
   "cell_type": "markdown",
   "metadata": {},
   "source": [
    "# AA test tutorial"
   ]
  },
  {
   "cell_type": "markdown",
   "metadata": {
    "collapsed": false
   },
   "source": [
    "AA test is important part of randomized controlled experiment, for example AB test. \n",
    "\n",
    "The objectives of the AA test are to verify the assumption of uniformity of samples as a result of the applied partitioning method, to select the best partition from the available ones, and to verify the applicability of statistical criteria for checking uniformity. \n",
    "\n",
    "For example, there is a hypothesis about the absence of dependence of features on each other. If this hypothesis is not followed, the AA test will fail."
   ]
  },
  {
   "cell_type": "markdown",
   "metadata": {},
   "source": [
    "<ul>\n",
    "  <li><a href=\"#creation-of-a-new-test-dataset-with-synthetic-data\">Creation of a new test dataset with synthetic data.\n",
    "  <li><a href=\"#one-split-of-aa-test\">One split of AA test.\n",
    "  <li><a href=\"#aa-test\">AA test.\n",
    "  <li><a href=\"#aa-test-with-stratification\">AA test with stratification.\n",
    "</ul>"
   ]
  },
  {
   "cell_type": "code",
   "execution_count": 1,
   "metadata": {
    "ExecuteTime": {
     "end_time": "2024-07-09T14:30:04.142265200Z",
     "start_time": "2024-07-09T14:29:48.941502300Z"
    },
    "metadata": {}
   },
   "outputs": [
    {
     "name": "stderr",
     "output_type": "stream",
     "text": [
      "C:\\Users\\User\\AppData\\Local\\Programs\\Python\\Python310\\lib\\site-packages\\tqdm\\auto.py:21: TqdmWarning: IProgress not found. Please update jupyter and ipywidgets. See https://ipywidgets.readthedocs.io/en/stable/user_install.html\n",
      "  from .autonotebook import tqdm as notebook_tqdm\n"
     ]
    }
   ],
   "source": [
    "from hypex.dataset import Dataset, ExperimentData, InfoRole, TreatmentRole, TargetRole\n",
    "from hypex.experiments.aa import ONE_AA_TEST, AA_TEST, AA_TEST_WITH_STRATIFICATION\n",
    "from hypex.reporters.aa import AADatasetReporter, AAPassedReporter, AABestSplitReporter\n",
    "from hypex.splitters import AASplitter"
   ]
  },
  {
   "cell_type": "markdown",
   "metadata": {},
   "source": [
    "## Creation of a new test dataset with synthetic data. \n",
    "\n",
    "In order to be able to work with our data in HypEx, first we need to convert it into `dataset`. It is important to mark the data fields by assigning the appropriate `roles`:\n",
    "- FeatureRole: a role for columns that contain features or predictor variables. Our split will be based on them. Applied by default if the role is not specified for the column.\n",
    "- TreatmentRole: a role for columns that show the treatment or intervention.\n",
    "- TargetRole: a role for columns that show the target or outcome variable.\n",
    "- InfoRole: a role for columns that contain information about the data, such as user IDs. "
   ]
  },
  {
   "cell_type": "code",
   "execution_count": 2,
   "metadata": {
    "ExecuteTime": {
     "end_time": "2024-07-09T14:30:04.299843600Z",
     "start_time": "2024-07-09T14:30:04.145269200Z"
    },
    "metadata": {}
   },
   "outputs": [
    {
     "data": {
      "text/plain": [
       "      user_id  signup_month  treat  pre_spends  post_spends   age gender  \\\n",
       "0         0.0             0      0       488.0   414.444444   NaN      M   \n",
       "1         1.0             8      1       512.5   462.222222  26.0    NaN   \n",
       "2         2.0             7      1       483.0   479.444444  25.0      M   \n",
       "3         3.0             0      0       501.5   424.333333  39.0      M   \n",
       "4         4.0             1      1       543.0   514.555556  18.0      F   \n",
       "...       ...           ...    ...         ...          ...   ...    ...   \n",
       "9995   9995.0            10      1       538.5   450.444444  42.0      M   \n",
       "9996   9996.0             0      0       500.5   430.888889  26.0      F   \n",
       "9997   9997.0             3      1       473.0   534.111111  22.0      F   \n",
       "9998   9998.0             2      1       495.0   523.222222  67.0      F   \n",
       "9999   9999.0             7      1       508.0   475.888889  38.0      F   \n",
       "\n",
       "        industry  \n",
       "0     E-commerce  \n",
       "1     E-commerce  \n",
       "2      Logistics  \n",
       "3     E-commerce  \n",
       "4     E-commerce  \n",
       "...          ...  \n",
       "9995   Logistics  \n",
       "9996   Logistics  \n",
       "9997  E-commerce  \n",
       "9998  E-commerce  \n",
       "9999  E-commerce  \n",
       "\n",
       "[10000 rows x 8 columns]"
      ]
     },
     "execution_count": 2,
     "metadata": {},
     "output_type": "execute_result"
    }
   ],
   "source": [
    "data = Dataset(\n",
    "    roles={\n",
    "        \"user_id\": InfoRole(float),\n",
    "        \"treat\": TreatmentRole(int),\n",
    "        \"pre_spends\": TargetRole(),\n",
    "        \"post_spends\": TargetRole()\n",
    "    }, data=\"data.csv\",\n",
    ")\n",
    "data"
   ]
  },
  {
   "cell_type": "markdown",
   "metadata": {},
   "source": [
    "## One split of AA test\n",
    "Before execution, we wrap prepared dataset into ExperimentData to be able to run experiments on it. \n",
    "Then we execute pipelines, in this case we select one of the pre-assembled pipeline, ONE_AA_TEST. Also, a custom pipline can be created based on your specific needs and requirements with custom executors."
   ]
  },
  {
   "cell_type": "code",
   "execution_count": 5,
   "metadata": {
    "ExecuteTime": {
     "end_time": "2024-07-09T14:33:24.040826900Z",
     "start_time": "2024-07-09T14:33:22.134906400Z"
    },
    "metadata": {}
   },
   "outputs": [],
   "source": [
    "ed = ExperimentData(data)\n",
    "result = ONE_AA_TEST.execute(ed)"
   ]
  },
  {
   "cell_type": "markdown",
   "metadata": {},
   "source": [
    "**Analysis tables**    \n",
    "We can access the results of the experiment directly with the property `analysis_tables` of `ExperimentData`. It includes the information about the outcome of each executor's job. Key is the executor state id, value is the result of the executor's job. It may be useful for debugging or interpretation purposes."
   ]
  },
  {
   "cell_type": "code",
   "execution_count": 6,
   "metadata": {
    "ExecuteTime": {
     "end_time": "2024-07-09T14:33:39.705055700Z",
     "start_time": "2024-07-09T14:33:39.640493300Z"
    },
    "collapsed": false
   },
   "outputs": [
    {
     "data": {
      "text/plain": [
       "{'AASplitter┴┴': {'control':       user_id  signup_month  treat  pre_spends  post_spends   age gender  \\\n",
       "  0         0.0             0      0       488.0   414.444444   NaN      M   \n",
       "  1         1.0             8      1       512.5   462.222222  26.0    NaN   \n",
       "  2         2.0             7      1       483.0   479.444444  25.0      M   \n",
       "  5         5.0             6      1       486.5   486.555556  44.0      M   \n",
       "  7         7.0            11      1       496.0   432.888889  57.0      M   \n",
       "  ...       ...           ...    ...         ...          ...   ...    ...   \n",
       "  9985   9985.0             0      0       484.0   411.333333  52.0      M   \n",
       "  9987   9987.0             0      0       467.0   431.555556  62.0      M   \n",
       "  9989   9989.0             6      1       466.5   487.444444  19.0      F   \n",
       "  9990   9990.0             0      0       490.0   426.000000   NaN      M   \n",
       "  9994   9994.0             0      0       486.0   423.777778  69.0      F   \n",
       "  \n",
       "          industry  \n",
       "  0     E-commerce  \n",
       "  1     E-commerce  \n",
       "  2      Logistics  \n",
       "  5     E-commerce  \n",
       "  7     E-commerce  \n",
       "  ...          ...  \n",
       "  9985  E-commerce  \n",
       "  9987  E-commerce  \n",
       "  9989  E-commerce  \n",
       "  9990   Logistics  \n",
       "  9994   Logistics  \n",
       "  \n",
       "  [5000 rows x 8 columns],\n",
       "  'test':       user_id  signup_month  treat  pre_spends  post_spends   age gender  \\\n",
       "  3         3.0             0      0       501.5   424.333333  39.0      M   \n",
       "  4         4.0             1      1       543.0   514.555556  18.0      F   \n",
       "  6         6.0            11      1       483.5   433.888889  28.0      F   \n",
       "  11       11.0             4      1       498.5   516.888889  58.0    NaN   \n",
       "  12       12.0             0      0       472.0   423.777778  42.0      M   \n",
       "  ...       ...           ...    ...         ...          ...   ...    ...   \n",
       "  9995   9995.0            10      1       538.5   450.444444  42.0      M   \n",
       "  9996   9996.0             0      0       500.5   430.888889  26.0      F   \n",
       "  9997   9997.0             3      1       473.0   534.111111  22.0      F   \n",
       "  9998   9998.0             2      1       495.0   523.222222  67.0      F   \n",
       "  9999   9999.0             7      1       508.0   475.888889  38.0      F   \n",
       "  \n",
       "          industry  \n",
       "  3     E-commerce  \n",
       "  4     E-commerce  \n",
       "  6      Logistics  \n",
       "  11    E-commerce  \n",
       "  12     Logistics  \n",
       "  ...          ...  \n",
       "  9995   Logistics  \n",
       "  9996   Logistics  \n",
       "  9997  E-commerce  \n",
       "  9998  E-commerce  \n",
       "  9999  E-commerce  \n",
       "  \n",
       "  [5000 rows x 8 columns]}}"
      ]
     },
     "execution_count": 6,
     "metadata": {},
     "output_type": "execute_result"
    }
   ],
   "source": [
    "result"
   ]
  },
  {
   "cell_type": "markdown",
   "metadata": {},
   "source": [
    "### Experiment results\n",
    "To show the report with teh summary of the test we run the `report` method of the reporter, associated with the respective test type, AA test in our case.\n",
    "\n",
    "It displays the results of the test in the form of a table with the following columns:\n",
    "- `feature`: name of the target feature, change of which we want to analyze.\n",
    "- `group`: name of the test group we compare with the control group.\n",
    "- `TTest pass`: result of the TTest, if it is significant or not.\n",
    "- `TTest p-value`: p-value of the TTest shows the probability of obtaining the result when the null hypothesis is true. The lower the value the more significant the result is.\n",
    "- `KSTest pass`: result of the KSTest, if it is significant or not.\n",
    "- `KSest p-value`: p-value of the KSTest shows the probability of obtaining the result when the null hypothesis is true. The lower the value the more significant the result is."
   ]
  },
  {
   "cell_type": "code",
   "execution_count": 5,
   "metadata": {
    "ExecuteTime": {
     "end_time": "2024-07-04T12:23:34.188373Z",
     "start_time": "2024-07-04T12:23:34.162092Z"
    },
    "collapsed": false
   },
   "outputs": [
    {
     "data": {
      "text/plain": [
       "       feature group TTest pass  TTest p-value KSTest pass  KSTest p-value\n",
       "0   pre_spends     0         OK       0.564800          OK        0.877289\n",
       "1  post_spends     0         OK       0.404321          OK        0.544187"
      ]
     },
     "execution_count": 5,
     "metadata": {},
     "output_type": "execute_result"
    }
   ],
   "source": [
    "AADatasetReporter().report(result)"
   ]
  },
  {
   "cell_type": "markdown",
   "metadata": {},
   "source": [
    "## AA test\n",
    "Then we execute another pipeline, in this case we select one of the pre-assembled pipeline, AA_TEST.\n",
    " We can also adjust some of the preset parameters of the experiment by assigning them to the respective params of the experiment. I.e. here we set the range of the random states we want to run our AA test for.     \n",
    "Then we run the experiment on our prepared dataset, wrapped into ExperimentData. "
   ]
  },
  {
   "cell_type": "code",
   "execution_count": 3,
   "metadata": {
    "ExecuteTime": {
     "end_time": "2024-07-09T14:30:14.543660600Z",
     "start_time": "2024-07-09T14:30:04.296840600Z"
    }
   },
   "outputs": [
    {
     "data": {
      "text/plain": [
       "<hypex.dataset.dataset.ExperimentData at 0x1bd8e563340>"
      ]
     },
     "execution_count": 3,
     "metadata": {},
     "output_type": "execute_result"
    }
   ],
   "source": [
    "aa = AA_TEST\n",
    "aa.executors[0].params[AASplitter]= {\"random_states\": range(10)}\n",
    "res = aa.execute(ExperimentData(data))\n",
    "res"
   ]
  },
  {
   "cell_type": "markdown",
   "metadata": {},
   "source": [
    "### Experiment results\n",
    "To show the report with summary of the test, we run report method of the reporter, associated with the respective test type, AA test in our case.\n",
    "AAPassedReporter shows the results of the number of tests (OK / NOT OK) for the different random states."
   ]
  },
  {
   "cell_type": "code",
   "execution_count": 4,
   "metadata": {
    "ExecuteTime": {
     "end_time": "2024-07-09T14:30:16.126715900Z",
     "start_time": "2024-07-09T14:30:16.033705Z"
    },
    "collapsed": false
   },
   "outputs": [
    {
     "data": {
      "text/plain": [
       "{}"
      ]
     },
     "execution_count": 4,
     "metadata": {},
     "output_type": "execute_result"
    }
   ],
   "source": [
    "res.groups"
   ]
  },
  {
   "cell_type": "code",
   "execution_count": 7,
   "metadata": {},
   "outputs": [
    {
     "name": "stderr",
     "output_type": "stream",
     "text": [
      "/home/tony_katkov/job/HypEx/hypex/dataset/backends/pandas_backend.py:476: FutureWarning: Downcasting behavior in `replace` is deprecated and will be removed in a future version. To retain the old behavior, explicitly call `result.infer_objects(copy=False)`. To opt-in to the future behavior, set `pd.set_option('future.no_silent_downcasting', True)`\n",
      "  return self.data.replace(to_replace=to_replace, value=value, regex=regex)\n",
      "/home/tony_katkov/job/HypEx/hypex/dataset/backends/pandas_backend.py:476: FutureWarning: The behavior of Series.replace (and DataFrame.replace) with CategoricalDtype is deprecated. In a future version, replace will only be used for cases that preserve the categories. To change the categories, use ser.cat.rename_categories instead.\n",
      "  return self.data.replace(to_replace=to_replace, value=value, regex=regex)\n",
      "/home/tony_katkov/job/HypEx/hypex/dataset/backends/pandas_backend.py:476: FutureWarning: Downcasting behavior in `replace` is deprecated and will be removed in a future version. To retain the old behavior, explicitly call `result.infer_objects(copy=False)`. To opt-in to the future behavior, set `pd.set_option('future.no_silent_downcasting', True)`\n",
      "  return self.data.replace(to_replace=to_replace, value=value, regex=regex)\n",
      "/home/tony_katkov/job/HypEx/hypex/dataset/backends/pandas_backend.py:476: FutureWarning: The behavior of Series.replace (and DataFrame.replace) with CategoricalDtype is deprecated. In a future version, replace will only be used for cases that preserve the categories. To change the categories, use ser.cat.rename_categories instead.\n",
      "  return self.data.replace(to_replace=to_replace, value=value, regex=regex)\n",
      "/home/tony_katkov/job/HypEx/hypex/dataset/backends/pandas_backend.py:476: FutureWarning: The behavior of Series.replace (and DataFrame.replace) with CategoricalDtype is deprecated. In a future version, replace will only be used for cases that preserve the categories. To change the categories, use ser.cat.rename_categories instead.\n",
      "  return self.data.replace(to_replace=to_replace, value=value, regex=regex)\n",
      "/home/tony_katkov/job/HypEx/hypex/dataset/backends/pandas_backend.py:476: FutureWarning: The behavior of Series.replace (and DataFrame.replace) with CategoricalDtype is deprecated. In a future version, replace will only be used for cases that preserve the categories. To change the categories, use ser.cat.rename_categories instead.\n",
      "  return self.data.replace(to_replace=to_replace, value=value, regex=regex)\n"
     ]
    },
    {
     "data": {
      "text/plain": [
       "  TTest aa test KSTest aa test TTest best split KSTest best split  result  \\\n",
       "0        NOT OK         NOT OK               OK                OK  NOT OK   \n",
       "1        NOT OK         NOT OK               OK                OK  NOT OK   \n",
       "\n",
       "       feature group  \n",
       "0  post_spends     0  \n",
       "1   pre_spends     0  "
      ]
     },
     "execution_count": 7,
     "metadata": {},
     "output_type": "execute_result"
    }
   ],
   "source": [
    "AAPassedReporter().report(res)"
   ]
  },
  {
   "cell_type": "markdown",
   "metadata": {},
   "source": [
    "AABestSplitReporter returns the dataset with the best split among the ones covered by the AA test."
   ]
  },
  {
   "cell_type": "code",
   "execution_count": 8,
   "metadata": {},
   "outputs": [
    {
     "data": {
      "text/plain": [
       "      user_id  signup_month  treat  pre_spends  post_spends   age gender  \\\n",
       "0         0.0             0      0       488.0   414.444444   NaN      M   \n",
       "1         1.0             8      1       512.5   462.222222  26.0    NaN   \n",
       "2         2.0             7      1       483.0   479.444444  25.0      M   \n",
       "3         3.0             0      0       501.5   424.333333  39.0      M   \n",
       "4         4.0             1      1       543.0   514.555556  18.0      F   \n",
       "...       ...           ...    ...         ...          ...   ...    ...   \n",
       "9995   9995.0            10      1       538.5   450.444444  42.0      M   \n",
       "9996   9996.0             0      0       500.5   430.888889  26.0      F   \n",
       "9997   9997.0             3      1       473.0   534.111111  22.0      F   \n",
       "9998   9998.0             2      1       495.0   523.222222  67.0      F   \n",
       "9999   9999.0             7      1       508.0   475.888889  38.0      F   \n",
       "\n",
       "        industry    split  \n",
       "0     E-commerce  control  \n",
       "1     E-commerce  control  \n",
       "2      Logistics     test  \n",
       "3     E-commerce  control  \n",
       "4     E-commerce  control  \n",
       "...          ...      ...  \n",
       "9995   Logistics     test  \n",
       "9996   Logistics  control  \n",
       "9997  E-commerce     test  \n",
       "9998  E-commerce  control  \n",
       "9999  E-commerce  control  \n",
       "\n",
       "[10000 rows x 9 columns]"
      ]
     },
     "execution_count": 8,
     "metadata": {},
     "output_type": "execute_result"
    }
   ],
   "source": [
    "AABestSplitReporter().report(res)"
   ]
  },
  {
   "cell_type": "markdown",
   "metadata": {},
   "source": [
    "## AA test with stratification"
   ]
  },
  {
   "cell_type": "markdown",
   "metadata": {},
   "source": "Then we repeat that for the AA test with stratification, also setting the share of the control group in the split."
  },
  {
   "cell_type": "code",
   "execution_count": 9,
   "metadata": {},
   "outputs": [
    {
     "data": {
      "text/plain": [
       "<hypex.dataset.dataset.ExperimentData at 0x7f212d8a2bc0>"
      ]
     },
     "execution_count": 9,
     "metadata": {},
     "output_type": "execute_result"
    }
   ],
   "source": [
    "aa = AA_TEST_WITH_STRATIFICATION\n",
    "aa.executors[0].params[AASplitter]= {\"random_states\": range(10), \"control_size\": [0.3]}\n",
    "res = aa.execute(ExperimentData(data))\n",
    "res"
   ]
  },
  {
   "cell_type": "code",
   "execution_count": 10,
   "metadata": {},
   "outputs": [
    {
     "name": "stderr",
     "output_type": "stream",
     "text": [
      "/home/tony_katkov/job/HypEx/hypex/dataset/backends/pandas_backend.py:476: FutureWarning: Downcasting behavior in `replace` is deprecated and will be removed in a future version. To retain the old behavior, explicitly call `result.infer_objects(copy=False)`. To opt-in to the future behavior, set `pd.set_option('future.no_silent_downcasting', True)`\n",
      "  return self.data.replace(to_replace=to_replace, value=value, regex=regex)\n",
      "/home/tony_katkov/job/HypEx/hypex/dataset/backends/pandas_backend.py:476: FutureWarning: The behavior of Series.replace (and DataFrame.replace) with CategoricalDtype is deprecated. In a future version, replace will only be used for cases that preserve the categories. To change the categories, use ser.cat.rename_categories instead.\n",
      "  return self.data.replace(to_replace=to_replace, value=value, regex=regex)\n",
      "/home/tony_katkov/job/HypEx/hypex/dataset/backends/pandas_backend.py:476: FutureWarning: Downcasting behavior in `replace` is deprecated and will be removed in a future version. To retain the old behavior, explicitly call `result.infer_objects(copy=False)`. To opt-in to the future behavior, set `pd.set_option('future.no_silent_downcasting', True)`\n",
      "  return self.data.replace(to_replace=to_replace, value=value, regex=regex)\n",
      "/home/tony_katkov/job/HypEx/hypex/dataset/backends/pandas_backend.py:476: FutureWarning: The behavior of Series.replace (and DataFrame.replace) with CategoricalDtype is deprecated. In a future version, replace will only be used for cases that preserve the categories. To change the categories, use ser.cat.rename_categories instead.\n",
      "  return self.data.replace(to_replace=to_replace, value=value, regex=regex)\n",
      "/home/tony_katkov/job/HypEx/hypex/dataset/backends/pandas_backend.py:476: FutureWarning: The behavior of Series.replace (and DataFrame.replace) with CategoricalDtype is deprecated. In a future version, replace will only be used for cases that preserve the categories. To change the categories, use ser.cat.rename_categories instead.\n",
      "  return self.data.replace(to_replace=to_replace, value=value, regex=regex)\n",
      "/home/tony_katkov/job/HypEx/hypex/dataset/backends/pandas_backend.py:476: FutureWarning: The behavior of Series.replace (and DataFrame.replace) with CategoricalDtype is deprecated. In a future version, replace will only be used for cases that preserve the categories. To change the categories, use ser.cat.rename_categories instead.\n",
      "  return self.data.replace(to_replace=to_replace, value=value, regex=regex)\n"
     ]
    },
    {
     "data": {
      "text/plain": [
       "  TTest aa test KSTest aa test TTest best split KSTest best split  result  \\\n",
       "0        NOT OK         NOT OK               OK                OK  NOT OK   \n",
       "1        NOT OK         NOT OK               OK                OK  NOT OK   \n",
       "\n",
       "       feature group  \n",
       "0  post_spends     0  \n",
       "1   pre_spends     0  "
      ]
     },
     "execution_count": 10,
     "metadata": {},
     "output_type": "execute_result"
    }
   ],
   "source": [
    "AAPassedReporter().report(res)"
   ]
  },
  {
   "cell_type": "code",
   "execution_count": 11,
   "metadata": {},
   "outputs": [
    {
     "data": {
      "text/plain": [
       "      user_id  signup_month  treat  pre_spends  post_spends   age gender  \\\n",
       "0         0.0             0      0       488.0   414.444444   NaN      M   \n",
       "1         1.0             8      1       512.5   462.222222  26.0    NaN   \n",
       "2         2.0             7      1       483.0   479.444444  25.0      M   \n",
       "3         3.0             0      0       501.5   424.333333  39.0      M   \n",
       "4         4.0             1      1       543.0   514.555556  18.0      F   \n",
       "...       ...           ...    ...         ...          ...   ...    ...   \n",
       "9995   9995.0            10      1       538.5   450.444444  42.0      M   \n",
       "9996   9996.0             0      0       500.5   430.888889  26.0      F   \n",
       "9997   9997.0             3      1       473.0   534.111111  22.0      F   \n",
       "9998   9998.0             2      1       495.0   523.222222  67.0      F   \n",
       "9999   9999.0             7      1       508.0   475.888889  38.0      F   \n",
       "\n",
       "        industry    split  \n",
       "0     E-commerce     test  \n",
       "1     E-commerce     test  \n",
       "2      Logistics  control  \n",
       "3     E-commerce     test  \n",
       "4     E-commerce     test  \n",
       "...          ...      ...  \n",
       "9995   Logistics     test  \n",
       "9996   Logistics     test  \n",
       "9997  E-commerce     test  \n",
       "9998  E-commerce     test  \n",
       "9999  E-commerce     test  \n",
       "\n",
       "[10000 rows x 9 columns]"
      ]
     },
     "execution_count": 11,
     "metadata": {},
     "output_type": "execute_result"
    }
   ],
   "source": [
    "AABestSplitReporter().report(res)"
   ]
  }
 ],
 "metadata": {
  "kernelspec": {
   "display_name": "Python 3",
   "language": "python",
   "name": "python3"
  },
  "language_info": {
   "codemirror_mode": {
    "name": "ipython",
    "version": 3
   },
   "file_extension": ".py",
   "mimetype": "text/x-python",
   "name": "python",
   "nbconvert_exporter": "python",
   "pygments_lexer": "ipython3",
   "version": "3.10.12"
  }
 },
 "nbformat": 4,
 "nbformat_minor": 2
}
