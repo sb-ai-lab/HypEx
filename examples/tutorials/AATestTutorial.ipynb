{
 "cells": [
  {
   "cell_type": "markdown",
   "id": "35b63454542e9139",
   "metadata": {
    "collapsed": false
   },
   "source": [
    "# AA test tutorial \n",
    "AA test is important part of randomized controlled experiment, for example AB test. \n",
    "\n",
    "The objectives of the AA test are to verify the assumption of uniformity of samples as a result of the applied partitioning method, to select the best partition from the available ones, and to verify the applicability of statistical criteria for checking uniformity. \n",
    "\n",
    "For example, there is a hypothesis about the absence of dependence of features on each other. If this hypothesis is not followed, the AA test will fail."
   ]
  },
  {
   "cell_type": "markdown",
   "id": "d55e33194a3247f0",
   "metadata": {
    "collapsed": false
   },
   "source": [
    "<ul>\n",
    "  <li><a href=\"#creation-of-a-new-test-dataset-with-synthetic-data\">Creation of a new test dataset with synthetic data.\n",
    "  <li><a href=\"#one-split-of-aa-test\">One split of AA test.\n",
    "  <li><a href=\"#aa-test\">AA test.\n",
    "  <li><a href=\"#aa-test-with-stratification\">AA test with stratification.\n",
    "</ul>"
   ]
  },
  {
   "cell_type": "code",
   "execution_count": 1,
   "id": "f890151fc64fd3fa",
   "metadata": {
    "ExecuteTime": {
     "end_time": "2024-08-23T13:24:05.855328800Z",
     "start_time": "2024-08-23T13:24:01.564814900Z"
    },
    "collapsed": false
   },
   "outputs": [
    {
     "name": "stderr",
     "output_type": "stream",
     "text": [
      "/home/codespace/.python/current/lib/python3.10/site-packages/tqdm/auto.py:21: TqdmWarning: IProgress not found. Please update jupyter and ipywidgets. See https://ipywidgets.readthedocs.io/en/stable/user_install.html\n",
      "  from .autonotebook import tqdm as notebook_tqdm\n"
     ]
    }
   ],
   "source": [
    "from hypex.dataset import Dataset, InfoRole, TreatmentRole, TargetRole, StratificationRole\n",
    "from hypex import AATest"
   ]
  },
  {
   "cell_type": "markdown",
   "id": "bd8ae5c13f2b538e",
   "metadata": {
    "collapsed": false
   },
   "source": [
    "## Creation of a new test dataset with synthetic data. \n",
    "\n",
    "In order to be able to work with our data in HypEx, first we need to convert it into `dataset`. It is important to mark the data fields by assigning the appropriate `roles`:\n",
    "- FeatureRole: a role for columns that contain features or predictor variables. Our split will be based on them. Applied by default if the role is not specified for the column.\n",
    "- TreatmentRole: a role for columns that show the treatment or intervention.\n",
    "- TargetRole: a role for columns that show the target or outcome variable.\n",
    "- InfoRole: a role for columns that contain information about the data, such as user IDs. "
   ]
  },
  {
   "cell_type": "code",
   "execution_count": 2,
   "id": "70e663c02efb6980",
   "metadata": {
    "ExecuteTime": {
     "end_time": "2024-08-23T13:24:06.047937400Z",
     "start_time": "2024-08-23T13:24:05.856410300Z"
    },
    "collapsed": false
   },
   "outputs": [
    {
     "data": {
      "text/plain": [
       "      user_id  signup_month  treat  pre_spends  post_spends   age gender  \\\n",
       "0           0             0      0       488.0   414.444444   NaN      M   \n",
       "1           1             8      1       512.5   462.222222  26.0    NaN   \n",
       "2           2             7      1       483.0   479.444444  25.0      M   \n",
       "3           3             0      0       501.5   424.333333  39.0      M   \n",
       "4           4             1      1       543.0   514.555556  18.0      F   \n",
       "...       ...           ...    ...         ...          ...   ...    ...   \n",
       "9995     9995            10      1       538.5   450.444444  42.0      M   \n",
       "9996     9996             0      0       500.5   430.888889  26.0      F   \n",
       "9997     9997             3      1       473.0   534.111111  22.0      F   \n",
       "9998     9998             2      1       495.0   523.222222  67.0      F   \n",
       "9999     9999             7      1       508.0   475.888889  38.0      F   \n",
       "\n",
       "        industry  \n",
       "0     E-commerce  \n",
       "1     E-commerce  \n",
       "2      Logistics  \n",
       "3     E-commerce  \n",
       "4     E-commerce  \n",
       "...          ...  \n",
       "9995   Logistics  \n",
       "9996   Logistics  \n",
       "9997  E-commerce  \n",
       "9998  E-commerce  \n",
       "9999  E-commerce  \n",
       "\n",
       "[10000 rows x 8 columns]"
      ]
     },
     "execution_count": 2,
     "metadata": {},
     "output_type": "execute_result"
    }
   ],
   "source": [
    "data = Dataset(\n",
    "    roles={\n",
    "        \"user_id\": InfoRole(int),\n",
    "        \"treat\": TreatmentRole(int),\n",
    "        \"pre_spends\": TargetRole(),\n",
    "        \"post_spends\": TargetRole(),\n",
    "        \"gender\": StratificationRole(str)\n",
    "    }, data=\"data.csv\",\n",
    ")\n",
    "data"
   ]
  },
  {
   "cell_type": "markdown",
   "id": "fb03d99c85e1216d",
   "metadata": {
    "collapsed": false
   },
   "source": [
    "## AA test\n",
    "Then we run the experiment on our prepared dataset, wrapped into ExperimentData. In this case we select one of the pre-assembled pipeline, AA_TEST.\n",
    "We can set the number of iterations for simple execution. In this case the random states are the numbers of each iteration."
   ]
  },
  {
   "cell_type": "code",
   "execution_count": 3,
   "id": "initial_id",
   "metadata": {
    "ExecuteTime": {
     "end_time": "2024-08-23T13:18:47.488498300Z",
     "start_time": "2024-08-23T13:18:35.479281500Z"
    },
    "collapsed": true
   },
   "outputs": [
    {
     "name": "stderr",
     "output_type": "stream",
     "text": [
      "/workspaces/HypEx/hypex/dataset/backends/pandas_backend.py:505: FutureWarning: Downcasting behavior in `replace` is deprecated and will be removed in a future version. To retain the old behavior, explicitly call `result.infer_objects(copy=False)`. To opt-in to the future behavior, set `pd.set_option('future.no_silent_downcasting', True)`\n",
      "  return self.data.replace(to_replace=to_replace, value=value, regex=regex)\n",
      "/workspaces/HypEx/hypex/dataset/backends/pandas_backend.py:505: FutureWarning: The behavior of Series.replace (and DataFrame.replace) with CategoricalDtype is deprecated. In a future version, replace will only be used for cases that preserve the categories. To change the categories, use ser.cat.rename_categories instead.\n",
      "  return self.data.replace(to_replace=to_replace, value=value, regex=regex)\n",
      "/workspaces/HypEx/hypex/dataset/backends/pandas_backend.py:505: FutureWarning: Downcasting behavior in `replace` is deprecated and will be removed in a future version. To retain the old behavior, explicitly call `result.infer_objects(copy=False)`. To opt-in to the future behavior, set `pd.set_option('future.no_silent_downcasting', True)`\n",
      "  return self.data.replace(to_replace=to_replace, value=value, regex=regex)\n",
      "/workspaces/HypEx/hypex/dataset/backends/pandas_backend.py:505: FutureWarning: The behavior of Series.replace (and DataFrame.replace) with CategoricalDtype is deprecated. In a future version, replace will only be used for cases that preserve the categories. To change the categories, use ser.cat.rename_categories instead.\n",
      "  return self.data.replace(to_replace=to_replace, value=value, regex=regex)\n",
      "/workspaces/HypEx/hypex/dataset/backends/pandas_backend.py:505: FutureWarning: The behavior of Series.replace (and DataFrame.replace) with CategoricalDtype is deprecated. In a future version, replace will only be used for cases that preserve the categories. To change the categories, use ser.cat.rename_categories instead.\n",
      "  return self.data.replace(to_replace=to_replace, value=value, regex=regex)\n",
      "/workspaces/HypEx/hypex/dataset/backends/pandas_backend.py:505: FutureWarning: The behavior of Series.replace (and DataFrame.replace) with CategoricalDtype is deprecated. In a future version, replace will only be used for cases that preserve the categories. To change the categories, use ser.cat.rename_categories instead.\n",
      "  return self.data.replace(to_replace=to_replace, value=value, regex=regex)\n"
     ]
    }
   ],
   "source": [
    "aa = AATest(n_iterations=10)\n",
    "res = aa.execute(data)"
   ]
  },
  {
   "cell_type": "code",
   "execution_count": 4,
   "id": "41e9963a",
   "metadata": {
    "ExecuteTime": {
     "end_time": "2024-08-23T13:18:47.510922400Z",
     "start_time": "2024-08-23T13:18:47.491177500Z"
    }
   },
   "outputs": [
    {
     "data": {
      "text/plain": [
       "  TTest aa test KSTest aa test TTest best split KSTest best split  result  \\\n",
       "0        NOT OK         NOT OK               OK                OK  NOT OK   \n",
       "1        NOT OK         NOT OK               OK                OK  NOT OK   \n",
       "\n",
       "       feature    group  \n",
       "0  post_spends  control  \n",
       "1   pre_spends  control  "
      ]
     },
     "execution_count": 4,
     "metadata": {},
     "output_type": "execute_result"
    }
   ],
   "source": [
    "res.resume"
   ]
  },
  {
   "cell_type": "code",
   "execution_count": 5,
   "id": "50ae28a8",
   "metadata": {
    "ExecuteTime": {
     "end_time": "2024-08-23T13:18:47.628673800Z",
     "start_time": "2024-08-23T13:18:47.506355100Z"
    }
   },
   "outputs": [
    {
     "data": {
      "text/plain": [
       "                             pass     score\n",
       "pre_spends TTest control    False  0.653814\n",
       "post_spends TTest control   False  0.664092\n",
       "pre_spends KSTest control   False  0.639293\n",
       "post_spends KSTest control  False  0.637995"
      ]
     },
     "execution_count": 5,
     "metadata": {},
     "output_type": "execute_result"
    }
   ],
   "source": [
    "res.aa_score"
   ]
  },
  {
   "cell_type": "code",
   "execution_count": 6,
   "id": "cc42c534",
   "metadata": {
    "ExecuteTime": {
     "end_time": "2024-08-23T13:18:47.632693500Z",
     "start_time": "2024-08-23T13:18:47.521593600Z"
    }
   },
   "outputs": [
    {
     "data": {
      "text/plain": [
       "      user_id  signup_month  treat  pre_spends  post_spends   age gender  \\\n",
       "0           0             0      0       488.0   414.444444   NaN      M   \n",
       "1           1             8      1       512.5   462.222222  26.0    NaN   \n",
       "2           2             7      1       483.0   479.444444  25.0      M   \n",
       "3           3             0      0       501.5   424.333333  39.0      M   \n",
       "4           4             1      1       543.0   514.555556  18.0      F   \n",
       "...       ...           ...    ...         ...          ...   ...    ...   \n",
       "9995     9995            10      1       538.5   450.444444  42.0      M   \n",
       "9996     9996             0      0       500.5   430.888889  26.0      F   \n",
       "9997     9997             3      1       473.0   534.111111  22.0      F   \n",
       "9998     9998             2      1       495.0   523.222222  67.0      F   \n",
       "9999     9999             7      1       508.0   475.888889  38.0      F   \n",
       "\n",
       "        industry    split  \n",
       "0     E-commerce  control  \n",
       "1     E-commerce     test  \n",
       "2      Logistics     test  \n",
       "3     E-commerce  control  \n",
       "4     E-commerce  control  \n",
       "...          ...      ...  \n",
       "9995   Logistics  control  \n",
       "9996   Logistics  control  \n",
       "9997  E-commerce     test  \n",
       "9998  E-commerce     test  \n",
       "9999  E-commerce  control  \n",
       "\n",
       "[10000 rows x 9 columns]"
      ]
     },
     "execution_count": 6,
     "metadata": {},
     "output_type": "execute_result"
    }
   ],
   "source": [
    "res.best_split"
   ]
  },
  {
   "cell_type": "code",
   "execution_count": 7,
   "id": "18351884",
   "metadata": {
    "ExecuteTime": {
     "end_time": "2024-08-23T13:18:47.674869900Z",
     "start_time": "2024-08-23T13:18:47.557336Z"
    }
   },
   "outputs": [
    {
     "data": {
      "text/plain": [
       "       feature    group TTest pass  TTest p-value KSTest pass  KSTest p-value\n",
       "0   pre_spends  control         OK       0.645746          OK        0.932542\n",
       "1  post_spends  control         OK       0.357727          OK        0.577046"
      ]
     },
     "execution_count": 7,
     "metadata": {},
     "output_type": "execute_result"
    }
   ],
   "source": [
    "res.best_split_statistic"
   ]
  },
  {
   "cell_type": "code",
   "execution_count": 8,
   "id": "0da18405",
   "metadata": {
    "ExecuteTime": {
     "end_time": "2024-08-23T13:18:47.748804600Z",
     "start_time": "2024-08-23T13:18:47.647468Z"
    }
   },
   "outputs": [
    {
     "data": {
      "text/plain": [
       "        splitter_id  pre_spends GroupDifference control mean control  \\\n",
       "0  AASplitter┴rs 0┴                                         487.3801   \n",
       "1  AASplitter┴rs 1┴                                         487.3333   \n",
       "2  AASplitter┴rs 2┴                                         487.0445   \n",
       "3  AASplitter┴rs 3┴                                         486.6742   \n",
       "4  AASplitter┴rs 4┴                                         487.1970   \n",
       "5  AASplitter┴rs 5┴                                         486.8953   \n",
       "6  AASplitter┴rs 6┴                                         487.3100   \n",
       "7  AASplitter┴rs 7┴                                         487.1805   \n",
       "8  AASplitter┴rs 8┴                                         487.3882   \n",
       "9  AASplitter┴rs 9┴                                         487.0735   \n",
       "\n",
       "   pre_spends GroupDifference test mean control  \\\n",
       "0                                      486.8074   \n",
       "1                                      486.8542   \n",
       "2                                      487.1430   \n",
       "3                                      487.5133   \n",
       "4                                      486.9905   \n",
       "5                                      487.2922   \n",
       "6                                      486.8775   \n",
       "7                                      487.0070   \n",
       "8                                      486.7993   \n",
       "9                                      487.1140   \n",
       "\n",
       "   pre_spends GroupDifference difference control  \\\n",
       "0                                        -0.5727   \n",
       "1                                        -0.4791   \n",
       "2                                         0.0985   \n",
       "3                                         0.8391   \n",
       "4                                        -0.2065   \n",
       "5                                         0.3969   \n",
       "6                                        -0.4325   \n",
       "7                                        -0.1735   \n",
       "8                                        -0.5889   \n",
       "9                                         0.0405   \n",
       "\n",
       "   pre_spends GroupDifference difference % control  \\\n",
       "0                                        -0.117506   \n",
       "1                                        -0.098311   \n",
       "2                                         0.020224   \n",
       "3                                         0.172415   \n",
       "4                                        -0.042385   \n",
       "5                                         0.081516   \n",
       "6                                        -0.088753   \n",
       "7                                        -0.035613   \n",
       "8                                        -0.120828   \n",
       "9                                         0.008315   \n",
       "\n",
       "   post_spends GroupDifference control mean control  \\\n",
       "0                                        452.604911   \n",
       "1                                        452.177711   \n",
       "2                                        452.824200   \n",
       "3                                        451.250333   \n",
       "4                                        452.412622   \n",
       "5                                        452.642222   \n",
       "6                                        452.701422   \n",
       "7                                        451.802133   \n",
       "8                                        452.404267   \n",
       "9                                        452.001600   \n",
       "\n",
       "   post_spends GroupDifference test mean control  \\\n",
       "0                                     451.724200   \n",
       "1                                     452.151400   \n",
       "2                                     451.504911   \n",
       "3                                     453.078778   \n",
       "4                                     451.916489   \n",
       "5                                     451.686889   \n",
       "6                                     451.627689   \n",
       "7                                     452.526978   \n",
       "8                                     451.924844   \n",
       "9                                     452.327511   \n",
       "\n",
       "   post_spends GroupDifference difference control  \\\n",
       "0                                       -0.880711   \n",
       "1                                       -0.026311   \n",
       "2                                       -1.319289   \n",
       "3                                        1.828444   \n",
       "4                                       -0.496133   \n",
       "5                                       -0.955333   \n",
       "6                                       -1.073733   \n",
       "7                                        0.724844   \n",
       "8                                       -0.479422   \n",
       "9                                        0.325911   \n",
       "\n",
       "   post_spends GroupDifference difference % control  \\\n",
       "0                                         -0.194587   \n",
       "1                                         -0.005819   \n",
       "2                                         -0.291347   \n",
       "3                                          0.405195   \n",
       "4                                         -0.109664   \n",
       "5                                         -0.211057   \n",
       "6                                         -0.237184   \n",
       "7                                          0.160434   \n",
       "8                                         -0.105972   \n",
       "9                                          0.072104   \n",
       "\n",
       "   treat GroupSizes control size control  ...  \\\n",
       "0                                 5000.0  ...   \n",
       "1                                    NaN  ...   \n",
       "2                                    NaN  ...   \n",
       "3                                    NaN  ...   \n",
       "4                                    NaN  ...   \n",
       "5                                    NaN  ...   \n",
       "6                                    NaN  ...   \n",
       "7                                    NaN  ...   \n",
       "8                                    NaN  ...   \n",
       "9                                    NaN  ...   \n",
       "\n",
       "   post_spends KSTest pass control  mean TTest p-value  mean TTest pass  \\\n",
       "0                            False            0.196474              0.0   \n",
       "1                            False            0.588834              0.0   \n",
       "2                            False            0.444120              0.0   \n",
       "3                            False            0.023258              1.0   \n",
       "4                            False            0.556661              0.0   \n",
       "5                            False            0.259216              0.0   \n",
       "6                            False            0.212447              0.0   \n",
       "7                            False            0.501737              0.0   \n",
       "8                            False            0.330834              0.0   \n",
       "9                            False            0.796888              0.0   \n",
       "\n",
       "   mean KSTest p-value  mean KSTest pass  mean test score  \\\n",
       "0             0.252129               0.5         0.233577   \n",
       "1             0.490752               0.0         0.523446   \n",
       "2             0.452796               0.0         0.449904   \n",
       "3             0.130645               0.0         0.094849   \n",
       "4             0.362782               0.0         0.427409   \n",
       "5             0.399740               0.0         0.352899   \n",
       "6             0.349031               0.0         0.303503   \n",
       "7             0.754794               0.0         0.670441   \n",
       "8             0.392027               0.5         0.371629   \n",
       "9             0.528860               0.0         0.618203   \n",
       "\n",
       "   post_spends GroupSizes control size control  \\\n",
       "0                                          NaN   \n",
       "1                                       5000.0   \n",
       "2                                       5000.0   \n",
       "3                                       5000.0   \n",
       "4                                       5000.0   \n",
       "5                                       5000.0   \n",
       "6                                       5000.0   \n",
       "7                                       5000.0   \n",
       "8                                       5000.0   \n",
       "9                                       5000.0   \n",
       "\n",
       "   post_spends GroupSizes test size control  \\\n",
       "0                                       NaN   \n",
       "1                                    5000.0   \n",
       "2                                    5000.0   \n",
       "3                                    5000.0   \n",
       "4                                    5000.0   \n",
       "5                                    5000.0   \n",
       "6                                    5000.0   \n",
       "7                                    5000.0   \n",
       "8                                    5000.0   \n",
       "9                                    5000.0   \n",
       "\n",
       "   post_spends GroupSizes control size % control  \\\n",
       "0                                            NaN   \n",
       "1                                           50.0   \n",
       "2                                           50.0   \n",
       "3                                           50.0   \n",
       "4                                           50.0   \n",
       "5                                           50.0   \n",
       "6                                           50.0   \n",
       "7                                           50.0   \n",
       "8                                           50.0   \n",
       "9                                           50.0   \n",
       "\n",
       "   post_spends GroupSizes test size % control  \n",
       "0                                         NaN  \n",
       "1                                        50.0  \n",
       "2                                        50.0  \n",
       "3                                        50.0  \n",
       "4                                        50.0  \n",
       "5                                        50.0  \n",
       "6                                        50.0  \n",
       "7                                        50.0  \n",
       "8                                        50.0  \n",
       "9                                        50.0  \n",
       "\n",
       "[10 rows x 30 columns]"
      ]
     },
     "execution_count": 8,
     "metadata": {},
     "output_type": "execute_result"
    }
   ],
   "source": [
    "res.experiments"
   ]
  },
  {
   "cell_type": "markdown",
   "id": "76c81d6d6570d58f",
   "metadata": {
    "collapsed": false
   },
   "source": [
    "# AA Test with random states\n",
    "\n",
    "We can also adjust some of the preset parameters of the experiment by assigning them to the respective params of the experiment. I.e. here we set the range of the random states we want to run our AA test for. "
   ]
  },
  {
   "cell_type": "code",
   "execution_count": 9,
   "id": "a6038ed8",
   "metadata": {
    "ExecuteTime": {
     "end_time": "2024-08-23T13:18:53.469790800Z",
     "start_time": "2024-08-23T13:18:47.679186500Z"
    }
   },
   "outputs": [
    {
     "name": "stderr",
     "output_type": "stream",
     "text": [
      "/workspaces/HypEx/hypex/dataset/backends/pandas_backend.py:505: FutureWarning: Downcasting behavior in `replace` is deprecated and will be removed in a future version. To retain the old behavior, explicitly call `result.infer_objects(copy=False)`. To opt-in to the future behavior, set `pd.set_option('future.no_silent_downcasting', True)`\n",
      "  return self.data.replace(to_replace=to_replace, value=value, regex=regex)\n",
      "/workspaces/HypEx/hypex/dataset/backends/pandas_backend.py:505: FutureWarning: The behavior of Series.replace (and DataFrame.replace) with CategoricalDtype is deprecated. In a future version, replace will only be used for cases that preserve the categories. To change the categories, use ser.cat.rename_categories instead.\n",
      "  return self.data.replace(to_replace=to_replace, value=value, regex=regex)\n",
      "/workspaces/HypEx/hypex/dataset/backends/pandas_backend.py:505: FutureWarning: Downcasting behavior in `replace` is deprecated and will be removed in a future version. To retain the old behavior, explicitly call `result.infer_objects(copy=False)`. To opt-in to the future behavior, set `pd.set_option('future.no_silent_downcasting', True)`\n",
      "  return self.data.replace(to_replace=to_replace, value=value, regex=regex)\n",
      "/workspaces/HypEx/hypex/dataset/backends/pandas_backend.py:505: FutureWarning: The behavior of Series.replace (and DataFrame.replace) with CategoricalDtype is deprecated. In a future version, replace will only be used for cases that preserve the categories. To change the categories, use ser.cat.rename_categories instead.\n",
      "  return self.data.replace(to_replace=to_replace, value=value, regex=regex)\n",
      "/workspaces/HypEx/hypex/dataset/backends/pandas_backend.py:505: FutureWarning: The behavior of Series.replace (and DataFrame.replace) with CategoricalDtype is deprecated. In a future version, replace will only be used for cases that preserve the categories. To change the categories, use ser.cat.rename_categories instead.\n",
      "  return self.data.replace(to_replace=to_replace, value=value, regex=regex)\n",
      "/workspaces/HypEx/hypex/dataset/backends/pandas_backend.py:505: FutureWarning: The behavior of Series.replace (and DataFrame.replace) with CategoricalDtype is deprecated. In a future version, replace will only be used for cases that preserve the categories. To change the categories, use ser.cat.rename_categories instead.\n",
      "  return self.data.replace(to_replace=to_replace, value=value, regex=regex)\n"
     ]
    }
   ],
   "source": [
    "aa = AATest(random_states=[56, 72, 2, 43])\n",
    "res = aa.execute(data)"
   ]
  },
  {
   "cell_type": "code",
   "execution_count": 10,
   "id": "6bebccfe9b91ae2e",
   "metadata": {
    "ExecuteTime": {
     "end_time": "2024-08-23T13:18:53.530507100Z",
     "start_time": "2024-08-23T13:18:53.474167600Z"
    },
    "collapsed": false
   },
   "outputs": [
    {
     "data": {
      "text/plain": [
       "  TTest aa test KSTest aa test TTest best split KSTest best split  result  \\\n",
       "0        NOT OK         NOT OK               OK                OK  NOT OK   \n",
       "1        NOT OK         NOT OK               OK                OK  NOT OK   \n",
       "\n",
       "       feature    group  \n",
       "0  post_spends  control  \n",
       "1   pre_spends  control  "
      ]
     },
     "execution_count": 10,
     "metadata": {},
     "output_type": "execute_result"
    }
   ],
   "source": [
    "res.resume"
   ]
  },
  {
   "cell_type": "code",
   "execution_count": 11,
   "id": "2a6d8f9df6978913",
   "metadata": {
    "ExecuteTime": {
     "end_time": "2024-08-23T13:18:53.532665200Z",
     "start_time": "2024-08-23T13:18:53.502583Z"
    },
    "collapsed": false
   },
   "outputs": [
    {
     "data": {
      "text/plain": [
       "                             pass     score\n",
       "pre_spends TTest control    False  0.652500\n",
       "post_spends TTest control   False  0.645896\n",
       "pre_spends KSTest control   False  0.605599\n",
       "post_spends KSTest control  False  0.533713"
      ]
     },
     "execution_count": 11,
     "metadata": {},
     "output_type": "execute_result"
    }
   ],
   "source": [
    "res.aa_score"
   ]
  },
  {
   "cell_type": "code",
   "execution_count": 12,
   "id": "e318afc40736069d",
   "metadata": {
    "ExecuteTime": {
     "end_time": "2024-08-23T13:18:53.572184500Z",
     "start_time": "2024-08-23T13:18:53.518173300Z"
    },
    "collapsed": false
   },
   "outputs": [
    {
     "data": {
      "text/plain": [
       "      user_id  signup_month  treat  pre_spends  post_spends   age gender  \\\n",
       "0           0             0      0       488.0   414.444444   NaN      M   \n",
       "1           1             8      1       512.5   462.222222  26.0    NaN   \n",
       "2           2             7      1       483.0   479.444444  25.0      M   \n",
       "3           3             0      0       501.5   424.333333  39.0      M   \n",
       "4           4             1      1       543.0   514.555556  18.0      F   \n",
       "...       ...           ...    ...         ...          ...   ...    ...   \n",
       "9995     9995            10      1       538.5   450.444444  42.0      M   \n",
       "9996     9996             0      0       500.5   430.888889  26.0      F   \n",
       "9997     9997             3      1       473.0   534.111111  22.0      F   \n",
       "9998     9998             2      1       495.0   523.222222  67.0      F   \n",
       "9999     9999             7      1       508.0   475.888889  38.0      F   \n",
       "\n",
       "        industry    split  \n",
       "0     E-commerce  control  \n",
       "1     E-commerce     test  \n",
       "2      Logistics  control  \n",
       "3     E-commerce     test  \n",
       "4     E-commerce  control  \n",
       "...          ...      ...  \n",
       "9995   Logistics     test  \n",
       "9996   Logistics  control  \n",
       "9997  E-commerce     test  \n",
       "9998  E-commerce     test  \n",
       "9999  E-commerce  control  \n",
       "\n",
       "[10000 rows x 9 columns]"
      ]
     },
     "execution_count": 12,
     "metadata": {},
     "output_type": "execute_result"
    }
   ],
   "source": [
    "res.best_split"
   ]
  },
  {
   "cell_type": "code",
   "execution_count": 13,
   "id": "bd1a332ab687cef",
   "metadata": {
    "ExecuteTime": {
     "end_time": "2024-08-23T13:18:53.584350300Z",
     "start_time": "2024-08-23T13:18:53.549965300Z"
    },
    "collapsed": false
   },
   "outputs": [
    {
     "data": {
      "text/plain": [
       "       feature    group TTest pass  TTest p-value KSTest pass  KSTest p-value\n",
       "0   pre_spends  control         OK       0.519864          OK        0.694583\n",
       "1  post_spends  control         OK       0.998020          OK        0.677788"
      ]
     },
     "execution_count": 13,
     "metadata": {},
     "output_type": "execute_result"
    }
   ],
   "source": [
    "res.best_split_statistic"
   ]
  },
  {
   "cell_type": "code",
   "execution_count": 14,
   "id": "96b29db891fa2462",
   "metadata": {
    "ExecuteTime": {
     "end_time": "2024-08-23T13:18:53.633621600Z",
     "start_time": "2024-08-23T13:18:53.564902500Z"
    },
    "collapsed": false
   },
   "outputs": [
    {
     "data": {
      "text/plain": [
       "         splitter_id  pre_spends GroupDifference control mean control  \\\n",
       "0  AASplitter┴rs 56┴                                         486.7993   \n",
       "1  AASplitter┴rs 72┴                                         486.9723   \n",
       "2   AASplitter┴rs 2┴                                         487.0445   \n",
       "3  AASplitter┴rs 43┴                                         487.3606   \n",
       "\n",
       "   pre_spends GroupDifference test mean control  \\\n",
       "0                                      487.3882   \n",
       "1                                      487.2152   \n",
       "2                                      487.1430   \n",
       "3                                      486.8269   \n",
       "\n",
       "   pre_spends GroupDifference difference control  \\\n",
       "0                                         0.5889   \n",
       "1                                         0.2429   \n",
       "2                                         0.0985   \n",
       "3                                        -0.5337   \n",
       "\n",
       "   pre_spends GroupDifference difference % control  \\\n",
       "0                                         0.120974   \n",
       "1                                         0.049880   \n",
       "2                                         0.020224   \n",
       "3                                        -0.109508   \n",
       "\n",
       "   post_spends GroupDifference control mean control  \\\n",
       "0                                        452.483711   \n",
       "1                                        452.163578   \n",
       "2                                        452.824200   \n",
       "3                                        451.528111   \n",
       "\n",
       "   post_spends GroupDifference test mean control  \\\n",
       "0                                     451.845400   \n",
       "1                                     452.165533   \n",
       "2                                     451.504911   \n",
       "3                                     452.801000   \n",
       "\n",
       "   post_spends GroupDifference difference control  \\\n",
       "0                                       -0.638311   \n",
       "1                                        0.001956   \n",
       "2                                       -1.319289   \n",
       "3                                        1.272889   \n",
       "\n",
       "   post_spends GroupDifference difference % control  \\\n",
       "0                                         -0.141068   \n",
       "1                                          0.000432   \n",
       "2                                         -0.291347   \n",
       "3                                          0.281907   \n",
       "\n",
       "   post_spends GroupSizes control size control  ...  \\\n",
       "0                                         5000  ...   \n",
       "1                                         5000  ...   \n",
       "2                                         5000  ...   \n",
       "3                                         5000  ...   \n",
       "\n",
       "   post_spends TTest pass control  pre_spends KSTest p-value control  \\\n",
       "0                           False                           0.002465   \n",
       "1                           False                           0.694583   \n",
       "2                           False                           0.727866   \n",
       "3                           False                           0.352691   \n",
       "\n",
       "   pre_spends KSTest pass control  post_spends KSTest p-value control  \\\n",
       "0                            True                            0.744274   \n",
       "1                           False                            0.677788   \n",
       "2                           False                            0.177727   \n",
       "3                           False                            0.465358   \n",
       "\n",
       "   post_spends KSTest pass control  mean TTest p-value  mean TTest pass  \\\n",
       "0                            False            0.268336              0.0   \n",
       "1                            False            0.758942              0.0   \n",
       "2                            False            0.444120              0.0   \n",
       "3                            False            0.131809              0.0   \n",
       "\n",
       "   mean KSTest p-value  mean KSTest pass  mean test score  \n",
       "0             0.373370               0.5         0.338359  \n",
       "1             0.686186               0.0         0.710438  \n",
       "2             0.452796               0.0         0.449904  \n",
       "3             0.409024               0.0         0.316619  \n",
       "\n",
       "[4 rows x 26 columns]"
      ]
     },
     "execution_count": 14,
     "metadata": {},
     "output_type": "execute_result"
    }
   ],
   "source": [
    "res.experiments"
   ]
  },
  {
   "cell_type": "markdown",
   "id": "1b37db00a1a4a49f",
   "metadata": {
    "collapsed": false
   },
   "source": [
    "# AA Test with stratification\n",
    "\n",
    "Depending on your requirements it is possible to stratify the data. You can set `stratification=True` and `StratificationRole` in `Dataset` to run it with stratification.  "
   ]
  },
  {
   "cell_type": "code",
   "execution_count": 15,
   "id": "da9ab2f374ce1273",
   "metadata": {
    "ExecuteTime": {
     "end_time": "2024-08-23T13:18:56.735150500Z",
     "start_time": "2024-08-23T13:18:53.591349800Z"
    },
    "collapsed": false
   },
   "outputs": [
    {
     "name": "stderr",
     "output_type": "stream",
     "text": [
      "/workspaces/HypEx/hypex/dataset/backends/pandas_backend.py:505: FutureWarning: Downcasting behavior in `replace` is deprecated and will be removed in a future version. To retain the old behavior, explicitly call `result.infer_objects(copy=False)`. To opt-in to the future behavior, set `pd.set_option('future.no_silent_downcasting', True)`\n",
      "  return self.data.replace(to_replace=to_replace, value=value, regex=regex)\n",
      "/workspaces/HypEx/hypex/dataset/backends/pandas_backend.py:505: FutureWarning: The behavior of Series.replace (and DataFrame.replace) with CategoricalDtype is deprecated. In a future version, replace will only be used for cases that preserve the categories. To change the categories, use ser.cat.rename_categories instead.\n",
      "  return self.data.replace(to_replace=to_replace, value=value, regex=regex)\n",
      "/workspaces/HypEx/hypex/dataset/backends/pandas_backend.py:505: FutureWarning: Downcasting behavior in `replace` is deprecated and will be removed in a future version. To retain the old behavior, explicitly call `result.infer_objects(copy=False)`. To opt-in to the future behavior, set `pd.set_option('future.no_silent_downcasting', True)`\n",
      "  return self.data.replace(to_replace=to_replace, value=value, regex=regex)\n",
      "/workspaces/HypEx/hypex/dataset/backends/pandas_backend.py:505: FutureWarning: The behavior of Series.replace (and DataFrame.replace) with CategoricalDtype is deprecated. In a future version, replace will only be used for cases that preserve the categories. To change the categories, use ser.cat.rename_categories instead.\n",
      "  return self.data.replace(to_replace=to_replace, value=value, regex=regex)\n",
      "/workspaces/HypEx/hypex/dataset/backends/pandas_backend.py:505: FutureWarning: The behavior of Series.replace (and DataFrame.replace) with CategoricalDtype is deprecated. In a future version, replace will only be used for cases that preserve the categories. To change the categories, use ser.cat.rename_categories instead.\n",
      "  return self.data.replace(to_replace=to_replace, value=value, regex=regex)\n",
      "/workspaces/HypEx/hypex/dataset/backends/pandas_backend.py:505: FutureWarning: The behavior of Series.replace (and DataFrame.replace) with CategoricalDtype is deprecated. In a future version, replace will only be used for cases that preserve the categories. To change the categories, use ser.cat.rename_categories instead.\n",
      "  return self.data.replace(to_replace=to_replace, value=value, regex=regex)\n"
     ]
    }
   ],
   "source": [
    "aa = AATest(random_states=[56, 72, 2, 43], stratification=True)\n",
    "res = aa.execute(data)"
   ]
  },
  {
   "cell_type": "code",
   "execution_count": 16,
   "id": "fb5bc9076cb36af9",
   "metadata": {
    "ExecuteTime": {
     "end_time": "2024-08-23T13:18:56.756338100Z",
     "start_time": "2024-08-23T13:18:56.737655300Z"
    },
    "collapsed": false
   },
   "outputs": [
    {
     "data": {
      "text/plain": [
       "  TTest aa test KSTest aa test TTest best split KSTest best split  result  \\\n",
       "0        NOT OK         NOT OK               OK                OK  NOT OK   \n",
       "1        NOT OK         NOT OK               OK                OK  NOT OK   \n",
       "\n",
       "       feature    group  \n",
       "0  post_spends  control  \n",
       "1   pre_spends  control  "
      ]
     },
     "execution_count": 16,
     "metadata": {},
     "output_type": "execute_result"
    }
   ],
   "source": [
    "res.resume"
   ]
  },
  {
   "cell_type": "code",
   "execution_count": 17,
   "id": "5eca1aebeb06da2",
   "metadata": {
    "ExecuteTime": {
     "end_time": "2024-08-23T13:18:56.800596600Z",
     "start_time": "2024-08-23T13:18:56.753983700Z"
    },
    "collapsed": false
   },
   "outputs": [
    {
     "data": {
      "text/plain": [
       "                             pass     score\n",
       "pre_spends TTest control    False  0.388191\n",
       "post_spends TTest control   False  0.774438\n",
       "pre_spends KSTest control   False  0.728226\n",
       "post_spends KSTest control  False  0.660354"
      ]
     },
     "execution_count": 17,
     "metadata": {},
     "output_type": "execute_result"
    }
   ],
   "source": [
    "res.aa_score"
   ]
  },
  {
   "cell_type": "code",
   "execution_count": 18,
   "id": "4e5730bdf7983f7d",
   "metadata": {
    "ExecuteTime": {
     "end_time": "2024-08-23T13:18:56.842331800Z",
     "start_time": "2024-08-23T13:18:56.768931700Z"
    },
    "collapsed": false
   },
   "outputs": [
    {
     "data": {
      "text/plain": [
       "      user_id  signup_month  treat  pre_spends  post_spends   age gender  \\\n",
       "0           0             0      0       488.0   414.444444   NaN      M   \n",
       "1           1             8      1       512.5   462.222222  26.0    NaN   \n",
       "2           2             7      1       483.0   479.444444  25.0      M   \n",
       "3           3             0      0       501.5   424.333333  39.0      M   \n",
       "4           4             1      1       543.0   514.555556  18.0      F   \n",
       "...       ...           ...    ...         ...          ...   ...    ...   \n",
       "9995     9995            10      1       538.5   450.444444  42.0      M   \n",
       "9996     9996             0      0       500.5   430.888889  26.0      F   \n",
       "9997     9997             3      1       473.0   534.111111  22.0      F   \n",
       "9998     9998             2      1       495.0   523.222222  67.0      F   \n",
       "9999     9999             7      1       508.0   475.888889  38.0      F   \n",
       "\n",
       "        industry    split  \n",
       "0     E-commerce  control  \n",
       "1     E-commerce     test  \n",
       "2      Logistics     test  \n",
       "3     E-commerce     test  \n",
       "4     E-commerce  control  \n",
       "...          ...      ...  \n",
       "9995   Logistics      NaN  \n",
       "9996   Logistics      NaN  \n",
       "9997  E-commerce      NaN  \n",
       "9998  E-commerce      NaN  \n",
       "9999  E-commerce      NaN  \n",
       "\n",
       "[10000 rows x 9 columns]"
      ]
     },
     "execution_count": 18,
     "metadata": {},
     "output_type": "execute_result"
    }
   ],
   "source": [
    "res.best_split"
   ]
  },
  {
   "cell_type": "code",
   "execution_count": 19,
   "id": "7cdeba119b04476e",
   "metadata": {
    "ExecuteTime": {
     "end_time": "2024-08-23T13:18:56.847726500Z",
     "start_time": "2024-08-23T13:18:56.800596600Z"
    },
    "collapsed": false
   },
   "outputs": [
    {
     "data": {
      "text/plain": [
       "       feature    group TTest pass  TTest p-value KSTest pass  KSTest p-value\n",
       "0   pre_spends  control         OK       0.384576          OK        0.129368\n",
       "1  post_spends  control         OK       0.801273          OK        0.952433"
      ]
     },
     "execution_count": 19,
     "metadata": {},
     "output_type": "execute_result"
    }
   ],
   "source": [
    "res.best_split_statistic"
   ]
  },
  {
   "cell_type": "code",
   "execution_count": 20,
   "id": "6a63a08bceb2f40a",
   "metadata": {
    "ExecuteTime": {
     "end_time": "2024-08-23T13:18:56.913745600Z",
     "start_time": "2024-08-23T13:18:56.816382300Z"
    },
    "collapsed": false
   },
   "outputs": [
    {
     "data": {
      "text/plain": [
       "                           splitter_id  \\\n",
       "0  AASplitterWithStratification┴rs 56┴   \n",
       "1  AASplitterWithStratification┴rs 72┴   \n",
       "2   AASplitterWithStratification┴rs 2┴   \n",
       "3  AASplitterWithStratification┴rs 43┴   \n",
       "\n",
       "   pre_spends GroupDifference control mean control  \\\n",
       "0                                       487.110444   \n",
       "1                                       486.922667   \n",
       "2                                       487.264000   \n",
       "3                                       487.075889   \n",
       "\n",
       "   pre_spends GroupDifference test mean control  \\\n",
       "0                                    487.082000   \n",
       "1                                    487.269778   \n",
       "2                                    486.928444   \n",
       "3                                    487.116556   \n",
       "\n",
       "   pre_spends GroupDifference difference control  \\\n",
       "0                                      -0.028444   \n",
       "1                                       0.347111   \n",
       "2                                      -0.335556   \n",
       "3                                       0.040667   \n",
       "\n",
       "   pre_spends GroupDifference difference % control  \\\n",
       "0                                        -0.005839   \n",
       "1                                         0.071287   \n",
       "2                                        -0.068865   \n",
       "3                                         0.008349   \n",
       "\n",
       "   post_spends GroupDifference control mean control  \\\n",
       "0                                        452.648938   \n",
       "1                                        452.245679   \n",
       "2                                        451.372173   \n",
       "3                                        451.141432   \n",
       "\n",
       "   post_spends GroupDifference test mean control  \\\n",
       "0                                     451.633506   \n",
       "1                                     452.036765   \n",
       "2                                     452.910272   \n",
       "3                                     453.141012   \n",
       "\n",
       "   post_spends GroupDifference difference control  \\\n",
       "0                                       -1.015432   \n",
       "1                                       -0.208914   \n",
       "2                                        1.538099   \n",
       "3                                        1.999580   \n",
       "\n",
       "   post_spends GroupDifference difference % control  \\\n",
       "0                                         -0.224331   \n",
       "1                                         -0.046195   \n",
       "2                                          0.340761   \n",
       "3                                          0.443227   \n",
       "\n",
       "   post_spends GroupSizes control size control  ...  \\\n",
       "0                                         4500  ...   \n",
       "1                                         4500  ...   \n",
       "2                                         4500  ...   \n",
       "3                                         4500  ...   \n",
       "\n",
       "   post_spends TTest pass control  pre_spends KSTest p-value control  \\\n",
       "0                           False                           0.612183   \n",
       "1                           False                           0.129368   \n",
       "2                           False                           0.085963   \n",
       "3                            True                           0.459584   \n",
       "\n",
       "   pre_spends KSTest pass control  post_spends KSTest p-value control  \\\n",
       "0                           False                            0.491962   \n",
       "1                           False                            0.952433   \n",
       "2                           False                            0.008355   \n",
       "3                           False                            0.105834   \n",
       "\n",
       "   post_spends KSTest pass control  mean TTest p-value  mean TTest pass  \\\n",
       "0                            False            0.582179              0.0   \n",
       "1                            False            0.592924              0.0   \n",
       "2                             True            0.232221              0.0   \n",
       "3                            False            0.467419              0.5   \n",
       "\n",
       "   mean KSTest p-value  mean KSTest pass  mean test score  \n",
       "0             0.552072               0.0         0.562108  \n",
       "1             0.540900               0.0         0.558241  \n",
       "2             0.047159               0.5         0.108846  \n",
       "3             0.282709               0.0         0.344279  \n",
       "\n",
       "[4 rows x 26 columns]"
      ]
     },
     "execution_count": 20,
     "metadata": {},
     "output_type": "execute_result"
    }
   ],
   "source": [
    "res.experiments"
   ]
  },
  {
   "cell_type": "markdown",
   "id": "21d50581",
   "metadata": {},
   "source": [
    "# AA Test by samples \n",
    "\n",
    "Depending on your requirements and size of data it is possible to estimate AA test on samples the data. You can set `sample_size=size` to run it. "
   ]
  },
  {
   "cell_type": "code",
   "execution_count": 21,
   "id": "b92cc8a1c4cff6d7",
   "metadata": {
    "ExecuteTime": {
     "end_time": "2024-08-23T13:26:34.314713400Z",
     "start_time": "2024-08-23T13:26:24.894068800Z"
    },
    "collapsed": false
   },
   "outputs": [
    {
     "name": "stderr",
     "output_type": "stream",
     "text": [
      "/workspaces/HypEx/hypex/dataset/backends/pandas_backend.py:505: FutureWarning: Downcasting behavior in `replace` is deprecated and will be removed in a future version. To retain the old behavior, explicitly call `result.infer_objects(copy=False)`. To opt-in to the future behavior, set `pd.set_option('future.no_silent_downcasting', True)`\n",
      "  return self.data.replace(to_replace=to_replace, value=value, regex=regex)\n",
      "/workspaces/HypEx/hypex/dataset/backends/pandas_backend.py:505: FutureWarning: The behavior of Series.replace (and DataFrame.replace) with CategoricalDtype is deprecated. In a future version, replace will only be used for cases that preserve the categories. To change the categories, use ser.cat.rename_categories instead.\n",
      "  return self.data.replace(to_replace=to_replace, value=value, regex=regex)\n",
      "/workspaces/HypEx/hypex/dataset/backends/pandas_backend.py:505: FutureWarning: Downcasting behavior in `replace` is deprecated and will be removed in a future version. To retain the old behavior, explicitly call `result.infer_objects(copy=False)`. To opt-in to the future behavior, set `pd.set_option('future.no_silent_downcasting', True)`\n",
      "  return self.data.replace(to_replace=to_replace, value=value, regex=regex)\n",
      "/workspaces/HypEx/hypex/dataset/backends/pandas_backend.py:505: FutureWarning: The behavior of Series.replace (and DataFrame.replace) with CategoricalDtype is deprecated. In a future version, replace will only be used for cases that preserve the categories. To change the categories, use ser.cat.rename_categories instead.\n",
      "  return self.data.replace(to_replace=to_replace, value=value, regex=regex)\n",
      "/workspaces/HypEx/hypex/dataset/backends/pandas_backend.py:505: FutureWarning: The behavior of Series.replace (and DataFrame.replace) with CategoricalDtype is deprecated. In a future version, replace will only be used for cases that preserve the categories. To change the categories, use ser.cat.rename_categories instead.\n",
      "  return self.data.replace(to_replace=to_replace, value=value, regex=regex)\n"
     ]
    }
   ],
   "source": [
    "aa = AATest(n_iterations=10, sample_size=0.3)\n",
    "res = aa.execute(data)"
   ]
  },
  {
   "cell_type": "code",
   "execution_count": 22,
   "id": "6bc70b4602a73728",
   "metadata": {
    "ExecuteTime": {
     "end_time": "2024-08-23T13:19:02.503911500Z",
     "start_time": "2024-08-23T13:19:02.494519400Z"
    },
    "collapsed": false
   },
   "outputs": [
    {
     "data": {
      "text/plain": [
       "  TTest aa test KSTest aa test TTest best split KSTest best split  result  \\\n",
       "0        NOT OK         NOT OK           NOT OK                OK  NOT OK   \n",
       "1        NOT OK         NOT OK           NOT OK                OK  NOT OK   \n",
       "\n",
       "       feature    group  \n",
       "0  post_spends  control  \n",
       "1   pre_spends  control  "
      ]
     },
     "execution_count": 22,
     "metadata": {},
     "output_type": "execute_result"
    }
   ],
   "source": [
    "res.resume"
   ]
  },
  {
   "cell_type": "code",
   "execution_count": 23,
   "id": "6abb8f31d2e1ff8b",
   "metadata": {
    "ExecuteTime": {
     "start_time": "2024-08-23T13:19:02.499425100Z"
    },
    "collapsed": false
   },
   "outputs": [
    {
     "data": {
      "text/plain": [
       "                             pass     score\n",
       "pre_spends TTest control    False  0.579749\n",
       "post_spends TTest control   False  0.596920\n",
       "pre_spends KSTest control   False  0.502231\n",
       "post_spends KSTest control  False  0.662001"
      ]
     },
     "execution_count": 23,
     "metadata": {},
     "output_type": "execute_result"
    }
   ],
   "source": [
    "res.aa_score"
   ]
  },
  {
   "cell_type": "code",
   "execution_count": 24,
   "id": "da256bacda715562",
   "metadata": {
    "ExecuteTime": {
     "start_time": "2024-08-23T13:19:02.503911500Z"
    },
    "collapsed": false
   },
   "outputs": [
    {
     "data": {
      "text/plain": [
       "      user_id  signup_month  treat  pre_spends  post_spends   age gender  \\\n",
       "0           0             0      0       488.0   414.444444   NaN      M   \n",
       "1           1             8      1       512.5   462.222222  26.0    NaN   \n",
       "2           2             7      1       483.0   479.444444  25.0      M   \n",
       "3           3             0      0       501.5   424.333333  39.0      M   \n",
       "4           4             1      1       543.0   514.555556  18.0      F   \n",
       "...       ...           ...    ...         ...          ...   ...    ...   \n",
       "9995     9995            10      1       538.5   450.444444  42.0      M   \n",
       "9996     9996             0      0       500.5   430.888889  26.0      F   \n",
       "9997     9997             3      1       473.0   534.111111  22.0      F   \n",
       "9998     9998             2      1       495.0   523.222222  67.0      F   \n",
       "9999     9999             7      1       508.0   475.888889  38.0      F   \n",
       "\n",
       "        industry    split  \n",
       "0     E-commerce  control  \n",
       "1     E-commerce  control  \n",
       "2      Logistics     test  \n",
       "3     E-commerce     test  \n",
       "4     E-commerce     test  \n",
       "...          ...      ...  \n",
       "9995   Logistics     test  \n",
       "9996   Logistics     test  \n",
       "9997  E-commerce     test  \n",
       "9998  E-commerce     test  \n",
       "9999  E-commerce     test  \n",
       "\n",
       "[10000 rows x 9 columns]"
      ]
     },
     "execution_count": 24,
     "metadata": {},
     "output_type": "execute_result"
    }
   ],
   "source": [
    "res.best_split"
   ]
  },
  {
   "cell_type": "code",
   "execution_count": 25,
   "id": "ab766f462ae739f9",
   "metadata": {
    "ExecuteTime": {
     "end_time": "2024-08-23T13:19:02.538992900Z",
     "start_time": "2024-08-23T13:19:02.507199100Z"
    },
    "collapsed": false
   },
   "outputs": [
    {
     "data": {
      "text/plain": [
       "       feature    group TTest pass  TTest p-value KSTest pass  KSTest p-value\n",
       "0   pre_spends  control     NOT OK       0.026188          OK        0.177727\n",
       "1  post_spends  control     NOT OK       0.020327          OK        0.083564"
      ]
     },
     "execution_count": 25,
     "metadata": {},
     "output_type": "execute_result"
    }
   ],
   "source": [
    "res.best_split_statistic"
   ]
  },
  {
   "cell_type": "code",
   "execution_count": 26,
   "id": "72df57c94a3d4f6d",
   "metadata": {
    "ExecuteTime": {
     "start_time": "2024-08-23T13:19:02.509325Z"
    },
    "collapsed": false
   },
   "outputs": [
    {
     "data": {
      "text/plain": [
       "        splitter_id  pre_spends GroupDifference control mean control  \\\n",
       "0  AASplitter┴rs 0┴                                       487.161882   \n",
       "1  AASplitter┴rs 1┴                                       487.196118   \n",
       "2  AASplitter┴rs 2┴                                       486.974353   \n",
       "3  AASplitter┴rs 3┴                                       487.079294   \n",
       "4  AASplitter┴rs 4┴                                       487.098588   \n",
       "5  AASplitter┴rs 5┴                                       487.077176   \n",
       "6  AASplitter┴rs 6┴                                       487.217882   \n",
       "7  AASplitter┴rs 7┴                                       487.224176   \n",
       "8  AASplitter┴rs 8┴                                       487.102882   \n",
       "9  AASplitter┴rs 9┴                                       487.191588   \n",
       "\n",
       "   pre_spends GroupDifference test mean control  \\\n",
       "0                                    486.707667   \n",
       "1                                    486.513667   \n",
       "2                                    487.770333   \n",
       "3                                    487.175667   \n",
       "4                                    487.066333   \n",
       "5                                    487.187667   \n",
       "6                                    486.390333   \n",
       "7                                    486.354667   \n",
       "8                                    487.042000   \n",
       "9                                    486.539333   \n",
       "\n",
       "   pre_spends GroupDifference difference control  \\\n",
       "0                                      -0.454216   \n",
       "1                                      -0.682451   \n",
       "2                                       0.795980   \n",
       "3                                       0.096373   \n",
       "4                                      -0.032255   \n",
       "5                                       0.110490   \n",
       "6                                      -0.827549   \n",
       "7                                      -0.869510   \n",
       "8                                      -0.060882   \n",
       "9                                      -0.652255   \n",
       "\n",
       "   pre_spends GroupDifference difference % control  \\\n",
       "0                                        -0.093237   \n",
       "1                                        -0.140077   \n",
       "2                                         0.163454   \n",
       "3                                         0.019786   \n",
       "4                                        -0.006622   \n",
       "5                                         0.022684   \n",
       "6                                        -0.169852   \n",
       "7                                        -0.178462   \n",
       "8                                        -0.012499   \n",
       "9                                        -0.133881   \n",
       "\n",
       "   post_spends GroupDifference control mean control  \\\n",
       "0                                        452.127778   \n",
       "1                                        452.346967   \n",
       "2                                        452.136797   \n",
       "3                                        451.983922   \n",
       "4                                        452.164327   \n",
       "5                                        452.579869   \n",
       "6                                        452.316484   \n",
       "7                                        451.953085   \n",
       "8                                        452.058954   \n",
       "9                                        451.952131   \n",
       "\n",
       "   post_spends GroupDifference test mean control  \\\n",
       "0                                     452.372963   \n",
       "1                                     451.130889   \n",
       "2                                     452.321852   \n",
       "3                                     453.188148   \n",
       "4                                     452.165852   \n",
       "5                                     449.811111   \n",
       "6                                     451.303630   \n",
       "7                                     453.362889   \n",
       "8                                     452.762963   \n",
       "9                                     453.368296   \n",
       "\n",
       "   post_spends GroupDifference difference control  \\\n",
       "0                                        0.245185   \n",
       "1                                       -1.216078   \n",
       "2                                        0.185054   \n",
       "3                                        1.204227   \n",
       "4                                        0.001525   \n",
       "5                                       -2.768758   \n",
       "6                                       -1.012854   \n",
       "7                                        1.409804   \n",
       "8                                        0.704009   \n",
       "9                                        1.416166   \n",
       "\n",
       "   post_spends GroupDifference difference % control  \\\n",
       "0                                          0.054229   \n",
       "1                                         -0.268838   \n",
       "2                                          0.040929   \n",
       "3                                          0.266431   \n",
       "4                                          0.000337   \n",
       "5                                         -0.611772   \n",
       "6                                         -0.223926   \n",
       "7                                          0.311936   \n",
       "8                                          0.155734   \n",
       "9                                          0.313344   \n",
       "\n",
       "   post_spends GroupSizes control size control  ...  \\\n",
       "0                                         8500  ...   \n",
       "1                                         8500  ...   \n",
       "2                                         8500  ...   \n",
       "3                                         8500  ...   \n",
       "4                                         8500  ...   \n",
       "5                                         8500  ...   \n",
       "6                                         8500  ...   \n",
       "7                                         8500  ...   \n",
       "8                                         8500  ...   \n",
       "9                                         8500  ...   \n",
       "\n",
       "   post_spends TTest pass control  pre_spends KSTest p-value control  \\\n",
       "0                           False                           0.105393   \n",
       "1                           False                           0.415281   \n",
       "2                           False                           0.156179   \n",
       "3                           False                           0.973579   \n",
       "4                           False                           0.989526   \n",
       "5                            True                           0.936874   \n",
       "6                           False                           0.397518   \n",
       "7                           False                           0.315882   \n",
       "8                           False                           0.751905   \n",
       "9                           False                           0.435548   \n",
       "\n",
       "   pre_spends KSTest pass control  post_spends KSTest p-value control  \\\n",
       "0                           False                            0.960105   \n",
       "1                           False                            0.146561   \n",
       "2                           False                            0.939361   \n",
       "3                           False                            0.170485   \n",
       "4                           False                            0.435548   \n",
       "5                           False                            0.013688   \n",
       "6                           False                            0.585789   \n",
       "7                           False                            0.173681   \n",
       "8                           False                            0.193861   \n",
       "9                           False                            0.260911   \n",
       "\n",
       "   post_spends KSTest pass control  mean TTest p-value  mean TTest pass  \\\n",
       "0                            False            0.607146              0.0   \n",
       "1                            False            0.233545              0.0   \n",
       "2                            False            0.499433              0.0   \n",
       "3                            False            0.565251              0.0   \n",
       "4                            False            0.975117              0.0   \n",
       "5                             True            0.423253              0.5   \n",
       "6                            False            0.238057              0.0   \n",
       "7                            False            0.150670              0.0   \n",
       "8                            False            0.715910              0.0   \n",
       "9                            False            0.208273              0.0   \n",
       "\n",
       "   mean KSTest p-value  mean KSTest pass  mean test score  \n",
       "0             0.532749               0.0         0.557548  \n",
       "1             0.280921               0.0         0.265129  \n",
       "2             0.547770               0.0         0.531658  \n",
       "3             0.572032               0.0         0.569772  \n",
       "4             0.712537               0.0         0.800064  \n",
       "5             0.475281               0.5         0.457938  \n",
       "6             0.491653               0.0         0.407121  \n",
       "7             0.244782               0.0         0.213411  \n",
       "8             0.472883               0.0         0.553892  \n",
       "9             0.348230               0.0         0.301578  \n",
       "\n",
       "[10 rows x 26 columns]"
      ]
     },
     "execution_count": 26,
     "metadata": {},
     "output_type": "execute_result"
    }
   ],
   "source": [
    "res.experiments"
   ]
  }
 ],
 "metadata": {
  "kernelspec": {
   "display_name": "Python 3",
   "language": "python",
   "name": "python3"
  },
  "language_info": {
   "codemirror_mode": {
    "name": "ipython",
    "version": 3
   },
   "file_extension": ".py",
   "mimetype": "text/x-python",
   "name": "python",
   "nbconvert_exporter": "python",
   "pygments_lexer": "ipython3",
   "version": "3.10.13"
  }
 },
 "nbformat": 4,
 "nbformat_minor": 5
}
