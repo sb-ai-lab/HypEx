{
 "cells": [
  {
   "cell_type": "code",
   "metadata": {
    "metadata": {},
    "ExecuteTime": {
     "end_time": "2024-06-24T11:53:59.012602Z",
     "start_time": "2024-06-24T11:53:57.990912Z"
    }
   },
   "source": [
    "import copy\n",
    "\n",
    "from hypex.experiments.preprocessing import PREPROCESSING_DATA\n",
    "from hypex.dataset import Dataset, ExperimentData, InfoRole, TreatmentRole, TargetRole, FeatureRole"
   ],
   "outputs": [],
   "execution_count": 1
  },
  {
   "metadata": {},
   "cell_type": "markdown",
   "source": "# Test dataset creation "
  },
  {
   "cell_type": "code",
   "metadata": {
    "metadata": {},
    "ExecuteTime": {
     "end_time": "2024-06-24T11:53:59.043326Z",
     "start_time": "2024-06-24T11:53:59.015997Z"
    }
   },
   "source": [
    "data = Dataset(\n",
    "    roles={\n",
    "        \"user_id\": InfoRole(),\n",
    "        \"signup_month\": FeatureRole(),\n",
    "        \"treat\": TreatmentRole(),\n",
    "        \"pre_spends\": TargetRole(),\n",
    "        \"post_spends\": TargetRole(),\n",
    "        \"age\": FeatureRole(),\n",
    "        \"gender\": FeatureRole(),\n",
    "        \"industry\": FeatureRole(),\n",
    "        \"spend_for_candies\": FeatureRole(),\n",
    "    }, data=\"test_datafarame_with_corelation.csv\",\n",
    ")\n",
    "data"
   ],
   "outputs": [
    {
     "data": {
      "text/plain": [
       "      user_id  signup_month  treat  pre_spends  post_spends   age gender  \\\n",
       "0           0             0      0       488.0   414.444444   NaN      M   \n",
       "1           1             8      1       512.5   462.222222  26.0    NaN   \n",
       "2           2             7      1       483.0   479.444444  25.0      M   \n",
       "3           3             0      0       501.5   424.333333  39.0      M   \n",
       "4           4             1      1       543.0   514.555556  18.0      F   \n",
       "...       ...           ...    ...         ...          ...   ...    ...   \n",
       "9995     9995            10      1       538.5   450.444444  42.0      M   \n",
       "9996     9996             0      0       500.5   430.888889  26.0      F   \n",
       "9997     9997             3      1       473.0   534.111111  22.0      F   \n",
       "9998     9998             2      1       495.0   523.222222  67.0      F   \n",
       "9999     9999             7      1       508.0   475.888889  38.0      F   \n",
       "\n",
       "        industry  spend_for_candies  \n",
       "0     E-commerce         412.444444  \n",
       "1     E-commerce         460.222222  \n",
       "2      Logistics         477.444444  \n",
       "3     E-commerce         422.333333  \n",
       "4     E-commerce         512.555556  \n",
       "...          ...                ...  \n",
       "9995   Logistics         448.444444  \n",
       "9996   Logistics         428.888889  \n",
       "9997  E-commerce         532.111111  \n",
       "9998  E-commerce         521.222222  \n",
       "9999  E-commerce         473.888889  \n",
       "\n",
       "[10000 rows x 9 columns]"
      ]
     },
     "execution_count": 2,
     "metadata": {},
     "output_type": "execute_result"
    }
   ],
   "execution_count": 2
  },
  {
   "metadata": {},
   "cell_type": "markdown",
   "source": "## Preprocessing"
  },
  {
   "metadata": {
    "ExecuteTime": {
     "end_time": "2024-06-24T11:53:59.220105Z",
     "start_time": "2024-06-24T11:53:59.045441Z"
    }
   },
   "cell_type": "code",
   "source": [
    "pl_data = copy.deepcopy(data)\n",
    "test = PREPROCESSING_DATA\n",
    "ed = ExperimentData(pl_data)\n",
    "result = test.execute(ed)"
   ],
   "outputs": [],
   "execution_count": 3
  },
  {
   "metadata": {
    "ExecuteTime": {
     "end_time": "2024-06-24T11:53:59.231555Z",
     "start_time": "2024-06-24T11:53:59.223271Z"
    }
   },
   "cell_type": "code",
   "source": "result.ds.roles",
   "outputs": [
    {
     "data": {
      "text/plain": [
       "{'user_id': Info(<class 'int'>),\n",
       " 'signup_month': Feature(<class 'int'>),\n",
       " 'treat': Treatment(<class 'int'>),\n",
       " 'pre_spends': Target(<class 'float'>),\n",
       " 'post_spends': Target(<class 'float'>),\n",
       " 'age': Feature(<class 'float'>),\n",
       " 'gender': Feature(<class 'bool'>),\n",
       " 'industry': Feature(<class 'bool'>),\n",
       " 'spend_for_candies': Info(<class 'float'>)}"
      ]
     },
     "execution_count": 4,
     "metadata": {},
     "output_type": "execute_result"
    }
   ],
   "execution_count": 4
  },
  {
   "metadata": {
    "ExecuteTime": {
     "end_time": "2024-06-24T11:53:59.246821Z",
     "start_time": "2024-06-24T11:53:59.234652Z"
    }
   },
   "cell_type": "code",
   "source": "result.additional_fields",
   "outputs": [
    {
     "data": {
      "text/plain": [
       "      DummyEncoder┴┴┆gender_M┆  DummyEncoder┴┴┆industry_Logistics┆\n",
       "0                         True                               False\n",
       "1                        False                               False\n",
       "2                         True                                True\n",
       "3                         True                               False\n",
       "5                         True                               False\n",
       "...                        ...                                 ...\n",
       "9995                      True                                True\n",
       "9996                     False                                True\n",
       "9997                     False                               False\n",
       "9998                     False                               False\n",
       "9999                     False                               False\n",
       "\n",
       "[8838 rows x 2 columns]"
      ]
     },
     "execution_count": 5,
     "metadata": {},
     "output_type": "execute_result"
    }
   ],
   "execution_count": 5
  }
 ],
 "metadata": {
  "kernelspec": {
   "display_name": "Python 3",
   "language": "python",
   "name": "python3"
  },
  "language_info": {
   "codemirror_mode": {
    "name": "ipython",
    "version": 3
   },
   "file_extension": ".py",
   "mimetype": "text/x-python",
   "name": "python",
   "nbconvert_exporter": "python",
   "pygments_lexer": "ipython3",
   "version": "3.10.13"
  }
 },
 "nbformat": 4,
 "nbformat_minor": 2
}
