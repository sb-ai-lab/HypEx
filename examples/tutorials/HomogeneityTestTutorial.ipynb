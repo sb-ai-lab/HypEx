{
 "cells": [
  {
   "cell_type": "markdown",
   "id": "50ff2e6b",
   "metadata": {},
   "source": [
    "# AB test \n",
    "\n",
    "A/B testing is a research method that allows you to find out people's reaction to any changes. The study shows which of the two versions of the product or offer is better and gives greater effect."
   ]
  },
  {
   "cell_type": "code",
   "id": "initial_id",
   "metadata": {
    "collapsed": true,
    "ExecuteTime": {
     "end_time": "2024-08-15T14:20:26.789715Z",
     "start_time": "2024-08-15T14:20:26.088049Z"
    }
   },
   "source": [
    "import random\n",
    "\n",
    "from hypex.dataset import Dataset, InfoRole, TreatmentRole, TargetRole\n",
    "from hypex import HomogeneityTest"
   ],
   "outputs": [],
   "execution_count": 1
  },
  {
   "cell_type": "markdown",
   "id": "494ea582",
   "metadata": {},
   "source": [
    "## Creation of a new test dataset with synthetic data.\n",
    "It is important to mark the data fields by assigning the appropriate roles:\n",
    "\n",
    "* FeatureRole: a role for columns that contain features or predictor variables. Our split will be based on them. Applied by default if the role is not specified for the column.\n",
    "* TreatmentRole: a role for columns that show the treatment or intervention.\n",
    "* TargetRole: a role for columns that show the target or outcome variable.\n",
    "* InfoRole: a role for columns that contain information about the data, such as user IDs."
   ]
  },
  {
   "cell_type": "code",
   "id": "904175ab484d1690",
   "metadata": {
    "collapsed": false,
    "ExecuteTime": {
     "end_time": "2024-08-15T14:20:26.828191Z",
     "start_time": "2024-08-15T14:20:26.791971Z"
    }
   },
   "source": [
    "data = Dataset(\n",
    "    roles={\n",
    "        \"user_id\": InfoRole(int),\n",
    "        \"treat\": TreatmentRole(),\n",
    "        \"pre_spends\": TargetRole(),\n",
    "        \"post_spends\": TargetRole(), \n",
    "        \"gender\": TargetRole()\n",
    "    }, data=\"data.csv\",\n",
    ")\n",
    "data"
   ],
   "outputs": [
    {
     "data": {
      "text/plain": [
       "      user_id  signup_month  treat  pre_spends  post_spends   age gender  \\\n",
       "0           0             0      0       488.0   414.444444   NaN      M   \n",
       "1           1             8      1       512.5   462.222222  26.0    NaN   \n",
       "2           2             7      1       483.0   479.444444  25.0      M   \n",
       "3           3             0      0       501.5   424.333333  39.0      M   \n",
       "4           4             1      1       543.0   514.555556  18.0      F   \n",
       "...       ...           ...    ...         ...          ...   ...    ...   \n",
       "9995     9995            10      1       538.5   450.444444  42.0      M   \n",
       "9996     9996             0      0       500.5   430.888889  26.0      F   \n",
       "9997     9997             3      1       473.0   534.111111  22.0      F   \n",
       "9998     9998             2      1       495.0   523.222222  67.0      F   \n",
       "9999     9999             7      1       508.0   475.888889  38.0      F   \n",
       "\n",
       "        industry  \n",
       "0     E-commerce  \n",
       "1     E-commerce  \n",
       "2      Logistics  \n",
       "3     E-commerce  \n",
       "4     E-commerce  \n",
       "...          ...  \n",
       "9995   Logistics  \n",
       "9996   Logistics  \n",
       "9997  E-commerce  \n",
       "9998  E-commerce  \n",
       "9999  E-commerce  \n",
       "\n",
       "[10000 rows x 8 columns]"
      ]
     },
     "execution_count": 2,
     "metadata": {},
     "output_type": "execute_result"
    }
   ],
   "execution_count": 2
  },
  {
   "cell_type": "code",
   "id": "a78151eca524b974",
   "metadata": {
    "collapsed": false,
    "ExecuteTime": {
     "end_time": "2024-08-15T14:20:26.835135Z",
     "start_time": "2024-08-15T14:20:26.829904Z"
    }
   },
   "source": [
    "data.roles"
   ],
   "outputs": [
    {
     "data": {
      "text/plain": [
       "{'user_id': Info(<class 'int'>),\n",
       " 'treat': Treatment(<class 'int'>),\n",
       " 'pre_spends': Target(<class 'float'>),\n",
       " 'post_spends': Target(<class 'float'>),\n",
       " 'gender': Target(<class 'str'>),\n",
       " 'signup_month': Default(<class 'int'>),\n",
       " 'age': Default(<class 'float'>),\n",
       " 'industry': Default(<class 'str'>)}"
      ]
     },
     "execution_count": 3,
     "metadata": {},
     "output_type": "execute_result"
    }
   ],
   "execution_count": 3
  },
  {
   "cell_type": "markdown",
   "id": "b019412e",
   "metadata": {},
   "source": [
    "## Homogeneity Test  "
   ]
  },
  {
   "cell_type": "code",
   "id": "28f08947",
   "metadata": {
    "ExecuteTime": {
     "end_time": "2024-08-15T14:20:27.099602Z",
     "start_time": "2024-08-15T14:20:26.837977Z"
    }
   },
   "source": [
    "test = HomogeneityTest()\n",
    "result = test.execute(data)"
   ],
   "outputs": [],
   "execution_count": 4
  },
  {
   "cell_type": "code",
   "id": "89f9b9fe",
   "metadata": {
    "ExecuteTime": {
     "end_time": "2024-08-15T14:20:27.109995Z",
     "start_time": "2024-08-15T14:20:27.101166Z"
    }
   },
   "source": [
    "result.resume"
   ],
   "outputs": [
    {
     "data": {
      "text/plain": [
       "       feature group TTest pass  TTest p-value KSTest pass  KSTest p-value  \\\n",
       "0   pre_spends     0     NOT OK   2.315047e-30      NOT OK    1.559150e-13   \n",
       "1  post_spends     0     NOT OK   0.000000e+00      NOT OK    0.000000e+00   \n",
       "2       gender     0        NaN            NaN         NaN             NaN   \n",
       "\n",
       "  Chi2Test pass  Chi2Test p-value  \n",
       "0           NaN               NaN  \n",
       "1           NaN               NaN  \n",
       "2            OK          0.351553  "
      ]
     },
     "execution_count": 5,
     "metadata": {},
     "output_type": "execute_result"
    }
   ],
   "execution_count": 5
  }
 ],
 "metadata": {
  "kernelspec": {
   "display_name": "Python 3",
   "language": "python",
   "name": "python3"
  },
  "language_info": {
   "codemirror_mode": {
    "name": "ipython",
    "version": 3
   },
   "file_extension": ".py",
   "mimetype": "text/x-python",
   "name": "python",
   "nbconvert_exporter": "python",
   "pygments_lexer": "ipython3",
   "version": "3.10.13"
  }
 },
 "nbformat": 4,
 "nbformat_minor": 5
}
