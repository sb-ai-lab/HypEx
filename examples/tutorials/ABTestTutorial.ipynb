{
 "cells": [
  {
   "cell_type": "markdown",
   "id": "50ff2e6b",
   "metadata": {},
   "source": [
    "# AB test \n",
    "\n",
    "A/B testing is a research method that allows you to find out people's reaction to any changes. The study shows which of the two versions of the product or offer is better and gives greater effect."
   ]
  },
  {
   "cell_type": "code",
   "id": "initial_id",
   "metadata": {
    "collapsed": true,
    "ExecuteTime": {
     "end_time": "2024-07-25T15:19:35.380984Z",
     "start_time": "2024-07-25T15:19:34.237126Z"
    }
   },
   "source": [
    "import random\n",
    "\n",
    "import numpy as np\n",
    "\n",
    "from hypex.dataset import Dataset, InfoRole, TreatmentRole, TargetRole\n",
    "from hypex.experiments.ab import ABTest"
   ],
   "outputs": [],
   "execution_count": 1
  },
  {
   "cell_type": "markdown",
   "id": "494ea582",
   "metadata": {},
   "source": [
    "## Creation of a new test dataset with synthetic data.\n",
    "It is important to mark the data fields by assigning the appropriate roles:\n",
    "\n",
    "* FeatureRole: a role for columns that contain features or predictor variables. Our split will be based on them. Applied by default if the role is not specified for the column.\n",
    "* TreatmentRole: a role for columns that show the treatment or intervention.\n",
    "* TargetRole: a role for columns that show the target or outcome variable.\n",
    "* InfoRole: a role for columns that contain information about the data, such as user IDs."
   ]
  },
  {
   "cell_type": "code",
   "id": "904175ab484d1690",
   "metadata": {
    "collapsed": false,
    "ExecuteTime": {
     "end_time": "2024-07-25T15:19:35.434859Z",
     "start_time": "2024-07-25T15:19:35.384692Z"
    }
   },
   "source": [
    "data = Dataset(\n",
    "    roles={\n",
    "        \"user_id\": InfoRole(int),\n",
    "        \"treat\": TreatmentRole(),\n",
    "        \"pre_spends\": TargetRole(),\n",
    "        \"post_spends\": TargetRole(), \n",
    "        \"gender\": TargetRole()\n",
    "    }, data=\"data.csv\",\n",
    ")\n",
    "data"
   ],
   "outputs": [
    {
     "data": {
      "text/plain": [
       "      user_id  signup_month  treat  pre_spends  post_spends   age gender  \\\n",
       "0           0             0      0       488.0   414.444444   NaN      M   \n",
       "1           1             8      1       512.5   462.222222  26.0    NaN   \n",
       "2           2             7      1       483.0   479.444444  25.0      M   \n",
       "3           3             0      0       501.5   424.333333  39.0      M   \n",
       "4           4             1      1       543.0   514.555556  18.0      F   \n",
       "...       ...           ...    ...         ...          ...   ...    ...   \n",
       "9995     9995            10      1       538.5   450.444444  42.0      M   \n",
       "9996     9996             0      0       500.5   430.888889  26.0      F   \n",
       "9997     9997             3      1       473.0   534.111111  22.0      F   \n",
       "9998     9998             2      1       495.0   523.222222  67.0      F   \n",
       "9999     9999             7      1       508.0   475.888889  38.0      F   \n",
       "\n",
       "        industry  \n",
       "0     E-commerce  \n",
       "1     E-commerce  \n",
       "2      Logistics  \n",
       "3     E-commerce  \n",
       "4     E-commerce  \n",
       "...          ...  \n",
       "9995   Logistics  \n",
       "9996   Logistics  \n",
       "9997  E-commerce  \n",
       "9998  E-commerce  \n",
       "9999  E-commerce  \n",
       "\n",
       "[10000 rows x 8 columns]"
      ]
     },
     "execution_count": 2,
     "metadata": {},
     "output_type": "execute_result"
    }
   ],
   "execution_count": 2
  },
  {
   "metadata": {
    "ExecuteTime": {
     "end_time": "2024-07-25T15:19:35.463428Z",
     "start_time": "2024-07-25T15:19:35.437763Z"
    }
   },
   "cell_type": "code",
   "source": [
    "data[\"treat\"] = [random.choice([0, 1, 2]) for _ in range(len(data))]\n",
    "data"
   ],
   "id": "ec0659f2c8de40d9",
   "outputs": [
    {
     "data": {
      "text/plain": [
       "      user_id  signup_month  treat  pre_spends  post_spends   age gender  \\\n",
       "0           0             0      1       488.0   414.444444   NaN      M   \n",
       "1           1             8      1       512.5   462.222222  26.0    NaN   \n",
       "2           2             7      0       483.0   479.444444  25.0      M   \n",
       "3           3             0      1       501.5   424.333333  39.0      M   \n",
       "4           4             1      2       543.0   514.555556  18.0      F   \n",
       "...       ...           ...    ...         ...          ...   ...    ...   \n",
       "9995     9995            10      2       538.5   450.444444  42.0      M   \n",
       "9996     9996             0      2       500.5   430.888889  26.0      F   \n",
       "9997     9997             3      0       473.0   534.111111  22.0      F   \n",
       "9998     9998             2      0       495.0   523.222222  67.0      F   \n",
       "9999     9999             7      1       508.0   475.888889  38.0      F   \n",
       "\n",
       "        industry  \n",
       "0     E-commerce  \n",
       "1     E-commerce  \n",
       "2      Logistics  \n",
       "3     E-commerce  \n",
       "4     E-commerce  \n",
       "...          ...  \n",
       "9995   Logistics  \n",
       "9996   Logistics  \n",
       "9997  E-commerce  \n",
       "9998  E-commerce  \n",
       "9999  E-commerce  \n",
       "\n",
       "[10000 rows x 8 columns]"
      ]
     },
     "execution_count": 3,
     "metadata": {},
     "output_type": "execute_result"
    }
   ],
   "execution_count": 3
  },
  {
   "cell_type": "code",
   "id": "a78151eca524b974",
   "metadata": {
    "collapsed": false,
    "ExecuteTime": {
     "end_time": "2024-07-25T15:19:35.477670Z",
     "start_time": "2024-07-25T15:19:35.467910Z"
    }
   },
   "source": "data.roles",
   "outputs": [
    {
     "data": {
      "text/plain": [
       "{'user_id': Info(<class 'int'>),\n",
       " 'treat': Treatment(<class 'int'>),\n",
       " 'pre_spends': Target(<class 'float'>),\n",
       " 'post_spends': Target(<class 'float'>),\n",
       " 'gender': Target(<class 'str'>),\n",
       " 'signup_month': Feature(<class 'int'>),\n",
       " 'age': Feature(<class 'float'>),\n",
       " 'industry': Feature(<class 'str'>)}"
      ]
     },
     "execution_count": 4,
     "metadata": {},
     "output_type": "execute_result"
    }
   ],
   "execution_count": 4
  },
  {
   "cell_type": "markdown",
   "id": "b019412e",
   "metadata": {},
   "source": [
    "## Simple AB Test \n",
    "\n",
    "Simple pipline contains group sizes, group differences and TTest estimation. "
   ]
  },
  {
   "cell_type": "code",
   "id": "28f08947",
   "metadata": {
    "ExecuteTime": {
     "end_time": "2024-07-25T15:19:35.859520Z",
     "start_time": "2024-07-25T15:19:35.482410Z"
    }
   },
   "source": [
    "test = ABTest()\n",
    "result = test.execute(data)"
   ],
   "outputs": [],
   "execution_count": 5
  },
  {
   "cell_type": "code",
   "id": "89f9b9fe",
   "metadata": {
    "ExecuteTime": {
     "end_time": "2024-07-25T15:19:35.872421Z",
     "start_time": "2024-07-25T15:19:35.862271Z"
    }
   },
   "source": [
    "result.resume"
   ],
   "outputs": [
    {
     "data": {
      "text/plain": [
       "       feature group TTest pass  TTest p-value  control mean   test mean  \\\n",
       "0   pre_spends     1     NOT OK       0.945013    487.282256  487.314118   \n",
       "1   pre_spends     2     NOT OK       0.178643    452.394639  452.401967   \n",
       "2  post_spends     1     NOT OK       0.993922    487.282256  486.665686   \n",
       "3  post_spends     2     NOT OK       0.453960    452.394639  451.674547   \n",
       "\n",
       "   difference  difference %  \n",
       "0    0.031862      0.006539  \n",
       "1    0.007327      0.001620  \n",
       "2   -0.616570     -0.126532  \n",
       "3   -0.720093     -0.159174  "
      ]
     },
     "execution_count": 6,
     "metadata": {},
     "output_type": "execute_result"
    }
   ],
   "execution_count": 6
  },
  {
   "cell_type": "code",
   "id": "4227dbff",
   "metadata": {
    "ExecuteTime": {
     "end_time": "2024-07-25T15:20:08.238906Z",
     "start_time": "2024-07-25T15:20:08.230234Z"
    }
   },
   "source": [
    "result.sizes "
   ],
   "outputs": [
    {
     "data": {
      "text/plain": [
       "   control size  test size  control size %  test size % group\n",
       "1          3449       3322              50           49     1\n",
       "2          3449       3229              51           48     2"
      ]
     },
     "execution_count": 9,
     "metadata": {},
     "output_type": "execute_result"
    }
   ],
   "execution_count": 9
  },
  {
   "cell_type": "code",
   "id": "b735d944",
   "metadata": {
    "ExecuteTime": {
     "end_time": "2024-07-25T15:20:08.378379Z",
     "start_time": "2024-07-25T15:20:08.370780Z"
    }
   },
   "source": [
    "result.multitest"
   ],
   "outputs": [
    {
     "data": {
      "text/plain": [
       "\"There was less than three groups or multitest method wasn't provided\""
      ]
     },
     "execution_count": 10,
     "metadata": {},
     "output_type": "execute_result"
    }
   ],
   "execution_count": 10
  },
  {
   "cell_type": "markdown",
   "id": "ff2808fb",
   "metadata": {},
   "source": [
    "## Additional tests in AB Test \n",
    "\n",
    "It is possible to add u-test and chi2-test in pipline. "
   ]
  },
  {
   "cell_type": "code",
   "id": "a40f5762f0b37a0a",
   "metadata": {
    "collapsed": false,
    "ExecuteTime": {
     "end_time": "2024-07-25T15:20:09.051637Z",
     "start_time": "2024-07-25T15:20:08.421942Z"
    }
   },
   "source": [
    "test = ABTest(additional_tests=['t-test', 'u-test', 'chi2-test'])\n",
    "result = test.execute(data)"
   ],
   "outputs": [],
   "execution_count": 11
  },
  {
   "cell_type": "code",
   "id": "89a8898c35681e97",
   "metadata": {
    "collapsed": false,
    "ExecuteTime": {
     "end_time": "2024-07-25T15:20:09.065979Z",
     "start_time": "2024-07-25T15:20:09.054092Z"
    }
   },
   "source": [
    "result.resume"
   ],
   "outputs": [
    {
     "data": {
      "text/plain": [
       "       feature group TTest pass  TTest p-value UTest pass  UTest p-value  \\\n",
       "0   pre_spends     1     NOT OK       0.945013     NOT OK       0.675086   \n",
       "1   pre_spends     2     NOT OK       0.178643     NOT OK       0.214887   \n",
       "2  post_spends     1     NOT OK       0.993922     NOT OK       0.934545   \n",
       "3  post_spends     2     NOT OK       0.453960     NOT OK       0.531119   \n",
       "\n",
       "  Chi2Test pass  Chi2Test p-value  control mean   test mean  difference  \\\n",
       "0           NaN               NaN    487.282256  487.314118    0.031862   \n",
       "1           NaN               NaN    452.394639  452.401967    0.007327   \n",
       "2           NaN               NaN    487.282256  486.665686   -0.616570   \n",
       "3           NaN               NaN    452.394639  451.674547   -0.720093   \n",
       "\n",
       "   difference %  \n",
       "0      0.006539  \n",
       "1      0.001620  \n",
       "2     -0.126532  \n",
       "3     -0.159174  "
      ]
     },
     "execution_count": 12,
     "metadata": {},
     "output_type": "execute_result"
    }
   ],
   "execution_count": 12
  },
  {
   "cell_type": "code",
   "id": "1da993761313d8d8",
   "metadata": {
    "collapsed": false,
    "ExecuteTime": {
     "end_time": "2024-07-25T15:20:17.151622Z",
     "start_time": "2024-07-25T15:20:17.145289Z"
    }
   },
   "source": [
    "result.multitest"
   ],
   "outputs": [
    {
     "data": {
      "text/plain": [
       "\"There was less than three groups or multitest method wasn't provided\""
      ]
     },
     "execution_count": 15,
     "metadata": {},
     "output_type": "execute_result"
    }
   ],
   "execution_count": 15
  },
  {
   "cell_type": "code",
   "id": "c11137e6c10eb0dc",
   "metadata": {
    "collapsed": false,
    "ExecuteTime": {
     "end_time": "2024-07-25T15:20:17.273230Z",
     "start_time": "2024-07-25T15:20:17.263849Z"
    }
   },
   "source": [
    "result.sizes"
   ],
   "outputs": [
    {
     "data": {
      "text/plain": [
       "   control size  test size  control size %  test size % group\n",
       "1          3449       3322              50           49     1\n",
       "2          3449       3229              51           48     2"
      ]
     },
     "execution_count": 16,
     "metadata": {},
     "output_type": "execute_result"
    }
   ],
   "execution_count": 16
  },
  {
   "cell_type": "markdown",
   "id": "ec0a7734",
   "metadata": {},
   "source": [
    "## ABn Test \n",
    "\n",
    "Finally, we may estimate multiple ab test with different methods."
   ]
  },
  {
   "cell_type": "code",
   "id": "5921c9e2",
   "metadata": {
    "ExecuteTime": {
     "end_time": "2024-07-25T15:20:17.599231Z",
     "start_time": "2024-07-25T15:20:17.306635Z"
    }
   },
   "source": [
    "test = ABTest(multitest_method=\"bonferroni\")\n",
    "result = test.execute(data)"
   ],
   "outputs": [],
   "execution_count": 17
  },
  {
   "cell_type": "code",
   "id": "952d21c6",
   "metadata": {
    "ExecuteTime": {
     "end_time": "2024-07-25T15:20:17.619611Z",
     "start_time": "2024-07-25T15:20:17.604295Z"
    }
   },
   "source": [
    "result.resume"
   ],
   "outputs": [
    {
     "data": {
      "text/plain": [
       "       feature group TTest pass  TTest p-value  control mean   test mean  \\\n",
       "0   pre_spends     1     NOT OK       0.945013    487.282256  487.314118   \n",
       "1   pre_spends     2     NOT OK       0.178643    452.394639  452.401967   \n",
       "2  post_spends     1     NOT OK       0.993922    487.282256  486.665686   \n",
       "3  post_spends     2     NOT OK       0.453960    452.394639  451.674547   \n",
       "\n",
       "   difference  difference %  \n",
       "0    0.031862      0.006539  \n",
       "1    0.007327      0.001620  \n",
       "2   -0.616570     -0.126532  \n",
       "3   -0.720093     -0.159174  "
      ]
     },
     "execution_count": 18,
     "metadata": {},
     "output_type": "execute_result"
    }
   ],
   "execution_count": 18
  },
  {
   "cell_type": "code",
   "id": "ad59dec9",
   "metadata": {
    "ExecuteTime": {
     "end_time": "2024-07-25T15:20:17.673079Z",
     "start_time": "2024-07-25T15:20:17.622495Z"
    }
   },
   "source": [
    "result.sizes"
   ],
   "outputs": [
    {
     "data": {
      "text/plain": [
       "   control size  test size  control size %  test size % group\n",
       "1          3449       3322              50           49     1\n",
       "2          3449       3229              51           48     2"
      ]
     },
     "execution_count": 19,
     "metadata": {},
     "output_type": "execute_result"
    }
   ],
   "execution_count": 19
  },
  {
   "cell_type": "code",
   "id": "7849230a",
   "metadata": {
    "ExecuteTime": {
     "end_time": "2024-07-25T15:20:26.753867Z",
     "start_time": "2024-07-25T15:20:26.746145Z"
    }
   },
   "source": [
    "result.multitest"
   ],
   "outputs": [
    {
     "data": {
      "text/plain": [
       "   correction        field  new p-value  old p-value  rejected   test group\n",
       "0    0.945013   pre_spends     1.000000     0.945013     False  TTest     1\n",
       "1    0.250000  post_spends     0.714571     0.178643     False  TTest     1\n",
       "2    0.993922   pre_spends     1.000000     0.993922     False  TTest     2\n",
       "3    0.453960  post_spends     1.000000     0.453960     False  TTest     2"
      ]
     },
     "execution_count": 21,
     "metadata": {},
     "output_type": "execute_result"
    }
   ],
   "execution_count": 21
  }
 ],
 "metadata": {
  "kernelspec": {
   "display_name": "Python 3",
   "language": "python",
   "name": "python3"
  },
  "language_info": {
   "codemirror_mode": {
    "name": "ipython",
    "version": 3
   },
   "file_extension": ".py",
   "mimetype": "text/x-python",
   "name": "python",
   "nbconvert_exporter": "python",
   "pygments_lexer": "ipython3",
   "version": "3.10.13"
  }
 },
 "nbformat": 4,
 "nbformat_minor": 5
}
