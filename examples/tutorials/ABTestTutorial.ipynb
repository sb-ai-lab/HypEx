{
 "cells": [
  {
   "cell_type": "markdown",
   "id": "6860fd71",
   "metadata": {},
   "source": [
    "# AB test tutorial"
   ]
  },
  {
   "cell_type": "markdown",
   "id": "74cd882c",
   "metadata": {},
   "source": "A/B testing is the research method that allows you to find out the effect of a particular change in the product. The study shows which of the two versions of the product or offer gives greater effect on the selected metrics and if it is statistically significant.  "
  },
  {
   "cell_type": "markdown",
   "id": "6f7a2495",
   "metadata": {},
   "source": [
    "<ul>\n",
    "  <li><a href=\"#creation-of-a-new-test-dataset-with-synthetic-data\">Creation of a new test dataset with synthetic data.\n",
    "  <li><a href=\"#ab-test\">AB test.\n",
    "</ul>"
   ]
  },
  {
   "cell_type": "code",
   "id": "initial_id",
   "metadata": {
    "collapsed": true,
    "ExecuteTime": {
     "end_time": "2024-07-30T14:00:13.409683Z",
     "start_time": "2024-07-30T14:00:13.404413Z"
    }
   },
   "source": [
    "from hypex.dataset import Dataset, ExperimentData, InfoRole, TreatmentRole, TargetRole\n",
    "from hypex.experiments.ab import AB_TEST "
   ],
   "outputs": [],
   "execution_count": 7
  },
  {
   "cell_type": "markdown",
   "id": "ed917b0664d770d1",
   "metadata": {},
   "source": [
    "## Creation of a new test dataset with synthetic data. \n",
    "\n",
    "In order to be able to work with our data in HypEx, first we need to convert it into `dataset`. It is important to mark the data fields by assigning the appropriate `roles`:\n",
    "- FeatureRole: a role for columns that contain features or predictor variables. Our split will be based on them. Applied by default if the role is not specified for the column.\n",
    "- TreatmentRole: a role for columns that show the treatment or intervention.\n",
    "- TargetRole: a role for columns that show the target or outcome variable.\n",
    "- InfoRole: a role for columns that contain information about the data, such as user IDs. "
   ]
  },
  {
   "cell_type": "code",
   "id": "904175ab484d1690",
   "metadata": {
    "collapsed": false,
    "ExecuteTime": {
     "end_time": "2024-07-30T14:00:13.525709Z",
     "start_time": "2024-07-30T14:00:13.492380Z"
    }
   },
   "source": [
    "data = Dataset(\n",
    "    roles={\n",
    "        \"user_id\": InfoRole(int),\n",
    "        \"treat\": TreatmentRole(),\n",
    "        \"pre_spends\": TargetRole(),\n",
    "        \"post_spends\": TargetRole(), \n",
    "        \"gender\": TargetRole(str)\n",
    "    }, data=\"data.csv\",\n",
    ")\n",
    "data"
   ],
   "outputs": [
    {
     "data": {
      "text/plain": [
       "      user_id  signup_month  treat  pre_spends  post_spends   age gender  \\\n",
       "0           0             0      0       488.0   414.444444   NaN      M   \n",
       "1           1             8      1       512.5   462.222222  26.0    NaN   \n",
       "2           2             7      1       483.0   479.444444  25.0      M   \n",
       "3           3             0      0       501.5   424.333333  39.0      M   \n",
       "4           4             1      1       543.0   514.555556  18.0      F   \n",
       "...       ...           ...    ...         ...          ...   ...    ...   \n",
       "9995     9995            10      1       538.5   450.444444  42.0      M   \n",
       "9996     9996             0      0       500.5   430.888889  26.0      F   \n",
       "9997     9997             3      1       473.0   534.111111  22.0      F   \n",
       "9998     9998             2      1       495.0   523.222222  67.0      F   \n",
       "9999     9999             7      1       508.0   475.888889  38.0      F   \n",
       "\n",
       "        industry  \n",
       "0     E-commerce  \n",
       "1     E-commerce  \n",
       "2      Logistics  \n",
       "3     E-commerce  \n",
       "4     E-commerce  \n",
       "...          ...  \n",
       "9995   Logistics  \n",
       "9996   Logistics  \n",
       "9997  E-commerce  \n",
       "9998  E-commerce  \n",
       "9999  E-commerce  \n",
       "\n",
       "[10000 rows x 8 columns]"
      ]
     },
     "execution_count": 8,
     "metadata": {},
     "output_type": "execute_result"
    }
   ],
   "execution_count": 8
  },
  {
   "cell_type": "markdown",
   "id": "a4a5765546e31f7d",
   "metadata": {},
   "source": "The roles' data types can be assigned automatically as shown below. Also, the fields, which were not marked, receive Feature role by default."
  },
  {
   "cell_type": "code",
   "id": "a78151eca524b974",
   "metadata": {
    "collapsed": false,
    "ExecuteTime": {
     "end_time": "2024-07-30T14:00:13.536989Z",
     "start_time": "2024-07-30T14:00:13.529055Z"
    }
   },
   "source": [
    "data.roles"
   ],
   "outputs": [
    {
     "data": {
      "text/plain": [
       "{'user_id': Info(<class 'int'>),\n",
       " 'treat': Treatment(<class 'int'>),\n",
       " 'pre_spends': Target(<class 'float'>),\n",
       " 'post_spends': Target(<class 'float'>),\n",
       " 'gender': Target(<class 'str'>),\n",
       " 'signup_month': Feature(<class 'int'>),\n",
       " 'age': Feature(<class 'float'>),\n",
       " 'industry': Feature(<class 'str'>)}"
      ]
     },
     "execution_count": 9,
     "metadata": {},
     "output_type": "execute_result"
    }
   ],
   "execution_count": 9
  },
  {
   "cell_type": "markdown",
   "id": "c54858b12ea2216d",
   "metadata": {},
   "source": [
    "## AB test\n",
    "Then we select one of the pre-assembled pipelines, in our case `AB_TEST`. Also, a custom pipline can be created based on your specific needs and requirements with custom executors.\n",
    "After that we wrap our prepared `dataset` into `ExperimentData` to be able to run experiments on it and then execute the test with this data passed as the argument."
   ]
  },
  {
   "cell_type": "code",
   "id": "a40f5762f0b37a0a",
   "metadata": {
    "collapsed": false,
    "ExecuteTime": {
     "end_time": "2024-07-30T14:00:13.877103Z",
     "start_time": "2024-07-30T14:00:13.539491Z"
    }
   },
   "source": [
    "test = AB_TEST\n",
    "ed = ExperimentData(data)\n",
    "result = test.execute(ed)"
   ],
   "outputs": [],
   "execution_count": 10
  },
  {
   "cell_type": "markdown",
   "id": "82c3d7b081904e88",
   "metadata": {},
   "source": "We can access the results of the experiment directly with the property `analysis_tables` of `ExperimentData`. It is included information about the results of each executor. Key is executor state id, value is the result of the executor. It may be useful for debugging or interpretation purposes."
  },
  {
   "cell_type": "code",
   "id": "89a8898c35681e97",
   "metadata": {
    "collapsed": false,
    "ExecuteTime": {
     "end_time": "2024-07-30T14:00:13.903732Z",
     "start_time": "2024-07-30T14:00:13.881427Z"
    }
   },
   "source": [
    "result.analysis_tables"
   ],
   "outputs": [
    {
     "data": {
      "text/plain": [
       "{'GroupSizes┴┴':    control size  test size  control size %  test size %\n",
       " 0          4936       5064           49.36        50.64,\n",
       " 'GroupDifference┴┴pre_spends':    control mean   test mean  difference  difference %\n",
       " 0    484.911973  489.220379    4.308406      0.888492,\n",
       " 'TTest┴┴pre_spends':         p-value  statistic  pass\n",
       " 0  2.315047e-30 -11.489293  True,\n",
       " 'UTest┴┴pre_spends':         p-value   statistic  pass\n",
       " 0  7.624263e-12  11509971.0  True,\n",
       " 'GroupDifference┴┴post_spends':    control mean   test mean  difference  difference %\n",
       " 0    420.046619  483.470664   63.424045     15.099287,\n",
       " 'TTest┴┴post_spends':    p-value   statistic  pass\n",
       " 0      0.0 -135.560001  True,\n",
       " 'UTest┴┴post_spends':    p-value  statistic  pass\n",
       " 0      0.0   408754.5  True,\n",
       " 'Chi2Test┴┴gender':     p-value  statistic   pass\n",
       " 0  0.351553   0.867843  False,\n",
       " 'ABAnalyzer┴┴MultiTest':    accepted hypothesis\n",
       " 0                    2,\n",
       " 'ABAnalyzer┴┴':    TTest p-value  TTest pass  UTest p-value  UTest pass\n",
       " 0   1.157524e-30         1.0   3.812131e-12         1.0}"
      ]
     },
     "execution_count": 11,
     "metadata": {},
     "output_type": "execute_result"
    }
   ],
   "execution_count": 11
  },
  {
   "cell_type": "markdown",
   "id": "b2abc6eca6f72f31",
   "metadata": {},
   "source": [
    "### Experiment results\n",
    "To show the report with summary of the test we run the `report` method of the reporter, associated with the respective test type, AB test in our case.\n",
    "\n",
    "It displays the results of the test in the form of a table with the following columns:\n",
    "- `feature`: name of the target feature, change of which we want to analyze.\n",
    "- `group`: name of the test group we compare with the control group.\n",
    "- `TTest pass`: result of the TTest, if it is significant or not.\n",
    "- `TTest p-value`: p-value of the TTest shows the probability of obtaining the result when the null hypothesis is true. The lower the value the more significant the result is.\n",
    "- `UTest pass`: result of the UTest, if it is significant or not.\n",
    "- `UTest p-value`: p-value of the UTest shows the probability of obtaining the result when the null hypothesis is true. The lower the value the more significant the result is.\n",
    "- `Chi2Test pass`: result of the Chi2Test, if it is significant or not.\n",
    "- `Chi2Test p-value`: p-value of the Chi2Test shows the probability of obtaining the result when the null hypothesis is true. The lower the value the more significant the result is.\n",
    "- `control mean`: the mean of the feature value across the control group.\n",
    "- `test mean`: the mean of the feature value across the test group.\n",
    "- `difference`: the difference between the mean of the test group and the mean of the control group.\n",
    "- `% difference`: the normalized difference between the mean of the test group and the mean of the control group."
   ]
  },
  {
   "cell_type": "code",
   "id": "4936140f9c373dd3",
   "metadata": {
    "collapsed": false,
    "ExecuteTime": {
     "end_time": "2024-07-30T14:00:13.919777Z",
     "start_time": "2024-07-30T14:00:13.906334Z"
    }
   },
   "source": [
    "from hypex.reporters.ab import ABDatasetReporter\n",
    "\n",
    "ABDatasetReporter().report(result)"
   ],
   "outputs": [
    {
     "data": {
      "text/plain": [
       "       feature group TTest pass  TTest p-value UTest pass  UTest p-value  \\\n",
       "0   pre_spends     0     NOT OK   2.315047e-30     NOT OK   7.624263e-12   \n",
       "1  post_spends     0     NOT OK   0.000000e+00     NOT OK   0.000000e+00   \n",
       "2       gender     0        NaN            NaN        NaN            NaN   \n",
       "\n",
       "  Chi2Test pass  Chi2Test p-value  \n",
       "0           NaN               NaN  \n",
       "1           NaN               NaN  \n",
       "2            OK          0.351553  "
      ]
     },
     "execution_count": 12,
     "metadata": {},
     "output_type": "execute_result"
    }
   ],
   "execution_count": 12
  }
 ],
 "metadata": {
  "kernelspec": {
   "display_name": "Python 3",
   "language": "python",
   "name": "python3"
  },
  "language_info": {
   "codemirror_mode": {
    "name": "ipython",
    "version": 3
   },
   "file_extension": ".py",
   "mimetype": "text/x-python",
   "name": "python",
   "nbconvert_exporter": "python",
   "pygments_lexer": "ipython3",
   "version": "3.10.13"
  }
 },
 "nbformat": 4,
 "nbformat_minor": 5
}
