{
 "cells": [
  {
   "cell_type": "markdown",
   "id": "6860fd71",
   "metadata": {},
   "source": [
    "# AB test tutorial"
   ]
  },
  {
   "cell_type": "markdown",
   "id": "74cd882c",
   "metadata": {},
   "source": [
    "A/B testing is a research method that allows you to find out people's reaction to any changes. The study shows which of the two versions of the product or offer is better and gives greater effect."
   ]
  },
  {
   "cell_type": "markdown",
   "id": "6f7a2495",
   "metadata": {},
   "source": [
    "<ul>\n",
    "  <li><a href=\"#creation-of-a-new-test-dataset-with-synthetic-data\">Creation of a new test dataset with synthetic data.\n",
    "  <li><a href=\"#ab-test\">AB test.\n",
    "</ul>"
   ]
  },
  {
   "cell_type": "code",
   "execution_count": 1,
   "id": "initial_id",
   "metadata": {
    "ExecuteTime": {
     "end_time": "2024-06-28T11:50:27.578969Z",
     "start_time": "2024-06-28T11:50:26.091063700Z"
    },
    "collapsed": true
   },
   "outputs": [
    {
     "name": "stderr",
     "output_type": "stream",
     "text": [
      "C:\\Users\\User\\AppData\\Local\\Programs\\Python\\Python310\\lib\\site-packages\\tqdm\\auto.py:21: TqdmWarning: IProgress not found. Please update jupyter and ipywidgets. See https://ipywidgets.readthedocs.io/en/stable/user_install.html\n",
      "  from .autonotebook import tqdm as notebook_tqdm\n"
     ]
    }
   ],
   "source": [
    "from hypex.dataset import Dataset, ExperimentData, InfoRole, TreatmentRole, TargetRole\n",
    "from hypex.experiments.ab import AB_TEST "
   ]
  },
  {
   "cell_type": "markdown",
   "id": "ed917b0664d770d1",
   "metadata": {},
   "source": [
    "## Creation of a new test dataset with synthetic data. \n",
    "\n",
    "It is important to mark the data fields by assigning the appropriate roles:\n",
    "- FeatureRole: a role for columns that contain features or predictor variables. Our split will be based on them. Applied by default if the role is not specified for the column.\n",
    "- TreatmentRole: a role for columns that show the treatment or intervention.\n",
    "- TargetRole: a role for columns that show the target or outcome variable.\n",
    "- InfoRole: a role for columns that contain information about the data, such as user IDs. "
   ]
  },
  {
   "cell_type": "code",
   "execution_count": 2,
   "id": "904175ab484d1690",
   "metadata": {
    "ExecuteTime": {
     "end_time": "2024-06-28T11:50:27.651430700Z",
     "start_time": "2024-06-28T11:50:27.581989700Z"
    },
    "collapsed": false
   },
   "outputs": [
    {
     "data": {
      "text/plain": [
       "      user_id  signup_month  treat  pre_spends  post_spends   age gender  \\\n",
       "0           0             0      0       488.0   414.444444   NaN      M   \n",
       "1           1             8      1       512.5   462.222222  26.0    NaN   \n",
       "2           2             7      1       483.0   479.444444  25.0      M   \n",
       "3           3             0      0       501.5   424.333333  39.0      M   \n",
       "4           4             1      1       543.0   514.555556  18.0      F   \n",
       "...       ...           ...    ...         ...          ...   ...    ...   \n",
       "9995     9995            10      1       538.5   450.444444  42.0      M   \n",
       "9996     9996             0      0       500.5   430.888889  26.0      F   \n",
       "9997     9997             3      1       473.0   534.111111  22.0      F   \n",
       "9998     9998             2      1       495.0   523.222222  67.0      F   \n",
       "9999     9999             7      1       508.0   475.888889  38.0      F   \n",
       "\n",
       "        industry  \n",
       "0     E-commerce  \n",
       "1     E-commerce  \n",
       "2      Logistics  \n",
       "3     E-commerce  \n",
       "4     E-commerce  \n",
       "...          ...  \n",
       "9995   Logistics  \n",
       "9996   Logistics  \n",
       "9997  E-commerce  \n",
       "9998  E-commerce  \n",
       "9999  E-commerce  \n",
       "\n",
       "[10000 rows x 8 columns]"
      ]
     },
     "execution_count": 2,
     "metadata": {},
     "output_type": "execute_result"
    }
   ],
   "source": [
    "data = Dataset(\n",
    "    roles={\n",
    "        \"user_id\": InfoRole(int),\n",
    "        \"treat\": TreatmentRole(),\n",
    "        \"pre_spends\": TargetRole(),\n",
    "        \"post_spends\": TargetRole(), \n",
    "        \"gender\": TargetRole(str)\n",
    "    }, data=\"data.csv\",\n",
    ")\n",
    "data"
   ]
  },
  {
   "cell_type": "markdown",
   "id": "a4a5765546e31f7d",
   "metadata": {},
   "source": [
    "The roles' data types can be allocated automatically as shown below. Also, the fields, which were not marked, receive Feature role by default."
   ]
  },
  {
   "cell_type": "code",
   "execution_count": 3,
   "id": "a78151eca524b974",
   "metadata": {
    "ExecuteTime": {
     "end_time": "2024-06-28T11:50:27.701176400Z",
     "start_time": "2024-06-28T11:50:27.653756Z"
    },
    "collapsed": false
   },
   "outputs": [
    {
     "data": {
      "text/plain": [
       "{'user_id': Info(<class 'int'>),\n",
       " 'treat': Treatment(<class 'int'>),\n",
       " 'pre_spends': Target(<class 'float'>),\n",
       " 'post_spends': Target(<class 'float'>),\n",
       " 'gender': Target(<class 'str'>),\n",
       " 'signup_month': Feature(<class 'int'>),\n",
       " 'age': Feature(<class 'float'>),\n",
       " 'industry': Feature(<class 'str'>)}"
      ]
     },
     "execution_count": 3,
     "metadata": {},
     "output_type": "execute_result"
    }
   ],
   "source": [
    "data.roles"
   ]
  },
  {
   "cell_type": "markdown",
   "id": "c54858b12ea2216d",
   "metadata": {},
   "source": [
    "## AB test\n",
    "Then we select one of the pre-assembled pipelines, in our case AB_TEST. Also pipline may be created a custom one. Then we wrap our prepared dataset into ExperimentData to be able to run experiments on it and then execute the test."
   ]
  },
  {
   "cell_type": "code",
   "execution_count": 4,
   "id": "a40f5762f0b37a0a",
   "metadata": {
    "ExecuteTime": {
     "end_time": "2024-06-28T11:50:28.183707700Z",
     "start_time": "2024-06-28T11:50:27.674286Z"
    },
    "collapsed": false
   },
   "outputs": [],
   "source": [
    "test = AB_TEST\n",
    "ed = ExperimentData(data)\n",
    "result = test.execute(ed)"
   ]
  },
  {
   "cell_type": "markdown",
   "id": "82c3d7b081904e88",
   "metadata": {},
   "source": [
    "We can access the results of the experiment directly with the property analysis_tables of ExperimentData. It is included information about the results of each executor. Key is executor state id, value is the result of the executor. It may be useful for debugging or interpretation purposes."
   ]
  },
  {
   "cell_type": "code",
   "execution_count": 5,
   "id": "89a8898c35681e97",
   "metadata": {
    "ExecuteTime": {
     "end_time": "2024-06-28T11:50:28.215677100Z",
     "start_time": "2024-06-28T11:50:28.184710400Z"
    },
    "collapsed": false
   },
   "outputs": [
    {
     "data": {
      "text/plain": [
       "{'GroupSizes┴┴':    control size  test size  control size %  test size %\n",
       " 0          4936       5064           49.36        50.64,\n",
       " 'GroupDifference┴┴pre_spends':    control mean   test mean  difference  difference %\n",
       " 0    484.911973  489.220379    4.308406      0.888492,\n",
       " 'TTest┴┴pre_spends':         p-value  statistic  pass\n",
       " 0  2.315047e-30 -11.489293  True,\n",
       " 'UTest┴┴pre_spends':         p-value   statistic  pass\n",
       " 0  7.624263e-12  11509971.0  True,\n",
       " 'GroupDifference┴┴post_spends':    control mean   test mean  difference  difference %\n",
       " 0    420.046619  483.470664   63.424045     15.099287,\n",
       " 'TTest┴┴post_spends':    p-value   statistic  pass\n",
       " 0      0.0 -135.560001  True,\n",
       " 'UTest┴┴post_spends':    p-value  statistic  pass\n",
       " 0      0.0   408754.5  True,\n",
       " 'Chi2Test┴┴gender':     p-value  statistic   pass\n",
       " 0  0.351553   0.867843  False,\n",
       " 'ABAnalyzer┴┴MultiTest':    accepted hypothesis\n",
       " 0                    2,\n",
       " 'ABAnalyzer┴┴':    TTest p-value  TTest pass  UTest p-value  UTest pass\n",
       " 0   1.157524e-30         1.0   3.812131e-12         1.0}"
      ]
     },
     "execution_count": 5,
     "metadata": {},
     "output_type": "execute_result"
    }
   ],
   "source": [
    "result.analysis_tables"
   ]
  },
  {
   "cell_type": "markdown",
   "id": "b2abc6eca6f72f31",
   "metadata": {},
   "source": [
    "### Experiment results\n",
    "To show the report with summary of the test we run the report method of the reporter, associated with the respective test type, AB test in our case."
   ]
  },
  {
   "cell_type": "code",
   "execution_count": 6,
   "id": "4936140f9c373dd3",
   "metadata": {
    "ExecuteTime": {
     "end_time": "2024-06-28T11:50:28.257337700Z",
     "start_time": "2024-06-28T11:50:28.217697200Z"
    },
    "collapsed": false
   },
   "outputs": [
    {
     "data": {
      "text/plain": [
       "{'GroupSizes control size 0': 4936,\n",
       " 'GroupSizes test size 0': 5064,\n",
       " 'GroupSizes control size % 0': 49.36,\n",
       " 'GroupSizes test size % 0': 50.63999999999999,\n",
       " 'pre_spends GroupDifference control mean 0': 484.91197325769855,\n",
       " 'pre_spends GroupDifference test mean 0': 489.2203791469194,\n",
       " 'pre_spends GroupDifference difference 0': 4.3084058892208645,\n",
       " 'pre_spends GroupDifference difference % 0': 0.8884923711568682,\n",
       " 'post_spends GroupDifference control mean 0': 420.04661894471457,\n",
       " 'post_spends GroupDifference test mean 0': 483.470664384764,\n",
       " 'post_spends GroupDifference difference 0': 63.42404544004944,\n",
       " 'post_spends GroupDifference difference % 0': 15.099287217068902,\n",
       " 'pre_spends TTest p-value 0': 2.3150474758856975e-30,\n",
       " 'pre_spends TTest pass 0': True,\n",
       " 'post_spends TTest p-value 0': 0.0,\n",
       " 'post_spends TTest pass 0': True,\n",
       " 'pre_spends UTest p-value 0': 7.624262939003523e-12,\n",
       " 'pre_spends UTest pass 0': True,\n",
       " 'post_spends UTest p-value 0': 0.0,\n",
       " 'post_spends UTest pass 0': True,\n",
       " 'gender Chi2Test p-value 0': 0.3515532777335355,\n",
       " 'gender Chi2Test pass 0': False,\n",
       " 'accepted hypothesis': 2}"
      ]
     },
     "execution_count": 6,
     "metadata": {},
     "output_type": "execute_result"
    }
   ],
   "source": [
    "from hypex.reporters.ab import ABDatasetReporter\n",
    "\n",
    "ABDatasetReporter().report(result)"
   ]
  }
 ],
 "metadata": {
  "kernelspec": {
   "display_name": "Python 3",
   "language": "python",
   "name": "python3"
  },
  "language_info": {
   "codemirror_mode": {
    "name": "ipython",
    "version": 3
   },
   "file_extension": ".py",
   "mimetype": "text/x-python",
   "name": "python",
   "nbconvert_exporter": "python",
   "pygments_lexer": "ipython3",
   "version": "3.10.13"
  }
 },
 "nbformat": 4,
 "nbformat_minor": 5
}
