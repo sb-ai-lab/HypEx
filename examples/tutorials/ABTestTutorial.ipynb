{
 "cells": [
  {
   "cell_type": "markdown",
   "id": "50ff2e6b",
   "metadata": {},
   "source": [
    "# AB test \n",
    "\n",
    "A/B testing is the research method that allows you to find out the effect of a particular change in the product. The study shows which of the two versions of the product or offer gives greater effect on the selected metrics and if it is statistically significant.  "
   ]
  },
  {
   "metadata": {},
   "cell_type": "markdown",
   "source": [
    "<ul>\n",
    "  <li><a href=\"#creation-of-a-new-test-dataset-with-synthetic-data\">Creation of a new test dataset with synthetic data.\n",
    "  <li><a href=\"#ab-test\">AB test.\n",
    "  <li><a href=\"#additional-tests-in-ab-test\">Additional tests in AB Test.\n",
    "  <li><a href=\"#abn-test\">ABn Test.\n",
    "</ul>"
   ],
   "id": "ab8ebd06f7131e18"
  },
  {
   "cell_type": "code",
   "id": "initial_id",
   "metadata": {
    "collapsed": true,
    "ExecuteTime": {
     "end_time": "2024-08-16T17:53:22.875680Z",
     "start_time": "2024-08-16T17:53:22.063831Z"
    }
   },
   "source": [
    "import random\n",
    "\n",
    "import numpy as np\n",
    "\n",
    "from hypex.dataset import Dataset, InfoRole, TreatmentRole, TargetRole\n",
    "from hypex.experiments.ab import ABTest"
   ],
   "outputs": [],
   "execution_count": 1
  },
  {
   "cell_type": "markdown",
   "id": "494ea582",
   "metadata": {},
   "source": [
    "## Creation of a new test dataset with synthetic data. \n",
    "\n",
    "In order to be able to work with our data in HypEx, first we need to convert it into `dataset`. It is important to mark the data fields by assigning the appropriate `roles`:\n",
    "- FeatureRole: a role for columns that contain features or predictor variables. Our split will be based on them. Applied by default if the role is not specified for the column.\n",
    "- TreatmentRole: a role for columns that show the treatment or intervention.\n",
    "- TargetRole: a role for columns that show the target or outcome variable.\n",
    "- InfoRole: a role for columns that contain information about the data, such as user IDs. "
   ]
  },
  {
   "cell_type": "code",
   "id": "904175ab484d1690",
   "metadata": {
    "collapsed": false,
    "ExecuteTime": {
     "end_time": "2024-08-16T17:53:22.914555Z",
     "start_time": "2024-08-16T17:53:22.877849Z"
    }
   },
   "source": [
    "data = Dataset(\n",
    "    roles={\n",
    "        \"user_id\": InfoRole(int),\n",
    "        \"treat\": TreatmentRole(),\n",
    "        \"pre_spends\": TargetRole(),\n",
    "        \"post_spends\": TargetRole(), \n",
    "        \"gender\": TargetRole()\n",
    "    }, data=\"data.csv\",\n",
    ")\n",
    "data"
   ],
   "outputs": [
    {
     "data": {
      "text/plain": [
       "      user_id  signup_month  treat  pre_spends  post_spends   age gender  \\\n",
       "0           0             0      0       488.0   414.444444   NaN      M   \n",
       "1           1             8      1       512.5   462.222222  26.0    NaN   \n",
       "2           2             7      1       483.0   479.444444  25.0      M   \n",
       "3           3             0      0       501.5   424.333333  39.0      M   \n",
       "4           4             1      1       543.0   514.555556  18.0      F   \n",
       "...       ...           ...    ...         ...          ...   ...    ...   \n",
       "9995     9995            10      1       538.5   450.444444  42.0      M   \n",
       "9996     9996             0      0       500.5   430.888889  26.0      F   \n",
       "9997     9997             3      1       473.0   534.111111  22.0      F   \n",
       "9998     9998             2      1       495.0   523.222222  67.0      F   \n",
       "9999     9999             7      1       508.0   475.888889  38.0      F   \n",
       "\n",
       "        industry  \n",
       "0     E-commerce  \n",
       "1     E-commerce  \n",
       "2      Logistics  \n",
       "3     E-commerce  \n",
       "4     E-commerce  \n",
       "...          ...  \n",
       "9995   Logistics  \n",
       "9996   Logistics  \n",
       "9997  E-commerce  \n",
       "9998  E-commerce  \n",
       "9999  E-commerce  \n",
       "\n",
       "[10000 rows x 8 columns]"
      ]
     },
     "execution_count": 2,
     "metadata": {},
     "output_type": "execute_result"
    }
   ],
   "execution_count": 2
  },
  {
   "metadata": {
    "ExecuteTime": {
     "end_time": "2024-08-16T17:53:22.935089Z",
     "start_time": "2024-08-16T17:53:22.916389Z"
    }
   },
   "cell_type": "code",
   "source": [
    "data[\"treat\"] = [random.choice([0, 1, 2]) for _ in range(len(data))]\n",
    "data"
   ],
   "id": "ec0659f2c8de40d9",
   "outputs": [
    {
     "data": {
      "text/plain": [
       "      user_id  signup_month  treat  pre_spends  post_spends   age gender  \\\n",
       "0           0             0      2       488.0   414.444444   NaN      M   \n",
       "1           1             8      2       512.5   462.222222  26.0    NaN   \n",
       "2           2             7      2       483.0   479.444444  25.0      M   \n",
       "3           3             0      1       501.5   424.333333  39.0      M   \n",
       "4           4             1      1       543.0   514.555556  18.0      F   \n",
       "...       ...           ...    ...         ...          ...   ...    ...   \n",
       "9995     9995            10      2       538.5   450.444444  42.0      M   \n",
       "9996     9996             0      0       500.5   430.888889  26.0      F   \n",
       "9997     9997             3      1       473.0   534.111111  22.0      F   \n",
       "9998     9998             2      0       495.0   523.222222  67.0      F   \n",
       "9999     9999             7      1       508.0   475.888889  38.0      F   \n",
       "\n",
       "        industry  \n",
       "0     E-commerce  \n",
       "1     E-commerce  \n",
       "2      Logistics  \n",
       "3     E-commerce  \n",
       "4     E-commerce  \n",
       "...          ...  \n",
       "9995   Logistics  \n",
       "9996   Logistics  \n",
       "9997  E-commerce  \n",
       "9998  E-commerce  \n",
       "9999  E-commerce  \n",
       "\n",
       "[10000 rows x 8 columns]"
      ]
     },
     "execution_count": 3,
     "metadata": {},
     "output_type": "execute_result"
    }
   ],
   "execution_count": 3
  },
  {
   "metadata": {},
   "cell_type": "markdown",
   "source": "The roles' data types can be assigned automatically as shown below. Also, the fields, which were not marked, receive Feature role by default.",
   "id": "534aa48fa0686e28"
  },
  {
   "cell_type": "code",
   "id": "a78151eca524b974",
   "metadata": {
    "collapsed": false,
    "ExecuteTime": {
     "end_time": "2024-08-16T17:53:22.982489Z",
     "start_time": "2024-08-16T17:53:22.937719Z"
    }
   },
   "source": "data.roles",
   "outputs": [
    {
     "data": {
      "text/plain": [
       "{'user_id': Info(<class 'int'>),\n",
       " 'treat': Treatment(<class 'int'>),\n",
       " 'pre_spends': Target(<class 'float'>),\n",
       " 'post_spends': Target(<class 'float'>),\n",
       " 'gender': Target(<class 'str'>),\n",
       " 'signup_month': Default(<class 'int'>),\n",
       " 'age': Default(<class 'float'>),\n",
       " 'industry': Default(<class 'str'>)}"
      ]
     },
     "execution_count": 4,
     "metadata": {},
     "output_type": "execute_result"
    }
   ],
   "execution_count": 4
  },
  {
   "cell_type": "markdown",
   "id": "b019412e",
   "metadata": {},
   "source": [
    "## AB test\n",
    "Then we select one of the pre-assembled pipelines, in our case `ABTest`. Also, a custom pipline can be created based on your specific needs and requirements with custom executors.\n",
    "After that we wrap our prepared `dataset` into `ExperimentData` to be able to run experiments on it and then execute the test with this data passed as the argument."
   ]
  },
  {
   "cell_type": "code",
   "id": "28f08947",
   "metadata": {
    "ExecuteTime": {
     "end_time": "2024-08-16T17:53:24.127968Z",
     "start_time": "2024-08-16T17:53:22.989423Z"
    }
   },
   "source": [
    "test = ABTest()\n",
    "result = test.execute(data)"
   ],
   "outputs": [
    {
     "ename": "KeyError",
     "evalue": "'pre_spends'",
     "output_type": "error",
     "traceback": [
      "\u001B[0;31m---------------------------------------------------------------------------\u001B[0m",
      "\u001B[0;31mKeyError\u001B[0m                                  Traceback (most recent call last)",
      "File \u001B[0;32m~/.local/lib/python3.10/site-packages/pandas/core/indexes/base.py:3791\u001B[0m, in \u001B[0;36mIndex.get_loc\u001B[0;34m(self, key)\u001B[0m\n\u001B[1;32m   3790\u001B[0m \u001B[38;5;28;01mtry\u001B[39;00m:\n\u001B[0;32m-> 3791\u001B[0m     \u001B[38;5;28;01mreturn\u001B[39;00m \u001B[38;5;28;43mself\u001B[39;49m\u001B[38;5;241;43m.\u001B[39;49m\u001B[43m_engine\u001B[49m\u001B[38;5;241;43m.\u001B[39;49m\u001B[43mget_loc\u001B[49m\u001B[43m(\u001B[49m\u001B[43mcasted_key\u001B[49m\u001B[43m)\u001B[49m\n\u001B[1;32m   3792\u001B[0m \u001B[38;5;28;01mexcept\u001B[39;00m \u001B[38;5;167;01mKeyError\u001B[39;00m \u001B[38;5;28;01mas\u001B[39;00m err:\n",
      "File \u001B[0;32mindex.pyx:152\u001B[0m, in \u001B[0;36mpandas._libs.index.IndexEngine.get_loc\u001B[0;34m()\u001B[0m\n",
      "File \u001B[0;32mindex.pyx:181\u001B[0m, in \u001B[0;36mpandas._libs.index.IndexEngine.get_loc\u001B[0;34m()\u001B[0m\n",
      "File \u001B[0;32mpandas/_libs/hashtable_class_helper.pxi:7080\u001B[0m, in \u001B[0;36mpandas._libs.hashtable.PyObjectHashTable.get_item\u001B[0;34m()\u001B[0m\n",
      "File \u001B[0;32mpandas/_libs/hashtable_class_helper.pxi:7088\u001B[0m, in \u001B[0;36mpandas._libs.hashtable.PyObjectHashTable.get_item\u001B[0;34m()\u001B[0m\n",
      "\u001B[0;31mKeyError\u001B[0m: 'pre_spends'",
      "\nThe above exception was the direct cause of the following exception:\n",
      "\u001B[0;31mKeyError\u001B[0m                                  Traceback (most recent call last)",
      "Cell \u001B[0;32mIn[5], line 2\u001B[0m\n\u001B[1;32m      1\u001B[0m test \u001B[38;5;241m=\u001B[39m ABTest()\n\u001B[0;32m----> 2\u001B[0m result \u001B[38;5;241m=\u001B[39m \u001B[43mtest\u001B[49m\u001B[38;5;241;43m.\u001B[39;49m\u001B[43mexecute\u001B[49m\u001B[43m(\u001B[49m\u001B[43mdata\u001B[49m\u001B[43m)\u001B[49m\n",
      "File \u001B[0;32m~/job/HypEx/hypex/ui/base.py:62\u001B[0m, in \u001B[0;36mExperimentShell.execute\u001B[0;34m(self, data)\u001B[0m\n\u001B[1;32m     60\u001B[0m \u001B[38;5;28;01mif\u001B[39;00m \u001B[38;5;28misinstance\u001B[39m(data, Dataset):\n\u001B[1;32m     61\u001B[0m     data \u001B[38;5;241m=\u001B[39m ExperimentData(data)\n\u001B[0;32m---> 62\u001B[0m result_experiment_data \u001B[38;5;241m=\u001B[39m \u001B[38;5;28;43mself\u001B[39;49m\u001B[38;5;241;43m.\u001B[39;49m\u001B[43m_experiment\u001B[49m\u001B[38;5;241;43m.\u001B[39;49m\u001B[43mexecute\u001B[49m\u001B[43m(\u001B[49m\u001B[43mdata\u001B[49m\u001B[43m)\u001B[49m\n\u001B[1;32m     63\u001B[0m \u001B[38;5;28mself\u001B[39m\u001B[38;5;241m.\u001B[39m_out\u001B[38;5;241m.\u001B[39mextract(result_experiment_data)\n\u001B[1;32m     64\u001B[0m \u001B[38;5;28;01mreturn\u001B[39;00m \u001B[38;5;28mself\u001B[39m\u001B[38;5;241m.\u001B[39m_out\n",
      "File \u001B[0;32m~/job/HypEx/hypex/experiments/base.py:69\u001B[0m, in \u001B[0;36mExperiment.execute\u001B[0;34m(self, data)\u001B[0m\n\u001B[1;32m     67\u001B[0m \u001B[38;5;28;01mfor\u001B[39;00m executor \u001B[38;5;129;01min\u001B[39;00m \u001B[38;5;28mself\u001B[39m\u001B[38;5;241m.\u001B[39mexecutors:\n\u001B[1;32m     68\u001B[0m     executor\u001B[38;5;241m.\u001B[39mkey \u001B[38;5;241m=\u001B[39m \u001B[38;5;28mself\u001B[39m\u001B[38;5;241m.\u001B[39mkey\n\u001B[0;32m---> 69\u001B[0m     experiment_data \u001B[38;5;241m=\u001B[39m \u001B[43mexecutor\u001B[49m\u001B[38;5;241;43m.\u001B[39;49m\u001B[43mexecute\u001B[49m\u001B[43m(\u001B[49m\u001B[43mexperiment_data\u001B[49m\u001B[43m)\u001B[49m\n\u001B[1;32m     70\u001B[0m \u001B[38;5;28;01mreturn\u001B[39;00m experiment_data\n",
      "File \u001B[0;32m~/job/HypEx/hypex/experiments/base.py:87\u001B[0m, in \u001B[0;36mOnRoleExperiment.execute\u001B[0;34m(self, data)\u001B[0m\n\u001B[1;32m     85\u001B[0m \u001B[38;5;28;01mfor\u001B[39;00m field \u001B[38;5;129;01min\u001B[39;00m data\u001B[38;5;241m.\u001B[39mds\u001B[38;5;241m.\u001B[39msearch_columns(\u001B[38;5;28mself\u001B[39m\u001B[38;5;241m.\u001B[39mrole):\n\u001B[1;32m     86\u001B[0m     data\u001B[38;5;241m.\u001B[39mds\u001B[38;5;241m.\u001B[39mtmp_roles \u001B[38;5;241m=\u001B[39m {field: TempTargetRole()}\n\u001B[0;32m---> 87\u001B[0m     data \u001B[38;5;241m=\u001B[39m \u001B[38;5;28;43msuper\u001B[39;49m\u001B[43m(\u001B[49m\u001B[43m)\u001B[49m\u001B[38;5;241;43m.\u001B[39;49m\u001B[43mexecute\u001B[49m\u001B[43m(\u001B[49m\u001B[43mdata\u001B[49m\u001B[43m)\u001B[49m\n\u001B[1;32m     88\u001B[0m     data\u001B[38;5;241m.\u001B[39mds\u001B[38;5;241m.\u001B[39mtmp_roles \u001B[38;5;241m=\u001B[39m {}\n\u001B[1;32m     89\u001B[0m \u001B[38;5;28;01mreturn\u001B[39;00m data\n",
      "File \u001B[0;32m~/job/HypEx/hypex/experiments/base.py:69\u001B[0m, in \u001B[0;36mExperiment.execute\u001B[0;34m(self, data)\u001B[0m\n\u001B[1;32m     67\u001B[0m \u001B[38;5;28;01mfor\u001B[39;00m executor \u001B[38;5;129;01min\u001B[39;00m \u001B[38;5;28mself\u001B[39m\u001B[38;5;241m.\u001B[39mexecutors:\n\u001B[1;32m     68\u001B[0m     executor\u001B[38;5;241m.\u001B[39mkey \u001B[38;5;241m=\u001B[39m \u001B[38;5;28mself\u001B[39m\u001B[38;5;241m.\u001B[39mkey\n\u001B[0;32m---> 69\u001B[0m     experiment_data \u001B[38;5;241m=\u001B[39m \u001B[43mexecutor\u001B[49m\u001B[38;5;241;43m.\u001B[39;49m\u001B[43mexecute\u001B[49m\u001B[43m(\u001B[49m\u001B[43mexperiment_data\u001B[49m\u001B[43m)\u001B[49m\n\u001B[1;32m     70\u001B[0m \u001B[38;5;28;01mreturn\u001B[39;00m experiment_data\n",
      "File \u001B[0;32m~/job/HypEx/hypex/comparators/abstract.py:441\u001B[0m, in \u001B[0;36mComparator.execute\u001B[0;34m(self, data)\u001B[0m\n\u001B[1;32m    434\u001B[0m     grouping_data \u001B[38;5;241m=\u001B[39m \u001B[38;5;28mself\u001B[39m\u001B[38;5;241m.\u001B[39m_grouping_data_split(\n\u001B[1;32m    435\u001B[0m         grouping_data\u001B[38;5;241m=\u001B[39mdata\u001B[38;5;241m.\u001B[39mgroups[group_field[\u001B[38;5;241m0\u001B[39m]],\n\u001B[1;32m    436\u001B[0m         compare_by\u001B[38;5;241m=\u001B[39m\u001B[38;5;28mself\u001B[39m\u001B[38;5;241m.\u001B[39mcompare_by,\n\u001B[1;32m    437\u001B[0m         target_fields\u001B[38;5;241m=\u001B[39mtarget_fields,\n\u001B[1;32m    438\u001B[0m         baseline_field\u001B[38;5;241m=\u001B[39mbaseline_field,\n\u001B[1;32m    439\u001B[0m     )\n\u001B[1;32m    440\u001B[0m \u001B[38;5;28;01melse\u001B[39;00m:\n\u001B[0;32m--> 441\u001B[0m     grouping_mask \u001B[38;5;241m=\u001B[39m \u001B[38;5;28;43mself\u001B[39;49m\u001B[38;5;241;43m.\u001B[39;49m\u001B[43m_source_select\u001B[49m\u001B[43m(\u001B[49m\n\u001B[1;32m    442\u001B[0m \u001B[43m        \u001B[49m\u001B[43mgroup_field\u001B[49m\u001B[43m,\u001B[49m\u001B[43m \u001B[49m\u001B[38;5;124;43m\"\u001B[39;49m\u001B[38;5;124;43mGrouping\u001B[39;49m\u001B[38;5;124;43m\"\u001B[39;49m\u001B[43m,\u001B[49m\u001B[43m \u001B[49m\u001B[43mdata\u001B[49m\u001B[38;5;241;43m.\u001B[39;49m\u001B[43mds\u001B[49m\u001B[43m,\u001B[49m\u001B[43m \u001B[49m\u001B[43mdata\u001B[49m\u001B[38;5;241;43m.\u001B[39;49m\u001B[43madditional_fields\u001B[49m\n\u001B[1;32m    443\u001B[0m \u001B[43m    \u001B[49m\u001B[43m)\u001B[49m\u001B[43m[\u001B[49m\u001B[43mgroup_field\u001B[49m\u001B[43m]\u001B[49m\n\u001B[1;32m    444\u001B[0m     data\u001B[38;5;241m.\u001B[39mgroups[group_field] \u001B[38;5;241m=\u001B[39m {\n\u001B[1;32m    445\u001B[0m         \u001B[38;5;124mf\u001B[39m\u001B[38;5;124m\"\u001B[39m\u001B[38;5;132;01m{\u001B[39;00mgroup\u001B[38;5;132;01m}\u001B[39;00m\u001B[38;5;124m\"\u001B[39m: ds\n\u001B[1;32m    446\u001B[0m         \u001B[38;5;28;01mfor\u001B[39;00m group, ds \u001B[38;5;129;01min\u001B[39;00m data\u001B[38;5;241m.\u001B[39mds\u001B[38;5;241m.\u001B[39mgroup_by_external_field(\n\u001B[1;32m    447\u001B[0m             grouping_mask \u001B[38;5;129;01mor\u001B[39;00m group_field\n\u001B[1;32m    448\u001B[0m         )\n\u001B[1;32m    449\u001B[0m     }\n\u001B[1;32m    450\u001B[0m     grouping_data \u001B[38;5;241m=\u001B[39m \u001B[38;5;28mself\u001B[39m\u001B[38;5;241m.\u001B[39m_split_data_to_buckets(\n\u001B[1;32m    451\u001B[0m         data\u001B[38;5;241m=\u001B[39mdata\u001B[38;5;241m.\u001B[39mds,\n\u001B[1;32m    452\u001B[0m         compare_by\u001B[38;5;241m=\u001B[39m\u001B[38;5;28mself\u001B[39m\u001B[38;5;241m.\u001B[39mcompare_by,\n\u001B[0;32m   (...)\u001B[0m\n\u001B[1;32m    456\u001B[0m         additional_fields\u001B[38;5;241m=\u001B[39mdata\u001B[38;5;241m.\u001B[39madditional_fields,\n\u001B[1;32m    457\u001B[0m     )\n",
      "File \u001B[0;32m~/job/HypEx/hypex/dataset/dataset.py:99\u001B[0m, in \u001B[0;36mDataset.__getitem__\u001B[0;34m(self, item)\u001B[0m\n\u001B[1;32m     90\u001B[0m roles: Dict \u001B[38;5;241m=\u001B[39m {\n\u001B[1;32m     91\u001B[0m     column: (\n\u001B[1;32m     92\u001B[0m         \u001B[38;5;28mself\u001B[39m\u001B[38;5;241m.\u001B[39mroles[column]\n\u001B[0;32m   (...)\u001B[0m\n\u001B[1;32m     96\u001B[0m     \u001B[38;5;28;01mfor\u001B[39;00m column \u001B[38;5;129;01min\u001B[39;00m items\n\u001B[1;32m     97\u001B[0m }\n\u001B[1;32m     98\u001B[0m result \u001B[38;5;241m=\u001B[39m Dataset(data\u001B[38;5;241m=\u001B[39m\u001B[38;5;28mself\u001B[39m\u001B[38;5;241m.\u001B[39m_backend\u001B[38;5;241m.\u001B[39m\u001B[38;5;21m__getitem__\u001B[39m(item), roles\u001B[38;5;241m=\u001B[39mroles)\n\u001B[0;32m---> 99\u001B[0m \u001B[43mresult\u001B[49m\u001B[38;5;241;43m.\u001B[39;49m\u001B[43mtmp_roles\u001B[49m \u001B[38;5;241m=\u001B[39m \u001B[38;5;28mself\u001B[39m\u001B[38;5;241m.\u001B[39mtmp_roles\n\u001B[1;32m    100\u001B[0m \u001B[38;5;28;01mreturn\u001B[39;00m result\n",
      "File \u001B[0;32m~/job/HypEx/hypex/dataset/abstract.py:185\u001B[0m, in \u001B[0;36mDatasetBase.tmp_roles\u001B[0;34m(self, value)\u001B[0m\n\u001B[1;32m    182\u001B[0m \u001B[38;5;129m@tmp_roles\u001B[39m\u001B[38;5;241m.\u001B[39msetter\n\u001B[1;32m    183\u001B[0m \u001B[38;5;28;01mdef\u001B[39;00m \u001B[38;5;21mtmp_roles\u001B[39m(\u001B[38;5;28mself\u001B[39m, value):\n\u001B[1;32m    184\u001B[0m     \u001B[38;5;28mself\u001B[39m\u001B[38;5;241m.\u001B[39m_set_roles(new_roles_map\u001B[38;5;241m=\u001B[39mvalue, temp_role\u001B[38;5;241m=\u001B[39m\u001B[38;5;28;01mTrue\u001B[39;00m)\n\u001B[0;32m--> 185\u001B[0m     \u001B[38;5;28;43mself\u001B[39;49m\u001B[38;5;241;43m.\u001B[39;49m\u001B[43m_set_empty_types\u001B[49m\u001B[43m(\u001B[49m\u001B[38;5;28;43mself\u001B[39;49m\u001B[38;5;241;43m.\u001B[39;49m\u001B[43m_tmp_roles\u001B[49m\u001B[43m)\u001B[49m\n",
      "File \u001B[0;32m~/job/HypEx/hypex/dataset/abstract.py:62\u001B[0m, in \u001B[0;36mDatasetBase._set_empty_types\u001B[0;34m(self, roles)\u001B[0m\n\u001B[1;32m     59\u001B[0m     d_type \u001B[38;5;241m=\u001B[39m \u001B[38;5;28mself\u001B[39m\u001B[38;5;241m.\u001B[39mbackend\u001B[38;5;241m.\u001B[39mget_column_type(column)\n\u001B[1;32m     61\u001B[0m     role\u001B[38;5;241m.\u001B[39mdata_type \u001B[38;5;241m=\u001B[39m [v \u001B[38;5;28;01mfor\u001B[39;00m k, v \u001B[38;5;129;01min\u001B[39;00m types_map\u001B[38;5;241m.\u001B[39mitems() \u001B[38;5;28;01mif\u001B[39;00m k \u001B[38;5;129;01min\u001B[39;00m d_type][\u001B[38;5;241m0\u001B[39m]\n\u001B[0;32m---> 62\u001B[0m \u001B[38;5;28mself\u001B[39m\u001B[38;5;241m.\u001B[39m_backend \u001B[38;5;241m=\u001B[39m \u001B[38;5;28;43mself\u001B[39;49m\u001B[38;5;241;43m.\u001B[39;49m\u001B[43mbackend\u001B[49m\u001B[38;5;241;43m.\u001B[39;49m\u001B[43mupdate_column_type\u001B[49m\u001B[43m(\u001B[49m\n\u001B[1;32m     63\u001B[0m \u001B[43m    \u001B[49m\u001B[43mcolumn\u001B[49m\u001B[43m,\u001B[49m\u001B[43m \u001B[49m\u001B[43mreversed_map\u001B[49m\u001B[43m[\u001B[49m\u001B[43mrole\u001B[49m\u001B[38;5;241;43m.\u001B[39;49m\u001B[43mdata_type\u001B[49m\u001B[43m]\u001B[49m\n\u001B[1;32m     64\u001B[0m \u001B[43m\u001B[49m\u001B[43m)\u001B[49m\n",
      "File \u001B[0;32m~/job/HypEx/hypex/dataset/backends/pandas_backend.py:195\u001B[0m, in \u001B[0;36mPandasNavigation.update_column_type\u001B[0;34m(self, column_name, type_name)\u001B[0m\n\u001B[1;32m    194\u001B[0m \u001B[38;5;28;01mdef\u001B[39;00m \u001B[38;5;21mupdate_column_type\u001B[39m(\u001B[38;5;28mself\u001B[39m, column_name: \u001B[38;5;28mstr\u001B[39m, type_name: \u001B[38;5;28mstr\u001B[39m):\n\u001B[0;32m--> 195\u001B[0m     \u001B[38;5;28;01mif\u001B[39;00m \u001B[38;5;28;43mself\u001B[39;49m\u001B[38;5;241;43m.\u001B[39;49m\u001B[43mdata\u001B[49m\u001B[43m[\u001B[49m\u001B[43mcolumn_name\u001B[49m\u001B[43m]\u001B[49m\u001B[38;5;241m.\u001B[39misna()\u001B[38;5;241m.\u001B[39msum() \u001B[38;5;241m==\u001B[39m \u001B[38;5;241m0\u001B[39m:\n\u001B[1;32m    196\u001B[0m         \u001B[38;5;28mself\u001B[39m\u001B[38;5;241m.\u001B[39mdata \u001B[38;5;241m=\u001B[39m \u001B[38;5;28mself\u001B[39m\u001B[38;5;241m.\u001B[39mdata\u001B[38;5;241m.\u001B[39mastype({column_name: type_name})\n\u001B[1;32m    197\u001B[0m     \u001B[38;5;28;01mreturn\u001B[39;00m \u001B[38;5;28mself\u001B[39m\n",
      "File \u001B[0;32m~/.local/lib/python3.10/site-packages/pandas/core/frame.py:3893\u001B[0m, in \u001B[0;36mDataFrame.__getitem__\u001B[0;34m(self, key)\u001B[0m\n\u001B[1;32m   3891\u001B[0m \u001B[38;5;28;01mif\u001B[39;00m \u001B[38;5;28mself\u001B[39m\u001B[38;5;241m.\u001B[39mcolumns\u001B[38;5;241m.\u001B[39mnlevels \u001B[38;5;241m>\u001B[39m \u001B[38;5;241m1\u001B[39m:\n\u001B[1;32m   3892\u001B[0m     \u001B[38;5;28;01mreturn\u001B[39;00m \u001B[38;5;28mself\u001B[39m\u001B[38;5;241m.\u001B[39m_getitem_multilevel(key)\n\u001B[0;32m-> 3893\u001B[0m indexer \u001B[38;5;241m=\u001B[39m \u001B[38;5;28;43mself\u001B[39;49m\u001B[38;5;241;43m.\u001B[39;49m\u001B[43mcolumns\u001B[49m\u001B[38;5;241;43m.\u001B[39;49m\u001B[43mget_loc\u001B[49m\u001B[43m(\u001B[49m\u001B[43mkey\u001B[49m\u001B[43m)\u001B[49m\n\u001B[1;32m   3894\u001B[0m \u001B[38;5;28;01mif\u001B[39;00m is_integer(indexer):\n\u001B[1;32m   3895\u001B[0m     indexer \u001B[38;5;241m=\u001B[39m [indexer]\n",
      "File \u001B[0;32m~/.local/lib/python3.10/site-packages/pandas/core/indexes/base.py:3798\u001B[0m, in \u001B[0;36mIndex.get_loc\u001B[0;34m(self, key)\u001B[0m\n\u001B[1;32m   3793\u001B[0m     \u001B[38;5;28;01mif\u001B[39;00m \u001B[38;5;28misinstance\u001B[39m(casted_key, \u001B[38;5;28mslice\u001B[39m) \u001B[38;5;129;01mor\u001B[39;00m (\n\u001B[1;32m   3794\u001B[0m         \u001B[38;5;28misinstance\u001B[39m(casted_key, abc\u001B[38;5;241m.\u001B[39mIterable)\n\u001B[1;32m   3795\u001B[0m         \u001B[38;5;129;01mand\u001B[39;00m \u001B[38;5;28many\u001B[39m(\u001B[38;5;28misinstance\u001B[39m(x, \u001B[38;5;28mslice\u001B[39m) \u001B[38;5;28;01mfor\u001B[39;00m x \u001B[38;5;129;01min\u001B[39;00m casted_key)\n\u001B[1;32m   3796\u001B[0m     ):\n\u001B[1;32m   3797\u001B[0m         \u001B[38;5;28;01mraise\u001B[39;00m InvalidIndexError(key)\n\u001B[0;32m-> 3798\u001B[0m     \u001B[38;5;28;01mraise\u001B[39;00m \u001B[38;5;167;01mKeyError\u001B[39;00m(key) \u001B[38;5;28;01mfrom\u001B[39;00m \u001B[38;5;21;01merr\u001B[39;00m\n\u001B[1;32m   3799\u001B[0m \u001B[38;5;28;01mexcept\u001B[39;00m \u001B[38;5;167;01mTypeError\u001B[39;00m:\n\u001B[1;32m   3800\u001B[0m     \u001B[38;5;66;03m# If we have a listlike key, _check_indexing_error will raise\u001B[39;00m\n\u001B[1;32m   3801\u001B[0m     \u001B[38;5;66;03m#  InvalidIndexError. Otherwise we fall through and re-raise\u001B[39;00m\n\u001B[1;32m   3802\u001B[0m     \u001B[38;5;66;03m#  the TypeError.\u001B[39;00m\n\u001B[1;32m   3803\u001B[0m     \u001B[38;5;28mself\u001B[39m\u001B[38;5;241m.\u001B[39m_check_indexing_error(key)\n",
      "\u001B[0;31mKeyError\u001B[0m: 'pre_spends'"
     ]
    }
   ],
   "execution_count": 5
  },
  {
   "metadata": {},
   "cell_type": "markdown",
   "source": [
    "### Experiment results\n",
    "To show the report with summary of the test we run the `resume` method of the output of the experiment.\n",
    "\n",
    "It displays the results of the test in the form of a table with the following columns:\n",
    "- `feature`: name of the target feature, change of which we want to analyze.\n",
    "- `group`: name of the test group we compare with the control group.\n",
    "- `TTest pass`: result of the TTest, if it is significant or not.\n",
    "- `TTest p-value`: p-value of the TTest shows the probability of obtaining the result when the null hypothesis is true. The lower the value the more significant the result is.\n",
    "- `control mean`: the mean of the feature value across the control group.\n",
    "- `test mean`: the mean of the feature value across the test group.\n",
    "- `difference`: the difference between the mean of the test group and the mean of the control group.\n",
    "- `difference %`: the normalized difference between the mean of the test group and the mean of the control group."
   ],
   "id": "42f1e26f1725cd11"
  },
  {
   "cell_type": "code",
   "id": "89f9b9fe",
   "metadata": {},
   "source": [
    "result.resume"
   ],
   "outputs": [],
   "execution_count": null
  },
  {
   "metadata": {},
   "cell_type": "markdown",
   "source": [
    "The method sizes shows the statistics on the groups of the data.\n",
    "\n",
    "The columns are:\n",
    "- `control size`: the size of the control group.\n",
    "- `test size`: the size of the test group.\n",
    "- `control size %`: the share of the control group in the whole dataset.\n",
    "- `test size %`: the share of the test group in the whole dataset.\n",
    "- `group`: name of the test group."
   ],
   "id": "2e226d84456a869b"
  },
  {
   "cell_type": "code",
   "id": "4227dbff",
   "metadata": {},
   "source": [
    "result.sizes "
   ],
   "outputs": [],
   "execution_count": null
  },
  {
   "cell_type": "code",
   "id": "b735d944",
   "metadata": {},
   "source": [
    "result.multitest"
   ],
   "outputs": [],
   "execution_count": null
  },
  {
   "cell_type": "markdown",
   "id": "ff2808fb",
   "metadata": {},
   "source": [
    "## Additional tests in AB Test \n",
    "\n",
    "It is possible to add u-test and chi2-test in pipline. "
   ]
  },
  {
   "cell_type": "code",
   "id": "a40f5762f0b37a0a",
   "metadata": {
    "collapsed": false
   },
   "source": [
    "test = ABTest(additional_tests=['t-test', 'u-test', 'chi2-test'])\n",
    "result = test.execute(data)"
   ],
   "outputs": [],
   "execution_count": null
  },
  {
   "metadata": {},
   "cell_type": "markdown",
   "source": [
    "The additional columns are:\n",
    "- `UTest pass`: result of the UTest, if it is significant or not.\n",
    "- `UTest p-value`: p-value of the UTest shows the probability of obtaining the result when the null hypothesis is true. The lower the value the more significant the result is.\n",
    "- `Chi2Test pass`: result of the Chi2Test, if it is significant or not.\n",
    "- `Chi2Test p-value`: p-value of the Chi2Test shows the probability of obtaining the result when the null hypothesis is true. The lower the value the more significant the result is."
   ],
   "id": "6e7bc5567108e810"
  },
  {
   "cell_type": "code",
   "id": "89a8898c35681e97",
   "metadata": {
    "collapsed": false
   },
   "source": [
    "result.resume"
   ],
   "outputs": [],
   "execution_count": null
  },
  {
   "cell_type": "code",
   "id": "1da993761313d8d8",
   "metadata": {
    "collapsed": false
   },
   "source": [
    "result.multitest"
   ],
   "outputs": [],
   "execution_count": null
  },
  {
   "cell_type": "code",
   "id": "c11137e6c10eb0dc",
   "metadata": {
    "collapsed": false
   },
   "source": [
    "result.sizes"
   ],
   "outputs": [],
   "execution_count": null
  },
  {
   "cell_type": "markdown",
   "id": "ec0a7734",
   "metadata": {},
   "source": [
    "## ABn Test \n",
    "\n",
    "Finally, we may run multiple ab tests with different methods."
   ]
  },
  {
   "cell_type": "code",
   "id": "5921c9e2",
   "metadata": {},
   "source": [
    "test = ABTest(multitest_method=\"bonferroni\")\n",
    "result = test.execute(data)"
   ],
   "outputs": [],
   "execution_count": null
  },
  {
   "cell_type": "code",
   "id": "952d21c6",
   "metadata": {},
   "source": [
    "result.resume"
   ],
   "outputs": [],
   "execution_count": null
  },
  {
   "cell_type": "code",
   "id": "ad59dec9",
   "metadata": {},
   "source": [
    "result.sizes"
   ],
   "outputs": [],
   "execution_count": null
  },
  {
   "cell_type": "code",
   "id": "7849230a",
   "metadata": {},
   "source": [
    "result.multitest"
   ],
   "outputs": [],
   "execution_count": null
  }
 ],
 "metadata": {
  "kernelspec": {
   "display_name": "Python 3",
   "language": "python",
   "name": "python3"
  },
  "language_info": {
   "codemirror_mode": {
    "name": "ipython",
    "version": 3
   },
   "file_extension": ".py",
   "mimetype": "text/x-python",
   "name": "python",
   "nbconvert_exporter": "python",
   "pygments_lexer": "ipython3",
   "version": "3.10.13"
  }
 },
 "nbformat": 4,
 "nbformat_minor": 5
}
