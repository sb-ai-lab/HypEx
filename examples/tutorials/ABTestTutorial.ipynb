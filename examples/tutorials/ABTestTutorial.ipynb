{
 "cells": [
  {
   "cell_type": "markdown",
   "id": "50ff2e6b",
   "metadata": {},
   "source": [
    "# AB test \n",
    "\n",
    "A/B testing is a research method that allows you to find out people's reaction to any changes. The study shows which of the two versions of the product or offer is better and gives greater effect."
   ]
  },
  {
   "cell_type": "code",
   "id": "initial_id",
   "metadata": {
    "collapsed": true,
    "ExecuteTime": {
     "end_time": "2024-08-12T12:48:23.511539800Z",
     "start_time": "2024-08-12T12:48:21.671473700Z"
    }
   },
   "source": [
    "import random\n",
    "\n",
    "from hypex.dataset import Dataset, InfoRole, TreatmentRole, TargetRole\n",
    "from hypex import ABTest"
   ],
   "outputs": [
    {
     "name": "stderr",
     "output_type": "stream",
     "text": [
      "C:\\Users\\User\\AppData\\Local\\Programs\\Python\\Python310\\lib\\site-packages\\tqdm\\auto.py:21: TqdmWarning: IProgress not found. Please update jupyter and ipywidgets. See https://ipywidgets.readthedocs.io/en/stable/user_install.html\n",
      "  from .autonotebook import tqdm as notebook_tqdm\n"
     ]
    }
   ],
   "execution_count": 1
  },
  {
   "cell_type": "markdown",
   "id": "494ea582",
   "metadata": {},
   "source": [
    "## Creation of a new test dataset with synthetic data.\n",
    "It is important to mark the data fields by assigning the appropriate roles:\n",
    "\n",
    "* FeatureRole: a role for columns that contain features or predictor variables. Our split will be based on them. Applied by default if the role is not specified for the column.\n",
    "* TreatmentRole: a role for columns that show the treatment or intervention.\n",
    "* TargetRole: a role for columns that show the target or outcome variable.\n",
    "* InfoRole: a role for columns that contain information about the data, such as user IDs."
   ]
  },
  {
   "cell_type": "code",
   "id": "904175ab484d1690",
   "metadata": {
    "collapsed": false,
    "ExecuteTime": {
     "end_time": "2024-08-12T12:48:23.591171300Z",
     "start_time": "2024-08-12T12:48:23.514854600Z"
    }
   },
   "source": [
    "data = Dataset(\n",
    "    roles={\n",
    "        \"user_id\": InfoRole(int),\n",
    "        \"treat\": TreatmentRole(),\n",
    "        \"pre_spends\": TargetRole(),\n",
    "        \"post_spends\": TargetRole(), \n",
    "        \"gender\": TargetRole()\n",
    "    }, data=\"data.csv\",\n",
    ")\n",
    "data"
   ],
   "outputs": [
    {
     "data": {
      "text/plain": "      user_id  signup_month  treat  pre_spends  post_spends   age gender  \\\n0           0             0      0       488.0   414.444444   NaN      M   \n1           1             8      1       512.5   462.222222  26.0    NaN   \n2           2             7      1       483.0   479.444444  25.0      M   \n3           3             0      0       501.5   424.333333  39.0      M   \n4           4             1      1       543.0   514.555556  18.0      F   \n...       ...           ...    ...         ...          ...   ...    ...   \n9995     9995            10      1       538.5   450.444444  42.0      M   \n9996     9996             0      0       500.5   430.888889  26.0      F   \n9997     9997             3      1       473.0   534.111111  22.0      F   \n9998     9998             2      1       495.0   523.222222  67.0      F   \n9999     9999             7      1       508.0   475.888889  38.0      F   \n\n        industry  \n0     E-commerce  \n1     E-commerce  \n2      Logistics  \n3     E-commerce  \n4     E-commerce  \n...          ...  \n9995   Logistics  \n9996   Logistics  \n9997  E-commerce  \n9998  E-commerce  \n9999  E-commerce  \n\n[10000 rows x 8 columns]"
     },
     "execution_count": 2,
     "metadata": {},
     "output_type": "execute_result"
    }
   ],
   "execution_count": 2
  },
  {
   "metadata": {
    "ExecuteTime": {
     "end_time": "2024-08-12T12:48:23.651181400Z",
     "start_time": "2024-08-12T12:48:23.591171300Z"
    }
   },
   "cell_type": "code",
   "source": [
    "data[\"treat\"] = [random.choice([0, 1, 2]) for _ in range(len(data))]\n",
    "data"
   ],
   "id": "ec0659f2c8de40d9",
   "outputs": [
    {
     "data": {
      "text/plain": "      user_id  signup_month  treat  pre_spends  post_spends   age gender  \\\n0           0             0      1       488.0   414.444444   NaN      M   \n1           1             8      1       512.5   462.222222  26.0    NaN   \n2           2             7      1       483.0   479.444444  25.0      M   \n3           3             0      1       501.5   424.333333  39.0      M   \n4           4             1      2       543.0   514.555556  18.0      F   \n...       ...           ...    ...         ...          ...   ...    ...   \n9995     9995            10      0       538.5   450.444444  42.0      M   \n9996     9996             0      1       500.5   430.888889  26.0      F   \n9997     9997             3      1       473.0   534.111111  22.0      F   \n9998     9998             2      2       495.0   523.222222  67.0      F   \n9999     9999             7      1       508.0   475.888889  38.0      F   \n\n        industry  \n0     E-commerce  \n1     E-commerce  \n2      Logistics  \n3     E-commerce  \n4     E-commerce  \n...          ...  \n9995   Logistics  \n9996   Logistics  \n9997  E-commerce  \n9998  E-commerce  \n9999  E-commerce  \n\n[10000 rows x 8 columns]"
     },
     "execution_count": 3,
     "metadata": {},
     "output_type": "execute_result"
    }
   ],
   "execution_count": 3
  },
  {
   "cell_type": "code",
   "id": "a78151eca524b974",
   "metadata": {
    "collapsed": false,
    "ExecuteTime": {
     "end_time": "2024-08-12T12:48:23.733026400Z",
     "start_time": "2024-08-12T12:48:23.635807600Z"
    }
   },
   "source": [
    "data.roles"
   ],
   "outputs": [
    {
     "data": {
      "text/plain": "{'user_id': Info(<class 'int'>),\n 'treat': Treatment(<class 'int'>),\n 'pre_spends': Target(<class 'float'>),\n 'post_spends': Target(<class 'float'>),\n 'gender': Target(<class 'str'>),\n 'signup_month': Feature(<class 'int'>),\n 'age': Feature(<class 'float'>),\n 'industry': Feature(<class 'str'>)}"
     },
     "execution_count": 4,
     "metadata": {},
     "output_type": "execute_result"
    }
   ],
   "execution_count": 4
  },
  {
   "cell_type": "markdown",
   "id": "b019412e",
   "metadata": {},
   "source": [
    "## Simple AB Test \n",
    "\n",
    "Simple pipline contains group sizes, group differences and TTest estimation. "
   ]
  },
  {
   "cell_type": "code",
   "id": "28f08947",
   "metadata": {
    "ExecuteTime": {
     "end_time": "2024-08-12T12:48:24.148608600Z",
     "start_time": "2024-08-12T12:48:23.672303800Z"
    }
   },
   "source": [
    "test = ABTest()\n",
    "result = test.execute(data)"
   ],
   "outputs": [],
   "execution_count": 5
  },
  {
   "cell_type": "code",
   "id": "89f9b9fe",
   "metadata": {
    "ExecuteTime": {
     "end_time": "2024-08-12T12:48:24.214767500Z",
     "start_time": "2024-08-12T12:48:24.150627700Z"
    }
   },
   "source": [
    "result.resume"
   ],
   "outputs": [
    {
     "data": {
      "text/plain": "       feature group TTest pass  TTest p-value  control mean   test mean  \\\n0   pre_spends     1     NOT OK       0.747232    487.273311  487.422362   \n1   pre_spends     2     NOT OK       0.142344    452.149326  452.739042   \n2  post_spends     1     NOT OK       0.544572    487.273311  486.597554   \n3  post_spends     2     NOT OK       0.579043    452.149326  451.614402   \n\n   difference  difference %  \n0    0.149051      0.030589  \n1    0.589716      0.130425  \n2   -0.675757     -0.138681  \n3   -0.534924     -0.118307  "
     },
     "execution_count": 6,
     "metadata": {},
     "output_type": "execute_result"
    }
   ],
   "execution_count": 6
  },
  {
   "cell_type": "code",
   "id": "4227dbff",
   "metadata": {
    "ExecuteTime": {
     "end_time": "2024-08-12T12:48:24.254237400Z",
     "start_time": "2024-08-12T12:48:24.181228600Z"
    }
   },
   "source": [
    "result.sizes "
   ],
   "outputs": [
    {
     "data": {
      "text/plain": "   control size  test size  control size %  test size % group\n1          3271       3336              49           50     1\n2          3271       3393              49           50     2"
     },
     "execution_count": 7,
     "metadata": {},
     "output_type": "execute_result"
    }
   ],
   "execution_count": 7
  },
  {
   "cell_type": "code",
   "id": "b735d944",
   "metadata": {
    "ExecuteTime": {
     "end_time": "2024-08-12T12:48:24.257722900Z",
     "start_time": "2024-08-12T12:48:24.215780400Z"
    }
   },
   "source": [
    "result.multitest"
   ],
   "outputs": [
    {
     "data": {
      "text/plain": "\"There was less than three groups or multitest method wasn't provided\""
     },
     "execution_count": 8,
     "metadata": {},
     "output_type": "execute_result"
    }
   ],
   "execution_count": 8
  },
  {
   "cell_type": "markdown",
   "id": "ff2808fb",
   "metadata": {},
   "source": [
    "## Additional tests in AB Test \n",
    "\n",
    "It is possible to add u-test and chi2-test in pipline. "
   ]
  },
  {
   "cell_type": "code",
   "id": "a40f5762f0b37a0a",
   "metadata": {
    "collapsed": false,
    "ExecuteTime": {
     "end_time": "2024-08-12T12:48:24.719552600Z",
     "start_time": "2024-08-12T12:48:24.231164900Z"
    }
   },
   "source": [
    "test = ABTest(additional_tests=['t-test', 'u-test', 'chi2-test'])\n",
    "result = test.execute(data)"
   ],
   "outputs": [],
   "execution_count": 9
  },
  {
   "cell_type": "code",
   "id": "89a8898c35681e97",
   "metadata": {
    "collapsed": false,
    "ExecuteTime": {
     "end_time": "2024-08-12T12:48:24.789394900Z",
     "start_time": "2024-08-12T12:48:24.722557800Z"
    }
   },
   "source": [
    "result.resume"
   ],
   "outputs": [
    {
     "data": {
      "text/plain": "       feature group TTest pass  TTest p-value UTest pass  UTest p-value  \\\n0   pre_spends     1     NOT OK       0.747232     NOT OK       0.724982   \n1   pre_spends     2     NOT OK       0.142344         OK       0.046117   \n2  post_spends     1     NOT OK       0.544572     NOT OK       0.397764   \n3  post_spends     2     NOT OK       0.579043     NOT OK       0.588156   \n\n  Chi2Test pass  Chi2Test p-value  control mean   test mean  difference  \\\n0           NaN               NaN    487.273311  487.422362    0.149051   \n1           NaN               NaN    452.149326  452.739042    0.589716   \n2           NaN               NaN    487.273311  486.597554   -0.675757   \n3           NaN               NaN    452.149326  451.614402   -0.534924   \n\n   difference %  \n0      0.030589  \n1      0.130425  \n2     -0.138681  \n3     -0.118307  "
     },
     "execution_count": 10,
     "metadata": {},
     "output_type": "execute_result"
    }
   ],
   "execution_count": 10
  },
  {
   "cell_type": "code",
   "id": "1da993761313d8d8",
   "metadata": {
    "collapsed": false,
    "ExecuteTime": {
     "end_time": "2024-08-12T12:48:24.791701800Z",
     "start_time": "2024-08-12T12:48:24.762515500Z"
    }
   },
   "source": [
    "result.multitest"
   ],
   "outputs": [
    {
     "data": {
      "text/plain": "\"There was less than three groups or multitest method wasn't provided\""
     },
     "execution_count": 11,
     "metadata": {},
     "output_type": "execute_result"
    }
   ],
   "execution_count": 11
  },
  {
   "cell_type": "code",
   "id": "c11137e6c10eb0dc",
   "metadata": {
    "collapsed": false,
    "ExecuteTime": {
     "end_time": "2024-08-12T12:48:24.868282600Z",
     "start_time": "2024-08-12T12:48:24.785316700Z"
    }
   },
   "source": [
    "result.sizes"
   ],
   "outputs": [
    {
     "data": {
      "text/plain": "   control size  test size  control size %  test size % group\n1          3271       3336              49           50     1\n2          3271       3393              49           50     2"
     },
     "execution_count": 12,
     "metadata": {},
     "output_type": "execute_result"
    }
   ],
   "execution_count": 12
  },
  {
   "cell_type": "markdown",
   "id": "ec0a7734",
   "metadata": {},
   "source": [
    "## ABn Test \n",
    "\n",
    "Finally, we may estimate multiple ab test with different methods."
   ]
  },
  {
   "cell_type": "code",
   "id": "5921c9e2",
   "metadata": {
    "ExecuteTime": {
     "end_time": "2024-08-12T12:48:25.110371700Z",
     "start_time": "2024-08-12T12:48:24.802881500Z"
    }
   },
   "source": [
    "test = ABTest(multitest_method=\"bonferroni\")\n",
    "result = test.execute(data)"
   ],
   "outputs": [],
   "execution_count": 13
  },
  {
   "cell_type": "code",
   "id": "952d21c6",
   "metadata": {
    "ExecuteTime": {
     "end_time": "2024-08-12T12:48:25.179443600Z",
     "start_time": "2024-08-12T12:48:25.116374200Z"
    }
   },
   "source": [
    "result.resume"
   ],
   "outputs": [
    {
     "data": {
      "text/plain": "       feature group TTest pass  TTest p-value  control mean   test mean  \\\n0   pre_spends     1     NOT OK       0.747232    487.273311  487.422362   \n1   pre_spends     2     NOT OK       0.142344    452.149326  452.739042   \n2  post_spends     1     NOT OK       0.544572    487.273311  486.597554   \n3  post_spends     2     NOT OK       0.579043    452.149326  451.614402   \n\n   difference  difference %  \n0    0.149051      0.030589  \n1    0.589716      0.130425  \n2   -0.675757     -0.138681  \n3   -0.534924     -0.118307  "
     },
     "execution_count": 14,
     "metadata": {},
     "output_type": "execute_result"
    }
   ],
   "execution_count": 14
  },
  {
   "cell_type": "code",
   "id": "ad59dec9",
   "metadata": {
    "ExecuteTime": {
     "end_time": "2024-08-12T12:48:25.180480900Z",
     "start_time": "2024-08-12T12:48:25.143529600Z"
    }
   },
   "source": [
    "result.sizes"
   ],
   "outputs": [
    {
     "data": {
      "text/plain": "   control size  test size  control size %  test size % group\n1          3271       3336              49           50     1\n2          3271       3393              49           50     2"
     },
     "execution_count": 15,
     "metadata": {},
     "output_type": "execute_result"
    }
   ],
   "execution_count": 15
  },
  {
   "cell_type": "code",
   "id": "7849230a",
   "metadata": {
    "ExecuteTime": {
     "end_time": "2024-08-12T12:48:25.210399500Z",
     "start_time": "2024-08-12T12:48:25.160558500Z"
    }
   },
   "source": [
    "result.multitest"
   ],
   "outputs": [
    {
     "data": {
      "text/plain": "   correction        field  new p-value  old p-value  rejected   test group\n0    0.747232   pre_spends     1.000000     0.747232     False  TTest     1\n1    0.250000  post_spends     0.569374     0.142344     False  TTest     1\n2    0.544572   pre_spends     1.000000     0.544572     False  TTest     2\n3    0.579043  post_spends     1.000000     0.579043     False  TTest     2"
     },
     "execution_count": 16,
     "metadata": {},
     "output_type": "execute_result"
    }
   ],
   "execution_count": 16
  }
 ],
 "metadata": {
  "kernelspec": {
   "display_name": "Python 3",
   "language": "python",
   "name": "python3"
  },
  "language_info": {
   "codemirror_mode": {
    "name": "ipython",
    "version": 3
   },
   "file_extension": ".py",
   "mimetype": "text/x-python",
   "name": "python",
   "nbconvert_exporter": "python",
   "pygments_lexer": "ipython3",
   "version": "3.10.13"
  }
 },
 "nbformat": 4,
 "nbformat_minor": 5
}
