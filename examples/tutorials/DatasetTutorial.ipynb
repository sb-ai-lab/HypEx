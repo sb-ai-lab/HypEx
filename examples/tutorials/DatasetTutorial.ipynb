{
 "cells": [
  {
   "cell_type": "markdown",
   "id": "d5c1823d",
   "metadata": {},
   "source": [
    "# Dataset and ExperimentData tutorial\n",
    "\n",
    "In this tutorial, we will look on Dataset and ExperimentData classes. These are the key classes for working with data in Hypex. Their purpose to store the data, using one of the available backends (cuppently only pandas dataframe is available) and to provide the universal interface to it, in order to be able to access the data and to perform the basic operations to prepare it for the future experiments or analyses. "
   ]
  },
  {
   "metadata": {},
   "cell_type": "markdown",
   "source": [
    "# Table of contents:\n",
    "\n",
    "<ul>\n",
    "<li><a href=\"#create-dataset\">Create Dataset</a></li>\n",
    "<li><a href=\"#dataset-methods\">Dataset Methods</a></li>\n",
    "<li><a href=\"#create-experimentdata\">Create ExperimentData</a></li>\n",
    "</ul>"
   ],
   "id": "e8c809251e2aadd2"
  },
  {
   "cell_type": "code",
   "id": "initial_id",
   "metadata": {
    "collapsed": true,
    "ExecuteTime": {
     "end_time": "2024-07-30T15:03:36.340896Z",
     "start_time": "2024-07-30T15:03:35.945348Z"
    }
   },
   "source": [
    "import copy\n",
    "import pandas as pd\n",
    "\n",
    "from hypex.dataset.dataset import Dataset, ExperimentData\n",
    "from hypex.dataset.roles import TargetRole, InfoRole, FeatureRole"
   ],
   "outputs": [],
   "execution_count": 1
  },
  {
   "cell_type": "markdown",
   "id": "1fab4946fe7c773d",
   "metadata": {},
   "source": [
    "## Create Dataset\n",
    "Initializes a new instance of the Dataset class from the data in one of the supported backends.\n",
    "\n",
    "Args:\n",
    "* __roles__: A dictionary mapping roles to their corresponding column names and types. Roles are used to mark up data by their intended purpose. There are different types of roles that have different meanings in different contexts.\n",
    "* __data__: The data to be used for the dataset. Can be either a pandas DataFrame or a file path. Defaults to None.\n",
    "* __backend__: The backend to be used for the dataset. Defaults to None, which is `pandas`.\n"
   ]
  },
  {
   "cell_type": "code",
   "id": "9a7283d7",
   "metadata": {
    "ExecuteTime": {
     "end_time": "2024-07-30T15:03:36.357699Z",
     "start_time": "2024-07-30T15:03:36.344300Z"
    }
   },
   "source": [
    "ds = Dataset({'a': TargetRole(), 'b': TargetRole(float)})\n",
    "ds"
   ],
   "outputs": [
    {
     "data": {
      "text/plain": [
       "Empty DataFrame\n",
       "Columns: []\n",
       "Index: []"
      ]
     },
     "execution_count": 2,
     "metadata": {},
     "output_type": "execute_result"
    }
   ],
   "execution_count": 2
  },
  {
   "cell_type": "code",
   "id": "d62d93cc5561f412",
   "metadata": {
    "collapsed": false,
    "ExecuteTime": {
     "end_time": "2024-07-30T15:03:36.373883Z",
     "start_time": "2024-07-30T15:03:36.360131Z"
    }
   },
   "source": [
    "df = pd.DataFrame({'a': [1, 2, 3], 'b': [4, 5, 6]})\n",
    "\n",
    "ds = Dataset({'a': TargetRole(), 'b': TargetRole(float)}, data=df)\n",
    "ds"
   ],
   "outputs": [
    {
     "data": {
      "text/plain": [
       "   a    b\n",
       "0  1  4.0\n",
       "1  2  5.0\n",
       "2  3  6.0"
      ]
     },
     "execution_count": 3,
     "metadata": {},
     "output_type": "execute_result"
    }
   ],
   "execution_count": 3
  },
  {
   "cell_type": "code",
   "id": "6546578e36d2522d",
   "metadata": {
    "collapsed": false,
    "ExecuteTime": {
     "end_time": "2024-07-30T15:03:36.394513Z",
     "start_time": "2024-07-30T15:03:36.383119Z"
    }
   },
   "source": [
    "ds.roles"
   ],
   "outputs": [
    {
     "data": {
      "text/plain": [
       "{'a': Target(<class 'int'>), 'b': Target(<class 'float'>)}"
      ]
     },
     "execution_count": 4,
     "metadata": {},
     "output_type": "execute_result"
    }
   ],
   "execution_count": 4
  },
  {
   "cell_type": "markdown",
   "id": "90940f464fc1cfc4",
   "metadata": {},
   "source": [
    "### Create empty\n",
    "Create an empty Dataset with same arguments as the Dataset constructor, but without any data. Additionaly you can pass index to create empty Dataset with predefined indexes and size."
   ]
  },
  {
   "cell_type": "code",
   "id": "2cb4974f8918f263",
   "metadata": {
    "collapsed": false,
    "ExecuteTime": {
     "end_time": "2024-07-30T15:03:36.444845Z",
     "start_time": "2024-07-30T15:03:36.436842Z"
    }
   },
   "source": [
    "ds_empty = Dataset.create_empty()\n",
    "ds_empty"
   ],
   "outputs": [
    {
     "data": {
      "text/plain": [
       "Empty DataFrame\n",
       "Columns: []\n",
       "Index: []"
      ]
     },
     "execution_count": 5,
     "metadata": {},
     "output_type": "execute_result"
    }
   ],
   "execution_count": 5
  },
  {
   "cell_type": "code",
   "id": "8e502633",
   "metadata": {
    "ExecuteTime": {
     "end_time": "2024-07-30T15:03:36.539300Z",
     "start_time": "2024-07-30T15:03:36.530570Z"
    }
   },
   "source": [
    "ds_empty = Dataset.create_empty(roles={'a': TargetRole(), 'b': TargetRole(float)}, index=range(7))\n",
    "ds_empty"
   ],
   "outputs": [
    {
     "data": {
      "text/plain": [
       "     a    b\n",
       "0  NaN  NaN\n",
       "1  NaN  NaN\n",
       "2  NaN  NaN\n",
       "3  NaN  NaN\n",
       "4  NaN  NaN\n",
       "5  NaN  NaN\n",
       "6  NaN  NaN"
      ]
     },
     "execution_count": 6,
     "metadata": {},
     "output_type": "execute_result"
    }
   ],
   "execution_count": 6
  },
  {
   "cell_type": "markdown",
   "id": "f84cc3be41f971cc",
   "metadata": {},
   "source": [
    "### Backend\n",
    "Backend in HypEx is the class that implements the data storage, navigation, transformation and calculation for the Dataset through the original framework. You can access it via `Dataset.backend` property. "
   ]
  },
  {
   "cell_type": "code",
   "id": "c1e520dd",
   "metadata": {
    "ExecuteTime": {
     "end_time": "2024-07-30T15:03:36.602191Z",
     "start_time": "2024-07-30T15:03:36.594609Z"
    }
   },
   "source": [
    "type(ds.backend)"
   ],
   "outputs": [
    {
     "data": {
      "text/plain": [
       "hypex.dataset.backends.pandas_backend.PandasDataset"
      ]
     },
     "execution_count": 7,
     "metadata": {},
     "output_type": "execute_result"
    }
   ],
   "execution_count": 7
  },
  {
   "cell_type": "code",
   "id": "fdcedbbf",
   "metadata": {
    "ExecuteTime": {
     "end_time": "2024-07-30T15:03:36.700578Z",
     "start_time": "2024-07-30T15:03:36.690720Z"
    }
   },
   "source": [
    "ds.backend"
   ],
   "outputs": [
    {
     "data": {
      "text/plain": [
       "   a    b\n",
       "0  1  4.0\n",
       "1  2  5.0\n",
       "2  3  6.0"
      ]
     },
     "execution_count": 8,
     "metadata": {},
     "output_type": "execute_result"
    }
   ],
   "execution_count": 8
  },
  {
   "cell_type": "markdown",
   "id": "7902bbc1",
   "metadata": {},
   "source": "For accessing the data of the backend object directly, you can use `Dataset.data` property."
  },
  {
   "cell_type": "code",
   "id": "fafc1d29ad660762",
   "metadata": {
    "ExecuteTime": {
     "end_time": "2024-07-30T15:03:36.743820Z",
     "start_time": "2024-07-30T15:03:36.737469Z"
    }
   },
   "source": [
    "type(ds.data)"
   ],
   "outputs": [
    {
     "data": {
      "text/plain": [
       "pandas.core.frame.DataFrame"
      ]
     },
     "execution_count": 9,
     "metadata": {},
     "output_type": "execute_result"
    }
   ],
   "execution_count": 9
  },
  {
   "cell_type": "code",
   "id": "b04a8f4b",
   "metadata": {
    "ExecuteTime": {
     "end_time": "2024-07-30T15:03:36.820449Z",
     "start_time": "2024-07-30T15:03:36.807879Z"
    }
   },
   "source": [
    "ds.data"
   ],
   "outputs": [
    {
     "data": {
      "text/plain": [
       "   a    b\n",
       "0  1  4.0\n",
       "1  2  5.0\n",
       "2  3  6.0"
      ],
      "text/html": [
       "<div>\n",
       "<style scoped>\n",
       "    .dataframe tbody tr th:only-of-type {\n",
       "        vertical-align: middle;\n",
       "    }\n",
       "\n",
       "    .dataframe tbody tr th {\n",
       "        vertical-align: top;\n",
       "    }\n",
       "\n",
       "    .dataframe thead th {\n",
       "        text-align: right;\n",
       "    }\n",
       "</style>\n",
       "<table border=\"1\" class=\"dataframe\">\n",
       "  <thead>\n",
       "    <tr style=\"text-align: right;\">\n",
       "      <th></th>\n",
       "      <th>a</th>\n",
       "      <th>b</th>\n",
       "    </tr>\n",
       "  </thead>\n",
       "  <tbody>\n",
       "    <tr>\n",
       "      <th>0</th>\n",
       "      <td>1</td>\n",
       "      <td>4.0</td>\n",
       "    </tr>\n",
       "    <tr>\n",
       "      <th>1</th>\n",
       "      <td>2</td>\n",
       "      <td>5.0</td>\n",
       "    </tr>\n",
       "    <tr>\n",
       "      <th>2</th>\n",
       "      <td>3</td>\n",
       "      <td>6.0</td>\n",
       "    </tr>\n",
       "  </tbody>\n",
       "</table>\n",
       "</div>"
      ]
     },
     "execution_count": 10,
     "metadata": {},
     "output_type": "execute_result"
    }
   ],
   "execution_count": 10
  },
  {
   "cell_type": "markdown",
   "id": "dd883379f7d23af4",
   "metadata": {},
   "source": [
    "## Dataset Methods\n",
    "\n",
    "In the current version of HypEx, the available functions are based on the ones commonly used in Pandas, so most of the functions work the same way. Here we will focus on those features that are significantly different from Pandas."
   ]
  },
  {
   "cell_type": "markdown",
   "id": "8e5498236fa4d635",
   "metadata": {},
   "source": [
    "### From dict\n",
    "This static method allows you to create a Dataset object from a dict. This method works with two types of dicts.\n"
   ]
  },
  {
   "cell_type": "markdown",
   "id": "495cf961",
   "metadata": {},
   "source": [
    "**First way**"
   ]
  },
  {
   "cell_type": "code",
   "id": "6bd53eb114a3facf",
   "metadata": {
    "ExecuteTime": {
     "end_time": "2024-07-30T15:03:36.886871Z",
     "start_time": "2024-07-30T15:03:36.873964Z"
    }
   },
   "source": [
    "ds_from_dict = Dataset.from_dict({'a': [1, 2], 'b': [3, 4]}, {'a': TargetRole(), 'b': InfoRole()})\n",
    "ds_from_dict"
   ],
   "outputs": [
    {
     "data": {
      "text/plain": [
       "   a  b\n",
       "0  1  3\n",
       "1  2  4"
      ]
     },
     "execution_count": 11,
     "metadata": {},
     "output_type": "execute_result"
    }
   ],
   "execution_count": 11
  },
  {
   "cell_type": "markdown",
   "id": "157c8c55",
   "metadata": {},
   "source": [
    "**Second way**"
   ]
  },
  {
   "cell_type": "code",
   "id": "1c14ccf4",
   "metadata": {
    "ExecuteTime": {
     "end_time": "2024-07-30T15:03:36.958093Z",
     "start_time": "2024-07-30T15:03:36.948499Z"
    }
   },
   "source": [
    "ds_from_dict = Dataset.from_dict([{'a': 1, 'b': 3}, {'a': 2, 'b': 4}], {'a': TargetRole(), 'b': InfoRole()})\n",
    "ds_from_dict"
   ],
   "outputs": [
    {
     "data": {
      "text/plain": [
       "   a  b\n",
       "0  1  3\n",
       "1  2  4"
      ]
     },
     "execution_count": 12,
     "metadata": {},
     "output_type": "execute_result"
    }
   ],
   "execution_count": 12
  },
  {
   "cell_type": "markdown",
   "id": "c380164d6b4e5a67",
   "metadata": {},
   "source": [
    "### Search Columns\n",
    "This method allows you to search columns in a Dataset object by their roles and data types."
   ]
  },
  {
   "cell_type": "code",
   "id": "243c84fd545c9117",
   "metadata": {
    "ExecuteTime": {
     "end_time": "2024-07-30T15:03:36.988689Z",
     "start_time": "2024-07-30T15:03:36.981765Z"
    }
   },
   "source": [
    "columns_found = ds.search_columns(TargetRole(), search_types=[int])\n",
    "columns_found"
   ],
   "outputs": [
    {
     "data": {
      "text/plain": [
       "['a']"
      ]
     },
     "execution_count": 13,
     "metadata": {},
     "output_type": "execute_result"
    }
   ],
   "execution_count": 13
  },
  {
   "cell_type": "code",
   "id": "994ca789a6524c3a",
   "metadata": {
    "ExecuteTime": {
     "end_time": "2024-07-30T15:03:37.077752Z",
     "start_time": "2024-07-30T15:03:37.068489Z"
    }
   },
   "source": [
    "ds[columns_found]"
   ],
   "outputs": [
    {
     "data": {
      "text/plain": [
       "   a\n",
       "0  1\n",
       "1  2\n",
       "2  3"
      ]
     },
     "execution_count": 14,
     "metadata": {},
     "output_type": "execute_result"
    }
   ],
   "execution_count": 14
  },
  {
   "cell_type": "markdown",
   "id": "51cd55cc07aa03a2",
   "metadata": {},
   "source": [
    "### Simple math methods"
   ]
  },
  {
   "cell_type": "code",
   "id": "8ddda807bea6a4d0",
   "metadata": {
    "ExecuteTime": {
     "end_time": "2024-07-30T15:03:37.231701Z",
     "start_time": "2024-07-30T15:03:37.220546Z"
    }
   },
   "source": [
    "ds.mean()"
   ],
   "outputs": [
    {
     "data": {
      "text/plain": [
       "        a    b\n",
       "mean  2.0  5.0"
      ]
     },
     "execution_count": 15,
     "metadata": {},
     "output_type": "execute_result"
    }
   ],
   "execution_count": 15
  },
  {
   "cell_type": "code",
   "id": "6c1f07840882c24",
   "metadata": {
    "ExecuteTime": {
     "end_time": "2024-07-30T15:03:37.398539Z",
     "start_time": "2024-07-30T15:03:37.387920Z"
    }
   },
   "source": [
    "ds.count()"
   ],
   "outputs": [
    {
     "data": {
      "text/plain": [
       "       a  b\n",
       "count  3  3"
      ]
     },
     "execution_count": 16,
     "metadata": {},
     "output_type": "execute_result"
    }
   ],
   "execution_count": 16
  },
  {
   "cell_type": "code",
   "id": "9546b82c94140a3b",
   "metadata": {
    "ExecuteTime": {
     "end_time": "2024-07-30T15:03:37.474785Z",
     "start_time": "2024-07-30T15:03:37.465565Z"
    }
   },
   "source": [
    "ds.log()"
   ],
   "outputs": [
    {
     "data": {
      "text/plain": [
       "          a         b\n",
       "0  0.000000  1.386294\n",
       "1  0.693147  1.609438\n",
       "2  1.098612  1.791759"
      ]
     },
     "execution_count": 17,
     "metadata": {},
     "output_type": "execute_result"
    }
   ],
   "execution_count": 17
  },
  {
   "cell_type": "code",
   "id": "d2a69656d09fda08",
   "metadata": {
    "ExecuteTime": {
     "end_time": "2024-07-30T15:03:37.549003Z",
     "start_time": "2024-07-30T15:03:37.538818Z"
    }
   },
   "source": [
    "ds.min()"
   ],
   "outputs": [
    {
     "data": {
      "text/plain": [
       "     a    b\n",
       "min  1  4.0"
      ]
     },
     "execution_count": 18,
     "metadata": {},
     "output_type": "execute_result"
    }
   ],
   "execution_count": 18
  },
  {
   "cell_type": "markdown",
   "id": "2e996a6fa66ee1a1",
   "metadata": {},
   "source": [
    "### Get items \n",
    "Getting items and navigating through the Dataset work in a very similar way as in Pandas. With the difference that the Dataset objects are always being returned."
   ]
  },
  {
   "cell_type": "code",
   "id": "e156b5587bc08370",
   "metadata": {
    "ExecuteTime": {
     "end_time": "2024-07-30T15:03:37.601295Z",
     "start_time": "2024-07-30T15:03:37.591346Z"
    }
   },
   "source": [
    "ds[1]"
   ],
   "outputs": [
    {
     "data": {
      "text/plain": [
       "     1\n",
       "a  2.0\n",
       "b  5.0"
      ]
     },
     "execution_count": 19,
     "metadata": {},
     "output_type": "execute_result"
    }
   ],
   "execution_count": 19
  },
  {
   "cell_type": "code",
   "id": "8973eeface0fac20",
   "metadata": {
    "ExecuteTime": {
     "end_time": "2024-07-30T15:03:37.673008Z",
     "start_time": "2024-07-30T15:03:37.662607Z"
    }
   },
   "source": [
    "ds['a'][1]"
   ],
   "outputs": [
    {
     "data": {
      "text/plain": [
       "   1\n",
       "a  2"
      ]
     },
     "execution_count": 20,
     "metadata": {},
     "output_type": "execute_result"
    }
   ],
   "execution_count": 20
  },
  {
   "cell_type": "code",
   "id": "a7227bd576d1cc6d",
   "metadata": {
    "ExecuteTime": {
     "end_time": "2024-07-30T15:03:37.721403Z",
     "start_time": "2024-07-30T15:03:37.699848Z"
    }
   },
   "source": [
    "ds[ds[['a', 'b']] == 4]"
   ],
   "outputs": [
    {
     "data": {
      "text/plain": [
       "    a    b\n",
       "0 NaN  4.0\n",
       "1 NaN  NaN\n",
       "2 NaN  NaN"
      ]
     },
     "execution_count": 21,
     "metadata": {},
     "output_type": "execute_result"
    }
   ],
   "execution_count": 21
  },
  {
   "cell_type": "markdown",
   "id": "f99a9978",
   "metadata": {},
   "source": [
    "There is also a practical possibility to set data in this way, but it is limited and this is the wrong way. The main problem is that the markup of the new data is not defined, as indicated by the corresponding warning."
   ]
  },
  {
   "cell_type": "code",
   "id": "a9cc2e4c",
   "metadata": {
    "ExecuteTime": {
     "end_time": "2024-07-30T15:03:37.801455Z",
     "start_time": "2024-07-30T15:03:37.793935Z"
    }
   },
   "source": [
    "ds['c'] = [-3, -7, -9]"
   ],
   "outputs": [
    {
     "name": "stderr",
     "output_type": "stream",
     "text": [
      "/home/tony_katkov/job/HypEx/hypex/dataset/dataset.py:104: SyntaxWarning: Column must be added by add_column\n",
      "  warnings.warn(\"Column must be added by add_column\", category=SyntaxWarning)\n"
     ]
    }
   ],
   "execution_count": 22
  },
  {
   "cell_type": "markdown",
   "id": "49f7630956d01734",
   "metadata": {},
   "source": [
    "### Add column\n",
    "The correct way to add new columns to a Dataset object is to use the add_column method."
   ]
  },
  {
   "cell_type": "code",
   "id": "9904c0182a9497ca",
   "metadata": {
    "ExecuteTime": {
     "end_time": "2024-07-30T15:03:37.946038Z",
     "start_time": "2024-07-30T15:03:37.937193Z"
    }
   },
   "source": [
    "ds.add_column([7, 8, 9], {'c': TargetRole(int)})\n",
    "ds"
   ],
   "outputs": [
    {
     "data": {
      "text/plain": [
       "   a    b  c\n",
       "0  1  4.0  7\n",
       "1  2  5.0  8\n",
       "2  3  6.0  9"
      ]
     },
     "execution_count": 23,
     "metadata": {},
     "output_type": "execute_result"
    }
   ],
   "execution_count": 23
  },
  {
   "cell_type": "markdown",
   "id": "d64ef20b59548deb",
   "metadata": {},
   "source": [
    "### Apply\n",
    "\n",
    "The Dataset apply function works similarly to the apply function in pandas library, but it requires additional information about the roles in the Dataset."
   ]
  },
  {
   "cell_type": "code",
   "id": "fb1f19b7d8748ede",
   "metadata": {
    "ExecuteTime": {
     "end_time": "2024-07-30T15:03:38.075357Z",
     "start_time": "2024-07-30T15:03:38.058458Z"
    }
   },
   "source": [
    "ds.apply(lambda x: x ** 2 , role={'a': TargetRole(int), 'b': TargetRole(float), 'c': TargetRole(float)})"
   ],
   "outputs": [
    {
     "data": {
      "text/plain": [
       "   a     b     c\n",
       "0  1  16.0  49.0\n",
       "1  4  25.0  64.0\n",
       "2  9  36.0  81.0"
      ]
     },
     "execution_count": 24,
     "metadata": {},
     "output_type": "execute_result"
    }
   ],
   "execution_count": 24
  },
  {
   "cell_type": "markdown",
   "id": "e9587d50f5f8e9a6",
   "metadata": {},
   "source": [
    "### Group by\n",
    "\n",
    "Groupby method operates in 2 modes:\n",
    "\n",
    "- The first mode groups by fields and gets the agg function of the inner Dataset.\n",
    "- The second mode groups by fields and returns `Tuple[group_key, sub_dataset]`"
   ]
  },
  {
   "cell_type": "code",
   "id": "298d0e9eb0e93232",
   "metadata": {
    "ExecuteTime": {
     "end_time": "2024-07-30T15:03:38.206908Z",
     "start_time": "2024-07-30T15:03:38.160500Z"
    }
   },
   "source": [
    "groups_func = ds.groupby('a', func='mean')\n",
    "groups_func"
   ],
   "outputs": [
    {
     "data": {
      "text/plain": [
       "[(1,\n",
       "          a    b    c\n",
       "  mean  1.0  4.0  7.0),\n",
       " (2,\n",
       "          a    b    c\n",
       "  mean  2.0  5.0  8.0),\n",
       " (3,\n",
       "          a    b    c\n",
       "  mean  3.0  6.0  9.0)]"
      ]
     },
     "execution_count": 25,
     "metadata": {},
     "output_type": "execute_result"
    }
   ],
   "execution_count": 25
  },
  {
   "cell_type": "code",
   "id": "3692a9da2cca79fa",
   "metadata": {
    "ExecuteTime": {
     "end_time": "2024-07-30T15:03:38.329315Z",
     "start_time": "2024-07-30T15:03:38.304144Z"
    }
   },
   "source": [
    "groups = ds.groupby('a')\n",
    "groups"
   ],
   "outputs": [
    {
     "data": {
      "text/plain": [
       "[(1,\n",
       "     a    b  c\n",
       "  0  1  4.0  7),\n",
       " (2,\n",
       "     a    b  c\n",
       "  1  2  5.0  8),\n",
       " (3,\n",
       "     a    b  c\n",
       "  2  3  6.0  9)]"
      ]
     },
     "execution_count": 26,
     "metadata": {},
     "output_type": "execute_result"
    }
   ],
   "execution_count": 26
  },
  {
   "cell_type": "code",
   "id": "676c931b395d054c",
   "metadata": {
    "ExecuteTime": {
     "end_time": "2024-07-30T15:03:39.641430Z",
     "start_time": "2024-07-30T15:03:38.412218Z"
    }
   },
   "source": [
    "groups_func_fields = ds.groupby('a', func=['mean', 'var'], fields_list='e')\n",
    "groups_func_fields"
   ],
   "outputs": [
    {
     "ename": "KeyError",
     "evalue": "'e'",
     "output_type": "error",
     "traceback": [
      "\u001B[0;31m---------------------------------------------------------------------------\u001B[0m",
      "\u001B[0;31mKeyError\u001B[0m                                  Traceback (most recent call last)",
      "File \u001B[0;32m~/.local/lib/python3.10/site-packages/pandas/core/indexes/base.py:3791\u001B[0m, in \u001B[0;36mIndex.get_loc\u001B[0;34m(self, key)\u001B[0m\n\u001B[1;32m   3790\u001B[0m \u001B[38;5;28;01mtry\u001B[39;00m:\n\u001B[0;32m-> 3791\u001B[0m     \u001B[38;5;28;01mreturn\u001B[39;00m \u001B[38;5;28;43mself\u001B[39;49m\u001B[38;5;241;43m.\u001B[39;49m\u001B[43m_engine\u001B[49m\u001B[38;5;241;43m.\u001B[39;49m\u001B[43mget_loc\u001B[49m\u001B[43m(\u001B[49m\u001B[43mcasted_key\u001B[49m\u001B[43m)\u001B[49m\n\u001B[1;32m   3792\u001B[0m \u001B[38;5;28;01mexcept\u001B[39;00m \u001B[38;5;167;01mKeyError\u001B[39;00m \u001B[38;5;28;01mas\u001B[39;00m err:\n",
      "File \u001B[0;32mindex.pyx:152\u001B[0m, in \u001B[0;36mpandas._libs.index.IndexEngine.get_loc\u001B[0;34m()\u001B[0m\n",
      "File \u001B[0;32mindex.pyx:181\u001B[0m, in \u001B[0;36mpandas._libs.index.IndexEngine.get_loc\u001B[0;34m()\u001B[0m\n",
      "File \u001B[0;32mpandas/_libs/hashtable_class_helper.pxi:7080\u001B[0m, in \u001B[0;36mpandas._libs.hashtable.PyObjectHashTable.get_item\u001B[0;34m()\u001B[0m\n",
      "File \u001B[0;32mpandas/_libs/hashtable_class_helper.pxi:7088\u001B[0m, in \u001B[0;36mpandas._libs.hashtable.PyObjectHashTable.get_item\u001B[0;34m()\u001B[0m\n",
      "\u001B[0;31mKeyError\u001B[0m: 'e'",
      "\nThe above exception was the direct cause of the following exception:\n",
      "\u001B[0;31mKeyError\u001B[0m                                  Traceback (most recent call last)",
      "Cell \u001B[0;32mIn[27], line 1\u001B[0m\n\u001B[0;32m----> 1\u001B[0m groups_func_fields \u001B[38;5;241m=\u001B[39m \u001B[43mds\u001B[49m\u001B[38;5;241;43m.\u001B[39;49m\u001B[43mgroupby\u001B[49m\u001B[43m(\u001B[49m\u001B[38;5;124;43m'\u001B[39;49m\u001B[38;5;124;43ma\u001B[39;49m\u001B[38;5;124;43m'\u001B[39;49m\u001B[43m,\u001B[49m\u001B[43m \u001B[49m\u001B[43mfunc\u001B[49m\u001B[38;5;241;43m=\u001B[39;49m\u001B[43m[\u001B[49m\u001B[38;5;124;43m'\u001B[39;49m\u001B[38;5;124;43mmean\u001B[39;49m\u001B[38;5;124;43m'\u001B[39;49m\u001B[43m,\u001B[49m\u001B[43m \u001B[49m\u001B[38;5;124;43m'\u001B[39;49m\u001B[38;5;124;43mvar\u001B[39;49m\u001B[38;5;124;43m'\u001B[39;49m\u001B[43m]\u001B[49m\u001B[43m,\u001B[49m\u001B[43m \u001B[49m\u001B[43mfields_list\u001B[49m\u001B[38;5;241;43m=\u001B[39;49m\u001B[38;5;124;43m'\u001B[39;49m\u001B[38;5;124;43me\u001B[39;49m\u001B[38;5;124;43m'\u001B[39;49m\u001B[43m)\u001B[49m\n\u001B[1;32m      2\u001B[0m groups_func_fields\n",
      "File \u001B[0;32m~/job/HypEx/hypex/dataset/dataset.py:365\u001B[0m, in \u001B[0;36mDataset.groupby\u001B[0;34m(self, by, func, fields_list, **kwargs)\u001B[0m\n\u001B[1;32m    361\u001B[0m \u001B[38;5;28;01mif\u001B[39;00m fields_list:\n\u001B[1;32m    362\u001B[0m     fields_list \u001B[38;5;241m=\u001B[39m (\n\u001B[1;32m    363\u001B[0m         fields_list \u001B[38;5;28;01mif\u001B[39;00m \u001B[38;5;28misinstance\u001B[39m(fields_list, Iterable) \u001B[38;5;28;01melse\u001B[39;00m [fields_list]\n\u001B[1;32m    364\u001B[0m     )\n\u001B[0;32m--> 365\u001B[0m     datasets \u001B[38;5;241m=\u001B[39m [(i, data[fields_list]) \u001B[38;5;28;01mfor\u001B[39;00m i, data \u001B[38;5;129;01min\u001B[39;00m datasets]\n\u001B[1;32m    366\u001B[0m \u001B[38;5;28;01mif\u001B[39;00m func:\n\u001B[1;32m    367\u001B[0m     datasets \u001B[38;5;241m=\u001B[39m [(i, data\u001B[38;5;241m.\u001B[39magg(func)) \u001B[38;5;28;01mfor\u001B[39;00m i, data \u001B[38;5;129;01min\u001B[39;00m datasets]\n",
      "File \u001B[0;32m~/job/HypEx/hypex/dataset/dataset.py:365\u001B[0m, in \u001B[0;36m<listcomp>\u001B[0;34m(.0)\u001B[0m\n\u001B[1;32m    361\u001B[0m \u001B[38;5;28;01mif\u001B[39;00m fields_list:\n\u001B[1;32m    362\u001B[0m     fields_list \u001B[38;5;241m=\u001B[39m (\n\u001B[1;32m    363\u001B[0m         fields_list \u001B[38;5;28;01mif\u001B[39;00m \u001B[38;5;28misinstance\u001B[39m(fields_list, Iterable) \u001B[38;5;28;01melse\u001B[39;00m [fields_list]\n\u001B[1;32m    364\u001B[0m     )\n\u001B[0;32m--> 365\u001B[0m     datasets \u001B[38;5;241m=\u001B[39m [(i, \u001B[43mdata\u001B[49m\u001B[43m[\u001B[49m\u001B[43mfields_list\u001B[49m\u001B[43m]\u001B[49m) \u001B[38;5;28;01mfor\u001B[39;00m i, data \u001B[38;5;129;01min\u001B[39;00m datasets]\n\u001B[1;32m    366\u001B[0m \u001B[38;5;28;01mif\u001B[39;00m func:\n\u001B[1;32m    367\u001B[0m     datasets \u001B[38;5;241m=\u001B[39m [(i, data\u001B[38;5;241m.\u001B[39magg(func)) \u001B[38;5;28;01mfor\u001B[39;00m i, data \u001B[38;5;129;01min\u001B[39;00m datasets]\n",
      "File \u001B[0;32m~/job/HypEx/hypex/dataset/dataset.py:95\u001B[0m, in \u001B[0;36mDataset.__getitem__\u001B[0;34m(self, item)\u001B[0m\n\u001B[1;32m     84\u001B[0m items \u001B[38;5;241m=\u001B[39m (\n\u001B[1;32m     85\u001B[0m     [item] \u001B[38;5;28;01mif\u001B[39;00m \u001B[38;5;28misinstance\u001B[39m(item, \u001B[38;5;28mstr\u001B[39m) \u001B[38;5;129;01mor\u001B[39;00m \u001B[38;5;129;01mnot\u001B[39;00m \u001B[38;5;28misinstance\u001B[39m(item, Iterable) \u001B[38;5;28;01melse\u001B[39;00m item\n\u001B[1;32m     86\u001B[0m )\n\u001B[1;32m     87\u001B[0m roles: Dict \u001B[38;5;241m=\u001B[39m {\n\u001B[1;32m     88\u001B[0m     column: (\n\u001B[1;32m     89\u001B[0m         \u001B[38;5;28mself\u001B[39m\u001B[38;5;241m.\u001B[39mroles[column]\n\u001B[0;32m   (...)\u001B[0m\n\u001B[1;32m     93\u001B[0m     \u001B[38;5;28;01mfor\u001B[39;00m column \u001B[38;5;129;01min\u001B[39;00m items\n\u001B[1;32m     94\u001B[0m }\n\u001B[0;32m---> 95\u001B[0m result \u001B[38;5;241m=\u001B[39m Dataset(data\u001B[38;5;241m=\u001B[39m\u001B[38;5;28;43mself\u001B[39;49m\u001B[38;5;241;43m.\u001B[39;49m\u001B[43m_backend\u001B[49m\u001B[38;5;241;43m.\u001B[39;49m\u001B[38;5;21;43m__getitem__\u001B[39;49m\u001B[43m(\u001B[49m\u001B[43mitem\u001B[49m\u001B[43m)\u001B[49m, roles\u001B[38;5;241m=\u001B[39mroles)\n\u001B[1;32m     96\u001B[0m result\u001B[38;5;241m.\u001B[39mtmp_roles \u001B[38;5;241m=\u001B[39m \u001B[38;5;28mself\u001B[39m\u001B[38;5;241m.\u001B[39mtmp_roles\n\u001B[1;32m     97\u001B[0m \u001B[38;5;28;01mreturn\u001B[39;00m result\n",
      "File \u001B[0;32m~/job/HypEx/hypex/dataset/backends/pandas_backend.py:53\u001B[0m, in \u001B[0;36mPandasNavigation.__getitem__\u001B[0;34m(self, item)\u001B[0m\n\u001B[1;32m     51\u001B[0m     \u001B[38;5;28;01mreturn\u001B[39;00m \u001B[38;5;28mself\u001B[39m\u001B[38;5;241m.\u001B[39mdata\u001B[38;5;241m.\u001B[39miloc[item]\n\u001B[1;32m     52\u001B[0m \u001B[38;5;28;01mif\u001B[39;00m \u001B[38;5;28misinstance\u001B[39m(item, (\u001B[38;5;28mstr\u001B[39m, \u001B[38;5;28mlist\u001B[39m)):\n\u001B[0;32m---> 53\u001B[0m     \u001B[38;5;28;01mreturn\u001B[39;00m \u001B[38;5;28;43mself\u001B[39;49m\u001B[38;5;241;43m.\u001B[39;49m\u001B[43mdata\u001B[49m\u001B[43m[\u001B[49m\u001B[43mitem\u001B[49m\u001B[43m]\u001B[49m\n\u001B[1;32m     54\u001B[0m \u001B[38;5;28;01mif\u001B[39;00m \u001B[38;5;28misinstance\u001B[39m(item, pd\u001B[38;5;241m.\u001B[39mDataFrame):\n\u001B[1;32m     55\u001B[0m     \u001B[38;5;28;01mif\u001B[39;00m \u001B[38;5;28mlen\u001B[39m(item\u001B[38;5;241m.\u001B[39mcolumns) \u001B[38;5;241m==\u001B[39m \u001B[38;5;241m1\u001B[39m:\n",
      "File \u001B[0;32m~/.local/lib/python3.10/site-packages/pandas/core/frame.py:3893\u001B[0m, in \u001B[0;36mDataFrame.__getitem__\u001B[0;34m(self, key)\u001B[0m\n\u001B[1;32m   3891\u001B[0m \u001B[38;5;28;01mif\u001B[39;00m \u001B[38;5;28mself\u001B[39m\u001B[38;5;241m.\u001B[39mcolumns\u001B[38;5;241m.\u001B[39mnlevels \u001B[38;5;241m>\u001B[39m \u001B[38;5;241m1\u001B[39m:\n\u001B[1;32m   3892\u001B[0m     \u001B[38;5;28;01mreturn\u001B[39;00m \u001B[38;5;28mself\u001B[39m\u001B[38;5;241m.\u001B[39m_getitem_multilevel(key)\n\u001B[0;32m-> 3893\u001B[0m indexer \u001B[38;5;241m=\u001B[39m \u001B[38;5;28;43mself\u001B[39;49m\u001B[38;5;241;43m.\u001B[39;49m\u001B[43mcolumns\u001B[49m\u001B[38;5;241;43m.\u001B[39;49m\u001B[43mget_loc\u001B[49m\u001B[43m(\u001B[49m\u001B[43mkey\u001B[49m\u001B[43m)\u001B[49m\n\u001B[1;32m   3894\u001B[0m \u001B[38;5;28;01mif\u001B[39;00m is_integer(indexer):\n\u001B[1;32m   3895\u001B[0m     indexer \u001B[38;5;241m=\u001B[39m [indexer]\n",
      "File \u001B[0;32m~/.local/lib/python3.10/site-packages/pandas/core/indexes/base.py:3798\u001B[0m, in \u001B[0;36mIndex.get_loc\u001B[0;34m(self, key)\u001B[0m\n\u001B[1;32m   3793\u001B[0m     \u001B[38;5;28;01mif\u001B[39;00m \u001B[38;5;28misinstance\u001B[39m(casted_key, \u001B[38;5;28mslice\u001B[39m) \u001B[38;5;129;01mor\u001B[39;00m (\n\u001B[1;32m   3794\u001B[0m         \u001B[38;5;28misinstance\u001B[39m(casted_key, abc\u001B[38;5;241m.\u001B[39mIterable)\n\u001B[1;32m   3795\u001B[0m         \u001B[38;5;129;01mand\u001B[39;00m \u001B[38;5;28many\u001B[39m(\u001B[38;5;28misinstance\u001B[39m(x, \u001B[38;5;28mslice\u001B[39m) \u001B[38;5;28;01mfor\u001B[39;00m x \u001B[38;5;129;01min\u001B[39;00m casted_key)\n\u001B[1;32m   3796\u001B[0m     ):\n\u001B[1;32m   3797\u001B[0m         \u001B[38;5;28;01mraise\u001B[39;00m InvalidIndexError(key)\n\u001B[0;32m-> 3798\u001B[0m     \u001B[38;5;28;01mraise\u001B[39;00m \u001B[38;5;167;01mKeyError\u001B[39;00m(key) \u001B[38;5;28;01mfrom\u001B[39;00m \u001B[38;5;21;01merr\u001B[39;00m\n\u001B[1;32m   3799\u001B[0m \u001B[38;5;28;01mexcept\u001B[39;00m \u001B[38;5;167;01mTypeError\u001B[39;00m:\n\u001B[1;32m   3800\u001B[0m     \u001B[38;5;66;03m# If we have a listlike key, _check_indexing_error will raise\u001B[39;00m\n\u001B[1;32m   3801\u001B[0m     \u001B[38;5;66;03m#  InvalidIndexError. Otherwise we fall through and re-raise\u001B[39;00m\n\u001B[1;32m   3802\u001B[0m     \u001B[38;5;66;03m#  the TypeError.\u001B[39;00m\n\u001B[1;32m   3803\u001B[0m     \u001B[38;5;28mself\u001B[39m\u001B[38;5;241m.\u001B[39m_check_indexing_error(key)\n",
      "\u001B[0;31mKeyError\u001B[0m: 'e'"
     ]
    }
   ],
   "execution_count": 27
  },
  {
   "cell_type": "markdown",
   "id": "afa4aae9e20280d7",
   "metadata": {},
   "source": [
    "### Transpose\n",
    "Specifics of the transpose function is that it resets the roles in the new Dataset, so the function has the argument `roles` to allow to set the new roles. Default is `roles=None`. In this case, all roles will be set to FeatureRole with the automatically identified data types."
   ]
  },
  {
   "cell_type": "code",
   "id": "566e45ce7bb4be98",
   "metadata": {
    "ExecuteTime": {
     "end_time": "2024-07-30T15:03:39.645170Z",
     "start_time": "2024-07-30T15:03:39.644930Z"
    }
   },
   "source": [
    "ds.transpose({'one': FeatureRole(), '2': InfoRole(), 'III': InfoRole()})"
   ],
   "outputs": [],
   "execution_count": null
  },
  {
   "cell_type": "code",
   "id": "52271a04f3e51084",
   "metadata": {},
   "source": [
    "ds.transpose()"
   ],
   "outputs": [],
   "execution_count": null
  },
  {
   "cell_type": "code",
   "id": "4ec26e50e3ed905f",
   "metadata": {},
   "source": [
    "ds.transpose().roles"
   ],
   "outputs": [],
   "execution_count": null
  },
  {
   "cell_type": "code",
   "id": "2278eb13",
   "metadata": {},
   "source": [
    "ds.transpose(['one', '2', 'III'])"
   ],
   "outputs": [],
   "execution_count": null
  },
  {
   "cell_type": "markdown",
   "id": "ea33279e47df315f",
   "metadata": {},
   "source": [
    "### Shuffle\n",
    "Shuffles the rows of the dataset."
   ]
  },
  {
   "cell_type": "code",
   "id": "49df742a55637972",
   "metadata": {},
   "source": [
    "ds.shuffle()"
   ],
   "outputs": [],
   "execution_count": null
  },
  {
   "cell_type": "code",
   "id": "25dab75ddaebc1d4",
   "metadata": {},
   "source": [
    "ds.shuffle()"
   ],
   "outputs": [],
   "execution_count": null
  },
  {
   "cell_type": "code",
   "id": "d519d58268db5ac1",
   "metadata": {},
   "source": [
    "ds.shuffle(random_state=42)"
   ],
   "outputs": [],
   "execution_count": null
  },
  {
   "cell_type": "markdown",
   "id": "49c3228070c35a20",
   "metadata": {},
   "source": [
    "### Replace\n",
    "The behaviour is similar to the one in Pandas, but the type requires to be set if changed."
   ]
  },
  {
   "cell_type": "code",
   "id": "7fe184cb9855a4fe",
   "metadata": {},
   "source": [
    "dsr = copy.deepcopy(ds)\n",
    "dsr.replace(2, 15)"
   ],
   "outputs": [],
   "execution_count": null
  },
  {
   "cell_type": "code",
   "id": "3587ea17",
   "metadata": {},
   "source": [
    "# dsr.replace(1, \"a\") raise ValueError\n",
    "dsr.roles['e'] = TargetRole(str)\n",
    "dsr.replace(1, \"a\")"
   ],
   "outputs": [],
   "execution_count": null
  },
  {
   "cell_type": "markdown",
   "id": "a9ab1d759040d4c2",
   "metadata": {},
   "source": [
    "### Append\n",
    "Append method adds a new row to the end of the dataset."
   ]
  },
  {
   "cell_type": "code",
   "id": "db7750a4a24492ef",
   "metadata": {
    "collapsed": false
   },
   "source": [
    "ds.append(ds)"
   ],
   "outputs": [],
   "execution_count": null
  },
  {
   "cell_type": "code",
   "id": "5457c610",
   "metadata": {},
   "source": [
    "ds.shuffle().append(other=ds, index=True)"
   ],
   "outputs": [],
   "execution_count": null
  },
  {
   "cell_type": "code",
   "id": "6ad2decf",
   "metadata": {},
   "source": [
    "ds.shuffle().append(other=[ds]*2, index=True)"
   ],
   "outputs": [],
   "execution_count": null
  },
  {
   "cell_type": "markdown",
   "id": "6228fd7283c1c424",
   "metadata": {
    "collapsed": false
   },
   "source": [
    "# Eperiment Data\n",
    "\n",
    "ExperimentData is a structure that contains several datasets, which form the data for the experiment. It contains: \n",
    "* `ds` - researched dataset\n",
    "* `additional_fields` - additional fields that may be added to the dataset by merge on index: column - is state id of executor\n",
    "* `variables` - the results of the executors that will be returned by once value: key - is state id of executor\n",
    "* `analysis_tables` - dictionary of tables from executors: key - is state id of executor, value - is table from executor\n",
    "* `groups` - cache of the data split for the optimisation of calculation"
   ]
  },
  {
   "cell_type": "code",
   "id": "dc8b08a641e66fbe",
   "metadata": {
    "collapsed": false
   },
   "source": [
    "ed = ExperimentData(ds)"
   ],
   "outputs": [],
   "execution_count": null
  },
  {
   "cell_type": "code",
   "id": "fa3fdeed",
   "metadata": {},
   "source": [
    "ed.ds"
   ],
   "outputs": [],
   "execution_count": null
  },
  {
   "cell_type": "code",
   "id": "0643ec77",
   "metadata": {},
   "source": [
    "ed.additional_fields"
   ],
   "outputs": [],
   "execution_count": null
  },
  {
   "cell_type": "code",
   "id": "017a0abe",
   "metadata": {},
   "source": [
    "ed.variables"
   ],
   "outputs": [],
   "execution_count": null
  },
  {
   "cell_type": "code",
   "id": "6a76f93b",
   "metadata": {},
   "source": [
    "ed.analysis_tables"
   ],
   "outputs": [],
   "execution_count": null
  },
  {
   "cell_type": "code",
   "id": "56d5362c",
   "metadata": {},
   "source": [
    "ed.groups"
   ],
   "outputs": [],
   "execution_count": null
  }
 ],
 "metadata": {
  "hide_input": false,
  "kernelspec": {
   "display_name": "Python 3 (ipykernel)",
   "language": "python",
   "name": "python3"
  },
  "language_info": {
   "codemirror_mode": {
    "name": "ipython",
    "version": 3
   },
   "file_extension": ".py",
   "mimetype": "text/x-python",
   "name": "python",
   "nbconvert_exporter": "python",
   "pygments_lexer": "ipython3",
   "version": "3.8.10"
  },
  "nbTranslate": {
   "displayLangs": [
    "*"
   ],
   "hotkey": "alt-t",
   "langInMainMenu": true,
   "sourceLang": "en",
   "targetLang": "fr",
   "useGoogleTranslate": true
  },
  "toc": {
   "base_numbering": 1,
   "nav_menu": {},
   "number_sections": true,
   "sideBar": true,
   "skip_h1_title": false,
   "title_cell": "Table of Contents",
   "title_sidebar": "Contents",
   "toc_cell": false,
   "toc_position": {},
   "toc_section_display": true,
   "toc_window_display": false
  },
  "varInspector": {
   "cols": {
    "lenName": 16,
    "lenType": 16,
    "lenVar": 40
   },
   "kernels_config": {
    "python": {
     "delete_cmd_postfix": "",
     "delete_cmd_prefix": "del ",
     "library": "var_list.py",
     "varRefreshCmd": "print(var_dic_list())"
    },
    "r": {
     "delete_cmd_postfix": ") ",
     "delete_cmd_prefix": "rm(",
     "library": "var_list.r",
     "varRefreshCmd": "cat(var_dic_list()) "
    }
   },
   "types_to_exclude": [
    "module",
    "function",
    "builtin_function_or_method",
    "instance",
    "_Feature"
   ],
   "window_display": false
  }
 },
 "nbformat": 4,
 "nbformat_minor": 5
}
