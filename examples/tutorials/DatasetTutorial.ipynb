{
 "cells": [
  {
   "cell_type": "markdown",
   "id": "d5c1823d",
   "metadata": {},
   "source": [
    "# Dataset and ExperimentData tutorial\n",
    "\n",
    "In this tutorial, we will look on Dataset and ExperimentData classes. This is key classes for working with data in Hypex."
   ]
  },
  {
   "cell_type": "code",
   "execution_count": 1,
   "id": "initial_id",
   "metadata": {
    "ExecuteTime": {
     "end_time": "2024-07-03T06:57:22.901912Z",
     "start_time": "2024-07-03T06:57:22.555004Z"
    },
    "collapsed": true
   },
   "outputs": [],
   "source": [
    "import copy\n",
    "import pandas as pd\n",
    "\n",
    "from hypex.dataset.dataset import Dataset, ExperimentData\n",
    "from hypex.dataset.roles import TargetRole, InfoRole, FeatureRole"
   ]
  },
  {
   "cell_type": "markdown",
   "id": "1fab4946fe7c773d",
   "metadata": {},
   "source": [
    "## Create Dataset\n",
    "Initializes a new instance of the Dataset class.\n",
    "\n",
    "Args:\n",
    "* __roles__: A dictionary mapping roles to their corresponding column names and types. Roles are used to mark up data by their intended purpose. There are different types of roles that have different meanings in different contexts.\n",
    "* __data__: The data to be used for the dataset. Can be either a pandas DataFrame or a file path. Defaults to None.\n",
    "* __backend__: The backend to be used for the dataset. Defaults to None, but None is a `pandas`.\n"
   ]
  },
  {
   "cell_type": "code",
   "execution_count": 2,
   "id": "9a7283d7",
   "metadata": {},
   "outputs": [
    {
     "data": {
      "text/plain": [
       "Empty DataFrame\n",
       "Columns: []\n",
       "Index: []"
      ]
     },
     "execution_count": 2,
     "metadata": {},
     "output_type": "execute_result"
    }
   ],
   "source": [
    "ds = Dataset({'a': TargetRole(), 'b': TargetRole(float)})\n",
    "ds"
   ]
  },
  {
   "cell_type": "code",
   "execution_count": 3,
   "id": "d62d93cc5561f412",
   "metadata": {
    "ExecuteTime": {
     "end_time": "2024-07-03T06:57:23.004430Z",
     "start_time": "2024-07-03T06:57:22.970189Z"
    },
    "collapsed": false
   },
   "outputs": [
    {
     "data": {
      "text/plain": [
       "   a    b\n",
       "0  1  4.0\n",
       "1  2  5.0\n",
       "2  3  6.0"
      ]
     },
     "execution_count": 3,
     "metadata": {},
     "output_type": "execute_result"
    }
   ],
   "source": [
    "df = pd.DataFrame({'a': [1, 2, 3], 'b': [4, 5, 6]})\n",
    "\n",
    "ds = Dataset({'a': TargetRole(), 'b': TargetRole(float)}, data=df)\n",
    "ds"
   ]
  },
  {
   "cell_type": "code",
   "execution_count": 4,
   "id": "6546578e36d2522d",
   "metadata": {
    "ExecuteTime": {
     "end_time": "2024-07-03T06:57:23.014139Z",
     "start_time": "2024-07-03T06:57:23.007575Z"
    },
    "collapsed": false
   },
   "outputs": [
    {
     "data": {
      "text/plain": [
       "{'a': Target(<class 'int'>), 'b': Target(<class 'float'>)}"
      ]
     },
     "execution_count": 4,
     "metadata": {},
     "output_type": "execute_result"
    }
   ],
   "source": [
    "ds.roles"
   ]
  },
  {
   "cell_type": "markdown",
   "id": "90940f464fc1cfc4",
   "metadata": {},
   "source": [
    "## Create empty\n",
    "Create an empty Dataset with same arguments as the Dataset constructor, but without any data. Additional you can pass index for creating empty Dataset with defined index and size."
   ]
  },
  {
   "cell_type": "code",
   "execution_count": 5,
   "id": "2cb4974f8918f263",
   "metadata": {
    "ExecuteTime": {
     "end_time": "2024-07-03T06:57:25.483410Z",
     "start_time": "2024-07-03T06:57:25.478771Z"
    },
    "collapsed": false
   },
   "outputs": [
    {
     "data": {
      "text/plain": [
       "Empty DataFrame\n",
       "Columns: []\n",
       "Index: []"
      ]
     },
     "execution_count": 5,
     "metadata": {},
     "output_type": "execute_result"
    }
   ],
   "source": [
    "ds_empty = Dataset.create_empty()\n",
    "ds_empty"
   ]
  },
  {
   "cell_type": "code",
   "execution_count": 6,
   "id": "8e502633",
   "metadata": {},
   "outputs": [
    {
     "data": {
      "text/plain": [
       "     a    b\n",
       "0  NaN  NaN\n",
       "1  NaN  NaN\n",
       "2  NaN  NaN\n",
       "3  NaN  NaN\n",
       "4  NaN  NaN\n",
       "5  NaN  NaN\n",
       "6  NaN  NaN"
      ]
     },
     "execution_count": 6,
     "metadata": {},
     "output_type": "execute_result"
    }
   ],
   "source": [
    "ds_empty = Dataset.create_empty(roles={'a': TargetRole(), 'b': TargetRole(float)}, index=range(7))\n",
    "ds_empty"
   ]
  },
  {
   "cell_type": "markdown",
   "id": "f84cc3be41f971cc",
   "metadata": {},
   "source": [
    "## Backend\n",
    "Backend in HypEx is a class that adapts the data storage, navigation, transformation and calculation for the Dataset from original framework. You can access it via `Dataset.backend` property."
   ]
  },
  {
   "cell_type": "code",
   "execution_count": 10,
   "id": "c1e520dd",
   "metadata": {},
   "outputs": [
    {
     "data": {
      "text/plain": [
       "hypex.dataset.backends.pandas_backend.PandasDataset"
      ]
     },
     "execution_count": 10,
     "metadata": {},
     "output_type": "execute_result"
    }
   ],
   "source": [
    "type(ds.backend)"
   ]
  },
  {
   "cell_type": "code",
   "execution_count": 12,
   "id": "fdcedbbf",
   "metadata": {},
   "outputs": [
    {
     "data": {
      "text/plain": [
       "   a    b\n",
       "0  1  4.0\n",
       "1  2  5.0\n",
       "2  3  6.0"
      ]
     },
     "execution_count": 12,
     "metadata": {},
     "output_type": "execute_result"
    }
   ],
   "source": [
    "ds.backend"
   ]
  },
  {
   "cell_type": "markdown",
   "id": "7902bbc1",
   "metadata": {},
   "source": [
    "For accessing the data of the backend object, you can use `Dataset.data` property."
   ]
  },
  {
   "cell_type": "code",
   "execution_count": 11,
   "id": "fafc1d29ad660762",
   "metadata": {},
   "outputs": [
    {
     "data": {
      "text/plain": [
       "pandas.core.frame.DataFrame"
      ]
     },
     "execution_count": 11,
     "metadata": {},
     "output_type": "execute_result"
    }
   ],
   "source": [
    "type(ds.data)"
   ]
  },
  {
   "cell_type": "code",
   "execution_count": 13,
   "id": "b04a8f4b",
   "metadata": {},
   "outputs": [
    {
     "data": {
      "text/html": [
       "<div>\n",
       "<style scoped>\n",
       "    .dataframe tbody tr th:only-of-type {\n",
       "        vertical-align: middle;\n",
       "    }\n",
       "\n",
       "    .dataframe tbody tr th {\n",
       "        vertical-align: top;\n",
       "    }\n",
       "\n",
       "    .dataframe thead th {\n",
       "        text-align: right;\n",
       "    }\n",
       "</style>\n",
       "<table border=\"1\" class=\"dataframe\">\n",
       "  <thead>\n",
       "    <tr style=\"text-align: right;\">\n",
       "      <th></th>\n",
       "      <th>a</th>\n",
       "      <th>b</th>\n",
       "    </tr>\n",
       "  </thead>\n",
       "  <tbody>\n",
       "    <tr>\n",
       "      <th>0</th>\n",
       "      <td>1</td>\n",
       "      <td>4.0</td>\n",
       "    </tr>\n",
       "    <tr>\n",
       "      <th>1</th>\n",
       "      <td>2</td>\n",
       "      <td>5.0</td>\n",
       "    </tr>\n",
       "    <tr>\n",
       "      <th>2</th>\n",
       "      <td>3</td>\n",
       "      <td>6.0</td>\n",
       "    </tr>\n",
       "  </tbody>\n",
       "</table>\n",
       "</div>"
      ],
      "text/plain": [
       "   a    b\n",
       "0  1  4.0\n",
       "1  2  5.0\n",
       "2  3  6.0"
      ]
     },
     "execution_count": 13,
     "metadata": {},
     "output_type": "execute_result"
    }
   ],
   "source": [
    "ds.data"
   ]
  },
  {
   "cell_type": "markdown",
   "id": "dd883379f7d23af4",
   "metadata": {},
   "source": [
    "## Dataset Methods\n",
    "\n",
    "In the current version of HypEx, when implementing functions, we orienton Pandas, so most functions work the same way. Here we will focus on those features that are significantly different from Pandas."
   ]
  },
  {
   "cell_type": "markdown",
   "id": "8e5498236fa4d635",
   "metadata": {},
   "source": [
    "### From dict\n",
    "It staticmethod allow you can use to create a Dataset object from a dict. This method work with two types of dicts.\n"
   ]
  },
  {
   "cell_type": "markdown",
   "id": "495cf961",
   "metadata": {},
   "source": [
    "**First way**"
   ]
  },
  {
   "cell_type": "code",
   "execution_count": 16,
   "id": "6bd53eb114a3facf",
   "metadata": {},
   "outputs": [
    {
     "data": {
      "text/plain": [
       "   a  b\n",
       "0  1  3\n",
       "1  2  4"
      ]
     },
     "execution_count": 16,
     "metadata": {},
     "output_type": "execute_result"
    }
   ],
   "source": [
    "ds_from_dict = Dataset.from_dict({'a': [1, 2], 'b': [3, 4]}, {'a': TargetRole(), 'b': InfoRole()})\n",
    "ds_from_dict"
   ]
  },
  {
   "cell_type": "markdown",
   "id": "157c8c55",
   "metadata": {},
   "source": [
    "**Second way**"
   ]
  },
  {
   "cell_type": "code",
   "execution_count": 17,
   "id": "1c14ccf4",
   "metadata": {},
   "outputs": [
    {
     "data": {
      "text/plain": [
       "   a  b\n",
       "0  1  3\n",
       "1  2  4"
      ]
     },
     "execution_count": 17,
     "metadata": {},
     "output_type": "execute_result"
    }
   ],
   "source": [
    "ds_from_dict = Dataset.from_dict([{'a': 1, 'b': 3}, {'a': 2, 'b': 4}], {'a': TargetRole(), 'b': InfoRole()})\n",
    "ds_from_dict"
   ]
  },
  {
   "cell_type": "markdown",
   "id": "c380164d6b4e5a67",
   "metadata": {},
   "source": [
    "### Search Columns\n",
    "This method allow you can use to search columns in a Dataset object by role and types."
   ]
  },
  {
   "cell_type": "code",
   "execution_count": 19,
   "id": "243c84fd545c9117",
   "metadata": {},
   "outputs": [
    {
     "data": {
      "text/plain": [
       "['a']"
      ]
     },
     "execution_count": 19,
     "metadata": {},
     "output_type": "execute_result"
    }
   ],
   "source": [
    "columns_found = ds.search_columns(TargetRole(), search_types=[int])\n",
    "columns_found"
   ]
  },
  {
   "cell_type": "code",
   "execution_count": 20,
   "id": "994ca789a6524c3a",
   "metadata": {},
   "outputs": [
    {
     "data": {
      "text/plain": [
       "   a\n",
       "0  1\n",
       "1  2\n",
       "2  3"
      ]
     },
     "execution_count": 20,
     "metadata": {},
     "output_type": "execute_result"
    }
   ],
   "source": [
    "ds[columns_found]"
   ]
  },
  {
   "cell_type": "markdown",
   "id": "51cd55cc07aa03a2",
   "metadata": {},
   "source": [
    "### Simple math methods"
   ]
  },
  {
   "cell_type": "code",
   "execution_count": 21,
   "id": "8ddda807bea6a4d0",
   "metadata": {},
   "outputs": [
    {
     "data": {
      "text/plain": [
       "        a    b\n",
       "mean  2.0  5.0"
      ]
     },
     "execution_count": 21,
     "metadata": {},
     "output_type": "execute_result"
    }
   ],
   "source": [
    "ds.mean()"
   ]
  },
  {
   "cell_type": "code",
   "execution_count": 22,
   "id": "6c1f07840882c24",
   "metadata": {},
   "outputs": [
    {
     "data": {
      "text/plain": [
       "       a  b\n",
       "count  3  3"
      ]
     },
     "execution_count": 22,
     "metadata": {},
     "output_type": "execute_result"
    }
   ],
   "source": [
    "ds.count()"
   ]
  },
  {
   "cell_type": "code",
   "execution_count": 23,
   "id": "9546b82c94140a3b",
   "metadata": {},
   "outputs": [
    {
     "data": {
      "text/plain": [
       "          a         b\n",
       "0  0.000000  1.386294\n",
       "1  0.693147  1.609438\n",
       "2  1.098612  1.791759"
      ]
     },
     "execution_count": 23,
     "metadata": {},
     "output_type": "execute_result"
    }
   ],
   "source": [
    "ds.log()"
   ]
  },
  {
   "cell_type": "code",
   "execution_count": 24,
   "id": "d2a69656d09fda08",
   "metadata": {},
   "outputs": [
    {
     "data": {
      "text/plain": [
       "     a    b\n",
       "min  1  4.0"
      ]
     },
     "execution_count": 24,
     "metadata": {},
     "output_type": "execute_result"
    }
   ],
   "source": [
    "ds.min()"
   ]
  },
  {
   "cell_type": "markdown",
   "id": "2e996a6fa66ee1a1",
   "metadata": {},
   "source": [
    "### Get items \n",
    "Getting items and navigation work in a very similar way to Pandas. With the difference that the Dataset objects are always returned."
   ]
  },
  {
   "cell_type": "code",
   "execution_count": 25,
   "id": "e156b5587bc08370",
   "metadata": {},
   "outputs": [
    {
     "data": {
      "text/plain": [
       "     1\n",
       "a  2.0\n",
       "b  5.0"
      ]
     },
     "execution_count": 25,
     "metadata": {},
     "output_type": "execute_result"
    }
   ],
   "source": [
    "ds[1]"
   ]
  },
  {
   "cell_type": "code",
   "execution_count": 26,
   "id": "8973eeface0fac20",
   "metadata": {},
   "outputs": [
    {
     "data": {
      "text/plain": [
       "   1\n",
       "a  2"
      ]
     },
     "execution_count": 26,
     "metadata": {},
     "output_type": "execute_result"
    }
   ],
   "source": [
    "ds['a'][1]"
   ]
  },
  {
   "cell_type": "code",
   "execution_count": 27,
   "id": "a7227bd576d1cc6d",
   "metadata": {},
   "outputs": [
    {
     "data": {
      "text/plain": [
       "    a    b\n",
       "0 NaN  4.0\n",
       "1 NaN  NaN\n",
       "2 NaN  NaN"
      ]
     },
     "execution_count": 27,
     "metadata": {},
     "output_type": "execute_result"
    }
   ],
   "source": [
    "ds[ds[['a', 'b']] == 4]"
   ]
  },
  {
   "cell_type": "markdown",
   "id": "f99a9978",
   "metadata": {},
   "source": [
    "There is also a practical possibility to set data in this way, but it is limited and this is the wrong way. The main problem is that the markup of the new data is not defined, as indicated by the corresponding warning."
   ]
  },
  {
   "cell_type": "code",
   "execution_count": 35,
   "id": "a9cc2e4c",
   "metadata": {},
   "outputs": [
    {
     "name": "stderr",
     "output_type": "stream",
     "text": [
      "c:\\Projects\\HypEx\\hypex\\dataset\\dataset.py:104: SyntaxWarning: Column must be added by add_column\n",
      "  warnings.warn(\"Column must be added by add_column\", category=SyntaxWarning)\n"
     ]
    }
   ],
   "source": [
    "ds['c'] = [-3, -7, -9]"
   ]
  },
  {
   "cell_type": "markdown",
   "id": "49f7630956d01734",
   "metadata": {},
   "source": [
    "### Add column\n",
    "It is right way to add a column to the dataset."
   ]
  },
  {
   "cell_type": "code",
   "execution_count": 36,
   "id": "9904c0182a9497ca",
   "metadata": {},
   "outputs": [
    {
     "data": {
      "text/plain": [
       "   a    b  c\n",
       "0  3  4.0  7\n",
       "1  7  5.0  8\n",
       "2  9  6.0  9"
      ]
     },
     "execution_count": 36,
     "metadata": {},
     "output_type": "execute_result"
    }
   ],
   "source": [
    "ds.add_column([7, 8, 9], {'c': TargetRole(int)})\n",
    "ds"
   ]
  },
  {
   "cell_type": "markdown",
   "id": "d64ef20b59548deb",
   "metadata": {},
   "source": [
    "### Apply\n",
    "\n",
    "The Dataset apply function works similarly to the apply function in the pandas library, but it requires additional information about the roles in the Dataset created in this way."
   ]
  },
  {
   "cell_type": "code",
   "execution_count": 46,
   "id": "fb1f19b7d8748ede",
   "metadata": {},
   "outputs": [
    {
     "data": {
      "text/plain": [
       "    a     b     c\n",
       "0   9  16.0  49.0\n",
       "1  49  25.0  64.0\n",
       "2  81  36.0  81.0"
      ]
     },
     "execution_count": 46,
     "metadata": {},
     "output_type": "execute_result"
    }
   ],
   "source": [
    "ds.apply(lambda x: x ** 2 , role={'a': TargetRole(int), 'b': TargetRole(float), 'c': TargetRole(float)})"
   ]
  },
  {
   "cell_type": "markdown",
   "id": "e9587d50f5f8e9a6",
   "metadata": {},
   "source": [
    "### Group by\n",
    "\n",
    "Groupby method works in 2 modes:\n",
    "\n",
    "- The first mode is to group by a fields and to get the agg function of the inner Dataset.\n",
    "- The second mode is to group by a fields and returns `Tuple[group_key, sub_dataset]`"
   ]
  },
  {
   "cell_type": "code",
   "execution_count": 49,
   "id": "298d0e9eb0e93232",
   "metadata": {},
   "outputs": [
    {
     "data": {
      "text/plain": [
       "[(3,\n",
       "          a    b    c    e\n",
       "  mean  3.0  4.0  7.0  1.0),\n",
       " (7,\n",
       "          a    b    c    e\n",
       "  mean  7.0  5.0  8.0  2.0),\n",
       " (9,\n",
       "          a    b    c    e\n",
       "  mean  9.0  6.0  9.0  3.0)]"
      ]
     },
     "execution_count": 49,
     "metadata": {},
     "output_type": "execute_result"
    }
   ],
   "source": [
    "groups_func = ds.groupby('a', func='mean')\n",
    "groups_func"
   ]
  },
  {
   "cell_type": "code",
   "execution_count": 50,
   "id": "3692a9da2cca79fa",
   "metadata": {},
   "outputs": [
    {
     "data": {
      "text/plain": [
       "[(3,\n",
       "     a    b  c  e\n",
       "  0  3  4.0  7  1),\n",
       " (7,\n",
       "     a    b  c  e\n",
       "  1  7  5.0  8  2),\n",
       " (9,\n",
       "     a    b  c  e\n",
       "  2  9  6.0  9  3)]"
      ]
     },
     "execution_count": 50,
     "metadata": {},
     "output_type": "execute_result"
    }
   ],
   "source": [
    "groups = ds.groupby('a')\n",
    "groups"
   ]
  },
  {
   "cell_type": "code",
   "execution_count": 51,
   "id": "676c931b395d054c",
   "metadata": {},
   "outputs": [
    {
     "data": {
      "text/plain": [
       "[(3,\n",
       "          e\n",
       "  mean  1.0\n",
       "  var   NaN),\n",
       " (7,\n",
       "          e\n",
       "  mean  2.0\n",
       "  var   NaN),\n",
       " (9,\n",
       "          e\n",
       "  mean  3.0\n",
       "  var   NaN)]"
      ]
     },
     "execution_count": 51,
     "metadata": {},
     "output_type": "execute_result"
    }
   ],
   "source": [
    "groups_func_fields = ds.groupby('a', func=['mean', 'var'], fields_list='e')\n",
    "groups_func_fields"
   ]
  },
  {
   "cell_type": "markdown",
   "id": "afa4aae9e20280d7",
   "metadata": {},
   "source": [
    "### Transpose\n",
    "Specificity of the transpose function is rteset roles in new Dataset, so function have argument `roles`. Default is `roles=None`. In this case, the all roles are FeatureRole."
   ]
  },
  {
   "cell_type": "code",
   "execution_count": 52,
   "id": "566e45ce7bb4be98",
   "metadata": {},
   "outputs": [
    {
     "data": {
      "text/plain": [
       "   one    2  III\n",
       "a  3.0  7.0  9.0\n",
       "b  4.0  5.0  6.0\n",
       "c  7.0  8.0  9.0\n",
       "e  1.0  2.0  3.0"
      ]
     },
     "execution_count": 52,
     "metadata": {},
     "output_type": "execute_result"
    }
   ],
   "source": [
    "ds.transpose({'one': FeatureRole(), '2': InfoRole(), 'III': InfoRole()})"
   ]
  },
  {
   "cell_type": "code",
   "execution_count": 53,
   "id": "52271a04f3e51084",
   "metadata": {},
   "outputs": [
    {
     "data": {
      "text/plain": [
       "     0    1    2\n",
       "a  3.0  7.0  9.0\n",
       "b  4.0  5.0  6.0\n",
       "c  7.0  8.0  9.0\n",
       "e  1.0  2.0  3.0"
      ]
     },
     "execution_count": 53,
     "metadata": {},
     "output_type": "execute_result"
    }
   ],
   "source": [
    "ds.transpose()"
   ]
  },
  {
   "cell_type": "code",
   "execution_count": 54,
   "id": "4ec26e50e3ed905f",
   "metadata": {},
   "outputs": [
    {
     "data": {
      "text/plain": [
       "{0: Feature(<class 'float'>),\n",
       " 1: Feature(<class 'float'>),\n",
       " 2: Feature(<class 'float'>)}"
      ]
     },
     "execution_count": 54,
     "metadata": {},
     "output_type": "execute_result"
    }
   ],
   "source": [
    "ds.transpose().roles"
   ]
  },
  {
   "cell_type": "code",
   "execution_count": 55,
   "id": "2278eb13",
   "metadata": {},
   "outputs": [
    {
     "data": {
      "text/plain": [
       "   one    2  III\n",
       "a  3.0  7.0  9.0\n",
       "b  4.0  5.0  6.0\n",
       "c  7.0  8.0  9.0\n",
       "e  1.0  2.0  3.0"
      ]
     },
     "execution_count": 55,
     "metadata": {},
     "output_type": "execute_result"
    }
   ],
   "source": [
    "ds.transpose(['one', '2', 'III'])"
   ]
  },
  {
   "cell_type": "markdown",
   "id": "ea33279e47df315f",
   "metadata": {},
   "source": [
    "### Shuffle\n",
    "Shuffles the dataset rows of the dataset."
   ]
  },
  {
   "cell_type": "code",
   "execution_count": 56,
   "id": "49df742a55637972",
   "metadata": {},
   "outputs": [
    {
     "data": {
      "text/plain": [
       "   a    b  c  e\n",
       "1  7  5.0  8  2\n",
       "0  3  4.0  7  1\n",
       "2  9  6.0  9  3"
      ]
     },
     "execution_count": 56,
     "metadata": {},
     "output_type": "execute_result"
    }
   ],
   "source": [
    "ds.shuffle()"
   ]
  },
  {
   "cell_type": "code",
   "execution_count": 57,
   "id": "25dab75ddaebc1d4",
   "metadata": {},
   "outputs": [
    {
     "data": {
      "text/plain": [
       "   a    b  c  e\n",
       "0  3  4.0  7  1\n",
       "2  9  6.0  9  3\n",
       "1  7  5.0  8  2"
      ]
     },
     "execution_count": 57,
     "metadata": {},
     "output_type": "execute_result"
    }
   ],
   "source": [
    "ds.shuffle()"
   ]
  },
  {
   "cell_type": "code",
   "execution_count": 58,
   "id": "d519d58268db5ac1",
   "metadata": {},
   "outputs": [
    {
     "data": {
      "text/plain": [
       "   a    b  c  e\n",
       "0  3  4.0  7  1\n",
       "1  7  5.0  8  2\n",
       "2  9  6.0  9  3"
      ]
     },
     "execution_count": 58,
     "metadata": {},
     "output_type": "execute_result"
    }
   ],
   "source": [
    "ds.shuffle(random_state=42)"
   ]
  },
  {
   "cell_type": "markdown",
   "id": "49c3228070c35a20",
   "metadata": {},
   "source": [
    "### Replace\n",
    "As Pandas, but types are required atention."
   ]
  },
  {
   "cell_type": "code",
   "execution_count": 60,
   "id": "7fe184cb9855a4fe",
   "metadata": {},
   "outputs": [
    {
     "data": {
      "text/plain": [
       "   a    b  c   e\n",
       "0  3  4.0  7   1\n",
       "1  7  5.0  8  15\n",
       "2  9  6.0  9   3"
      ]
     },
     "execution_count": 60,
     "metadata": {},
     "output_type": "execute_result"
    }
   ],
   "source": [
    "dsr = copy.deepcopy(ds)\n",
    "dsr.replace(2, 15)"
   ]
  },
  {
   "cell_type": "code",
   "execution_count": 64,
   "id": "3587ea17",
   "metadata": {},
   "outputs": [
    {
     "data": {
      "text/plain": [
       "   a    b  c  e\n",
       "0  3  4.0  7  a\n",
       "1  7  5.0  8  2\n",
       "2  9  6.0  9  3"
      ]
     },
     "execution_count": 64,
     "metadata": {},
     "output_type": "execute_result"
    }
   ],
   "source": [
    "# dsr.replace(1, \"a\") raise ValueError\n",
    "dsr.roles['e'] = TargetRole(str)\n",
    "dsr.replace(1, \"a\")"
   ]
  },
  {
   "cell_type": "markdown",
   "id": "a9ab1d759040d4c2",
   "metadata": {},
   "source": [
    "### Append\n",
    "Append method adds a new row to the end of the dataset."
   ]
  },
  {
   "cell_type": "code",
   "execution_count": 65,
   "id": "db7750a4a24492ef",
   "metadata": {
    "ExecuteTime": {
     "end_time": "2024-07-03T06:57:25.905569Z",
     "start_time": "2024-07-03T06:57:25.892815Z"
    },
    "collapsed": false
   },
   "outputs": [
    {
     "data": {
      "text/plain": [
       "   a    b  c  e\n",
       "0  3  4.0  7  1\n",
       "1  7  5.0  8  2\n",
       "2  9  6.0  9  3\n",
       "0  3  4.0  7  1\n",
       "1  7  5.0  8  2\n",
       "2  9  6.0  9  3"
      ]
     },
     "execution_count": 65,
     "metadata": {},
     "output_type": "execute_result"
    }
   ],
   "source": [
    "ds.append(ds)"
   ]
  },
  {
   "cell_type": "code",
   "execution_count": 66,
   "id": "5457c610",
   "metadata": {},
   "outputs": [
    {
     "data": {
      "text/plain": [
       "   a    b  c  e\n",
       "0  7  5.0  8  2\n",
       "1  9  6.0  9  3\n",
       "2  3  4.0  7  1\n",
       "3  3  4.0  7  1\n",
       "4  7  5.0  8  2\n",
       "5  9  6.0  9  3"
      ]
     },
     "execution_count": 66,
     "metadata": {},
     "output_type": "execute_result"
    }
   ],
   "source": [
    "ds.shuffle().append(other=ds, index=True)"
   ]
  },
  {
   "cell_type": "code",
   "execution_count": 67,
   "id": "6ad2decf",
   "metadata": {},
   "outputs": [
    {
     "data": {
      "text/plain": [
       "   a    b  c  e\n",
       "0  9  6.0  9  3\n",
       "1  3  4.0  7  1\n",
       "2  7  5.0  8  2\n",
       "3  3  4.0  7  1\n",
       "4  7  5.0  8  2\n",
       "5  9  6.0  9  3\n",
       "6  3  4.0  7  1\n",
       "7  7  5.0  8  2\n",
       "8  9  6.0  9  3"
      ]
     },
     "execution_count": 67,
     "metadata": {},
     "output_type": "execute_result"
    }
   ],
   "source": [
    "ds.shuffle().append(other=[ds]*2, index=True)"
   ]
  },
  {
   "cell_type": "markdown",
   "id": "6228fd7283c1c424",
   "metadata": {
    "collapsed": false
   },
   "source": [
    "# Eperiment Data\n",
    "\n",
    "ExperimentData is structure that contains: \n",
    "* `ds` - researched dataset\n",
    "* `additional_fields` - additional fields that may be added to the dataset by merge on index: column - is state id of executor\n",
    "* `variables` - it is results of executors that will be returned by once value: key - is state id of executor\n",
    "* `analysis_tables` - dictionary of tables from executors: key - is state id of executor, value - is table from executor\n",
    "* `groups` - cache of splitted data for optimisation of calculation"
   ]
  },
  {
   "cell_type": "code",
   "execution_count": 71,
   "id": "dc8b08a641e66fbe",
   "metadata": {
    "ExecuteTime": {
     "end_time": "2024-07-03T06:57:26.005188Z",
     "start_time": "2024-07-03T06:57:25.998950Z"
    },
    "collapsed": false
   },
   "outputs": [],
   "source": [
    "ed = ExperimentData(ds)"
   ]
  },
  {
   "cell_type": "code",
   "execution_count": 72,
   "id": "fa3fdeed",
   "metadata": {},
   "outputs": [
    {
     "data": {
      "text/plain": [
       "   a    b  c  e\n",
       "0  3  4.0  7  1\n",
       "1  7  5.0  8  2\n",
       "2  9  6.0  9  3"
      ]
     },
     "execution_count": 72,
     "metadata": {},
     "output_type": "execute_result"
    }
   ],
   "source": [
    "ed.ds"
   ]
  },
  {
   "cell_type": "code",
   "execution_count": 73,
   "id": "0643ec77",
   "metadata": {},
   "outputs": [
    {
     "data": {
      "text/plain": [
       "Empty DataFrame\n",
       "Columns: []\n",
       "Index: [0, 1, 2]"
      ]
     },
     "execution_count": 73,
     "metadata": {},
     "output_type": "execute_result"
    }
   ],
   "source": [
    "ed.additional_fields"
   ]
  },
  {
   "cell_type": "code",
   "execution_count": 74,
   "id": "017a0abe",
   "metadata": {},
   "outputs": [
    {
     "data": {
      "text/plain": [
       "{}"
      ]
     },
     "execution_count": 74,
     "metadata": {},
     "output_type": "execute_result"
    }
   ],
   "source": [
    "ed.variables"
   ]
  },
  {
   "cell_type": "code",
   "execution_count": 75,
   "id": "6a76f93b",
   "metadata": {},
   "outputs": [
    {
     "data": {
      "text/plain": [
       "{}"
      ]
     },
     "execution_count": 75,
     "metadata": {},
     "output_type": "execute_result"
    }
   ],
   "source": [
    "ed.analysis_tables"
   ]
  },
  {
   "cell_type": "code",
   "execution_count": 76,
   "id": "56d5362c",
   "metadata": {},
   "outputs": [
    {
     "data": {
      "text/plain": [
       "{}"
      ]
     },
     "execution_count": 76,
     "metadata": {},
     "output_type": "execute_result"
    }
   ],
   "source": [
    "ed.groups"
   ]
  }
 ],
 "metadata": {
  "hide_input": false,
  "kernelspec": {
   "display_name": "Python 3 (ipykernel)",
   "language": "python",
   "name": "python3"
  },
  "language_info": {
   "codemirror_mode": {
    "name": "ipython",
    "version": 3
   },
   "file_extension": ".py",
   "mimetype": "text/x-python",
   "name": "python",
   "nbconvert_exporter": "python",
   "pygments_lexer": "ipython3",
   "version": "3.8.10"
  },
  "nbTranslate": {
   "displayLangs": [
    "*"
   ],
   "hotkey": "alt-t",
   "langInMainMenu": true,
   "sourceLang": "en",
   "targetLang": "fr",
   "useGoogleTranslate": true
  },
  "toc": {
   "base_numbering": 1,
   "nav_menu": {},
   "number_sections": true,
   "sideBar": true,
   "skip_h1_title": false,
   "title_cell": "Table of Contents",
   "title_sidebar": "Contents",
   "toc_cell": false,
   "toc_position": {},
   "toc_section_display": true,
   "toc_window_display": false
  },
  "varInspector": {
   "cols": {
    "lenName": 16,
    "lenType": 16,
    "lenVar": 40
   },
   "kernels_config": {
    "python": {
     "delete_cmd_postfix": "",
     "delete_cmd_prefix": "del ",
     "library": "var_list.py",
     "varRefreshCmd": "print(var_dic_list())"
    },
    "r": {
     "delete_cmd_postfix": ") ",
     "delete_cmd_prefix": "rm(",
     "library": "var_list.r",
     "varRefreshCmd": "cat(var_dic_list()) "
    }
   },
   "types_to_exclude": [
    "module",
    "function",
    "builtin_function_or_method",
    "instance",
    "_Feature"
   ],
   "window_display": false
  }
 },
 "nbformat": 4,
 "nbformat_minor": 5
}
