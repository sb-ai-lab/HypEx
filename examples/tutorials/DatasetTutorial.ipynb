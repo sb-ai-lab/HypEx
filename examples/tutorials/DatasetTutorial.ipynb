{
 "cells": [
  {
   "cell_type": "code",
   "id": "initial_id",
   "metadata": {
    "collapsed": true,
    "ExecuteTime": {
     "end_time": "2024-07-25T15:20:53.374368Z",
     "start_time": "2024-07-25T15:20:53.028298Z"
    }
   },
   "source": [
    "import copy\n",
    "\n",
    "import pandas as pd\n",
    "\n",
    "from hypex.dataset.dataset import Dataset, ExperimentData\n",
    "from hypex.dataset.roles import TargetRole, InfoRole, FeatureRole"
   ],
   "outputs": [],
   "execution_count": 1
  },
  {
   "cell_type": "markdown",
   "id": "17fbe750",
   "metadata": {},
   "source": [
    "# Dataset and ExperimentData tutorial\n",
    "\n",
    "In this tutorial, we will look on Dataset and ExperimentData classes. This is key classes for working with data in Hypex."
   ]
  },
  {
   "cell_type": "markdown",
   "id": "1fab4946fe7c773d",
   "metadata": {},
   "source": [
    "### Create Dataset\n",
    "Initializes a new instance of the Dataset class.\n",
    "\n",
    "Args:\n",
    "* __roles__: A dictionary mapping roles to their corresponding column names and types. Roles are used to mark up data by their intended purpose. There are different types of roles that have different meanings in different contexts.\n",
    "* __data__: The data to be used for the dataset. Can be either a pandas DataFrame or a file path. Defaults to None.\n",
    "* __backend__: The backend to be used for the dataset. Defaults to None, but None is a `pandas`.\n"
   ]
  },
  {
   "cell_type": "code",
   "id": "9a7283d7",
   "metadata": {
    "ExecuteTime": {
     "end_time": "2024-07-25T15:20:53.390685Z",
     "start_time": "2024-07-25T15:20:53.377298Z"
    }
   },
   "source": [
    "ds = Dataset({'a': TargetRole(), 'b': TargetRole(float)})\n",
    "ds"
   ],
   "outputs": [
    {
     "data": {
      "text/plain": [
       "Empty DataFrame\n",
       "Columns: []\n",
       "Index: []"
      ]
     },
     "execution_count": 2,
     "metadata": {},
     "output_type": "execute_result"
    }
   ],
   "execution_count": 2
  },
  {
   "cell_type": "code",
   "id": "d62d93cc5561f412",
   "metadata": {
    "collapsed": false,
    "ExecuteTime": {
     "end_time": "2024-07-25T15:20:53.435591Z",
     "start_time": "2024-07-25T15:20:53.393655Z"
    }
   },
   "source": [
    "df = pd.DataFrame({'a': [1, 2, 3], 'b': [4, 5, 6]})\n",
    "\n",
    "ds = Dataset({'a': TargetRole(), 'b': TargetRole(float)}, data=df)\n",
    "ds"
   ],
   "outputs": [
    {
     "data": {
      "text/plain": [
       "   a    b\n",
       "0  1  4.0\n",
       "1  2  5.0\n",
       "2  3  6.0"
      ]
     },
     "execution_count": 3,
     "metadata": {},
     "output_type": "execute_result"
    }
   ],
   "execution_count": 3
  },
  {
   "cell_type": "code",
   "id": "6546578e36d2522d",
   "metadata": {
    "collapsed": false,
    "ExecuteTime": {
     "end_time": "2024-07-25T15:20:53.447943Z",
     "start_time": "2024-07-25T15:20:53.439765Z"
    }
   },
   "source": [
    "ds.roles"
   ],
   "outputs": [
    {
     "data": {
      "text/plain": [
       "{'a': Target(<class 'int'>), 'b': Target(<class 'float'>)}"
      ]
     },
     "execution_count": 4,
     "metadata": {},
     "output_type": "execute_result"
    }
   ],
   "execution_count": 4
  },
  {
   "cell_type": "markdown",
   "id": "90940f464fc1cfc4",
   "metadata": {},
   "source": [
    "#### Create empty\n",
    "Create an empty Dataset with same arguments as the Dataset constructor, but without any data. Additional you can pass index for creating empty Dataset with defined index and size."
   ]
  },
  {
   "cell_type": "code",
   "id": "2cb4974f8918f263",
   "metadata": {
    "collapsed": false,
    "ExecuteTime": {
     "end_time": "2024-07-25T15:20:53.458152Z",
     "start_time": "2024-07-25T15:20:53.450670Z"
    }
   },
   "source": [
    "ds_empty = Dataset.create_empty()\n",
    "ds_empty"
   ],
   "outputs": [
    {
     "data": {
      "text/plain": [
       "Empty DataFrame\n",
       "Columns: []\n",
       "Index: []"
      ]
     },
     "execution_count": 5,
     "metadata": {},
     "output_type": "execute_result"
    }
   ],
   "execution_count": 5
  },
  {
   "cell_type": "code",
   "id": "8e502633",
   "metadata": {
    "ExecuteTime": {
     "end_time": "2024-07-25T15:20:53.470915Z",
     "start_time": "2024-07-25T15:20:53.460464Z"
    }
   },
   "source": [
    "ds_empty = Dataset.create_empty(roles={'a': TargetRole(), 'b': TargetRole(float)}, index=range(7))\n",
    "ds_empty"
   ],
   "outputs": [
    {
     "data": {
      "text/plain": [
       "     a    b\n",
       "0  NaN  NaN\n",
       "1  NaN  NaN\n",
       "2  NaN  NaN\n",
       "3  NaN  NaN\n",
       "4  NaN  NaN\n",
       "5  NaN  NaN\n",
       "6  NaN  NaN"
      ]
     },
     "execution_count": 6,
     "metadata": {},
     "output_type": "execute_result"
    }
   ],
   "execution_count": 6
  },
  {
   "cell_type": "markdown",
   "id": "f84cc3be41f971cc",
   "metadata": {},
   "source": [
    "### Backend\n",
    "Backend in HypEx is a class that adapts the data storage, navigation, transformation and calculation for the Dataset from original framework. You can access it via `Dataset.backend` property."
   ]
  },
  {
   "cell_type": "code",
   "id": "c1e520dd",
   "metadata": {
    "ExecuteTime": {
     "end_time": "2024-07-25T15:20:53.482150Z",
     "start_time": "2024-07-25T15:20:53.475125Z"
    }
   },
   "source": [
    "type(ds.backend)"
   ],
   "outputs": [
    {
     "data": {
      "text/plain": [
       "hypex.dataset.backends.pandas_backend.PandasDataset"
      ]
     },
     "execution_count": 7,
     "metadata": {},
     "output_type": "execute_result"
    }
   ],
   "execution_count": 7
  },
  {
   "cell_type": "code",
   "id": "fdcedbbf",
   "metadata": {
    "ExecuteTime": {
     "end_time": "2024-07-25T15:20:53.522367Z",
     "start_time": "2024-07-25T15:20:53.512007Z"
    }
   },
   "source": [
    "ds.backend"
   ],
   "outputs": [
    {
     "data": {
      "text/plain": [
       "   a    b\n",
       "0  1  4.0\n",
       "1  2  5.0\n",
       "2  3  6.0"
      ]
     },
     "execution_count": 8,
     "metadata": {},
     "output_type": "execute_result"
    }
   ],
   "execution_count": 8
  },
  {
   "cell_type": "markdown",
   "id": "7902bbc1",
   "metadata": {},
   "source": [
    "For accessing the data of the backend object, you can use `Dataset.data` property."
   ]
  },
  {
   "cell_type": "code",
   "id": "fafc1d29ad660762",
   "metadata": {
    "ExecuteTime": {
     "end_time": "2024-07-25T15:20:53.575784Z",
     "start_time": "2024-07-25T15:20:53.568442Z"
    }
   },
   "source": [
    "type(ds.data)"
   ],
   "outputs": [
    {
     "data": {
      "text/plain": [
       "pandas.core.frame.DataFrame"
      ]
     },
     "execution_count": 9,
     "metadata": {},
     "output_type": "execute_result"
    }
   ],
   "execution_count": 9
  },
  {
   "cell_type": "code",
   "id": "b04a8f4b",
   "metadata": {
    "ExecuteTime": {
     "end_time": "2024-07-25T15:20:53.738944Z",
     "start_time": "2024-07-25T15:20:53.728453Z"
    }
   },
   "source": [
    "ds.data"
   ],
   "outputs": [
    {
     "data": {
      "text/plain": [
       "   a    b\n",
       "0  1  4.0\n",
       "1  2  5.0\n",
       "2  3  6.0"
      ],
      "text/html": [
       "<div>\n",
       "<style scoped>\n",
       "    .dataframe tbody tr th:only-of-type {\n",
       "        vertical-align: middle;\n",
       "    }\n",
       "\n",
       "    .dataframe tbody tr th {\n",
       "        vertical-align: top;\n",
       "    }\n",
       "\n",
       "    .dataframe thead th {\n",
       "        text-align: right;\n",
       "    }\n",
       "</style>\n",
       "<table border=\"1\" class=\"dataframe\">\n",
       "  <thead>\n",
       "    <tr style=\"text-align: right;\">\n",
       "      <th></th>\n",
       "      <th>a</th>\n",
       "      <th>b</th>\n",
       "    </tr>\n",
       "  </thead>\n",
       "  <tbody>\n",
       "    <tr>\n",
       "      <th>0</th>\n",
       "      <td>1</td>\n",
       "      <td>4.0</td>\n",
       "    </tr>\n",
       "    <tr>\n",
       "      <th>1</th>\n",
       "      <td>2</td>\n",
       "      <td>5.0</td>\n",
       "    </tr>\n",
       "    <tr>\n",
       "      <th>2</th>\n",
       "      <td>3</td>\n",
       "      <td>6.0</td>\n",
       "    </tr>\n",
       "  </tbody>\n",
       "</table>\n",
       "</div>"
      ]
     },
     "execution_count": 10,
     "metadata": {},
     "output_type": "execute_result"
    }
   ],
   "execution_count": 10
  },
  {
   "cell_type": "markdown",
   "id": "dd883379f7d23af4",
   "metadata": {},
   "source": [
    "## Dataset Methods\n",
    "\n",
    "In the current version of HypEx, when implementing functions, we orienton Pandas, so most functions work the same way. Here we will focus on those features that are significantly different from Pandas."
   ]
  },
  {
   "cell_type": "markdown",
   "id": "8e5498236fa4d635",
   "metadata": {},
   "source": [
    "### From dict\n",
    "It staticmethod allow you can use to create a Dataset object from a dict. This method work with two types of dicts.\n"
   ]
  },
  {
   "cell_type": "markdown",
   "id": "495cf961",
   "metadata": {},
   "source": [
    "First way:"
   ]
  },
  {
   "cell_type": "code",
   "id": "6bd53eb114a3facf",
   "metadata": {
    "ExecuteTime": {
     "end_time": "2024-07-25T15:20:53.811683Z",
     "start_time": "2024-07-25T15:20:53.798282Z"
    }
   },
   "source": [
    "ds_from_dict = Dataset.from_dict({'a': [1, 2], 'b': [3, 4]}, {'a': TargetRole(), 'b': InfoRole()})\n",
    "ds_from_dict"
   ],
   "outputs": [
    {
     "data": {
      "text/plain": [
       "   a  b\n",
       "0  1  3\n",
       "1  2  4"
      ]
     },
     "execution_count": 11,
     "metadata": {},
     "output_type": "execute_result"
    }
   ],
   "execution_count": 11
  },
  {
   "cell_type": "markdown",
   "id": "157c8c55",
   "metadata": {},
   "source": [
    "Second way:"
   ]
  },
  {
   "cell_type": "code",
   "id": "1c14ccf4",
   "metadata": {
    "ExecuteTime": {
     "end_time": "2024-07-25T15:20:53.959693Z",
     "start_time": "2024-07-25T15:20:53.949597Z"
    }
   },
   "source": [
    "ds_from_dict = Dataset.from_dict([{'a': 1, 'b': 3}, {'a': 2, 'b': 4}], {'a': TargetRole(), 'b': InfoRole()})\n",
    "ds_from_dict"
   ],
   "outputs": [
    {
     "data": {
      "text/plain": [
       "   a  b\n",
       "0  1  3\n",
       "1  2  4"
      ]
     },
     "execution_count": 12,
     "metadata": {},
     "output_type": "execute_result"
    }
   ],
   "execution_count": 12
  },
  {
   "cell_type": "markdown",
   "id": "c380164d6b4e5a67",
   "metadata": {},
   "source": [
    "### Search Columns\n",
    "This method allow you can use to search columns in a Dataset object by role and types."
   ]
  },
  {
   "cell_type": "code",
   "id": "243c84fd545c9117",
   "metadata": {
    "ExecuteTime": {
     "end_time": "2024-07-25T15:20:54.039114Z",
     "start_time": "2024-07-25T15:20:54.033515Z"
    }
   },
   "source": [
    "columns_found = ds.search_columns(TargetRole(), search_types=[int])\n",
    "columns_found"
   ],
   "outputs": [
    {
     "data": {
      "text/plain": [
       "['a']"
      ]
     },
     "execution_count": 13,
     "metadata": {},
     "output_type": "execute_result"
    }
   ],
   "execution_count": 13
  },
  {
   "cell_type": "code",
   "id": "994ca789a6524c3a",
   "metadata": {
    "ExecuteTime": {
     "end_time": "2024-07-25T15:20:54.284109Z",
     "start_time": "2024-07-25T15:20:54.273569Z"
    }
   },
   "source": [
    "ds[columns_found]"
   ],
   "outputs": [
    {
     "data": {
      "text/plain": [
       "   a\n",
       "0  1\n",
       "1  2\n",
       "2  3"
      ]
     },
     "execution_count": 14,
     "metadata": {},
     "output_type": "execute_result"
    }
   ],
   "execution_count": 14
  },
  {
   "cell_type": "markdown",
   "id": "51cd55cc07aa03a2",
   "metadata": {},
   "source": [
    "### Simple math methods"
   ]
  },
  {
   "cell_type": "code",
   "id": "8ddda807bea6a4d0",
   "metadata": {
    "ExecuteTime": {
     "end_time": "2024-07-25T15:20:54.410464Z",
     "start_time": "2024-07-25T15:20:54.399237Z"
    }
   },
   "source": [
    "ds.mean()"
   ],
   "outputs": [
    {
     "data": {
      "text/plain": [
       "        a    b\n",
       "mean  2.0  5.0"
      ]
     },
     "execution_count": 15,
     "metadata": {},
     "output_type": "execute_result"
    }
   ],
   "execution_count": 15
  },
  {
   "cell_type": "code",
   "id": "6c1f07840882c24",
   "metadata": {
    "ExecuteTime": {
     "end_time": "2024-07-25T15:20:54.471649Z",
     "start_time": "2024-07-25T15:20:54.455405Z"
    }
   },
   "source": [
    "ds.count()"
   ],
   "outputs": [
    {
     "data": {
      "text/plain": [
       "       a  b\n",
       "count  3  3"
      ]
     },
     "execution_count": 16,
     "metadata": {},
     "output_type": "execute_result"
    }
   ],
   "execution_count": 16
  },
  {
   "cell_type": "code",
   "id": "9546b82c94140a3b",
   "metadata": {
    "ExecuteTime": {
     "end_time": "2024-07-25T15:20:54.668065Z",
     "start_time": "2024-07-25T15:20:54.653498Z"
    }
   },
   "source": [
    "ds.log()"
   ],
   "outputs": [
    {
     "data": {
      "text/plain": [
       "          a         b\n",
       "0  0.000000  1.386294\n",
       "1  0.693147  1.609438\n",
       "2  1.098612  1.791759"
      ]
     },
     "execution_count": 17,
     "metadata": {},
     "output_type": "execute_result"
    }
   ],
   "execution_count": 17
  },
  {
   "cell_type": "code",
   "id": "d2a69656d09fda08",
   "metadata": {
    "ExecuteTime": {
     "end_time": "2024-07-25T15:20:54.773731Z",
     "start_time": "2024-07-25T15:20:54.761396Z"
    }
   },
   "source": [
    "ds.min()"
   ],
   "outputs": [
    {
     "data": {
      "text/plain": [
       "     a    b\n",
       "min  1  4.0"
      ]
     },
     "execution_count": 18,
     "metadata": {},
     "output_type": "execute_result"
    }
   ],
   "execution_count": 18
  },
  {
   "cell_type": "markdown",
   "id": "2e996a6fa66ee1a1",
   "metadata": {},
   "source": [
    "### Get and item\n",
    "Getting items and navigation work in a very similar way to Pandas. With the difference that the Dataset objects are always returned."
   ]
  },
  {
   "cell_type": "code",
   "id": "e156b5587bc08370",
   "metadata": {
    "ExecuteTime": {
     "end_time": "2024-07-25T15:20:54.863929Z",
     "start_time": "2024-07-25T15:20:54.850680Z"
    }
   },
   "source": [
    "ds[1]"
   ],
   "outputs": [
    {
     "data": {
      "text/plain": [
       "     1\n",
       "a  2.0\n",
       "b  5.0"
      ]
     },
     "execution_count": 19,
     "metadata": {},
     "output_type": "execute_result"
    }
   ],
   "execution_count": 19
  },
  {
   "cell_type": "code",
   "id": "8973eeface0fac20",
   "metadata": {
    "ExecuteTime": {
     "end_time": "2024-07-25T15:20:54.994710Z",
     "start_time": "2024-07-25T15:20:54.977077Z"
    }
   },
   "source": [
    "ds['a'][1]"
   ],
   "outputs": [
    {
     "data": {
      "text/plain": [
       "   1\n",
       "a  2"
      ]
     },
     "execution_count": 20,
     "metadata": {},
     "output_type": "execute_result"
    }
   ],
   "execution_count": 20
  },
  {
   "cell_type": "code",
   "id": "a7227bd576d1cc6d",
   "metadata": {
    "ExecuteTime": {
     "end_time": "2024-07-25T15:20:55.105250Z",
     "start_time": "2024-07-25T15:20:55.085756Z"
    }
   },
   "source": [
    "ds[ds[['a', 'b']] == 4]"
   ],
   "outputs": [
    {
     "data": {
      "text/plain": [
       "    a    b\n",
       "0 NaN  4.0\n",
       "1 NaN  NaN\n",
       "2 NaN  NaN"
      ]
     },
     "execution_count": 21,
     "metadata": {},
     "output_type": "execute_result"
    }
   ],
   "execution_count": 21
  },
  {
   "cell_type": "markdown",
   "id": "f99a9978",
   "metadata": {},
   "source": [
    "There is also a practical possibility to set data in this way, but it is limited and this is the wrong way. The main problem is that the markup of the new data is not defined, as indicated by the corresponding warning."
   ]
  },
  {
   "cell_type": "code",
   "id": "a9cc2e4c",
   "metadata": {
    "ExecuteTime": {
     "end_time": "2024-07-25T15:20:55.217116Z",
     "start_time": "2024-07-25T15:20:55.209197Z"
    }
   },
   "source": [
    "ds['c'] = [-3, -7, -9]"
   ],
   "outputs": [
    {
     "name": "stderr",
     "output_type": "stream",
     "text": [
      "/home/tony_katkov/job/HypEx/hypex/dataset/dataset.py:104: SyntaxWarning: Column must be added by add_column\n",
      "  warnings.warn(\"Column must be added by add_column\", category=SyntaxWarning)\n"
     ]
    }
   ],
   "execution_count": 22
  },
  {
   "cell_type": "markdown",
   "id": "49f7630956d01734",
   "metadata": {},
   "source": [
    "### Add column\n",
    "It is right way to add a column to the dataset."
   ]
  },
  {
   "cell_type": "code",
   "id": "9904c0182a9497ca",
   "metadata": {
    "ExecuteTime": {
     "end_time": "2024-07-25T15:20:55.437464Z",
     "start_time": "2024-07-25T15:20:55.423967Z"
    }
   },
   "source": [
    "ds.add_column([7, 8, 9], {'c': TargetRole(int)})\n",
    "ds"
   ],
   "outputs": [
    {
     "data": {
      "text/plain": [
       "   a    b  c\n",
       "0  1  4.0  7\n",
       "1  2  5.0  8\n",
       "2  3  6.0  9"
      ]
     },
     "execution_count": 23,
     "metadata": {},
     "output_type": "execute_result"
    }
   ],
   "execution_count": 23
  },
  {
   "cell_type": "markdown",
   "id": "d64ef20b59548deb",
   "metadata": {},
   "source": [
    "### Apply\n",
    "\n",
    "The Dataset apply function works similarly to the apply function in the pandas library, but it requires additional information about the roles in the Dataset created in this way."
   ]
  },
  {
   "cell_type": "code",
   "id": "fb1f19b7d8748ede",
   "metadata": {
    "ExecuteTime": {
     "end_time": "2024-07-25T15:20:55.628873Z",
     "start_time": "2024-07-25T15:20:55.607868Z"
    }
   },
   "source": [
    "ds.apply(lambda x: x ** 2 , role={'a': TargetRole(int), 'b': TargetRole(float), 'c': TargetRole(float)})"
   ],
   "outputs": [
    {
     "data": {
      "text/plain": [
       "   a     b     c\n",
       "0  1  16.0  49.0\n",
       "1  4  25.0  64.0\n",
       "2  9  36.0  81.0"
      ]
     },
     "execution_count": 24,
     "metadata": {},
     "output_type": "execute_result"
    }
   ],
   "execution_count": 24
  },
  {
   "cell_type": "markdown",
   "id": "e9587d50f5f8e9a6",
   "metadata": {},
   "source": [
    "### Group by\n",
    "\n",
    "Groupby method works in 2 modes:\n",
    "\n",
    "- The first mode is to group by a fields and to get the agg function of the inner Dataset.\n",
    "- The second mode is to group by a fields and returns `Tuple[group_key, sub_dataset]`"
   ]
  },
  {
   "cell_type": "code",
   "id": "298d0e9eb0e93232",
   "metadata": {
    "ExecuteTime": {
     "end_time": "2024-07-25T15:20:55.810495Z",
     "start_time": "2024-07-25T15:20:55.716538Z"
    }
   },
   "source": [
    "groups_func = ds.groupby('a', func='mean')\n",
    "groups_func"
   ],
   "outputs": [
    {
     "data": {
      "text/plain": [
       "[(1,\n",
       "          a    b    c\n",
       "  mean  1.0  4.0  7.0),\n",
       " (2,\n",
       "          a    b    c\n",
       "  mean  2.0  5.0  8.0),\n",
       " (3,\n",
       "          a    b    c\n",
       "  mean  3.0  6.0  9.0)]"
      ]
     },
     "execution_count": 25,
     "metadata": {},
     "output_type": "execute_result"
    }
   ],
   "execution_count": 25
  },
  {
   "cell_type": "code",
   "id": "3692a9da2cca79fa",
   "metadata": {
    "ExecuteTime": {
     "end_time": "2024-07-25T15:20:55.963990Z",
     "start_time": "2024-07-25T15:20:55.916809Z"
    }
   },
   "source": [
    "groups = ds.groupby('a')\n",
    "groups"
   ],
   "outputs": [
    {
     "data": {
      "text/plain": [
       "[(1,\n",
       "     a    b  c\n",
       "  0  1  4.0  7),\n",
       " (2,\n",
       "     a    b  c\n",
       "  1  2  5.0  8),\n",
       " (3,\n",
       "     a    b  c\n",
       "  2  3  6.0  9)]"
      ]
     },
     "execution_count": 26,
     "metadata": {},
     "output_type": "execute_result"
    }
   ],
   "execution_count": 26
  },
  {
   "cell_type": "code",
   "id": "676c931b395d054c",
   "metadata": {
    "ExecuteTime": {
     "end_time": "2024-07-25T15:20:56.183435Z",
     "start_time": "2024-07-25T15:20:56.178555Z"
    }
   },
   "source": [
    "groups_func_fields = ds.groupby('a', func=['mean', 'var'], fields_list='c')\n",
    "groups_func_fields"
   ],
   "outputs": [],
   "execution_count": 27
  },
  {
   "cell_type": "markdown",
   "id": "afa4aae9e20280d7",
   "metadata": {},
   "source": [
    "### Transpose\n",
    "Specificity of the transpose function is rteset roles in new Dataset, so function have argument `roles`. Default is `roles=None`. In this case, the all roles are FeatureRole."
   ]
  },
  {
   "cell_type": "code",
   "id": "566e45ce7bb4be98",
   "metadata": {
    "ExecuteTime": {
     "end_time": "2024-07-25T15:20:56.346528Z",
     "start_time": "2024-07-25T15:20:56.321920Z"
    }
   },
   "source": [
    "ds.transpose({'one': FeatureRole(), '2': InfoRole(), 'III': InfoRole()})"
   ],
   "outputs": [
    {
     "data": {
      "text/plain": [
       "   one    2  III\n",
       "a  1.0  2.0  3.0\n",
       "b  4.0  5.0  6.0\n",
       "c  7.0  8.0  9.0"
      ]
     },
     "execution_count": 28,
     "metadata": {},
     "output_type": "execute_result"
    }
   ],
   "execution_count": 28
  },
  {
   "cell_type": "code",
   "id": "52271a04f3e51084",
   "metadata": {
    "ExecuteTime": {
     "end_time": "2024-07-25T15:20:56.490787Z",
     "start_time": "2024-07-25T15:20:56.471355Z"
    }
   },
   "source": [
    "ds.transpose()"
   ],
   "outputs": [
    {
     "data": {
      "text/plain": [
       "     0    1    2\n",
       "a  1.0  2.0  3.0\n",
       "b  4.0  5.0  6.0\n",
       "c  7.0  8.0  9.0"
      ]
     },
     "execution_count": 29,
     "metadata": {},
     "output_type": "execute_result"
    }
   ],
   "execution_count": 29
  },
  {
   "cell_type": "code",
   "id": "4ec26e50e3ed905f",
   "metadata": {
    "ExecuteTime": {
     "end_time": "2024-07-25T15:20:56.656469Z",
     "start_time": "2024-07-25T15:20:56.638370Z"
    }
   },
   "source": [
    "ds.transpose().roles"
   ],
   "outputs": [
    {
     "data": {
      "text/plain": [
       "{0: Feature(<class 'float'>),\n",
       " 1: Feature(<class 'float'>),\n",
       " 2: Feature(<class 'float'>)}"
      ]
     },
     "execution_count": 30,
     "metadata": {},
     "output_type": "execute_result"
    }
   ],
   "execution_count": 30
  },
  {
   "cell_type": "code",
   "id": "2278eb13",
   "metadata": {
    "ExecuteTime": {
     "end_time": "2024-07-25T15:20:56.856412Z",
     "start_time": "2024-07-25T15:20:56.835673Z"
    }
   },
   "source": [
    "ds.transpose(['one', '2', 'III'])"
   ],
   "outputs": [
    {
     "data": {
      "text/plain": [
       "   one    2  III\n",
       "a  1.0  2.0  3.0\n",
       "b  4.0  5.0  6.0\n",
       "c  7.0  8.0  9.0"
      ]
     },
     "execution_count": 31,
     "metadata": {},
     "output_type": "execute_result"
    }
   ],
   "execution_count": 31
  },
  {
   "cell_type": "markdown",
   "id": "ea33279e47df315f",
   "metadata": {},
   "source": [
    "### Shuffle\n",
    "Shuffles the dataset rows of the dataset."
   ]
  },
  {
   "cell_type": "code",
   "id": "49df742a55637972",
   "metadata": {
    "ExecuteTime": {
     "end_time": "2024-07-25T15:20:57.111059Z",
     "start_time": "2024-07-25T15:20:57.089700Z"
    }
   },
   "source": [
    "ds.shuffle()"
   ],
   "outputs": [
    {
     "data": {
      "text/plain": [
       "   a    b  c\n",
       "1  2  5.0  8\n",
       "0  1  4.0  7\n",
       "2  3  6.0  9"
      ]
     },
     "execution_count": 32,
     "metadata": {},
     "output_type": "execute_result"
    }
   ],
   "execution_count": 32
  },
  {
   "cell_type": "code",
   "id": "25dab75ddaebc1d4",
   "metadata": {
    "ExecuteTime": {
     "end_time": "2024-07-25T15:20:57.314385Z",
     "start_time": "2024-07-25T15:20:57.289492Z"
    }
   },
   "source": [
    "ds.shuffle()"
   ],
   "outputs": [
    {
     "data": {
      "text/plain": [
       "   a    b  c\n",
       "0  1  4.0  7\n",
       "2  3  6.0  9\n",
       "1  2  5.0  8"
      ]
     },
     "execution_count": 33,
     "metadata": {},
     "output_type": "execute_result"
    }
   ],
   "execution_count": 33
  },
  {
   "cell_type": "code",
   "id": "d519d58268db5ac1",
   "metadata": {
    "ExecuteTime": {
     "end_time": "2024-07-25T15:20:57.555029Z",
     "start_time": "2024-07-25T15:20:57.535446Z"
    }
   },
   "source": [
    "ds.shuffle(random_state=42)"
   ],
   "outputs": [
    {
     "data": {
      "text/plain": [
       "   a    b  c\n",
       "0  1  4.0  7\n",
       "1  2  5.0  8\n",
       "2  3  6.0  9"
      ]
     },
     "execution_count": 34,
     "metadata": {},
     "output_type": "execute_result"
    }
   ],
   "execution_count": 34
  },
  {
   "cell_type": "markdown",
   "id": "49c3228070c35a20",
   "metadata": {},
   "source": [
    "### Replace\n",
    "As Pandas, but types are required atention."
   ]
  },
  {
   "cell_type": "code",
   "id": "7fe184cb9855a4fe",
   "metadata": {
    "ExecuteTime": {
     "end_time": "2024-07-25T15:20:57.711769Z",
     "start_time": "2024-07-25T15:20:57.690875Z"
    }
   },
   "source": [
    "dsr = copy.deepcopy(ds)\n",
    "dsr.replace(2, 15)"
   ],
   "outputs": [
    {
     "data": {
      "text/plain": [
       "    a    b  c\n",
       "0   1  4.0  7\n",
       "1  15  5.0  8\n",
       "2   3  6.0  9"
      ]
     },
     "execution_count": 35,
     "metadata": {},
     "output_type": "execute_result"
    }
   ],
   "execution_count": 35
  },
  {
   "cell_type": "code",
   "id": "3587ea17",
   "metadata": {
    "ExecuteTime": {
     "end_time": "2024-07-25T15:20:57.898671Z",
     "start_time": "2024-07-25T15:20:57.878134Z"
    }
   },
   "source": [
    "# dsr.replace(1, \"a\") raise ValueError\n",
    "dsr.roles['a'] = TargetRole(str)\n",
    "dsr.replace(1, \"a\")"
   ],
   "outputs": [
    {
     "data": {
      "text/plain": [
       "   a    b  c\n",
       "0  a  4.0  7\n",
       "1  2  5.0  8\n",
       "2  3  6.0  9"
      ]
     },
     "execution_count": 36,
     "metadata": {},
     "output_type": "execute_result"
    }
   ],
   "execution_count": 36
  },
  {
   "cell_type": "markdown",
   "id": "a9ab1d759040d4c2",
   "metadata": {},
   "source": [
    "### Append\n",
    "Append method adds a new row to the end of the dataset."
   ]
  },
  {
   "cell_type": "code",
   "id": "db7750a4a24492ef",
   "metadata": {
    "collapsed": false,
    "ExecuteTime": {
     "end_time": "2024-07-25T15:20:58.036657Z",
     "start_time": "2024-07-25T15:20:58.012568Z"
    }
   },
   "source": [
    "ds.append(ds)"
   ],
   "outputs": [
    {
     "data": {
      "text/plain": [
       "   a    b  c\n",
       "0  1  4.0  7\n",
       "1  2  5.0  8\n",
       "2  3  6.0  9\n",
       "0  1  4.0  7\n",
       "1  2  5.0  8\n",
       "2  3  6.0  9"
      ]
     },
     "execution_count": 37,
     "metadata": {},
     "output_type": "execute_result"
    }
   ],
   "execution_count": 37
  },
  {
   "cell_type": "code",
   "id": "5457c610",
   "metadata": {
    "ExecuteTime": {
     "end_time": "2024-07-25T15:20:58.225237Z",
     "start_time": "2024-07-25T15:20:58.191714Z"
    }
   },
   "source": [
    "ds.shuffle().append(other=ds, reset_index=True)"
   ],
   "outputs": [
    {
     "data": {
      "text/plain": [
       "   a    b  c\n",
       "0  2  5.0  8\n",
       "1  3  6.0  9\n",
       "2  1  4.0  7\n",
       "3  1  4.0  7\n",
       "4  2  5.0  8\n",
       "5  3  6.0  9"
      ]
     },
     "execution_count": 38,
     "metadata": {},
     "output_type": "execute_result"
    }
   ],
   "execution_count": 38
  },
  {
   "cell_type": "code",
   "outputs": [],
   "source": [
    "ds.shuffle().append(other=[ds]*2, reset_index=True)"
   ],
   "metadata": {
    "collapsed": false
   },
   "id": "29eaf8070cd564d8"
  },
  {
   "cell_type": "code",
   "outputs": [],
   "source": [
    "ds"
   ],
   "metadata": {
    "collapsed": false
   },
   "id": "178ab3b37a39a2f5"
  },
  {
   "cell_type": "markdown",
   "id": "6228fd7283c1c424",
   "metadata": {
    "collapsed": false
   },
   "source": [
    "# Eperiment Data\n",
    "\n",
    "ExperimentData is structure that contains: \n",
    "* `ds` - researched dataset\n",
    "* `additional_fields` - additional fields that may be added to the dataset by merge on index: column - is state id of executor\n",
    "* `variables` - it is results of executors that will be returned by once value: key - is state id of executor\n",
    "* `analysis_tables` - dictionary of tables from executors: key - is state id of executor, value - is table from executor\n",
    "* `groups` - cache of splitted data for optimisation of calculation"
   ]
  },
  {
   "cell_type": "code",
   "id": "dc8b08a641e66fbe",
   "metadata": {
    "collapsed": false,
    "ExecuteTime": {
     "end_time": "2024-07-25T15:20:58.360587Z",
     "start_time": "2024-07-25T15:20:58.352582Z"
    }
   },
   "source": [
    "ed = ExperimentData(ds)"
   ],
   "outputs": [],
   "execution_count": 40
  },
  {
   "cell_type": "code",
   "id": "fa3fdeed",
   "metadata": {
    "ExecuteTime": {
     "end_time": "2024-07-25T15:20:58.519338Z",
     "start_time": "2024-07-25T15:20:58.508808Z"
    }
   },
   "source": [
    "ed.ds"
   ],
   "outputs": [
    {
     "data": {
      "text/plain": [
       "   a    b  c\n",
       "0  1  4.0  7\n",
       "1  2  5.0  8\n",
       "2  3  6.0  9"
      ]
     },
     "execution_count": 41,
     "metadata": {},
     "output_type": "execute_result"
    }
   ],
   "execution_count": 41
  },
  {
   "cell_type": "code",
   "id": "0643ec77",
   "metadata": {
    "ExecuteTime": {
     "end_time": "2024-07-25T15:20:58.612165Z",
     "start_time": "2024-07-25T15:20:58.602404Z"
    }
   },
   "source": [
    "ed.additional_fields"
   ],
   "outputs": [
    {
     "data": {
      "text/plain": [
       "Empty DataFrame\n",
       "Columns: []\n",
       "Index: [0, 1, 2]"
      ]
     },
     "execution_count": 42,
     "metadata": {},
     "output_type": "execute_result"
    }
   ],
   "execution_count": 42
  },
  {
   "cell_type": "code",
   "id": "017a0abe",
   "metadata": {
    "ExecuteTime": {
     "end_time": "2024-07-25T15:20:58.757778Z",
     "start_time": "2024-07-25T15:20:58.749862Z"
    }
   },
   "source": [
    "ed.variables"
   ],
   "outputs": [
    {
     "data": {
      "text/plain": [
       "{}"
      ]
     },
     "execution_count": 43,
     "metadata": {},
     "output_type": "execute_result"
    }
   ],
   "execution_count": 43
  },
  {
   "cell_type": "code",
   "id": "6a76f93b",
   "metadata": {
    "ExecuteTime": {
     "end_time": "2024-07-25T15:20:58.841788Z",
     "start_time": "2024-07-25T15:20:58.833450Z"
    }
   },
   "source": [
    "ed.analysis_tables"
   ],
   "outputs": [
    {
     "data": {
      "text/plain": [
       "{}"
      ]
     },
     "execution_count": 44,
     "metadata": {},
     "output_type": "execute_result"
    }
   ],
   "execution_count": 44
  },
  {
   "cell_type": "code",
   "id": "56d5362c",
   "metadata": {
    "ExecuteTime": {
     "end_time": "2024-07-25T15:20:59.097628Z",
     "start_time": "2024-07-25T15:20:59.088603Z"
    }
   },
   "source": [
    "ed.groups"
   ],
   "outputs": [
    {
     "data": {
      "text/plain": [
       "{}"
      ]
     },
     "execution_count": 45,
     "metadata": {},
     "output_type": "execute_result"
    }
   ],
   "execution_count": 45
  }
 ],
 "metadata": {
  "hide_input": false,
  "kernelspec": {
   "display_name": "Python 3 (ipykernel)",
   "language": "python",
   "name": "python3"
  },
  "language_info": {
   "codemirror_mode": {
    "name": "ipython",
    "version": 3
   },
   "file_extension": ".py",
   "mimetype": "text/x-python",
   "name": "python",
   "nbconvert_exporter": "python",
   "pygments_lexer": "ipython3",
   "version": "3.8.10"
  },
  "nbTranslate": {
   "displayLangs": [
    "*"
   ],
   "hotkey": "alt-t",
   "langInMainMenu": true,
   "sourceLang": "en",
   "targetLang": "fr",
   "useGoogleTranslate": true
  },
  "toc": {
   "base_numbering": 1,
   "nav_menu": {},
   "number_sections": true,
   "sideBar": true,
   "skip_h1_title": false,
   "title_cell": "Table of Contents",
   "title_sidebar": "Contents",
   "toc_cell": false,
   "toc_position": {},
   "toc_section_display": true,
   "toc_window_display": false
  },
  "varInspector": {
   "cols": {
    "lenName": 16,
    "lenType": 16,
    "lenVar": 40
   },
   "kernels_config": {
    "python": {
     "delete_cmd_postfix": "",
     "delete_cmd_prefix": "del ",
     "library": "var_list.py",
     "varRefreshCmd": "print(var_dic_list())"
    },
    "r": {
     "delete_cmd_postfix": ") ",
     "delete_cmd_prefix": "rm(",
     "library": "var_list.r",
     "varRefreshCmd": "cat(var_dic_list()) "
    }
   },
   "types_to_exclude": [
    "module",
    "function",
    "builtin_function_or_method",
    "instance",
    "_Feature"
   ],
   "window_display": false
  }
 },
 "nbformat": 4,
 "nbformat_minor": 5
}
