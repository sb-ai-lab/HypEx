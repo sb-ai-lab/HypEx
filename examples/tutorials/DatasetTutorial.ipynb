{
 "cells": [
  {
   "cell_type": "code",
   "execution_count": 1,
   "id": "initial_id",
   "metadata": {
    "ExecuteTime": {
     "end_time": "2024-08-30T12:52:58.733148Z",
     "start_time": "2024-08-30T12:52:56.669893Z"
    },
    "collapsed": true
   },
   "outputs": [],
   "source": [
    "import copy\n",
    "\n",
    "import pandas as pd\n",
    "\n",
    "from hypex.dataset.dataset import Dataset, ExperimentData\n",
    "from hypex.dataset.roles import FeatureRole, InfoRole, TargetRole"
   ]
  },
  {
   "cell_type": "markdown",
   "id": "17fbe750",
   "metadata": {},
   "source": [
    "# Dataset and ExperimentData tutorial\n",
    "\n",
    "In this tutorial, we will look on Dataset and ExperimentData classes. These are the key classes for working with data in Hypex. Their purpose to store the data, using one of the available backends (cuppently only pandas dataframe is available) and to provide the universal interface to it, in order to be able to access the data and to perform the basic operations to prepare it for the future experiments or analyses. "
   ]
  },
  {
   "cell_type": "markdown",
   "id": "82b5f1c13c905af3",
   "metadata": {},
   "source": [
    "# Table of contents:\n",
    "\n",
    "<ul>\n",
    "<li><a href=\"#create-dataset\">Create Dataset</a></li>\n",
    "<li><a href=\"#dataset-methods\">Dataset Methods</a></li>\n",
    "<li><a href=\"#create-experimentdata\">Create ExperimentData</a></li>\n",
    "</ul>"
   ]
  },
  {
   "cell_type": "markdown",
   "id": "1fab4946fe7c773d",
   "metadata": {},
   "source": [
    "## Create Dataset\n",
    "Initializes a new instance of the Dataset class from the data in one of the supported backends.\n",
    "\n",
    "Args:\n",
    "* __roles__: A dictionary mapping roles to their corresponding column names and types. Roles are used to mark up data by their intended purpose. There are different types of roles that have different meanings in different contexts.\n",
    "* __data__: The data to be used for the dataset. Can be either a pandas DataFrame or a file path. Defaults to None.\n",
    "* __backend__: The backend to be used for the dataset. Defaults to None, which is `pandas`.\n"
   ]
  },
  {
   "cell_type": "code",
   "execution_count": 2,
   "id": "9a7283d7",
   "metadata": {
    "ExecuteTime": {
     "end_time": "2024-08-30T12:52:59.513203Z",
     "start_time": "2024-08-30T12:52:58.739097Z"
    }
   },
   "outputs": [
    {
     "data": {
      "text/plain": [
       "Empty DataFrame\n",
       "Columns: []\n",
       "Index: []"
      ]
     },
     "execution_count": 2,
     "metadata": {},
     "output_type": "execute_result"
    }
   ],
   "source": [
    "ds = Dataset({'a': TargetRole(), 'b': TargetRole(float)})\n",
    "ds"
   ]
  },
  {
   "cell_type": "code",
   "execution_count": 3,
   "id": "d62d93cc5561f412",
   "metadata": {
    "ExecuteTime": {
     "end_time": "2024-08-30T12:53:00.021974Z",
     "start_time": "2024-08-30T12:52:59.517774Z"
    },
    "collapsed": false
   },
   "outputs": [
    {
     "data": {
      "text/plain": [
       "   a    b\n",
       "0  1  4.0\n",
       "1  2  5.0\n",
       "2  3  6.0"
      ]
     },
     "execution_count": 3,
     "metadata": {},
     "output_type": "execute_result"
    }
   ],
   "source": [
    "df = pd.DataFrame({'a': [1, 2, 3], 'b': [4, 5, 6]})\n",
    "\n",
    "ds = Dataset({'a': TargetRole(), 'b': TargetRole(float)}, data=df)\n",
    "ds"
   ]
  },
  {
   "cell_type": "code",
   "execution_count": 4,
   "id": "6546578e36d2522d",
   "metadata": {
    "ExecuteTime": {
     "end_time": "2024-08-30T12:53:00.802823Z",
     "start_time": "2024-08-30T12:53:00.031436Z"
    },
    "collapsed": false
   },
   "outputs": [
    {
     "data": {
      "text/plain": [
       "{'a': Target(<class 'int'>), 'b': Target(<class 'float'>)}"
      ]
     },
     "execution_count": 4,
     "metadata": {},
     "output_type": "execute_result"
    }
   ],
   "source": [
    "ds.roles"
   ]
  },
  {
   "cell_type": "markdown",
   "id": "90940f464fc1cfc4",
   "metadata": {},
   "source": [
    "#### Create empty\n",
    "Create an empty Dataset with same arguments as the Dataset constructor, but without any data. Additionally you can pass index to create empty Dataset with predefined indexes and size."
   ]
  },
  {
   "cell_type": "code",
   "execution_count": 5,
   "id": "2cb4974f8918f263",
   "metadata": {
    "ExecuteTime": {
     "end_time": "2024-08-30T12:53:01.581801Z",
     "start_time": "2024-08-30T12:53:00.807719Z"
    },
    "collapsed": false
   },
   "outputs": [
    {
     "data": {
      "text/plain": [
       "Empty DataFrame\n",
       "Columns: []\n",
       "Index: []"
      ]
     },
     "execution_count": 5,
     "metadata": {},
     "output_type": "execute_result"
    }
   ],
   "source": [
    "ds_empty = Dataset.create_empty()\n",
    "ds_empty"
   ]
  },
  {
   "cell_type": "code",
   "execution_count": 6,
   "id": "8e502633",
   "metadata": {
    "ExecuteTime": {
     "end_time": "2024-08-30T12:53:03.132467Z",
     "start_time": "2024-08-30T12:53:01.587305Z"
    }
   },
   "outputs": [
    {
     "data": {
      "text/plain": [
       "     a    b\n",
       "0  NaN  NaN\n",
       "1  NaN  NaN\n",
       "2  NaN  NaN\n",
       "3  NaN  NaN\n",
       "4  NaN  NaN\n",
       "5  NaN  NaN\n",
       "6  NaN  NaN"
      ]
     },
     "execution_count": 6,
     "metadata": {},
     "output_type": "execute_result"
    }
   ],
   "source": [
    "ds_empty = Dataset.create_empty(roles={'a': TargetRole(), 'b': TargetRole(float)}, index=range(7))\n",
    "ds_empty"
   ]
  },
  {
   "cell_type": "markdown",
   "id": "f84cc3be41f971cc",
   "metadata": {},
   "source": [
    "### Backend\n",
    "Backend in HypEx is the class that implements the data storage, navigation, transformation and calculation for the Dataset through the original framework. You can access it via `Dataset.backend` property. "
   ]
  },
  {
   "cell_type": "code",
   "execution_count": 7,
   "id": "c1e520dd",
   "metadata": {
    "ExecuteTime": {
     "end_time": "2024-08-30T12:53:03.933263Z",
     "start_time": "2024-08-30T12:53:03.137070Z"
    }
   },
   "outputs": [
    {
     "data": {
      "text/plain": [
       "hypex.dataset.backends.pandas_backend.PandasDataset"
      ]
     },
     "execution_count": 7,
     "metadata": {},
     "output_type": "execute_result"
    }
   ],
   "source": [
    "type(ds.backend)"
   ]
  },
  {
   "cell_type": "code",
   "execution_count": 8,
   "id": "fdcedbbf",
   "metadata": {
    "ExecuteTime": {
     "end_time": "2024-08-30T12:53:04.723057Z",
     "start_time": "2024-08-30T12:53:03.937998Z"
    }
   },
   "outputs": [
    {
     "data": {
      "text/plain": [
       "   a    b\n",
       "0  1  4.0\n",
       "1  2  5.0\n",
       "2  3  6.0"
      ]
     },
     "execution_count": 8,
     "metadata": {},
     "output_type": "execute_result"
    }
   ],
   "source": [
    "ds.backend"
   ]
  },
  {
   "cell_type": "markdown",
   "id": "7902bbc1",
   "metadata": {},
   "source": [
    "For accessing the data of the backend object, you can use `Dataset.data` property."
   ]
  },
  {
   "cell_type": "code",
   "execution_count": 9,
   "id": "fafc1d29ad660762",
   "metadata": {
    "ExecuteTime": {
     "end_time": "2024-08-30T12:53:05.503033Z",
     "start_time": "2024-08-30T12:53:04.728507Z"
    }
   },
   "outputs": [
    {
     "data": {
      "text/plain": [
       "pandas.core.frame.DataFrame"
      ]
     },
     "execution_count": 9,
     "metadata": {},
     "output_type": "execute_result"
    }
   ],
   "source": [
    "type(ds.data)"
   ]
  },
  {
   "cell_type": "code",
   "execution_count": 10,
   "id": "b04a8f4b",
   "metadata": {
    "ExecuteTime": {
     "end_time": "2024-08-30T12:53:06.283321Z",
     "start_time": "2024-08-30T12:53:05.513949Z"
    }
   },
   "outputs": [
    {
     "data": {
      "text/html": [
       "<div>\n",
       "<style scoped>\n",
       "    .dataframe tbody tr th:only-of-type {\n",
       "        vertical-align: middle;\n",
       "    }\n",
       "\n",
       "    .dataframe tbody tr th {\n",
       "        vertical-align: top;\n",
       "    }\n",
       "\n",
       "    .dataframe thead th {\n",
       "        text-align: right;\n",
       "    }\n",
       "</style>\n",
       "<table border=\"1\" class=\"dataframe\">\n",
       "  <thead>\n",
       "    <tr style=\"text-align: right;\">\n",
       "      <th></th>\n",
       "      <th>a</th>\n",
       "      <th>b</th>\n",
       "    </tr>\n",
       "  </thead>\n",
       "  <tbody>\n",
       "    <tr>\n",
       "      <th>0</th>\n",
       "      <td>1</td>\n",
       "      <td>4.0</td>\n",
       "    </tr>\n",
       "    <tr>\n",
       "      <th>1</th>\n",
       "      <td>2</td>\n",
       "      <td>5.0</td>\n",
       "    </tr>\n",
       "    <tr>\n",
       "      <th>2</th>\n",
       "      <td>3</td>\n",
       "      <td>6.0</td>\n",
       "    </tr>\n",
       "  </tbody>\n",
       "</table>\n",
       "</div>"
      ],
      "text/plain": [
       "   a    b\n",
       "0  1  4.0\n",
       "1  2  5.0\n",
       "2  3  6.0"
      ]
     },
     "execution_count": 10,
     "metadata": {},
     "output_type": "execute_result"
    }
   ],
   "source": [
    "ds.data"
   ]
  },
  {
   "cell_type": "markdown",
   "id": "dd883379f7d23af4",
   "metadata": {},
   "source": [
    "## Dataset Methods\n",
    "\n",
    "In the current version of HypEx, the available functions are based on the ones commonly used in Pandas, so most of the functions work the same way. Here we will focus on those features that are significantly different from Pandas."
   ]
  },
  {
   "cell_type": "markdown",
   "id": "8e5498236fa4d635",
   "metadata": {},
   "source": [
    "### From dict\n",
    "This static method allows you to create a Dataset object from a dict. This method works with two types of dicts."
   ]
  },
  {
   "cell_type": "markdown",
   "id": "495cf961",
   "metadata": {},
   "source": [
    "First way:"
   ]
  },
  {
   "cell_type": "code",
   "execution_count": 11,
   "id": "6bd53eb114a3facf",
   "metadata": {
    "ExecuteTime": {
     "end_time": "2024-08-30T12:53:07.063029Z",
     "start_time": "2024-08-30T12:53:06.288162Z"
    }
   },
   "outputs": [
    {
     "data": {
      "text/plain": [
       "   a  b\n",
       "0  1  3\n",
       "1  2  4"
      ]
     },
     "execution_count": 11,
     "metadata": {},
     "output_type": "execute_result"
    }
   ],
   "source": [
    "ds_from_dict = Dataset.from_dict({'a': [1, 2], 'b': [3, 4]}, {'a': TargetRole(), 'b': InfoRole()})\n",
    "ds_from_dict"
   ]
  },
  {
   "cell_type": "markdown",
   "id": "157c8c55",
   "metadata": {},
   "source": [
    "Second way:"
   ]
  },
  {
   "cell_type": "code",
   "execution_count": 12,
   "id": "1c14ccf4",
   "metadata": {
    "ExecuteTime": {
     "end_time": "2024-08-30T12:53:07.813263Z",
     "start_time": "2024-08-30T12:53:07.068140Z"
    }
   },
   "outputs": [
    {
     "data": {
      "text/plain": [
       "   a  b\n",
       "0  1  3\n",
       "1  2  4"
      ]
     },
     "execution_count": 12,
     "metadata": {},
     "output_type": "execute_result"
    }
   ],
   "source": [
    "ds_from_dict = Dataset.from_dict([{'a': 1, 'b': 3}, {'a': 2, 'b': 4}], {'a': TargetRole(), 'b': InfoRole()})\n",
    "ds_from_dict"
   ]
  },
  {
   "cell_type": "markdown",
   "id": "c380164d6b4e5a67",
   "metadata": {},
   "source": [
    "### Search Columns\n",
    "This method allows you to search columns in a Dataset object by their roles and data types."
   ]
  },
  {
   "cell_type": "code",
   "execution_count": 13,
   "id": "243c84fd545c9117",
   "metadata": {
    "ExecuteTime": {
     "end_time": "2024-08-30T12:53:08.059982Z",
     "start_time": "2024-08-30T12:53:07.821485Z"
    }
   },
   "outputs": [
    {
     "data": {
      "text/plain": [
       "['a']"
      ]
     },
     "execution_count": 13,
     "metadata": {},
     "output_type": "execute_result"
    }
   ],
   "source": [
    "columns_found = ds.search_columns(TargetRole(), search_types=[int])\n",
    "columns_found"
   ]
  },
  {
   "cell_type": "code",
   "execution_count": 14,
   "id": "994ca789a6524c3a",
   "metadata": {
    "ExecuteTime": {
     "end_time": "2024-08-30T12:53:08.843307Z",
     "start_time": "2024-08-30T12:53:08.065645Z"
    }
   },
   "outputs": [
    {
     "data": {
      "text/plain": [
       "   a\n",
       "0  1\n",
       "1  2\n",
       "2  3"
      ]
     },
     "execution_count": 14,
     "metadata": {},
     "output_type": "execute_result"
    }
   ],
   "source": [
    "ds[columns_found]"
   ]
  },
  {
   "cell_type": "markdown",
   "id": "6c17b629f2b0d853",
   "metadata": {},
   "source": [
    "### Replace roles\n",
    "\n",
    "This method allows assign new roles to specific columns or to replace old roles with the new ones entirely for all the columns which have that replaced role."
   ]
  },
  {
   "cell_type": "code",
   "execution_count": 15,
   "id": "8c9b8851cb9db849",
   "metadata": {
    "ExecuteTime": {
     "end_time": "2024-08-30T12:53:09.623343Z",
     "start_time": "2024-08-30T12:53:08.850301Z"
    }
   },
   "outputs": [
    {
     "data": {
      "text/plain": [
       "{'a': Target(<class 'int'>), 'b': Target(<class 'float'>)}"
      ]
     },
     "execution_count": 15,
     "metadata": {},
     "output_type": "execute_result"
    }
   ],
   "source": [
    "ds.roles"
   ]
  },
  {
   "cell_type": "code",
   "execution_count": 16,
   "id": "f8832121aa9df136",
   "metadata": {
    "ExecuteTime": {
     "end_time": "2024-08-30T12:53:10.143242Z",
     "start_time": "2024-08-30T12:53:09.628334Z"
    }
   },
   "outputs": [
    {
     "data": {
      "text/plain": [
       "{'a': Feature(<class 'int'>), 'b': Info(None)}"
      ]
     },
     "execution_count": 16,
     "metadata": {},
     "output_type": "execute_result"
    }
   ],
   "source": [
    "ds.replace_roles({\"a\": FeatureRole(int), \"b\": InfoRole()})\n",
    "ds.roles"
   ]
  },
  {
   "cell_type": "code",
   "execution_count": 17,
   "id": "70f84877f1627e32",
   "metadata": {
    "ExecuteTime": {
     "end_time": "2024-08-30T12:53:10.923232Z",
     "start_time": "2024-08-30T12:53:10.148679Z"
    }
   },
   "outputs": [
    {
     "data": {
      "text/plain": [
       "{'a': Target(None), 'b': Info(None)}"
      ]
     },
     "execution_count": 17,
     "metadata": {},
     "output_type": "execute_result"
    }
   ],
   "source": [
    "ds.replace_roles({FeatureRole(): TargetRole()})\n",
    "ds.roles"
   ]
  },
  {
   "cell_type": "code",
   "execution_count": 18,
   "id": "b164e6d8007d9b1d",
   "metadata": {
    "ExecuteTime": {
     "end_time": "2024-08-30T12:53:11.712996Z",
     "start_time": "2024-08-30T12:53:10.928631Z"
    }
   },
   "outputs": [
    {
     "data": {
      "text/plain": [
       "{'a': Target(<class 'int'>), 'b': Target(<class 'float'>)}"
      ]
     },
     "execution_count": 18,
     "metadata": {},
     "output_type": "execute_result"
    }
   ],
   "source": [
    "ds.replace_roles({\"a\": TargetRole(int), \"b\": TargetRole(float)})\n",
    "ds.roles"
   ]
  },
  {
   "cell_type": "markdown",
   "id": "51cd55cc07aa03a2",
   "metadata": {},
   "source": [
    "### Simple math methods"
   ]
  },
  {
   "cell_type": "code",
   "execution_count": 19,
   "id": "8ddda807bea6a4d0",
   "metadata": {
    "ExecuteTime": {
     "end_time": "2024-08-30T12:53:12.493427Z",
     "start_time": "2024-08-30T12:53:11.718336Z"
    }
   },
   "outputs": [
    {
     "data": {
      "text/plain": [
       "        a    b\n",
       "mean  2.0  5.0"
      ]
     },
     "execution_count": 19,
     "metadata": {},
     "output_type": "execute_result"
    }
   ],
   "source": [
    "ds.mean()"
   ]
  },
  {
   "cell_type": "code",
   "execution_count": 20,
   "id": "6c1f07840882c24",
   "metadata": {
    "ExecuteTime": {
     "end_time": "2024-08-30T12:53:13.283580Z",
     "start_time": "2024-08-30T12:53:12.498980Z"
    }
   },
   "outputs": [
    {
     "data": {
      "text/plain": [
       "       a  b\n",
       "count  3  3"
      ]
     },
     "execution_count": 20,
     "metadata": {},
     "output_type": "execute_result"
    }
   ],
   "source": [
    "ds.count()"
   ]
  },
  {
   "cell_type": "code",
   "execution_count": 21,
   "id": "9546b82c94140a3b",
   "metadata": {
    "ExecuteTime": {
     "end_time": "2024-08-30T12:53:14.043748Z",
     "start_time": "2024-08-30T12:53:13.289476Z"
    }
   },
   "outputs": [
    {
     "data": {
      "text/plain": [
       "          a         b\n",
       "0  0.000000  1.386294\n",
       "1  0.693147  1.609438\n",
       "2  1.098612  1.791759"
      ]
     },
     "execution_count": 21,
     "metadata": {},
     "output_type": "execute_result"
    }
   ],
   "source": [
    "ds.log()"
   ]
  },
  {
   "cell_type": "code",
   "execution_count": 22,
   "id": "d2a69656d09fda08",
   "metadata": {
    "ExecuteTime": {
     "end_time": "2024-08-30T12:53:14.313063Z",
     "start_time": "2024-08-30T12:53:14.050085Z"
    }
   },
   "outputs": [
    {
     "data": {
      "text/plain": [
       "     a  b\n",
       "min  1  4"
      ]
     },
     "execution_count": 22,
     "metadata": {},
     "output_type": "execute_result"
    }
   ],
   "source": [
    "ds.min()"
   ]
  },
  {
   "cell_type": "markdown",
   "id": "2e996a6fa66ee1a1",
   "metadata": {},
   "source": [
    "### Get items \n",
    "Getting items and navigating through the Dataset work in a very similar way as in Pandas. With the difference that the Dataset objects are always being returned."
   ]
  },
  {
   "cell_type": "code",
   "execution_count": 23,
   "id": "e156b5587bc08370",
   "metadata": {
    "ExecuteTime": {
     "end_time": "2024-08-30T12:53:14.823561Z",
     "start_time": "2024-08-30T12:53:14.317476Z"
    }
   },
   "outputs": [
    {
     "data": {
      "text/plain": [
       "     1\n",
       "a  2.0\n",
       "b  5.0"
      ]
     },
     "execution_count": 23,
     "metadata": {},
     "output_type": "execute_result"
    }
   ],
   "source": [
    "ds[1]"
   ]
  },
  {
   "cell_type": "code",
   "execution_count": 24,
   "id": "8973eeface0fac20",
   "metadata": {
    "ExecuteTime": {
     "end_time": "2024-08-30T12:53:16.390362Z",
     "start_time": "2024-08-30T12:53:14.828069Z"
    }
   },
   "outputs": [
    {
     "data": {
      "text/plain": [
       "   1\n",
       "a  2"
      ]
     },
     "execution_count": 24,
     "metadata": {},
     "output_type": "execute_result"
    }
   ],
   "source": [
    "ds['a'][1]"
   ]
  },
  {
   "cell_type": "code",
   "execution_count": 25,
   "id": "a7227bd576d1cc6d",
   "metadata": {
    "ExecuteTime": {
     "end_time": "2024-08-30T12:53:17.435116Z",
     "start_time": "2024-08-30T12:53:16.395775Z"
    }
   },
   "outputs": [
    {
     "data": {
      "text/plain": [
       "    a    b\n",
       "0 NaN  4.0\n",
       "1 NaN  NaN\n",
       "2 NaN  NaN"
      ]
     },
     "execution_count": 25,
     "metadata": {},
     "output_type": "execute_result"
    }
   ],
   "source": [
    "ds[ds[['a', 'b']] == 4]"
   ]
  },
  {
   "cell_type": "markdown",
   "id": "f99a9978",
   "metadata": {},
   "source": [
    "There is also a practical possibility to set data in this way, but it is limited and this is the wrong way. The main problem is that the markup of the new data is not defined, as indicated by the corresponding warning."
   ]
  },
  {
   "cell_type": "code",
   "execution_count": 26,
   "id": "a9cc2e4c",
   "metadata": {
    "ExecuteTime": {
     "end_time": "2024-08-30T12:53:17.942822Z",
     "start_time": "2024-08-30T12:53:17.442714Z"
    }
   },
   "outputs": [
    {
     "name": "stderr",
     "output_type": "stream",
     "text": [
      "/home/tony_katkov/job/HypEx/hypex/dataset/dataset.py:109: SyntaxWarning: Column must be added by using add_column method.\n",
      "  warnings.warn(\n"
     ]
    }
   ],
   "source": [
    "ds['c'] = [-3, -7, -9]"
   ]
  },
  {
   "cell_type": "markdown",
   "id": "49f7630956d01734",
   "metadata": {},
   "source": [
    "### Add column\n",
    "The correct way to add new columns to a Dataset object is to use the add_column method."
   ]
  },
  {
   "cell_type": "code",
   "execution_count": 27,
   "id": "9904c0182a9497ca",
   "metadata": {
    "ExecuteTime": {
     "end_time": "2024-08-30T12:53:18.722460Z",
     "start_time": "2024-08-30T12:53:17.948482Z"
    }
   },
   "outputs": [
    {
     "data": {
      "text/plain": [
       "   a    b  c\n",
       "0  1  4.0  7\n",
       "1  2  5.0  8\n",
       "2  3  6.0  9"
      ]
     },
     "execution_count": 27,
     "metadata": {},
     "output_type": "execute_result"
    }
   ],
   "source": [
    "ds.add_column([7, 8, 9], {'c': TargetRole(int)})\n",
    "ds"
   ]
  },
  {
   "cell_type": "markdown",
   "id": "d64ef20b59548deb",
   "metadata": {},
   "source": [
    "### Apply\n",
    "\n",
    "The Dataset apply function works similarly to the apply function in pandas library, but it requires additional information about the roles in the Dataset."
   ]
  },
  {
   "cell_type": "code",
   "execution_count": 28,
   "id": "fb1f19b7d8748ede",
   "metadata": {
    "ExecuteTime": {
     "end_time": "2024-08-30T12:53:19.003577Z",
     "start_time": "2024-08-30T12:53:18.734034Z"
    }
   },
   "outputs": [
    {
     "data": {
      "text/plain": [
       "   a     b     c\n",
       "0  1  16.0  49.0\n",
       "1  4  25.0  64.0\n",
       "2  9  36.0  81.0"
      ]
     },
     "execution_count": 28,
     "metadata": {},
     "output_type": "execute_result"
    }
   ],
   "source": [
    "ds.apply(lambda x: x ** 2 , role={'a': TargetRole(int), 'b': TargetRole(float), 'c': TargetRole(float)})"
   ]
  },
  {
   "cell_type": "markdown",
   "id": "e9587d50f5f8e9a6",
   "metadata": {},
   "source": [
    "### Group by\n",
    "\n",
    "Groupby method operates in 2 modes:\n",
    "\n",
    "- The first mode groups by fields and gets the agg function of the inner Dataset.\n",
    "- The second mode groups by fields and returns `Tuple[group_key, sub_dataset]`"
   ]
  },
  {
   "cell_type": "code",
   "execution_count": 29,
   "id": "298d0e9eb0e93232",
   "metadata": {
    "ExecuteTime": {
     "end_time": "2024-08-30T12:53:19.502367Z",
     "start_time": "2024-08-30T12:53:19.009364Z"
    }
   },
   "outputs": [
    {
     "data": {
      "text/plain": [
       "[(1,\n",
       "          a    b    c\n",
       "  mean  1.0  4.0  7.0),\n",
       " (2,\n",
       "          a    b    c\n",
       "  mean  2.0  5.0  8.0),\n",
       " (3,\n",
       "          a    b    c\n",
       "  mean  3.0  6.0  9.0)]"
      ]
     },
     "execution_count": 29,
     "metadata": {},
     "output_type": "execute_result"
    }
   ],
   "source": [
    "groups_func = ds.groupby('a', func='mean')\n",
    "groups_func"
   ]
  },
  {
   "cell_type": "code",
   "execution_count": 30,
   "id": "3692a9da2cca79fa",
   "metadata": {
    "ExecuteTime": {
     "end_time": "2024-08-30T12:53:20.282152Z",
     "start_time": "2024-08-30T12:53:19.508485Z"
    }
   },
   "outputs": [
    {
     "data": {
      "text/plain": [
       "[(1,\n",
       "     a    b  c\n",
       "  0  1  4.0  7),\n",
       " (2,\n",
       "     a    b  c\n",
       "  1  2  5.0  8),\n",
       " (3,\n",
       "     a    b  c\n",
       "  2  3  6.0  9)]"
      ]
     },
     "execution_count": 30,
     "metadata": {},
     "output_type": "execute_result"
    }
   ],
   "source": [
    "groups = ds.groupby('a')\n",
    "groups"
   ]
  },
  {
   "cell_type": "code",
   "execution_count": 31,
   "id": "676c931b395d054c",
   "metadata": {
    "ExecuteTime": {
     "end_time": "2024-08-30T12:53:21.062086Z",
     "start_time": "2024-08-30T12:53:20.287602Z"
    }
   },
   "outputs": [
    {
     "data": {
      "text/plain": [
       "[(1,\n",
       "          c\n",
       "  mean  7.0\n",
       "  var   NaN),\n",
       " (2,\n",
       "          c\n",
       "  mean  8.0\n",
       "  var   NaN),\n",
       " (3,\n",
       "          c\n",
       "  mean  9.0\n",
       "  var   NaN)]"
      ]
     },
     "execution_count": 31,
     "metadata": {},
     "output_type": "execute_result"
    }
   ],
   "source": [
    "groups_func_fields = ds.groupby('a', func=['mean', 'var'], fields_list='c')\n",
    "groups_func_fields"
   ]
  },
  {
   "cell_type": "markdown",
   "id": "afa4aae9e20280d7",
   "metadata": {},
   "source": [
    "### Transpose\n",
    "Specifics of the transpose function is that it resets the roles in the new Dataset, so the function has the argument `roles` to allow to set the new roles. Default is `roles=None`. In this case, all roles will be set to FeatureRole with the automatically identified data types."
   ]
  },
  {
   "cell_type": "code",
   "execution_count": 32,
   "id": "566e45ce7bb4be98",
   "metadata": {
    "ExecuteTime": {
     "end_time": "2024-08-30T12:53:21.323644Z",
     "start_time": "2024-08-30T12:53:21.068200Z"
    }
   },
   "outputs": [
    {
     "data": {
      "text/plain": [
       "   one    2  III\n",
       "a  1.0  2.0  3.0\n",
       "b  4.0  5.0  6.0\n",
       "c  7.0  8.0  9.0"
      ]
     },
     "execution_count": 32,
     "metadata": {},
     "output_type": "execute_result"
    }
   ],
   "source": [
    "ds.transpose({'one': FeatureRole(), '2': InfoRole(), 'III': InfoRole()})"
   ]
  },
  {
   "cell_type": "code",
   "execution_count": 33,
   "id": "52271a04f3e51084",
   "metadata": {
    "ExecuteTime": {
     "end_time": "2024-08-30T12:53:22.103446Z",
     "start_time": "2024-08-30T12:53:21.328970Z"
    }
   },
   "outputs": [
    {
     "data": {
      "text/plain": [
       "     0    1    2\n",
       "a  1.0  2.0  3.0\n",
       "b  4.0  5.0  6.0\n",
       "c  7.0  8.0  9.0"
      ]
     },
     "execution_count": 33,
     "metadata": {},
     "output_type": "execute_result"
    }
   ],
   "source": [
    "ds.transpose()"
   ]
  },
  {
   "cell_type": "code",
   "execution_count": 34,
   "id": "4ec26e50e3ed905f",
   "metadata": {
    "ExecuteTime": {
     "end_time": "2024-08-30T12:53:22.883676Z",
     "start_time": "2024-08-30T12:53:22.107590Z"
    }
   },
   "outputs": [
    {
     "data": {
      "text/plain": [
       "{0: Default(<class 'float'>),\n",
       " 1: Default(<class 'float'>),\n",
       " 2: Default(<class 'float'>)}"
      ]
     },
     "execution_count": 34,
     "metadata": {},
     "output_type": "execute_result"
    }
   ],
   "source": [
    "ds.transpose().roles"
   ]
  },
  {
   "cell_type": "code",
   "execution_count": 35,
   "id": "2278eb13",
   "metadata": {
    "ExecuteTime": {
     "end_time": "2024-08-30T12:53:23.663664Z",
     "start_time": "2024-08-30T12:53:22.888057Z"
    }
   },
   "outputs": [
    {
     "data": {
      "text/plain": [
       "   one    2  III\n",
       "a  1.0  2.0  3.0\n",
       "b  4.0  5.0  6.0\n",
       "c  7.0  8.0  9.0"
      ]
     },
     "execution_count": 35,
     "metadata": {},
     "output_type": "execute_result"
    }
   ],
   "source": [
    "ds.transpose(['one', '2', 'III'])"
   ]
  },
  {
   "cell_type": "markdown",
   "id": "ea33279e47df315f",
   "metadata": {},
   "source": [
    "### Shuffle\n",
    "Shuffles the rows of the dataset."
   ]
  },
  {
   "cell_type": "code",
   "execution_count": 47,
   "id": "49df742a55637972",
   "metadata": {
    "ExecuteTime": {
     "end_time": "2024-08-30T12:54:21.035691Z",
     "start_time": "2024-08-30T12:54:20.361414Z"
    }
   },
   "outputs": [
    {
     "data": {
      "text/plain": [
       "   a    b  c\n",
       "1  2  5.0  8\n",
       "0  1  4.0  7\n",
       "2  3  6.0  9"
      ]
     },
     "execution_count": 47,
     "metadata": {},
     "output_type": "execute_result"
    }
   ],
   "source": [
    "ds.sample(frac=1.0)"
   ]
  },
  {
   "cell_type": "markdown",
   "id": "49c3228070c35a20",
   "metadata": {},
   "source": [
    "### Replace\n",
    "The behaviour is similar to the one in Pandas, but the type requires to be set if changed."
   ]
  },
  {
   "cell_type": "code",
   "execution_count": 48,
   "id": "7fe184cb9855a4fe",
   "metadata": {
    "ExecuteTime": {
     "end_time": "2024-08-30T12:54:21.687207Z",
     "start_time": "2024-08-30T12:54:21.150583Z"
    }
   },
   "outputs": [
    {
     "data": {
      "text/plain": [
       "    a    b  c\n",
       "0   1  4.0  7\n",
       "1  15  5.0  8\n",
       "2   3  6.0  9"
      ]
     },
     "execution_count": 48,
     "metadata": {},
     "output_type": "execute_result"
    }
   ],
   "source": [
    "dsr = copy.deepcopy(ds)\n",
    "dsr.replace(2, 15)"
   ]
  },
  {
   "cell_type": "code",
   "execution_count": 49,
   "id": "3587ea17",
   "metadata": {
    "ExecuteTime": {
     "end_time": "2024-08-30T12:54:22.475723Z",
     "start_time": "2024-08-30T12:54:21.693001Z"
    }
   },
   "outputs": [
    {
     "data": {
      "text/plain": [
       "   a    b  c\n",
       "0  a  4.0  7\n",
       "1  2  5.0  8\n",
       "2  3  6.0  9"
      ]
     },
     "execution_count": 49,
     "metadata": {},
     "output_type": "execute_result"
    }
   ],
   "source": [
    "dsr.roles['a'] = TargetRole(str)\n",
    "dsr.replace(1, \"a\")"
   ]
  },
  {
   "cell_type": "markdown",
   "id": "a9ab1d759040d4c2",
   "metadata": {},
   "source": [
    "### Append\n",
    "Append method adds a new row to the end of the dataset."
   ]
  },
  {
   "cell_type": "code",
   "execution_count": 52,
   "id": "db7750a4a24492ef",
   "metadata": {
    "ExecuteTime": {
     "end_time": "2024-08-30T12:54:47.666808Z",
     "start_time": "2024-08-30T12:54:47.548215Z"
    },
    "collapsed": false
   },
   "outputs": [
    {
     "data": {
      "text/plain": [
       "   a    b  c\n",
       "0  1  4.0  7\n",
       "1  2  5.0  8\n",
       "2  3  6.0  9\n",
       "0  1  4.0  7\n",
       "1  2  5.0  8\n",
       "2  3  6.0  9"
      ]
     },
     "execution_count": 52,
     "metadata": {},
     "output_type": "execute_result"
    }
   ],
   "source": [
    "ds.append(ds)"
   ]
  },
  {
   "cell_type": "code",
   "execution_count": 53,
   "id": "178ab3b37a39a2f5",
   "metadata": {
    "ExecuteTime": {
     "end_time": "2024-08-30T12:54:48.596326Z",
     "start_time": "2024-08-30T12:54:48.004619Z"
    },
    "collapsed": false
   },
   "outputs": [
    {
     "data": {
      "text/plain": [
       "   a    b  c\n",
       "0  1  4.0  7\n",
       "1  2  5.0  8\n",
       "2  3  6.0  9"
      ]
     },
     "execution_count": 53,
     "metadata": {},
     "output_type": "execute_result"
    }
   ],
   "source": [
    "ds"
   ]
  },
  {
   "cell_type": "markdown",
   "id": "6228fd7283c1c424",
   "metadata": {
    "collapsed": false
   },
   "source": [
    "# Eperiment Data\n",
    "\n",
    "ExperimentData is the structure that contains several datasets, which form the data for the experiment. It contains: \n",
    "* `ds` - researched dataset\n",
    "* `additional_fields` - additional fields that may be added to the dataset by merge on index: column - is state id of executor\n",
    "* `variables` - the results of the executors that will be returned by once value: key - is state id of executor\n",
    "* `analysis_tables` - dictionary of tables from executors: key - is state id of executor, value - is table from executor\n",
    "* `groups` - cache of the data split for the optimisation of calculation"
   ]
  },
  {
   "cell_type": "code",
   "execution_count": 54,
   "id": "dc8b08a641e66fbe",
   "metadata": {
    "ExecuteTime": {
     "end_time": "2024-08-30T12:54:49.246901Z",
     "start_time": "2024-08-30T12:54:48.602678Z"
    },
    "collapsed": false
   },
   "outputs": [],
   "source": [
    "ed = ExperimentData(ds)"
   ]
  },
  {
   "cell_type": "code",
   "execution_count": 55,
   "id": "fa3fdeed",
   "metadata": {
    "ExecuteTime": {
     "end_time": "2024-08-30T12:54:50.036705Z",
     "start_time": "2024-08-30T12:54:49.253754Z"
    }
   },
   "outputs": [
    {
     "data": {
      "text/plain": [
       "   a    b  c\n",
       "0  1  4.0  7\n",
       "1  2  5.0  8\n",
       "2  3  6.0  9"
      ]
     },
     "execution_count": 55,
     "metadata": {},
     "output_type": "execute_result"
    }
   ],
   "source": [
    "ed.ds"
   ]
  },
  {
   "cell_type": "code",
   "execution_count": 56,
   "id": "0643ec77",
   "metadata": {
    "ExecuteTime": {
     "end_time": "2024-08-30T12:54:50.226800Z",
     "start_time": "2024-08-30T12:54:50.044176Z"
    }
   },
   "outputs": [
    {
     "data": {
      "text/plain": [
       "Empty DataFrame\n",
       "Columns: []\n",
       "Index: [0, 1, 2]"
      ]
     },
     "execution_count": 56,
     "metadata": {},
     "output_type": "execute_result"
    }
   ],
   "source": [
    "ed.additional_fields"
   ]
  },
  {
   "cell_type": "code",
   "execution_count": 57,
   "id": "017a0abe",
   "metadata": {
    "ExecuteTime": {
     "end_time": "2024-08-30T12:54:50.936834Z",
     "start_time": "2024-08-30T12:54:50.231757Z"
    }
   },
   "outputs": [
    {
     "data": {
      "text/plain": [
       "{}"
      ]
     },
     "execution_count": 57,
     "metadata": {},
     "output_type": "execute_result"
    }
   ],
   "source": [
    "ed.variables"
   ]
  },
  {
   "cell_type": "code",
   "execution_count": 58,
   "id": "6a76f93b",
   "metadata": {
    "ExecuteTime": {
     "end_time": "2024-08-30T12:54:51.186887Z",
     "start_time": "2024-08-30T12:54:50.941276Z"
    }
   },
   "outputs": [
    {
     "data": {
      "text/plain": [
       "{}"
      ]
     },
     "execution_count": 58,
     "metadata": {},
     "output_type": "execute_result"
    }
   ],
   "source": [
    "ed.analysis_tables"
   ]
  },
  {
   "cell_type": "code",
   "execution_count": 59,
   "id": "56d5362c",
   "metadata": {
    "ExecuteTime": {
     "end_time": "2024-08-30T12:54:51.580077Z",
     "start_time": "2024-08-30T12:54:51.191225Z"
    }
   },
   "outputs": [
    {
     "data": {
      "text/plain": [
       "{}"
      ]
     },
     "execution_count": 59,
     "metadata": {},
     "output_type": "execute_result"
    }
   ],
   "source": [
    "ed.groups"
   ]
  }
 ],
 "metadata": {
  "hide_input": false,
  "kernelspec": {
   "display_name": "Python 3 (ipykernel)",
   "language": "python",
   "name": "python3"
  },
  "language_info": {
   "codemirror_mode": {
    "name": "ipython",
    "version": 3
   },
   "file_extension": ".py",
   "mimetype": "text/x-python",
   "name": "python",
   "nbconvert_exporter": "python",
   "pygments_lexer": "ipython3",
   "version": "3.8.10"
  },
  "nbTranslate": {
   "displayLangs": [
    "*"
   ],
   "hotkey": "alt-t",
   "langInMainMenu": true,
   "sourceLang": "en",
   "targetLang": "fr",
   "useGoogleTranslate": true
  },
  "toc": {
   "base_numbering": 1,
   "nav_menu": {},
   "number_sections": true,
   "sideBar": true,
   "skip_h1_title": false,
   "title_cell": "Table of Contents",
   "title_sidebar": "Contents",
   "toc_cell": false,
   "toc_position": {},
   "toc_section_display": true,
   "toc_window_display": false
  },
  "varInspector": {
   "cols": {
    "lenName": 16,
    "lenType": 16,
    "lenVar": 40
   },
   "kernels_config": {
    "python": {
     "delete_cmd_postfix": "",
     "delete_cmd_prefix": "del ",
     "library": "var_list.py",
     "varRefreshCmd": "print(var_dic_list())"
    },
    "r": {
     "delete_cmd_postfix": ") ",
     "delete_cmd_prefix": "rm(",
     "library": "var_list.r",
     "varRefreshCmd": "cat(var_dic_list()) "
    }
   },
   "types_to_exclude": [
    "module",
    "function",
    "builtin_function_or_method",
    "instance",
    "_Feature"
   ],
   "window_display": false
  }
 },
 "nbformat": 4,
 "nbformat_minor": 5
}
